{
  "cells": [
    {
      "cell_type": "code",
      "execution_count": 1,
      "metadata": {
        "colab": {
          "base_uri": "https://localhost:8080/"
        },
        "id": "N9nSQwEgK6pP",
        "outputId": "31920b21-48cc-40e9-ada4-31a98af05ade"
      },
      "outputs": [
        {
          "name": "stdout",
          "output_type": "stream",
          "text": [
            "\u001b[2K     \u001b[90m━━━━━━━━━━━━━━━━━━━━━━━━━━━━━━━━━━━━━━━━\u001b[0m \u001b[32m8.8/8.8 MB\u001b[0m \u001b[31m46.7 MB/s\u001b[0m eta \u001b[36m0:00:00\u001b[0m\n",
            "\u001b[2K     \u001b[90m━━━━━━━━━━━━━━━━━━━━━━━━━━━━━━━━━━━━━━━━\u001b[0m \u001b[32m290.1/290.1 kB\u001b[0m \u001b[31m5.9 MB/s\u001b[0m eta \u001b[36m0:00:00\u001b[0m\n",
            "\u001b[2K     \u001b[90m━━━━━━━━━━━━━━━━━━━━━━━━━━━━━━━━━━━━━━━━\u001b[0m \u001b[32m23.7/23.7 MB\u001b[0m \u001b[31m46.5 MB/s\u001b[0m eta \u001b[36m0:00:00\u001b[0m\n",
            "\u001b[2K     \u001b[90m━━━━━━━━━━━━━━━━━━━━━━━━━━━━━━━━━━━━━━━━\u001b[0m \u001b[32m823.6/823.6 kB\u001b[0m \u001b[31m62.5 MB/s\u001b[0m eta \u001b[36m0:00:00\u001b[0m\n",
            "\u001b[2K     \u001b[90m━━━━━━━━━━━━━━━━━━━━━━━━━━━━━━━━━━━━━━━━\u001b[0m \u001b[32m14.1/14.1 MB\u001b[0m \u001b[31m66.4 MB/s\u001b[0m eta \u001b[36m0:00:00\u001b[0m\n",
            "\u001b[2K     \u001b[90m━━━━━━━━━━━━━━━━━━━━━━━━━━━━━━━━━━━━━━━━\u001b[0m \u001b[32m731.7/731.7 MB\u001b[0m \u001b[31m2.4 MB/s\u001b[0m eta \u001b[36m0:00:00\u001b[0m\n",
            "\u001b[2K     \u001b[90m━━━━━━━━━━━━━━━━━━━━━━━━━━━━━━━━━━━━━━━━\u001b[0m \u001b[32m410.6/410.6 MB\u001b[0m \u001b[31m1.3 MB/s\u001b[0m eta \u001b[36m0:00:00\u001b[0m\n",
            "\u001b[2K     \u001b[90m━━━━━━━━━━━━━━━━━━━━━━━━━━━━━━━━━━━━━━━━\u001b[0m \u001b[32m121.6/121.6 MB\u001b[0m \u001b[31m8.2 MB/s\u001b[0m eta \u001b[36m0:00:00\u001b[0m\n",
            "\u001b[2K     \u001b[90m━━━━━━━━━━━━━━━━━━━━━━━━━━━━━━━━━━━━━━━━\u001b[0m \u001b[32m56.5/56.5 MB\u001b[0m \u001b[31m15.1 MB/s\u001b[0m eta \u001b[36m0:00:00\u001b[0m\n",
            "\u001b[2K     \u001b[90m━━━━━━━━━━━━━━━━━━━━━━━━━━━━━━━━━━━━━━━━\u001b[0m \u001b[32m124.2/124.2 MB\u001b[0m \u001b[31m8.2 MB/s\u001b[0m eta \u001b[36m0:00:00\u001b[0m\n",
            "\u001b[2K     \u001b[90m━━━━━━━━━━━━━━━━━━━━━━━━━━━━━━━━━━━━━━━━\u001b[0m \u001b[32m196.0/196.0 MB\u001b[0m \u001b[31m6.6 MB/s\u001b[0m eta \u001b[36m0:00:00\u001b[0m\n",
            "\u001b[2K     \u001b[90m━━━━━━━━━━━━━━━━━━━━━━━━━━━━━━━━━━━━━━━━\u001b[0m \u001b[32m166.0/166.0 MB\u001b[0m \u001b[31m7.2 MB/s\u001b[0m eta \u001b[36m0:00:00\u001b[0m\n",
            "\u001b[2K     \u001b[90m━━━━━━━━━━━━━━━━━━━━━━━━━━━━━━━━━━━━━━━━\u001b[0m \u001b[32m99.1/99.1 kB\u001b[0m \u001b[31m11.9 MB/s\u001b[0m eta \u001b[36m0:00:00\u001b[0m\n",
            "\u001b[2K     \u001b[90m━━━━━━━━━━━━━━━━━━━━━━━━━━━━━━━━━━━━━━━━\u001b[0m \u001b[32m21.1/21.1 MB\u001b[0m \u001b[31m54.6 MB/s\u001b[0m eta \u001b[36m0:00:00\u001b[0m\n",
            "\u001b[2K     \u001b[90m━━━━━━━━━━━━━━━━━━━━━━━━━━━━━━━━━━━━━━━━\u001b[0m \u001b[32m102.2/102.2 MB\u001b[0m \u001b[31m9.9 MB/s\u001b[0m eta \u001b[36m0:00:00\u001b[0m\n",
            "\u001b[?25h"
          ]
        }
      ],
      "source": [
        "!pip install -q -U transformers\n",
        "!pip install -q -U accelerate\n",
        "!pip install -q -U bitsandbytes"
      ]
    },
    {
      "cell_type": "code",
      "execution_count": 2,
      "metadata": {
        "id": "axPjfVcrJGKn"
      },
      "outputs": [],
      "source": [
        "from pathlib import Path\n",
        "import pandas as pd\n",
        "\n",
        "from transformers import AutoTokenizer, AutoModelForCausalLM, BitsAndBytesConfig\n",
        "import torch\n",
        "import os\n",
        "from tqdm import tqdm\n",
        "import random"
      ]
    },
    {
      "cell_type": "markdown",
      "metadata": {
        "id": "CP7w77e5HTUb"
      },
      "source": [
        "## Read Data"
      ]
    },
    {
      "cell_type": "code",
      "execution_count": 3,
      "metadata": {
        "colab": {
          "base_uri": "https://localhost:8080/"
        },
        "id": "DSXOlAXOFINk",
        "outputId": "0bcbdc17-5296-4f60-8e24-d85f076ce43d"
      },
      "outputs": [
        {
          "name": "stdout",
          "output_type": "stream",
          "text": [
            "Mounted at /content/drive\n"
          ]
        }
      ],
      "source": [
        "# Run this cell if you are using Google Colaboratory\n",
        "\n",
        "# from google.colab import drive\n",
        "# drive.mount('/content/drive')\n",
        "\n",
        "# BASE_DIR = Path(\"/content/drive/MyDrive/{your_path}\")\n",
        "# DATA_DIR = BASE_DIR.joinpath(\"data\")   # Please upload the data_quality_estim.csv dataset to the data folder \n",
        "\n",
        "# FILE_NAME = \"data_topic_name_distrib.csv\"\n",
        "\n",
        "# FILE = DATA_DIR.joinpath(FILE_NAME)"
      ]
    },
    {
      "cell_type": "code",
      "execution_count": 3,
      "metadata": {},
      "outputs": [],
      "source": [
        "BASE_DIR = Path('Topic_Generation_Mistral_7B_v0_1_4bit.ipynb').resolve().parent.parent\n",
        "\n",
        "DATA_DIR_NAME = 'data/datasets'  # Local directory\n",
        "\n",
        "DATA_DIR = BASE_DIR.joinpath(DATA_DIR_NAME)\n",
        "FILE_NAME_QUAL = 'data_topic_name_distrib.csv'\n",
        "\n",
        "FILE = DATA_DIR.joinpath(FILE_NAME_QUAL)"
      ]
    },
    {
      "cell_type": "code",
      "execution_count": 4,
      "metadata": {
        "colab": {
          "base_uri": "https://localhost:8080/",
          "height": 363
        },
        "id": "gYkUIDzRI-yF",
        "outputId": "df401eac-fdf8-4c79-f971-a2aef328c9f0"
      },
      "outputs": [
        {
          "data": {
            "text/html": [
              "<div>\n",
              "<style scoped>\n",
              "    .dataframe tbody tr th:only-of-type {\n",
              "        vertical-align: middle;\n",
              "    }\n",
              "\n",
              "    .dataframe tbody tr th {\n",
              "        vertical-align: top;\n",
              "    }\n",
              "\n",
              "    .dataframe thead th {\n",
              "        text-align: right;\n",
              "    }\n",
              "</style>\n",
              "<table border=\"1\" class=\"dataframe\">\n",
              "  <thead>\n",
              "    <tr style=\"text-align: right;\">\n",
              "      <th></th>\n",
              "      <th>INPUT:wordset</th>\n",
              "      <th>OUTPUT:quality</th>\n",
              "      <th>OUTPUT:topic_name</th>\n",
              "      <th>topic_name_num</th>\n",
              "    </tr>\n",
              "  </thead>\n",
              "  <tbody>\n",
              "    <tr>\n",
              "      <th>0</th>\n",
              "      <td>able amaze fill stop glad daily fantastic move...</td>\n",
              "      <td>good</td>\n",
              "      <td>feelings</td>\n",
              "      <td>1</td>\n",
              "    </tr>\n",
              "    <tr>\n",
              "      <th>1</th>\n",
              "      <td>absolute mission church nasa mars earth truth ...</td>\n",
              "      <td>good</td>\n",
              "      <td>astrology</td>\n",
              "      <td>1</td>\n",
              "    </tr>\n",
              "    <tr>\n",
              "      <th>2</th>\n",
              "      <td>absolute mission church nasa mars earth truth ...</td>\n",
              "      <td>good</td>\n",
              "      <td>nasa</td>\n",
              "      <td>1</td>\n",
              "    </tr>\n",
              "    <tr>\n",
              "      <th>3</th>\n",
              "      <td>absolute mission church nasa mars earth truth ...</td>\n",
              "      <td>good</td>\n",
              "      <td>space</td>\n",
              "      <td>1</td>\n",
              "    </tr>\n",
              "    <tr>\n",
              "      <th>4</th>\n",
              "      <td>absolute mission church nasa mars earth truth ...</td>\n",
              "      <td>good</td>\n",
              "      <td>space mission</td>\n",
              "      <td>1</td>\n",
              "    </tr>\n",
              "    <tr>\n",
              "      <th>5</th>\n",
              "      <td>absolutely fast white rice service noodle terr...</td>\n",
              "      <td>good</td>\n",
              "      <td>customer experience</td>\n",
              "      <td>1</td>\n",
              "    </tr>\n",
              "    <tr>\n",
              "      <th>6</th>\n",
              "      <td>absolutely fast white super service customer r...</td>\n",
              "      <td>good</td>\n",
              "      <td>express expedition</td>\n",
              "      <td>1</td>\n",
              "    </tr>\n",
              "    <tr>\n",
              "      <th>7</th>\n",
              "      <td>absolutely fast white super service customer r...</td>\n",
              "      <td>good</td>\n",
              "      <td>online shopping</td>\n",
              "      <td>2</td>\n",
              "    </tr>\n",
              "    <tr>\n",
              "      <th>8</th>\n",
              "      <td>absolutely fast white super service customer r...</td>\n",
              "      <td>good</td>\n",
              "      <td>review</td>\n",
              "      <td>1</td>\n",
              "    </tr>\n",
              "    <tr>\n",
              "      <th>9</th>\n",
              "      <td>absolutely grain there's process terrible expe...</td>\n",
              "      <td>good</td>\n",
              "      <td>comment</td>\n",
              "      <td>1</td>\n",
              "    </tr>\n",
              "  </tbody>\n",
              "</table>\n",
              "</div>"
            ],
            "text/plain": [
              "                                       INPUT:wordset OUTPUT:quality  \\\n",
              "0  able amaze fill stop glad daily fantastic move...           good   \n",
              "1  absolute mission church nasa mars earth truth ...           good   \n",
              "2  absolute mission church nasa mars earth truth ...           good   \n",
              "3  absolute mission church nasa mars earth truth ...           good   \n",
              "4  absolute mission church nasa mars earth truth ...           good   \n",
              "5  absolutely fast white rice service noodle terr...           good   \n",
              "6  absolutely fast white super service customer r...           good   \n",
              "7  absolutely fast white super service customer r...           good   \n",
              "8  absolutely fast white super service customer r...           good   \n",
              "9  absolutely grain there's process terrible expe...           good   \n",
              "\n",
              "     OUTPUT:topic_name  topic_name_num  \n",
              "0             feelings               1  \n",
              "1           astrology                1  \n",
              "2                 nasa               1  \n",
              "3                space               1  \n",
              "4       space mission                1  \n",
              "5  customer experience               1  \n",
              "6   express expedition               1  \n",
              "7      online shopping               2  \n",
              "8               review               1  \n",
              "9              comment               1  "
            ]
          },
          "execution_count": 4,
          "metadata": {},
          "output_type": "execute_result"
        }
      ],
      "source": [
        "data = pd.read_csv(FILE)\n",
        "data.head(10)"
      ]
    },
    {
      "cell_type": "code",
      "execution_count": 5,
      "metadata": {
        "colab": {
          "base_uri": "https://localhost:8080/"
        },
        "id": "J-OMbDNbJQBi",
        "outputId": "f8180c6c-4238-4a9f-d604-85c486599507"
      },
      "outputs": [
        {
          "name": "stdout",
          "output_type": "stream",
          "text": [
            "<class 'pandas.core.frame.DataFrame'>\n",
            "RangeIndex: 5766 entries, 0 to 5765\n",
            "Data columns (total 4 columns):\n",
            " #   Column             Non-Null Count  Dtype \n",
            "---  ------             --------------  ----- \n",
            " 0   INPUT:wordset      5766 non-null   object\n",
            " 1   OUTPUT:quality     5766 non-null   object\n",
            " 2   OUTPUT:topic_name  5766 non-null   object\n",
            " 3   topic_name_num     5766 non-null   int64 \n",
            "dtypes: int64(1), object(3)\n",
            "memory usage: 180.3+ KB\n"
          ]
        }
      ],
      "source": [
        "data.info()"
      ]
    },
    {
      "cell_type": "code",
      "execution_count": 6,
      "metadata": {
        "id": "XDrtpbLSk8KJ"
      },
      "outputs": [],
      "source": [
        "data_text = list(set(data[\"INPUT:wordset\"]))"
      ]
    },
    {
      "cell_type": "code",
      "execution_count": 7,
      "metadata": {
        "colab": {
          "base_uri": "https://localhost:8080/"
        },
        "id": "ARNN9pT_J1zB",
        "outputId": "e44ef4b8-f3c1-4892-9a38-05bd38f63a9b"
      },
      "outputs": [
        {
          "name": "stdout",
          "output_type": "stream",
          "text": [
            "Wed Apr  3 19:30:39 2024       \n",
            "+---------------------------------------------------------------------------------------+\n",
            "| NVIDIA-SMI 535.104.05             Driver Version: 535.104.05   CUDA Version: 12.2     |\n",
            "|-----------------------------------------+----------------------+----------------------+\n",
            "| GPU  Name                 Persistence-M | Bus-Id        Disp.A | Volatile Uncorr. ECC |\n",
            "| Fan  Temp   Perf          Pwr:Usage/Cap |         Memory-Usage | GPU-Util  Compute M. |\n",
            "|                                         |                      |               MIG M. |\n",
            "|=========================================+======================+======================|\n",
            "|   0  Tesla T4                       Off | 00000000:00:04.0 Off |                    0 |\n",
            "| N/A   44C    P8               9W /  70W |      0MiB / 15360MiB |      0%      Default |\n",
            "|                                         |                      |                  N/A |\n",
            "+-----------------------------------------+----------------------+----------------------+\n",
            "                                                                                         \n",
            "+---------------------------------------------------------------------------------------+\n",
            "| Processes:                                                                            |\n",
            "|  GPU   GI   CI        PID   Type   Process name                            GPU Memory |\n",
            "|        ID   ID                                                             Usage      |\n",
            "|=======================================================================================|\n",
            "|  No running processes found                                                           |\n",
            "+---------------------------------------------------------------------------------------+\n"
          ]
        }
      ],
      "source": [
        "!nvidia-smi"
      ]
    },
    {
      "cell_type": "code",
      "execution_count": 8,
      "metadata": {
        "id": "noaGisbuWDIk"
      },
      "outputs": [],
      "source": [
        "# Check if cuda is available\n",
        "assert torch.cuda.is_available(), \"Cuda is not available, you cannot use the quantized version of the Mistral model without a GPU!\""
      ]
    },
    {
      "cell_type": "code",
      "execution_count": 9,
      "metadata": {
        "id": "cEyO6R4jbvJO"
      },
      "outputs": [],
      "source": [
        "bnb_config = BitsAndBytesConfig(\n",
        "    load_in_4bit=True,\n",
        "    bnb_4bit_quant_type=\"nf4\",\n",
        "    bnb_4bit_use_double_quant=True,\n",
        ")"
      ]
    },
    {
      "cell_type": "code",
      "execution_count": 10,
      "metadata": {
        "colab": {
          "base_uri": "https://localhost:8080/",
          "height": 510,
          "referenced_widgets": [
            "3966e2a36de74b85bbe0eedb0d95c743",
            "033aecb6f5344b0989c814a4993df0a3",
            "9e1f64f95c934d6783cfe40cc9b0e460",
            "62f13a4957d0435e8e41fcd31db19e59",
            "4cd4974bcb9b4460a4af6146ea47e1b3",
            "a12ebe6eeb5d4eadb80ed3ebc2ca1ac5",
            "59f704a9bef34cb985431add304bd251",
            "db5dd9f5278f492d9dfc4a44a68336d4",
            "7e2e7e178a3c4643b10cc7ae50f65e0a",
            "ab0ac70bd9aa4878b51b69ee95c8042b",
            "0aca3844e3bd4fc39407fabe20d36a7a",
            "261c8877b0ad4284be37b87f54540ef5",
            "2104cc957cdc452f8302b13a605ac296",
            "d2d6137dc04d4af3b7329f89e092e96f",
            "750885cda80144888723ac8c596c0a6e",
            "399aef908e8248d79d654de1b6f0e5fa",
            "c04819e0c5c846709d7af71d41afe673",
            "fbba34e10e974193a3ef04e70f50eb09",
            "3b26d0c3c8204af99ea53d36428f207c",
            "671efe3eef0145679bd23557bbd919b1",
            "4df930805146489ea8ceab090e439529",
            "af34c22f88f94255afaa548ae191ea3c",
            "16b3dd03b21a4080ab8924a024afe4b2",
            "1a72fca76fa3448492b8a112560d6a6c",
            "f107f27928334cd09a67e6c88096dc32",
            "77538c58255045a5ba516e3a28b5f313",
            "8547ffffb4264ff1ad0ed505152ffe87",
            "7899d81c2ff342e9ba04eba7814eb29c",
            "fcbfc7643ad742b6a70ea262eb789e72",
            "66e04be621704991af51d28656b1f7b7",
            "bbeb3e1612554d548b03c8b90e710e3b",
            "3c49717850774a168833d383b27c8775",
            "5cc40c50e2db47b39e6b3444189b2371",
            "ca863ef3f4354133890131e0658f1876",
            "a621bead1cd8433d83dd4d7c2529579c",
            "e57a7006e8be4634bd258a4a6801c6d1",
            "71d3b4c742824f1ab2226acb1016d6c0",
            "7c666062ff154077a47cc96edab70cdf",
            "0c2cd2e7f78945dab68d4134b09faa69",
            "9f4061626f764c1e8db9c47513a6632c",
            "aef8031d695c4a2a8279f2db92f655f6",
            "6986aab367554c64ae50fa969e7fdb8a",
            "37d97c0515dc464981092ed37b6ede5b",
            "d0f6de039e8d4b7ca651f63b8e60a8df",
            "17b1bdf91b114b8c901a2f7acc323dff",
            "b47fd383d77d4a82b5bc94a3a87b6a7e",
            "b858df0e703149aa8a54c99c9438681f",
            "2999fb7d8d804b378987f402948e02e8",
            "f04436414d214bd8abc42a81fd19d3cd",
            "b4cdc57438424bfdb3b2bd2d3191124c",
            "c100917ec3434a50832a6d3abad0e338",
            "d7f5ff2d0405484c8ee04b162def5fa6",
            "dad86fcb97ea4eb798dffd8d363621b8",
            "42bfbb386178490488296f012f49e882",
            "984b7b19810b47f8bfcec553212d7e5e",
            "d930e9b6687543048149174349f4eb1d",
            "5a4adef4a4304c1299fbe7930d930295",
            "de849765ed9e43b380ea41b435ee1d27",
            "7a94b185d62e48fa8ad895a46f9d2240",
            "2eeda9dbc9b848d3ab57598737c411b0",
            "a086f3490c9d474ba6111e1677e65a18",
            "d56d18adf4c445539ac8ef375263de2b",
            "6bb0f09905ca41b1aa5cffdedde099ea",
            "5c5d7dabc02a48c8874239122d324bf3",
            "5b5ca573ccd2448eb23d79420f67f5a8",
            "1294844a581f42ffb98c4e68c614bbda",
            "f07766daa6094e4a9689ed839a4eca0e",
            "0b756d13ff9447aca46304a66c9e758d",
            "28c8aad92a2547bfb1b8a35c0d822ba6",
            "92d2775a92314d318fe87b90fa7e91a8",
            "378bb28bd7b94d1caa0a26135020cc1d",
            "11892bac65d94d7cb9ea4a2a148a1f25",
            "441b5d049022434eb3bdab5d4bf8e681",
            "497db805d88e4c29ad1904c666e225dd",
            "dea2e50ae48440249255af8a68feebe9",
            "4686665463da47bd8bedfd6e02a6cc9d",
            "4da9a9c79a9c4a4492c9adc676b94f36",
            "ed734d1b7f3044d6a0876eb7d59258de",
            "0e89db0ae5384582a3c020b6a66ea90e",
            "d25d7187362344de923835c089d623e6",
            "cff1bc1a54ca4d38afeb38f9a0e39215",
            "be52c5d6b5b34d579e27398248523714",
            "2fcf21e6967845dc9919f1bf18cf95b5",
            "699fceba4f69494d9880c7ae966fe09e",
            "ec5ceaf871b343b6b2f30a619998392d",
            "75ca511ebe16412890031441f6618d7d",
            "8417fde9d7304c39943a12817b338db1",
            "41e890bdbdd64d2eb3aa70b5aeeae910",
            "317af1918dfd4b398a6d74172e9f8fd6",
            "96c9396cfb5648a9b64511c7880fab6b",
            "a08251b226c54740b712c922f0198e3f",
            "efa1df85c22540ddac5bf931000a25a8",
            "78ccc0f0cc054484bbd5fcaac9242b33",
            "5d28a0e8118e4fa38e1ecd7547997f40",
            "8f16b0bc2eb848d4ae60c6a83e925c8b",
            "dccae342f35a4c3fb99e6d4093c0e23b",
            "a3b9136a604b4accae81dffa16b3ab39",
            "c4835c33a5b14e038f3d73be80d0f19d",
            "e641ddb9231a4898aafbebdd6d399e0c",
            "95062d6a929f4fd88fdfdbbf1fc4fa8c",
            "956f974e9b184baea87060c0f9ac64bf",
            "be1d6c54d70b4032833ddd9eeca4deaa",
            "5d679bf6dccc4a81a2ec99bf925dda84",
            "cc3fdb850bd44360979af65db15a32d6",
            "d780d57608c543e795d480f1d35a75e1",
            "b6b89848d37e496d82727af347463285",
            "03a22e0496b44d5d887faa66d51eb87c",
            "0613a8ca958e431096f5270c3e0c0678",
            "06bb0e127b664c6d9df045c231a2752b",
            "0688714b9d0440a6800b3a9ece3aca8a",
            "e4037238a0dc4cbab4573699c12c7744",
            "0190893a604240d4bf716fe501f4f6d4",
            "14908dbf58494703bd3d5897a5484550",
            "3b6e5e9661f846d8a95275bf0bb76030",
            "c7e8087aabaa4c16b042cbe5c0fca02a",
            "c2d24cd0db2248d88b4720f1ecda96ce",
            "3b4180fbe3224530872cdb62f705f112",
            "bcd4856c327a4dfe8525998130896c24",
            "4ac0468ea487445aa9da7b59ecc31034",
            "55f42be464b9471fb1064b7fcb998c5b",
            "7a1516e018494c8fa9d4a9b5377d7662"
          ]
        },
        "id": "LjiaELYRcANF",
        "outputId": "c1fd2347-3350-472d-d562-68876312908d"
      },
      "outputs": [
        {
          "name": "stderr",
          "output_type": "stream",
          "text": [
            "/usr/local/lib/python3.10/dist-packages/huggingface_hub/utils/_token.py:88: UserWarning: \n",
            "The secret `HF_TOKEN` does not exist in your Colab secrets.\n",
            "To authenticate with the Hugging Face Hub, create a token in your settings tab (https://huggingface.co/settings/tokens), set it as secret in your Google Colab and restart your session.\n",
            "You will be able to reuse this secret in all of your notebooks.\n",
            "Please note that authentication is recommended but still optional to access public models or datasets.\n",
            "  warnings.warn(\n"
          ]
        },
        {
          "data": {
            "application/vnd.jupyter.widget-view+json": {
              "model_id": "3966e2a36de74b85bbe0eedb0d95c743",
              "version_major": 2,
              "version_minor": 0
            },
            "text/plain": [
              "tokenizer_config.json:   0%|          | 0.00/1.47k [00:00<?, ?B/s]"
            ]
          },
          "metadata": {},
          "output_type": "display_data"
        },
        {
          "data": {
            "application/vnd.jupyter.widget-view+json": {
              "model_id": "261c8877b0ad4284be37b87f54540ef5",
              "version_major": 2,
              "version_minor": 0
            },
            "text/plain": [
              "tokenizer.model:   0%|          | 0.00/493k [00:00<?, ?B/s]"
            ]
          },
          "metadata": {},
          "output_type": "display_data"
        },
        {
          "data": {
            "application/vnd.jupyter.widget-view+json": {
              "model_id": "16b3dd03b21a4080ab8924a024afe4b2",
              "version_major": 2,
              "version_minor": 0
            },
            "text/plain": [
              "tokenizer.json:   0%|          | 0.00/1.80M [00:00<?, ?B/s]"
            ]
          },
          "metadata": {},
          "output_type": "display_data"
        },
        {
          "data": {
            "application/vnd.jupyter.widget-view+json": {
              "model_id": "ca863ef3f4354133890131e0658f1876",
              "version_major": 2,
              "version_minor": 0
            },
            "text/plain": [
              "special_tokens_map.json:   0%|          | 0.00/72.0 [00:00<?, ?B/s]"
            ]
          },
          "metadata": {},
          "output_type": "display_data"
        },
        {
          "data": {
            "application/vnd.jupyter.widget-view+json": {
              "model_id": "17b1bdf91b114b8c901a2f7acc323dff",
              "version_major": 2,
              "version_minor": 0
            },
            "text/plain": [
              "config.json:   0%|          | 0.00/571 [00:00<?, ?B/s]"
            ]
          },
          "metadata": {},
          "output_type": "display_data"
        },
        {
          "name": "stderr",
          "output_type": "stream",
          "text": [
            "`low_cpu_mem_usage` was None, now set to True since model is quantized.\n"
          ]
        },
        {
          "data": {
            "application/vnd.jupyter.widget-view+json": {
              "model_id": "d930e9b6687543048149174349f4eb1d",
              "version_major": 2,
              "version_minor": 0
            },
            "text/plain": [
              "model.safetensors.index.json:   0%|          | 0.00/25.1k [00:00<?, ?B/s]"
            ]
          },
          "metadata": {},
          "output_type": "display_data"
        },
        {
          "data": {
            "application/vnd.jupyter.widget-view+json": {
              "model_id": "f07766daa6094e4a9689ed839a4eca0e",
              "version_major": 2,
              "version_minor": 0
            },
            "text/plain": [
              "Downloading shards:   0%|          | 0/2 [00:00<?, ?it/s]"
            ]
          },
          "metadata": {},
          "output_type": "display_data"
        },
        {
          "data": {
            "application/vnd.jupyter.widget-view+json": {
              "model_id": "ed734d1b7f3044d6a0876eb7d59258de",
              "version_major": 2,
              "version_minor": 0
            },
            "text/plain": [
              "model-00001-of-00002.safetensors:   0%|          | 0.00/9.94G [00:00<?, ?B/s]"
            ]
          },
          "metadata": {},
          "output_type": "display_data"
        },
        {
          "data": {
            "application/vnd.jupyter.widget-view+json": {
              "model_id": "317af1918dfd4b398a6d74172e9f8fd6",
              "version_major": 2,
              "version_minor": 0
            },
            "text/plain": [
              "model-00002-of-00002.safetensors:   0%|          | 0.00/4.54G [00:00<?, ?B/s]"
            ]
          },
          "metadata": {},
          "output_type": "display_data"
        },
        {
          "data": {
            "application/vnd.jupyter.widget-view+json": {
              "model_id": "95062d6a929f4fd88fdfdbbf1fc4fa8c",
              "version_major": 2,
              "version_minor": 0
            },
            "text/plain": [
              "Loading checkpoint shards:   0%|          | 0/2 [00:00<?, ?it/s]"
            ]
          },
          "metadata": {},
          "output_type": "display_data"
        },
        {
          "data": {
            "application/vnd.jupyter.widget-view+json": {
              "model_id": "e4037238a0dc4cbab4573699c12c7744",
              "version_major": 2,
              "version_minor": 0
            },
            "text/plain": [
              "generation_config.json:   0%|          | 0.00/116 [00:00<?, ?B/s]"
            ]
          },
          "metadata": {},
          "output_type": "display_data"
        }
      ],
      "source": [
        "model_name = \"mistralai/Mistral-7B-Instruct-v0.1\"\n",
        "\n",
        "tokenizer = AutoTokenizer.from_pretrained(model_name)\n",
        "model = AutoModelForCausalLM.from_pretrained(\n",
        "        model_name,\n",
        "        quantization_config=bnb_config,\n",
        "    )"
      ]
    },
    {
      "cell_type": "markdown",
      "metadata": {
        "id": "vXa7iTmyo5F2"
      },
      "source": [
        "## Pipeline of the Inference"
      ]
    },
    {
      "cell_type": "code",
      "execution_count": 11,
      "metadata": {
        "id": "fFhnoZY8wUXl"
      },
      "outputs": [],
      "source": [
        "def generate_answer(prompt, model, device, temp, n_token):\n",
        "    encoded = tokenizer(prompt, return_tensors=\"pt\", add_special_tokens=False)\n",
        "    model_input = encoded\n",
        "    model_input = model_input.to(device)\n",
        "    generated_ids = model.generate(\n",
        "        **model_input, do_sample=True,\n",
        "        max_new_tokens=n_token,\n",
        "        temperature=temp,\n",
        "        num_return_sequences=1,\n",
        "        pad_token_id=tokenizer.eos_token_id\n",
        "        )\n",
        "    decoded = tokenizer.batch_decode(generated_ids)\n",
        "\n",
        "    return decoded"
      ]
    },
    {
      "cell_type": "code",
      "execution_count": 12,
      "metadata": {
        "id": "jmTdZzbYT7XF"
      },
      "outputs": [],
      "source": [
        "def extract_substring(input_string):\n",
        "    index = input_string.find(\"[/INST]\")\n",
        "    if index != -1:\n",
        "        return input_string[index + len(\"[/INST]\"):]\n",
        "    else:\n",
        "        return \"\""
      ]
    },
    {
      "cell_type": "code",
      "execution_count": 41,
      "metadata": {
        "id": "ptf5_oSdO08X"
      },
      "outputs": [],
      "source": [
        "def few_shot_pipeline(\n",
        "        instruction,\n",
        "        sample,\n",
        "        model,\n",
        "        device='cpu',\n",
        "        temp=0.1,\n",
        "        n_token=100,\n",
        "        print_system_prompt=False,\n",
        "        save_system_prompt=False\n",
        "        ):\n",
        "\n",
        "    # Construct prompt\n",
        "    prompt = f\"\"\"<s> [INST] {instruction} \\nText: {sample}\\nTopic: [/INST]\"\"\"\n",
        "    if print_system_prompt:\n",
        "        print(prompt)\n",
        "    # Generate answer\n",
        "    answer = generate_answer(prompt, model, device, temp, n_token)\n",
        "    # Extract the result\n",
        "    if save_system_prompt:\n",
        "        result = answer[0]\n",
        "    else:\n",
        "        result = extract_substring(answer[0])\n",
        "    return result.replace(\"\\n\", \" \")\n"
      ]
    },
    {
      "cell_type": "markdown",
      "metadata": {
        "id": "KFiHQV7OXvdW"
      },
      "source": [
        "## Prompt Engineering"
      ]
    },
    {
      "cell_type": "markdown",
      "metadata": {
        "id": "lPYXOZue-rA3"
      },
      "source": [
        "#### Type I. 3-shot Chain-of-Thought"
      ]
    },
    {
      "cell_type": "code",
      "execution_count": 42,
      "metadata": {
        "colab": {
          "base_uri": "https://localhost:8080/"
        },
        "id": "Zje12K16oRG-",
        "outputId": "5481cbbc-619d-4e6b-cb7a-db8624a2f70b"
      },
      "outputs": [
        {
          "name": "stdout",
          "output_type": "stream",
          "text": [
            "<s>  [INST] Name the common topic with one or few words.\n",
            "Text: absolute mission church nasa mars earth truth lunar shuttle doug telescope symbol planetary libxmu launch\n",
            "Topic: space\n",
            "Text: anonymous public private news crime server religion carry pretty bill cview internet paul hold thought\n",
            "Topic: news\n",
            "Text: apple mouse robert fast processor speed move slow clock week pretty microsoft music chicago jason\n",
            "Topic: [/INST] Technology</s>\n"
          ]
        }
      ],
      "source": [
        "prompt = \"\"\"<s> [INST] Name the common topic with one or few words.\n",
        "Text: absolute mission church nasa mars earth truth lunar shuttle doug telescope symbol planetary libxmu launch\n",
        "Topic: space\n",
        "Text: anonymous public private news crime server religion carry pretty bill cview internet paul hold thought\n",
        "Topic: news\n",
        "Text: apple mouse robert fast processor speed move slow clock week pretty microsoft music chicago jason\n",
        "Topic: [/INST]\"\"\"\n",
        "\n",
        "answer = generate_answer(prompt, model, 'cuda', temp=0.2, n_token=100)\n",
        "\n",
        "print(answer[0])\n"
      ]
    },
    {
      "cell_type": "markdown",
      "metadata": {
        "id": "DaMUdsbUYWDw"
      },
      "source": [
        "Conclusion: The model provides an answer in the required format, this prompt can be used for further research"
      ]
    },
    {
      "cell_type": "markdown",
      "metadata": {
        "id": "hTZMF6JuZaOX"
      },
      "source": [
        "#### Type II. 3-shot Chain-of-Thought"
      ]
    },
    {
      "cell_type": "code",
      "execution_count": 18,
      "metadata": {
        "colab": {
          "base_uri": "https://localhost:8080/"
        },
        "id": "yft8FRkl1urx",
        "outputId": "c007442b-8ece-49ce-d522-18be1d415c09"
      },
      "outputs": [
        {
          "name": "stdout",
          "output_type": "stream",
          "text": [
            "<s>  [INST] Name the common topic with one or few words. Please, make sure you to only return the topic and nothing more.\n",
            "Text: absolute mission church nasa mars earth truth lunar shuttle doug telescope symbol planetary libxmu launch\n",
            "Topic: space\n",
            "Text: anonymous public private news crime server religion carry pretty bill cview internet paul hold thought\n",
            "Topic: news\n",
            "Text: apple mouse robert fast processor speed move slow clock week pretty microsoft music chicago jason\n",
            "Topic: [/INST] space, news, technology</s>\n"
          ]
        }
      ],
      "source": [
        "prompt = \"\"\"<s> [INST] Name the common topic with one or few words. Please, make sure you to only return the topic and nothing more.\n",
        "Text: absolute mission church nasa mars earth truth lunar shuttle doug telescope symbol planetary libxmu launch\n",
        "Topic: space\n",
        "Text: anonymous public private news crime server religion carry pretty bill cview internet paul hold thought\n",
        "Topic: news\n",
        "Text: apple mouse robert fast processor speed move slow clock week pretty microsoft music chicago jason\n",
        "Topic: [/INST]\"\"\"\n",
        "\n",
        "answer = generate_answer(prompt, model, 'cuda', temp=0.2, n_token=100)\n",
        "\n",
        "print(answer[0])\n"
      ]
    },
    {
      "cell_type": "markdown",
      "metadata": {
        "id": "wv0Ggj6SZ4ar"
      },
      "source": [
        "Conclusion: The model provides an answer in the required format, this prompt can be used for further research"
      ]
    },
    {
      "cell_type": "markdown",
      "metadata": {
        "id": "zxmo_B1lZ6fH"
      },
      "source": [
        "#### Type III. Chain-of-Thought"
      ]
    },
    {
      "cell_type": "code",
      "execution_count": 19,
      "metadata": {
        "colab": {
          "base_uri": "https://localhost:8080/"
        },
        "id": "X-2BIHLUsoBR",
        "outputId": "2f11783b-8b3e-43ee-da49-cc4652533693"
      },
      "outputs": [
        {
          "name": "stdout",
          "output_type": "stream",
          "text": [
            "<s>  [INST] Name the common topic with one or few words.\n",
            "Text: apple mouse robert fast processor speed move slow clock week pretty microsoft music chicago jason\n",
            "Topic: [/INST] Technology, Computers, Software, Music, Chicago, Jason, Microsoft, Apple, Processor, Speed, Clock, Mouse.</s>\n"
          ]
        }
      ],
      "source": [
        "prompt = \"\"\"<s> [INST] Name the common topic with one or few words.\n",
        "Text: apple mouse robert fast processor speed move slow clock week pretty microsoft music chicago jason\n",
        "Topic: [/INST]\"\"\"\n",
        "\n",
        "answer = generate_answer(prompt, model, 'cuda', temp=0.2, n_token=100)\n",
        "\n",
        "print(answer[0])"
      ]
    },
    {
      "cell_type": "markdown",
      "metadata": {
        "id": "uxUvp_J1aMpH"
      },
      "source": [
        "Conclusion: The examples were removed to avoid re-generation. At the beginning, the model tries to highlight the main topics that combine words from the set, but then simply ranks the words from the list"
      ]
    },
    {
      "cell_type": "markdown",
      "metadata": {
        "id": "lRB62fNnaX-m"
      },
      "source": [
        "#### Type IV. Chain-of-Thought"
      ]
    },
    {
      "cell_type": "code",
      "execution_count": 20,
      "metadata": {
        "colab": {
          "base_uri": "https://localhost:8080/"
        },
        "id": "VGvm3LYt1-0M",
        "outputId": "2297b5af-3c9b-424e-9105-f9375bb97c7b"
      },
      "outputs": [
        {
          "name": "stdout",
          "output_type": "stream",
          "text": [
            "<s>  [INST] Name the common topic with one or few words. Please, make sure you to only return the topic and nothing more.\n",
            "Text: apple mouse robert fast processor speed move slow clock week pretty microsoft music chicago jason\n",
            "Topic: [/INST] apple, mouse, robert, fast, processor, speed, move, slow, clock, week, pretty, microsoft, music, chicago, jason</s>\n"
          ]
        }
      ],
      "source": [
        "prompt = \"\"\"<s> [INST] Name the common topic with one or few words. Please, make sure you to only return the topic and nothing more.\n",
        "Text: apple mouse robert fast processor speed move slow clock week pretty microsoft music chicago jason\n",
        "Topic: [/INST]\"\"\"\n",
        "\n",
        "answer = generate_answer(prompt, model, 'cuda', temp=0.2, n_token=100)\n",
        "\n",
        "print(answer[0])"
      ]
    },
    {
      "cell_type": "markdown",
      "metadata": {
        "id": "LrksrKI8eXk2"
      },
      "source": [
        "Conclusion: Added clarification about the form of the response. The model outputs just a list of words"
      ]
    },
    {
      "cell_type": "markdown",
      "metadata": {
        "id": "5HEZCwJ8DsGn"
      },
      "source": [
        "#### Type V. 3-shot Chain-of-Thought"
      ]
    },
    {
      "cell_type": "code",
      "execution_count": 21,
      "metadata": {
        "colab": {
          "base_uri": "https://localhost:8080/"
        },
        "id": "PAzklnJmxUFX",
        "outputId": "78e1737b-941e-4516-dbb0-ffaefb3d3d7b"
      },
      "outputs": [
        {
          "name": "stdout",
          "output_type": "stream",
          "text": [
            "<s>  [INST] Analyze the list of words and name the common topic with one or few words.\n",
            "\n",
            "Text: absolute mission church nasa mars earth truth lunar shuttle doug telescope symbol planetary libxmu launch\n",
            "Topic: space\n",
            "Text: bar sweet crunchy yummy cinnamon granola yogurt crunch cereal raisin flake snack almond combination blueberry\n",
            "Topic: sweet and sugar drink\n",
            "Text: apple mouse robert fast processor speed move slow clock week pretty microsoft music chicago jason\n",
            "Topic: [/INST] The common topic with one or few words for the given text is \"space\" for the first text and \"sweet and sugar drink\" for the second text.</s>\n"
          ]
        }
      ],
      "source": [
        "prompt = \"\"\"<s> [INST] Analyze the list of words and name the common topic with one or few words.\n",
        "\n",
        "Text: absolute mission church nasa mars earth truth lunar shuttle doug telescope symbol planetary libxmu launch\n",
        "Topic: space\n",
        "Text: bar sweet crunchy yummy cinnamon granola yogurt crunch cereal raisin flake snack almond combination blueberry\n",
        "Topic: sweet and sugar drink\n",
        "Text: apple mouse robert fast processor speed move slow clock week pretty microsoft music chicago jason\n",
        "Topic: [/INST]\"\"\"\n",
        "\n",
        "answer = generate_answer(prompt, model, 'cuda', temp=0.2, n_token=100)\n",
        "\n",
        "print(answer[0])"
      ]
    },
    {
      "cell_type": "markdown",
      "metadata": {
        "id": "NXt_rvr9eqX4"
      },
      "source": [
        "Conclusion: The model repeats the topics for the \"shots\""
      ]
    },
    {
      "cell_type": "markdown",
      "metadata": {
        "id": "wwnuz14hexej"
      },
      "source": [
        "#### Type VI. 3-shot Chain-of-Thought"
      ]
    },
    {
      "cell_type": "code",
      "execution_count": 22,
      "metadata": {
        "colab": {
          "base_uri": "https://localhost:8080/"
        },
        "id": "shY05RFh25ji",
        "outputId": "1af26870-d755-4801-8760-761f2fa3c5ce"
      },
      "outputs": [
        {
          "name": "stdout",
          "output_type": "stream",
          "text": [
            "<s>  [INST] Analyze the list of words and name the common topic with one or few words. Please, make sure you to only return the topic and nothing more.\n",
            "\n",
            "Text: absolute mission church nasa mars earth truth lunar shuttle doug telescope symbol planetary libxmu launch\n",
            "Topic: space\n",
            "Text: bar sweet crunchy yummy cinnamon granola yogurt crunch cereal raisin flake snack almond combination blueberry\n",
            "Topic: sweet and sugar drink\n",
            "Text: apple mouse robert fast processor speed move slow clock week pretty microsoft music chicago jason\n",
            "Topic: [/INST] 1. space\n",
            "2. sweet and sugar drink\n",
            "3. [No clear topic found in this text.]</s>\n"
          ]
        }
      ],
      "source": [
        "prompt = \"\"\"<s> [INST] Analyze the list of words and name the common topic with one or few words. Please, make sure you to only return the topic and nothing more.\n",
        "\n",
        "Text: absolute mission church nasa mars earth truth lunar shuttle doug telescope symbol planetary libxmu launch\n",
        "Topic: space\n",
        "Text: bar sweet crunchy yummy cinnamon granola yogurt crunch cereal raisin flake snack almond combination blueberry\n",
        "Topic: sweet and sugar drink\n",
        "Text: apple mouse robert fast processor speed move slow clock week pretty microsoft music chicago jason\n",
        "Topic: [/INST]\"\"\"\n",
        "\n",
        "answer = generate_answer(prompt, model, 'cuda', temp=0.2, n_token=100)\n",
        "\n",
        "print(answer[0])"
      ]
    },
    {
      "cell_type": "markdown",
      "metadata": {
        "id": "VKNS0BykfeJ0"
      },
      "source": [
        "Conclusion: The model repeats all the topics for the \"shots\", but cannot determine the topic for the proposed text"
      ]
    },
    {
      "cell_type": "markdown",
      "metadata": {
        "id": "3D-hIfTmgzih"
      },
      "source": [
        "#### Type VII. Chain-of-Thought"
      ]
    },
    {
      "cell_type": "code",
      "execution_count": 23,
      "metadata": {
        "colab": {
          "base_uri": "https://localhost:8080/"
        },
        "id": "UPWaPg_JthsH",
        "outputId": "6e789680-693f-445c-c7c4-6d4eafb71ad2"
      },
      "outputs": [
        {
          "name": "stdout",
          "output_type": "stream",
          "text": [
            "<s>  [INST] Analyze the list of words and name the common topic with one or few words.\n",
            "\n",
            "Text: apple mouse robert fast processor speed move slow clock week pretty microsoft music chicago jason\n",
            "Topic:[/INST] Technology, Computers, Software, Internet, Music, Chicago, Microsoft, Processor, Speed, Clock, Robert, Jason, Mouse.</s>\n"
          ]
        }
      ],
      "source": [
        "prompt = \"\"\"<s> [INST] Analyze the list of words and name the common topic with one or few words.\n",
        "\n",
        "Text: apple mouse robert fast processor speed move slow clock week pretty microsoft music chicago jason\n",
        "Topic:[/INST]\"\"\"\n",
        "\n",
        "answer = generate_answer(prompt, model, 'cuda', temp=0.2, n_token=100)\n",
        "\n",
        "print(answer[0])"
      ]
    },
    {
      "cell_type": "markdown",
      "metadata": {
        "id": "jfUB_27jhTwM"
      },
      "source": [
        "Conclusion: The \"shots\" from the prompt have been removed. At the beginning, the model highlights topics that can combine words from the list, but then simply repeats the entire list"
      ]
    },
    {
      "cell_type": "markdown",
      "metadata": {
        "id": "hWzeeAjXhZdy"
      },
      "source": [
        "#### Type VII. Chain-of-Thought"
      ]
    },
    {
      "cell_type": "code",
      "execution_count": 25,
      "metadata": {
        "colab": {
          "base_uri": "https://localhost:8080/"
        },
        "id": "IlqMPIh-3rp7",
        "outputId": "c1e088d1-7047-451a-fef2-f61efc4c0524"
      },
      "outputs": [
        {
          "name": "stdout",
          "output_type": "stream",
          "text": [
            "<s>  [INST] Analyze the list of words and name the common topic with one or few words. Please, make sure you to only return the topic and nothing more.\n",
            "\n",
            "Text: apple mouse robert fast processor speed move slow clock week pretty microsoft music chicago jason\n",
            "Topic: [/INST] Technology</s>\n"
          ]
        }
      ],
      "source": [
        "prompt = \"\"\"<s> [INST] Analyze the list of words and name the common topic with one or few words. Please, make sure you to only return the topic and nothing more.\n",
        "\n",
        "Text: apple mouse robert fast processor speed move slow clock week pretty microsoft music chicago jason\n",
        "Topic: [/INST]\"\"\"\n",
        "\n",
        "answer = generate_answer(prompt, model, 'cuda', temp=0.2, n_token=100)\n",
        "\n",
        "print(answer[0])"
      ]
    },
    {
      "cell_type": "markdown",
      "metadata": {
        "id": "fkRsqIuvhmKr"
      },
      "source": [
        "Conclusion: A clarification has been added in which form the response is expected from the model. This product can be used for further research"
      ]
    },
    {
      "cell_type": "markdown",
      "metadata": {
        "id": "88SUQmOCD0d8"
      },
      "source": [
        "#### Type VIII. 3-shot Chain-of-Thought"
      ]
    },
    {
      "cell_type": "code",
      "execution_count": 27,
      "metadata": {
        "colab": {
          "base_uri": "https://localhost:8080/"
        },
        "id": "ow3RO4ueyeF_",
        "outputId": "23f8a65d-a5c8-40de-a9ef-4c9d16fd5b52"
      },
      "outputs": [
        {
          "name": "stdout",
          "output_type": "stream",
          "text": [
            "<s>  [INST] You will receive a list of words and you should analyze it and name the common topic with one or few words.\n",
            "Text: absolute mission church nasa mars earth truth lunar shuttle doug telescope symbol planetary libxmu launch\n",
            "Topic: space\n",
            "Text: anonymous public private news crime server religion carry pretty bill cview internet paul hold thought\n",
            "Topic: news\n",
            "Text: apple mouse robert fast processor speed move slow clock week pretty microsoft music chicago jason\n",
            "Topic: [/INST] Technology</s>\n"
          ]
        }
      ],
      "source": [
        "prompt = \"\"\"<s> [INST] You will receive a list of words and you should analyze it and name the common topic with one or few words.\n",
        "Text: absolute mission church nasa mars earth truth lunar shuttle doug telescope symbol planetary libxmu launch\n",
        "Topic: space\n",
        "Text: anonymous public private news crime server religion carry pretty bill cview internet paul hold thought\n",
        "Topic: news\n",
        "Text: apple mouse robert fast processor speed move slow clock week pretty microsoft music chicago jason\n",
        "Topic: [/INST]\"\"\"\n",
        "\n",
        "answer = generate_answer(prompt, model, 'cuda', temp=0.2, n_token=100)\n",
        "\n",
        "print(answer[0])"
      ]
    },
    {
      "cell_type": "markdown",
      "metadata": {
        "id": "Zt-uY2Mwh8Gn"
      },
      "source": [
        "Conclusion: The model understands the task and gives the answer in the correct form. This prompt can be used for further analysis"
      ]
    },
    {
      "cell_type": "markdown",
      "metadata": {
        "id": "HTzA6RcViKuO"
      },
      "source": [
        "#### Type IX. 3-shot Chain-of-Thought"
      ]
    },
    {
      "cell_type": "code",
      "execution_count": 28,
      "metadata": {
        "colab": {
          "base_uri": "https://localhost:8080/"
        },
        "id": "jlKDaRq4uO7K",
        "outputId": "329e37db-a1d1-43a9-c6fb-c17e2983bbfb"
      },
      "outputs": [
        {
          "name": "stdout",
          "output_type": "stream",
          "text": [
            "<s>  [INST] You will receive a list of words and you should analyze it and name the common topic with one or few words. Please, make sure you to only return the topic and nothing more.\n",
            "Text: absolute mission church nasa mars earth truth lunar shuttle doug telescope symbol planetary libxmu launch\n",
            "Topic: space\n",
            "Text: anonymous public private news crime server religion carry pretty bill cview internet paul hold thought\n",
            "Topic: news\n",
            "Text: apple mouse robert fast processor speed move slow clock week pretty microsoft music chicago jason\n",
            "Topic: [/INST] Technology</s>\n"
          ]
        }
      ],
      "source": [
        "prompt = \"\"\"<s> [INST] You will receive a list of words and you should analyze it and name the common topic with one or few words. Please, make sure you to only return the topic and nothing more.\n",
        "Text: absolute mission church nasa mars earth truth lunar shuttle doug telescope symbol planetary libxmu launch\n",
        "Topic: space\n",
        "Text: anonymous public private news crime server religion carry pretty bill cview internet paul hold thought\n",
        "Topic: news\n",
        "Text: apple mouse robert fast processor speed move slow clock week pretty microsoft music chicago jason\n",
        "Topic: [/INST]\"\"\"\n",
        "\n",
        "answer = generate_answer(prompt, model, 'cuda', temp=0.2, n_token=100)\n",
        "\n",
        "print(answer[0])"
      ]
    },
    {
      "cell_type": "markdown",
      "metadata": {
        "id": "q8_A8MjiiVGj"
      },
      "source": [
        "Conclusion: The model understands the task and gives the answer in the correct form (explanation added). This prompt can be used for further analysis"
      ]
    },
    {
      "cell_type": "markdown",
      "metadata": {
        "id": "3lT0swdbisEe"
      },
      "source": [
        "#### Type X. Chain-of-Thought"
      ]
    },
    {
      "cell_type": "code",
      "execution_count": 29,
      "metadata": {
        "colab": {
          "base_uri": "https://localhost:8080/"
        },
        "id": "Et_I2wr1t8wE",
        "outputId": "f3487883-a978-4c2c-98fd-90e6025efae7"
      },
      "outputs": [
        {
          "name": "stdout",
          "output_type": "stream",
          "text": [
            "<s>  [INST] You will receive a list of words and you should analyze it and name the common topic with one or few words.\n",
            "Text: apple mouse robert fast processor speed move slow clock week pretty microsoft music chicago jason\n",
            "Topic: [/INST] Technology, Computers, Software, Internet, Music, Chicago, Microsoft, Processor, Speed, Clock, Robert, Jason, Mouse.</s>\n"
          ]
        }
      ],
      "source": [
        "prompt = \"\"\"<s> [INST] You will receive a list of words and you should analyze it and name the common topic with one or few words.\n",
        "Text: apple mouse robert fast processor speed move slow clock week pretty microsoft music chicago jason\n",
        "Topic: [/INST]\"\"\"\n",
        "\n",
        "answer = generate_answer(prompt, model, 'cuda', temp=0.2, n_token=100)\n",
        "\n",
        "print(answer[0])"
      ]
    },
    {
      "cell_type": "markdown",
      "metadata": {
        "id": "DgN3rDXnjDdn"
      },
      "source": [
        "Conclusion: The examples have been removed. At the beginning, the model outputs topics that can combine all the words from the list, then the wordset is output from the prompt"
      ]
    },
    {
      "cell_type": "markdown",
      "metadata": {
        "id": "XZWU31fejLKQ"
      },
      "source": [
        "#### Type XI. Chain-of-Thought"
      ]
    },
    {
      "cell_type": "code",
      "execution_count": 30,
      "metadata": {
        "colab": {
          "base_uri": "https://localhost:8080/"
        },
        "id": "CS2ClVq-uFgb",
        "outputId": "588818b1-751e-48c4-b7f8-83ee070216b2"
      },
      "outputs": [
        {
          "name": "stdout",
          "output_type": "stream",
          "text": [
            "<s>  [INST] You will receive a list of words and you should analyze it and name the common topic with one or few words. Please, make sure you to only return the topic and nothing more.\n",
            "Text: apple mouse robert fast processor speed move slow clock week pretty microsoft music chicago jason\n",
            "Topic: [/INST] Technology</s>\n"
          ]
        }
      ],
      "source": [
        "prompt = \"\"\"<s> [INST] You will receive a list of words and you should analyze it and name the common topic with one or few words. Please, make sure you to only return the topic and nothing more.\n",
        "Text: apple mouse robert fast processor speed move slow clock week pretty microsoft music chicago jason\n",
        "Topic: [/INST]\"\"\"\n",
        "\n",
        "answer = generate_answer(prompt, model, 'cuda', temp=0.2, n_token=100)\n",
        "\n",
        "print(answer[0])"
      ]
    },
    {
      "cell_type": "markdown",
      "metadata": {
        "id": "Wz68b_-9jcZd"
      },
      "source": [
        "Conclusion: A clarification has been added so that the model outputs only the required response. The model understands the task and gives the answer in the correct form. This prompt can be used for further analysis"
      ]
    },
    {
      "cell_type": "markdown",
      "metadata": {
        "id": "IKCtghKQD9K1"
      },
      "source": [
        "#### Type XII. 3-shot Chain-of-Thought"
      ]
    },
    {
      "cell_type": "code",
      "execution_count": 33,
      "metadata": {
        "colab": {
          "base_uri": "https://localhost:8080/"
        },
        "id": "prOWQMEQzuF1",
        "outputId": "2148cca4-1a72-4370-b208-9969b962f754"
      },
      "outputs": [
        {
          "name": "stdout",
          "output_type": "stream",
          "text": [
            "<s>  [INST] You are a helpful, respectful and honest assistant for labeling topics. You will receive a list of words and you should analyze it and label list of words with one or few words.\n",
            "\n",
            "Text: absolute mission church nasa mars earth truth lunar shuttle doug telescope symbol planetary libxmu launch\n",
            "Label: space\n",
            "Text: anonymous public private news crime server religion carry pretty bill cview internet paul hold thought\n",
            "Label: news\n",
            "Text: apple mouse robert fast processor speed move slow clock week pretty microsoft music chicago jason\n",
            "Label: [/INST] Text: absolute mission church nasa mars earth truth lunar shuttle doug telescope symbol planetary libxmu launch\n",
            "Label: space\n",
            "\n",
            "Text: anonymous public private news crime server religion carry pretty bill cview internet paul hold thought\n",
            "Label: news\n",
            "\n",
            "Text: apple mouse robert fast processor speed move slow clock week pretty microsoft music chicago jason\n",
            "Label: technology</s>\n"
          ]
        }
      ],
      "source": [
        "prompt = \"\"\"<s> [INST] You are a helpful, respectful and honest assistant for labeling topics. You will receive a list of words and you should analyze it and label list of words with one or few words.\n",
        "\n",
        "Text: absolute mission church nasa mars earth truth lunar shuttle doug telescope symbol planetary libxmu launch\n",
        "Label: space\n",
        "Text: anonymous public private news crime server religion carry pretty bill cview internet paul hold thought\n",
        "Label: news\n",
        "Text: apple mouse robert fast processor speed move slow clock week pretty microsoft music chicago jason\n",
        "Label: [/INST]\"\"\"\n",
        "\n",
        "answer = generate_answer(prompt, model, 'cuda', temp=0.2, n_token=100)\n",
        "\n",
        "print(answer[0])"
      ]
    },
    {
      "cell_type": "markdown",
      "metadata": {
        "id": "WX9iL3BUj_Ty"
      },
      "source": [
        "Conclusion: Added text specifying the role that the model should perform. The model understands what task it needs to complete, but repeats the examples. The answer is given in the correct form. This prompt can be used for further research, taking into account the post-processing of the results"
      ]
    },
    {
      "cell_type": "markdown",
      "metadata": {
        "id": "dZRUgO-ekJVJ"
      },
      "source": [
        "#### Type XIII. 3-shot Chain-of-Thought"
      ]
    },
    {
      "cell_type": "code",
      "execution_count": 34,
      "metadata": {
        "colab": {
          "base_uri": "https://localhost:8080/"
        },
        "id": "wt4iMjwpuqS5",
        "outputId": "33a1c2fa-0b78-4c91-bf6a-01e6aa4ab14b"
      },
      "outputs": [
        {
          "name": "stdout",
          "output_type": "stream",
          "text": [
            "<s>  [INST] You are a helpful, respectful and honest assistant for labeling topics. You will receive a list of words and you should analyze it and label list of words with one or few words. Please, make sure you to only return the label and nothing more.\n",
            "\n",
            "Text: absolute mission church nasa mars earth truth lunar shuttle doug telescope symbol planetary libxmu launch\n",
            "Label: space\n",
            "Text: anonymous public private news crime server religion carry pretty bill cview internet paul hold thought\n",
            "Label: news\n",
            "Text: apple mouse robert fast processor speed move slow clock week pretty microsoft music chicago jason\n",
            "Label: [/INST] technology\n",
            "\n",
            "Text: absolute mission church nasa mars earth truth lunar shuttle doug telescope symbol planetary libxmu launch\n",
            "Label: space\n",
            "\n",
            "Text: anonymous public private news crime server religion carry pretty bill cview internet paul hold thought\n",
            "Label: news\n",
            "\n",
            "Text: apple mouse robert fast processor speed move slow clock week pretty microsoft music chicago jason\n",
            "Label: technology</s>\n"
          ]
        }
      ],
      "source": [
        "prompt = \"\"\"<s> [INST] You are a helpful, respectful and honest assistant for labeling topics. You will receive a list of words and you should analyze it and label list of words with one or few words. Please, make sure you to only return the label and nothing more.\n",
        "\n",
        "Text: absolute mission church nasa mars earth truth lunar shuttle doug telescope symbol planetary libxmu launch\n",
        "Label: space\n",
        "Text: anonymous public private news crime server religion carry pretty bill cview internet paul hold thought\n",
        "Label: news\n",
        "Text: apple mouse robert fast processor speed move slow clock week pretty microsoft music chicago jason\n",
        "Label: [/INST]\"\"\"\n",
        "\n",
        "answer = generate_answer(prompt, model, 'cuda', temp=0.2, n_token=100)\n",
        "\n",
        "print(answer[0])"
      ]
    },
    {
      "cell_type": "markdown",
      "metadata": {
        "id": "JG7_LQZcj-aQ"
      },
      "source": [
        "Conclusion: The model issues a response with the first token, then outputs examples from the prompt. This prompt can be used for further research, taking into account post-processing"
      ]
    },
    {
      "cell_type": "markdown",
      "metadata": {
        "id": "6QdUmDu3kh5o"
      },
      "source": [
        "#### Type XIV. Chain-of-Thought"
      ]
    },
    {
      "cell_type": "code",
      "execution_count": 35,
      "metadata": {
        "colab": {
          "base_uri": "https://localhost:8080/"
        },
        "id": "ZKQ-o1gGugR2",
        "outputId": "f4841bfe-66cb-4cab-d5f5-4666530a70e3"
      },
      "outputs": [
        {
          "name": "stdout",
          "output_type": "stream",
          "text": [
            "<s>  [INST] You are a helpful, respectful and honest assistant for labeling topics. You will receive a list of words and you should analyze it and label list of words with one or few words.\n",
            "\n",
            "Text: apple mouse robert fast processor speed move slow clock week pretty microsoft music chicago jason\n",
            "Label: [/INST] apple: fruit\n",
            "mouse: computer mouse\n",
            "robert: name\n",
            "fast: speed\n",
            "processor: computer component\n",
            "speed: computer performance\n",
            "move: action\n",
            "slow: speed\n",
            "clock: timekeeping device\n",
            "week: time unit\n",
            "pretty: appearance\n",
            "microsoft: computer company\n",
            "music: sound\n",
            "chicago: city\n",
            "jason: name</s>\n"
          ]
        }
      ],
      "source": [
        "prompt = \"\"\"<s> [INST] You are a helpful, respectful and honest assistant for labeling topics. You will receive a list of words and you should analyze it and label list of words with one or few words.\n",
        "\n",
        "Text: apple mouse robert fast processor speed move slow clock week pretty microsoft music chicago jason\n",
        "Label: [/INST]\"\"\"\n",
        "\n",
        "answer = generate_answer(prompt, model, 'cuda', temp=0.2, n_token=100)\n",
        "\n",
        "print(answer[0])"
      ]
    },
    {
      "cell_type": "markdown",
      "metadata": {
        "id": "A193RR9Dm8oy"
      },
      "source": [
        "Conclusion: The examples have been removed. The model selects a topic for each word from the list"
      ]
    },
    {
      "cell_type": "markdown",
      "metadata": {
        "id": "muwG6v3tngvl"
      },
      "source": [
        "#### Type XV. Chain-of-Thought"
      ]
    },
    {
      "cell_type": "code",
      "execution_count": 36,
      "metadata": {
        "colab": {
          "base_uri": "https://localhost:8080/"
        },
        "id": "CW1W-8zTtKv2",
        "outputId": "31c95992-6d85-4157-a859-df2f29108fa0"
      },
      "outputs": [
        {
          "name": "stdout",
          "output_type": "stream",
          "text": [
            "<s>  [INST] You are the topic modeling assistant. You should extract the main theme that combines all the words from the list. Formulate it with a single word: apple mouse robert fast processor speed move slow clock week pretty microsoft music chicago jason [/INST] The main theme that combines all the words from the list is \"technology\".</s>\n"
          ]
        }
      ],
      "source": [
        "prompt = \"\"\"<s> [INST] You are the topic modeling assistant. You should extract the main theme that combines all the words from the list. Formulate it with a single word: apple mouse robert fast processor speed move slow clock week pretty microsoft music chicago jason [/INST]\"\"\"\n",
        "\n",
        "answer = generate_answer(prompt, model, 'cuda', temp=0.2, n_token=100)\n",
        "\n",
        "print(answer[0])"
      ]
    },
    {
      "cell_type": "markdown",
      "metadata": {
        "id": "Uc1AL-tZnwIo"
      },
      "source": [
        "Conclusion: The model correctly defines the topic. In this case, the model was given the task to generate only one example. This product can be used for further research"
      ]
    },
    {
      "cell_type": "markdown",
      "metadata": {
        "id": "i34U_cfGGfzK"
      },
      "source": [
        "## Inference on the Entire Dataset"
      ]
    },
    {
      "cell_type": "markdown",
      "metadata": {
        "id": "x1yIMrH8x9i4"
      },
      "source": [
        "### Type III. Chain-of-Thought"
      ]
    },
    {
      "cell_type": "code",
      "execution_count": 43,
      "metadata": {
        "colab": {
          "base_uri": "https://localhost:8080/",
          "height": 108
        },
        "id": "qkJ4l9qi9n2e",
        "outputId": "e93edd02-0a02-4d9d-8da1-e290efd4b91e"
      },
      "outputs": [
        {
          "name": "stdout",
          "output_type": "stream",
          "text": [
            "<s> [INST] Name the common topic with one or few words. \n",
            "Text: argument sense cannot statement conclusion therefore form assume position logic ence understanding imply fallacy argue\n",
            "Topic: [/INST]\n"
          ]
        },
        {
          "data": {
            "application/vnd.google.colaboratory.intrinsic+json": {
              "type": "string"
            },
            "text/plain": [
              "' Argumentation</s>'"
            ]
          },
          "execution_count": 43,
          "metadata": {},
          "output_type": "execute_result"
        }
      ],
      "source": [
        "INSTRUCTION = \"\"\"Name the common topic with one or few words.\"\"\"\n",
        "\n",
        "SAMPLE = data_text[0]\n",
        "\n",
        "res = few_shot_pipeline(INSTRUCTION, SAMPLE, model, device=\"cuda\", print_system_prompt=True)\n",
        "\n",
        "res"
      ]
    },
    {
      "cell_type": "code",
      "execution_count": null,
      "metadata": {
        "colab": {
          "base_uri": "https://localhost:8080/"
        },
        "id": "dC-ogyp4VNei",
        "outputId": "7066c376-dddd-4c8a-d293-da38fc086f40"
      },
      "outputs": [
        {
          "name": "stderr",
          "output_type": "stream",
          "text": [
            "100%|██████████| 2363/2363 [58:53<00:00,  1.50s/it]\n"
          ]
        }
      ],
      "source": [
        "# Create file\n",
        "RES_FILE_NAME = \"data_topic_name_distrib_mistral_7b_4bit_type1_1.csv\"\n",
        "RES_FILE = DATA_DIR.joinpath(RES_FILE_NAME)\n",
        "# Remove old file\n",
        "if os.path.exists(RES_FILE):\n",
        "    os.remove(RES_FILE)\n",
        "with open(RES_FILE, 'a') as file:\n",
        "    for i in tqdm(range(len(data_text))):\n",
        "        SAMPLE = data_text[i]\n",
        "        res_model = few_shot_pipeline(\n",
        "            INSTRUCTION,\n",
        "            SAMPLE,\n",
        "            model,\n",
        "            device=\"cuda\",\n",
        "            temp=0.2,\n",
        "            n_token=100\n",
        "        )\n",
        "        file.write(f\"{SAMPLE};{res_model}\\n\")\n"
      ]
    },
    {
      "cell_type": "markdown",
      "metadata": {
        "id": "jTBq8wOnSoJS"
      },
      "source": [
        "### Type VII. Chain-of-Thought"
      ]
    },
    {
      "cell_type": "code",
      "execution_count": 44,
      "metadata": {
        "colab": {
          "base_uri": "https://localhost:8080/",
          "height": 108
        },
        "id": "YLlBWdgtVO07",
        "outputId": "6fd3fc0a-4f09-4757-eebc-bac5f27c1842"
      },
      "outputs": [
        {
          "name": "stdout",
          "output_type": "stream",
          "text": [
            "<s> [INST] Analyze the list of words and name the common topic with one or few words. Please, make sure you to only return the topic and nothing more. \n",
            "Text: pet vet feed ingredient wellness corn chicken liver meat diet filler science kibble kitten fructose\n",
            "Topic: [/INST]\n"
          ]
        },
        {
          "data": {
            "application/vnd.google.colaboratory.intrinsic+json": {
              "type": "string"
            },
            "text/plain": [
              "' The common topic in the list of words is \"pet\" and \"vet\".</s>'"
            ]
          },
          "execution_count": 44,
          "metadata": {},
          "output_type": "execute_result"
        }
      ],
      "source": [
        "INSTRUCTION = \"\"\"Analyze the list of words and name the common topic with one or few words. Please, make sure you to only return the topic and nothing more.\"\"\"\n",
        "\n",
        "SAMPLE = data_text[102]\n",
        "\n",
        "res = few_shot_pipeline(INSTRUCTION, SAMPLE, model, device=\"cuda\", print_system_prompt=True)\n",
        "\n",
        "res"
      ]
    },
    {
      "cell_type": "code",
      "execution_count": null,
      "metadata": {
        "colab": {
          "base_uri": "https://localhost:8080/"
        },
        "id": "7_yjmTXiTggR",
        "outputId": "8c445bd1-69b6-4123-c27a-7512acbf5153"
      },
      "outputs": [
        {
          "name": "stderr",
          "output_type": "stream",
          "text": [
            "100%|██████████| 488/488 [23:41<00:00,  2.91s/it]\n"
          ]
        }
      ],
      "source": [
        "# Create file\n",
        "RES_FILE_NAME = \"data_topic_name_distrib_mistral_7b_4bit_type2_1.csv\"\n",
        "RES_FILE = DATA_DIR.joinpath(RES_FILE_NAME)\n",
        "# Remove old file\n",
        "if os.path.exists(RES_FILE):\n",
        "    os.remove(RES_FILE)\n",
        "for i in tqdm(range(len(data_text))):\n",
        "    SAMPLE = data_text[i]\n",
        "    res_model = few_shot_pipeline(\n",
        "        INSTRUCTION,\n",
        "        SAMPLE,\n",
        "        model,\n",
        "        device=\"cuda\",\n",
        "        temp=0.3,\n",
        "        n_token=100\n",
        "    )\n",
        "    with open(RES_FILE, 'a') as file:\n",
        "      file.write(f\"{SAMPLE};{res_model}\\n\")\n"
      ]
    },
    {
      "cell_type": "markdown",
      "metadata": {
        "id": "hFE8BAkKEwdy"
      },
      "source": [
        "## Type X. Chain-of-Thought\n",
        "\n"
      ]
    },
    {
      "cell_type": "code",
      "execution_count": 45,
      "metadata": {
        "colab": {
          "base_uri": "https://localhost:8080/",
          "height": 105
        },
        "id": "7WU0MGIGTr19",
        "outputId": "f462ece1-326a-480f-b9f5-c623d40fe6d4"
      },
      "outputs": [
        {
          "name": "stdout",
          "output_type": "stream",
          "text": [
            "<s> [INST] You will receive a list of words and you should analyze it and name the common topic with one or few words. \n",
            "Text: church truth absolute doug symbol borland bible scripture libxmu paradox catholic matter darren error certain\n",
            "Topic: [/INST]\n"
          ]
        },
        {
          "data": {
            "application/vnd.google.colaboratory.intrinsic+json": {
              "type": "string"
            },
            "text/plain": [
              "' The common topic in this list is \"Religion/Spirituality\" as many of the words are related to religious beliefs, practices, and figures.</s>'"
            ]
          },
          "execution_count": 45,
          "metadata": {},
          "output_type": "execute_result"
        }
      ],
      "source": [
        "INSTRUCTION = \"\"\"You will receive a list of words and you should analyze it and name the common topic with one or few words.\"\"\"\n",
        "\n",
        "SAMPLE = data_text[180]\n",
        "\n",
        "res = few_shot_pipeline(INSTRUCTION, SAMPLE, model, device=\"cuda\", print_system_prompt=True)\n",
        "\n",
        "res"
      ]
    },
    {
      "cell_type": "code",
      "execution_count": null,
      "metadata": {
        "colab": {
          "base_uri": "https://localhost:8080/"
        },
        "id": "cmMoEt49FTAd",
        "outputId": "359e1ecd-5aab-4a6d-ee3a-897617dd3a2e"
      },
      "outputs": [
        {
          "name": "stderr",
          "output_type": "stream",
          "text": [
            "100%|██████████| 2363/2363 [1:41:28<00:00,  2.58s/it]\n"
          ]
        }
      ],
      "source": [
        "# Create file\n",
        "RES_FILE_NAME = \"data_topic_name_distrib_mistral_7b_4bit_type3_1.csv\"\n",
        "RES_FILE = DATA_DIR.joinpath(RES_FILE_NAME)\n",
        "# Remove old file\n",
        "if os.path.exists(RES_FILE):\n",
        "    os.remove(RES_FILE)\n",
        "with open(RES_FILE, 'a') as file:\n",
        "    for i in tqdm(range(len(data_text))):\n",
        "        SAMPLE = data_text[i]\n",
        "        res_model = few_shot_pipeline(\n",
        "            INSTRUCTION,\n",
        "            SAMPLE,\n",
        "            model,\n",
        "            device=\"cuda\",\n",
        "            temp=0.3,\n",
        "            n_token=100\n",
        "        )\n",
        "        file.write(f\"{SAMPLE};{res_model}\\n\")\n"
      ]
    },
    {
      "cell_type": "markdown",
      "metadata": {
        "id": "VXIks8JPuDzm"
      },
      "source": [
        "## Type XV. Chain-of-Thought\n"
      ]
    },
    {
      "cell_type": "code",
      "execution_count": 48,
      "metadata": {
        "colab": {
          "base_uri": "https://localhost:8080/",
          "height": 108
        },
        "id": "LVs2UHuyFadf",
        "outputId": "379b2552-232a-47b9-c3d1-b493518bc092"
      },
      "outputs": [
        {
          "name": "stdout",
          "output_type": "stream",
          "text": [
            "<s> [INST] You are the topic modeling assistant. You should extract the main theme that combines all the words from the list. Formulate it with a single word: \n",
            "Text: church truth absolute doug symbol borland bible scripture libxmu paradox catholic matter darren error certain\n",
            "Topic: [/INST]\n"
          ]
        },
        {
          "data": {
            "application/vnd.google.colaboratory.intrinsic+json": {
              "type": "string"
            },
            "text/plain": [
              "' The main theme that combines all the words from the list is \"dogma\".</s>'"
            ]
          },
          "execution_count": 48,
          "metadata": {},
          "output_type": "execute_result"
        }
      ],
      "source": [
        "INSTRUCTION = \"\"\"You are the topic modeling assistant. You should extract the main theme that combines all the words from the list. Formulate it with a single word:\"\"\"\n",
        "\n",
        "SAMPLE = data_text[180]\n",
        "\n",
        "res = few_shot_pipeline(INSTRUCTION, SAMPLE, model, device=\"cuda\", print_system_prompt=True)\n",
        "\n",
        "res"
      ]
    },
    {
      "cell_type": "code",
      "execution_count": null,
      "metadata": {
        "colab": {
          "base_uri": "https://localhost:8080/"
        },
        "id": "sfWgb632ugpX",
        "outputId": "aba11791-26ea-4cdc-aeb0-4e0415b8b6d0"
      },
      "outputs": [
        {
          "name": "stderr",
          "output_type": "stream",
          "text": [
            "100%|██████████| 2363/2363 [1:23:16<00:00,  2.11s/it]\n"
          ]
        }
      ],
      "source": [
        "# Create file\n",
        "RES_FILE_NAME = \"data_topic_name_distrib_mistral_7b_4bit_type_new.csv\"\n",
        "RES_FILE = DATA_DIR.joinpath(RES_FILE_NAME)\n",
        "# Remove old file\n",
        "if os.path.exists(RES_FILE):\n",
        "    os.remove(RES_FILE)\n",
        "for i in tqdm(range(len(data_text))):\n",
        "# for i in tqdm(range(20)):\n",
        "    torch.cuda.empty_cache()\n",
        "    SAMPLE = data_text[i]\n",
        "    res_model = few_shot_pipeline(\n",
        "        INSTRUCTION,\n",
        "        SAMPLE,\n",
        "        model,\n",
        "        device=\"cuda\",\n",
        "        temp=0.3,\n",
        "        n_token=100\n",
        "    )\n",
        "    # print(res_model)\n",
        "    with open(RES_FILE, 'a') as file:\n",
        "        file.write(f\"{SAMPLE};{res_model}\\n\")\n"
      ]
    }
  ],
  "metadata": {
    "accelerator": "GPU",
    "colab": {
      "collapsed_sections": [
        "KFiHQV7OXvdW",
        "lPYXOZue-rA3"
      ],
      "gpuType": "T4",
      "provenance": []
    },
    "kernelspec": {
      "display_name": "Python 3",
      "name": "python3"
    },
    "language_info": {
      "codemirror_mode": {
        "name": "ipython",
        "version": 3
      },
      "file_extension": ".py",
      "mimetype": "text/x-python",
      "name": "python",
      "nbconvert_exporter": "python",
      "pygments_lexer": "ipython3",
      "version": "3.9.7"
    },
    "widgets": {
      "application/vnd.jupyter.widget-state+json": {
        "0190893a604240d4bf716fe501f4f6d4": {
          "model_module": "@jupyter-widgets/controls",
          "model_module_version": "1.5.0",
          "model_name": "HTMLModel",
          "state": {
            "_dom_classes": [],
            "_model_module": "@jupyter-widgets/controls",
            "_model_module_version": "1.5.0",
            "_model_name": "HTMLModel",
            "_view_count": null,
            "_view_module": "@jupyter-widgets/controls",
            "_view_module_version": "1.5.0",
            "_view_name": "HTMLView",
            "description": "",
            "description_tooltip": null,
            "layout": "IPY_MODEL_c2d24cd0db2248d88b4720f1ecda96ce",
            "placeholder": "​",
            "style": "IPY_MODEL_3b4180fbe3224530872cdb62f705f112",
            "value": "generation_config.json: 100%"
          }
        },
        "033aecb6f5344b0989c814a4993df0a3": {
          "model_module": "@jupyter-widgets/controls",
          "model_module_version": "1.5.0",
          "model_name": "HTMLModel",
          "state": {
            "_dom_classes": [],
            "_model_module": "@jupyter-widgets/controls",
            "_model_module_version": "1.5.0",
            "_model_name": "HTMLModel",
            "_view_count": null,
            "_view_module": "@jupyter-widgets/controls",
            "_view_module_version": "1.5.0",
            "_view_name": "HTMLView",
            "description": "",
            "description_tooltip": null,
            "layout": "IPY_MODEL_a12ebe6eeb5d4eadb80ed3ebc2ca1ac5",
            "placeholder": "​",
            "style": "IPY_MODEL_59f704a9bef34cb985431add304bd251",
            "value": "tokenizer_config.json: 100%"
          }
        },
        "03a22e0496b44d5d887faa66d51eb87c": {
          "model_module": "@jupyter-widgets/base",
          "model_module_version": "1.2.0",
          "model_name": "LayoutModel",
          "state": {
            "_model_module": "@jupyter-widgets/base",
            "_model_module_version": "1.2.0",
            "_model_name": "LayoutModel",
            "_view_count": null,
            "_view_module": "@jupyter-widgets/base",
            "_view_module_version": "1.2.0",
            "_view_name": "LayoutView",
            "align_content": null,
            "align_items": null,
            "align_self": null,
            "border": null,
            "bottom": null,
            "display": null,
            "flex": null,
            "flex_flow": null,
            "grid_area": null,
            "grid_auto_columns": null,
            "grid_auto_flow": null,
            "grid_auto_rows": null,
            "grid_column": null,
            "grid_gap": null,
            "grid_row": null,
            "grid_template_areas": null,
            "grid_template_columns": null,
            "grid_template_rows": null,
            "height": null,
            "justify_content": null,
            "justify_items": null,
            "left": null,
            "margin": null,
            "max_height": null,
            "max_width": null,
            "min_height": null,
            "min_width": null,
            "object_fit": null,
            "object_position": null,
            "order": null,
            "overflow": null,
            "overflow_x": null,
            "overflow_y": null,
            "padding": null,
            "right": null,
            "top": null,
            "visibility": null,
            "width": null
          }
        },
        "0613a8ca958e431096f5270c3e0c0678": {
          "model_module": "@jupyter-widgets/controls",
          "model_module_version": "1.5.0",
          "model_name": "ProgressStyleModel",
          "state": {
            "_model_module": "@jupyter-widgets/controls",
            "_model_module_version": "1.5.0",
            "_model_name": "ProgressStyleModel",
            "_view_count": null,
            "_view_module": "@jupyter-widgets/base",
            "_view_module_version": "1.2.0",
            "_view_name": "StyleView",
            "bar_color": null,
            "description_width": ""
          }
        },
        "0688714b9d0440a6800b3a9ece3aca8a": {
          "model_module": "@jupyter-widgets/controls",
          "model_module_version": "1.5.0",
          "model_name": "DescriptionStyleModel",
          "state": {
            "_model_module": "@jupyter-widgets/controls",
            "_model_module_version": "1.5.0",
            "_model_name": "DescriptionStyleModel",
            "_view_count": null,
            "_view_module": "@jupyter-widgets/base",
            "_view_module_version": "1.2.0",
            "_view_name": "StyleView",
            "description_width": ""
          }
        },
        "06bb0e127b664c6d9df045c231a2752b": {
          "model_module": "@jupyter-widgets/base",
          "model_module_version": "1.2.0",
          "model_name": "LayoutModel",
          "state": {
            "_model_module": "@jupyter-widgets/base",
            "_model_module_version": "1.2.0",
            "_model_name": "LayoutModel",
            "_view_count": null,
            "_view_module": "@jupyter-widgets/base",
            "_view_module_version": "1.2.0",
            "_view_name": "LayoutView",
            "align_content": null,
            "align_items": null,
            "align_self": null,
            "border": null,
            "bottom": null,
            "display": null,
            "flex": null,
            "flex_flow": null,
            "grid_area": null,
            "grid_auto_columns": null,
            "grid_auto_flow": null,
            "grid_auto_rows": null,
            "grid_column": null,
            "grid_gap": null,
            "grid_row": null,
            "grid_template_areas": null,
            "grid_template_columns": null,
            "grid_template_rows": null,
            "height": null,
            "justify_content": null,
            "justify_items": null,
            "left": null,
            "margin": null,
            "max_height": null,
            "max_width": null,
            "min_height": null,
            "min_width": null,
            "object_fit": null,
            "object_position": null,
            "order": null,
            "overflow": null,
            "overflow_x": null,
            "overflow_y": null,
            "padding": null,
            "right": null,
            "top": null,
            "visibility": null,
            "width": null
          }
        },
        "0aca3844e3bd4fc39407fabe20d36a7a": {
          "model_module": "@jupyter-widgets/controls",
          "model_module_version": "1.5.0",
          "model_name": "DescriptionStyleModel",
          "state": {
            "_model_module": "@jupyter-widgets/controls",
            "_model_module_version": "1.5.0",
            "_model_name": "DescriptionStyleModel",
            "_view_count": null,
            "_view_module": "@jupyter-widgets/base",
            "_view_module_version": "1.2.0",
            "_view_name": "StyleView",
            "description_width": ""
          }
        },
        "0b756d13ff9447aca46304a66c9e758d": {
          "model_module": "@jupyter-widgets/controls",
          "model_module_version": "1.5.0",
          "model_name": "HTMLModel",
          "state": {
            "_dom_classes": [],
            "_model_module": "@jupyter-widgets/controls",
            "_model_module_version": "1.5.0",
            "_model_name": "HTMLModel",
            "_view_count": null,
            "_view_module": "@jupyter-widgets/controls",
            "_view_module_version": "1.5.0",
            "_view_name": "HTMLView",
            "description": "",
            "description_tooltip": null,
            "layout": "IPY_MODEL_11892bac65d94d7cb9ea4a2a148a1f25",
            "placeholder": "​",
            "style": "IPY_MODEL_441b5d049022434eb3bdab5d4bf8e681",
            "value": "Downloading shards: 100%"
          }
        },
        "0c2cd2e7f78945dab68d4134b09faa69": {
          "model_module": "@jupyter-widgets/base",
          "model_module_version": "1.2.0",
          "model_name": "LayoutModel",
          "state": {
            "_model_module": "@jupyter-widgets/base",
            "_model_module_version": "1.2.0",
            "_model_name": "LayoutModel",
            "_view_count": null,
            "_view_module": "@jupyter-widgets/base",
            "_view_module_version": "1.2.0",
            "_view_name": "LayoutView",
            "align_content": null,
            "align_items": null,
            "align_self": null,
            "border": null,
            "bottom": null,
            "display": null,
            "flex": null,
            "flex_flow": null,
            "grid_area": null,
            "grid_auto_columns": null,
            "grid_auto_flow": null,
            "grid_auto_rows": null,
            "grid_column": null,
            "grid_gap": null,
            "grid_row": null,
            "grid_template_areas": null,
            "grid_template_columns": null,
            "grid_template_rows": null,
            "height": null,
            "justify_content": null,
            "justify_items": null,
            "left": null,
            "margin": null,
            "max_height": null,
            "max_width": null,
            "min_height": null,
            "min_width": null,
            "object_fit": null,
            "object_position": null,
            "order": null,
            "overflow": null,
            "overflow_x": null,
            "overflow_y": null,
            "padding": null,
            "right": null,
            "top": null,
            "visibility": null,
            "width": null
          }
        },
        "0e89db0ae5384582a3c020b6a66ea90e": {
          "model_module": "@jupyter-widgets/controls",
          "model_module_version": "1.5.0",
          "model_name": "HTMLModel",
          "state": {
            "_dom_classes": [],
            "_model_module": "@jupyter-widgets/controls",
            "_model_module_version": "1.5.0",
            "_model_name": "HTMLModel",
            "_view_count": null,
            "_view_module": "@jupyter-widgets/controls",
            "_view_module_version": "1.5.0",
            "_view_name": "HTMLView",
            "description": "",
            "description_tooltip": null,
            "layout": "IPY_MODEL_2fcf21e6967845dc9919f1bf18cf95b5",
            "placeholder": "​",
            "style": "IPY_MODEL_699fceba4f69494d9880c7ae966fe09e",
            "value": "model-00001-of-00002.safetensors: 100%"
          }
        },
        "11892bac65d94d7cb9ea4a2a148a1f25": {
          "model_module": "@jupyter-widgets/base",
          "model_module_version": "1.2.0",
          "model_name": "LayoutModel",
          "state": {
            "_model_module": "@jupyter-widgets/base",
            "_model_module_version": "1.2.0",
            "_model_name": "LayoutModel",
            "_view_count": null,
            "_view_module": "@jupyter-widgets/base",
            "_view_module_version": "1.2.0",
            "_view_name": "LayoutView",
            "align_content": null,
            "align_items": null,
            "align_self": null,
            "border": null,
            "bottom": null,
            "display": null,
            "flex": null,
            "flex_flow": null,
            "grid_area": null,
            "grid_auto_columns": null,
            "grid_auto_flow": null,
            "grid_auto_rows": null,
            "grid_column": null,
            "grid_gap": null,
            "grid_row": null,
            "grid_template_areas": null,
            "grid_template_columns": null,
            "grid_template_rows": null,
            "height": null,
            "justify_content": null,
            "justify_items": null,
            "left": null,
            "margin": null,
            "max_height": null,
            "max_width": null,
            "min_height": null,
            "min_width": null,
            "object_fit": null,
            "object_position": null,
            "order": null,
            "overflow": null,
            "overflow_x": null,
            "overflow_y": null,
            "padding": null,
            "right": null,
            "top": null,
            "visibility": null,
            "width": null
          }
        },
        "1294844a581f42ffb98c4e68c614bbda": {
          "model_module": "@jupyter-widgets/controls",
          "model_module_version": "1.5.0",
          "model_name": "DescriptionStyleModel",
          "state": {
            "_model_module": "@jupyter-widgets/controls",
            "_model_module_version": "1.5.0",
            "_model_name": "DescriptionStyleModel",
            "_view_count": null,
            "_view_module": "@jupyter-widgets/base",
            "_view_module_version": "1.2.0",
            "_view_name": "StyleView",
            "description_width": ""
          }
        },
        "14908dbf58494703bd3d5897a5484550": {
          "model_module": "@jupyter-widgets/controls",
          "model_module_version": "1.5.0",
          "model_name": "FloatProgressModel",
          "state": {
            "_dom_classes": [],
            "_model_module": "@jupyter-widgets/controls",
            "_model_module_version": "1.5.0",
            "_model_name": "FloatProgressModel",
            "_view_count": null,
            "_view_module": "@jupyter-widgets/controls",
            "_view_module_version": "1.5.0",
            "_view_name": "ProgressView",
            "bar_style": "success",
            "description": "",
            "description_tooltip": null,
            "layout": "IPY_MODEL_bcd4856c327a4dfe8525998130896c24",
            "max": 116,
            "min": 0,
            "orientation": "horizontal",
            "style": "IPY_MODEL_4ac0468ea487445aa9da7b59ecc31034",
            "value": 116
          }
        },
        "16b3dd03b21a4080ab8924a024afe4b2": {
          "model_module": "@jupyter-widgets/controls",
          "model_module_version": "1.5.0",
          "model_name": "HBoxModel",
          "state": {
            "_dom_classes": [],
            "_model_module": "@jupyter-widgets/controls",
            "_model_module_version": "1.5.0",
            "_model_name": "HBoxModel",
            "_view_count": null,
            "_view_module": "@jupyter-widgets/controls",
            "_view_module_version": "1.5.0",
            "_view_name": "HBoxView",
            "box_style": "",
            "children": [
              "IPY_MODEL_1a72fca76fa3448492b8a112560d6a6c",
              "IPY_MODEL_f107f27928334cd09a67e6c88096dc32",
              "IPY_MODEL_77538c58255045a5ba516e3a28b5f313"
            ],
            "layout": "IPY_MODEL_8547ffffb4264ff1ad0ed505152ffe87"
          }
        },
        "17b1bdf91b114b8c901a2f7acc323dff": {
          "model_module": "@jupyter-widgets/controls",
          "model_module_version": "1.5.0",
          "model_name": "HBoxModel",
          "state": {
            "_dom_classes": [],
            "_model_module": "@jupyter-widgets/controls",
            "_model_module_version": "1.5.0",
            "_model_name": "HBoxModel",
            "_view_count": null,
            "_view_module": "@jupyter-widgets/controls",
            "_view_module_version": "1.5.0",
            "_view_name": "HBoxView",
            "box_style": "",
            "children": [
              "IPY_MODEL_b47fd383d77d4a82b5bc94a3a87b6a7e",
              "IPY_MODEL_b858df0e703149aa8a54c99c9438681f",
              "IPY_MODEL_2999fb7d8d804b378987f402948e02e8"
            ],
            "layout": "IPY_MODEL_f04436414d214bd8abc42a81fd19d3cd"
          }
        },
        "1a72fca76fa3448492b8a112560d6a6c": {
          "model_module": "@jupyter-widgets/controls",
          "model_module_version": "1.5.0",
          "model_name": "HTMLModel",
          "state": {
            "_dom_classes": [],
            "_model_module": "@jupyter-widgets/controls",
            "_model_module_version": "1.5.0",
            "_model_name": "HTMLModel",
            "_view_count": null,
            "_view_module": "@jupyter-widgets/controls",
            "_view_module_version": "1.5.0",
            "_view_name": "HTMLView",
            "description": "",
            "description_tooltip": null,
            "layout": "IPY_MODEL_7899d81c2ff342e9ba04eba7814eb29c",
            "placeholder": "​",
            "style": "IPY_MODEL_fcbfc7643ad742b6a70ea262eb789e72",
            "value": "tokenizer.json: 100%"
          }
        },
        "2104cc957cdc452f8302b13a605ac296": {
          "model_module": "@jupyter-widgets/controls",
          "model_module_version": "1.5.0",
          "model_name": "HTMLModel",
          "state": {
            "_dom_classes": [],
            "_model_module": "@jupyter-widgets/controls",
            "_model_module_version": "1.5.0",
            "_model_name": "HTMLModel",
            "_view_count": null,
            "_view_module": "@jupyter-widgets/controls",
            "_view_module_version": "1.5.0",
            "_view_name": "HTMLView",
            "description": "",
            "description_tooltip": null,
            "layout": "IPY_MODEL_c04819e0c5c846709d7af71d41afe673",
            "placeholder": "​",
            "style": "IPY_MODEL_fbba34e10e974193a3ef04e70f50eb09",
            "value": "tokenizer.model: 100%"
          }
        },
        "261c8877b0ad4284be37b87f54540ef5": {
          "model_module": "@jupyter-widgets/controls",
          "model_module_version": "1.5.0",
          "model_name": "HBoxModel",
          "state": {
            "_dom_classes": [],
            "_model_module": "@jupyter-widgets/controls",
            "_model_module_version": "1.5.0",
            "_model_name": "HBoxModel",
            "_view_count": null,
            "_view_module": "@jupyter-widgets/controls",
            "_view_module_version": "1.5.0",
            "_view_name": "HBoxView",
            "box_style": "",
            "children": [
              "IPY_MODEL_2104cc957cdc452f8302b13a605ac296",
              "IPY_MODEL_d2d6137dc04d4af3b7329f89e092e96f",
              "IPY_MODEL_750885cda80144888723ac8c596c0a6e"
            ],
            "layout": "IPY_MODEL_399aef908e8248d79d654de1b6f0e5fa"
          }
        },
        "28c8aad92a2547bfb1b8a35c0d822ba6": {
          "model_module": "@jupyter-widgets/controls",
          "model_module_version": "1.5.0",
          "model_name": "FloatProgressModel",
          "state": {
            "_dom_classes": [],
            "_model_module": "@jupyter-widgets/controls",
            "_model_module_version": "1.5.0",
            "_model_name": "FloatProgressModel",
            "_view_count": null,
            "_view_module": "@jupyter-widgets/controls",
            "_view_module_version": "1.5.0",
            "_view_name": "ProgressView",
            "bar_style": "success",
            "description": "",
            "description_tooltip": null,
            "layout": "IPY_MODEL_497db805d88e4c29ad1904c666e225dd",
            "max": 2,
            "min": 0,
            "orientation": "horizontal",
            "style": "IPY_MODEL_dea2e50ae48440249255af8a68feebe9",
            "value": 2
          }
        },
        "2999fb7d8d804b378987f402948e02e8": {
          "model_module": "@jupyter-widgets/controls",
          "model_module_version": "1.5.0",
          "model_name": "HTMLModel",
          "state": {
            "_dom_classes": [],
            "_model_module": "@jupyter-widgets/controls",
            "_model_module_version": "1.5.0",
            "_model_name": "HTMLModel",
            "_view_count": null,
            "_view_module": "@jupyter-widgets/controls",
            "_view_module_version": "1.5.0",
            "_view_name": "HTMLView",
            "description": "",
            "description_tooltip": null,
            "layout": "IPY_MODEL_42bfbb386178490488296f012f49e882",
            "placeholder": "​",
            "style": "IPY_MODEL_984b7b19810b47f8bfcec553212d7e5e",
            "value": " 571/571 [00:00&lt;00:00, 16.1kB/s]"
          }
        },
        "2eeda9dbc9b848d3ab57598737c411b0": {
          "model_module": "@jupyter-widgets/base",
          "model_module_version": "1.2.0",
          "model_name": "LayoutModel",
          "state": {
            "_model_module": "@jupyter-widgets/base",
            "_model_module_version": "1.2.0",
            "_model_name": "LayoutModel",
            "_view_count": null,
            "_view_module": "@jupyter-widgets/base",
            "_view_module_version": "1.2.0",
            "_view_name": "LayoutView",
            "align_content": null,
            "align_items": null,
            "align_self": null,
            "border": null,
            "bottom": null,
            "display": null,
            "flex": null,
            "flex_flow": null,
            "grid_area": null,
            "grid_auto_columns": null,
            "grid_auto_flow": null,
            "grid_auto_rows": null,
            "grid_column": null,
            "grid_gap": null,
            "grid_row": null,
            "grid_template_areas": null,
            "grid_template_columns": null,
            "grid_template_rows": null,
            "height": null,
            "justify_content": null,
            "justify_items": null,
            "left": null,
            "margin": null,
            "max_height": null,
            "max_width": null,
            "min_height": null,
            "min_width": null,
            "object_fit": null,
            "object_position": null,
            "order": null,
            "overflow": null,
            "overflow_x": null,
            "overflow_y": null,
            "padding": null,
            "right": null,
            "top": null,
            "visibility": null,
            "width": null
          }
        },
        "2fcf21e6967845dc9919f1bf18cf95b5": {
          "model_module": "@jupyter-widgets/base",
          "model_module_version": "1.2.0",
          "model_name": "LayoutModel",
          "state": {
            "_model_module": "@jupyter-widgets/base",
            "_model_module_version": "1.2.0",
            "_model_name": "LayoutModel",
            "_view_count": null,
            "_view_module": "@jupyter-widgets/base",
            "_view_module_version": "1.2.0",
            "_view_name": "LayoutView",
            "align_content": null,
            "align_items": null,
            "align_self": null,
            "border": null,
            "bottom": null,
            "display": null,
            "flex": null,
            "flex_flow": null,
            "grid_area": null,
            "grid_auto_columns": null,
            "grid_auto_flow": null,
            "grid_auto_rows": null,
            "grid_column": null,
            "grid_gap": null,
            "grid_row": null,
            "grid_template_areas": null,
            "grid_template_columns": null,
            "grid_template_rows": null,
            "height": null,
            "justify_content": null,
            "justify_items": null,
            "left": null,
            "margin": null,
            "max_height": null,
            "max_width": null,
            "min_height": null,
            "min_width": null,
            "object_fit": null,
            "object_position": null,
            "order": null,
            "overflow": null,
            "overflow_x": null,
            "overflow_y": null,
            "padding": null,
            "right": null,
            "top": null,
            "visibility": null,
            "width": null
          }
        },
        "317af1918dfd4b398a6d74172e9f8fd6": {
          "model_module": "@jupyter-widgets/controls",
          "model_module_version": "1.5.0",
          "model_name": "HBoxModel",
          "state": {
            "_dom_classes": [],
            "_model_module": "@jupyter-widgets/controls",
            "_model_module_version": "1.5.0",
            "_model_name": "HBoxModel",
            "_view_count": null,
            "_view_module": "@jupyter-widgets/controls",
            "_view_module_version": "1.5.0",
            "_view_name": "HBoxView",
            "box_style": "",
            "children": [
              "IPY_MODEL_96c9396cfb5648a9b64511c7880fab6b",
              "IPY_MODEL_a08251b226c54740b712c922f0198e3f",
              "IPY_MODEL_efa1df85c22540ddac5bf931000a25a8"
            ],
            "layout": "IPY_MODEL_78ccc0f0cc054484bbd5fcaac9242b33"
          }
        },
        "378bb28bd7b94d1caa0a26135020cc1d": {
          "model_module": "@jupyter-widgets/base",
          "model_module_version": "1.2.0",
          "model_name": "LayoutModel",
          "state": {
            "_model_module": "@jupyter-widgets/base",
            "_model_module_version": "1.2.0",
            "_model_name": "LayoutModel",
            "_view_count": null,
            "_view_module": "@jupyter-widgets/base",
            "_view_module_version": "1.2.0",
            "_view_name": "LayoutView",
            "align_content": null,
            "align_items": null,
            "align_self": null,
            "border": null,
            "bottom": null,
            "display": null,
            "flex": null,
            "flex_flow": null,
            "grid_area": null,
            "grid_auto_columns": null,
            "grid_auto_flow": null,
            "grid_auto_rows": null,
            "grid_column": null,
            "grid_gap": null,
            "grid_row": null,
            "grid_template_areas": null,
            "grid_template_columns": null,
            "grid_template_rows": null,
            "height": null,
            "justify_content": null,
            "justify_items": null,
            "left": null,
            "margin": null,
            "max_height": null,
            "max_width": null,
            "min_height": null,
            "min_width": null,
            "object_fit": null,
            "object_position": null,
            "order": null,
            "overflow": null,
            "overflow_x": null,
            "overflow_y": null,
            "padding": null,
            "right": null,
            "top": null,
            "visibility": null,
            "width": null
          }
        },
        "37d97c0515dc464981092ed37b6ede5b": {
          "model_module": "@jupyter-widgets/base",
          "model_module_version": "1.2.0",
          "model_name": "LayoutModel",
          "state": {
            "_model_module": "@jupyter-widgets/base",
            "_model_module_version": "1.2.0",
            "_model_name": "LayoutModel",
            "_view_count": null,
            "_view_module": "@jupyter-widgets/base",
            "_view_module_version": "1.2.0",
            "_view_name": "LayoutView",
            "align_content": null,
            "align_items": null,
            "align_self": null,
            "border": null,
            "bottom": null,
            "display": null,
            "flex": null,
            "flex_flow": null,
            "grid_area": null,
            "grid_auto_columns": null,
            "grid_auto_flow": null,
            "grid_auto_rows": null,
            "grid_column": null,
            "grid_gap": null,
            "grid_row": null,
            "grid_template_areas": null,
            "grid_template_columns": null,
            "grid_template_rows": null,
            "height": null,
            "justify_content": null,
            "justify_items": null,
            "left": null,
            "margin": null,
            "max_height": null,
            "max_width": null,
            "min_height": null,
            "min_width": null,
            "object_fit": null,
            "object_position": null,
            "order": null,
            "overflow": null,
            "overflow_x": null,
            "overflow_y": null,
            "padding": null,
            "right": null,
            "top": null,
            "visibility": null,
            "width": null
          }
        },
        "3966e2a36de74b85bbe0eedb0d95c743": {
          "model_module": "@jupyter-widgets/controls",
          "model_module_version": "1.5.0",
          "model_name": "HBoxModel",
          "state": {
            "_dom_classes": [],
            "_model_module": "@jupyter-widgets/controls",
            "_model_module_version": "1.5.0",
            "_model_name": "HBoxModel",
            "_view_count": null,
            "_view_module": "@jupyter-widgets/controls",
            "_view_module_version": "1.5.0",
            "_view_name": "HBoxView",
            "box_style": "",
            "children": [
              "IPY_MODEL_033aecb6f5344b0989c814a4993df0a3",
              "IPY_MODEL_9e1f64f95c934d6783cfe40cc9b0e460",
              "IPY_MODEL_62f13a4957d0435e8e41fcd31db19e59"
            ],
            "layout": "IPY_MODEL_4cd4974bcb9b4460a4af6146ea47e1b3"
          }
        },
        "399aef908e8248d79d654de1b6f0e5fa": {
          "model_module": "@jupyter-widgets/base",
          "model_module_version": "1.2.0",
          "model_name": "LayoutModel",
          "state": {
            "_model_module": "@jupyter-widgets/base",
            "_model_module_version": "1.2.0",
            "_model_name": "LayoutModel",
            "_view_count": null,
            "_view_module": "@jupyter-widgets/base",
            "_view_module_version": "1.2.0",
            "_view_name": "LayoutView",
            "align_content": null,
            "align_items": null,
            "align_self": null,
            "border": null,
            "bottom": null,
            "display": null,
            "flex": null,
            "flex_flow": null,
            "grid_area": null,
            "grid_auto_columns": null,
            "grid_auto_flow": null,
            "grid_auto_rows": null,
            "grid_column": null,
            "grid_gap": null,
            "grid_row": null,
            "grid_template_areas": null,
            "grid_template_columns": null,
            "grid_template_rows": null,
            "height": null,
            "justify_content": null,
            "justify_items": null,
            "left": null,
            "margin": null,
            "max_height": null,
            "max_width": null,
            "min_height": null,
            "min_width": null,
            "object_fit": null,
            "object_position": null,
            "order": null,
            "overflow": null,
            "overflow_x": null,
            "overflow_y": null,
            "padding": null,
            "right": null,
            "top": null,
            "visibility": null,
            "width": null
          }
        },
        "3b26d0c3c8204af99ea53d36428f207c": {
          "model_module": "@jupyter-widgets/base",
          "model_module_version": "1.2.0",
          "model_name": "LayoutModel",
          "state": {
            "_model_module": "@jupyter-widgets/base",
            "_model_module_version": "1.2.0",
            "_model_name": "LayoutModel",
            "_view_count": null,
            "_view_module": "@jupyter-widgets/base",
            "_view_module_version": "1.2.0",
            "_view_name": "LayoutView",
            "align_content": null,
            "align_items": null,
            "align_self": null,
            "border": null,
            "bottom": null,
            "display": null,
            "flex": null,
            "flex_flow": null,
            "grid_area": null,
            "grid_auto_columns": null,
            "grid_auto_flow": null,
            "grid_auto_rows": null,
            "grid_column": null,
            "grid_gap": null,
            "grid_row": null,
            "grid_template_areas": null,
            "grid_template_columns": null,
            "grid_template_rows": null,
            "height": null,
            "justify_content": null,
            "justify_items": null,
            "left": null,
            "margin": null,
            "max_height": null,
            "max_width": null,
            "min_height": null,
            "min_width": null,
            "object_fit": null,
            "object_position": null,
            "order": null,
            "overflow": null,
            "overflow_x": null,
            "overflow_y": null,
            "padding": null,
            "right": null,
            "top": null,
            "visibility": null,
            "width": null
          }
        },
        "3b4180fbe3224530872cdb62f705f112": {
          "model_module": "@jupyter-widgets/controls",
          "model_module_version": "1.5.0",
          "model_name": "DescriptionStyleModel",
          "state": {
            "_model_module": "@jupyter-widgets/controls",
            "_model_module_version": "1.5.0",
            "_model_name": "DescriptionStyleModel",
            "_view_count": null,
            "_view_module": "@jupyter-widgets/base",
            "_view_module_version": "1.2.0",
            "_view_name": "StyleView",
            "description_width": ""
          }
        },
        "3b6e5e9661f846d8a95275bf0bb76030": {
          "model_module": "@jupyter-widgets/controls",
          "model_module_version": "1.5.0",
          "model_name": "HTMLModel",
          "state": {
            "_dom_classes": [],
            "_model_module": "@jupyter-widgets/controls",
            "_model_module_version": "1.5.0",
            "_model_name": "HTMLModel",
            "_view_count": null,
            "_view_module": "@jupyter-widgets/controls",
            "_view_module_version": "1.5.0",
            "_view_name": "HTMLView",
            "description": "",
            "description_tooltip": null,
            "layout": "IPY_MODEL_55f42be464b9471fb1064b7fcb998c5b",
            "placeholder": "​",
            "style": "IPY_MODEL_7a1516e018494c8fa9d4a9b5377d7662",
            "value": " 116/116 [00:00&lt;00:00, 6.79kB/s]"
          }
        },
        "3c49717850774a168833d383b27c8775": {
          "model_module": "@jupyter-widgets/base",
          "model_module_version": "1.2.0",
          "model_name": "LayoutModel",
          "state": {
            "_model_module": "@jupyter-widgets/base",
            "_model_module_version": "1.2.0",
            "_model_name": "LayoutModel",
            "_view_count": null,
            "_view_module": "@jupyter-widgets/base",
            "_view_module_version": "1.2.0",
            "_view_name": "LayoutView",
            "align_content": null,
            "align_items": null,
            "align_self": null,
            "border": null,
            "bottom": null,
            "display": null,
            "flex": null,
            "flex_flow": null,
            "grid_area": null,
            "grid_auto_columns": null,
            "grid_auto_flow": null,
            "grid_auto_rows": null,
            "grid_column": null,
            "grid_gap": null,
            "grid_row": null,
            "grid_template_areas": null,
            "grid_template_columns": null,
            "grid_template_rows": null,
            "height": null,
            "justify_content": null,
            "justify_items": null,
            "left": null,
            "margin": null,
            "max_height": null,
            "max_width": null,
            "min_height": null,
            "min_width": null,
            "object_fit": null,
            "object_position": null,
            "order": null,
            "overflow": null,
            "overflow_x": null,
            "overflow_y": null,
            "padding": null,
            "right": null,
            "top": null,
            "visibility": null,
            "width": null
          }
        },
        "41e890bdbdd64d2eb3aa70b5aeeae910": {
          "model_module": "@jupyter-widgets/controls",
          "model_module_version": "1.5.0",
          "model_name": "DescriptionStyleModel",
          "state": {
            "_model_module": "@jupyter-widgets/controls",
            "_model_module_version": "1.5.0",
            "_model_name": "DescriptionStyleModel",
            "_view_count": null,
            "_view_module": "@jupyter-widgets/base",
            "_view_module_version": "1.2.0",
            "_view_name": "StyleView",
            "description_width": ""
          }
        },
        "42bfbb386178490488296f012f49e882": {
          "model_module": "@jupyter-widgets/base",
          "model_module_version": "1.2.0",
          "model_name": "LayoutModel",
          "state": {
            "_model_module": "@jupyter-widgets/base",
            "_model_module_version": "1.2.0",
            "_model_name": "LayoutModel",
            "_view_count": null,
            "_view_module": "@jupyter-widgets/base",
            "_view_module_version": "1.2.0",
            "_view_name": "LayoutView",
            "align_content": null,
            "align_items": null,
            "align_self": null,
            "border": null,
            "bottom": null,
            "display": null,
            "flex": null,
            "flex_flow": null,
            "grid_area": null,
            "grid_auto_columns": null,
            "grid_auto_flow": null,
            "grid_auto_rows": null,
            "grid_column": null,
            "grid_gap": null,
            "grid_row": null,
            "grid_template_areas": null,
            "grid_template_columns": null,
            "grid_template_rows": null,
            "height": null,
            "justify_content": null,
            "justify_items": null,
            "left": null,
            "margin": null,
            "max_height": null,
            "max_width": null,
            "min_height": null,
            "min_width": null,
            "object_fit": null,
            "object_position": null,
            "order": null,
            "overflow": null,
            "overflow_x": null,
            "overflow_y": null,
            "padding": null,
            "right": null,
            "top": null,
            "visibility": null,
            "width": null
          }
        },
        "441b5d049022434eb3bdab5d4bf8e681": {
          "model_module": "@jupyter-widgets/controls",
          "model_module_version": "1.5.0",
          "model_name": "DescriptionStyleModel",
          "state": {
            "_model_module": "@jupyter-widgets/controls",
            "_model_module_version": "1.5.0",
            "_model_name": "DescriptionStyleModel",
            "_view_count": null,
            "_view_module": "@jupyter-widgets/base",
            "_view_module_version": "1.2.0",
            "_view_name": "StyleView",
            "description_width": ""
          }
        },
        "4686665463da47bd8bedfd6e02a6cc9d": {
          "model_module": "@jupyter-widgets/base",
          "model_module_version": "1.2.0",
          "model_name": "LayoutModel",
          "state": {
            "_model_module": "@jupyter-widgets/base",
            "_model_module_version": "1.2.0",
            "_model_name": "LayoutModel",
            "_view_count": null,
            "_view_module": "@jupyter-widgets/base",
            "_view_module_version": "1.2.0",
            "_view_name": "LayoutView",
            "align_content": null,
            "align_items": null,
            "align_self": null,
            "border": null,
            "bottom": null,
            "display": null,
            "flex": null,
            "flex_flow": null,
            "grid_area": null,
            "grid_auto_columns": null,
            "grid_auto_flow": null,
            "grid_auto_rows": null,
            "grid_column": null,
            "grid_gap": null,
            "grid_row": null,
            "grid_template_areas": null,
            "grid_template_columns": null,
            "grid_template_rows": null,
            "height": null,
            "justify_content": null,
            "justify_items": null,
            "left": null,
            "margin": null,
            "max_height": null,
            "max_width": null,
            "min_height": null,
            "min_width": null,
            "object_fit": null,
            "object_position": null,
            "order": null,
            "overflow": null,
            "overflow_x": null,
            "overflow_y": null,
            "padding": null,
            "right": null,
            "top": null,
            "visibility": null,
            "width": null
          }
        },
        "497db805d88e4c29ad1904c666e225dd": {
          "model_module": "@jupyter-widgets/base",
          "model_module_version": "1.2.0",
          "model_name": "LayoutModel",
          "state": {
            "_model_module": "@jupyter-widgets/base",
            "_model_module_version": "1.2.0",
            "_model_name": "LayoutModel",
            "_view_count": null,
            "_view_module": "@jupyter-widgets/base",
            "_view_module_version": "1.2.0",
            "_view_name": "LayoutView",
            "align_content": null,
            "align_items": null,
            "align_self": null,
            "border": null,
            "bottom": null,
            "display": null,
            "flex": null,
            "flex_flow": null,
            "grid_area": null,
            "grid_auto_columns": null,
            "grid_auto_flow": null,
            "grid_auto_rows": null,
            "grid_column": null,
            "grid_gap": null,
            "grid_row": null,
            "grid_template_areas": null,
            "grid_template_columns": null,
            "grid_template_rows": null,
            "height": null,
            "justify_content": null,
            "justify_items": null,
            "left": null,
            "margin": null,
            "max_height": null,
            "max_width": null,
            "min_height": null,
            "min_width": null,
            "object_fit": null,
            "object_position": null,
            "order": null,
            "overflow": null,
            "overflow_x": null,
            "overflow_y": null,
            "padding": null,
            "right": null,
            "top": null,
            "visibility": null,
            "width": null
          }
        },
        "4ac0468ea487445aa9da7b59ecc31034": {
          "model_module": "@jupyter-widgets/controls",
          "model_module_version": "1.5.0",
          "model_name": "ProgressStyleModel",
          "state": {
            "_model_module": "@jupyter-widgets/controls",
            "_model_module_version": "1.5.0",
            "_model_name": "ProgressStyleModel",
            "_view_count": null,
            "_view_module": "@jupyter-widgets/base",
            "_view_module_version": "1.2.0",
            "_view_name": "StyleView",
            "bar_color": null,
            "description_width": ""
          }
        },
        "4cd4974bcb9b4460a4af6146ea47e1b3": {
          "model_module": "@jupyter-widgets/base",
          "model_module_version": "1.2.0",
          "model_name": "LayoutModel",
          "state": {
            "_model_module": "@jupyter-widgets/base",
            "_model_module_version": "1.2.0",
            "_model_name": "LayoutModel",
            "_view_count": null,
            "_view_module": "@jupyter-widgets/base",
            "_view_module_version": "1.2.0",
            "_view_name": "LayoutView",
            "align_content": null,
            "align_items": null,
            "align_self": null,
            "border": null,
            "bottom": null,
            "display": null,
            "flex": null,
            "flex_flow": null,
            "grid_area": null,
            "grid_auto_columns": null,
            "grid_auto_flow": null,
            "grid_auto_rows": null,
            "grid_column": null,
            "grid_gap": null,
            "grid_row": null,
            "grid_template_areas": null,
            "grid_template_columns": null,
            "grid_template_rows": null,
            "height": null,
            "justify_content": null,
            "justify_items": null,
            "left": null,
            "margin": null,
            "max_height": null,
            "max_width": null,
            "min_height": null,
            "min_width": null,
            "object_fit": null,
            "object_position": null,
            "order": null,
            "overflow": null,
            "overflow_x": null,
            "overflow_y": null,
            "padding": null,
            "right": null,
            "top": null,
            "visibility": null,
            "width": null
          }
        },
        "4da9a9c79a9c4a4492c9adc676b94f36": {
          "model_module": "@jupyter-widgets/controls",
          "model_module_version": "1.5.0",
          "model_name": "DescriptionStyleModel",
          "state": {
            "_model_module": "@jupyter-widgets/controls",
            "_model_module_version": "1.5.0",
            "_model_name": "DescriptionStyleModel",
            "_view_count": null,
            "_view_module": "@jupyter-widgets/base",
            "_view_module_version": "1.2.0",
            "_view_name": "StyleView",
            "description_width": ""
          }
        },
        "4df930805146489ea8ceab090e439529": {
          "model_module": "@jupyter-widgets/base",
          "model_module_version": "1.2.0",
          "model_name": "LayoutModel",
          "state": {
            "_model_module": "@jupyter-widgets/base",
            "_model_module_version": "1.2.0",
            "_model_name": "LayoutModel",
            "_view_count": null,
            "_view_module": "@jupyter-widgets/base",
            "_view_module_version": "1.2.0",
            "_view_name": "LayoutView",
            "align_content": null,
            "align_items": null,
            "align_self": null,
            "border": null,
            "bottom": null,
            "display": null,
            "flex": null,
            "flex_flow": null,
            "grid_area": null,
            "grid_auto_columns": null,
            "grid_auto_flow": null,
            "grid_auto_rows": null,
            "grid_column": null,
            "grid_gap": null,
            "grid_row": null,
            "grid_template_areas": null,
            "grid_template_columns": null,
            "grid_template_rows": null,
            "height": null,
            "justify_content": null,
            "justify_items": null,
            "left": null,
            "margin": null,
            "max_height": null,
            "max_width": null,
            "min_height": null,
            "min_width": null,
            "object_fit": null,
            "object_position": null,
            "order": null,
            "overflow": null,
            "overflow_x": null,
            "overflow_y": null,
            "padding": null,
            "right": null,
            "top": null,
            "visibility": null,
            "width": null
          }
        },
        "55f42be464b9471fb1064b7fcb998c5b": {
          "model_module": "@jupyter-widgets/base",
          "model_module_version": "1.2.0",
          "model_name": "LayoutModel",
          "state": {
            "_model_module": "@jupyter-widgets/base",
            "_model_module_version": "1.2.0",
            "_model_name": "LayoutModel",
            "_view_count": null,
            "_view_module": "@jupyter-widgets/base",
            "_view_module_version": "1.2.0",
            "_view_name": "LayoutView",
            "align_content": null,
            "align_items": null,
            "align_self": null,
            "border": null,
            "bottom": null,
            "display": null,
            "flex": null,
            "flex_flow": null,
            "grid_area": null,
            "grid_auto_columns": null,
            "grid_auto_flow": null,
            "grid_auto_rows": null,
            "grid_column": null,
            "grid_gap": null,
            "grid_row": null,
            "grid_template_areas": null,
            "grid_template_columns": null,
            "grid_template_rows": null,
            "height": null,
            "justify_content": null,
            "justify_items": null,
            "left": null,
            "margin": null,
            "max_height": null,
            "max_width": null,
            "min_height": null,
            "min_width": null,
            "object_fit": null,
            "object_position": null,
            "order": null,
            "overflow": null,
            "overflow_x": null,
            "overflow_y": null,
            "padding": null,
            "right": null,
            "top": null,
            "visibility": null,
            "width": null
          }
        },
        "59f704a9bef34cb985431add304bd251": {
          "model_module": "@jupyter-widgets/controls",
          "model_module_version": "1.5.0",
          "model_name": "DescriptionStyleModel",
          "state": {
            "_model_module": "@jupyter-widgets/controls",
            "_model_module_version": "1.5.0",
            "_model_name": "DescriptionStyleModel",
            "_view_count": null,
            "_view_module": "@jupyter-widgets/base",
            "_view_module_version": "1.2.0",
            "_view_name": "StyleView",
            "description_width": ""
          }
        },
        "5a4adef4a4304c1299fbe7930d930295": {
          "model_module": "@jupyter-widgets/controls",
          "model_module_version": "1.5.0",
          "model_name": "HTMLModel",
          "state": {
            "_dom_classes": [],
            "_model_module": "@jupyter-widgets/controls",
            "_model_module_version": "1.5.0",
            "_model_name": "HTMLModel",
            "_view_count": null,
            "_view_module": "@jupyter-widgets/controls",
            "_view_module_version": "1.5.0",
            "_view_name": "HTMLView",
            "description": "",
            "description_tooltip": null,
            "layout": "IPY_MODEL_a086f3490c9d474ba6111e1677e65a18",
            "placeholder": "​",
            "style": "IPY_MODEL_d56d18adf4c445539ac8ef375263de2b",
            "value": "model.safetensors.index.json: 100%"
          }
        },
        "5b5ca573ccd2448eb23d79420f67f5a8": {
          "model_module": "@jupyter-widgets/base",
          "model_module_version": "1.2.0",
          "model_name": "LayoutModel",
          "state": {
            "_model_module": "@jupyter-widgets/base",
            "_model_module_version": "1.2.0",
            "_model_name": "LayoutModel",
            "_view_count": null,
            "_view_module": "@jupyter-widgets/base",
            "_view_module_version": "1.2.0",
            "_view_name": "LayoutView",
            "align_content": null,
            "align_items": null,
            "align_self": null,
            "border": null,
            "bottom": null,
            "display": null,
            "flex": null,
            "flex_flow": null,
            "grid_area": null,
            "grid_auto_columns": null,
            "grid_auto_flow": null,
            "grid_auto_rows": null,
            "grid_column": null,
            "grid_gap": null,
            "grid_row": null,
            "grid_template_areas": null,
            "grid_template_columns": null,
            "grid_template_rows": null,
            "height": null,
            "justify_content": null,
            "justify_items": null,
            "left": null,
            "margin": null,
            "max_height": null,
            "max_width": null,
            "min_height": null,
            "min_width": null,
            "object_fit": null,
            "object_position": null,
            "order": null,
            "overflow": null,
            "overflow_x": null,
            "overflow_y": null,
            "padding": null,
            "right": null,
            "top": null,
            "visibility": null,
            "width": null
          }
        },
        "5c5d7dabc02a48c8874239122d324bf3": {
          "model_module": "@jupyter-widgets/controls",
          "model_module_version": "1.5.0",
          "model_name": "ProgressStyleModel",
          "state": {
            "_model_module": "@jupyter-widgets/controls",
            "_model_module_version": "1.5.0",
            "_model_name": "ProgressStyleModel",
            "_view_count": null,
            "_view_module": "@jupyter-widgets/base",
            "_view_module_version": "1.2.0",
            "_view_name": "StyleView",
            "bar_color": null,
            "description_width": ""
          }
        },
        "5cc40c50e2db47b39e6b3444189b2371": {
          "model_module": "@jupyter-widgets/controls",
          "model_module_version": "1.5.0",
          "model_name": "DescriptionStyleModel",
          "state": {
            "_model_module": "@jupyter-widgets/controls",
            "_model_module_version": "1.5.0",
            "_model_name": "DescriptionStyleModel",
            "_view_count": null,
            "_view_module": "@jupyter-widgets/base",
            "_view_module_version": "1.2.0",
            "_view_name": "StyleView",
            "description_width": ""
          }
        },
        "5d28a0e8118e4fa38e1ecd7547997f40": {
          "model_module": "@jupyter-widgets/base",
          "model_module_version": "1.2.0",
          "model_name": "LayoutModel",
          "state": {
            "_model_module": "@jupyter-widgets/base",
            "_model_module_version": "1.2.0",
            "_model_name": "LayoutModel",
            "_view_count": null,
            "_view_module": "@jupyter-widgets/base",
            "_view_module_version": "1.2.0",
            "_view_name": "LayoutView",
            "align_content": null,
            "align_items": null,
            "align_self": null,
            "border": null,
            "bottom": null,
            "display": null,
            "flex": null,
            "flex_flow": null,
            "grid_area": null,
            "grid_auto_columns": null,
            "grid_auto_flow": null,
            "grid_auto_rows": null,
            "grid_column": null,
            "grid_gap": null,
            "grid_row": null,
            "grid_template_areas": null,
            "grid_template_columns": null,
            "grid_template_rows": null,
            "height": null,
            "justify_content": null,
            "justify_items": null,
            "left": null,
            "margin": null,
            "max_height": null,
            "max_width": null,
            "min_height": null,
            "min_width": null,
            "object_fit": null,
            "object_position": null,
            "order": null,
            "overflow": null,
            "overflow_x": null,
            "overflow_y": null,
            "padding": null,
            "right": null,
            "top": null,
            "visibility": null,
            "width": null
          }
        },
        "5d679bf6dccc4a81a2ec99bf925dda84": {
          "model_module": "@jupyter-widgets/controls",
          "model_module_version": "1.5.0",
          "model_name": "HTMLModel",
          "state": {
            "_dom_classes": [],
            "_model_module": "@jupyter-widgets/controls",
            "_model_module_version": "1.5.0",
            "_model_name": "HTMLModel",
            "_view_count": null,
            "_view_module": "@jupyter-widgets/controls",
            "_view_module_version": "1.5.0",
            "_view_name": "HTMLView",
            "description": "",
            "description_tooltip": null,
            "layout": "IPY_MODEL_06bb0e127b664c6d9df045c231a2752b",
            "placeholder": "​",
            "style": "IPY_MODEL_0688714b9d0440a6800b3a9ece3aca8a",
            "value": " 2/2 [01:00&lt;00:00, 28.41s/it]"
          }
        },
        "62f13a4957d0435e8e41fcd31db19e59": {
          "model_module": "@jupyter-widgets/controls",
          "model_module_version": "1.5.0",
          "model_name": "HTMLModel",
          "state": {
            "_dom_classes": [],
            "_model_module": "@jupyter-widgets/controls",
            "_model_module_version": "1.5.0",
            "_model_name": "HTMLModel",
            "_view_count": null,
            "_view_module": "@jupyter-widgets/controls",
            "_view_module_version": "1.5.0",
            "_view_name": "HTMLView",
            "description": "",
            "description_tooltip": null,
            "layout": "IPY_MODEL_ab0ac70bd9aa4878b51b69ee95c8042b",
            "placeholder": "​",
            "style": "IPY_MODEL_0aca3844e3bd4fc39407fabe20d36a7a",
            "value": " 1.47k/1.47k [00:00&lt;00:00, 80.6kB/s]"
          }
        },
        "66e04be621704991af51d28656b1f7b7": {
          "model_module": "@jupyter-widgets/base",
          "model_module_version": "1.2.0",
          "model_name": "LayoutModel",
          "state": {
            "_model_module": "@jupyter-widgets/base",
            "_model_module_version": "1.2.0",
            "_model_name": "LayoutModel",
            "_view_count": null,
            "_view_module": "@jupyter-widgets/base",
            "_view_module_version": "1.2.0",
            "_view_name": "LayoutView",
            "align_content": null,
            "align_items": null,
            "align_self": null,
            "border": null,
            "bottom": null,
            "display": null,
            "flex": null,
            "flex_flow": null,
            "grid_area": null,
            "grid_auto_columns": null,
            "grid_auto_flow": null,
            "grid_auto_rows": null,
            "grid_column": null,
            "grid_gap": null,
            "grid_row": null,
            "grid_template_areas": null,
            "grid_template_columns": null,
            "grid_template_rows": null,
            "height": null,
            "justify_content": null,
            "justify_items": null,
            "left": null,
            "margin": null,
            "max_height": null,
            "max_width": null,
            "min_height": null,
            "min_width": null,
            "object_fit": null,
            "object_position": null,
            "order": null,
            "overflow": null,
            "overflow_x": null,
            "overflow_y": null,
            "padding": null,
            "right": null,
            "top": null,
            "visibility": null,
            "width": null
          }
        },
        "671efe3eef0145679bd23557bbd919b1": {
          "model_module": "@jupyter-widgets/controls",
          "model_module_version": "1.5.0",
          "model_name": "ProgressStyleModel",
          "state": {
            "_model_module": "@jupyter-widgets/controls",
            "_model_module_version": "1.5.0",
            "_model_name": "ProgressStyleModel",
            "_view_count": null,
            "_view_module": "@jupyter-widgets/base",
            "_view_module_version": "1.2.0",
            "_view_name": "StyleView",
            "bar_color": null,
            "description_width": ""
          }
        },
        "6986aab367554c64ae50fa969e7fdb8a": {
          "model_module": "@jupyter-widgets/controls",
          "model_module_version": "1.5.0",
          "model_name": "ProgressStyleModel",
          "state": {
            "_model_module": "@jupyter-widgets/controls",
            "_model_module_version": "1.5.0",
            "_model_name": "ProgressStyleModel",
            "_view_count": null,
            "_view_module": "@jupyter-widgets/base",
            "_view_module_version": "1.2.0",
            "_view_name": "StyleView",
            "bar_color": null,
            "description_width": ""
          }
        },
        "699fceba4f69494d9880c7ae966fe09e": {
          "model_module": "@jupyter-widgets/controls",
          "model_module_version": "1.5.0",
          "model_name": "DescriptionStyleModel",
          "state": {
            "_model_module": "@jupyter-widgets/controls",
            "_model_module_version": "1.5.0",
            "_model_name": "DescriptionStyleModel",
            "_view_count": null,
            "_view_module": "@jupyter-widgets/base",
            "_view_module_version": "1.2.0",
            "_view_name": "StyleView",
            "description_width": ""
          }
        },
        "6bb0f09905ca41b1aa5cffdedde099ea": {
          "model_module": "@jupyter-widgets/base",
          "model_module_version": "1.2.0",
          "model_name": "LayoutModel",
          "state": {
            "_model_module": "@jupyter-widgets/base",
            "_model_module_version": "1.2.0",
            "_model_name": "LayoutModel",
            "_view_count": null,
            "_view_module": "@jupyter-widgets/base",
            "_view_module_version": "1.2.0",
            "_view_name": "LayoutView",
            "align_content": null,
            "align_items": null,
            "align_self": null,
            "border": null,
            "bottom": null,
            "display": null,
            "flex": null,
            "flex_flow": null,
            "grid_area": null,
            "grid_auto_columns": null,
            "grid_auto_flow": null,
            "grid_auto_rows": null,
            "grid_column": null,
            "grid_gap": null,
            "grid_row": null,
            "grid_template_areas": null,
            "grid_template_columns": null,
            "grid_template_rows": null,
            "height": null,
            "justify_content": null,
            "justify_items": null,
            "left": null,
            "margin": null,
            "max_height": null,
            "max_width": null,
            "min_height": null,
            "min_width": null,
            "object_fit": null,
            "object_position": null,
            "order": null,
            "overflow": null,
            "overflow_x": null,
            "overflow_y": null,
            "padding": null,
            "right": null,
            "top": null,
            "visibility": null,
            "width": null
          }
        },
        "71d3b4c742824f1ab2226acb1016d6c0": {
          "model_module": "@jupyter-widgets/controls",
          "model_module_version": "1.5.0",
          "model_name": "HTMLModel",
          "state": {
            "_dom_classes": [],
            "_model_module": "@jupyter-widgets/controls",
            "_model_module_version": "1.5.0",
            "_model_name": "HTMLModel",
            "_view_count": null,
            "_view_module": "@jupyter-widgets/controls",
            "_view_module_version": "1.5.0",
            "_view_name": "HTMLView",
            "description": "",
            "description_tooltip": null,
            "layout": "IPY_MODEL_37d97c0515dc464981092ed37b6ede5b",
            "placeholder": "​",
            "style": "IPY_MODEL_d0f6de039e8d4b7ca651f63b8e60a8df",
            "value": " 72.0/72.0 [00:00&lt;00:00, 2.70kB/s]"
          }
        },
        "750885cda80144888723ac8c596c0a6e": {
          "model_module": "@jupyter-widgets/controls",
          "model_module_version": "1.5.0",
          "model_name": "HTMLModel",
          "state": {
            "_dom_classes": [],
            "_model_module": "@jupyter-widgets/controls",
            "_model_module_version": "1.5.0",
            "_model_name": "HTMLModel",
            "_view_count": null,
            "_view_module": "@jupyter-widgets/controls",
            "_view_module_version": "1.5.0",
            "_view_name": "HTMLView",
            "description": "",
            "description_tooltip": null,
            "layout": "IPY_MODEL_4df930805146489ea8ceab090e439529",
            "placeholder": "​",
            "style": "IPY_MODEL_af34c22f88f94255afaa548ae191ea3c",
            "value": " 493k/493k [00:00&lt;00:00, 9.39MB/s]"
          }
        },
        "75ca511ebe16412890031441f6618d7d": {
          "model_module": "@jupyter-widgets/controls",
          "model_module_version": "1.5.0",
          "model_name": "ProgressStyleModel",
          "state": {
            "_model_module": "@jupyter-widgets/controls",
            "_model_module_version": "1.5.0",
            "_model_name": "ProgressStyleModel",
            "_view_count": null,
            "_view_module": "@jupyter-widgets/base",
            "_view_module_version": "1.2.0",
            "_view_name": "StyleView",
            "bar_color": null,
            "description_width": ""
          }
        },
        "77538c58255045a5ba516e3a28b5f313": {
          "model_module": "@jupyter-widgets/controls",
          "model_module_version": "1.5.0",
          "model_name": "HTMLModel",
          "state": {
            "_dom_classes": [],
            "_model_module": "@jupyter-widgets/controls",
            "_model_module_version": "1.5.0",
            "_model_name": "HTMLModel",
            "_view_count": null,
            "_view_module": "@jupyter-widgets/controls",
            "_view_module_version": "1.5.0",
            "_view_name": "HTMLView",
            "description": "",
            "description_tooltip": null,
            "layout": "IPY_MODEL_3c49717850774a168833d383b27c8775",
            "placeholder": "​",
            "style": "IPY_MODEL_5cc40c50e2db47b39e6b3444189b2371",
            "value": " 1.80M/1.80M [00:00&lt;00:00, 5.45MB/s]"
          }
        },
        "7899d81c2ff342e9ba04eba7814eb29c": {
          "model_module": "@jupyter-widgets/base",
          "model_module_version": "1.2.0",
          "model_name": "LayoutModel",
          "state": {
            "_model_module": "@jupyter-widgets/base",
            "_model_module_version": "1.2.0",
            "_model_name": "LayoutModel",
            "_view_count": null,
            "_view_module": "@jupyter-widgets/base",
            "_view_module_version": "1.2.0",
            "_view_name": "LayoutView",
            "align_content": null,
            "align_items": null,
            "align_self": null,
            "border": null,
            "bottom": null,
            "display": null,
            "flex": null,
            "flex_flow": null,
            "grid_area": null,
            "grid_auto_columns": null,
            "grid_auto_flow": null,
            "grid_auto_rows": null,
            "grid_column": null,
            "grid_gap": null,
            "grid_row": null,
            "grid_template_areas": null,
            "grid_template_columns": null,
            "grid_template_rows": null,
            "height": null,
            "justify_content": null,
            "justify_items": null,
            "left": null,
            "margin": null,
            "max_height": null,
            "max_width": null,
            "min_height": null,
            "min_width": null,
            "object_fit": null,
            "object_position": null,
            "order": null,
            "overflow": null,
            "overflow_x": null,
            "overflow_y": null,
            "padding": null,
            "right": null,
            "top": null,
            "visibility": null,
            "width": null
          }
        },
        "78ccc0f0cc054484bbd5fcaac9242b33": {
          "model_module": "@jupyter-widgets/base",
          "model_module_version": "1.2.0",
          "model_name": "LayoutModel",
          "state": {
            "_model_module": "@jupyter-widgets/base",
            "_model_module_version": "1.2.0",
            "_model_name": "LayoutModel",
            "_view_count": null,
            "_view_module": "@jupyter-widgets/base",
            "_view_module_version": "1.2.0",
            "_view_name": "LayoutView",
            "align_content": null,
            "align_items": null,
            "align_self": null,
            "border": null,
            "bottom": null,
            "display": null,
            "flex": null,
            "flex_flow": null,
            "grid_area": null,
            "grid_auto_columns": null,
            "grid_auto_flow": null,
            "grid_auto_rows": null,
            "grid_column": null,
            "grid_gap": null,
            "grid_row": null,
            "grid_template_areas": null,
            "grid_template_columns": null,
            "grid_template_rows": null,
            "height": null,
            "justify_content": null,
            "justify_items": null,
            "left": null,
            "margin": null,
            "max_height": null,
            "max_width": null,
            "min_height": null,
            "min_width": null,
            "object_fit": null,
            "object_position": null,
            "order": null,
            "overflow": null,
            "overflow_x": null,
            "overflow_y": null,
            "padding": null,
            "right": null,
            "top": null,
            "visibility": null,
            "width": null
          }
        },
        "7a1516e018494c8fa9d4a9b5377d7662": {
          "model_module": "@jupyter-widgets/controls",
          "model_module_version": "1.5.0",
          "model_name": "DescriptionStyleModel",
          "state": {
            "_model_module": "@jupyter-widgets/controls",
            "_model_module_version": "1.5.0",
            "_model_name": "DescriptionStyleModel",
            "_view_count": null,
            "_view_module": "@jupyter-widgets/base",
            "_view_module_version": "1.2.0",
            "_view_name": "StyleView",
            "description_width": ""
          }
        },
        "7a94b185d62e48fa8ad895a46f9d2240": {
          "model_module": "@jupyter-widgets/controls",
          "model_module_version": "1.5.0",
          "model_name": "HTMLModel",
          "state": {
            "_dom_classes": [],
            "_model_module": "@jupyter-widgets/controls",
            "_model_module_version": "1.5.0",
            "_model_name": "HTMLModel",
            "_view_count": null,
            "_view_module": "@jupyter-widgets/controls",
            "_view_module_version": "1.5.0",
            "_view_name": "HTMLView",
            "description": "",
            "description_tooltip": null,
            "layout": "IPY_MODEL_5b5ca573ccd2448eb23d79420f67f5a8",
            "placeholder": "​",
            "style": "IPY_MODEL_1294844a581f42ffb98c4e68c614bbda",
            "value": " 25.1k/25.1k [00:00&lt;00:00, 1.41MB/s]"
          }
        },
        "7c666062ff154077a47cc96edab70cdf": {
          "model_module": "@jupyter-widgets/base",
          "model_module_version": "1.2.0",
          "model_name": "LayoutModel",
          "state": {
            "_model_module": "@jupyter-widgets/base",
            "_model_module_version": "1.2.0",
            "_model_name": "LayoutModel",
            "_view_count": null,
            "_view_module": "@jupyter-widgets/base",
            "_view_module_version": "1.2.0",
            "_view_name": "LayoutView",
            "align_content": null,
            "align_items": null,
            "align_self": null,
            "border": null,
            "bottom": null,
            "display": null,
            "flex": null,
            "flex_flow": null,
            "grid_area": null,
            "grid_auto_columns": null,
            "grid_auto_flow": null,
            "grid_auto_rows": null,
            "grid_column": null,
            "grid_gap": null,
            "grid_row": null,
            "grid_template_areas": null,
            "grid_template_columns": null,
            "grid_template_rows": null,
            "height": null,
            "justify_content": null,
            "justify_items": null,
            "left": null,
            "margin": null,
            "max_height": null,
            "max_width": null,
            "min_height": null,
            "min_width": null,
            "object_fit": null,
            "object_position": null,
            "order": null,
            "overflow": null,
            "overflow_x": null,
            "overflow_y": null,
            "padding": null,
            "right": null,
            "top": null,
            "visibility": null,
            "width": null
          }
        },
        "7e2e7e178a3c4643b10cc7ae50f65e0a": {
          "model_module": "@jupyter-widgets/controls",
          "model_module_version": "1.5.0",
          "model_name": "ProgressStyleModel",
          "state": {
            "_model_module": "@jupyter-widgets/controls",
            "_model_module_version": "1.5.0",
            "_model_name": "ProgressStyleModel",
            "_view_count": null,
            "_view_module": "@jupyter-widgets/base",
            "_view_module_version": "1.2.0",
            "_view_name": "StyleView",
            "bar_color": null,
            "description_width": ""
          }
        },
        "8417fde9d7304c39943a12817b338db1": {
          "model_module": "@jupyter-widgets/base",
          "model_module_version": "1.2.0",
          "model_name": "LayoutModel",
          "state": {
            "_model_module": "@jupyter-widgets/base",
            "_model_module_version": "1.2.0",
            "_model_name": "LayoutModel",
            "_view_count": null,
            "_view_module": "@jupyter-widgets/base",
            "_view_module_version": "1.2.0",
            "_view_name": "LayoutView",
            "align_content": null,
            "align_items": null,
            "align_self": null,
            "border": null,
            "bottom": null,
            "display": null,
            "flex": null,
            "flex_flow": null,
            "grid_area": null,
            "grid_auto_columns": null,
            "grid_auto_flow": null,
            "grid_auto_rows": null,
            "grid_column": null,
            "grid_gap": null,
            "grid_row": null,
            "grid_template_areas": null,
            "grid_template_columns": null,
            "grid_template_rows": null,
            "height": null,
            "justify_content": null,
            "justify_items": null,
            "left": null,
            "margin": null,
            "max_height": null,
            "max_width": null,
            "min_height": null,
            "min_width": null,
            "object_fit": null,
            "object_position": null,
            "order": null,
            "overflow": null,
            "overflow_x": null,
            "overflow_y": null,
            "padding": null,
            "right": null,
            "top": null,
            "visibility": null,
            "width": null
          }
        },
        "8547ffffb4264ff1ad0ed505152ffe87": {
          "model_module": "@jupyter-widgets/base",
          "model_module_version": "1.2.0",
          "model_name": "LayoutModel",
          "state": {
            "_model_module": "@jupyter-widgets/base",
            "_model_module_version": "1.2.0",
            "_model_name": "LayoutModel",
            "_view_count": null,
            "_view_module": "@jupyter-widgets/base",
            "_view_module_version": "1.2.0",
            "_view_name": "LayoutView",
            "align_content": null,
            "align_items": null,
            "align_self": null,
            "border": null,
            "bottom": null,
            "display": null,
            "flex": null,
            "flex_flow": null,
            "grid_area": null,
            "grid_auto_columns": null,
            "grid_auto_flow": null,
            "grid_auto_rows": null,
            "grid_column": null,
            "grid_gap": null,
            "grid_row": null,
            "grid_template_areas": null,
            "grid_template_columns": null,
            "grid_template_rows": null,
            "height": null,
            "justify_content": null,
            "justify_items": null,
            "left": null,
            "margin": null,
            "max_height": null,
            "max_width": null,
            "min_height": null,
            "min_width": null,
            "object_fit": null,
            "object_position": null,
            "order": null,
            "overflow": null,
            "overflow_x": null,
            "overflow_y": null,
            "padding": null,
            "right": null,
            "top": null,
            "visibility": null,
            "width": null
          }
        },
        "8f16b0bc2eb848d4ae60c6a83e925c8b": {
          "model_module": "@jupyter-widgets/controls",
          "model_module_version": "1.5.0",
          "model_name": "DescriptionStyleModel",
          "state": {
            "_model_module": "@jupyter-widgets/controls",
            "_model_module_version": "1.5.0",
            "_model_name": "DescriptionStyleModel",
            "_view_count": null,
            "_view_module": "@jupyter-widgets/base",
            "_view_module_version": "1.2.0",
            "_view_name": "StyleView",
            "description_width": ""
          }
        },
        "92d2775a92314d318fe87b90fa7e91a8": {
          "model_module": "@jupyter-widgets/controls",
          "model_module_version": "1.5.0",
          "model_name": "HTMLModel",
          "state": {
            "_dom_classes": [],
            "_model_module": "@jupyter-widgets/controls",
            "_model_module_version": "1.5.0",
            "_model_name": "HTMLModel",
            "_view_count": null,
            "_view_module": "@jupyter-widgets/controls",
            "_view_module_version": "1.5.0",
            "_view_name": "HTMLView",
            "description": "",
            "description_tooltip": null,
            "layout": "IPY_MODEL_4686665463da47bd8bedfd6e02a6cc9d",
            "placeholder": "​",
            "style": "IPY_MODEL_4da9a9c79a9c4a4492c9adc676b94f36",
            "value": " 2/2 [01:44&lt;00:00, 49.13s/it]"
          }
        },
        "95062d6a929f4fd88fdfdbbf1fc4fa8c": {
          "model_module": "@jupyter-widgets/controls",
          "model_module_version": "1.5.0",
          "model_name": "HBoxModel",
          "state": {
            "_dom_classes": [],
            "_model_module": "@jupyter-widgets/controls",
            "_model_module_version": "1.5.0",
            "_model_name": "HBoxModel",
            "_view_count": null,
            "_view_module": "@jupyter-widgets/controls",
            "_view_module_version": "1.5.0",
            "_view_name": "HBoxView",
            "box_style": "",
            "children": [
              "IPY_MODEL_956f974e9b184baea87060c0f9ac64bf",
              "IPY_MODEL_be1d6c54d70b4032833ddd9eeca4deaa",
              "IPY_MODEL_5d679bf6dccc4a81a2ec99bf925dda84"
            ],
            "layout": "IPY_MODEL_cc3fdb850bd44360979af65db15a32d6"
          }
        },
        "956f974e9b184baea87060c0f9ac64bf": {
          "model_module": "@jupyter-widgets/controls",
          "model_module_version": "1.5.0",
          "model_name": "HTMLModel",
          "state": {
            "_dom_classes": [],
            "_model_module": "@jupyter-widgets/controls",
            "_model_module_version": "1.5.0",
            "_model_name": "HTMLModel",
            "_view_count": null,
            "_view_module": "@jupyter-widgets/controls",
            "_view_module_version": "1.5.0",
            "_view_name": "HTMLView",
            "description": "",
            "description_tooltip": null,
            "layout": "IPY_MODEL_d780d57608c543e795d480f1d35a75e1",
            "placeholder": "​",
            "style": "IPY_MODEL_b6b89848d37e496d82727af347463285",
            "value": "Loading checkpoint shards: 100%"
          }
        },
        "96c9396cfb5648a9b64511c7880fab6b": {
          "model_module": "@jupyter-widgets/controls",
          "model_module_version": "1.5.0",
          "model_name": "HTMLModel",
          "state": {
            "_dom_classes": [],
            "_model_module": "@jupyter-widgets/controls",
            "_model_module_version": "1.5.0",
            "_model_name": "HTMLModel",
            "_view_count": null,
            "_view_module": "@jupyter-widgets/controls",
            "_view_module_version": "1.5.0",
            "_view_name": "HTMLView",
            "description": "",
            "description_tooltip": null,
            "layout": "IPY_MODEL_5d28a0e8118e4fa38e1ecd7547997f40",
            "placeholder": "​",
            "style": "IPY_MODEL_8f16b0bc2eb848d4ae60c6a83e925c8b",
            "value": "model-00002-of-00002.safetensors: 100%"
          }
        },
        "984b7b19810b47f8bfcec553212d7e5e": {
          "model_module": "@jupyter-widgets/controls",
          "model_module_version": "1.5.0",
          "model_name": "DescriptionStyleModel",
          "state": {
            "_model_module": "@jupyter-widgets/controls",
            "_model_module_version": "1.5.0",
            "_model_name": "DescriptionStyleModel",
            "_view_count": null,
            "_view_module": "@jupyter-widgets/base",
            "_view_module_version": "1.2.0",
            "_view_name": "StyleView",
            "description_width": ""
          }
        },
        "9e1f64f95c934d6783cfe40cc9b0e460": {
          "model_module": "@jupyter-widgets/controls",
          "model_module_version": "1.5.0",
          "model_name": "FloatProgressModel",
          "state": {
            "_dom_classes": [],
            "_model_module": "@jupyter-widgets/controls",
            "_model_module_version": "1.5.0",
            "_model_name": "FloatProgressModel",
            "_view_count": null,
            "_view_module": "@jupyter-widgets/controls",
            "_view_module_version": "1.5.0",
            "_view_name": "ProgressView",
            "bar_style": "success",
            "description": "",
            "description_tooltip": null,
            "layout": "IPY_MODEL_db5dd9f5278f492d9dfc4a44a68336d4",
            "max": 1467,
            "min": 0,
            "orientation": "horizontal",
            "style": "IPY_MODEL_7e2e7e178a3c4643b10cc7ae50f65e0a",
            "value": 1467
          }
        },
        "9f4061626f764c1e8db9c47513a6632c": {
          "model_module": "@jupyter-widgets/controls",
          "model_module_version": "1.5.0",
          "model_name": "DescriptionStyleModel",
          "state": {
            "_model_module": "@jupyter-widgets/controls",
            "_model_module_version": "1.5.0",
            "_model_name": "DescriptionStyleModel",
            "_view_count": null,
            "_view_module": "@jupyter-widgets/base",
            "_view_module_version": "1.2.0",
            "_view_name": "StyleView",
            "description_width": ""
          }
        },
        "a08251b226c54740b712c922f0198e3f": {
          "model_module": "@jupyter-widgets/controls",
          "model_module_version": "1.5.0",
          "model_name": "FloatProgressModel",
          "state": {
            "_dom_classes": [],
            "_model_module": "@jupyter-widgets/controls",
            "_model_module_version": "1.5.0",
            "_model_name": "FloatProgressModel",
            "_view_count": null,
            "_view_module": "@jupyter-widgets/controls",
            "_view_module_version": "1.5.0",
            "_view_name": "ProgressView",
            "bar_style": "success",
            "description": "",
            "description_tooltip": null,
            "layout": "IPY_MODEL_dccae342f35a4c3fb99e6d4093c0e23b",
            "max": 4540516344,
            "min": 0,
            "orientation": "horizontal",
            "style": "IPY_MODEL_a3b9136a604b4accae81dffa16b3ab39",
            "value": 4540516344
          }
        },
        "a086f3490c9d474ba6111e1677e65a18": {
          "model_module": "@jupyter-widgets/base",
          "model_module_version": "1.2.0",
          "model_name": "LayoutModel",
          "state": {
            "_model_module": "@jupyter-widgets/base",
            "_model_module_version": "1.2.0",
            "_model_name": "LayoutModel",
            "_view_count": null,
            "_view_module": "@jupyter-widgets/base",
            "_view_module_version": "1.2.0",
            "_view_name": "LayoutView",
            "align_content": null,
            "align_items": null,
            "align_self": null,
            "border": null,
            "bottom": null,
            "display": null,
            "flex": null,
            "flex_flow": null,
            "grid_area": null,
            "grid_auto_columns": null,
            "grid_auto_flow": null,
            "grid_auto_rows": null,
            "grid_column": null,
            "grid_gap": null,
            "grid_row": null,
            "grid_template_areas": null,
            "grid_template_columns": null,
            "grid_template_rows": null,
            "height": null,
            "justify_content": null,
            "justify_items": null,
            "left": null,
            "margin": null,
            "max_height": null,
            "max_width": null,
            "min_height": null,
            "min_width": null,
            "object_fit": null,
            "object_position": null,
            "order": null,
            "overflow": null,
            "overflow_x": null,
            "overflow_y": null,
            "padding": null,
            "right": null,
            "top": null,
            "visibility": null,
            "width": null
          }
        },
        "a12ebe6eeb5d4eadb80ed3ebc2ca1ac5": {
          "model_module": "@jupyter-widgets/base",
          "model_module_version": "1.2.0",
          "model_name": "LayoutModel",
          "state": {
            "_model_module": "@jupyter-widgets/base",
            "_model_module_version": "1.2.0",
            "_model_name": "LayoutModel",
            "_view_count": null,
            "_view_module": "@jupyter-widgets/base",
            "_view_module_version": "1.2.0",
            "_view_name": "LayoutView",
            "align_content": null,
            "align_items": null,
            "align_self": null,
            "border": null,
            "bottom": null,
            "display": null,
            "flex": null,
            "flex_flow": null,
            "grid_area": null,
            "grid_auto_columns": null,
            "grid_auto_flow": null,
            "grid_auto_rows": null,
            "grid_column": null,
            "grid_gap": null,
            "grid_row": null,
            "grid_template_areas": null,
            "grid_template_columns": null,
            "grid_template_rows": null,
            "height": null,
            "justify_content": null,
            "justify_items": null,
            "left": null,
            "margin": null,
            "max_height": null,
            "max_width": null,
            "min_height": null,
            "min_width": null,
            "object_fit": null,
            "object_position": null,
            "order": null,
            "overflow": null,
            "overflow_x": null,
            "overflow_y": null,
            "padding": null,
            "right": null,
            "top": null,
            "visibility": null,
            "width": null
          }
        },
        "a3b9136a604b4accae81dffa16b3ab39": {
          "model_module": "@jupyter-widgets/controls",
          "model_module_version": "1.5.0",
          "model_name": "ProgressStyleModel",
          "state": {
            "_model_module": "@jupyter-widgets/controls",
            "_model_module_version": "1.5.0",
            "_model_name": "ProgressStyleModel",
            "_view_count": null,
            "_view_module": "@jupyter-widgets/base",
            "_view_module_version": "1.2.0",
            "_view_name": "StyleView",
            "bar_color": null,
            "description_width": ""
          }
        },
        "a621bead1cd8433d83dd4d7c2529579c": {
          "model_module": "@jupyter-widgets/controls",
          "model_module_version": "1.5.0",
          "model_name": "HTMLModel",
          "state": {
            "_dom_classes": [],
            "_model_module": "@jupyter-widgets/controls",
            "_model_module_version": "1.5.0",
            "_model_name": "HTMLModel",
            "_view_count": null,
            "_view_module": "@jupyter-widgets/controls",
            "_view_module_version": "1.5.0",
            "_view_name": "HTMLView",
            "description": "",
            "description_tooltip": null,
            "layout": "IPY_MODEL_0c2cd2e7f78945dab68d4134b09faa69",
            "placeholder": "​",
            "style": "IPY_MODEL_9f4061626f764c1e8db9c47513a6632c",
            "value": "special_tokens_map.json: 100%"
          }
        },
        "ab0ac70bd9aa4878b51b69ee95c8042b": {
          "model_module": "@jupyter-widgets/base",
          "model_module_version": "1.2.0",
          "model_name": "LayoutModel",
          "state": {
            "_model_module": "@jupyter-widgets/base",
            "_model_module_version": "1.2.0",
            "_model_name": "LayoutModel",
            "_view_count": null,
            "_view_module": "@jupyter-widgets/base",
            "_view_module_version": "1.2.0",
            "_view_name": "LayoutView",
            "align_content": null,
            "align_items": null,
            "align_self": null,
            "border": null,
            "bottom": null,
            "display": null,
            "flex": null,
            "flex_flow": null,
            "grid_area": null,
            "grid_auto_columns": null,
            "grid_auto_flow": null,
            "grid_auto_rows": null,
            "grid_column": null,
            "grid_gap": null,
            "grid_row": null,
            "grid_template_areas": null,
            "grid_template_columns": null,
            "grid_template_rows": null,
            "height": null,
            "justify_content": null,
            "justify_items": null,
            "left": null,
            "margin": null,
            "max_height": null,
            "max_width": null,
            "min_height": null,
            "min_width": null,
            "object_fit": null,
            "object_position": null,
            "order": null,
            "overflow": null,
            "overflow_x": null,
            "overflow_y": null,
            "padding": null,
            "right": null,
            "top": null,
            "visibility": null,
            "width": null
          }
        },
        "aef8031d695c4a2a8279f2db92f655f6": {
          "model_module": "@jupyter-widgets/base",
          "model_module_version": "1.2.0",
          "model_name": "LayoutModel",
          "state": {
            "_model_module": "@jupyter-widgets/base",
            "_model_module_version": "1.2.0",
            "_model_name": "LayoutModel",
            "_view_count": null,
            "_view_module": "@jupyter-widgets/base",
            "_view_module_version": "1.2.0",
            "_view_name": "LayoutView",
            "align_content": null,
            "align_items": null,
            "align_self": null,
            "border": null,
            "bottom": null,
            "display": null,
            "flex": null,
            "flex_flow": null,
            "grid_area": null,
            "grid_auto_columns": null,
            "grid_auto_flow": null,
            "grid_auto_rows": null,
            "grid_column": null,
            "grid_gap": null,
            "grid_row": null,
            "grid_template_areas": null,
            "grid_template_columns": null,
            "grid_template_rows": null,
            "height": null,
            "justify_content": null,
            "justify_items": null,
            "left": null,
            "margin": null,
            "max_height": null,
            "max_width": null,
            "min_height": null,
            "min_width": null,
            "object_fit": null,
            "object_position": null,
            "order": null,
            "overflow": null,
            "overflow_x": null,
            "overflow_y": null,
            "padding": null,
            "right": null,
            "top": null,
            "visibility": null,
            "width": null
          }
        },
        "af34c22f88f94255afaa548ae191ea3c": {
          "model_module": "@jupyter-widgets/controls",
          "model_module_version": "1.5.0",
          "model_name": "DescriptionStyleModel",
          "state": {
            "_model_module": "@jupyter-widgets/controls",
            "_model_module_version": "1.5.0",
            "_model_name": "DescriptionStyleModel",
            "_view_count": null,
            "_view_module": "@jupyter-widgets/base",
            "_view_module_version": "1.2.0",
            "_view_name": "StyleView",
            "description_width": ""
          }
        },
        "b47fd383d77d4a82b5bc94a3a87b6a7e": {
          "model_module": "@jupyter-widgets/controls",
          "model_module_version": "1.5.0",
          "model_name": "HTMLModel",
          "state": {
            "_dom_classes": [],
            "_model_module": "@jupyter-widgets/controls",
            "_model_module_version": "1.5.0",
            "_model_name": "HTMLModel",
            "_view_count": null,
            "_view_module": "@jupyter-widgets/controls",
            "_view_module_version": "1.5.0",
            "_view_name": "HTMLView",
            "description": "",
            "description_tooltip": null,
            "layout": "IPY_MODEL_b4cdc57438424bfdb3b2bd2d3191124c",
            "placeholder": "​",
            "style": "IPY_MODEL_c100917ec3434a50832a6d3abad0e338",
            "value": "config.json: 100%"
          }
        },
        "b4cdc57438424bfdb3b2bd2d3191124c": {
          "model_module": "@jupyter-widgets/base",
          "model_module_version": "1.2.0",
          "model_name": "LayoutModel",
          "state": {
            "_model_module": "@jupyter-widgets/base",
            "_model_module_version": "1.2.0",
            "_model_name": "LayoutModel",
            "_view_count": null,
            "_view_module": "@jupyter-widgets/base",
            "_view_module_version": "1.2.0",
            "_view_name": "LayoutView",
            "align_content": null,
            "align_items": null,
            "align_self": null,
            "border": null,
            "bottom": null,
            "display": null,
            "flex": null,
            "flex_flow": null,
            "grid_area": null,
            "grid_auto_columns": null,
            "grid_auto_flow": null,
            "grid_auto_rows": null,
            "grid_column": null,
            "grid_gap": null,
            "grid_row": null,
            "grid_template_areas": null,
            "grid_template_columns": null,
            "grid_template_rows": null,
            "height": null,
            "justify_content": null,
            "justify_items": null,
            "left": null,
            "margin": null,
            "max_height": null,
            "max_width": null,
            "min_height": null,
            "min_width": null,
            "object_fit": null,
            "object_position": null,
            "order": null,
            "overflow": null,
            "overflow_x": null,
            "overflow_y": null,
            "padding": null,
            "right": null,
            "top": null,
            "visibility": null,
            "width": null
          }
        },
        "b6b89848d37e496d82727af347463285": {
          "model_module": "@jupyter-widgets/controls",
          "model_module_version": "1.5.0",
          "model_name": "DescriptionStyleModel",
          "state": {
            "_model_module": "@jupyter-widgets/controls",
            "_model_module_version": "1.5.0",
            "_model_name": "DescriptionStyleModel",
            "_view_count": null,
            "_view_module": "@jupyter-widgets/base",
            "_view_module_version": "1.2.0",
            "_view_name": "StyleView",
            "description_width": ""
          }
        },
        "b858df0e703149aa8a54c99c9438681f": {
          "model_module": "@jupyter-widgets/controls",
          "model_module_version": "1.5.0",
          "model_name": "FloatProgressModel",
          "state": {
            "_dom_classes": [],
            "_model_module": "@jupyter-widgets/controls",
            "_model_module_version": "1.5.0",
            "_model_name": "FloatProgressModel",
            "_view_count": null,
            "_view_module": "@jupyter-widgets/controls",
            "_view_module_version": "1.5.0",
            "_view_name": "ProgressView",
            "bar_style": "success",
            "description": "",
            "description_tooltip": null,
            "layout": "IPY_MODEL_d7f5ff2d0405484c8ee04b162def5fa6",
            "max": 571,
            "min": 0,
            "orientation": "horizontal",
            "style": "IPY_MODEL_dad86fcb97ea4eb798dffd8d363621b8",
            "value": 571
          }
        },
        "bbeb3e1612554d548b03c8b90e710e3b": {
          "model_module": "@jupyter-widgets/controls",
          "model_module_version": "1.5.0",
          "model_name": "ProgressStyleModel",
          "state": {
            "_model_module": "@jupyter-widgets/controls",
            "_model_module_version": "1.5.0",
            "_model_name": "ProgressStyleModel",
            "_view_count": null,
            "_view_module": "@jupyter-widgets/base",
            "_view_module_version": "1.2.0",
            "_view_name": "StyleView",
            "bar_color": null,
            "description_width": ""
          }
        },
        "bcd4856c327a4dfe8525998130896c24": {
          "model_module": "@jupyter-widgets/base",
          "model_module_version": "1.2.0",
          "model_name": "LayoutModel",
          "state": {
            "_model_module": "@jupyter-widgets/base",
            "_model_module_version": "1.2.0",
            "_model_name": "LayoutModel",
            "_view_count": null,
            "_view_module": "@jupyter-widgets/base",
            "_view_module_version": "1.2.0",
            "_view_name": "LayoutView",
            "align_content": null,
            "align_items": null,
            "align_self": null,
            "border": null,
            "bottom": null,
            "display": null,
            "flex": null,
            "flex_flow": null,
            "grid_area": null,
            "grid_auto_columns": null,
            "grid_auto_flow": null,
            "grid_auto_rows": null,
            "grid_column": null,
            "grid_gap": null,
            "grid_row": null,
            "grid_template_areas": null,
            "grid_template_columns": null,
            "grid_template_rows": null,
            "height": null,
            "justify_content": null,
            "justify_items": null,
            "left": null,
            "margin": null,
            "max_height": null,
            "max_width": null,
            "min_height": null,
            "min_width": null,
            "object_fit": null,
            "object_position": null,
            "order": null,
            "overflow": null,
            "overflow_x": null,
            "overflow_y": null,
            "padding": null,
            "right": null,
            "top": null,
            "visibility": null,
            "width": null
          }
        },
        "be1d6c54d70b4032833ddd9eeca4deaa": {
          "model_module": "@jupyter-widgets/controls",
          "model_module_version": "1.5.0",
          "model_name": "FloatProgressModel",
          "state": {
            "_dom_classes": [],
            "_model_module": "@jupyter-widgets/controls",
            "_model_module_version": "1.5.0",
            "_model_name": "FloatProgressModel",
            "_view_count": null,
            "_view_module": "@jupyter-widgets/controls",
            "_view_module_version": "1.5.0",
            "_view_name": "ProgressView",
            "bar_style": "success",
            "description": "",
            "description_tooltip": null,
            "layout": "IPY_MODEL_03a22e0496b44d5d887faa66d51eb87c",
            "max": 2,
            "min": 0,
            "orientation": "horizontal",
            "style": "IPY_MODEL_0613a8ca958e431096f5270c3e0c0678",
            "value": 2
          }
        },
        "be52c5d6b5b34d579e27398248523714": {
          "model_module": "@jupyter-widgets/base",
          "model_module_version": "1.2.0",
          "model_name": "LayoutModel",
          "state": {
            "_model_module": "@jupyter-widgets/base",
            "_model_module_version": "1.2.0",
            "_model_name": "LayoutModel",
            "_view_count": null,
            "_view_module": "@jupyter-widgets/base",
            "_view_module_version": "1.2.0",
            "_view_name": "LayoutView",
            "align_content": null,
            "align_items": null,
            "align_self": null,
            "border": null,
            "bottom": null,
            "display": null,
            "flex": null,
            "flex_flow": null,
            "grid_area": null,
            "grid_auto_columns": null,
            "grid_auto_flow": null,
            "grid_auto_rows": null,
            "grid_column": null,
            "grid_gap": null,
            "grid_row": null,
            "grid_template_areas": null,
            "grid_template_columns": null,
            "grid_template_rows": null,
            "height": null,
            "justify_content": null,
            "justify_items": null,
            "left": null,
            "margin": null,
            "max_height": null,
            "max_width": null,
            "min_height": null,
            "min_width": null,
            "object_fit": null,
            "object_position": null,
            "order": null,
            "overflow": null,
            "overflow_x": null,
            "overflow_y": null,
            "padding": null,
            "right": null,
            "top": null,
            "visibility": null,
            "width": null
          }
        },
        "c04819e0c5c846709d7af71d41afe673": {
          "model_module": "@jupyter-widgets/base",
          "model_module_version": "1.2.0",
          "model_name": "LayoutModel",
          "state": {
            "_model_module": "@jupyter-widgets/base",
            "_model_module_version": "1.2.0",
            "_model_name": "LayoutModel",
            "_view_count": null,
            "_view_module": "@jupyter-widgets/base",
            "_view_module_version": "1.2.0",
            "_view_name": "LayoutView",
            "align_content": null,
            "align_items": null,
            "align_self": null,
            "border": null,
            "bottom": null,
            "display": null,
            "flex": null,
            "flex_flow": null,
            "grid_area": null,
            "grid_auto_columns": null,
            "grid_auto_flow": null,
            "grid_auto_rows": null,
            "grid_column": null,
            "grid_gap": null,
            "grid_row": null,
            "grid_template_areas": null,
            "grid_template_columns": null,
            "grid_template_rows": null,
            "height": null,
            "justify_content": null,
            "justify_items": null,
            "left": null,
            "margin": null,
            "max_height": null,
            "max_width": null,
            "min_height": null,
            "min_width": null,
            "object_fit": null,
            "object_position": null,
            "order": null,
            "overflow": null,
            "overflow_x": null,
            "overflow_y": null,
            "padding": null,
            "right": null,
            "top": null,
            "visibility": null,
            "width": null
          }
        },
        "c100917ec3434a50832a6d3abad0e338": {
          "model_module": "@jupyter-widgets/controls",
          "model_module_version": "1.5.0",
          "model_name": "DescriptionStyleModel",
          "state": {
            "_model_module": "@jupyter-widgets/controls",
            "_model_module_version": "1.5.0",
            "_model_name": "DescriptionStyleModel",
            "_view_count": null,
            "_view_module": "@jupyter-widgets/base",
            "_view_module_version": "1.2.0",
            "_view_name": "StyleView",
            "description_width": ""
          }
        },
        "c2d24cd0db2248d88b4720f1ecda96ce": {
          "model_module": "@jupyter-widgets/base",
          "model_module_version": "1.2.0",
          "model_name": "LayoutModel",
          "state": {
            "_model_module": "@jupyter-widgets/base",
            "_model_module_version": "1.2.0",
            "_model_name": "LayoutModel",
            "_view_count": null,
            "_view_module": "@jupyter-widgets/base",
            "_view_module_version": "1.2.0",
            "_view_name": "LayoutView",
            "align_content": null,
            "align_items": null,
            "align_self": null,
            "border": null,
            "bottom": null,
            "display": null,
            "flex": null,
            "flex_flow": null,
            "grid_area": null,
            "grid_auto_columns": null,
            "grid_auto_flow": null,
            "grid_auto_rows": null,
            "grid_column": null,
            "grid_gap": null,
            "grid_row": null,
            "grid_template_areas": null,
            "grid_template_columns": null,
            "grid_template_rows": null,
            "height": null,
            "justify_content": null,
            "justify_items": null,
            "left": null,
            "margin": null,
            "max_height": null,
            "max_width": null,
            "min_height": null,
            "min_width": null,
            "object_fit": null,
            "object_position": null,
            "order": null,
            "overflow": null,
            "overflow_x": null,
            "overflow_y": null,
            "padding": null,
            "right": null,
            "top": null,
            "visibility": null,
            "width": null
          }
        },
        "c4835c33a5b14e038f3d73be80d0f19d": {
          "model_module": "@jupyter-widgets/base",
          "model_module_version": "1.2.0",
          "model_name": "LayoutModel",
          "state": {
            "_model_module": "@jupyter-widgets/base",
            "_model_module_version": "1.2.0",
            "_model_name": "LayoutModel",
            "_view_count": null,
            "_view_module": "@jupyter-widgets/base",
            "_view_module_version": "1.2.0",
            "_view_name": "LayoutView",
            "align_content": null,
            "align_items": null,
            "align_self": null,
            "border": null,
            "bottom": null,
            "display": null,
            "flex": null,
            "flex_flow": null,
            "grid_area": null,
            "grid_auto_columns": null,
            "grid_auto_flow": null,
            "grid_auto_rows": null,
            "grid_column": null,
            "grid_gap": null,
            "grid_row": null,
            "grid_template_areas": null,
            "grid_template_columns": null,
            "grid_template_rows": null,
            "height": null,
            "justify_content": null,
            "justify_items": null,
            "left": null,
            "margin": null,
            "max_height": null,
            "max_width": null,
            "min_height": null,
            "min_width": null,
            "object_fit": null,
            "object_position": null,
            "order": null,
            "overflow": null,
            "overflow_x": null,
            "overflow_y": null,
            "padding": null,
            "right": null,
            "top": null,
            "visibility": null,
            "width": null
          }
        },
        "c7e8087aabaa4c16b042cbe5c0fca02a": {
          "model_module": "@jupyter-widgets/base",
          "model_module_version": "1.2.0",
          "model_name": "LayoutModel",
          "state": {
            "_model_module": "@jupyter-widgets/base",
            "_model_module_version": "1.2.0",
            "_model_name": "LayoutModel",
            "_view_count": null,
            "_view_module": "@jupyter-widgets/base",
            "_view_module_version": "1.2.0",
            "_view_name": "LayoutView",
            "align_content": null,
            "align_items": null,
            "align_self": null,
            "border": null,
            "bottom": null,
            "display": null,
            "flex": null,
            "flex_flow": null,
            "grid_area": null,
            "grid_auto_columns": null,
            "grid_auto_flow": null,
            "grid_auto_rows": null,
            "grid_column": null,
            "grid_gap": null,
            "grid_row": null,
            "grid_template_areas": null,
            "grid_template_columns": null,
            "grid_template_rows": null,
            "height": null,
            "justify_content": null,
            "justify_items": null,
            "left": null,
            "margin": null,
            "max_height": null,
            "max_width": null,
            "min_height": null,
            "min_width": null,
            "object_fit": null,
            "object_position": null,
            "order": null,
            "overflow": null,
            "overflow_x": null,
            "overflow_y": null,
            "padding": null,
            "right": null,
            "top": null,
            "visibility": null,
            "width": null
          }
        },
        "ca863ef3f4354133890131e0658f1876": {
          "model_module": "@jupyter-widgets/controls",
          "model_module_version": "1.5.0",
          "model_name": "HBoxModel",
          "state": {
            "_dom_classes": [],
            "_model_module": "@jupyter-widgets/controls",
            "_model_module_version": "1.5.0",
            "_model_name": "HBoxModel",
            "_view_count": null,
            "_view_module": "@jupyter-widgets/controls",
            "_view_module_version": "1.5.0",
            "_view_name": "HBoxView",
            "box_style": "",
            "children": [
              "IPY_MODEL_a621bead1cd8433d83dd4d7c2529579c",
              "IPY_MODEL_e57a7006e8be4634bd258a4a6801c6d1",
              "IPY_MODEL_71d3b4c742824f1ab2226acb1016d6c0"
            ],
            "layout": "IPY_MODEL_7c666062ff154077a47cc96edab70cdf"
          }
        },
        "cc3fdb850bd44360979af65db15a32d6": {
          "model_module": "@jupyter-widgets/base",
          "model_module_version": "1.2.0",
          "model_name": "LayoutModel",
          "state": {
            "_model_module": "@jupyter-widgets/base",
            "_model_module_version": "1.2.0",
            "_model_name": "LayoutModel",
            "_view_count": null,
            "_view_module": "@jupyter-widgets/base",
            "_view_module_version": "1.2.0",
            "_view_name": "LayoutView",
            "align_content": null,
            "align_items": null,
            "align_self": null,
            "border": null,
            "bottom": null,
            "display": null,
            "flex": null,
            "flex_flow": null,
            "grid_area": null,
            "grid_auto_columns": null,
            "grid_auto_flow": null,
            "grid_auto_rows": null,
            "grid_column": null,
            "grid_gap": null,
            "grid_row": null,
            "grid_template_areas": null,
            "grid_template_columns": null,
            "grid_template_rows": null,
            "height": null,
            "justify_content": null,
            "justify_items": null,
            "left": null,
            "margin": null,
            "max_height": null,
            "max_width": null,
            "min_height": null,
            "min_width": null,
            "object_fit": null,
            "object_position": null,
            "order": null,
            "overflow": null,
            "overflow_x": null,
            "overflow_y": null,
            "padding": null,
            "right": null,
            "top": null,
            "visibility": null,
            "width": null
          }
        },
        "cff1bc1a54ca4d38afeb38f9a0e39215": {
          "model_module": "@jupyter-widgets/controls",
          "model_module_version": "1.5.0",
          "model_name": "HTMLModel",
          "state": {
            "_dom_classes": [],
            "_model_module": "@jupyter-widgets/controls",
            "_model_module_version": "1.5.0",
            "_model_name": "HTMLModel",
            "_view_count": null,
            "_view_module": "@jupyter-widgets/controls",
            "_view_module_version": "1.5.0",
            "_view_name": "HTMLView",
            "description": "",
            "description_tooltip": null,
            "layout": "IPY_MODEL_8417fde9d7304c39943a12817b338db1",
            "placeholder": "​",
            "style": "IPY_MODEL_41e890bdbdd64d2eb3aa70b5aeeae910",
            "value": " 9.94G/9.94G [01:09&lt;00:00, 153MB/s]"
          }
        },
        "d0f6de039e8d4b7ca651f63b8e60a8df": {
          "model_module": "@jupyter-widgets/controls",
          "model_module_version": "1.5.0",
          "model_name": "DescriptionStyleModel",
          "state": {
            "_model_module": "@jupyter-widgets/controls",
            "_model_module_version": "1.5.0",
            "_model_name": "DescriptionStyleModel",
            "_view_count": null,
            "_view_module": "@jupyter-widgets/base",
            "_view_module_version": "1.2.0",
            "_view_name": "StyleView",
            "description_width": ""
          }
        },
        "d25d7187362344de923835c089d623e6": {
          "model_module": "@jupyter-widgets/controls",
          "model_module_version": "1.5.0",
          "model_name": "FloatProgressModel",
          "state": {
            "_dom_classes": [],
            "_model_module": "@jupyter-widgets/controls",
            "_model_module_version": "1.5.0",
            "_model_name": "FloatProgressModel",
            "_view_count": null,
            "_view_module": "@jupyter-widgets/controls",
            "_view_module_version": "1.5.0",
            "_view_name": "ProgressView",
            "bar_style": "success",
            "description": "",
            "description_tooltip": null,
            "layout": "IPY_MODEL_ec5ceaf871b343b6b2f30a619998392d",
            "max": 9942981696,
            "min": 0,
            "orientation": "horizontal",
            "style": "IPY_MODEL_75ca511ebe16412890031441f6618d7d",
            "value": 9942981696
          }
        },
        "d2d6137dc04d4af3b7329f89e092e96f": {
          "model_module": "@jupyter-widgets/controls",
          "model_module_version": "1.5.0",
          "model_name": "FloatProgressModel",
          "state": {
            "_dom_classes": [],
            "_model_module": "@jupyter-widgets/controls",
            "_model_module_version": "1.5.0",
            "_model_name": "FloatProgressModel",
            "_view_count": null,
            "_view_module": "@jupyter-widgets/controls",
            "_view_module_version": "1.5.0",
            "_view_name": "ProgressView",
            "bar_style": "success",
            "description": "",
            "description_tooltip": null,
            "layout": "IPY_MODEL_3b26d0c3c8204af99ea53d36428f207c",
            "max": 493443,
            "min": 0,
            "orientation": "horizontal",
            "style": "IPY_MODEL_671efe3eef0145679bd23557bbd919b1",
            "value": 493443
          }
        },
        "d56d18adf4c445539ac8ef375263de2b": {
          "model_module": "@jupyter-widgets/controls",
          "model_module_version": "1.5.0",
          "model_name": "DescriptionStyleModel",
          "state": {
            "_model_module": "@jupyter-widgets/controls",
            "_model_module_version": "1.5.0",
            "_model_name": "DescriptionStyleModel",
            "_view_count": null,
            "_view_module": "@jupyter-widgets/base",
            "_view_module_version": "1.2.0",
            "_view_name": "StyleView",
            "description_width": ""
          }
        },
        "d780d57608c543e795d480f1d35a75e1": {
          "model_module": "@jupyter-widgets/base",
          "model_module_version": "1.2.0",
          "model_name": "LayoutModel",
          "state": {
            "_model_module": "@jupyter-widgets/base",
            "_model_module_version": "1.2.0",
            "_model_name": "LayoutModel",
            "_view_count": null,
            "_view_module": "@jupyter-widgets/base",
            "_view_module_version": "1.2.0",
            "_view_name": "LayoutView",
            "align_content": null,
            "align_items": null,
            "align_self": null,
            "border": null,
            "bottom": null,
            "display": null,
            "flex": null,
            "flex_flow": null,
            "grid_area": null,
            "grid_auto_columns": null,
            "grid_auto_flow": null,
            "grid_auto_rows": null,
            "grid_column": null,
            "grid_gap": null,
            "grid_row": null,
            "grid_template_areas": null,
            "grid_template_columns": null,
            "grid_template_rows": null,
            "height": null,
            "justify_content": null,
            "justify_items": null,
            "left": null,
            "margin": null,
            "max_height": null,
            "max_width": null,
            "min_height": null,
            "min_width": null,
            "object_fit": null,
            "object_position": null,
            "order": null,
            "overflow": null,
            "overflow_x": null,
            "overflow_y": null,
            "padding": null,
            "right": null,
            "top": null,
            "visibility": null,
            "width": null
          }
        },
        "d7f5ff2d0405484c8ee04b162def5fa6": {
          "model_module": "@jupyter-widgets/base",
          "model_module_version": "1.2.0",
          "model_name": "LayoutModel",
          "state": {
            "_model_module": "@jupyter-widgets/base",
            "_model_module_version": "1.2.0",
            "_model_name": "LayoutModel",
            "_view_count": null,
            "_view_module": "@jupyter-widgets/base",
            "_view_module_version": "1.2.0",
            "_view_name": "LayoutView",
            "align_content": null,
            "align_items": null,
            "align_self": null,
            "border": null,
            "bottom": null,
            "display": null,
            "flex": null,
            "flex_flow": null,
            "grid_area": null,
            "grid_auto_columns": null,
            "grid_auto_flow": null,
            "grid_auto_rows": null,
            "grid_column": null,
            "grid_gap": null,
            "grid_row": null,
            "grid_template_areas": null,
            "grid_template_columns": null,
            "grid_template_rows": null,
            "height": null,
            "justify_content": null,
            "justify_items": null,
            "left": null,
            "margin": null,
            "max_height": null,
            "max_width": null,
            "min_height": null,
            "min_width": null,
            "object_fit": null,
            "object_position": null,
            "order": null,
            "overflow": null,
            "overflow_x": null,
            "overflow_y": null,
            "padding": null,
            "right": null,
            "top": null,
            "visibility": null,
            "width": null
          }
        },
        "d930e9b6687543048149174349f4eb1d": {
          "model_module": "@jupyter-widgets/controls",
          "model_module_version": "1.5.0",
          "model_name": "HBoxModel",
          "state": {
            "_dom_classes": [],
            "_model_module": "@jupyter-widgets/controls",
            "_model_module_version": "1.5.0",
            "_model_name": "HBoxModel",
            "_view_count": null,
            "_view_module": "@jupyter-widgets/controls",
            "_view_module_version": "1.5.0",
            "_view_name": "HBoxView",
            "box_style": "",
            "children": [
              "IPY_MODEL_5a4adef4a4304c1299fbe7930d930295",
              "IPY_MODEL_de849765ed9e43b380ea41b435ee1d27",
              "IPY_MODEL_7a94b185d62e48fa8ad895a46f9d2240"
            ],
            "layout": "IPY_MODEL_2eeda9dbc9b848d3ab57598737c411b0"
          }
        },
        "dad86fcb97ea4eb798dffd8d363621b8": {
          "model_module": "@jupyter-widgets/controls",
          "model_module_version": "1.5.0",
          "model_name": "ProgressStyleModel",
          "state": {
            "_model_module": "@jupyter-widgets/controls",
            "_model_module_version": "1.5.0",
            "_model_name": "ProgressStyleModel",
            "_view_count": null,
            "_view_module": "@jupyter-widgets/base",
            "_view_module_version": "1.2.0",
            "_view_name": "StyleView",
            "bar_color": null,
            "description_width": ""
          }
        },
        "db5dd9f5278f492d9dfc4a44a68336d4": {
          "model_module": "@jupyter-widgets/base",
          "model_module_version": "1.2.0",
          "model_name": "LayoutModel",
          "state": {
            "_model_module": "@jupyter-widgets/base",
            "_model_module_version": "1.2.0",
            "_model_name": "LayoutModel",
            "_view_count": null,
            "_view_module": "@jupyter-widgets/base",
            "_view_module_version": "1.2.0",
            "_view_name": "LayoutView",
            "align_content": null,
            "align_items": null,
            "align_self": null,
            "border": null,
            "bottom": null,
            "display": null,
            "flex": null,
            "flex_flow": null,
            "grid_area": null,
            "grid_auto_columns": null,
            "grid_auto_flow": null,
            "grid_auto_rows": null,
            "grid_column": null,
            "grid_gap": null,
            "grid_row": null,
            "grid_template_areas": null,
            "grid_template_columns": null,
            "grid_template_rows": null,
            "height": null,
            "justify_content": null,
            "justify_items": null,
            "left": null,
            "margin": null,
            "max_height": null,
            "max_width": null,
            "min_height": null,
            "min_width": null,
            "object_fit": null,
            "object_position": null,
            "order": null,
            "overflow": null,
            "overflow_x": null,
            "overflow_y": null,
            "padding": null,
            "right": null,
            "top": null,
            "visibility": null,
            "width": null
          }
        },
        "dccae342f35a4c3fb99e6d4093c0e23b": {
          "model_module": "@jupyter-widgets/base",
          "model_module_version": "1.2.0",
          "model_name": "LayoutModel",
          "state": {
            "_model_module": "@jupyter-widgets/base",
            "_model_module_version": "1.2.0",
            "_model_name": "LayoutModel",
            "_view_count": null,
            "_view_module": "@jupyter-widgets/base",
            "_view_module_version": "1.2.0",
            "_view_name": "LayoutView",
            "align_content": null,
            "align_items": null,
            "align_self": null,
            "border": null,
            "bottom": null,
            "display": null,
            "flex": null,
            "flex_flow": null,
            "grid_area": null,
            "grid_auto_columns": null,
            "grid_auto_flow": null,
            "grid_auto_rows": null,
            "grid_column": null,
            "grid_gap": null,
            "grid_row": null,
            "grid_template_areas": null,
            "grid_template_columns": null,
            "grid_template_rows": null,
            "height": null,
            "justify_content": null,
            "justify_items": null,
            "left": null,
            "margin": null,
            "max_height": null,
            "max_width": null,
            "min_height": null,
            "min_width": null,
            "object_fit": null,
            "object_position": null,
            "order": null,
            "overflow": null,
            "overflow_x": null,
            "overflow_y": null,
            "padding": null,
            "right": null,
            "top": null,
            "visibility": null,
            "width": null
          }
        },
        "de849765ed9e43b380ea41b435ee1d27": {
          "model_module": "@jupyter-widgets/controls",
          "model_module_version": "1.5.0",
          "model_name": "FloatProgressModel",
          "state": {
            "_dom_classes": [],
            "_model_module": "@jupyter-widgets/controls",
            "_model_module_version": "1.5.0",
            "_model_name": "FloatProgressModel",
            "_view_count": null,
            "_view_module": "@jupyter-widgets/controls",
            "_view_module_version": "1.5.0",
            "_view_name": "ProgressView",
            "bar_style": "success",
            "description": "",
            "description_tooltip": null,
            "layout": "IPY_MODEL_6bb0f09905ca41b1aa5cffdedde099ea",
            "max": 25125,
            "min": 0,
            "orientation": "horizontal",
            "style": "IPY_MODEL_5c5d7dabc02a48c8874239122d324bf3",
            "value": 25125
          }
        },
        "dea2e50ae48440249255af8a68feebe9": {
          "model_module": "@jupyter-widgets/controls",
          "model_module_version": "1.5.0",
          "model_name": "ProgressStyleModel",
          "state": {
            "_model_module": "@jupyter-widgets/controls",
            "_model_module_version": "1.5.0",
            "_model_name": "ProgressStyleModel",
            "_view_count": null,
            "_view_module": "@jupyter-widgets/base",
            "_view_module_version": "1.2.0",
            "_view_name": "StyleView",
            "bar_color": null,
            "description_width": ""
          }
        },
        "e4037238a0dc4cbab4573699c12c7744": {
          "model_module": "@jupyter-widgets/controls",
          "model_module_version": "1.5.0",
          "model_name": "HBoxModel",
          "state": {
            "_dom_classes": [],
            "_model_module": "@jupyter-widgets/controls",
            "_model_module_version": "1.5.0",
            "_model_name": "HBoxModel",
            "_view_count": null,
            "_view_module": "@jupyter-widgets/controls",
            "_view_module_version": "1.5.0",
            "_view_name": "HBoxView",
            "box_style": "",
            "children": [
              "IPY_MODEL_0190893a604240d4bf716fe501f4f6d4",
              "IPY_MODEL_14908dbf58494703bd3d5897a5484550",
              "IPY_MODEL_3b6e5e9661f846d8a95275bf0bb76030"
            ],
            "layout": "IPY_MODEL_c7e8087aabaa4c16b042cbe5c0fca02a"
          }
        },
        "e57a7006e8be4634bd258a4a6801c6d1": {
          "model_module": "@jupyter-widgets/controls",
          "model_module_version": "1.5.0",
          "model_name": "FloatProgressModel",
          "state": {
            "_dom_classes": [],
            "_model_module": "@jupyter-widgets/controls",
            "_model_module_version": "1.5.0",
            "_model_name": "FloatProgressModel",
            "_view_count": null,
            "_view_module": "@jupyter-widgets/controls",
            "_view_module_version": "1.5.0",
            "_view_name": "ProgressView",
            "bar_style": "success",
            "description": "",
            "description_tooltip": null,
            "layout": "IPY_MODEL_aef8031d695c4a2a8279f2db92f655f6",
            "max": 72,
            "min": 0,
            "orientation": "horizontal",
            "style": "IPY_MODEL_6986aab367554c64ae50fa969e7fdb8a",
            "value": 72
          }
        },
        "e641ddb9231a4898aafbebdd6d399e0c": {
          "model_module": "@jupyter-widgets/controls",
          "model_module_version": "1.5.0",
          "model_name": "DescriptionStyleModel",
          "state": {
            "_model_module": "@jupyter-widgets/controls",
            "_model_module_version": "1.5.0",
            "_model_name": "DescriptionStyleModel",
            "_view_count": null,
            "_view_module": "@jupyter-widgets/base",
            "_view_module_version": "1.2.0",
            "_view_name": "StyleView",
            "description_width": ""
          }
        },
        "ec5ceaf871b343b6b2f30a619998392d": {
          "model_module": "@jupyter-widgets/base",
          "model_module_version": "1.2.0",
          "model_name": "LayoutModel",
          "state": {
            "_model_module": "@jupyter-widgets/base",
            "_model_module_version": "1.2.0",
            "_model_name": "LayoutModel",
            "_view_count": null,
            "_view_module": "@jupyter-widgets/base",
            "_view_module_version": "1.2.0",
            "_view_name": "LayoutView",
            "align_content": null,
            "align_items": null,
            "align_self": null,
            "border": null,
            "bottom": null,
            "display": null,
            "flex": null,
            "flex_flow": null,
            "grid_area": null,
            "grid_auto_columns": null,
            "grid_auto_flow": null,
            "grid_auto_rows": null,
            "grid_column": null,
            "grid_gap": null,
            "grid_row": null,
            "grid_template_areas": null,
            "grid_template_columns": null,
            "grid_template_rows": null,
            "height": null,
            "justify_content": null,
            "justify_items": null,
            "left": null,
            "margin": null,
            "max_height": null,
            "max_width": null,
            "min_height": null,
            "min_width": null,
            "object_fit": null,
            "object_position": null,
            "order": null,
            "overflow": null,
            "overflow_x": null,
            "overflow_y": null,
            "padding": null,
            "right": null,
            "top": null,
            "visibility": null,
            "width": null
          }
        },
        "ed734d1b7f3044d6a0876eb7d59258de": {
          "model_module": "@jupyter-widgets/controls",
          "model_module_version": "1.5.0",
          "model_name": "HBoxModel",
          "state": {
            "_dom_classes": [],
            "_model_module": "@jupyter-widgets/controls",
            "_model_module_version": "1.5.0",
            "_model_name": "HBoxModel",
            "_view_count": null,
            "_view_module": "@jupyter-widgets/controls",
            "_view_module_version": "1.5.0",
            "_view_name": "HBoxView",
            "box_style": "",
            "children": [
              "IPY_MODEL_0e89db0ae5384582a3c020b6a66ea90e",
              "IPY_MODEL_d25d7187362344de923835c089d623e6",
              "IPY_MODEL_cff1bc1a54ca4d38afeb38f9a0e39215"
            ],
            "layout": "IPY_MODEL_be52c5d6b5b34d579e27398248523714"
          }
        },
        "efa1df85c22540ddac5bf931000a25a8": {
          "model_module": "@jupyter-widgets/controls",
          "model_module_version": "1.5.0",
          "model_name": "HTMLModel",
          "state": {
            "_dom_classes": [],
            "_model_module": "@jupyter-widgets/controls",
            "_model_module_version": "1.5.0",
            "_model_name": "HTMLModel",
            "_view_count": null,
            "_view_module": "@jupyter-widgets/controls",
            "_view_module_version": "1.5.0",
            "_view_name": "HTMLView",
            "description": "",
            "description_tooltip": null,
            "layout": "IPY_MODEL_c4835c33a5b14e038f3d73be80d0f19d",
            "placeholder": "​",
            "style": "IPY_MODEL_e641ddb9231a4898aafbebdd6d399e0c",
            "value": " 4.54G/4.54G [00:34&lt;00:00, 180MB/s]"
          }
        },
        "f04436414d214bd8abc42a81fd19d3cd": {
          "model_module": "@jupyter-widgets/base",
          "model_module_version": "1.2.0",
          "model_name": "LayoutModel",
          "state": {
            "_model_module": "@jupyter-widgets/base",
            "_model_module_version": "1.2.0",
            "_model_name": "LayoutModel",
            "_view_count": null,
            "_view_module": "@jupyter-widgets/base",
            "_view_module_version": "1.2.0",
            "_view_name": "LayoutView",
            "align_content": null,
            "align_items": null,
            "align_self": null,
            "border": null,
            "bottom": null,
            "display": null,
            "flex": null,
            "flex_flow": null,
            "grid_area": null,
            "grid_auto_columns": null,
            "grid_auto_flow": null,
            "grid_auto_rows": null,
            "grid_column": null,
            "grid_gap": null,
            "grid_row": null,
            "grid_template_areas": null,
            "grid_template_columns": null,
            "grid_template_rows": null,
            "height": null,
            "justify_content": null,
            "justify_items": null,
            "left": null,
            "margin": null,
            "max_height": null,
            "max_width": null,
            "min_height": null,
            "min_width": null,
            "object_fit": null,
            "object_position": null,
            "order": null,
            "overflow": null,
            "overflow_x": null,
            "overflow_y": null,
            "padding": null,
            "right": null,
            "top": null,
            "visibility": null,
            "width": null
          }
        },
        "f07766daa6094e4a9689ed839a4eca0e": {
          "model_module": "@jupyter-widgets/controls",
          "model_module_version": "1.5.0",
          "model_name": "HBoxModel",
          "state": {
            "_dom_classes": [],
            "_model_module": "@jupyter-widgets/controls",
            "_model_module_version": "1.5.0",
            "_model_name": "HBoxModel",
            "_view_count": null,
            "_view_module": "@jupyter-widgets/controls",
            "_view_module_version": "1.5.0",
            "_view_name": "HBoxView",
            "box_style": "",
            "children": [
              "IPY_MODEL_0b756d13ff9447aca46304a66c9e758d",
              "IPY_MODEL_28c8aad92a2547bfb1b8a35c0d822ba6",
              "IPY_MODEL_92d2775a92314d318fe87b90fa7e91a8"
            ],
            "layout": "IPY_MODEL_378bb28bd7b94d1caa0a26135020cc1d"
          }
        },
        "f107f27928334cd09a67e6c88096dc32": {
          "model_module": "@jupyter-widgets/controls",
          "model_module_version": "1.5.0",
          "model_name": "FloatProgressModel",
          "state": {
            "_dom_classes": [],
            "_model_module": "@jupyter-widgets/controls",
            "_model_module_version": "1.5.0",
            "_model_name": "FloatProgressModel",
            "_view_count": null,
            "_view_module": "@jupyter-widgets/controls",
            "_view_module_version": "1.5.0",
            "_view_name": "ProgressView",
            "bar_style": "success",
            "description": "",
            "description_tooltip": null,
            "layout": "IPY_MODEL_66e04be621704991af51d28656b1f7b7",
            "max": 1795303,
            "min": 0,
            "orientation": "horizontal",
            "style": "IPY_MODEL_bbeb3e1612554d548b03c8b90e710e3b",
            "value": 1795303
          }
        },
        "fbba34e10e974193a3ef04e70f50eb09": {
          "model_module": "@jupyter-widgets/controls",
          "model_module_version": "1.5.0",
          "model_name": "DescriptionStyleModel",
          "state": {
            "_model_module": "@jupyter-widgets/controls",
            "_model_module_version": "1.5.0",
            "_model_name": "DescriptionStyleModel",
            "_view_count": null,
            "_view_module": "@jupyter-widgets/base",
            "_view_module_version": "1.2.0",
            "_view_name": "StyleView",
            "description_width": ""
          }
        },
        "fcbfc7643ad742b6a70ea262eb789e72": {
          "model_module": "@jupyter-widgets/controls",
          "model_module_version": "1.5.0",
          "model_name": "DescriptionStyleModel",
          "state": {
            "_model_module": "@jupyter-widgets/controls",
            "_model_module_version": "1.5.0",
            "_model_name": "DescriptionStyleModel",
            "_view_count": null,
            "_view_module": "@jupyter-widgets/base",
            "_view_module_version": "1.2.0",
            "_view_name": "StyleView",
            "description_width": ""
          }
        }
      }
    }
  },
  "nbformat": 4,
  "nbformat_minor": 0
}
