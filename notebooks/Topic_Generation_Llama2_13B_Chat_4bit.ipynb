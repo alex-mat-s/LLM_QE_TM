{
  "cells": [
    {
      "cell_type": "code",
      "execution_count": null,
      "metadata": {
        "id": "aR-NBPlQFaNL"
      },
      "outputs": [],
      "source": [
        "!pip3 install transformers>=4.32.0 optimum>=1.12.0\n",
        "!pip3 install auto-gptq --extra-index-url https://huggingface.github.io/autogptq-index/whl/cu118/  # Use cu117 if on CUDA 11.7"
      ]
    },
    {
      "cell_type": "code",
      "execution_count": 1,
      "metadata": {
        "id": "axPjfVcrJGKn"
      },
      "outputs": [],
      "source": [
        "from pathlib import Path\n",
        "import pandas as pd\n",
        "from tqdm import tqdm\n",
        "import os\n",
        "import torch\n",
        "import random\n",
        "import re\n",
        "\n",
        "from transformers import AutoModelForCausalLM, AutoTokenizer, pipeline"
      ]
    },
    {
      "cell_type": "markdown",
      "metadata": {
        "id": "CP7w77e5HTUb"
      },
      "source": [
        "## Read Data"
      ]
    },
    {
      "cell_type": "code",
      "execution_count": null,
      "metadata": {
        "colab": {
          "base_uri": "https://localhost:8080/"
        },
        "id": "NxGz3tGeHGsz",
        "outputId": "e8eaaa5c-48c3-4280-aaf7-653c474aa3b9"
      },
      "outputs": [
        {
          "name": "stdout",
          "output_type": "stream",
          "text": [
            "Drive already mounted at /content/drive; to attempt to forcibly remount, call drive.mount(\"/content/drive\", force_remount=True).\n"
          ]
        }
      ],
      "source": [
        "# Run this cell if you are using Google Colaboratory\n",
        "\n",
        "# from google.colab import drive\n",
        "# drive.mount('/content/drive')\n",
        "\n",
        "# BASE_DIR = Path(\"/content/drive/MyDrive/{your_path}\")\n",
        "# DATA_DIR = BASE_DIR.joinpath(\"data\")  # Please upload the data_quality_estim.csv dataset to the data folder \n",
        "\n",
        "# FILE_NAME = \"data_topic_name_distrib.csv\"\n",
        "\n",
        "# FILE = DATA_DIR.joinpath(FILE_NAME)"
      ]
    },
    {
      "cell_type": "code",
      "execution_count": 2,
      "metadata": {},
      "outputs": [],
      "source": [
        "BASE_DIR = Path('Topic_Generation_Llama2_13B_Chat_4bit.ipynb').resolve().parent.parent\n",
        "\n",
        "DATA_DIR_NAME = 'data/datasets'  # Local directory\n",
        "\n",
        "DATA_DIR = BASE_DIR.joinpath(DATA_DIR_NAME)\n",
        "FILE_NAME_QUAL = 'data_topic_name_distrib.csv'\n",
        "\n",
        "FILE = DATA_DIR.joinpath(FILE_NAME_QUAL)"
      ]
    },
    {
      "cell_type": "code",
      "execution_count": 3,
      "metadata": {
        "colab": {
          "base_uri": "https://localhost:8080/",
          "height": 363
        },
        "id": "gYkUIDzRI-yF",
        "outputId": "2cce4942-a91f-4b0b-8c58-7721ba5374a5"
      },
      "outputs": [
        {
          "data": {
            "text/html": [
              "<div>\n",
              "<style scoped>\n",
              "    .dataframe tbody tr th:only-of-type {\n",
              "        vertical-align: middle;\n",
              "    }\n",
              "\n",
              "    .dataframe tbody tr th {\n",
              "        vertical-align: top;\n",
              "    }\n",
              "\n",
              "    .dataframe thead th {\n",
              "        text-align: right;\n",
              "    }\n",
              "</style>\n",
              "<table border=\"1\" class=\"dataframe\">\n",
              "  <thead>\n",
              "    <tr style=\"text-align: right;\">\n",
              "      <th></th>\n",
              "      <th>INPUT:wordset</th>\n",
              "      <th>OUTPUT:quality</th>\n",
              "      <th>OUTPUT:topic_name</th>\n",
              "      <th>topic_name_num</th>\n",
              "    </tr>\n",
              "  </thead>\n",
              "  <tbody>\n",
              "    <tr>\n",
              "      <th>0</th>\n",
              "      <td>able amaze fill stop glad daily fantastic move...</td>\n",
              "      <td>good</td>\n",
              "      <td>feelings</td>\n",
              "      <td>1</td>\n",
              "    </tr>\n",
              "    <tr>\n",
              "      <th>1</th>\n",
              "      <td>absolute mission church nasa mars earth truth ...</td>\n",
              "      <td>good</td>\n",
              "      <td>astrology</td>\n",
              "      <td>1</td>\n",
              "    </tr>\n",
              "    <tr>\n",
              "      <th>2</th>\n",
              "      <td>absolute mission church nasa mars earth truth ...</td>\n",
              "      <td>good</td>\n",
              "      <td>nasa</td>\n",
              "      <td>1</td>\n",
              "    </tr>\n",
              "    <tr>\n",
              "      <th>3</th>\n",
              "      <td>absolute mission church nasa mars earth truth ...</td>\n",
              "      <td>good</td>\n",
              "      <td>space</td>\n",
              "      <td>1</td>\n",
              "    </tr>\n",
              "    <tr>\n",
              "      <th>4</th>\n",
              "      <td>absolute mission church nasa mars earth truth ...</td>\n",
              "      <td>good</td>\n",
              "      <td>space mission</td>\n",
              "      <td>1</td>\n",
              "    </tr>\n",
              "    <tr>\n",
              "      <th>5</th>\n",
              "      <td>absolutely fast white rice service noodle terr...</td>\n",
              "      <td>good</td>\n",
              "      <td>customer experience</td>\n",
              "      <td>1</td>\n",
              "    </tr>\n",
              "    <tr>\n",
              "      <th>6</th>\n",
              "      <td>absolutely fast white super service customer r...</td>\n",
              "      <td>good</td>\n",
              "      <td>express expedition</td>\n",
              "      <td>1</td>\n",
              "    </tr>\n",
              "    <tr>\n",
              "      <th>7</th>\n",
              "      <td>absolutely fast white super service customer r...</td>\n",
              "      <td>good</td>\n",
              "      <td>online shopping</td>\n",
              "      <td>2</td>\n",
              "    </tr>\n",
              "    <tr>\n",
              "      <th>8</th>\n",
              "      <td>absolutely fast white super service customer r...</td>\n",
              "      <td>good</td>\n",
              "      <td>review</td>\n",
              "      <td>1</td>\n",
              "    </tr>\n",
              "    <tr>\n",
              "      <th>9</th>\n",
              "      <td>absolutely grain there's process terrible expe...</td>\n",
              "      <td>good</td>\n",
              "      <td>comment</td>\n",
              "      <td>1</td>\n",
              "    </tr>\n",
              "  </tbody>\n",
              "</table>\n",
              "</div>"
            ],
            "text/plain": [
              "                                       INPUT:wordset OUTPUT:quality  \\\n",
              "0  able amaze fill stop glad daily fantastic move...           good   \n",
              "1  absolute mission church nasa mars earth truth ...           good   \n",
              "2  absolute mission church nasa mars earth truth ...           good   \n",
              "3  absolute mission church nasa mars earth truth ...           good   \n",
              "4  absolute mission church nasa mars earth truth ...           good   \n",
              "5  absolutely fast white rice service noodle terr...           good   \n",
              "6  absolutely fast white super service customer r...           good   \n",
              "7  absolutely fast white super service customer r...           good   \n",
              "8  absolutely fast white super service customer r...           good   \n",
              "9  absolutely grain there's process terrible expe...           good   \n",
              "\n",
              "     OUTPUT:topic_name  topic_name_num  \n",
              "0             feelings               1  \n",
              "1           astrology                1  \n",
              "2                 nasa               1  \n",
              "3                space               1  \n",
              "4       space mission                1  \n",
              "5  customer experience               1  \n",
              "6   express expedition               1  \n",
              "7      online shopping               2  \n",
              "8               review               1  \n",
              "9              comment               1  "
            ]
          },
          "execution_count": 3,
          "metadata": {},
          "output_type": "execute_result"
        }
      ],
      "source": [
        "data = pd.read_csv(FILE)\n",
        "data.head(10)"
      ]
    },
    {
      "cell_type": "code",
      "execution_count": 4,
      "metadata": {
        "colab": {
          "base_uri": "https://localhost:8080/"
        },
        "id": "J-OMbDNbJQBi",
        "outputId": "1899bb77-b611-4430-fffe-429071a8acb1"
      },
      "outputs": [
        {
          "name": "stdout",
          "output_type": "stream",
          "text": [
            "<class 'pandas.core.frame.DataFrame'>\n",
            "RangeIndex: 5766 entries, 0 to 5765\n",
            "Data columns (total 4 columns):\n",
            " #   Column             Non-Null Count  Dtype \n",
            "---  ------             --------------  ----- \n",
            " 0   INPUT:wordset      5766 non-null   object\n",
            " 1   OUTPUT:quality     5766 non-null   object\n",
            " 2   OUTPUT:topic_name  5766 non-null   object\n",
            " 3   topic_name_num     5766 non-null   int64 \n",
            "dtypes: int64(1), object(3)\n",
            "memory usage: 180.3+ KB\n"
          ]
        }
      ],
      "source": [
        "data.info()"
      ]
    },
    {
      "cell_type": "code",
      "execution_count": null,
      "metadata": {
        "id": "oTUasho406uj"
      },
      "outputs": [],
      "source": [
        "data_text = list(set(data[\"INPUT:wordset\"]))"
      ]
    },
    {
      "cell_type": "code",
      "execution_count": null,
      "metadata": {
        "colab": {
          "base_uri": "https://localhost:8080/"
        },
        "id": "NbXgYghzP8VY",
        "outputId": "3f33c946-e29c-47aa-8307-002e6d13c8c4"
      },
      "outputs": [
        {
          "name": "stdout",
          "output_type": "stream",
          "text": [
            "Wed Apr  3 23:18:23 2024       \n",
            "+---------------------------------------------------------------------------------------+\n",
            "| NVIDIA-SMI 535.104.05             Driver Version: 535.104.05   CUDA Version: 12.2     |\n",
            "|-----------------------------------------+----------------------+----------------------+\n",
            "| GPU  Name                 Persistence-M | Bus-Id        Disp.A | Volatile Uncorr. ECC |\n",
            "| Fan  Temp   Perf          Pwr:Usage/Cap |         Memory-Usage | GPU-Util  Compute M. |\n",
            "|                                         |                      |               MIG M. |\n",
            "|=========================================+======================+======================|\n",
            "|   0  Tesla T4                       Off | 00000000:00:04.0 Off |                    0 |\n",
            "| N/A   39C    P8               9W /  70W |      0MiB / 15360MiB |      0%      Default |\n",
            "|                                         |                      |                  N/A |\n",
            "+-----------------------------------------+----------------------+----------------------+\n",
            "                                                                                         \n",
            "+---------------------------------------------------------------------------------------+\n",
            "| Processes:                                                                            |\n",
            "|  GPU   GI   CI        PID   Type   Process name                            GPU Memory |\n",
            "|        ID   ID                                                             Usage      |\n",
            "|=======================================================================================|\n",
            "|  No running processes found                                                           |\n",
            "+---------------------------------------------------------------------------------------+\n"
          ]
        }
      ],
      "source": [
        "!nvidia-smi"
      ]
    },
    {
      "cell_type": "code",
      "execution_count": null,
      "metadata": {
        "id": "Z3XgKr1xP-Jd"
      },
      "outputs": [],
      "source": [
        "# Check if cuda is available\n",
        "assert torch.cuda.is_available(), \"Cuda is not available, you cannot use the quantized version of the Mistral model without a GPU!\""
      ]
    },
    {
      "cell_type": "code",
      "execution_count": null,
      "metadata": {
        "colab": {
          "base_uri": "https://localhost:8080/",
          "height": 402,
          "referenced_widgets": [
            "3f140644e1424197b4ab9804eb3661e7",
            "03077bcd1e1445b8926c7eb01dc6fad6",
            "057e16603f6c444db99a3db6eb04619c",
            "e9f8e0d7ac4c4eb587e188dabc1a4ab0",
            "6d59ea4a07d847ce8845b0b2f786f2b9",
            "07640d4db3a34fcdaebeffee8a7bc5ee",
            "b402ed6ebe3c441c8286c118dfac4f94",
            "2b9c15f841bf47babb4688e0114fc3e7",
            "e43ae444b50747af83054edf2c41aee7",
            "e4664e09742345ada38119c0262cc3f4",
            "2b5b4b63738d4662a9000df4be681525",
            "e40d10c757d7426aa6fce49dfb25352b",
            "f8b0acbb229f48ffa6d5c76166774d48",
            "fb8e3c69735b4e0e9adba525bce01c1b",
            "3c1caefaf1c54b4587ae2733620679ca",
            "c047d5c87ba04fb98e709b7c845ff568",
            "73ebd0d1e4e94fcc8b0b4d172554d39b",
            "213a59febbee453ca4dd7cb10df8e276",
            "7a85d04a3bbc42eda4aef9bf3826c7a6",
            "4b0e57bcaa424963b62964ac8f3401b9",
            "59fb880518884de89dfb33b28fbb7cf7",
            "09969c6e7c5949f7bc8cb4c158980551",
            "ed2995ddae7143989625b23474b44647",
            "54a8944597294819a74fbf5a3575a57f",
            "720f367d8ff84be4bf151d591a421687",
            "e094c519c1d848e2922aa5dab47b87d1",
            "d1fac97d7a814a6990199e7c96afa8be",
            "aa9ba034a9964f418cf81252f1e94a12",
            "9b1d674c380e4bd1af692a420659aafd",
            "2570d39b5e2c40d99dad4765e642c283",
            "0353ba18c73f4cea8ceda05b4cac041f",
            "befd7ac72d6d4091a4fd5f6bb9c78bc6",
            "479bf6fa5b0e41c5a2d7c426ced51e83",
            "c3230a2129334bf6b8a5e6d2143e81f8",
            "10962e4b0b7040d8a8c407bd8d4d4c3e",
            "314a4f2e96ac4d0982a0d60a47061164",
            "a416064dab2a44f2b460ff5c46fec0d5",
            "483d0072e6b74e4dbc917eb7ec0650fb",
            "73b2a33f99b24ea88dd33e4b208db79b",
            "66323888720746b4987d83d9f680354d",
            "65ffc0bc90cb43bea031269d0c2f4c72",
            "0e90c9cb6fca46de908e190014cd9bd7",
            "f099e0bda31a4911b24c0198eab7bffe",
            "2b9000239fd64d13b8d1e5e71a55e8c4",
            "5597c688c300430c812df613de922c45",
            "1dc5e11a937747819fed613dcc372d9f",
            "797a5024c2b646ec9dbcb508ed0590c7",
            "f3917394d4704a95bd5db3a263898b8d",
            "03b353ad9c32474eb6d7016fd9095b9a",
            "e4218ffb31134efdb2703b93cbc938d9",
            "c4a3a4fed83f43c1a6524140fbc4e0d1",
            "aaf78521f84a4ab6a91e527fc6c511b7",
            "c370417c6b1c4a99b0df16e91460e5bb",
            "06e8dffb1cfd4921a1a166f9cc424085",
            "0190d8958e244e31b5f1a761ed23cd33",
            "7d2305a37f794410986c67fe461766ec",
            "09846dfe49c04a3cb8184f7f4eff7733",
            "60cbe96d0e1149c5b6ff5fd1d731391d",
            "00c62438aa2b43588a254efe40cc03eb",
            "13354b9e73564821bc88e6020dfe3c08",
            "435a5f0de77440efb3165b431e637311",
            "93df2b778ac94d81b4b2b177c12dd1b3",
            "6614e37c21454c7c8f846912f3a9e186",
            "799ab54c61fb40e5bfd8976e6259f923",
            "3c32bf48983e41afb9f12a3eebe6c85d",
            "c9e5080c34274a44b18b3958a1e71219"
          ]
        },
        "id": "SoYy0RfaF2BB",
        "outputId": "3e87b210-b85b-43e3-e8d4-e761f1802c59"
      },
      "outputs": [
        {
          "name": "stderr",
          "output_type": "stream",
          "text": [
            "/usr/local/lib/python3.10/dist-packages/huggingface_hub/utils/_token.py:88: UserWarning: \n",
            "The secret `HF_TOKEN` does not exist in your Colab secrets.\n",
            "To authenticate with the Hugging Face Hub, create a token in your settings tab (https://huggingface.co/settings/tokens), set it as secret in your Google Colab and restart your session.\n",
            "You will be able to reuse this secret in all of your notebooks.\n",
            "Please note that authentication is recommended but still optional to access public models or datasets.\n",
            "  warnings.warn(\n"
          ]
        },
        {
          "data": {
            "application/vnd.jupyter.widget-view+json": {
              "model_id": "3f140644e1424197b4ab9804eb3661e7",
              "version_major": 2,
              "version_minor": 0
            },
            "text/plain": [
              "model.safetensors:   0%|          | 0.00/7.26G [00:00<?, ?B/s]"
            ]
          },
          "metadata": {},
          "output_type": "display_data"
        },
        {
          "name": "stderr",
          "output_type": "stream",
          "text": [
            "/usr/local/lib/python3.10/dist-packages/transformers/modeling_utils.py:4193: FutureWarning: `_is_quantized_training_enabled` is going to be deprecated in transformers 4.39.0. Please use `model.hf_quantizer.is_trainable` instead\n",
            "  warnings.warn(\n",
            "The cos_cached attribute will be removed in 4.39. Bear in mind that its contents changed in v4.38. Use the forward method of RoPE from now on instead. It is not used in the `LlamaAttention` class\n",
            "The sin_cached attribute will be removed in 4.39. Bear in mind that its contents changed in v4.38. Use the forward method of RoPE from now on instead. It is not used in the `LlamaAttention` class\n"
          ]
        },
        {
          "data": {
            "application/vnd.jupyter.widget-view+json": {
              "model_id": "e40d10c757d7426aa6fce49dfb25352b",
              "version_major": 2,
              "version_minor": 0
            },
            "text/plain": [
              "generation_config.json:   0%|          | 0.00/132 [00:00<?, ?B/s]"
            ]
          },
          "metadata": {},
          "output_type": "display_data"
        },
        {
          "data": {
            "application/vnd.jupyter.widget-view+json": {
              "model_id": "ed2995ddae7143989625b23474b44647",
              "version_major": 2,
              "version_minor": 0
            },
            "text/plain": [
              "tokenizer_config.json:   0%|          | 0.00/727 [00:00<?, ?B/s]"
            ]
          },
          "metadata": {},
          "output_type": "display_data"
        },
        {
          "data": {
            "application/vnd.jupyter.widget-view+json": {
              "model_id": "c3230a2129334bf6b8a5e6d2143e81f8",
              "version_major": 2,
              "version_minor": 0
            },
            "text/plain": [
              "tokenizer.model:   0%|          | 0.00/500k [00:00<?, ?B/s]"
            ]
          },
          "metadata": {},
          "output_type": "display_data"
        },
        {
          "data": {
            "application/vnd.jupyter.widget-view+json": {
              "model_id": "5597c688c300430c812df613de922c45",
              "version_major": 2,
              "version_minor": 0
            },
            "text/plain": [
              "tokenizer.json:   0%|          | 0.00/1.84M [00:00<?, ?B/s]"
            ]
          },
          "metadata": {},
          "output_type": "display_data"
        },
        {
          "data": {
            "application/vnd.jupyter.widget-view+json": {
              "model_id": "7d2305a37f794410986c67fe461766ec",
              "version_major": 2,
              "version_minor": 0
            },
            "text/plain": [
              "special_tokens_map.json:   0%|          | 0.00/411 [00:00<?, ?B/s]"
            ]
          },
          "metadata": {},
          "output_type": "display_data"
        }
      ],
      "source": [
        "model_name_or_path = \"TheBloke/Llama-2-13B-chat-GPTQ\"\n",
        "\n",
        "model = AutoModelForCausalLM.from_pretrained(model_name_or_path,\n",
        "                                             device_map=\"auto\",\n",
        "                                             trust_remote_code=False,\n",
        "                                             revision=\"main\")\n",
        "\n",
        "tokenizer = AutoTokenizer.from_pretrained(model_name_or_path, use_fast=True)"
      ]
    },
    {
      "cell_type": "markdown",
      "metadata": {
        "id": "vXa7iTmyo5F2"
      },
      "source": [
        "## Pipeline of the Inference"
      ]
    },
    {
      "cell_type": "code",
      "execution_count": null,
      "metadata": {
        "id": "fFhnoZY8wUXl"
      },
      "outputs": [],
      "source": [
        "def generate_answer(prompt, model, device, temp, n_token):\n",
        "    encoded = tokenizer(prompt, return_tensors=\"pt\", add_special_tokens=False)\n",
        "    model_input = encoded\n",
        "    model_input = model_input.to(device)\n",
        "    generated_ids = model.generate(\n",
        "        **model_input, do_sample=True,\n",
        "        max_new_tokens=n_token,\n",
        "        temperature=temp,\n",
        "        num_return_sequences=1,\n",
        "        pad_token_id=tokenizer.eos_token_id\n",
        "        )\n",
        "    decoded = tokenizer.batch_decode(generated_ids)\n",
        "\n",
        "    return decoded"
      ]
    },
    {
      "cell_type": "code",
      "execution_count": null,
      "metadata": {
        "id": "8wSqc7WtmdpX"
      },
      "outputs": [],
      "source": [
        "def extract_substring(input_string):\n",
        "    index = input_string.find(\"[/INST]\")\n",
        "    if index != -1:\n",
        "        return input_string[index + len(\"[/INST]\"):]\n",
        "    else:\n",
        "        return \"\""
      ]
    },
    {
      "cell_type": "code",
      "execution_count": null,
      "metadata": {
        "id": "ptf5_oSdO08X"
      },
      "outputs": [],
      "source": [
        "def few_shot_pipeline(\n",
        "        model,\n",
        "        system_prompt='',\n",
        "        instruction='',\n",
        "        sample='',\n",
        "        device='cpu',\n",
        "        temp=0.1,\n",
        "        n_token=100,\n",
        "        print_system_prompt=False,\n",
        "        save_system_prompt=False,\n",
        "        system_prompt_type=\"with_system_words\"\n",
        "        ):\n",
        "    # Construct prompt\n",
        "    if system_prompt_type == \"with_system_words\":\n",
        "        prompt = f\"\"\"<s>[INST]<<SYS>> {system_prompt} <</SYS>> {instruction} TEXT: {sample} TOPIC: [/INST]\"\"\".strip()\n",
        "    else:\n",
        "        prompt = f\"\"\"<s> [INST] <<SYS>> {system_prompt} <</SYS>> {instruction} {sample} [/INST]\"\"\"\n",
        "    if print_system_prompt:\n",
        "        print(prompt)\n",
        "\n",
        "    # Generate answer\n",
        "    answer = generate_answer(prompt, model, device, temp, n_token)\n",
        "    # Extract the result\n",
        "    if save_system_prompt:\n",
        "        result = answer[0]\n",
        "    else:\n",
        "        result = extract_substring(answer[0]).strip()\n",
        "    return result.replace(\"\\n\", \"\")\n"
      ]
    },
    {
      "cell_type": "markdown",
      "metadata": {
        "id": "4oGw9eQXSzia"
      },
      "source": [
        "## Prompt Engineering"
      ]
    },
    {
      "cell_type": "markdown",
      "metadata": {
        "id": "3Rd9eRO9mk8m"
      },
      "source": [
        "### Type I. Chain-of-Thought"
      ]
    },
    {
      "cell_type": "code",
      "execution_count": null,
      "metadata": {
        "colab": {
          "base_uri": "https://localhost:8080/"
        },
        "id": "M8U4O4hPmkHe",
        "outputId": "70148020-0cd5-456d-e858-d2e11d3b580a"
      },
      "outputs": [
        {
          "name": "stderr",
          "output_type": "stream",
          "text": [
            "/usr/local/lib/python3.10/dist-packages/transformers/generation/utils.py:1339: UserWarning: You have modified the pretrained model configuration to control generation. This is a deprecated strategy to control generation and will be removed soon, in a future version. Please use and modify the model generation configuration (see https://huggingface.co/docs/transformers/generation_strategies#default-text-generation-configuration )\n",
            "  warnings.warn(\n"
          ]
        },
        {
          "name": "stdout",
          "output_type": "stream",
          "text": [
            "<s> [INST] <<SYS>> You are a helpful, respectful and honest assistant for labeling TEXTS. <<SYS>>\n",
            "You will receive a TEXT and you should analyze it and LABEL it with one or few words. Please, make sure you to only return the LABEL and nothing more.\n",
            "TEXT: anonymous public private news crime server religion carry pretty bill cview internet paul hold thought\n",
            "LABEL: [/INST]  Sure, I'd be happy to help! Based on the text you provided, I would label it as \"NEWS\".</s>\n"
          ]
        }
      ],
      "source": [
        "prompt = \"\"\"<s> [INST] <<SYS>> You are a helpful, respectful and honest assistant for labeling TEXTS. <<SYS>>\n",
        "You will receive a TEXT and you should analyze it and LABEL it with one or few words. Please, make sure you to only return the LABEL and nothing more.\n",
        "TEXT: anonymous public private news crime server religion carry pretty bill cview internet paul hold thought\n",
        "LABEL: [/INST]\"\"\".strip()\n",
        "\n",
        "answer = generate_answer(prompt, model, 'cuda', temp=0.1, n_token=100)\n",
        "\n",
        "print(answer[0].strip())\n"
      ]
    },
    {
      "cell_type": "markdown",
      "metadata": {
        "id": "c28LA3bdS_sm"
      },
      "source": [
        "Conclusion: The model correctly understands the task and provides an answer in the required form. This product can be used for further research"
      ]
    },
    {
      "cell_type": "markdown",
      "metadata": {
        "id": "wqJ4EoXlTdq8"
      },
      "source": [
        "### Type II.  Chain-of-Thought"
      ]
    },
    {
      "cell_type": "code",
      "execution_count": null,
      "metadata": {
        "colab": {
          "base_uri": "https://localhost:8080/"
        },
        "id": "oDkI04ddHEAX",
        "outputId": "c44f159d-65c2-465c-cdb7-4908b39e5a71"
      },
      "outputs": [
        {
          "name": "stdout",
          "output_type": "stream",
          "text": [
            "<s> [INST] <<SYS>> You are an assistant for topic modeling. <<SYS>>\n",
            "You will receive the TEXT and you should identify one or few TOPICS of the TEXT. Provide ONLY TOPICS and nothing more.\n",
            "TEXT: anonymous public private news crime server religion carry pretty bill cview internet paul hold thought\n",
            "TOPIC: [/INST]  Sure! Here are the topics I identified in the text you provided:\n",
            "\n",
            "1. Anonymity\n",
            "2. Privacy\n",
            "3. Crime\n",
            "4. Religion\n",
            "\n",
            "Please let me know if you would like me to identify additional topics or if you have any further questions!</s>\n"
          ]
        }
      ],
      "source": [
        "prompt = \"\"\"<s> [INST] <<SYS>> You are an assistant for topic modeling. <<SYS>>\n",
        "You will receive the TEXT and you should identify one or few TOPICS of the TEXT. Provide ONLY TOPICS and nothing more.\n",
        "TEXT: anonymous public private news crime server religion carry pretty bill cview internet paul hold thought\n",
        "TOPIC: [/INST]\"\"\".strip()\n",
        "\n",
        "answer = generate_answer(prompt, model, 'cuda', temp=0.1, n_token=100)\n",
        "\n",
        "print(answer[0].strip())\n"
      ]
    },
    {
      "cell_type": "markdown",
      "metadata": {
        "id": "I-m__E_jT0Bu"
      },
      "source": [
        "Conclusion: The model also successfully highlights topics, but in this case post-processing will be necessary"
      ]
    },
    {
      "cell_type": "markdown",
      "metadata": {
        "id": "RdU9Id5fUy61"
      },
      "source": [
        "### Type III. Chain-of-Thought"
      ]
    },
    {
      "cell_type": "code",
      "execution_count": null,
      "metadata": {
        "colab": {
          "base_uri": "https://localhost:8080/"
        },
        "id": "ndglgCvvVcTq",
        "outputId": "83cedc18-737d-4013-c503-f5a9b864f6c2"
      },
      "outputs": [
        {
          "name": "stdout",
          "output_type": "stream",
          "text": [
            "<s> [INST] <<SYS>> You are the topic modeling assistant. <<\\SYS>> You should understand the main theme that combines all the words from the list. Formulate it with a single word, print only this word in quotes and no additional text: anonymous public private news crime server religion carry pretty bill cview internet paul hold thought [/INST]  Sure! Based on the list of words provided, the main theme that combines all the words is \"privacy.\"\n",
            "\n",
            "So, the single word that represents the main theme is:\n",
            "\n",
            "\"Privacy\"</s>\n"
          ]
        }
      ],
      "source": [
        "prompt = \"\"\"<s> [INST] <<SYS>> You are the topic modeling assistant. <<\\SYS>> You should understand the main theme that combines all the words from the list. Formulate it with a single word, print only this word in quotes and no additional text: anonymous public private news crime server religion carry pretty bill cview internet paul hold thought [/INST]\"\"\".strip()\n",
        "\n",
        "answer = generate_answer(prompt, model, 'cuda', temp=0.1, n_token=100)\n",
        "\n",
        "print(answer[0])\n"
      ]
    },
    {
      "cell_type": "code",
      "execution_count": null,
      "metadata": {
        "colab": {
          "base_uri": "https://localhost:8080/"
        },
        "id": "6oKarwgWy5Ok",
        "outputId": "00f46162-940a-45bd-fbae-65837efa799b"
      },
      "outputs": [
        {
          "name": "stdout",
          "output_type": "stream",
          "text": [
            "<s> [INST] <<SYS>> You are the topic modeling assistant. <<\\SYS>> You should understand the main theme that combines all the words from the list. Formulate it with a single word, print only this word in quotes and no additional text: greek turkish turkey cross armenia henrik turk greece plane azeri link cyprus allocation minority conflict [/INST]  Sure, I'd be happy to help! Based on the list of words you provided, the main theme that combines all the words is:\n",
            "\n",
            "\"CONFLICT\"</s>\n"
          ]
        }
      ],
      "source": [
        "prompt = \"\"\"<s> [INST] <<SYS>> You are the topic modeling assistant. <<\\SYS>> You should understand the main theme that combines all the words from the list. Formulate it with a single word, print only this word in quotes and no additional text: greek turkish turkey cross armenia henrik turk greece plane azeri link cyprus allocation minority conflict [/INST]\"\"\".strip()\n",
        "\n",
        "answer = generate_answer(prompt, model, 'cuda', temp=0.1, n_token=100)\n",
        "\n",
        "print(answer[0])\n"
      ]
    },
    {
      "cell_type": "code",
      "execution_count": null,
      "metadata": {
        "colab": {
          "base_uri": "https://localhost:8080/"
        },
        "id": "JXvcoxzmV8p-",
        "outputId": "9d3df329-1528-4b13-99a1-b11d30589d91"
      },
      "outputs": [
        {
          "name": "stdout",
          "output_type": "stream",
          "text": [
            "<s> [INST] <<SYS>> You are the topic modeling assistant. <<\\SYS>> You should undersatnd the main theme that combines all the words from the list. Formulate it with a single word, print only this word in quotes and no additional text: bar sweet crunchy yummy cinnamon granola yogurt crunch cereal raisin flake snack almond combination blueberry [/INST]  Sure, I'd be happy to help! Based on the list of words you provided, the main theme that combines all the words is \"breakfast\".\n",
            "\n",
            "So, the single word that I would print in quotes is:\n",
            "\n",
            "\"Breakfast\"</s>\n"
          ]
        }
      ],
      "source": [
        "prompt = \"\"\"<s> [INST] <<SYS>> You are the topic modeling assistant. <<\\SYS>> You should undersatnd the main theme that combines all the words from the list. Formulate it with a single word, print only this word in quotes and no additional text: bar sweet crunchy yummy cinnamon granola yogurt crunch cereal raisin flake snack almond combination blueberry [/INST]\"\"\".strip()\n",
        "\n",
        "answer = generate_answer(prompt, model, 'cuda', temp=0.1, n_token=100)\n",
        "\n",
        "print(answer[0])\n"
      ]
    },
    {
      "cell_type": "code",
      "execution_count": null,
      "metadata": {
        "colab": {
          "base_uri": "https://localhost:8080/"
        },
        "id": "kjFl6ccSWWN_",
        "outputId": "48978801-505b-42ef-c848-73da09ec185c"
      },
      "outputs": [
        {
          "name": "stdout",
          "output_type": "stream",
          "text": [
            "<s> [INST] <<SYS>> You are the topic modeling assistant. <<\\SYS>> You should understand the main theme that combines all the words from the list. Formulate it with a single word, print only this word in quotes and no additional text: church bible christ catholic matthew faith lord scripture father word spirit holy paul passage interpretation [/INST]  Sure! Based on the list of words provided, the main theme that combines all the words is:\n",
            "\n",
            "\"FAITH\"</s>\n"
          ]
        }
      ],
      "source": [
        "prompt = \"\"\"<s> [INST] <<SYS>> You are the topic modeling assistant. <<\\SYS>> You should understand the main theme that combines all the words from the list. Formulate it with a single word, print only this word in quotes and no additional text: church bible christ catholic matthew faith lord scripture father word spirit holy paul passage interpretation [/INST]\"\"\".strip()\n",
        "\n",
        "answer = generate_answer(prompt, model, 'cuda', temp=0.1, n_token=100)\n",
        "\n",
        "print(answer[0])\n"
      ]
    },
    {
      "cell_type": "code",
      "execution_count": null,
      "metadata": {
        "colab": {
          "base_uri": "https://localhost:8080/"
        },
        "id": "q25kyw6NWjnH",
        "outputId": "732fd5ac-3f71-4da5-fff0-4df80946eb0b"
      },
      "outputs": [
        {
          "name": "stdout",
          "output_type": "stream",
          "text": [
            "<s> [INST] <<SYS>> You are the topic modeling assistant. <<\\SYS>> You should understand the main theme that combines all the words from the list. Formulate it with a single word, print only this word in quotes and no additional text: internet research phone center email institute organization technology office voice address department virginia national engineering[/INST]  Sure! Based on the list of words provided, the main theme that combines all the words is \"TECHNOLOGY\".</s>\n"
          ]
        }
      ],
      "source": [
        "prompt = \"\"\"<s> [INST] <<SYS>> You are the topic modeling assistant. <<\\SYS>> You should understand the main theme that combines all the words from the list. Formulate it with a single word, print only this word in quotes and no additional text: internet research phone center email institute organization technology office voice address department virginia national engineering[/INST]\"\"\".strip()\n",
        "\n",
        "answer = generate_answer(prompt, model, 'cuda', temp=0.1, n_token=100)\n",
        "\n",
        "print(answer[0])\n"
      ]
    },
    {
      "cell_type": "code",
      "execution_count": null,
      "metadata": {
        "colab": {
          "base_uri": "https://localhost:8080/"
        },
        "id": "oFsTphmLW09f",
        "outputId": "3074b87b-4595-4a46-b56e-4ec02312735f"
      },
      "outputs": [
        {
          "name": "stdout",
          "output_type": "stream",
          "text": [
            "<s> [INST] <<SYS>> You are the topic modeling assistant. <<\\SYS>> You should understand the main theme that combines all the words from the list. Formulate it with a single word, print only this word in quotes and no additional text: driver card sound light cards machine utexas diamond gateway mode running latest crash accelerator austin [/INST]  Sure! Based on the list of words you provided, the main theme that combines all the words is \"TECHNOLOGY\".</s>\n"
          ]
        }
      ],
      "source": [
        "prompt = \"\"\"<s> [INST] <<SYS>> You are the topic modeling assistant. <<\\SYS>> You should understand the main theme that combines all the words from the list. Formulate it with a single word, print only this word in quotes and no additional text: driver card sound light cards machine utexas diamond gateway mode running latest crash accelerator austin [/INST]\"\"\".strip()\n",
        "\n",
        "answer = generate_answer(prompt, model, 'cuda', temp=0.1, n_token=100)\n",
        "\n",
        "print(answer[0])\n"
      ]
    },
    {
      "cell_type": "code",
      "execution_count": null,
      "metadata": {
        "colab": {
          "base_uri": "https://localhost:8080/"
        },
        "id": "oXbZuNYRXEWU",
        "outputId": "870bc94e-6502-454d-9e0e-78c398a1bf09"
      },
      "outputs": [
        {
          "name": "stdout",
          "output_type": "stream",
          "text": [
            "<s> [INST] <<SYS>> You are the topic modeling assistant. <<\\SYS>> You should understand the main theme that combines all the words from the list. Formulate it with a single word, print only this word in quotes and no additional text: star fruit pretty juice gift orange mind soda instant five espresso substitute raspberry decent via [/INST]  Sure! Based on the list of words you provided, the main theme that combines all the words is \"drinks\".\n",
            "\n",
            "So, the single word that represents the theme is:\n",
            "\n",
            "\"Drinks\"</s>\n"
          ]
        }
      ],
      "source": [
        "prompt = \"\"\"<s> [INST] <<SYS>> You are the topic modeling assistant. <<\\SYS>> You should understand the main theme that combines all the words from the list. Formulate it with a single word, print only this word in quotes and no additional text: star fruit pretty juice gift orange mind soda instant five espresso substitute raspberry decent via [/INST]\"\"\".strip()\n",
        "\n",
        "answer = generate_answer(prompt, model, 'cuda', temp=0.1, n_token=100)\n",
        "\n",
        "print(answer[0])\n"
      ]
    },
    {
      "cell_type": "code",
      "execution_count": null,
      "metadata": {
        "colab": {
          "base_uri": "https://localhost:8080/"
        },
        "id": "-XPDDI51XpeD",
        "outputId": "aadb6b62-6576-4c8f-f7be-88e8abe9a911"
      },
      "outputs": [
        {
          "name": "stdout",
          "output_type": "stream",
          "text": [
            "<s> [INST] <<SYS>> You are the topic modeling assistant. <<\\SYS>> You should understand the main theme that combines all the words from the list. Formulate it with a single word, print only this word in quotes and no additional text: quality chicken meat ingredient vegetable purchasing salmon hazelnut pricey base turkey tuna filler steak actually [/INST]  Sure! Based on the list of words you provided, the main theme that combines all the words is \"FOOD\".</s>\n"
          ]
        }
      ],
      "source": [
        "prompt = \"\"\"<s> [INST] <<SYS>> You are the topic modeling assistant. <<\\SYS>> You should understand the main theme that combines all the words from the list. Formulate it with a single word, print only this word in quotes and no additional text: quality chicken meat ingredient vegetable purchasing salmon hazelnut pricey base turkey tuna filler steak actually [/INST]\"\"\".strip()\n",
        "\n",
        "answer = generate_answer(prompt, model, 'cuda', temp=0.1, n_token=100)\n",
        "\n",
        "print(answer[0])\n"
      ]
    },
    {
      "cell_type": "markdown",
      "metadata": {
        "id": "0ikuQMQEVlmF"
      },
      "source": [
        "Conclusion: The model understands what is required of it and gives the answer in the correct form. This prompt can be used for further research"
      ]
    },
    {
      "cell_type": "code",
      "execution_count": null,
      "metadata": {
        "colab": {
          "base_uri": "https://localhost:8080/"
        },
        "id": "NGBC5j1r0-eG",
        "outputId": "0ad8a4ca-d896-4980-bb79-9da4697bc7c4"
      },
      "outputs": [
        {
          "name": "stdout",
          "output_type": "stream",
          "text": [
            "<s> [INST] <<SYS>> You are the topic modeling assistant. <</SYS>> You should extract the main theme that combines all the words from the list. Formulate it with a single word, print only this word in quotes and no additional text: quality chicken meat ingredient vegetable purchasing salmon hazelnut pricey base turkey tuna filler steak actually [/INST]  Sure! Based on the list of words you provided, the main theme that combines all the words is:\n",
            "\n",
            "\"QUALITY\"</s>\n"
          ]
        }
      ],
      "source": [
        "# Example with EXTRACT\n",
        "prompt = \"\"\"<s> [INST] <<SYS>> You are the topic modeling assistant. <</SYS>> You should extract the main theme that combines all the words from the list. Formulate it with a single word, print only this word in quotes and no additional text: quality chicken meat ingredient vegetable purchasing salmon hazelnut pricey base turkey tuna filler steak actually [/INST]\"\"\".strip()\n",
        "\n",
        "answer = generate_answer(prompt, model, 'cuda', temp=0.1, n_token=100)\n",
        "\n",
        "print(answer[0])\n"
      ]
    },
    {
      "cell_type": "markdown",
      "metadata": {
        "id": "EPCC71PkaBT1"
      },
      "source": [
        "Conclusion: Based on the generation results, it can be seen that when using the word extract in the prompt, the model simply extracts some word from the set, while when using understand, it generalizes and outputs a topic"
      ]
    },
    {
      "cell_type": "markdown",
      "metadata": {
        "id": "i34U_cfGGfzK"
      },
      "source": [
        "## Inference on the Entire Dataset"
      ]
    },
    {
      "cell_type": "markdown",
      "metadata": {
        "id": "r0aytcKJZoZ4"
      },
      "source": [
        "### Type II.  Chain-of-Thought"
      ]
    },
    {
      "cell_type": "code",
      "execution_count": null,
      "metadata": {
        "id": "tyuFS6700jco"
      },
      "outputs": [],
      "source": [
        "random.seed(42)\n",
        "random.shuffle(data_text)"
      ]
    },
    {
      "cell_type": "code",
      "execution_count": null,
      "metadata": {
        "colab": {
          "base_uri": "https://localhost:8080/",
          "height": 91
        },
        "id": "qkJ4l9qi9n2e",
        "outputId": "2725eef1-9b2a-402a-84e2-3f517da26fb3"
      },
      "outputs": [
        {
          "name": "stdout",
          "output_type": "stream",
          "text": [
            "disk card scsi driver speed fast apple controller machine memory monitor port chip board sound\n",
            "<s>[INST]<<SYS>> You are an assistant for topic modeling. <</SYS>> You will receive the TEXT and you should identify one or few TOPICS of the TEXT. Provide ONLY TOPIC and nothing more. TEXT: disk card scsi driver speed fast apple controller machine memory monitor port chip board sound TOPIC: [/INST]\n"
          ]
        },
        {
          "data": {
            "application/vnd.google.colaboratory.intrinsic+json": {
              "type": "string"
            },
            "text/plain": [
              "\"Sure! Here's the topic of the text you provided:TOPIC: Computer Hardware</s>\""
            ]
          },
          "execution_count": 18,
          "metadata": {},
          "output_type": "execute_result"
        }
      ],
      "source": [
        "SYSTEM_PROMPT = \"You are an assistant for topic modeling.\"\n",
        "INSTRUCTION = \"You will receive the TEXT and you should identify one or few TOPICS of the TEXT. Provide ONLY TOPIC and nothing more.\"\n",
        "\n",
        "SAMPLE = data_text[2]\n",
        "print(SAMPLE)\n",
        "\n",
        "res = few_shot_pipeline(model, SYSTEM_PROMPT, INSTRUCTION, SAMPLE, device=\"cuda\", n_token=100, print_system_prompt=True)\n",
        "\n",
        "res.strip()"
      ]
    },
    {
      "cell_type": "code",
      "execution_count": null,
      "metadata": {
        "colab": {
          "base_uri": "https://localhost:8080/"
        },
        "id": "dC-ogyp4VNei",
        "outputId": "3185d7a7-d82d-49d3-8bc3-64173002dd31"
      },
      "outputs": [
        {
          "name": "stderr",
          "output_type": "stream",
          "text": [
            "100%|██████████| 2363/2363 [1:03:39<00:00,  1.62s/it]\n"
          ]
        }
      ],
      "source": [
        "# Create file\n",
        "RES_FILE_NAME = \"data_topic_name_distrib_llama_13B_4bit_type1.csv\"\n",
        "RES_FILE = DATA_DIR.joinpath(RES_FILE_NAME)\n",
        "# Remove old file\n",
        "if os.path.exists(RES_FILE):\n",
        "    os.remove(RES_FILE)\n",
        "\n",
        "for i in tqdm(range(len(data_text))):\n",
        "    SAMPLE = data_text[i]\n",
        "    res_model = few_shot_pipeline(\n",
        "        model,\n",
        "        SYSTEM_PROMPT,\n",
        "        INSTRUCTION,\n",
        "        SAMPLE,\n",
        "        device=\"cuda\",\n",
        "        temp=0.1,\n",
        "        n_token=100\n",
        "    )\n",
        "    with open(RES_FILE, 'a') as file:\n",
        "        file.write(f\"{SAMPLE};{res_model}\\n\")\n"
      ]
    },
    {
      "cell_type": "markdown",
      "metadata": {
        "id": "m1f4l_y0atzl"
      },
      "source": [
        "### Type III.  Chain-of-Thought"
      ]
    },
    {
      "cell_type": "code",
      "execution_count": null,
      "metadata": {
        "id": "5mzRMjrO2duW"
      },
      "outputs": [],
      "source": [
        "random.seed(42)\n",
        "random.shuffle(data_text)"
      ]
    },
    {
      "cell_type": "code",
      "execution_count": null,
      "metadata": {
        "id": "Uupj_2ZMb0E_"
      },
      "outputs": [],
      "source": [
        "def extract_characters(text):\n",
        "    result = re.findall(r\"[A-Za-z0-9]+|[.,!?;:()\\\"'-]\", text)\n",
        "    return ' '.join(result)"
      ]
    },
    {
      "cell_type": "code",
      "execution_count": null,
      "metadata": {
        "colab": {
          "base_uri": "https://localhost:8080/",
          "height": 91
        },
        "id": "Vp3D6y_j2f7P",
        "outputId": "8f180e90-813d-4192-e698-e5dfe52bfdb1"
      },
      "outputs": [
        {
          "name": "stdout",
          "output_type": "stream",
          "text": [
            "<s> [INST] <<SYS>> You are the topic modeling assistant. <</SYS>> You should understand the main theme that combines all the words from the list. Formulate it with a single word, print only this word in quotes and no additional text: drinking aftertaste mild espresso might weird beverage sip latte brewing guest appeal however sound mellow [/INST]\n"
          ]
        },
        {
          "data": {
            "application/vnd.google.colaboratory.intrinsic+json": {
              "type": "string"
            },
            "text/plain": [
              "'Sure! Based on the list of words you provided, the main theme that combines all the words is \"coffee.\" Here\\'s the word formulated as a single quote:\"Coffee\"</s>'"
            ]
          },
          "execution_count": 40,
          "metadata": {},
          "output_type": "execute_result"
        }
      ],
      "source": [
        "SYSTEM_PROMPT = \"You are the topic modeling assistant.\"\n",
        "INSTRUCTION = \"You should understand the main theme that combines all the words from the list. Formulate it with a single word, print only this word in quotes and no additional text:\"\n",
        "\n",
        "SAMPLE = data_text[391]\n",
        "\n",
        "res = few_shot_pipeline(\n",
        "    model,\n",
        "    SYSTEM_PROMPT,\n",
        "    INSTRUCTION,\n",
        "    SAMPLE,\n",
        "    device=\"cuda\",\n",
        "    n_token=100,\n",
        "    print_system_prompt=True,\n",
        "    system_prompt_type=None\n",
        "  )\n",
        "\n",
        "res"
      ]
    },
    {
      "cell_type": "code",
      "execution_count": null,
      "metadata": {
        "colab": {
          "base_uri": "https://localhost:8080/"
        },
        "id": "uWdp_cJ92JR2",
        "outputId": "885f33e3-438e-49c0-caab-a0e347f297a3"
      },
      "outputs": [
        {
          "name": "stderr",
          "output_type": "stream",
          "text": [
            "100%|██████████| 1971/1971 [1:10:59<00:00,  2.16s/it]\n"
          ]
        }
      ],
      "source": [
        "# Create file\n",
        "RES_FILE_NAME = \"data_topic_name_distrib_llama_13B_4bit_new.csv\"\n",
        "RES_FILE = DATA_DIR.joinpath(RES_FILE_NAME)\n",
        "# Remove old file\n",
        "if os.path.exists(RES_FILE):\n",
        "    os.remove(RES_FILE)\n",
        "\n",
        "for i in tqdm(range(len(data_text))):\n",
        "    torch.cuda.empty_cache()\n",
        "    SAMPLE = data_text[i]\n",
        "    res_model = few_shot_pipeline(\n",
        "        model,\n",
        "        SYSTEM_PROMPT,\n",
        "        INSTRUCTION,\n",
        "        SAMPLE,\n",
        "        device=\"cuda\",\n",
        "        temp=0.1,\n",
        "        n_token=100\n",
        "    )\n",
        "    res_model = extract_characters(res_model.replace(\"</s>\", \"\"))\n",
        "    # print(res_model)\n",
        "    with open(RES_FILE, 'a') as file:\n",
        "        file.write(f\"{SAMPLE};{res_model}\\n\")\n"
      ]
    }
  ],
  "metadata": {
    "accelerator": "GPU",
    "colab": {
      "gpuType": "T4",
      "provenance": []
    },
    "kernelspec": {
      "display_name": "Python 3",
      "name": "python3"
    },
    "language_info": {
      "codemirror_mode": {
        "name": "ipython",
        "version": 3
      },
      "file_extension": ".py",
      "mimetype": "text/x-python",
      "name": "python",
      "nbconvert_exporter": "python",
      "pygments_lexer": "ipython3",
      "version": "3.9.7"
    },
    "widgets": {
      "application/vnd.jupyter.widget-state+json": {
        "00c62438aa2b43588a254efe40cc03eb": {
          "model_module": "@jupyter-widgets/controls",
          "model_module_version": "1.5.0",
          "model_name": "HTMLModel",
          "state": {
            "_dom_classes": [],
            "_model_module": "@jupyter-widgets/controls",
            "_model_module_version": "1.5.0",
            "_model_name": "HTMLModel",
            "_view_count": null,
            "_view_module": "@jupyter-widgets/controls",
            "_view_module_version": "1.5.0",
            "_view_name": "HTMLView",
            "description": "",
            "description_tooltip": null,
            "layout": "IPY_MODEL_3c32bf48983e41afb9f12a3eebe6c85d",
            "placeholder": "​",
            "style": "IPY_MODEL_c9e5080c34274a44b18b3958a1e71219",
            "value": " 411/411 [00:00&lt;00:00, 32.4kB/s]"
          }
        },
        "0190d8958e244e31b5f1a761ed23cd33": {
          "model_module": "@jupyter-widgets/controls",
          "model_module_version": "1.5.0",
          "model_name": "DescriptionStyleModel",
          "state": {
            "_model_module": "@jupyter-widgets/controls",
            "_model_module_version": "1.5.0",
            "_model_name": "DescriptionStyleModel",
            "_view_count": null,
            "_view_module": "@jupyter-widgets/base",
            "_view_module_version": "1.2.0",
            "_view_name": "StyleView",
            "description_width": ""
          }
        },
        "03077bcd1e1445b8926c7eb01dc6fad6": {
          "model_module": "@jupyter-widgets/controls",
          "model_module_version": "1.5.0",
          "model_name": "HTMLModel",
          "state": {
            "_dom_classes": [],
            "_model_module": "@jupyter-widgets/controls",
            "_model_module_version": "1.5.0",
            "_model_name": "HTMLModel",
            "_view_count": null,
            "_view_module": "@jupyter-widgets/controls",
            "_view_module_version": "1.5.0",
            "_view_name": "HTMLView",
            "description": "",
            "description_tooltip": null,
            "layout": "IPY_MODEL_07640d4db3a34fcdaebeffee8a7bc5ee",
            "placeholder": "​",
            "style": "IPY_MODEL_b402ed6ebe3c441c8286c118dfac4f94",
            "value": "model.safetensors: 100%"
          }
        },
        "0353ba18c73f4cea8ceda05b4cac041f": {
          "model_module": "@jupyter-widgets/controls",
          "model_module_version": "1.5.0",
          "model_name": "ProgressStyleModel",
          "state": {
            "_model_module": "@jupyter-widgets/controls",
            "_model_module_version": "1.5.0",
            "_model_name": "ProgressStyleModel",
            "_view_count": null,
            "_view_module": "@jupyter-widgets/base",
            "_view_module_version": "1.2.0",
            "_view_name": "StyleView",
            "bar_color": null,
            "description_width": ""
          }
        },
        "03b353ad9c32474eb6d7016fd9095b9a": {
          "model_module": "@jupyter-widgets/base",
          "model_module_version": "1.2.0",
          "model_name": "LayoutModel",
          "state": {
            "_model_module": "@jupyter-widgets/base",
            "_model_module_version": "1.2.0",
            "_model_name": "LayoutModel",
            "_view_count": null,
            "_view_module": "@jupyter-widgets/base",
            "_view_module_version": "1.2.0",
            "_view_name": "LayoutView",
            "align_content": null,
            "align_items": null,
            "align_self": null,
            "border": null,
            "bottom": null,
            "display": null,
            "flex": null,
            "flex_flow": null,
            "grid_area": null,
            "grid_auto_columns": null,
            "grid_auto_flow": null,
            "grid_auto_rows": null,
            "grid_column": null,
            "grid_gap": null,
            "grid_row": null,
            "grid_template_areas": null,
            "grid_template_columns": null,
            "grid_template_rows": null,
            "height": null,
            "justify_content": null,
            "justify_items": null,
            "left": null,
            "margin": null,
            "max_height": null,
            "max_width": null,
            "min_height": null,
            "min_width": null,
            "object_fit": null,
            "object_position": null,
            "order": null,
            "overflow": null,
            "overflow_x": null,
            "overflow_y": null,
            "padding": null,
            "right": null,
            "top": null,
            "visibility": null,
            "width": null
          }
        },
        "057e16603f6c444db99a3db6eb04619c": {
          "model_module": "@jupyter-widgets/controls",
          "model_module_version": "1.5.0",
          "model_name": "FloatProgressModel",
          "state": {
            "_dom_classes": [],
            "_model_module": "@jupyter-widgets/controls",
            "_model_module_version": "1.5.0",
            "_model_name": "FloatProgressModel",
            "_view_count": null,
            "_view_module": "@jupyter-widgets/controls",
            "_view_module_version": "1.5.0",
            "_view_name": "ProgressView",
            "bar_style": "success",
            "description": "",
            "description_tooltip": null,
            "layout": "IPY_MODEL_2b9c15f841bf47babb4688e0114fc3e7",
            "max": 7259449480,
            "min": 0,
            "orientation": "horizontal",
            "style": "IPY_MODEL_e43ae444b50747af83054edf2c41aee7",
            "value": 7259449480
          }
        },
        "06e8dffb1cfd4921a1a166f9cc424085": {
          "model_module": "@jupyter-widgets/base",
          "model_module_version": "1.2.0",
          "model_name": "LayoutModel",
          "state": {
            "_model_module": "@jupyter-widgets/base",
            "_model_module_version": "1.2.0",
            "_model_name": "LayoutModel",
            "_view_count": null,
            "_view_module": "@jupyter-widgets/base",
            "_view_module_version": "1.2.0",
            "_view_name": "LayoutView",
            "align_content": null,
            "align_items": null,
            "align_self": null,
            "border": null,
            "bottom": null,
            "display": null,
            "flex": null,
            "flex_flow": null,
            "grid_area": null,
            "grid_auto_columns": null,
            "grid_auto_flow": null,
            "grid_auto_rows": null,
            "grid_column": null,
            "grid_gap": null,
            "grid_row": null,
            "grid_template_areas": null,
            "grid_template_columns": null,
            "grid_template_rows": null,
            "height": null,
            "justify_content": null,
            "justify_items": null,
            "left": null,
            "margin": null,
            "max_height": null,
            "max_width": null,
            "min_height": null,
            "min_width": null,
            "object_fit": null,
            "object_position": null,
            "order": null,
            "overflow": null,
            "overflow_x": null,
            "overflow_y": null,
            "padding": null,
            "right": null,
            "top": null,
            "visibility": null,
            "width": null
          }
        },
        "07640d4db3a34fcdaebeffee8a7bc5ee": {
          "model_module": "@jupyter-widgets/base",
          "model_module_version": "1.2.0",
          "model_name": "LayoutModel",
          "state": {
            "_model_module": "@jupyter-widgets/base",
            "_model_module_version": "1.2.0",
            "_model_name": "LayoutModel",
            "_view_count": null,
            "_view_module": "@jupyter-widgets/base",
            "_view_module_version": "1.2.0",
            "_view_name": "LayoutView",
            "align_content": null,
            "align_items": null,
            "align_self": null,
            "border": null,
            "bottom": null,
            "display": null,
            "flex": null,
            "flex_flow": null,
            "grid_area": null,
            "grid_auto_columns": null,
            "grid_auto_flow": null,
            "grid_auto_rows": null,
            "grid_column": null,
            "grid_gap": null,
            "grid_row": null,
            "grid_template_areas": null,
            "grid_template_columns": null,
            "grid_template_rows": null,
            "height": null,
            "justify_content": null,
            "justify_items": null,
            "left": null,
            "margin": null,
            "max_height": null,
            "max_width": null,
            "min_height": null,
            "min_width": null,
            "object_fit": null,
            "object_position": null,
            "order": null,
            "overflow": null,
            "overflow_x": null,
            "overflow_y": null,
            "padding": null,
            "right": null,
            "top": null,
            "visibility": null,
            "width": null
          }
        },
        "09846dfe49c04a3cb8184f7f4eff7733": {
          "model_module": "@jupyter-widgets/controls",
          "model_module_version": "1.5.0",
          "model_name": "HTMLModel",
          "state": {
            "_dom_classes": [],
            "_model_module": "@jupyter-widgets/controls",
            "_model_module_version": "1.5.0",
            "_model_name": "HTMLModel",
            "_view_count": null,
            "_view_module": "@jupyter-widgets/controls",
            "_view_module_version": "1.5.0",
            "_view_name": "HTMLView",
            "description": "",
            "description_tooltip": null,
            "layout": "IPY_MODEL_435a5f0de77440efb3165b431e637311",
            "placeholder": "​",
            "style": "IPY_MODEL_93df2b778ac94d81b4b2b177c12dd1b3",
            "value": "special_tokens_map.json: 100%"
          }
        },
        "09969c6e7c5949f7bc8cb4c158980551": {
          "model_module": "@jupyter-widgets/controls",
          "model_module_version": "1.5.0",
          "model_name": "DescriptionStyleModel",
          "state": {
            "_model_module": "@jupyter-widgets/controls",
            "_model_module_version": "1.5.0",
            "_model_name": "DescriptionStyleModel",
            "_view_count": null,
            "_view_module": "@jupyter-widgets/base",
            "_view_module_version": "1.2.0",
            "_view_name": "StyleView",
            "description_width": ""
          }
        },
        "0e90c9cb6fca46de908e190014cd9bd7": {
          "model_module": "@jupyter-widgets/controls",
          "model_module_version": "1.5.0",
          "model_name": "ProgressStyleModel",
          "state": {
            "_model_module": "@jupyter-widgets/controls",
            "_model_module_version": "1.5.0",
            "_model_name": "ProgressStyleModel",
            "_view_count": null,
            "_view_module": "@jupyter-widgets/base",
            "_view_module_version": "1.2.0",
            "_view_name": "StyleView",
            "bar_color": null,
            "description_width": ""
          }
        },
        "10962e4b0b7040d8a8c407bd8d4d4c3e": {
          "model_module": "@jupyter-widgets/controls",
          "model_module_version": "1.5.0",
          "model_name": "HTMLModel",
          "state": {
            "_dom_classes": [],
            "_model_module": "@jupyter-widgets/controls",
            "_model_module_version": "1.5.0",
            "_model_name": "HTMLModel",
            "_view_count": null,
            "_view_module": "@jupyter-widgets/controls",
            "_view_module_version": "1.5.0",
            "_view_name": "HTMLView",
            "description": "",
            "description_tooltip": null,
            "layout": "IPY_MODEL_73b2a33f99b24ea88dd33e4b208db79b",
            "placeholder": "​",
            "style": "IPY_MODEL_66323888720746b4987d83d9f680354d",
            "value": "tokenizer.model: 100%"
          }
        },
        "13354b9e73564821bc88e6020dfe3c08": {
          "model_module": "@jupyter-widgets/base",
          "model_module_version": "1.2.0",
          "model_name": "LayoutModel",
          "state": {
            "_model_module": "@jupyter-widgets/base",
            "_model_module_version": "1.2.0",
            "_model_name": "LayoutModel",
            "_view_count": null,
            "_view_module": "@jupyter-widgets/base",
            "_view_module_version": "1.2.0",
            "_view_name": "LayoutView",
            "align_content": null,
            "align_items": null,
            "align_self": null,
            "border": null,
            "bottom": null,
            "display": null,
            "flex": null,
            "flex_flow": null,
            "grid_area": null,
            "grid_auto_columns": null,
            "grid_auto_flow": null,
            "grid_auto_rows": null,
            "grid_column": null,
            "grid_gap": null,
            "grid_row": null,
            "grid_template_areas": null,
            "grid_template_columns": null,
            "grid_template_rows": null,
            "height": null,
            "justify_content": null,
            "justify_items": null,
            "left": null,
            "margin": null,
            "max_height": null,
            "max_width": null,
            "min_height": null,
            "min_width": null,
            "object_fit": null,
            "object_position": null,
            "order": null,
            "overflow": null,
            "overflow_x": null,
            "overflow_y": null,
            "padding": null,
            "right": null,
            "top": null,
            "visibility": null,
            "width": null
          }
        },
        "1dc5e11a937747819fed613dcc372d9f": {
          "model_module": "@jupyter-widgets/controls",
          "model_module_version": "1.5.0",
          "model_name": "HTMLModel",
          "state": {
            "_dom_classes": [],
            "_model_module": "@jupyter-widgets/controls",
            "_model_module_version": "1.5.0",
            "_model_name": "HTMLModel",
            "_view_count": null,
            "_view_module": "@jupyter-widgets/controls",
            "_view_module_version": "1.5.0",
            "_view_name": "HTMLView",
            "description": "",
            "description_tooltip": null,
            "layout": "IPY_MODEL_e4218ffb31134efdb2703b93cbc938d9",
            "placeholder": "​",
            "style": "IPY_MODEL_c4a3a4fed83f43c1a6524140fbc4e0d1",
            "value": "tokenizer.json: 100%"
          }
        },
        "213a59febbee453ca4dd7cb10df8e276": {
          "model_module": "@jupyter-widgets/controls",
          "model_module_version": "1.5.0",
          "model_name": "DescriptionStyleModel",
          "state": {
            "_model_module": "@jupyter-widgets/controls",
            "_model_module_version": "1.5.0",
            "_model_name": "DescriptionStyleModel",
            "_view_count": null,
            "_view_module": "@jupyter-widgets/base",
            "_view_module_version": "1.2.0",
            "_view_name": "StyleView",
            "description_width": ""
          }
        },
        "2570d39b5e2c40d99dad4765e642c283": {
          "model_module": "@jupyter-widgets/base",
          "model_module_version": "1.2.0",
          "model_name": "LayoutModel",
          "state": {
            "_model_module": "@jupyter-widgets/base",
            "_model_module_version": "1.2.0",
            "_model_name": "LayoutModel",
            "_view_count": null,
            "_view_module": "@jupyter-widgets/base",
            "_view_module_version": "1.2.0",
            "_view_name": "LayoutView",
            "align_content": null,
            "align_items": null,
            "align_self": null,
            "border": null,
            "bottom": null,
            "display": null,
            "flex": null,
            "flex_flow": null,
            "grid_area": null,
            "grid_auto_columns": null,
            "grid_auto_flow": null,
            "grid_auto_rows": null,
            "grid_column": null,
            "grid_gap": null,
            "grid_row": null,
            "grid_template_areas": null,
            "grid_template_columns": null,
            "grid_template_rows": null,
            "height": null,
            "justify_content": null,
            "justify_items": null,
            "left": null,
            "margin": null,
            "max_height": null,
            "max_width": null,
            "min_height": null,
            "min_width": null,
            "object_fit": null,
            "object_position": null,
            "order": null,
            "overflow": null,
            "overflow_x": null,
            "overflow_y": null,
            "padding": null,
            "right": null,
            "top": null,
            "visibility": null,
            "width": null
          }
        },
        "2b5b4b63738d4662a9000df4be681525": {
          "model_module": "@jupyter-widgets/controls",
          "model_module_version": "1.5.0",
          "model_name": "DescriptionStyleModel",
          "state": {
            "_model_module": "@jupyter-widgets/controls",
            "_model_module_version": "1.5.0",
            "_model_name": "DescriptionStyleModel",
            "_view_count": null,
            "_view_module": "@jupyter-widgets/base",
            "_view_module_version": "1.2.0",
            "_view_name": "StyleView",
            "description_width": ""
          }
        },
        "2b9000239fd64d13b8d1e5e71a55e8c4": {
          "model_module": "@jupyter-widgets/controls",
          "model_module_version": "1.5.0",
          "model_name": "DescriptionStyleModel",
          "state": {
            "_model_module": "@jupyter-widgets/controls",
            "_model_module_version": "1.5.0",
            "_model_name": "DescriptionStyleModel",
            "_view_count": null,
            "_view_module": "@jupyter-widgets/base",
            "_view_module_version": "1.2.0",
            "_view_name": "StyleView",
            "description_width": ""
          }
        },
        "2b9c15f841bf47babb4688e0114fc3e7": {
          "model_module": "@jupyter-widgets/base",
          "model_module_version": "1.2.0",
          "model_name": "LayoutModel",
          "state": {
            "_model_module": "@jupyter-widgets/base",
            "_model_module_version": "1.2.0",
            "_model_name": "LayoutModel",
            "_view_count": null,
            "_view_module": "@jupyter-widgets/base",
            "_view_module_version": "1.2.0",
            "_view_name": "LayoutView",
            "align_content": null,
            "align_items": null,
            "align_self": null,
            "border": null,
            "bottom": null,
            "display": null,
            "flex": null,
            "flex_flow": null,
            "grid_area": null,
            "grid_auto_columns": null,
            "grid_auto_flow": null,
            "grid_auto_rows": null,
            "grid_column": null,
            "grid_gap": null,
            "grid_row": null,
            "grid_template_areas": null,
            "grid_template_columns": null,
            "grid_template_rows": null,
            "height": null,
            "justify_content": null,
            "justify_items": null,
            "left": null,
            "margin": null,
            "max_height": null,
            "max_width": null,
            "min_height": null,
            "min_width": null,
            "object_fit": null,
            "object_position": null,
            "order": null,
            "overflow": null,
            "overflow_x": null,
            "overflow_y": null,
            "padding": null,
            "right": null,
            "top": null,
            "visibility": null,
            "width": null
          }
        },
        "314a4f2e96ac4d0982a0d60a47061164": {
          "model_module": "@jupyter-widgets/controls",
          "model_module_version": "1.5.0",
          "model_name": "FloatProgressModel",
          "state": {
            "_dom_classes": [],
            "_model_module": "@jupyter-widgets/controls",
            "_model_module_version": "1.5.0",
            "_model_name": "FloatProgressModel",
            "_view_count": null,
            "_view_module": "@jupyter-widgets/controls",
            "_view_module_version": "1.5.0",
            "_view_name": "ProgressView",
            "bar_style": "success",
            "description": "",
            "description_tooltip": null,
            "layout": "IPY_MODEL_65ffc0bc90cb43bea031269d0c2f4c72",
            "max": 499723,
            "min": 0,
            "orientation": "horizontal",
            "style": "IPY_MODEL_0e90c9cb6fca46de908e190014cd9bd7",
            "value": 499723
          }
        },
        "3c1caefaf1c54b4587ae2733620679ca": {
          "model_module": "@jupyter-widgets/controls",
          "model_module_version": "1.5.0",
          "model_name": "HTMLModel",
          "state": {
            "_dom_classes": [],
            "_model_module": "@jupyter-widgets/controls",
            "_model_module_version": "1.5.0",
            "_model_name": "HTMLModel",
            "_view_count": null,
            "_view_module": "@jupyter-widgets/controls",
            "_view_module_version": "1.5.0",
            "_view_name": "HTMLView",
            "description": "",
            "description_tooltip": null,
            "layout": "IPY_MODEL_59fb880518884de89dfb33b28fbb7cf7",
            "placeholder": "​",
            "style": "IPY_MODEL_09969c6e7c5949f7bc8cb4c158980551",
            "value": " 132/132 [00:00&lt;00:00, 8.89kB/s]"
          }
        },
        "3c32bf48983e41afb9f12a3eebe6c85d": {
          "model_module": "@jupyter-widgets/base",
          "model_module_version": "1.2.0",
          "model_name": "LayoutModel",
          "state": {
            "_model_module": "@jupyter-widgets/base",
            "_model_module_version": "1.2.0",
            "_model_name": "LayoutModel",
            "_view_count": null,
            "_view_module": "@jupyter-widgets/base",
            "_view_module_version": "1.2.0",
            "_view_name": "LayoutView",
            "align_content": null,
            "align_items": null,
            "align_self": null,
            "border": null,
            "bottom": null,
            "display": null,
            "flex": null,
            "flex_flow": null,
            "grid_area": null,
            "grid_auto_columns": null,
            "grid_auto_flow": null,
            "grid_auto_rows": null,
            "grid_column": null,
            "grid_gap": null,
            "grid_row": null,
            "grid_template_areas": null,
            "grid_template_columns": null,
            "grid_template_rows": null,
            "height": null,
            "justify_content": null,
            "justify_items": null,
            "left": null,
            "margin": null,
            "max_height": null,
            "max_width": null,
            "min_height": null,
            "min_width": null,
            "object_fit": null,
            "object_position": null,
            "order": null,
            "overflow": null,
            "overflow_x": null,
            "overflow_y": null,
            "padding": null,
            "right": null,
            "top": null,
            "visibility": null,
            "width": null
          }
        },
        "3f140644e1424197b4ab9804eb3661e7": {
          "model_module": "@jupyter-widgets/controls",
          "model_module_version": "1.5.0",
          "model_name": "HBoxModel",
          "state": {
            "_dom_classes": [],
            "_model_module": "@jupyter-widgets/controls",
            "_model_module_version": "1.5.0",
            "_model_name": "HBoxModel",
            "_view_count": null,
            "_view_module": "@jupyter-widgets/controls",
            "_view_module_version": "1.5.0",
            "_view_name": "HBoxView",
            "box_style": "",
            "children": [
              "IPY_MODEL_03077bcd1e1445b8926c7eb01dc6fad6",
              "IPY_MODEL_057e16603f6c444db99a3db6eb04619c",
              "IPY_MODEL_e9f8e0d7ac4c4eb587e188dabc1a4ab0"
            ],
            "layout": "IPY_MODEL_6d59ea4a07d847ce8845b0b2f786f2b9"
          }
        },
        "435a5f0de77440efb3165b431e637311": {
          "model_module": "@jupyter-widgets/base",
          "model_module_version": "1.2.0",
          "model_name": "LayoutModel",
          "state": {
            "_model_module": "@jupyter-widgets/base",
            "_model_module_version": "1.2.0",
            "_model_name": "LayoutModel",
            "_view_count": null,
            "_view_module": "@jupyter-widgets/base",
            "_view_module_version": "1.2.0",
            "_view_name": "LayoutView",
            "align_content": null,
            "align_items": null,
            "align_self": null,
            "border": null,
            "bottom": null,
            "display": null,
            "flex": null,
            "flex_flow": null,
            "grid_area": null,
            "grid_auto_columns": null,
            "grid_auto_flow": null,
            "grid_auto_rows": null,
            "grid_column": null,
            "grid_gap": null,
            "grid_row": null,
            "grid_template_areas": null,
            "grid_template_columns": null,
            "grid_template_rows": null,
            "height": null,
            "justify_content": null,
            "justify_items": null,
            "left": null,
            "margin": null,
            "max_height": null,
            "max_width": null,
            "min_height": null,
            "min_width": null,
            "object_fit": null,
            "object_position": null,
            "order": null,
            "overflow": null,
            "overflow_x": null,
            "overflow_y": null,
            "padding": null,
            "right": null,
            "top": null,
            "visibility": null,
            "width": null
          }
        },
        "479bf6fa5b0e41c5a2d7c426ced51e83": {
          "model_module": "@jupyter-widgets/controls",
          "model_module_version": "1.5.0",
          "model_name": "DescriptionStyleModel",
          "state": {
            "_model_module": "@jupyter-widgets/controls",
            "_model_module_version": "1.5.0",
            "_model_name": "DescriptionStyleModel",
            "_view_count": null,
            "_view_module": "@jupyter-widgets/base",
            "_view_module_version": "1.2.0",
            "_view_name": "StyleView",
            "description_width": ""
          }
        },
        "483d0072e6b74e4dbc917eb7ec0650fb": {
          "model_module": "@jupyter-widgets/base",
          "model_module_version": "1.2.0",
          "model_name": "LayoutModel",
          "state": {
            "_model_module": "@jupyter-widgets/base",
            "_model_module_version": "1.2.0",
            "_model_name": "LayoutModel",
            "_view_count": null,
            "_view_module": "@jupyter-widgets/base",
            "_view_module_version": "1.2.0",
            "_view_name": "LayoutView",
            "align_content": null,
            "align_items": null,
            "align_self": null,
            "border": null,
            "bottom": null,
            "display": null,
            "flex": null,
            "flex_flow": null,
            "grid_area": null,
            "grid_auto_columns": null,
            "grid_auto_flow": null,
            "grid_auto_rows": null,
            "grid_column": null,
            "grid_gap": null,
            "grid_row": null,
            "grid_template_areas": null,
            "grid_template_columns": null,
            "grid_template_rows": null,
            "height": null,
            "justify_content": null,
            "justify_items": null,
            "left": null,
            "margin": null,
            "max_height": null,
            "max_width": null,
            "min_height": null,
            "min_width": null,
            "object_fit": null,
            "object_position": null,
            "order": null,
            "overflow": null,
            "overflow_x": null,
            "overflow_y": null,
            "padding": null,
            "right": null,
            "top": null,
            "visibility": null,
            "width": null
          }
        },
        "4b0e57bcaa424963b62964ac8f3401b9": {
          "model_module": "@jupyter-widgets/controls",
          "model_module_version": "1.5.0",
          "model_name": "ProgressStyleModel",
          "state": {
            "_model_module": "@jupyter-widgets/controls",
            "_model_module_version": "1.5.0",
            "_model_name": "ProgressStyleModel",
            "_view_count": null,
            "_view_module": "@jupyter-widgets/base",
            "_view_module_version": "1.2.0",
            "_view_name": "StyleView",
            "bar_color": null,
            "description_width": ""
          }
        },
        "54a8944597294819a74fbf5a3575a57f": {
          "model_module": "@jupyter-widgets/controls",
          "model_module_version": "1.5.0",
          "model_name": "HTMLModel",
          "state": {
            "_dom_classes": [],
            "_model_module": "@jupyter-widgets/controls",
            "_model_module_version": "1.5.0",
            "_model_name": "HTMLModel",
            "_view_count": null,
            "_view_module": "@jupyter-widgets/controls",
            "_view_module_version": "1.5.0",
            "_view_name": "HTMLView",
            "description": "",
            "description_tooltip": null,
            "layout": "IPY_MODEL_aa9ba034a9964f418cf81252f1e94a12",
            "placeholder": "​",
            "style": "IPY_MODEL_9b1d674c380e4bd1af692a420659aafd",
            "value": "tokenizer_config.json: 100%"
          }
        },
        "5597c688c300430c812df613de922c45": {
          "model_module": "@jupyter-widgets/controls",
          "model_module_version": "1.5.0",
          "model_name": "HBoxModel",
          "state": {
            "_dom_classes": [],
            "_model_module": "@jupyter-widgets/controls",
            "_model_module_version": "1.5.0",
            "_model_name": "HBoxModel",
            "_view_count": null,
            "_view_module": "@jupyter-widgets/controls",
            "_view_module_version": "1.5.0",
            "_view_name": "HBoxView",
            "box_style": "",
            "children": [
              "IPY_MODEL_1dc5e11a937747819fed613dcc372d9f",
              "IPY_MODEL_797a5024c2b646ec9dbcb508ed0590c7",
              "IPY_MODEL_f3917394d4704a95bd5db3a263898b8d"
            ],
            "layout": "IPY_MODEL_03b353ad9c32474eb6d7016fd9095b9a"
          }
        },
        "59fb880518884de89dfb33b28fbb7cf7": {
          "model_module": "@jupyter-widgets/base",
          "model_module_version": "1.2.0",
          "model_name": "LayoutModel",
          "state": {
            "_model_module": "@jupyter-widgets/base",
            "_model_module_version": "1.2.0",
            "_model_name": "LayoutModel",
            "_view_count": null,
            "_view_module": "@jupyter-widgets/base",
            "_view_module_version": "1.2.0",
            "_view_name": "LayoutView",
            "align_content": null,
            "align_items": null,
            "align_self": null,
            "border": null,
            "bottom": null,
            "display": null,
            "flex": null,
            "flex_flow": null,
            "grid_area": null,
            "grid_auto_columns": null,
            "grid_auto_flow": null,
            "grid_auto_rows": null,
            "grid_column": null,
            "grid_gap": null,
            "grid_row": null,
            "grid_template_areas": null,
            "grid_template_columns": null,
            "grid_template_rows": null,
            "height": null,
            "justify_content": null,
            "justify_items": null,
            "left": null,
            "margin": null,
            "max_height": null,
            "max_width": null,
            "min_height": null,
            "min_width": null,
            "object_fit": null,
            "object_position": null,
            "order": null,
            "overflow": null,
            "overflow_x": null,
            "overflow_y": null,
            "padding": null,
            "right": null,
            "top": null,
            "visibility": null,
            "width": null
          }
        },
        "60cbe96d0e1149c5b6ff5fd1d731391d": {
          "model_module": "@jupyter-widgets/controls",
          "model_module_version": "1.5.0",
          "model_name": "FloatProgressModel",
          "state": {
            "_dom_classes": [],
            "_model_module": "@jupyter-widgets/controls",
            "_model_module_version": "1.5.0",
            "_model_name": "FloatProgressModel",
            "_view_count": null,
            "_view_module": "@jupyter-widgets/controls",
            "_view_module_version": "1.5.0",
            "_view_name": "ProgressView",
            "bar_style": "success",
            "description": "",
            "description_tooltip": null,
            "layout": "IPY_MODEL_6614e37c21454c7c8f846912f3a9e186",
            "max": 411,
            "min": 0,
            "orientation": "horizontal",
            "style": "IPY_MODEL_799ab54c61fb40e5bfd8976e6259f923",
            "value": 411
          }
        },
        "65ffc0bc90cb43bea031269d0c2f4c72": {
          "model_module": "@jupyter-widgets/base",
          "model_module_version": "1.2.0",
          "model_name": "LayoutModel",
          "state": {
            "_model_module": "@jupyter-widgets/base",
            "_model_module_version": "1.2.0",
            "_model_name": "LayoutModel",
            "_view_count": null,
            "_view_module": "@jupyter-widgets/base",
            "_view_module_version": "1.2.0",
            "_view_name": "LayoutView",
            "align_content": null,
            "align_items": null,
            "align_self": null,
            "border": null,
            "bottom": null,
            "display": null,
            "flex": null,
            "flex_flow": null,
            "grid_area": null,
            "grid_auto_columns": null,
            "grid_auto_flow": null,
            "grid_auto_rows": null,
            "grid_column": null,
            "grid_gap": null,
            "grid_row": null,
            "grid_template_areas": null,
            "grid_template_columns": null,
            "grid_template_rows": null,
            "height": null,
            "justify_content": null,
            "justify_items": null,
            "left": null,
            "margin": null,
            "max_height": null,
            "max_width": null,
            "min_height": null,
            "min_width": null,
            "object_fit": null,
            "object_position": null,
            "order": null,
            "overflow": null,
            "overflow_x": null,
            "overflow_y": null,
            "padding": null,
            "right": null,
            "top": null,
            "visibility": null,
            "width": null
          }
        },
        "6614e37c21454c7c8f846912f3a9e186": {
          "model_module": "@jupyter-widgets/base",
          "model_module_version": "1.2.0",
          "model_name": "LayoutModel",
          "state": {
            "_model_module": "@jupyter-widgets/base",
            "_model_module_version": "1.2.0",
            "_model_name": "LayoutModel",
            "_view_count": null,
            "_view_module": "@jupyter-widgets/base",
            "_view_module_version": "1.2.0",
            "_view_name": "LayoutView",
            "align_content": null,
            "align_items": null,
            "align_self": null,
            "border": null,
            "bottom": null,
            "display": null,
            "flex": null,
            "flex_flow": null,
            "grid_area": null,
            "grid_auto_columns": null,
            "grid_auto_flow": null,
            "grid_auto_rows": null,
            "grid_column": null,
            "grid_gap": null,
            "grid_row": null,
            "grid_template_areas": null,
            "grid_template_columns": null,
            "grid_template_rows": null,
            "height": null,
            "justify_content": null,
            "justify_items": null,
            "left": null,
            "margin": null,
            "max_height": null,
            "max_width": null,
            "min_height": null,
            "min_width": null,
            "object_fit": null,
            "object_position": null,
            "order": null,
            "overflow": null,
            "overflow_x": null,
            "overflow_y": null,
            "padding": null,
            "right": null,
            "top": null,
            "visibility": null,
            "width": null
          }
        },
        "66323888720746b4987d83d9f680354d": {
          "model_module": "@jupyter-widgets/controls",
          "model_module_version": "1.5.0",
          "model_name": "DescriptionStyleModel",
          "state": {
            "_model_module": "@jupyter-widgets/controls",
            "_model_module_version": "1.5.0",
            "_model_name": "DescriptionStyleModel",
            "_view_count": null,
            "_view_module": "@jupyter-widgets/base",
            "_view_module_version": "1.2.0",
            "_view_name": "StyleView",
            "description_width": ""
          }
        },
        "6d59ea4a07d847ce8845b0b2f786f2b9": {
          "model_module": "@jupyter-widgets/base",
          "model_module_version": "1.2.0",
          "model_name": "LayoutModel",
          "state": {
            "_model_module": "@jupyter-widgets/base",
            "_model_module_version": "1.2.0",
            "_model_name": "LayoutModel",
            "_view_count": null,
            "_view_module": "@jupyter-widgets/base",
            "_view_module_version": "1.2.0",
            "_view_name": "LayoutView",
            "align_content": null,
            "align_items": null,
            "align_self": null,
            "border": null,
            "bottom": null,
            "display": null,
            "flex": null,
            "flex_flow": null,
            "grid_area": null,
            "grid_auto_columns": null,
            "grid_auto_flow": null,
            "grid_auto_rows": null,
            "grid_column": null,
            "grid_gap": null,
            "grid_row": null,
            "grid_template_areas": null,
            "grid_template_columns": null,
            "grid_template_rows": null,
            "height": null,
            "justify_content": null,
            "justify_items": null,
            "left": null,
            "margin": null,
            "max_height": null,
            "max_width": null,
            "min_height": null,
            "min_width": null,
            "object_fit": null,
            "object_position": null,
            "order": null,
            "overflow": null,
            "overflow_x": null,
            "overflow_y": null,
            "padding": null,
            "right": null,
            "top": null,
            "visibility": null,
            "width": null
          }
        },
        "720f367d8ff84be4bf151d591a421687": {
          "model_module": "@jupyter-widgets/controls",
          "model_module_version": "1.5.0",
          "model_name": "FloatProgressModel",
          "state": {
            "_dom_classes": [],
            "_model_module": "@jupyter-widgets/controls",
            "_model_module_version": "1.5.0",
            "_model_name": "FloatProgressModel",
            "_view_count": null,
            "_view_module": "@jupyter-widgets/controls",
            "_view_module_version": "1.5.0",
            "_view_name": "ProgressView",
            "bar_style": "success",
            "description": "",
            "description_tooltip": null,
            "layout": "IPY_MODEL_2570d39b5e2c40d99dad4765e642c283",
            "max": 727,
            "min": 0,
            "orientation": "horizontal",
            "style": "IPY_MODEL_0353ba18c73f4cea8ceda05b4cac041f",
            "value": 727
          }
        },
        "73b2a33f99b24ea88dd33e4b208db79b": {
          "model_module": "@jupyter-widgets/base",
          "model_module_version": "1.2.0",
          "model_name": "LayoutModel",
          "state": {
            "_model_module": "@jupyter-widgets/base",
            "_model_module_version": "1.2.0",
            "_model_name": "LayoutModel",
            "_view_count": null,
            "_view_module": "@jupyter-widgets/base",
            "_view_module_version": "1.2.0",
            "_view_name": "LayoutView",
            "align_content": null,
            "align_items": null,
            "align_self": null,
            "border": null,
            "bottom": null,
            "display": null,
            "flex": null,
            "flex_flow": null,
            "grid_area": null,
            "grid_auto_columns": null,
            "grid_auto_flow": null,
            "grid_auto_rows": null,
            "grid_column": null,
            "grid_gap": null,
            "grid_row": null,
            "grid_template_areas": null,
            "grid_template_columns": null,
            "grid_template_rows": null,
            "height": null,
            "justify_content": null,
            "justify_items": null,
            "left": null,
            "margin": null,
            "max_height": null,
            "max_width": null,
            "min_height": null,
            "min_width": null,
            "object_fit": null,
            "object_position": null,
            "order": null,
            "overflow": null,
            "overflow_x": null,
            "overflow_y": null,
            "padding": null,
            "right": null,
            "top": null,
            "visibility": null,
            "width": null
          }
        },
        "73ebd0d1e4e94fcc8b0b4d172554d39b": {
          "model_module": "@jupyter-widgets/base",
          "model_module_version": "1.2.0",
          "model_name": "LayoutModel",
          "state": {
            "_model_module": "@jupyter-widgets/base",
            "_model_module_version": "1.2.0",
            "_model_name": "LayoutModel",
            "_view_count": null,
            "_view_module": "@jupyter-widgets/base",
            "_view_module_version": "1.2.0",
            "_view_name": "LayoutView",
            "align_content": null,
            "align_items": null,
            "align_self": null,
            "border": null,
            "bottom": null,
            "display": null,
            "flex": null,
            "flex_flow": null,
            "grid_area": null,
            "grid_auto_columns": null,
            "grid_auto_flow": null,
            "grid_auto_rows": null,
            "grid_column": null,
            "grid_gap": null,
            "grid_row": null,
            "grid_template_areas": null,
            "grid_template_columns": null,
            "grid_template_rows": null,
            "height": null,
            "justify_content": null,
            "justify_items": null,
            "left": null,
            "margin": null,
            "max_height": null,
            "max_width": null,
            "min_height": null,
            "min_width": null,
            "object_fit": null,
            "object_position": null,
            "order": null,
            "overflow": null,
            "overflow_x": null,
            "overflow_y": null,
            "padding": null,
            "right": null,
            "top": null,
            "visibility": null,
            "width": null
          }
        },
        "797a5024c2b646ec9dbcb508ed0590c7": {
          "model_module": "@jupyter-widgets/controls",
          "model_module_version": "1.5.0",
          "model_name": "FloatProgressModel",
          "state": {
            "_dom_classes": [],
            "_model_module": "@jupyter-widgets/controls",
            "_model_module_version": "1.5.0",
            "_model_name": "FloatProgressModel",
            "_view_count": null,
            "_view_module": "@jupyter-widgets/controls",
            "_view_module_version": "1.5.0",
            "_view_name": "ProgressView",
            "bar_style": "success",
            "description": "",
            "description_tooltip": null,
            "layout": "IPY_MODEL_aaf78521f84a4ab6a91e527fc6c511b7",
            "max": 1842764,
            "min": 0,
            "orientation": "horizontal",
            "style": "IPY_MODEL_c370417c6b1c4a99b0df16e91460e5bb",
            "value": 1842764
          }
        },
        "799ab54c61fb40e5bfd8976e6259f923": {
          "model_module": "@jupyter-widgets/controls",
          "model_module_version": "1.5.0",
          "model_name": "ProgressStyleModel",
          "state": {
            "_model_module": "@jupyter-widgets/controls",
            "_model_module_version": "1.5.0",
            "_model_name": "ProgressStyleModel",
            "_view_count": null,
            "_view_module": "@jupyter-widgets/base",
            "_view_module_version": "1.2.0",
            "_view_name": "StyleView",
            "bar_color": null,
            "description_width": ""
          }
        },
        "7a85d04a3bbc42eda4aef9bf3826c7a6": {
          "model_module": "@jupyter-widgets/base",
          "model_module_version": "1.2.0",
          "model_name": "LayoutModel",
          "state": {
            "_model_module": "@jupyter-widgets/base",
            "_model_module_version": "1.2.0",
            "_model_name": "LayoutModel",
            "_view_count": null,
            "_view_module": "@jupyter-widgets/base",
            "_view_module_version": "1.2.0",
            "_view_name": "LayoutView",
            "align_content": null,
            "align_items": null,
            "align_self": null,
            "border": null,
            "bottom": null,
            "display": null,
            "flex": null,
            "flex_flow": null,
            "grid_area": null,
            "grid_auto_columns": null,
            "grid_auto_flow": null,
            "grid_auto_rows": null,
            "grid_column": null,
            "grid_gap": null,
            "grid_row": null,
            "grid_template_areas": null,
            "grid_template_columns": null,
            "grid_template_rows": null,
            "height": null,
            "justify_content": null,
            "justify_items": null,
            "left": null,
            "margin": null,
            "max_height": null,
            "max_width": null,
            "min_height": null,
            "min_width": null,
            "object_fit": null,
            "object_position": null,
            "order": null,
            "overflow": null,
            "overflow_x": null,
            "overflow_y": null,
            "padding": null,
            "right": null,
            "top": null,
            "visibility": null,
            "width": null
          }
        },
        "7d2305a37f794410986c67fe461766ec": {
          "model_module": "@jupyter-widgets/controls",
          "model_module_version": "1.5.0",
          "model_name": "HBoxModel",
          "state": {
            "_dom_classes": [],
            "_model_module": "@jupyter-widgets/controls",
            "_model_module_version": "1.5.0",
            "_model_name": "HBoxModel",
            "_view_count": null,
            "_view_module": "@jupyter-widgets/controls",
            "_view_module_version": "1.5.0",
            "_view_name": "HBoxView",
            "box_style": "",
            "children": [
              "IPY_MODEL_09846dfe49c04a3cb8184f7f4eff7733",
              "IPY_MODEL_60cbe96d0e1149c5b6ff5fd1d731391d",
              "IPY_MODEL_00c62438aa2b43588a254efe40cc03eb"
            ],
            "layout": "IPY_MODEL_13354b9e73564821bc88e6020dfe3c08"
          }
        },
        "93df2b778ac94d81b4b2b177c12dd1b3": {
          "model_module": "@jupyter-widgets/controls",
          "model_module_version": "1.5.0",
          "model_name": "DescriptionStyleModel",
          "state": {
            "_model_module": "@jupyter-widgets/controls",
            "_model_module_version": "1.5.0",
            "_model_name": "DescriptionStyleModel",
            "_view_count": null,
            "_view_module": "@jupyter-widgets/base",
            "_view_module_version": "1.2.0",
            "_view_name": "StyleView",
            "description_width": ""
          }
        },
        "9b1d674c380e4bd1af692a420659aafd": {
          "model_module": "@jupyter-widgets/controls",
          "model_module_version": "1.5.0",
          "model_name": "DescriptionStyleModel",
          "state": {
            "_model_module": "@jupyter-widgets/controls",
            "_model_module_version": "1.5.0",
            "_model_name": "DescriptionStyleModel",
            "_view_count": null,
            "_view_module": "@jupyter-widgets/base",
            "_view_module_version": "1.2.0",
            "_view_name": "StyleView",
            "description_width": ""
          }
        },
        "a416064dab2a44f2b460ff5c46fec0d5": {
          "model_module": "@jupyter-widgets/controls",
          "model_module_version": "1.5.0",
          "model_name": "HTMLModel",
          "state": {
            "_dom_classes": [],
            "_model_module": "@jupyter-widgets/controls",
            "_model_module_version": "1.5.0",
            "_model_name": "HTMLModel",
            "_view_count": null,
            "_view_module": "@jupyter-widgets/controls",
            "_view_module_version": "1.5.0",
            "_view_name": "HTMLView",
            "description": "",
            "description_tooltip": null,
            "layout": "IPY_MODEL_f099e0bda31a4911b24c0198eab7bffe",
            "placeholder": "​",
            "style": "IPY_MODEL_2b9000239fd64d13b8d1e5e71a55e8c4",
            "value": " 500k/500k [00:00&lt;00:00, 31.8MB/s]"
          }
        },
        "aa9ba034a9964f418cf81252f1e94a12": {
          "model_module": "@jupyter-widgets/base",
          "model_module_version": "1.2.0",
          "model_name": "LayoutModel",
          "state": {
            "_model_module": "@jupyter-widgets/base",
            "_model_module_version": "1.2.0",
            "_model_name": "LayoutModel",
            "_view_count": null,
            "_view_module": "@jupyter-widgets/base",
            "_view_module_version": "1.2.0",
            "_view_name": "LayoutView",
            "align_content": null,
            "align_items": null,
            "align_self": null,
            "border": null,
            "bottom": null,
            "display": null,
            "flex": null,
            "flex_flow": null,
            "grid_area": null,
            "grid_auto_columns": null,
            "grid_auto_flow": null,
            "grid_auto_rows": null,
            "grid_column": null,
            "grid_gap": null,
            "grid_row": null,
            "grid_template_areas": null,
            "grid_template_columns": null,
            "grid_template_rows": null,
            "height": null,
            "justify_content": null,
            "justify_items": null,
            "left": null,
            "margin": null,
            "max_height": null,
            "max_width": null,
            "min_height": null,
            "min_width": null,
            "object_fit": null,
            "object_position": null,
            "order": null,
            "overflow": null,
            "overflow_x": null,
            "overflow_y": null,
            "padding": null,
            "right": null,
            "top": null,
            "visibility": null,
            "width": null
          }
        },
        "aaf78521f84a4ab6a91e527fc6c511b7": {
          "model_module": "@jupyter-widgets/base",
          "model_module_version": "1.2.0",
          "model_name": "LayoutModel",
          "state": {
            "_model_module": "@jupyter-widgets/base",
            "_model_module_version": "1.2.0",
            "_model_name": "LayoutModel",
            "_view_count": null,
            "_view_module": "@jupyter-widgets/base",
            "_view_module_version": "1.2.0",
            "_view_name": "LayoutView",
            "align_content": null,
            "align_items": null,
            "align_self": null,
            "border": null,
            "bottom": null,
            "display": null,
            "flex": null,
            "flex_flow": null,
            "grid_area": null,
            "grid_auto_columns": null,
            "grid_auto_flow": null,
            "grid_auto_rows": null,
            "grid_column": null,
            "grid_gap": null,
            "grid_row": null,
            "grid_template_areas": null,
            "grid_template_columns": null,
            "grid_template_rows": null,
            "height": null,
            "justify_content": null,
            "justify_items": null,
            "left": null,
            "margin": null,
            "max_height": null,
            "max_width": null,
            "min_height": null,
            "min_width": null,
            "object_fit": null,
            "object_position": null,
            "order": null,
            "overflow": null,
            "overflow_x": null,
            "overflow_y": null,
            "padding": null,
            "right": null,
            "top": null,
            "visibility": null,
            "width": null
          }
        },
        "b402ed6ebe3c441c8286c118dfac4f94": {
          "model_module": "@jupyter-widgets/controls",
          "model_module_version": "1.5.0",
          "model_name": "DescriptionStyleModel",
          "state": {
            "_model_module": "@jupyter-widgets/controls",
            "_model_module_version": "1.5.0",
            "_model_name": "DescriptionStyleModel",
            "_view_count": null,
            "_view_module": "@jupyter-widgets/base",
            "_view_module_version": "1.2.0",
            "_view_name": "StyleView",
            "description_width": ""
          }
        },
        "befd7ac72d6d4091a4fd5f6bb9c78bc6": {
          "model_module": "@jupyter-widgets/base",
          "model_module_version": "1.2.0",
          "model_name": "LayoutModel",
          "state": {
            "_model_module": "@jupyter-widgets/base",
            "_model_module_version": "1.2.0",
            "_model_name": "LayoutModel",
            "_view_count": null,
            "_view_module": "@jupyter-widgets/base",
            "_view_module_version": "1.2.0",
            "_view_name": "LayoutView",
            "align_content": null,
            "align_items": null,
            "align_self": null,
            "border": null,
            "bottom": null,
            "display": null,
            "flex": null,
            "flex_flow": null,
            "grid_area": null,
            "grid_auto_columns": null,
            "grid_auto_flow": null,
            "grid_auto_rows": null,
            "grid_column": null,
            "grid_gap": null,
            "grid_row": null,
            "grid_template_areas": null,
            "grid_template_columns": null,
            "grid_template_rows": null,
            "height": null,
            "justify_content": null,
            "justify_items": null,
            "left": null,
            "margin": null,
            "max_height": null,
            "max_width": null,
            "min_height": null,
            "min_width": null,
            "object_fit": null,
            "object_position": null,
            "order": null,
            "overflow": null,
            "overflow_x": null,
            "overflow_y": null,
            "padding": null,
            "right": null,
            "top": null,
            "visibility": null,
            "width": null
          }
        },
        "c047d5c87ba04fb98e709b7c845ff568": {
          "model_module": "@jupyter-widgets/base",
          "model_module_version": "1.2.0",
          "model_name": "LayoutModel",
          "state": {
            "_model_module": "@jupyter-widgets/base",
            "_model_module_version": "1.2.0",
            "_model_name": "LayoutModel",
            "_view_count": null,
            "_view_module": "@jupyter-widgets/base",
            "_view_module_version": "1.2.0",
            "_view_name": "LayoutView",
            "align_content": null,
            "align_items": null,
            "align_self": null,
            "border": null,
            "bottom": null,
            "display": null,
            "flex": null,
            "flex_flow": null,
            "grid_area": null,
            "grid_auto_columns": null,
            "grid_auto_flow": null,
            "grid_auto_rows": null,
            "grid_column": null,
            "grid_gap": null,
            "grid_row": null,
            "grid_template_areas": null,
            "grid_template_columns": null,
            "grid_template_rows": null,
            "height": null,
            "justify_content": null,
            "justify_items": null,
            "left": null,
            "margin": null,
            "max_height": null,
            "max_width": null,
            "min_height": null,
            "min_width": null,
            "object_fit": null,
            "object_position": null,
            "order": null,
            "overflow": null,
            "overflow_x": null,
            "overflow_y": null,
            "padding": null,
            "right": null,
            "top": null,
            "visibility": null,
            "width": null
          }
        },
        "c3230a2129334bf6b8a5e6d2143e81f8": {
          "model_module": "@jupyter-widgets/controls",
          "model_module_version": "1.5.0",
          "model_name": "HBoxModel",
          "state": {
            "_dom_classes": [],
            "_model_module": "@jupyter-widgets/controls",
            "_model_module_version": "1.5.0",
            "_model_name": "HBoxModel",
            "_view_count": null,
            "_view_module": "@jupyter-widgets/controls",
            "_view_module_version": "1.5.0",
            "_view_name": "HBoxView",
            "box_style": "",
            "children": [
              "IPY_MODEL_10962e4b0b7040d8a8c407bd8d4d4c3e",
              "IPY_MODEL_314a4f2e96ac4d0982a0d60a47061164",
              "IPY_MODEL_a416064dab2a44f2b460ff5c46fec0d5"
            ],
            "layout": "IPY_MODEL_483d0072e6b74e4dbc917eb7ec0650fb"
          }
        },
        "c370417c6b1c4a99b0df16e91460e5bb": {
          "model_module": "@jupyter-widgets/controls",
          "model_module_version": "1.5.0",
          "model_name": "ProgressStyleModel",
          "state": {
            "_model_module": "@jupyter-widgets/controls",
            "_model_module_version": "1.5.0",
            "_model_name": "ProgressStyleModel",
            "_view_count": null,
            "_view_module": "@jupyter-widgets/base",
            "_view_module_version": "1.2.0",
            "_view_name": "StyleView",
            "bar_color": null,
            "description_width": ""
          }
        },
        "c4a3a4fed83f43c1a6524140fbc4e0d1": {
          "model_module": "@jupyter-widgets/controls",
          "model_module_version": "1.5.0",
          "model_name": "DescriptionStyleModel",
          "state": {
            "_model_module": "@jupyter-widgets/controls",
            "_model_module_version": "1.5.0",
            "_model_name": "DescriptionStyleModel",
            "_view_count": null,
            "_view_module": "@jupyter-widgets/base",
            "_view_module_version": "1.2.0",
            "_view_name": "StyleView",
            "description_width": ""
          }
        },
        "c9e5080c34274a44b18b3958a1e71219": {
          "model_module": "@jupyter-widgets/controls",
          "model_module_version": "1.5.0",
          "model_name": "DescriptionStyleModel",
          "state": {
            "_model_module": "@jupyter-widgets/controls",
            "_model_module_version": "1.5.0",
            "_model_name": "DescriptionStyleModel",
            "_view_count": null,
            "_view_module": "@jupyter-widgets/base",
            "_view_module_version": "1.2.0",
            "_view_name": "StyleView",
            "description_width": ""
          }
        },
        "d1fac97d7a814a6990199e7c96afa8be": {
          "model_module": "@jupyter-widgets/base",
          "model_module_version": "1.2.0",
          "model_name": "LayoutModel",
          "state": {
            "_model_module": "@jupyter-widgets/base",
            "_model_module_version": "1.2.0",
            "_model_name": "LayoutModel",
            "_view_count": null,
            "_view_module": "@jupyter-widgets/base",
            "_view_module_version": "1.2.0",
            "_view_name": "LayoutView",
            "align_content": null,
            "align_items": null,
            "align_self": null,
            "border": null,
            "bottom": null,
            "display": null,
            "flex": null,
            "flex_flow": null,
            "grid_area": null,
            "grid_auto_columns": null,
            "grid_auto_flow": null,
            "grid_auto_rows": null,
            "grid_column": null,
            "grid_gap": null,
            "grid_row": null,
            "grid_template_areas": null,
            "grid_template_columns": null,
            "grid_template_rows": null,
            "height": null,
            "justify_content": null,
            "justify_items": null,
            "left": null,
            "margin": null,
            "max_height": null,
            "max_width": null,
            "min_height": null,
            "min_width": null,
            "object_fit": null,
            "object_position": null,
            "order": null,
            "overflow": null,
            "overflow_x": null,
            "overflow_y": null,
            "padding": null,
            "right": null,
            "top": null,
            "visibility": null,
            "width": null
          }
        },
        "e094c519c1d848e2922aa5dab47b87d1": {
          "model_module": "@jupyter-widgets/controls",
          "model_module_version": "1.5.0",
          "model_name": "HTMLModel",
          "state": {
            "_dom_classes": [],
            "_model_module": "@jupyter-widgets/controls",
            "_model_module_version": "1.5.0",
            "_model_name": "HTMLModel",
            "_view_count": null,
            "_view_module": "@jupyter-widgets/controls",
            "_view_module_version": "1.5.0",
            "_view_name": "HTMLView",
            "description": "",
            "description_tooltip": null,
            "layout": "IPY_MODEL_befd7ac72d6d4091a4fd5f6bb9c78bc6",
            "placeholder": "​",
            "style": "IPY_MODEL_479bf6fa5b0e41c5a2d7c426ced51e83",
            "value": " 727/727 [00:00&lt;00:00, 33.1kB/s]"
          }
        },
        "e40d10c757d7426aa6fce49dfb25352b": {
          "model_module": "@jupyter-widgets/controls",
          "model_module_version": "1.5.0",
          "model_name": "HBoxModel",
          "state": {
            "_dom_classes": [],
            "_model_module": "@jupyter-widgets/controls",
            "_model_module_version": "1.5.0",
            "_model_name": "HBoxModel",
            "_view_count": null,
            "_view_module": "@jupyter-widgets/controls",
            "_view_module_version": "1.5.0",
            "_view_name": "HBoxView",
            "box_style": "",
            "children": [
              "IPY_MODEL_f8b0acbb229f48ffa6d5c76166774d48",
              "IPY_MODEL_fb8e3c69735b4e0e9adba525bce01c1b",
              "IPY_MODEL_3c1caefaf1c54b4587ae2733620679ca"
            ],
            "layout": "IPY_MODEL_c047d5c87ba04fb98e709b7c845ff568"
          }
        },
        "e4218ffb31134efdb2703b93cbc938d9": {
          "model_module": "@jupyter-widgets/base",
          "model_module_version": "1.2.0",
          "model_name": "LayoutModel",
          "state": {
            "_model_module": "@jupyter-widgets/base",
            "_model_module_version": "1.2.0",
            "_model_name": "LayoutModel",
            "_view_count": null,
            "_view_module": "@jupyter-widgets/base",
            "_view_module_version": "1.2.0",
            "_view_name": "LayoutView",
            "align_content": null,
            "align_items": null,
            "align_self": null,
            "border": null,
            "bottom": null,
            "display": null,
            "flex": null,
            "flex_flow": null,
            "grid_area": null,
            "grid_auto_columns": null,
            "grid_auto_flow": null,
            "grid_auto_rows": null,
            "grid_column": null,
            "grid_gap": null,
            "grid_row": null,
            "grid_template_areas": null,
            "grid_template_columns": null,
            "grid_template_rows": null,
            "height": null,
            "justify_content": null,
            "justify_items": null,
            "left": null,
            "margin": null,
            "max_height": null,
            "max_width": null,
            "min_height": null,
            "min_width": null,
            "object_fit": null,
            "object_position": null,
            "order": null,
            "overflow": null,
            "overflow_x": null,
            "overflow_y": null,
            "padding": null,
            "right": null,
            "top": null,
            "visibility": null,
            "width": null
          }
        },
        "e43ae444b50747af83054edf2c41aee7": {
          "model_module": "@jupyter-widgets/controls",
          "model_module_version": "1.5.0",
          "model_name": "ProgressStyleModel",
          "state": {
            "_model_module": "@jupyter-widgets/controls",
            "_model_module_version": "1.5.0",
            "_model_name": "ProgressStyleModel",
            "_view_count": null,
            "_view_module": "@jupyter-widgets/base",
            "_view_module_version": "1.2.0",
            "_view_name": "StyleView",
            "bar_color": null,
            "description_width": ""
          }
        },
        "e4664e09742345ada38119c0262cc3f4": {
          "model_module": "@jupyter-widgets/base",
          "model_module_version": "1.2.0",
          "model_name": "LayoutModel",
          "state": {
            "_model_module": "@jupyter-widgets/base",
            "_model_module_version": "1.2.0",
            "_model_name": "LayoutModel",
            "_view_count": null,
            "_view_module": "@jupyter-widgets/base",
            "_view_module_version": "1.2.0",
            "_view_name": "LayoutView",
            "align_content": null,
            "align_items": null,
            "align_self": null,
            "border": null,
            "bottom": null,
            "display": null,
            "flex": null,
            "flex_flow": null,
            "grid_area": null,
            "grid_auto_columns": null,
            "grid_auto_flow": null,
            "grid_auto_rows": null,
            "grid_column": null,
            "grid_gap": null,
            "grid_row": null,
            "grid_template_areas": null,
            "grid_template_columns": null,
            "grid_template_rows": null,
            "height": null,
            "justify_content": null,
            "justify_items": null,
            "left": null,
            "margin": null,
            "max_height": null,
            "max_width": null,
            "min_height": null,
            "min_width": null,
            "object_fit": null,
            "object_position": null,
            "order": null,
            "overflow": null,
            "overflow_x": null,
            "overflow_y": null,
            "padding": null,
            "right": null,
            "top": null,
            "visibility": null,
            "width": null
          }
        },
        "e9f8e0d7ac4c4eb587e188dabc1a4ab0": {
          "model_module": "@jupyter-widgets/controls",
          "model_module_version": "1.5.0",
          "model_name": "HTMLModel",
          "state": {
            "_dom_classes": [],
            "_model_module": "@jupyter-widgets/controls",
            "_model_module_version": "1.5.0",
            "_model_name": "HTMLModel",
            "_view_count": null,
            "_view_module": "@jupyter-widgets/controls",
            "_view_module_version": "1.5.0",
            "_view_name": "HTMLView",
            "description": "",
            "description_tooltip": null,
            "layout": "IPY_MODEL_e4664e09742345ada38119c0262cc3f4",
            "placeholder": "​",
            "style": "IPY_MODEL_2b5b4b63738d4662a9000df4be681525",
            "value": " 7.26G/7.26G [01:14&lt;00:00, 74.0MB/s]"
          }
        },
        "ed2995ddae7143989625b23474b44647": {
          "model_module": "@jupyter-widgets/controls",
          "model_module_version": "1.5.0",
          "model_name": "HBoxModel",
          "state": {
            "_dom_classes": [],
            "_model_module": "@jupyter-widgets/controls",
            "_model_module_version": "1.5.0",
            "_model_name": "HBoxModel",
            "_view_count": null,
            "_view_module": "@jupyter-widgets/controls",
            "_view_module_version": "1.5.0",
            "_view_name": "HBoxView",
            "box_style": "",
            "children": [
              "IPY_MODEL_54a8944597294819a74fbf5a3575a57f",
              "IPY_MODEL_720f367d8ff84be4bf151d591a421687",
              "IPY_MODEL_e094c519c1d848e2922aa5dab47b87d1"
            ],
            "layout": "IPY_MODEL_d1fac97d7a814a6990199e7c96afa8be"
          }
        },
        "f099e0bda31a4911b24c0198eab7bffe": {
          "model_module": "@jupyter-widgets/base",
          "model_module_version": "1.2.0",
          "model_name": "LayoutModel",
          "state": {
            "_model_module": "@jupyter-widgets/base",
            "_model_module_version": "1.2.0",
            "_model_name": "LayoutModel",
            "_view_count": null,
            "_view_module": "@jupyter-widgets/base",
            "_view_module_version": "1.2.0",
            "_view_name": "LayoutView",
            "align_content": null,
            "align_items": null,
            "align_self": null,
            "border": null,
            "bottom": null,
            "display": null,
            "flex": null,
            "flex_flow": null,
            "grid_area": null,
            "grid_auto_columns": null,
            "grid_auto_flow": null,
            "grid_auto_rows": null,
            "grid_column": null,
            "grid_gap": null,
            "grid_row": null,
            "grid_template_areas": null,
            "grid_template_columns": null,
            "grid_template_rows": null,
            "height": null,
            "justify_content": null,
            "justify_items": null,
            "left": null,
            "margin": null,
            "max_height": null,
            "max_width": null,
            "min_height": null,
            "min_width": null,
            "object_fit": null,
            "object_position": null,
            "order": null,
            "overflow": null,
            "overflow_x": null,
            "overflow_y": null,
            "padding": null,
            "right": null,
            "top": null,
            "visibility": null,
            "width": null
          }
        },
        "f3917394d4704a95bd5db3a263898b8d": {
          "model_module": "@jupyter-widgets/controls",
          "model_module_version": "1.5.0",
          "model_name": "HTMLModel",
          "state": {
            "_dom_classes": [],
            "_model_module": "@jupyter-widgets/controls",
            "_model_module_version": "1.5.0",
            "_model_name": "HTMLModel",
            "_view_count": null,
            "_view_module": "@jupyter-widgets/controls",
            "_view_module_version": "1.5.0",
            "_view_name": "HTMLView",
            "description": "",
            "description_tooltip": null,
            "layout": "IPY_MODEL_06e8dffb1cfd4921a1a166f9cc424085",
            "placeholder": "​",
            "style": "IPY_MODEL_0190d8958e244e31b5f1a761ed23cd33",
            "value": " 1.84M/1.84M [00:00&lt;00:00, 22.7MB/s]"
          }
        },
        "f8b0acbb229f48ffa6d5c76166774d48": {
          "model_module": "@jupyter-widgets/controls",
          "model_module_version": "1.5.0",
          "model_name": "HTMLModel",
          "state": {
            "_dom_classes": [],
            "_model_module": "@jupyter-widgets/controls",
            "_model_module_version": "1.5.0",
            "_model_name": "HTMLModel",
            "_view_count": null,
            "_view_module": "@jupyter-widgets/controls",
            "_view_module_version": "1.5.0",
            "_view_name": "HTMLView",
            "description": "",
            "description_tooltip": null,
            "layout": "IPY_MODEL_73ebd0d1e4e94fcc8b0b4d172554d39b",
            "placeholder": "​",
            "style": "IPY_MODEL_213a59febbee453ca4dd7cb10df8e276",
            "value": "generation_config.json: 100%"
          }
        },
        "fb8e3c69735b4e0e9adba525bce01c1b": {
          "model_module": "@jupyter-widgets/controls",
          "model_module_version": "1.5.0",
          "model_name": "FloatProgressModel",
          "state": {
            "_dom_classes": [],
            "_model_module": "@jupyter-widgets/controls",
            "_model_module_version": "1.5.0",
            "_model_name": "FloatProgressModel",
            "_view_count": null,
            "_view_module": "@jupyter-widgets/controls",
            "_view_module_version": "1.5.0",
            "_view_name": "ProgressView",
            "bar_style": "success",
            "description": "",
            "description_tooltip": null,
            "layout": "IPY_MODEL_7a85d04a3bbc42eda4aef9bf3826c7a6",
            "max": 132,
            "min": 0,
            "orientation": "horizontal",
            "style": "IPY_MODEL_4b0e57bcaa424963b62964ac8f3401b9",
            "value": 132
          }
        }
      }
    }
  },
  "nbformat": 4,
  "nbformat_minor": 0
}
