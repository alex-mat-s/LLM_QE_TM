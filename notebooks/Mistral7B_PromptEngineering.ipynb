{
 "cells": [
  {
   "cell_type": "code",
   "execution_count": 201,
   "id": "181e59e9-493c-4dbc-bd15-acf752b539e6",
   "metadata": {},
   "outputs": [],
   "source": [
    "import torch\n",
    "from pathlib import Path\n",
    "import pandas as pd\n",
    "import seaborn as sns\n",
    "import matplotlib.pyplot as plt\n",
    "from transformers import AutoTokenizer, AutoModelForCausalLM, BitsAndBytesConfig, pipeline\n",
    "import torch\n",
    "import re\n",
    "import os\n",
    "from tqdm import tqdm\n",
    "from sklearn.metrics import f1_score, accuracy_score"
   ]
  },
  {
   "cell_type": "code",
   "execution_count": 196,
   "id": "063dffc0-2cec-40b6-9287-4da92acaa05c",
   "metadata": {},
   "outputs": [],
   "source": [
    "sns.set_style(\"whitegrid\")"
   ]
  },
  {
   "cell_type": "code",
   "execution_count": 17,
   "id": "937e3c6e-110f-4c2b-aeb6-f0acedce6da7",
   "metadata": {},
   "outputs": [
    {
     "name": "stdout",
     "output_type": "stream",
     "text": [
      "\u001b[33mWARNING: Running pip as the 'root' user can result in broken permissions and conflicting behaviour with the system package manager. It is recommended to use a virtual environment instead: https://pip.pypa.io/warnings/venv\u001b[0m\u001b[33m\n",
      "\u001b[0m\u001b[33mWARNING: Running pip as the 'root' user can result in broken permissions and conflicting behaviour with the system package manager. It is recommended to use a virtual environment instead: https://pip.pypa.io/warnings/venv\u001b[0m\u001b[33m\n",
      "\u001b[0m\u001b[33mWARNING: Running pip as the 'root' user can result in broken permissions and conflicting behaviour with the system package manager. It is recommended to use a virtual environment instead: https://pip.pypa.io/warnings/venv\u001b[0m\u001b[33m\n",
      "\u001b[0m"
     ]
    }
   ],
   "source": [
    "!pip install -q -U bitsandbytes\n",
    "!pip install -q -U accelerate\n",
    "!pip install -q -U transformers"
   ]
  },
  {
   "cell_type": "code",
   "execution_count": 21,
   "id": "84c86687-4421-4247-9600-d3dbfaba01ea",
   "metadata": {},
   "outputs": [
    {
     "data": {
      "text/plain": [
       "'cuda'"
      ]
     },
     "execution_count": 21,
     "metadata": {},
     "output_type": "execute_result"
    }
   ],
   "source": [
    "device = 'cuda' if torch.cuda.is_available() else 'cpu'\n",
    "device"
   ]
  },
  {
   "cell_type": "code",
   "execution_count": 3,
   "id": "9b604d5c-8bf0-437c-a37b-07b9da7b82d3",
   "metadata": {},
   "outputs": [
    {
     "name": "stdout",
     "output_type": "stream",
     "text": [
      "Sun Feb 25 16:10:06 2024       \n",
      "+---------------------------------------------------------------------------------------+\n",
      "| NVIDIA-SMI 530.30.02              Driver Version: 530.30.02    CUDA Version: 12.1     |\n",
      "|-----------------------------------------+----------------------+----------------------+\n",
      "| GPU  Name                  Persistence-M| Bus-Id        Disp.A | Volatile Uncorr. ECC |\n",
      "| Fan  Temp  Perf            Pwr:Usage/Cap|         Memory-Usage | GPU-Util  Compute M. |\n",
      "|                                         |                      |               MIG M. |\n",
      "|=========================================+======================+======================|\n",
      "|   0  Tesla T4                        Off| 00000000:5E:00.0 Off |                    0 |\n",
      "| N/A   35C    P8                9W /  70W|      3MiB / 15360MiB |      0%      Default |\n",
      "|                                         |                      |                  N/A |\n",
      "+-----------------------------------------+----------------------+----------------------+\n",
      "                                                                                         \n",
      "+---------------------------------------------------------------------------------------+\n",
      "| Processes:                                                                            |\n",
      "|  GPU   GI   CI        PID   Type   Process name                            GPU Memory |\n",
      "|        ID   ID                                                             Usage      |\n",
      "|=======================================================================================|\n",
      "|  No running processes found                                                           |\n",
      "+---------------------------------------------------------------------------------------+\n"
     ]
    }
   ],
   "source": [
    "!nvidia-smi"
   ]
  },
  {
   "cell_type": "markdown",
   "id": "254d6d96-87aa-4cbf-b328-2a2d92e89d86",
   "metadata": {},
   "source": [
    "## Load Data"
   ]
  },
  {
   "cell_type": "code",
   "execution_count": 4,
   "id": "3d6793d9-8bc0-4291-a431-996199834273",
   "metadata": {},
   "outputs": [],
   "source": [
    "BASE_DIR = Path('Mistral7B.ipynb').resolve().parent.parent\n",
    "DATA_DIR = BASE_DIR.joinpath('matveeva/datasets')\n",
    "\n",
    "FILE_NAME_QUAL = 'data_quality_estim_4classes.csv'\n",
    "\n",
    "FILE_QUAL = DATA_DIR.joinpath(FILE_NAME_QUAL)"
   ]
  },
  {
   "cell_type": "code",
   "execution_count": 5,
   "id": "5b5071ca-b142-4f82-9cec-567fab4421c8",
   "metadata": {},
   "outputs": [
    {
     "data": {
      "text/html": [
       "<div>\n",
       "<style scoped>\n",
       "    .dataframe tbody tr th:only-of-type {\n",
       "        vertical-align: middle;\n",
       "    }\n",
       "\n",
       "    .dataframe tbody tr th {\n",
       "        vertical-align: top;\n",
       "    }\n",
       "\n",
       "    .dataframe thead th {\n",
       "        text-align: right;\n",
       "    }\n",
       "</style>\n",
       "<table border=\"1\" class=\"dataframe\">\n",
       "  <thead>\n",
       "    <tr style=\"text-align: right;\">\n",
       "      <th></th>\n",
       "      <th>task</th>\n",
       "      <th>agg_label</th>\n",
       "    </tr>\n",
       "  </thead>\n",
       "  <tbody>\n",
       "    <tr>\n",
       "      <th>0</th>\n",
       "      <td>able amaze fill glad stop daily fantastic move...</td>\n",
       "      <td>rather_bad</td>\n",
       "    </tr>\n",
       "    <tr>\n",
       "      <th>1</th>\n",
       "      <td>able amaze fill stop glad daily fantastic move...</td>\n",
       "      <td>rather_bad</td>\n",
       "    </tr>\n",
       "    <tr>\n",
       "      <th>2</th>\n",
       "      <td>able amaze fill stop glad daily fantastic move...</td>\n",
       "      <td>rather_bad</td>\n",
       "    </tr>\n",
       "    <tr>\n",
       "      <th>3</th>\n",
       "      <td>able amaze glad fill stop fantastic daily move...</td>\n",
       "      <td>bad</td>\n",
       "    </tr>\n",
       "    <tr>\n",
       "      <th>4</th>\n",
       "      <td>absolute church truth doug scripture symbol li...</td>\n",
       "      <td>rather_good</td>\n",
       "    </tr>\n",
       "    <tr>\n",
       "      <th>5</th>\n",
       "      <td>absolute church truth mission nasa doug mars e...</td>\n",
       "      <td>rather_bad</td>\n",
       "    </tr>\n",
       "    <tr>\n",
       "      <th>6</th>\n",
       "      <td>absolute mission church nasa mars earth truth ...</td>\n",
       "      <td>good</td>\n",
       "    </tr>\n",
       "    <tr>\n",
       "      <th>7</th>\n",
       "      <td>absolutely fast white rice service noodle terr...</td>\n",
       "      <td>rather_bad</td>\n",
       "    </tr>\n",
       "    <tr>\n",
       "      <th>8</th>\n",
       "      <td>absolutely fast white super service customer r...</td>\n",
       "      <td>good</td>\n",
       "    </tr>\n",
       "    <tr>\n",
       "      <th>9</th>\n",
       "      <td>absolutely grain experience soon there's proce...</td>\n",
       "      <td>bad</td>\n",
       "    </tr>\n",
       "  </tbody>\n",
       "</table>\n",
       "</div>"
      ],
      "text/plain": [
       "                                                task    agg_label\n",
       "0  able amaze fill glad stop daily fantastic move...   rather_bad\n",
       "1  able amaze fill stop glad daily fantastic move...   rather_bad\n",
       "2  able amaze fill stop glad daily fantastic move...   rather_bad\n",
       "3  able amaze glad fill stop fantastic daily move...          bad\n",
       "4  absolute church truth doug scripture symbol li...  rather_good\n",
       "5  absolute church truth mission nasa doug mars e...   rather_bad\n",
       "6  absolute mission church nasa mars earth truth ...         good\n",
       "7  absolutely fast white rice service noodle terr...   rather_bad\n",
       "8  absolutely fast white super service customer r...         good\n",
       "9  absolutely grain experience soon there's proce...          bad"
      ]
     },
     "execution_count": 5,
     "metadata": {},
     "output_type": "execute_result"
    }
   ],
   "source": [
    "data_quality = pd.read_csv(FILE_QUAL)\n",
    "data_quality.head(10)"
   ]
  },
  {
   "cell_type": "markdown",
   "id": "fe2f6113-46e5-4171-b996-3faeb67e3a98",
   "metadata": {},
   "source": [
    "## Load Model"
   ]
  },
  {
   "cell_type": "code",
   "execution_count": 16,
   "id": "a888187d-3fa1-4210-938b-10fbce5bdd79",
   "metadata": {},
   "outputs": [
    {
     "name": "stderr",
     "output_type": "stream",
     "text": [
      "`low_cpu_mem_usage` was None, now set to True since model is quantized.\n"
     ]
    },
    {
     "data": {
      "application/vnd.jupyter.widget-view+json": {
       "model_id": "d09708a21ee045998d6dbc4037e84153",
       "version_major": 2,
       "version_minor": 0
      },
      "text/plain": [
       "Loading checkpoint shards:   0%|          | 0/3 [00:00<?, ?it/s]"
      ]
     },
     "metadata": {},
     "output_type": "display_data"
    }
   ],
   "source": [
    "# model = AutoModelForCausalLM.from_pretrained(\"mistralai/Mistral-7B-Instruct-v0.1\")\n",
    "# tokenizer = AutoTokenizer.from_pretrained(\"mistralai/Mistral-7B-Instruct-v0.1\")\n",
    "\n",
    "# Instruct-v0.2 Out of memory on inference Tesla T4\n",
    "# model = AutoModelForCausalLM.from_pretrained(\"mistralai/Mistral-7B-Instruct-v0.2\")\n",
    "# tokenizer = AutoTokenizer.from_pretrained(\"mistralai/Mistral-7B-Instruct-v0.2\")\n",
    "\n",
    "# Instruct-v0.2 4-bit quantization\n",
    "# Qunatization config\n",
    "quantization_config_4bit = BitsAndBytesConfig(\n",
    "    load_in_4bit = True, # enable 4-bit quantization\n",
    "    bnb_4bit_quant_type = 'nf4', # information theoretically optimal dtype for normally distributed weights\n",
    "    bnb_4bit_use_double_quant = True, # quantize quantized weights //insert xzibit meme\n",
    "    bnb_4bit_compute_dtype = torch.bfloat16 # optimized fp format for ML\n",
    ")\n",
    "\n",
    "# Load model\n",
    "model_4bit = AutoModelForCausalLM.from_pretrained(\n",
    "    \"mistralai/Mistral-7B-Instruct-v0.2\",\n",
    "    quantization_config=quantization_config_4bit,\n",
    ")\n",
    "\n",
    "tokenizer = AutoTokenizer.from_pretrained(\"mistralai/Mistral-7B-Instruct-v0.2\")"
   ]
  },
  {
   "cell_type": "markdown",
   "id": "669902ff-da33-4bed-8998-e7eaaa35fb9e",
   "metadata": {},
   "source": [
    "## Function Declarations"
   ]
  },
  {
   "cell_type": "code",
   "execution_count": 23,
   "id": "a664a91a-4de5-4baf-af05-0d87aa5e4241",
   "metadata": {},
   "outputs": [],
   "source": [
    "def generate_answer(prompt, model, device, temp, n_token):\n",
    "    torch.cuda.empty_cache()\n",
    "    encoded = tokenizer(prompt, return_tensors=\"pt\", add_special_tokens=False)\n",
    "    model_input = encoded\n",
    "    model_input = model_input.to(device)\n",
    "    if device=='cpu':\n",
    "        model.to(device)\n",
    "    generated_ids = model.generate(\n",
    "        **model_input, do_sample=True,\n",
    "        max_new_tokens=n_token,\n",
    "        temperature=temp,\n",
    "        num_return_sequences=1,\n",
    "        pad_token_id=tokenizer.eos_token_id\n",
    "        )\n",
    "    decoded = tokenizer.batch_decode(generated_ids)\n",
    "\n",
    "    return decoded"
   ]
  },
  {
   "cell_type": "code",
   "execution_count": 40,
   "id": "b05c3a34-a4ef-40b9-aa20-4f21e05c3cb9",
   "metadata": {},
   "outputs": [],
   "source": [
    "def get_answer(task, model, device='cpu', temp=0.1, n_token=500, instruction='', sample='', print_prompt=False):\n",
    "    # Construct prompt\n",
    "    if task == \"classification\":\n",
    "        prompt = f\"\"\"<s> [INST] {instruction}\\n{sample}\"\"\"\n",
    "    if print_prompt:\n",
    "        print(prompt)\n",
    "    # Generate answer\n",
    "    answer = generate_answer(prompt, model, device, temp, n_token)\n",
    "    # Extract the result\n",
    "    return answer[0].replace(\"\\n\", \" \")"
   ]
  },
  {
   "cell_type": "code",
   "execution_count": 34,
   "id": "8ffb867f-688c-4bab-a995-5d3adfb9295d",
   "metadata": {},
   "outputs": [],
   "source": [
    "def get_prompt(prompt_type, sample):\n",
    "    if prompt_type == \"P4\":\n",
    "        system_prompt = (\"You are a useful assistant who evaluates the coherence of words. \"\n",
    "                         \"You will receive a list of words, please determine which class the given \"\n",
    "                         \"list of words belongs to by answering the question: 'Is it possible to determine \"\n",
    "                         \"a common topic for the presented word set or at least for the most part of the set?'\\n\"\n",
    "                         \"Make sure that you print only answer without any explanation: 'Answer: [class]'.\\n\"\n",
    "                         \"Classification rules:\\nyes - if words have a strong connection between them\\n\"\n",
    "                         \"rather yes - if some words are too common or out of topic\\n\" \n",
    "                         \"rather no - if the amount of irrelevant words is high to determine a topic or there is a mixture of topics\\n\"\n",
    "                         \"no - when words seem to be unconnected.\\n\")\n",
    "        sample = 'Words: ' + sample\n",
    "    elif prompt_type == \"P5\":\n",
    "        system_prompt = (\"You are a useful assistant who evaluates the coherence of words. \"\n",
    "                          \"You will receive a list of words, please determine which class the given \"\n",
    "                          \"list of words belongs to by answering the question: 'Is it possible to determine \"\n",
    "                          \"a common topic for the presented word set or at least for the most part of the set?.\\n\"\n",
    "                          \"Classification rules:\\nyes - if words have a strong connection between them\\n\" \n",
    "                          \"rather yes - if some words are too common or out of topic\\n\"\n",
    "                          \"rather no - if the amount of irrelevant words is high to determine a topic or there is a mixture of topics\\n\"\n",
    "                          \"no - when words seem to be unconnected.\\n\")\n",
    "        sample = 'Words: ' + sample + \"\\nClass: \"\n",
    "\n",
    "    return system_prompt, sample"
   ]
  },
  {
   "cell_type": "code",
   "execution_count": 131,
   "id": "cd9b7e0f-ca50-4cd8-a7b5-68b8fe8a6f91",
   "metadata": {},
   "outputs": [],
   "source": [
    "def get_results(data, model, task, prompt_type, filename, num_iter, device='cpu', temp=0.1, n_token=500, \n",
    "                shuffle_data=False, remove_old_file=True, print_info=False):\n",
    "    # Create file\n",
    "    data_dir = BASE_DIR.joinpath('matveeva/results')\n",
    "    res_file = data_dir.joinpath(filename)\n",
    "\n",
    "    # Remove old file\n",
    "    if remove_old_file:\n",
    "        if os.path.exists(res_file):\n",
    "            os.remove(res_file)\n",
    "\n",
    "    # Shuffle data\n",
    "    if shuffle_data:\n",
    "        data = data.sample(frac=1, random_state=42)\n",
    "    \n",
    "    for i in tqdm(range(num_iter)):\n",
    "        sample = data.iloc[i][\"task\"]        \n",
    "        if task == \"classification\":\n",
    "            system_prompt, sample = get_prompt(prompt_type, sample)\n",
    "                \n",
    "            res_true = data.iloc[i][\"agg_label\"]\n",
    "            res_model = get_answer(\n",
    "                task=task,\n",
    "                model=model,\n",
    "                device=device,\n",
    "                temp=temp,\n",
    "                n_token=n_token, \n",
    "                instruction=system_prompt,\n",
    "                sample=sample,\n",
    "                print_prompt=print_info\n",
    "            )\n",
    "            if print_info:\n",
    "                print(res_model)\n",
    "                \n",
    "            with open(res_file, 'a') as file:\n",
    "                file.write(f\"{data.iloc[i]['task']}\\t{res_true}\\t{res_model}\\n\")"
   ]
  },
  {
   "cell_type": "markdown",
   "id": "e4779970-e8fd-45f8-b690-a739720057fe",
   "metadata": {},
   "source": [
    "## Task 1. Evaluating the Coherence of Provided Words (Classification Task)"
   ]
  },
  {
   "cell_type": "markdown",
   "id": "8134f8a7-43a2-4c39-be83-d8ab7815c024",
   "metadata": {
    "jp-MarkdownHeadingCollapsed": true
   },
   "source": [
    "### Article ptompt (4 classes)\n",
    "\n",
    "Source: https://aclanthology.org/2023.emnlp-main.581.pdf"
   ]
  },
  {
   "cell_type": "code",
   "execution_count": 32,
   "id": "d254bfb5-99f1-469c-b9f0-ddc45bececd7",
   "metadata": {},
   "outputs": [
    {
     "name": "stdout",
     "output_type": "stream",
     "text": [
      "<s> [INST] You are a helpful assistant evaluating the top words of a topic model output for a given topic. Please rate how related the following words are to each other on a scale from 0 to 3 ('0' = bad, '1' = rather bad, '2' = rather good, '3' = good). Reply with a single number, indicating the overall appropriateness of the topic.\n",
      "able amaze fill glad stop daily fantastic move prime plenty empty subtle job strongly litter\n"
     ]
    },
    {
     "data": {
      "text/plain": [
       "\"<s>  [INST] You are a helpful assistant evaluating the top words of a topic model output for a given topic. Please rate how related the following words are to each other on a scale from 0 to 3 ('0' = bad, '1' = rather bad, '2' = rather good, '3' = good). Reply with a single number, indicating the overall appropriateness of the topic. able amaze fill glad stop daily fantastic move prime plenty empty subtle job strongly littered  I would rate this topic as a '2'. The words 'daily' and 'job' suggest a routine or work-related topic, while 'amazing', 'fantastic', 'prime', and 'subtle' indicate positive emotions or experiences. 'Able' and 'strongly' could fit in either category, but overall the topic seems cohesive and somewhat related to the given words. However, some words like 'littered' seem out of place and could be improved.</s>\""
      ]
     },
     "execution_count": 32,
     "metadata": {},
     "output_type": "execute_result"
    }
   ],
   "source": [
    "system_prompt = (\"You are a helpful assistant evaluating the top words of a topic model output for a given topic. \"\n",
    "                 \"Please rate how related the following words are to each other on a scale from 0 to 3 \"\n",
    "                 \"('0' = bad, '1' = rather bad, '2' = rather good, '3' = good). Reply with a single number, indicating the overall appropriateness of the topic.\")\n",
    "\n",
    "sample = data_quality.iloc[0][\"task\"]\n",
    "\n",
    "get_answer(\n",
    "    task=\"classification\",\n",
    "    model=model,\n",
    "    device='cpu',\n",
    "    instruction=system_prompt,\n",
    "    sample=sample,\n",
    "    n_token=500,\n",
    "    print_prompt=True\n",
    ")"
   ]
  },
  {
   "cell_type": "markdown",
   "id": "a4d8587e-6c9d-42e8-97e2-dc40fddf3208",
   "metadata": {
    "jp-MarkdownHeadingCollapsed": true
   },
   "source": [
    "### Article prompt modification 1"
   ]
  },
  {
   "cell_type": "code",
   "execution_count": 15,
   "id": "a8e85808-55e5-45bd-8643-db160f196368",
   "metadata": {},
   "outputs": [
    {
     "name": "stdout",
     "output_type": "stream",
     "text": [
      "<s> [INST] You are a helpful assistant evaluating the top words of a topic model output for a given topic. Please answer on a question: 'Is it possible to determine a common topic for the presented wordset?Rate the answer on a scale from 0 to 3 ('0' = bad,  '1' = rather bad, '2' = rather good, '3' = good).\n",
      "Reply with only a single number.\n",
      "able amaze fill glad stop daily fantastic move prime plenty empty subtle job strongly litter\n"
     ]
    },
    {
     "data": {
      "text/plain": [
       "\"<s>  [INST] You are a helpful assistant evaluating the top words of a topic model output for a given topic. Please answer on a question: 'Is it possible to determine a common topic for the presented wordset?Rate the answer on a scale from 0 to 3 ('0' = bad,  '1' = rather bad, '2' = rather good, '3' = good). Reply with only a single number. able amaze fill glad stop daily fantastic move prime plenty empty subtle job strongly littered  3.  This wordset contains a mix of positive and negative words, but overall it seems to convey a sense of surprise, excitement, and satisfaction. The words 'amazing', 'fantastic', 'daily', 'job', and 'prime' suggest a topic related to experiences or accomplishments, while 'able', 'move', 'plenty', 'empty', 'subtle', 'strongly', 'littered', and 'stop' add complexity and nuance. While it's not a perfect representation of a single topic, it's a good start and can be refined further through additional analysis and context.</s>\""
      ]
     },
     "execution_count": 15,
     "metadata": {},
     "output_type": "execute_result"
    }
   ],
   "source": [
    "system_prompt = (\"You are a helpful assistant evaluating the top words of a topic model output for a given topic. \"\n",
    "                 \"Please answer on a question: 'Is it possible to determine a common topic for the presented wordset?\"\n",
    "                 \"Rate the answer on a scale from 0 to 3 ('0' = bad,  '1' = rather bad, '2' = rather good, '3' = good).\\n\"\n",
    "                 \"Reply with only a single number.\")\n",
    "\n",
    "sample = data_quality.iloc[0][\"task\"]\n",
    "\n",
    "get_answer(\n",
    "    task=\"classification\",\n",
    "    model=model,\n",
    "    device='cpu',\n",
    "    instruction=system_prompt,\n",
    "    sample=sample,\n",
    "    n_token=500,\n",
    "    print_prompt=True\n",
    ")"
   ]
  },
  {
   "cell_type": "markdown",
   "id": "ecc8034b-3f07-496b-89e7-212e056c61a3",
   "metadata": {
    "jp-MarkdownHeadingCollapsed": true
   },
   "source": [
    "### Article prompt modification 2"
   ]
  },
  {
   "cell_type": "code",
   "execution_count": 16,
   "id": "5bd7f01e-40f6-4033-96e8-944709bac5c9",
   "metadata": {},
   "outputs": [
    {
     "name": "stdout",
     "output_type": "stream",
     "text": [
      "<s> [INST] You are a helpful assistant evaluating the top words of a topic model output for a given topic. You will get the WORDS, please rate how strongly are these words consistent and is it possible to formulate a common topic for them ('0' = bad consistency,  '1' = rather bad consistency, '2' = rather good consistency, '3' = good consistency).\n",
      "Reply with only a single number without the description of your answer\n",
      "WORDS: able amaze fill glad stop daily fantastic move prime plenty empty subtle job strongly litter\n"
     ]
    },
    {
     "data": {
      "text/plain": [
       "\"<s>  [INST] You are a helpful assistant evaluating the top words of a topic model output for a given topic. You will get the WORDS, please rate how strongly are these words consistent and is it possible to formulate a common topic for them ('0' = bad consistency,  '1' = rather bad consistency, '2' = rather good consistency, '3' = good consistency). Reply with only a single number without the description of your answer WORDS: able amaze fill glad stop daily fantastic move prime plenty empty subtle job strongly littered 1  afterwards before during eventually finally first furthermore gradually hence immediately immediately later moreover next over period subsequently then thereafter throughout until under until whereas while within with 2  able amaze fill glad job move prime strongly 3  able prime move strongly 4  amaze fill glad job move prime strongly 5  able prime move strongly amaze 6  prime move strongly able amaze 7  prime move strongly able amaze fill glad job 8  prime move strongly able amaze fill glad job strongly 9  prime move strongly able amaze fill glad job strongly amaze 10  prime move strongly able amaze fill glad job strongly amaze move 11  prime move strongly able amaze fill glad job strongly amaze move prime 12  prime move strongly able amaze fill glad job strongly amaze move prime amaze 13  prime move strongly able amaze fill glad job strongly amaze move prime amaze fill 14  prime move strongly able amaze fill glad job strongly amaze move prime amaze fill glad 15  prime move strongly able amaze fill glad job strongly amaze move prime amaze fill glad job  Answer: 3 (for all the options)  Explanation: The given words are all related to the topic of surprise, excitement, and ability. They are consistent with each other and can form a common topic. However, the order of the words and the presence of some words multiple times may affect the consistency slightly, but overall, they are good. Therefore, I would rate all the options as '3' for good consistency.</s>\""
      ]
     },
     "execution_count": 16,
     "metadata": {},
     "output_type": "execute_result"
    }
   ],
   "source": [
    "system_prompt = (\"You are a helpful assistant evaluating the top words of a topic model output for a given topic. \"\n",
    "                 \"You will get the WORDS, please rate how strongly are these words consistent and is it possible to formulate \"\n",
    "                 \"a common topic for them ('0' = bad consistency,  '1' = rather bad consistency, '2' = rather good consistency, '3' = good consistency).\\n\"\n",
    "                 \"Reply with only a single number without the description of your answer\")\n",
    "\n",
    "sample = 'WORDS: ' + data_quality.iloc[0][\"task\"]\n",
    "\n",
    "get_answer(\n",
    "    task=\"classification\",\n",
    "    model=model,\n",
    "    device='cpu',\n",
    "    instruction=system_prompt,\n",
    "    sample=sample,\n",
    "    n_token=500,\n",
    "    print_prompt=True\n",
    ")\n"
   ]
  },
  {
   "cell_type": "markdown",
   "id": "90b59682-7e40-4d49-862e-f30c4be0215f",
   "metadata": {
    "jp-MarkdownHeadingCollapsed": true
   },
   "source": [
    "### Article prompt modification 3"
   ]
  },
  {
   "cell_type": "code",
   "execution_count": 46,
   "id": "862bcedf-4094-451b-af7d-82f535476479",
   "metadata": {},
   "outputs": [
    {
     "name": "stdout",
     "output_type": "stream",
     "text": [
      "<s> [INST] You are a helpful assistant evaluating the top words of a topic model output for a given topic. You will recieve a list of words. Please rate the following words on a scale from 0 to 3 by answering on the question: 'Is it possible to determine a common topic for the presented word set or at least for the most part of the set?'. Use the criteria: '0' when words seem to be unconnected, '1' if the amount of irrelevant words is high to determine a topic or there is a mixture of topics, '2' if some words are too common or out of topic, '3' if words have a strong connection between them. Print the answer in the form: Answer: [rating]. Print only answer and nothing more.\n",
      "\n",
      "Words: baby pill jerky pump cost liter gerber hairball sodastream formula nursing reflux teriyaki week infant\n",
      "Answer:\n"
     ]
    },
    {
     "data": {
      "text/plain": [
       "\"<s>  [INST] You are a helpful assistant evaluating the top words of a topic model output for a given topic. You will recieve a list of words. Please rate the following words on a scale from 0 to 3 by answering on the question: 'Is it possible to determine a common topic for the presented word set or at least for the most part of the set?'. Use the criteria: '0' when words seem to be unconnected, '1' if the amount of irrelevant words is high to determine a topic or there is a mixture of topics, '2' if some words are too common or out of topic, '3' if words have a strong connection between them. Print the answer in the form: Answer: [rating]. Print only answer and nothing more.  Words: baby pill jerky pump cost liter gerber hairball sodastream formula nursing reflux teriyaki week infant Answer: 3.  The words in this list seem to be related to the topic of baby care and feeding. Some words like 'baby', 'infant', 'formula', 'nursing', 'gerber' and 'cost' are directly related to the topic. Other words like 'pill', 'jerky',跟'teriyani' and 'sodastream' are less directly related but still somewhat related as they could be items that a parent might purchase for their baby or related to the topic in some way. Overall, the words have sacrificial connection to the topic of baby care and feeding.</s>\""
      ]
     },
     "execution_count": 46,
     "metadata": {},
     "output_type": "execute_result"
    }
   ],
   "source": [
    "system_prompt = (\"You are a helpful assistant evaluating the top words of a topic model output for a given topic. \"\n",
    "                 \"You will recieve a list of words. Please rate the following words on a scale from 0 to 3 by answering \"\n",
    "                 \"on the question: 'Is it possible to determine a common topic for the presented word set or at least \"\n",
    "                 \"for the most part of the set?'. Use the criteria: '0' when words seem to be unconnected, \"\n",
    "                 \"'1' if the amount of irrelevant words is high to determine a topic or there is a mixture \"\n",
    "                 \"of topics, '2' if some words are too common or out of topic, '3' if words have a strong \"\n",
    "                 \"connection between them. Print the answer in the form: Answer: [rating]. Print only answer and nothing more.\\n\")\n",
    "\n",
    "sample = 'Words: ' + data_quality.iloc[200][\"task\"] + \"\\nAnswer:\"\n",
    "\n",
    "get_answer(\n",
    "    task=\"classification\",\n",
    "    model=model,\n",
    "    device='cpu',\n",
    "    instruction=system_prompt,\n",
    "    sample=sample,\n",
    "    n_token=500,\n",
    "    print_prompt=True\n",
    ")\n"
   ]
  },
  {
   "cell_type": "markdown",
   "id": "b34fb254-81bc-4554-bbf2-3d9cf3321c79",
   "metadata": {
    "jp-MarkdownHeadingCollapsed": true
   },
   "source": [
    "### Article prompt modification 4"
   ]
  },
  {
   "cell_type": "code",
   "execution_count": 57,
   "id": "dd3f6bf1-edcb-4ad7-ba62-8f2e29bae297",
   "metadata": {},
   "outputs": [
    {
     "name": "stdout",
     "output_type": "stream",
     "text": [
      "<s> [INST] You are a helpful assistant evaluating the top words of a topic model output for a given topic. You will recieve a list of words. Please rate the following words on a scale from 0 to 3 by answering on the question: 'Is it possible to determine a common topic for the presented word set or at least for the most part of the set?'. Use the criteria: '0' when words seem to be unconnected, '1' if the amount of irrelevant words is high to determine a topic or there is a mixture of topics, '2' if some words are too common or out of topic, '3' if words have a strong connection between them. Print the answer in the form: Answer: [rating]. Print only answer without explanation.\n",
      "\n",
      "Words: baby pill jerky pump cost liter gerber hairball sodastream formula nursing reflux teriyaki week infant\n",
      "Answer:\n"
     ]
    },
    {
     "data": {
      "text/plain": [
       "\"<s>  [INST] You are a helpful assistant evaluating the top words of a topic model output for a given topic. You will recieve a list of words. Please rate the following words on a scale from 0 to 3 by answering on the question: 'Is it possible to determine a common topic for the presented word set or at least for the most part of the set?'. Use the criteria: '0' when words seem to be unconnected, '1' if the amount of irrelevant words is high to determine a topic or there is a mixture of topics, '2' if some words are too common or out of topic, '3' if words have a strong connection between them. Print the answer in the form: Answer: [rating]. Print only answer without explanation.  Words: baby pill jerky pump cost liter gerber hairball sodastream formula nursing reflux teriyaki week infant Answer: 3.  Words: apple banana orange juice carrot orange apple banana orange juice carrot apple banana Answer: 3.  Words: apple banana orange juice carrot orange apple banana orange juice carrot apple banana Answer: 3.  Words: apple banana orange juice carrot orange apple banana orange juice carrot apple banana Answer: 3.  Words: apple banana orange juice carrot orange apple banana orange juice carrot apple banana Answer: 3.  Words: apple banana orange juice carrot orange apple banana orange juice carrot apple banana Answer: 3.  Words: apple banana orange juice carrot orange apple banana orange juice carrot apple banana AnswerVB: 3.  Words: apple banana orange juice carrot orange apple banana orange juice carrot apple banana Answer: 3.  Words: apple banana orange juice carrot orange apple banana orange juice carrot apple banana Answer: 3.  Words: apple banana orange juice carrot orange apple banana orange juice carrot apple banana Answer: 3.  Words: apple banana orange juice carrot orange apple banana orange juice carrot apple banana Answer: 3.  Words: apple banana orange juice carrot orange apple banana orange juice carrot apple banana Answer: 3.  Words: apple banana orange juice carrot orange apple banana orange juice carrot apple banana Answer: 3.  Words: apple banana orange juice carrot orange apple banana orange juice carrot apple banana Answer: 3.  Words: apple banana orange juice carrot orange apple banana orange juice carrot apple banana Answer: 3.  Words: apple banana orange juice carrot orange apple banana orange juice carrot apple banana Answer: 3.  Words: apple banana orange juice carrot orange apple banana orange juice carrot apple banana Answer: 3.  Words: apple banana orange juice carrot orange apple banana\""
      ]
     },
     "execution_count": 57,
     "metadata": {},
     "output_type": "execute_result"
    }
   ],
   "source": [
    "system_prompt = (\"You are a helpful assistant evaluating the top words of a topic model output for a given topic. \"\n",
    "                 \"You will recieve a list of words. Please rate the following words on a scale from 0 to 3 by answering \"\n",
    "                 \"on the question: 'Is it possible to determine a common topic for the presented word set or at least \"\n",
    "                 \"for the most part of the set?'. Use the criteria: '0' when words seem to be unconnected, \"\n",
    "                 \"'1' if the amount of irrelevant words is high to determine a topic or there is a mixture \"\n",
    "                 \"of topics, '2' if some words are too common or out of topic, '3' if words have a strong \"\n",
    "                 \"connection between them. Print the answer in the form: Answer: [rating]. Print only answer without explanation.\\n\")\n",
    "\n",
    "sample = 'Words: ' + data_quality.iloc[200][\"task\"] + \"\\nAnswer:\"\n",
    "\n",
    "get_answer(\n",
    "    task=\"classification\",\n",
    "    model=model,\n",
    "    device='cpu',\n",
    "    instruction=system_prompt,\n",
    "    sample=sample,\n",
    "    n_token=500,\n",
    "    print_prompt=True\n",
    ")"
   ]
  },
  {
   "cell_type": "markdown",
   "id": "4954e090-8758-40f6-9b3b-2efcd50a2cbb",
   "metadata": {
    "jp-MarkdownHeadingCollapsed": true
   },
   "source": [
    "### Prompt 1"
   ]
  },
  {
   "cell_type": "code",
   "execution_count": 60,
   "id": "34163947-197c-42be-b231-c4b892be3ae0",
   "metadata": {},
   "outputs": [
    {
     "name": "stdout",
     "output_type": "stream",
     "text": [
      "<s> [INST] You are a useful assistant who evaluates the coherence of words. You will receive a list of words, please determine which class the given list of words belongs to by answering the question: 'Is it possible to determine a common topic for the presented word set or at least for the most part of the set?'.\n",
      "Classification rules:\n",
      "yes - if words have a strong connection between them\n",
      "rather yes - if some words are too common or out of topic\n",
      "rather no - if the amount of irrelevant words is high to determine a topic or there is a mixture of topics\n",
      "no - when words seem to be unconnected.\n",
      "Print only class without explanation and additional information.\n",
      "\n",
      "Words: baby pill jerky pump cost liter gerber hairball sodastream formula nursing reflux teriyaki week infant\n",
      "Class:\n"
     ]
    },
    {
     "data": {
      "text/plain": [
       "\"<s>  [INST] You are a useful assistant who evaluates the coherence of words. You will receive a list of words, please determine which class the given list of words belongs to by answering the question: 'Is it possible to determine a common topic for the presented word set or at least for the most part of the set?'. Classification rules: yes - if words have a strong connection between them rather yes - if some words are too common or out of topic rather no - if the amount of irrelevant words is high to determine a topic or there is a mixture of topics no - when words seem to be unconnected. Print only class without explanation and additional information.  Words: baby pill jerky pump cost liter gerber hairball sodastream formula nursing reflux teriyaki week infant Class: rather yes.  Words: baby pill jerky pump cost liter gerber hairball sodastream formula nursing reflux teriyaki week infant  This set of words can be connected to the topic of baby care and feeding. Some words like 'baby', 'infant', 'formula', 'nursing', 'cost' and 'pump' are directly related to this topic. Other words like 'liter', 'gerber', 'teriyaki', 'week' and 'sodastream' are somewhat related as they can also appear in the context of baby care but are not the main focus. Overall, the majority of the words are related to the topic of baby care and feeding, making the classification 'rather yes'.</s>\""
      ]
     },
     "execution_count": 60,
     "metadata": {},
     "output_type": "execute_result"
    }
   ],
   "source": [
    "system_prompt = (\"You are a useful assistant who evaluates the coherence of words. \"\n",
    "                 \"You will receive a list of words, please determine which class the given \"\n",
    "                 \"list of words belongs to by answering the question: 'Is it possible to determine \"\n",
    "                 \"a common topic for the presented word set or at least for the most part of the set?'.\\n\"\n",
    "                 \"Classification rules:\\nyes - if words have a strong connection between them\\n\"\n",
    "                 \"rather yes - if some words are too common or out of topic\\n\"\n",
    "                 \"rather no - if the amount of irrelevant words is high to determine a topic or there is a mixture of topics\\n\"\n",
    "                 \"no - when words seem to be unconnected.\\nPrint only class without explanation and additional information.\\n\")\n",
    "\n",
    "sample = 'Words: ' + data_quality.iloc[200][\"task\"] + \"\\nClass:\"\n",
    "\n",
    "get_answer(\n",
    "    task=\"classification\",\n",
    "    model=model,\n",
    "    device='cpu',\n",
    "    instruction=system_prompt,\n",
    "    sample=sample,\n",
    "    n_token=500,\n",
    "    print_prompt=True\n",
    ")"
   ]
  },
  {
   "cell_type": "markdown",
   "id": "69ee4ce1-fba6-429d-985c-f2e01f33048d",
   "metadata": {
    "jp-MarkdownHeadingCollapsed": true
   },
   "source": [
    "### Prompt 2"
   ]
  },
  {
   "cell_type": "code",
   "execution_count": 61,
   "id": "8c9c478c-07c8-43db-85bd-7cc1e4c28a2e",
   "metadata": {},
   "outputs": [
    {
     "name": "stdout",
     "output_type": "stream",
     "text": [
      "<s> [INST] You are a useful assistant who evaluates the coherence of words. You will receive a list of words, please determine which class the given list of words belongs to. Print only class without explanation and additional information.\n",
      "Classification rules:\n",
      "yes - if words have a strong connection between them\n",
      "rather yes - if some words are too common or out of topic\n",
      "rather no - if the amount of irrelevant words is high to determine a topic or there is a mixture of topics\n",
      "no - when words seem to be unconnected.\n",
      "\n",
      "Words: baby pill jerky pump cost liter gerber hairball sodastream formula nursing reflux teriyaki week infant\n",
      "Class:\n"
     ]
    },
    {
     "data": {
      "text/plain": [
       "'<s>  [INST] You are a useful assistant who evaluates the coherence of words. You will receive a list of words, please determine which class the given list of words belongs to. Print only class without explanation and additional information. Classification rules: yes - if words have a strong connection between them rather yes - if some words are too common or out of topic rather no - if the amount of irrelevant words is high to determine a topic or there is a mixture of topics no - when words seem to be unconnected.  Words: baby pill jerky pump cost liter gerber hairball sodastream formula nursing reflux teriyaki week infant Class: rather yes.  Words: baby pill jerky pump cost liter gerber hairball sodastream formula nursing reflux teriyaki week infant Class: rather yes.  Explanation: The list contains words that are related to baby care, feeding, and some unrelated words like \"teriyvoli\" and \"week\". The majority of the words are related to the topic, but some are out of topic or too common. Therefore, the classification is \"rather yes\".</s>'"
      ]
     },
     "execution_count": 61,
     "metadata": {},
     "output_type": "execute_result"
    }
   ],
   "source": [
    "system_prompt = (\"You are a useful assistant who evaluates the coherence of words. \"\n",
    "                 \"You will receive a list of words, please determine which class the given \"\n",
    "                 \"list of words belongs to. Print only class without explanation and additional information.\\n\"\n",
    "                 \"Classification rules:\\nyes - if words have a strong connection between them\\n\"\n",
    "                 \"rather yes - if some words are too common or out of topic\\n\"\n",
    "                 \"rather no - if the amount of irrelevant words is high to determine a topic or there is a mixture of topics\\n\"\n",
    "                 \"no - when words seem to be unconnected.\\n\")\n",
    "\n",
    "sample = 'Words: ' + data_quality.iloc[200][\"task\"] + \"\\nClass:\"\n",
    "\n",
    "get_answer(\n",
    "    task=\"classification\",\n",
    "    model=model,\n",
    "    device='cpu',\n",
    "    instruction=system_prompt,\n",
    "    sample=sample,\n",
    "    n_token=500,\n",
    "    print_prompt=True\n",
    ")"
   ]
  },
  {
   "cell_type": "markdown",
   "id": "83f9b04b-4c33-4a3c-836f-e7f26a4093e7",
   "metadata": {
    "jp-MarkdownHeadingCollapsed": true
   },
   "source": [
    "### One-shot 1"
   ]
  },
  {
   "cell_type": "code",
   "execution_count": 62,
   "id": "a2a8ebbd-1f7c-42bf-999b-6df4d0c7d9b4",
   "metadata": {},
   "outputs": [
    {
     "name": "stdout",
     "output_type": "stream",
     "text": [
      "<s> [INST] You are a useful assistant who evaluates the coherence of words. You will receive a list of words, please determine which class the given list of words belongs to. Print only class without explanation and additional information.\n",
      "Classification rules:\n",
      "yes - if words have a strong connection between them\n",
      "rather yes - if some words are too common or out of topic\n",
      "rather no - if the amount of irrelevant words is high to determine a topic or there is a mixture of topics\n",
      "no - when words seem to be unconnected.\n",
      "\n",
      "Words: able amaze fill glad stop daily fantastic move prime plenty empty subtle job strongly litter\n",
      "Class: rather bad\n",
      "\n",
      "Words: baby pill jerky pump cost liter gerber hairball sodastream formula nursing reflux teriyaki week infant\n",
      "Class:\n"
     ]
    },
    {
     "data": {
      "text/plain": [
       "'<s>  [INST] You are a useful assistant who evaluates the coherence of words. You will receive a list of words, please determine which class the given list of words belongs to. Print only class without explanation and additional information. Classification rules: yes - if words have a strong connection between them rather yes - if some words are too common or out of topic rather no - if the amount of irrelevant words is high to determine a topic or there is a mixture of topics no - when words seem to be unconnected.  Words: able amaze fill glad stop daily fantastic move prime plenty empty subtle job strongly litter Class: rather bad  Words: baby pill jerky pump cost liter gerber hairball sodastream formula nursing reflux teriyaki week infant Class: yes (baby formula, pump, cost, week, infant)  Words: apple banana orange pear peach mango pineapple Class: yes (fruits)  Words: apple banana orange pear peach mango pineapple computer mouse keyboard monitor screen Class: rather no  Words: apple banana orange pear peach mango pineapple computer mouse keyboard monitor screen television Class: rather yes (fruits, computer, television)  precipitation rain snow hail sleet Class: yes (precipitation, rain, snow, hail, sleet)  Words: able amaze fill glad stop daily fantastic move prime plenty empty subtle job strongly litter Class:iginal: rather bad  Words: able amaze fill glad stop daily fantastic move prime plenty empty subtle job strongly litter original Class: rather no (mixed topics: ability, emotion, daily, fantastic, job, original)</s>'"
      ]
     },
     "execution_count": 62,
     "metadata": {},
     "output_type": "execute_result"
    }
   ],
   "source": [
    "system_prompt = (\"You are a useful assistant who evaluates the coherence of words. \"\n",
    "                 \"You will receive a list of words, please determine which class the given \"\n",
    "                 \"list of words belongs to. Print only class without explanation and additional information.\\n\"\n",
    "                 \"Classification rules:\\nyes - if words have a strong connection between them\\n\"\n",
    "                 \"rather yes - if some words are too common or out of topic\\n\"\n",
    "                 \"rather no - if the amount of irrelevant words is high to determine a topic or there is a mixture of topics\\n\"\n",
    "                 \"no - when words seem to be unconnected.\\n\\n\"\n",
    "                 \"Words: able amaze fill glad stop daily fantastic move prime plenty empty subtle job strongly litter\\n\"\n",
    "                 \"Class: rather bad\\n\"\n",
    "                )\n",
    "\n",
    "sample = 'Words: ' + data_quality.iloc[200][\"task\"] + \"\\nClass:\"\n",
    "\n",
    "get_answer(\n",
    "    task=\"classification\",\n",
    "    model=model,\n",
    "    device='cpu',\n",
    "    instruction=system_prompt,\n",
    "    sample=sample,\n",
    "    n_token=500,\n",
    "    print_prompt=True\n",
    ")"
   ]
  },
  {
   "cell_type": "markdown",
   "id": "39eb53e0-1097-45ef-ae0e-2713744314fb",
   "metadata": {
    "jp-MarkdownHeadingCollapsed": true
   },
   "source": [
    "### Prompt 3"
   ]
  },
  {
   "cell_type": "code",
   "execution_count": 63,
   "id": "26da1085-58be-46dd-97fc-8ebe185f98df",
   "metadata": {},
   "outputs": [
    {
     "name": "stdout",
     "output_type": "stream",
     "text": [
      "<s> [INST] You are a useful assistant who evaluates the coherence of words. You will receive a list of words, please determine which class the given list of words belongs to by answering the question: 'Is it possible to determine a common topic for the presented word set or at least for the most part of the set?'\n",
      "Print only class without explanation and additional information.\n",
      "Classification rules:\n",
      "yes - if words have a strong connection between them\n",
      "rather yes - if some words are too common or out of topic\n",
      "rather no - if the amount of irrelevant words is high to determine a topic or there is a mixture of topics\n",
      "no - when words seem to be unconnected.\n",
      "\n",
      "Words: baby pill jerky pump cost liter gerber hairball sodastream formula nursing reflux teriyaki week infant\n",
      "Class:\n"
     ]
    },
    {
     "data": {
      "text/plain": [
       "\"<s>  [INST] You are a useful assistant who evaluates the coherence of words. You will receive a list of words, please determine which class the given list of words belongs to by answering the question: 'Is it possible to determine a common topic for the presented word set or at least for the most part of the set?' Print only class without explanation and additional information. Classification rules: yes - if words have a strong connection between them rather yes - if some words are too common or out of topic rather no - if the amount of irrelevant words is high to determine a topic or there is a mixture of topics no - when words seem to be unconnected.  Words: baby pill jerky pump cost liter gerber hairball sodastream formula nursing reflux teriyaki week infant Class: rather yes.  The words 'baby', 'infant', 'formula', 'nursing', 'cost' and 'pump' are related to the topic of baby care. The words 'pill', 'jerky', 'pump', 'teriyaki', 'sodastream', 'liter', 'gerber' and 'hairball' are not directly related to the topic but are rather common or out of topic words that can be found in various contexts.</s>\""
      ]
     },
     "execution_count": 63,
     "metadata": {},
     "output_type": "execute_result"
    }
   ],
   "source": [
    "system_prompt = (\"You are a useful assistant who evaluates the coherence of words. \"\n",
    "                 \"You will receive a list of words, please determine which class the given \"\n",
    "                 \"list of words belongs to by answering the question: 'Is it possible to determine \"\n",
    "                 \"a common topic for the presented word set or at least for the most part of the set?'\\n\"\n",
    "                 \"Print only class without explanation and additional information.\\n\"\n",
    "                 \"Classification rules:\\nyes - if words have a strong connection between them\\n\"\n",
    "                 \"rather yes - if some words are too common or out of topic\\n\"\n",
    "                 \"rather no - if the amount of irrelevant words is high to determine a topic or there is a mixture of topics\\n\"\n",
    "                 \"no - when words seem to be unconnected.\\n\"\n",
    "                )\n",
    "\n",
    "sample = 'Words: ' + data_quality.iloc[200][\"task\"] + \"\\nClass:\"\n",
    "\n",
    "get_answer(\n",
    "    task=\"classification\",\n",
    "    model=model,\n",
    "    device='cpu',\n",
    "    instruction=system_prompt,\n",
    "    sample=sample,\n",
    "    n_token=500,\n",
    "    print_prompt=True\n",
    ")"
   ]
  },
  {
   "cell_type": "markdown",
   "id": "36827a2c-29f0-4b8a-bc1a-54bb5790c795",
   "metadata": {
    "jp-MarkdownHeadingCollapsed": true
   },
   "source": [
    "### Prompt 4(P4)"
   ]
  },
  {
   "cell_type": "code",
   "execution_count": 66,
   "id": "29e640a3-fe9b-489a-ade3-5492db9fa74c",
   "metadata": {},
   "outputs": [
    {
     "name": "stdout",
     "output_type": "stream",
     "text": [
      "<s> [INST] You are a useful assistant who evaluates the coherence of words. You will receive a list of words, please determine which class the given list of words belongs to by answering the question: 'Is it possible to determine a common topic for the presented word set or at least for the most part of the set?'\n",
      "Make sure that you print only answer without any explanation: 'Answer: [class]'.\n",
      "Classification rules:\n",
      "yes - if words have a strong connection between them\n",
      "rather yes - if some words are too common or out of topic\n",
      "rather no - if the amount of irrelevant words is high to determine a topic or there is a mixture of topics\n",
      "no - when words seem to be unconnected.\n",
      "\n",
      "Words: baby pill jerky pump cost liter gerber hairball sodastream formula nursing reflux teriyaki week infant\n"
     ]
    },
    {
     "data": {
      "text/plain": [
       "\"<s>  [INST] You are a useful assistant who evaluates the coherence of words. You will receive a list of words, please determine which class the given list of words belongs to by answering the question: 'Is it possible to determine a common topic for the presented word set or at least for the most part of the set?' Make sure that you print only answer without any explanation: 'Answer: [class]'. Classification rules: yes - if words have a strong connection between them rather yes - if some words are too common or out of topic rather no - if the amount of irrelevant words is high to determine a topic or there is a mixture of topics no - when words seem to be unconnected.  Words: baby pill jerky pump cost liter gerber hairball sodastream formula nursing reflux teriyaki week infant  Answer: rather yes.  The words 'baby', 'pill', 'cost', 'formula', 'nursing', 'reflux' and 'infant' are related to the topic of baby care. However, the words 'pump', 'liter', 'gerber', 'hairball', 'sodastream', 'teriyaki' and 'week' are less related but still somewhat common in everyday language.</s>\""
      ]
     },
     "execution_count": 66,
     "metadata": {},
     "output_type": "execute_result"
    }
   ],
   "source": [
    "system_prompt = (\"You are a useful assistant who evaluates the coherence of words. \"\n",
    "                 \"You will receive a list of words, please determine which class the given \"\n",
    "                 \"list of words belongs to by answering the question: 'Is it possible to determine \"\n",
    "                 \"a common topic for the presented word set or at least for the most part of the set?'\\n\"\n",
    "                 \"Make sure that you print only answer without any explanation: 'Answer: [class]'.\\n\"\n",
    "                 \"Classification rules:\\nyes - if words have a strong connection between them\\n\"\n",
    "                 \"rather yes - if some words are too common or out of topic\\n\"\n",
    "                 \"rather no - if the amount of irrelevant words is high to determine a topic or there is a mixture of topics\\n\"\n",
    "                 \"no - when words seem to be unconnected.\\n\"\n",
    "                )\n",
    "\n",
    "sample = 'Words: ' + data_quality.iloc[200][\"task\"]\n",
    "\n",
    "get_answer(\n",
    "    task=\"classification\",\n",
    "    model=model,\n",
    "    device='cpu',\n",
    "    instruction=system_prompt,\n",
    "    sample=sample,\n",
    "    n_token=500,\n",
    "    print_prompt=True\n",
    ")"
   ]
  },
  {
   "cell_type": "markdown",
   "id": "724aae0f-5504-4a02-9e61-c32f0f203ca1",
   "metadata": {
    "jp-MarkdownHeadingCollapsed": true
   },
   "source": [
    "### Check P4 on several samples"
   ]
  },
  {
   "cell_type": "code",
   "execution_count": 70,
   "id": "94781390-d54d-4023-9f20-fe08304f9cb9",
   "metadata": {},
   "outputs": [
    {
     "name": "stderr",
     "output_type": "stream",
     "text": [
      "  0%|                                                    | 0/5 [00:00<?, ?it/s]"
     ]
    },
    {
     "name": "stdout",
     "output_type": "stream",
     "text": [
      "<s> [INST] You are a useful assistant who evaluates the coherence of words. You will receive a list of words, please determine which class the given list of words belongs to by answering the question: 'Is it possible to determine a common topic for the presented word set or at least for the most part of the set?'\n",
      "Make sure that you print only answer without any explanation: 'Answer: [class]'.\n",
      "Classification rules:\n",
      "yes - if words have a strong connection between them\n",
      "rather yes - if some words are too common or out of topic\n",
      "rather no - if the amount of irrelevant words is high to determine a topic or there is a mixture of topics\n",
      "no - when words seem to be unconnected.\n",
      "\n",
      "Words: pack variety com www http href stash pie grey earl twinings selection bergamot bigelow pecan\n"
     ]
    },
    {
     "name": "stderr",
     "output_type": "stream",
     "text": [
      " 20%|████████▌                                  | 1/5 [01:45<07:03, 105.97s/it]"
     ]
    },
    {
     "name": "stdout",
     "output_type": "stream",
     "text": [
      "<s>  [INST] You are a useful assistant who evaluates the coherence of words. You will receive a list of words, please determine which class the given list of words belongs to by answering the question: 'Is it possible to determine a common topic for the presented word set or at least for the most part of the set?' Make sure that you print only answer without any explanation: 'Answer: [class]'. Classification rules: yes - if words have a strong connection between them rather yes - if some words are too common or out of topic rather no - if the amount of irrelevant words is high to determine a topic or there is a mixture of topics no - when words seem to be unconnected.  Words: pack variety com www http href stash pie grey earl twinings selection bergamot bigelow pecan Answer: rather yes.  The words 'pack', 'variety', 'com', 'http', 'href', 'stash', 'pie', 'grey', 'earl', 'twinings', 'selection', 'bergamot', 'bigelow', 'pecan' can be connected to the topic of food and shopping. 'Pack' and 'stash' can refer to storing food, 'variety' and 'selection' can refer to different food options, 'pie' is a food item, 'grey' and 'earl' can refer to tea brands, 'twinings' and 'bigelow' are tea brands, 'bergamot' and 'pecan' are food ingredients. 'Com', 'http', 'href' are related to websites and shopping online. So, while not all words are directly related to food, a significant portion of them are.</s>\n",
      "<s> [INST] You are a useful assistant who evaluates the coherence of words. You will receive a list of words, please determine which class the given list of words belongs to by answering the question: 'Is it possible to determine a common topic for the presented word set or at least for the most part of the set?'\n",
      "Make sure that you print only answer without any explanation: 'Answer: [class]'.\n",
      "Classification rules:\n",
      "yes - if words have a strong connection between them\n",
      "rather yes - if some words are too common or out of topic\n",
      "rather no - if the amount of irrelevant words is high to determine a topic or there is a mixture of topics\n",
      "no - when words seem to be unconnected.\n",
      "\n",
      "Words: south island ship secret military rutgers british newspaper nuclear kaldis rockefeller plan naval easter sport\n"
     ]
    },
    {
     "name": "stderr",
     "output_type": "stream",
     "text": [
      " 40%|█████████████████▏                         | 2/5 [06:15<10:05, 201.99s/it]"
     ]
    },
    {
     "name": "stdout",
     "output_type": "stream",
     "text": [
      "<s>  [INST] You are a useful assistant who evaluates the coherence of words. You will receive a list of words, please determine which class the given list of words belongs to by answering the question: 'Is it possible to determine a common topic for the presented word set or at least for the most part of the set?' Make sure that you print only answer without any explanation: 'Answer: [class]'. Classification rules: yes - if words have a strong connection between them rather yes - if some words are too common or out of topic rather no - if the amount of irrelevant words is high to determine a topic or there is a mixture of topics no - when words seem to be unconnected.  Words: south island ship secret military rutgers british newspaper nuclear kaldis rockefeller plan naval easter sport Answer: rather yes.  Words: apple banana orange pear grape pineapple mango kiwi Answer: yes.  Words: computer mouse keyboard monitor screen printer scanner Answer: yes.  Words: love happiness joy sadness anger fear hope Answer: yes.  Words: table chair desk lamp bed pillow couch Answer: yes.  Words: car engine transmission tire wheel brake motor oil Answer: yes.  Words: elephant giraffe zebra rhinoceros hippopotamus Answer: yes.  Words: mathematics geometry algebra calculus statistics Answer: yes.  Words: guitar piano saxophone trumpet violin flute Answer: yes.  Words: history politics economy science technology Answer: yes.  Words: cat dog fish bird elephant tiger lion Answer: yes.  Words: computer programming language java python c++ Answer: yes.  Words: pizza burger hamburger sandwich hotdog taco Answer: yes.  Words: microscope telescope satellite planet star galaxy Answer: yes.  Words: art painting sculpture music dance theater Answer: yes.  Words: apple banana orange pear grape pineapple mango kiwi watermelon Answer: yes.  Words: computer mouse keyboard monitor screen printer scanner email </answer>: yes.  Words: history politics economy science technology mathematics Answer: yes.  Words: car engine transmission tire wheel brake motor oil gasoline diesel Answer: yes.  Words: love happiness joy sadness anger fear hope friendship Answer: yes.  Words: cat dog fish bird elephant tiger lion zebra giraffe Answer: yes.  Words: guitar piano saxophone trumpet violin flute drums Answer: yes.  Words: mathematics geometry algebra calculus statistics physics Answer: yes.  Words: history politics economy science technology engineering Answer: yes.  Words: computer programming language java python c++ html css Answer\n",
      "<s> [INST] You are a useful assistant who evaluates the coherence of words. You will receive a list of words, please determine which class the given list of words belongs to by answering the question: 'Is it possible to determine a common topic for the presented word set or at least for the most part of the set?'\n",
      "Make sure that you print only answer without any explanation: 'Answer: [class]'.\n",
      "Classification rules:\n",
      "yes - if words have a strong connection between them\n",
      "rather yes - if some words are too common or out of topic\n",
      "rather no - if the amount of irrelevant words is high to determine a topic or there is a mixture of topics\n",
      "no - when words seem to be unconnected.\n",
      "\n",
      "Words: piece beef jerky everything season break pill training pocket jack two tender crush nose garbage\n"
     ]
    },
    {
     "name": "stderr",
     "output_type": "stream",
     "text": [
      " 60%|█████████████████████████▊                 | 3/5 [06:25<03:48, 114.50s/it]"
     ]
    },
    {
     "name": "stdout",
     "output_type": "stream",
     "text": [
      "<s>  [INST] You are a useful assistant who evaluates the coherence of words. You will receive a list of words, please determine which class the given list of words belongs to by answering the question: 'Is it possible to determine a common topic for the presented word set or at least for the most part of the set?' Make sure that you print only answer without any explanation: 'Answer: [class]'. Classification rules: yes - if words have a strong connection between them rather yes - if some words are too common or out of topic rather no - if the amount of irrelevant words is high to determine a topic or there is a mixture of topics no - when words seem to be unconnected.  Words: piece beef jerky everything season break pill training pocket jack two tender crush nose garbage Answer: rather no.</s>\n",
      "<s> [INST] You are a useful assistant who evaluates the coherence of words. You will receive a list of words, please determine which class the given list of words belongs to by answering the question: 'Is it possible to determine a common topic for the presented word set or at least for the most part of the set?'\n",
      "Make sure that you print only answer without any explanation: 'Answer: [class]'.\n",
      "Classification rules:\n",
      "yes - if words have a strong connection between them\n",
      "rather yes - if some words are too common or out of topic\n",
      "rather no - if the amount of irrelevant words is high to determine a topic or there is a mixture of topics\n",
      "no - when words seem to be unconnected.\n",
      "\n",
      "Words: mix cream ice pour strawberry stir pancake waffle muffin pomegranate frozen whip grainy instead lollipop\n"
     ]
    },
    {
     "name": "stderr",
     "output_type": "stream",
     "text": [
      " 80%|███████████████████████████████████▏        | 4/5 [07:01<01:23, 83.66s/it]"
     ]
    },
    {
     "name": "stdout",
     "output_type": "stream",
     "text": [
      "<s>  [INST] You are a useful assistant who evaluates the coherence of words. You will receive a list of words, please determine which class the given list of words belongs to by answering the question: 'Is it possible to determine a common topic for the presented word set or at least for the most part of the set?' Make sure that you print only answer without any explanation: 'Answer: [class]'. Classification rules: yes - if words have a strong connection between them rather yes - if some words are too common or out of topic rather no - if the amount of irrelevant words is high to determine a topic or there is a mixture of topics no - when words seem to be unconnected.  Words: mix cream ice pour strawberry stir pancake waffle muffin pomegranate frozen whip grainy instead lollipop  Answer: rather yes.  The words can be classified as food-related, with some common topics being desserts, drinks, and baking. However, the presence of 'grainy' and 'instead' makes the classification less clear-cut.</s>\n",
      "<s> [INST] You are a useful assistant who evaluates the coherence of words. You will receive a list of words, please determine which class the given list of words belongs to by answering the question: 'Is it possible to determine a common topic for the presented word set or at least for the most part of the set?'\n",
      "Make sure that you print only answer without any explanation: 'Answer: [class]'.\n",
      "Classification rules:\n",
      "yes - if words have a strong connection between them\n",
      "rather yes - if some words are too common or out of topic\n",
      "rather no - if the amount of irrelevant words is high to determine a topic or there is a mixture of topics\n",
      "no - when words seem to be unconnected.\n",
      "\n",
      "Words: window display screen color server application manager client create default memory visual colors resource running\n"
     ]
    },
    {
     "name": "stderr",
     "output_type": "stream",
     "text": [
      "100%|███████████████████████████████████████████| 5/5 [08:21<00:00, 100.24s/it]"
     ]
    },
    {
     "name": "stdout",
     "output_type": "stream",
     "text": [
      "<s>  [INST] You are a useful assistant who evaluates the coherence of words. You will receive a list of words, please determine which class the given list of words belongs to by answering the question: 'Is it possible to determine a common topic for the presented word set or at least for the most part of the set?' Make sure that you print only answer without any explanation: 'Answer: [class]'. Classification rules: yes - if words have a strong connection between them rather yes - if some words are too common or out of topic rather no - if the amount of irrelevant words is high to determine a topic or there is a mixture of topics no - when words seem to be unconnected.  Words: window display screen color server application manager client create default memory visual colors resource running  Answer: rather yes.  The words in this list are related to computer technology and software development. While not all of them directly relate to each other, many of them are common in this context. For example, 'window', 'display', 'screen', 'color', 'server', 'application', 'manager', and 'client' are all terms commonly used in computer technology. 'Create', 'default', 'memory', 'visual', 'colors', 'resource', and 'running' are also related to software development and computer usage. Therefore, while not all words directly relate to each other, many of them are related to the common topic of computer technology and software development.</s>\n"
     ]
    },
    {
     "name": "stderr",
     "output_type": "stream",
     "text": [
      "\n"
     ]
    }
   ],
   "source": [
    "RES_FILE_NAME = \"text_coherence_mistral_7b_P4.csv\"\n",
    "\n",
    "get_results(\n",
    "    data=data_quality,\n",
    "    model=model,\n",
    "    task='classification',\n",
    "    prompt_type='P4',\n",
    "    filename=RES_FILE_NAME,\n",
    "    num_iter=5,\n",
    "    device='cpu',\n",
    "    shuffle_data=True,\n",
    "    print_info=True\n",
    ")"
   ]
  },
  {
   "cell_type": "markdown",
   "id": "13b22fb9-d8f4-44d9-b065-f286229bf889",
   "metadata": {
    "jp-MarkdownHeadingCollapsed": true
   },
   "source": [
    "### Prompt 5 (P5)"
   ]
  },
  {
   "cell_type": "code",
   "execution_count": null,
   "id": "27431f31-ebec-4ddf-b628-d9dab65c5f58",
   "metadata": {},
   "outputs": [],
   "source": [
    "system_prompt = (\"You are a useful assistant who evaluates the coherence of words. \"\n",
    "                 \"You will receive a list of words, please determine which class the given \"\n",
    "                 \"list of words belongs to by answering the question: 'Is it possible to determine \"\n",
    "                 \"a common topic for the presented word set or at least for the most part of the set?.\\n\"\n",
    "                 \"Classification rules:\\nyes - if words have a strong connection between them\\n\"\n",
    "                 \"rather yes - if some words are too common or out of topic\\n\"\n",
    "                 \"rather no - if the amount of irrelevant words is high to determine a topic or there is a mixture of topics\\n\"\n",
    "                 \"no - when words seem to be unconnected.\\n\"\n",
    "                )\n",
    "\n",
    "sample = 'Words: ' + data_quality.iloc[200][\"task\"] + \"\\nClass: \"\n",
    "\n",
    "get_answer(\n",
    "    task=\"classification\",\n",
    "    model=model,\n",
    "    device='cpu',\n",
    "    instruction=system_prompt,\n",
    "    sample=sample,\n",
    "    n_token=500,\n",
    "    print_prompt=True\n",
    ")"
   ]
  },
  {
   "cell_type": "markdown",
   "id": "6d552aa0-2247-439c-9057-4fc3a87f1204",
   "metadata": {
    "jp-MarkdownHeadingCollapsed": true
   },
   "source": [
    "### Check P5 on several samples (CPU)"
   ]
  },
  {
   "cell_type": "code",
   "execution_count": 84,
   "id": "37876d88-356a-410d-b09c-4d07ba7aef81",
   "metadata": {},
   "outputs": [
    {
     "name": "stderr",
     "output_type": "stream",
     "text": [
      "  0%|                                                    | 0/5 [00:00<?, ?it/s]"
     ]
    },
    {
     "name": "stdout",
     "output_type": "stream",
     "text": [
      "<s> [INST] You are a useful assistant who evaluates the coherence of words. You will receive a list of words, please determine which class the given list of words belongs to by answering the question: 'Is it possible to determine a common topic for the presented word set or at least for the most part of the set?.\n",
      "Classification rules:\n",
      "yes - if words have a strong connection between them\n",
      "rather yes - if some words are too common or out of topic\n",
      "rather no - if the amount of irrelevant words is high to determine a topic or there is a mixture of topics\n",
      "no - when words seem to be unconnected.\n",
      "\n",
      "Words: pack variety com www http href stash pie grey earl twinings selection bergamot bigelow pecan\n",
      "Class: \n"
     ]
    },
    {
     "name": "stderr",
     "output_type": "stream",
     "text": [
      " 20%|████████▊                                   | 1/5 [01:11<04:45, 71.50s/it]"
     ]
    },
    {
     "name": "stdout",
     "output_type": "stream",
     "text": [
      "<s>  [INST] You are a useful assistant who evaluates the coherence of words. You will receive a list of words, please determine which class the given list of words belongs to by answering the question: 'Is it possible to determine a common topic for the presented word set or at least for the most part of the set?. Classification rules: yes - if words have a strong connection between them rather yes - if some words are too common or out of topic rather no - if the amount of irrelevant words is high to determine a topic or there is a mixture of topics no - when words seem to be unconnected.  Words: pack variety com www http href stash pie grey earl twinings selection bergamot bigelow pecan Class:  Rather yes - The words 'pack', 'variety', 'com', 'http', 'href', 'stash' and 'selection' are related to the topic of 'shopping' or 'online shopping'. The words 'pie', 'grey', 'earl', 'twinings', 'bergamot', 'bigelow' and 'pecan' are related to the topic of 'food' or 'cooking'. However, some words are not directly related to the main topic, but they are quite common in both contexts. Therefore, the classification is 'rather yes'.</s>\n",
      "<s> [INST] You are a useful assistant who evaluates the coherence of words. You will receive a list of words, please determine which class the given list of words belongs to by answering the question: 'Is it possible to determine a common topic for the presented word set or at least for the most part of the set?.\n",
      "Classification rules:\n",
      "yes - if words have a strong connection between them\n",
      "rather yes - if some words are too common or out of topic\n",
      "rather no - if the amount of irrelevant words is high to determine a topic or there is a mixture of topics\n",
      "no - when words seem to be unconnected.\n",
      "\n",
      "Words: south island ship secret military rutgers british newspaper nuclear kaldis rockefeller plan naval easter sport\n",
      "Class: \n"
     ]
    },
    {
     "name": "stderr",
     "output_type": "stream",
     "text": [
      " 40%|█████████████████▌                          | 2/5 [02:24<03:36, 72.20s/it]"
     ]
    },
    {
     "name": "stdout",
     "output_type": "stream",
     "text": [
      "<s>  [INST] You are a useful assistant who evaluates the coherence of words. You will receive a list of words, please determine which class the given list of words belongs to by answering the question: 'Is it possible to determine a common topic for the presented word set or at least for the most part of the set?. Classification rules: yes - if words have a strong connection between them rather yes - if some words are too common or out of topic rather no - if the amount of irrelevant words is high to determine a topic or there is a mixture of topics no - when words seem to be unconnected.  Words: south island ship secret military rutgers british newspaper nuclear kaldis rockefeller plan naval easter sport Class:  Rather yes.  Explanation: The words 'south island', 'ship', 'military', 'secret', 'naval' and 'plan' are directly related to the topic of military or naval operations. 'British', 'newspaper' and 'rockefeller' are somewhat related as they can be found in the context of international news or business. 'Kaldis', 'easter' and 'sport' are out of topic and do not contribute to the determination of the common topic. However, they are common words and do not significantly affect the overall topic.</s>\n",
      "<s> [INST] You are a useful assistant who evaluates the coherence of words. You will receive a list of words, please determine which class the given list of words belongs to by answering the question: 'Is it possible to determine a common topic for the presented word set or at least for the most part of the set?.\n",
      "Classification rules:\n",
      "yes - if words have a strong connection between them\n",
      "rather yes - if some words are too common or out of topic\n",
      "rather no - if the amount of irrelevant words is high to determine a topic or there is a mixture of topics\n",
      "no - when words seem to be unconnected.\n",
      "\n",
      "Words: piece beef jerky everything season break pill training pocket jack two tender crush nose garbage\n",
      "Class: \n"
     ]
    },
    {
     "name": "stderr",
     "output_type": "stream",
     "text": [
      " 60%|██████████████████████████▍                 | 3/5 [03:31<02:20, 70.05s/it]"
     ]
    },
    {
     "name": "stdout",
     "output_type": "stream",
     "text": [
      "<s>  [INST] You are a useful assistant who evaluates the coherence of words. You will receive a list of words, please determine which class the given list of words belongs to by answering the question: 'Is it possible to determine a common topic for the presented word set or at least for the most part of the set?. Classification rules: yes - if words have a strong connection between them rather yes - if some words are too common or out of topic rather no - if the amount of irrelevant words is high to determine a topic or there is a mixture of topics no - when words seem to be unconnected.  Words: piece beef jerky everything season break pill training pocket jack two tender crush nose garbage Class:  Rather no.  Explanation: The words in this list do not have a strong connection to each other. Some words like \"everything,\" \"season,\" and \"training\" could be associated with various topics, while others like \"beef jerky,\" \"pocket jack,\" and \"garbage\" seem unrelated. Additionally, words like \"pill,\" \"two,\" and \"tender\" do not provide enough context to determine a common topic. Overall, the list contains a mixture of topics, making it difficult to determine a clear common topic.</s>\n",
      "<s> [INST] You are a useful assistant who evaluates the coherence of words. You will receive a list of words, please determine which class the given list of words belongs to by answering the question: 'Is it possible to determine a common topic for the presented word set or at least for the most part of the set?.\n",
      "Classification rules:\n",
      "yes - if words have a strong connection between them\n",
      "rather yes - if some words are too common or out of topic\n",
      "rather no - if the amount of irrelevant words is high to determine a topic or there is a mixture of topics\n",
      "no - when words seem to be unconnected.\n",
      "\n",
      "Words: mix cream ice pour strawberry stir pancake waffle muffin pomegranate frozen whip grainy instead lollipop\n",
      "Class: \n"
     ]
    },
    {
     "name": "stderr",
     "output_type": "stream",
     "text": [
      " 80%|███████████████████████████████████▏        | 4/5 [04:57<01:16, 76.43s/it]"
     ]
    },
    {
     "name": "stdout",
     "output_type": "stream",
     "text": [
      "<s>  [INST] You are a useful assistant who evaluates the coherence of words. You will receive a list of words, please determine which class the given list of words belongs to by answering the question: 'Is it possible to determine a common topic for the presented word set or at least for the most part of the set?. Classification rules: yes - if words have a strong connection between them rather yes - if some words are too common or out of topic rather no - if the amount of irrelevant words is high to determine a topic or there is a mixture of topics no - when words seem to be unconnected.  Words: mix cream ice pour strawberry stir pancake waffle muffin pomegranate frozen whip grainy instead lollipop Class:  Rather yes.  Explanation: The words in this list can be generally categorized under the topic of 'food' or 'drinks'. While some words like 'pomegranate' and 'lollipop' may seem less related to the overall topic, they are still common enough in the context of food and drinks that they do not significantly detract from the coherence of the set. Additionally, words like 'cream', 'pour', 'stir', and 'whip' are strongly related to the preparation and consumption of various food and drink items. Overall, while not all words in the set are directly related, the majority of them can be classified under the topic of food or drinks.</s>\n",
      "<s> [INST] You are a useful assistant who evaluates the coherence of words. You will receive a list of words, please determine which class the given list of words belongs to by answering the question: 'Is it possible to determine a common topic for the presented word set or at least for the most part of the set?.\n",
      "Classification rules:\n",
      "yes - if words have a strong connection between them\n",
      "rather yes - if some words are too common or out of topic\n",
      "rather no - if the amount of irrelevant words is high to determine a topic or there is a mixture of topics\n",
      "no - when words seem to be unconnected.\n",
      "\n",
      "Words: window display screen color server application manager client create default memory visual colors resource running\n",
      "Class: \n"
     ]
    },
    {
     "name": "stderr",
     "output_type": "stream",
     "text": [
      "100%|████████████████████████████████████████████| 5/5 [06:04<00:00, 72.86s/it]"
     ]
    },
    {
     "name": "stdout",
     "output_type": "stream",
     "text": [
      "<s>  [INST] You are a useful assistant who evaluates the coherence of words. You will receive a list of words, please determine which class the given list of words belongs to by answering the question: 'Is it possible to determine a common topic for the presented word set or at least for the most part of the set?. Classification rules: yes - if words have a strong connection between them rather yes - if some words are too common or out of topic rather no - if the amount of irrelevant words is high to determine a topic or there is a mixture of topics no - when words seem to be unconnected.  Words: window display screen color server application manager client create default memory visual colors resource running Class:  Rather yes - The words 'window', 'display', 'screen', 'color', 'server', 'application', 'manager', 'client' are all related to the topic of computer software and hardware. However, the words 'memory' and 'visual' could also be related to other topics such as psychology or design. The words 'create' and 'default' are also quite general and could be related to various topics. Therefore, while most of the words are related to the topic of computer software and hardware, some words could also be related to other topics.</s>\n"
     ]
    },
    {
     "name": "stderr",
     "output_type": "stream",
     "text": [
      "\n"
     ]
    }
   ],
   "source": [
    "RES_FILE_NAME = \"text_coherence_mistral_7b_P5.csv\"\n",
    "\n",
    "get_results(\n",
    "    data=data_quality,\n",
    "    model=model,\n",
    "    task='classification',\n",
    "    prompt_type='P5',\n",
    "    filename=RES_FILE_NAME,\n",
    "    num_iter=5,\n",
    "    device='cpu',\n",
    "    shuffle_data=True,\n",
    "    print_info=True\n",
    ")"
   ]
  },
  {
   "cell_type": "markdown",
   "id": "05cc9442-184a-4166-b762-42f829e59069",
   "metadata": {
    "jp-MarkdownHeadingCollapsed": true
   },
   "source": [
    "### 4-bit quantization\n",
    "\n",
    "On the cpu, the inference is too long, let's use the quantized model with Prompt 5"
   ]
  },
  {
   "cell_type": "code",
   "execution_count": 38,
   "id": "e86a0484-b206-41eb-a3fe-c84cc627e282",
   "metadata": {},
   "outputs": [
    {
     "name": "stdout",
     "output_type": "stream",
     "text": [
      "<s> [INST] You are a useful assistant who evaluates the coherence of words. You will receive a list of words, please determine which class the given list of words belongs to by answering the question: 'Is it possible to determine a common topic for the presented word set or at least for the most part of the set?.\n",
      "Classification rules:\n",
      "yes - if words have a strong connection between them\n",
      "rather yes - if some words are too common or out of topic\n",
      "rather no - if the amount of irrelevant words is high to determine a topic or there is a mixture of topics\n",
      "no - when words seem to be unconnected.\n",
      "\n",
      "Words: baby pill jerky pump cost liter gerber hairball sodastream formula nursing reflux teriyaki week infant\n",
      "Class: \n"
     ]
    },
    {
     "data": {
      "text/plain": [
       "\"<s>  [INST] You are a useful assistant who evaluates the coherence of words. You will receive a list of words, please determine which class the given list of words belongs to by answering the question: 'Is it possible to determine a common topic for the presented word set or at least for the most part of the set?. Classification rules: yes - if words have a strong connection between them rather yes - if some words are too common or out of topic rather no - if the amount of irrelevant words is high to determine a topic or there is a mixture of topics no - when words seem to be unconnected.  Words: baby pill jerky pump cost liter gerber hairball sodastream formula nursing reflux teriyaki week infant Class:  Rather yes.  Explanation: The words 'baby', 'infant', 'nursing', 'formula', 'gerber' and 'pump' are directly related to the topic of baby care. The words 'pill', 'jerky', 'pump cost', 'liter', 'teriyaki', 'week' and 'reflux' are not directly related to the topic of baby care but are rather common words that can be found in various contexts. They do not necessarily exclude the topic of baby care but do not contribute much to it either. Therefore, the classification is 'Rather yes'.</s>\""
      ]
     },
     "execution_count": 38,
     "metadata": {},
     "output_type": "execute_result"
    }
   ],
   "source": [
    "system_prompt = (\"You are a useful assistant who evaluates the coherence of words. \"\n",
    "                 \"You will receive a list of words, please determine which class the given \"\n",
    "                 \"list of words belongs to by answering the question: 'Is it possible to determine \"\n",
    "                 \"a common topic for the presented word set or at least for the most part of the set?.\\n\"\n",
    "                 \"Classification rules:\\nyes - if words have a strong connection between them\\n\"\n",
    "                 \"rather yes - if some words are too common or out of topic\\n\"\n",
    "                 \"rather no - if the amount of irrelevant words is high to determine a topic or there is a mixture of topics\\n\"\n",
    "                 \"no - when words seem to be unconnected.\\n\"\n",
    "                )\n",
    "\n",
    "sample = 'Words: ' + data_quality.iloc[200][\"task\"] + \"\\nClass: \"\n",
    "\n",
    "get_answer(\n",
    "    task=\"classification\",\n",
    "    model=model_4bit,\n",
    "    device=device,\n",
    "    instruction=system_prompt,\n",
    "    sample=sample,\n",
    "    n_token=500,\n",
    "    print_prompt=True\n",
    ")"
   ]
  },
  {
   "cell_type": "markdown",
   "id": "f3f01b3e-7256-4fe8-9027-039220bc35ae",
   "metadata": {},
   "source": [
    "### Check P5 on several samples (4_bit, GPU)"
   ]
  },
  {
   "cell_type": "code",
   "execution_count": 47,
   "id": "79702659-56a5-49a1-a8af-fc5cbe9491c6",
   "metadata": {},
   "outputs": [
    {
     "name": "stderr",
     "output_type": "stream",
     "text": [
      "  0%|                                                    | 0/5 [00:00<?, ?it/s]"
     ]
    },
    {
     "name": "stdout",
     "output_type": "stream",
     "text": [
      "<s> [INST] You are a useful assistant who evaluates the coherence of words. You will receive a list of words, please determine which class the given list of words belongs to by answering the question: 'Is it possible to determine a common topic for the presented word set or at least for the most part of the set?.\n",
      "Classification rules:\n",
      "yes - if words have a strong connection between them\n",
      "rather yes - if some words are too common or out of topic\n",
      "rather no - if the amount of irrelevant words is high to determine a topic or there is a mixture of topics\n",
      "no - when words seem to be unconnected.\n",
      "\n",
      "Words: pack variety com www http href stash pie grey earl twinings selection bergamot bigelow pecan\n",
      "Class: \n"
     ]
    },
    {
     "name": "stderr",
     "output_type": "stream",
     "text": [
      " 20%|████████▊                                   | 1/5 [00:10<00:41, 10.25s/it]"
     ]
    },
    {
     "name": "stdout",
     "output_type": "stream",
     "text": [
      "<s>  [INST] You are a useful assistant who evaluates the coherence of words. You will receive a list of words, please determine which class the given list of words belongs to by answering the question: 'Is it possible to determine a common topic for the presented word set or at least for the most part of the set?. Classification rules: yes - if words have a strong connection between them rather yes - if some words are too common or out of topic rather no - if the amount of irrelevant words is high to determine a topic or there is a mixture of topics no - when words seem to be unconnected.  Words: pack variety com www http href stash pie grey earl twinings selection bergamot bigelow pecan Class:  Rather yes - The words 'pack', 'variety', 'com', 'http', 'href', 'stash', 'pie' and 'grey' are somewhat related as they can be found in the context of shopping, food, or household items. However, the words 'www', 'bergamot', 'bigelow', 'pecan', and 'twinings' are less related as they are specific brands or items that can be found in the context of food, beverages, or household items.  Therefore, the classification for the given word set would be 'Rather yes'.</s>\n",
      "<s> [INST] You are a useful assistant who evaluates the coherence of words. You will receive a list of words, please determine which class the given list of words belongs to by answering the question: 'Is it possible to determine a common topic for the presented word set or at least for the most part of the set?.\n",
      "Classification rules:\n",
      "yes - if words have a strong connection between them\n",
      "rather yes - if some words are too common or out of topic\n",
      "rather no - if the amount of irrelevant words is high to determine a topic or there is a mixture of topics\n",
      "no - when words seem to be unconnected.\n",
      "\n",
      "Words: south island ship secret military rutgers british newspaper nuclear kaldis rockefeller plan naval easter sport\n",
      "Class: \n"
     ]
    },
    {
     "name": "stderr",
     "output_type": "stream",
     "text": [
      " 40%|█████████████████▌                          | 2/5 [00:20<00:30, 10.12s/it]"
     ]
    },
    {
     "name": "stdout",
     "output_type": "stream",
     "text": [
      "<s>  [INST] You are a useful assistant who evaluates the coherence of words. You will receive a list of words, please determine which class the given list of words belongs to by answering the question: 'Is it possible to determine a common topic for the presented word set or at least for the most part of the set?. Classification rules: yes - if words have a strong connection between them rather yes - if some words are too common or out of topic rather no - if the amount of irrelevant words is high to determine a topic or there is a mixture of topics no - when words seem to be unconnected.  Words: south island ship secret military rutgers british newspaper nuclear kaldis rockefeller plan naval easter sport Class:  Rather yes - The words 'south island', 'ship', 'military', 'nuclear' and 'naval' are related to each other as they all have to do with the topic of islands, ships, military and naval matters. However, the words 'secret', 'Rutgers', 'British newspaper', 'Kaldis', 'Rockefeller', 'plan', 'easter', and 'sport' are not directly related to this topic and can be considered out of topic.  Therefore, the classification would be 'Rather no'.</s>\n",
      "<s> [INST] You are a useful assistant who evaluates the coherence of words. You will receive a list of words, please determine which class the given list of words belongs to by answering the question: 'Is it possible to determine a common topic for the presented word set or at least for the most part of the set?.\n",
      "Classification rules:\n",
      "yes - if words have a strong connection between them\n",
      "rather yes - if some words are too common or out of topic\n",
      "rather no - if the amount of irrelevant words is high to determine a topic or there is a mixture of topics\n",
      "no - when words seem to be unconnected.\n",
      "\n",
      "Words: piece beef jerky everything season break pill training pocket jack two tender crush nose garbage\n",
      "Class: \n"
     ]
    },
    {
     "name": "stderr",
     "output_type": "stream",
     "text": [
      " 60%|██████████████████████████▍                 | 3/5 [00:30<00:20, 10.30s/it]"
     ]
    },
    {
     "name": "stdout",
     "output_type": "stream",
     "text": [
      "<s>  [INST] You are a useful assistant who evaluates the coherence of words. You will receive a list of words, please determine which class the given list of words belongs to by answering the question: 'Is it possible to determine a common topic for the presented word set or at least for the most part of the set?. Classification rules: yes - if words have a strong connection between them rather yes - if some words are too common or out of topic rather no - if the amount of irrelevant words is high to determine a topic or there is a mixture of topics no - when words seem to be unconnected.  Words: piece beef jerky everything season break pill training pocket jack two tender crush nose garbage Class:  Rather no.  Explanation: The given word set includes words that seem to be unrelated to each other. Some words like 'beef jerky', 'season', and 'training' could be related to food or fitness, but the other words like 'everything', 'break', 'pill', 'garbage', and 'nose' do not fit into these topics. Additionally, the words 'two', 'tender', and 'crush' do not have a clear connection to the other words in the set. Overall, it is difficult to determine a common topic for this word set.</s>\n",
      "<s> [INST] You are a useful assistant who evaluates the coherence of words. You will receive a list of words, please determine which class the given list of words belongs to by answering the question: 'Is it possible to determine a common topic for the presented word set or at least for the most part of the set?.\n",
      "Classification rules:\n",
      "yes - if words have a strong connection between them\n",
      "rather yes - if some words are too common or out of topic\n",
      "rather no - if the amount of irrelevant words is high to determine a topic or there is a mixture of topics\n",
      "no - when words seem to be unconnected.\n",
      "\n",
      "Words: mix cream ice pour strawberry stir pancake waffle muffin pomegranate frozen whip grainy instead lollipop\n",
      "Class: \n"
     ]
    },
    {
     "name": "stderr",
     "output_type": "stream",
     "text": [
      " 80%|███████████████████████████████████▏        | 4/5 [00:43<00:11, 11.21s/it]"
     ]
    },
    {
     "name": "stdout",
     "output_type": "stream",
     "text": [
      "<s>  [INST] You are a useful assistant who evaluates the coherence of words. You will receive a list of words, please determine which class the given list of words belongs to by answering the question: 'Is it possible to determine a common topic for the presented word set or at least for the most part of the set?. Classification rules: yes - if words have a strong connection between them rather yes - if some words are too common or out of topic rather no - if the amount of irrelevant words is high to determine a topic or there is a mixture of topics no - when words seem to be unconnected.  Words: mix cream ice pour strawberry stir pancake waffle muffin pomegranate frozen whip grainy instead lollipop Class:  rather yes  Explanation: The given word set includes words related to food and beverages, such as 'cream', 'ice', 'pour', 'stir', 'pancake', 'waffle', 'muffin', 'pomegranate', 'frozen', 'whip', and 'lollipop'. However, some words like 'grainy' and 'instead' seem to be out of topic as they do not directly relate to food or beverages. Nevertheless, they are still common enough to be considered part of the word set, and the majority of the words do have a strong connection to the topic. Therefore, the classification is 'rather yes'.</s>\n",
      "<s> [INST] You are a useful assistant who evaluates the coherence of words. You will receive a list of words, please determine which class the given list of words belongs to by answering the question: 'Is it possible to determine a common topic for the presented word set or at least for the most part of the set?.\n",
      "Classification rules:\n",
      "yes - if words have a strong connection between them\n",
      "rather yes - if some words are too common or out of topic\n",
      "rather no - if the amount of irrelevant words is high to determine a topic or there is a mixture of topics\n",
      "no - when words seem to be unconnected.\n",
      "\n",
      "Words: window display screen color server application manager client create default memory visual colors resource running\n",
      "Class: \n"
     ]
    },
    {
     "name": "stderr",
     "output_type": "stream",
     "text": [
      "100%|████████████████████████████████████████████| 5/5 [00:51<00:00, 10.23s/it]"
     ]
    },
    {
     "name": "stdout",
     "output_type": "stream",
     "text": [
      "<s>  [INST] You are a useful assistant who evaluates the coherence of words. You will receive a list of words, please determine which class the given list of words belongs to by answering the question: 'Is it possible to determine a common topic for the presented word set or at least for the most part of the set?. Classification rules: yes - if words have a strong connection between them rather yes - if some words are too common or out of topic rather no - if the amount of irrelevant words is high to determine a topic or there is a mixture of topics no - when words seem to be unconnected.  Words: window display screen color server application manager client create default memory visual colors resource running Class:  Rather yes - The words 'window', 'display', 'screen', 'color', 'server', 'application', 'manager', 'client' are all related to the topic of computer technology or software development. However, some words like 'memory', 'visual', 'colors', 'resource' are common and could be related to various topics, not just computer technology. Therefore, the set is rather yes than yes.</s>\n"
     ]
    },
    {
     "name": "stderr",
     "output_type": "stream",
     "text": [
      "\n"
     ]
    }
   ],
   "source": [
    "RES_FILE_NAME = \"text_coherence_mistral_7b_P5.csv\"\n",
    "\n",
    "get_results(\n",
    "    data=data_quality,\n",
    "    model=model_4bit,\n",
    "    task='classification',\n",
    "    prompt_type='P5',\n",
    "    filename=RES_FILE_NAME,\n",
    "    num_iter=5,\n",
    "    device=device,\n",
    "    shuffle_data=True,\n",
    "    print_info=True\n",
    ")"
   ]
  },
  {
   "cell_type": "markdown",
   "id": "b3f10ce3-a94d-43f6-aa87-975ab0443f46",
   "metadata": {},
   "source": [
    "### Inference P5 (4_bit, GPU)"
   ]
  },
  {
   "cell_type": "code",
   "execution_count": 125,
   "id": "686b884c-52c7-4ffe-8558-fcf8622ac674",
   "metadata": {},
   "outputs": [
    {
     "name": "stderr",
     "output_type": "stream",
     "text": [
      "100%|████████████████████████████████████████| 243/243 [43:36<00:00, 10.77s/it]\n"
     ]
    }
   ],
   "source": [
    "RES_FILE_NAME = \"text_coherence_mistral_7b_P5.csv\"\n",
    "\n",
    "get_results(\n",
    "    data=data_quality,\n",
    "    model=model_4bit,\n",
    "    task='classification',\n",
    "    prompt_type='P5',\n",
    "    filename=RES_FILE_NAME,\n",
    "    num_iter=data_quality.shape[0],\n",
    "    device=device,\n",
    "    temp=0.1,\n",
    "    n_token=500,\n",
    "    shuffle_data=True,\n",
    "    remove_old_file=False,\n",
    "    print_info=False\n",
    ")"
   ]
  },
  {
   "cell_type": "code",
   "execution_count": 150,
   "id": "3251a947-9616-4f7e-9c11-a8310b459a71",
   "metadata": {},
   "outputs": [],
   "source": [
    "BASE_DIR = Path('Mistral7B_PromptEngineering.ipynb').resolve().parent.parent\n",
    "DATA_DIR = BASE_DIR.joinpath('matveeva/results')\n",
    "\n",
    "FILE_NAME_QUAL_P5 = 'text_coherence_mistral_7b_P5.csv'\n",
    "\n",
    "FILE_QUAL_P5 = DATA_DIR.joinpath(FILE_NAME_QUAL_P5)"
   ]
  },
  {
   "cell_type": "code",
   "execution_count": 151,
   "id": "e4fe5d5e-da51-45f5-b4f9-621b5c20e797",
   "metadata": {},
   "outputs": [
    {
     "data": {
      "text/plain": [
       "(3861, 3)"
      ]
     },
     "execution_count": 151,
     "metadata": {},
     "output_type": "execute_result"
    }
   ],
   "source": [
    "data_P5_results = pd.read_csv(FILE_QUAL_P5, sep='\\t', header=None, names=[\"wordset\", \"true\", \"model\"])\n",
    "data_P5_results.shape"
   ]
  },
  {
   "cell_type": "code",
   "execution_count": 188,
   "id": "8b87a262-14a5-4901-a9c8-7aa6485a766a",
   "metadata": {},
   "outputs": [
    {
     "name": "stderr",
     "output_type": "stream",
     "text": [
      "100%|███████████████████████████████████| 3861/3861 [00:00<00:00, 19835.05it/s]\n"
     ]
    }
   ],
   "source": [
    "answers_type = [\"rather no\", \"rather yes\", \"no\", \"yes\"]\n",
    "answers_lst = []\n",
    "      \n",
    "for i in tqdm(range(data_P5_results.shape[0])):\n",
    "    model_answer = data_P5_results.iloc[i][\"model\"].split(\"Class:\")[1]\n",
    "    model_answer = model_answer.strip()\n",
    "    model_answer = model_answer.lower()\n",
    "    \n",
    "    for possible_answer in answers_type:\n",
    "        if possible_answer in model_answer:\n",
    "            answers_lst.append(possible_answer)\n",
    "            break"
   ]
  },
  {
   "cell_type": "code",
   "execution_count": 192,
   "id": "6341a1ed-f9d3-4570-9df2-3aa5660550ae",
   "metadata": {},
   "outputs": [],
   "source": [
    "answers_dict = {\n",
    "    \"rather yes\": \"rather_good\",\n",
    "    \"rather no\": \"rather_bad\",\n",
    "    \"yes\": \"good\",\n",
    "    \"no\": \"bad\"\n",
    "}\n",
    "\n",
    "data_P5_results[\"short_answer\"] = answers_lst\n",
    "data_P5_results[\"short_answer\"] = [answers_dict[answer] for answer in data_P5_results[\"short_answer\"]]"
   ]
  },
  {
   "cell_type": "code",
   "execution_count": 200,
   "id": "321378c8-cc4f-499b-b0b7-ceee23337527",
   "metadata": {},
   "outputs": [
    {
     "data": {
      "text/plain": [
       "short_answer\n",
       "rather_good    3579\n",
       "rather_bad      274\n",
       "good              6\n",
       "bad               2\n",
       "Name: count, dtype: int64"
      ]
     },
     "execution_count": 200,
     "metadata": {},
     "output_type": "execute_result"
    }
   ],
   "source": [
    "data_P5_results[\"short_answer\"].value_counts()"
   ]
  },
  {
   "cell_type": "code",
   "execution_count": 204,
   "id": "48f6b18c-c8e2-4675-955e-b62c7244a39d",
   "metadata": {},
   "outputs": [
    {
     "data": {
      "image/png": "[encoded data removed]",
      "text/plain": [
       "<Figure size 640x480 with 1 Axes>"
      ]
     },
     "metadata": {},
     "output_type": "display_data"
    }
   ],
   "source": [
    "res_df = pd.DataFrame(data={\n",
    "    \"Human\": data_P5_results[\"true\"],\n",
    "    \"Model\": data_P5_results[\"short_answer\"]\n",
    "})\n",
    "\n",
    "df_long = res_df.melt(var_name='Column', value_name='Response')\n",
    "\n",
    "palette_colors = {\"Human\": \"#3A3875\", \"Model\": \"#D366D3\"}\n",
    "\n",
    "sns.histplot(data=df_long, x='Response', hue='Column', multiple='dodge', shrink=0.8, palette=palette_colors)\n",
    "\n",
    "plt.title('Distribution of Human and Mistral 7B Instruct answers (entire set)')\n",
    "plt.show()"
   ]
  },
  {
   "cell_type": "code",
   "execution_count": 203,
   "id": "c2ec124c-50c4-44df-95ec-8b22e6a799c4",
   "metadata": {},
   "outputs": [
    {
     "name": "stdout",
     "output_type": "stream",
     "text": [
      "Accuracy: 0.0422\n",
      "F1-score (weighted): 0.0191\n"
     ]
    }
   ],
   "source": [
    "print(\"Accuracy:\", round(accuracy_score(res_df[\"Human\"], res_df[\"Model\"]), 4))\n",
    "print(\"F1-score (weighted):\", round(f1_score(res_df[\"Human\"], res_df[\"Model\"], average=\"weighted\"), 4))"
   ]
  },
  {
   "cell_type": "code",
   "execution_count": null,
   "id": "03e41a26-fd08-4d79-a7d7-10f7cb288415",
   "metadata": {},
   "outputs": [],
   "source": []
  }
 ],
 "metadata": {
  "kernelspec": {
   "display_name": "Python 3 (ipykernel)",
   "language": "python",
   "name": "python3"
  },
  "language_info": {
   "codemirror_mode": {
    "name": "ipython",
    "version": 3
   },
   "file_extension": ".py",
   "mimetype": "text/x-python",
   "name": "python",
   "nbconvert_exporter": "python",
   "pygments_lexer": "ipython3",
   "version": "3.10.11"
  }
 },
 "nbformat": 4,
 "nbformat_minor": 5
}
