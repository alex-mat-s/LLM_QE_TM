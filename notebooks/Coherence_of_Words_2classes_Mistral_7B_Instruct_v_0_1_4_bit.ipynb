{
  "cells": [
    {
      "cell_type": "code",
      "execution_count": null,
      "metadata": {
        "colab": {
          "base_uri": "https://localhost:8080/"
        },
        "id": "N9nSQwEgK6pP",
        "outputId": "4250d45f-f175-4f90-dec8-7df1573ed0cb"
      },
      "outputs": [
        {
          "name": "stdout",
          "output_type": "stream",
          "text": [
            "\u001b[2K     \u001b[90m━━━━━━━━━━━━━━━━━━━━━━━━━━━━━━━━━━━━━━━━\u001b[0m \u001b[32m8.8/8.8 MB\u001b[0m \u001b[31m24.3 MB/s\u001b[0m eta \u001b[36m0:00:00\u001b[0m\n",
            "\u001b[2K     \u001b[90m━━━━━━━━━━━━━━━━━━━━━━━━━━━━━━━━━━━━━━━━\u001b[0m \u001b[32m290.1/290.1 kB\u001b[0m \u001b[31m2.7 MB/s\u001b[0m eta \u001b[36m0:00:00\u001b[0m\n",
            "\u001b[2K     \u001b[90m━━━━━━━━━━━━━━━━━━━━━━━━━━━━━━━━━━━━━━━━\u001b[0m \u001b[32m23.7/23.7 MB\u001b[0m \u001b[31m48.2 MB/s\u001b[0m eta \u001b[36m0:00:00\u001b[0m\n",
            "\u001b[2K     \u001b[90m━━━━━━━━━━━━━━━━━━━━━━━━━━━━━━━━━━━━━━━━\u001b[0m \u001b[32m823.6/823.6 kB\u001b[0m \u001b[31m63.6 MB/s\u001b[0m eta \u001b[36m0:00:00\u001b[0m\n",
            "\u001b[2K     \u001b[90m━━━━━━━━━━━━━━━━━━━━━━━━━━━━━━━━━━━━━━━━\u001b[0m \u001b[32m14.1/14.1 MB\u001b[0m \u001b[31m55.0 MB/s\u001b[0m eta \u001b[36m0:00:00\u001b[0m\n",
            "\u001b[2K     \u001b[90m━━━━━━━━━━━━━━━━━━━━━━━━━━━━━━━━━━━━━━━━\u001b[0m \u001b[32m731.7/731.7 MB\u001b[0m \u001b[31m2.3 MB/s\u001b[0m eta \u001b[36m0:00:00\u001b[0m\n",
            "\u001b[2K     \u001b[90m━━━━━━━━━━━━━━━━━━━━━━━━━━━━━━━━━━━━━━━━\u001b[0m \u001b[32m410.6/410.6 MB\u001b[0m \u001b[31m2.4 MB/s\u001b[0m eta \u001b[36m0:00:00\u001b[0m\n",
            "\u001b[2K     \u001b[90m━━━━━━━━━━━━━━━━━━━━━━━━━━━━━━━━━━━━━━━━\u001b[0m \u001b[32m121.6/121.6 MB\u001b[0m \u001b[31m7.0 MB/s\u001b[0m eta \u001b[36m0:00:00\u001b[0m\n",
            "\u001b[2K     \u001b[90m━━━━━━━━━━━━━━━━━━━━━━━━━━━━━━━━━━━━━━━━\u001b[0m \u001b[32m56.5/56.5 MB\u001b[0m \u001b[31m8.3 MB/s\u001b[0m eta \u001b[36m0:00:00\u001b[0m\n",
            "\u001b[2K     \u001b[90m━━━━━━━━━━━━━━━━━━━━━━━━━━━━━━━━━━━━━━━━\u001b[0m \u001b[32m124.2/124.2 MB\u001b[0m \u001b[31m6.8 MB/s\u001b[0m eta \u001b[36m0:00:00\u001b[0m\n",
            "\u001b[2K     \u001b[90m━━━━━━━━━━━━━━━━━━━━━━━━━━━━━━━━━━━━━━━━\u001b[0m \u001b[32m196.0/196.0 MB\u001b[0m \u001b[31m5.2 MB/s\u001b[0m eta \u001b[36m0:00:00\u001b[0m\n",
            "\u001b[2K     \u001b[90m━━━━━━━━━━━━━━━━━━━━━━━━━━━━━━━━━━━━━━━━\u001b[0m \u001b[32m166.0/166.0 MB\u001b[0m \u001b[31m6.5 MB/s\u001b[0m eta \u001b[36m0:00:00\u001b[0m\n",
            "\u001b[2K     \u001b[90m━━━━━━━━━━━━━━━━━━━━━━━━━━━━━━━━━━━━━━━━\u001b[0m \u001b[32m99.1/99.1 kB\u001b[0m \u001b[31m12.9 MB/s\u001b[0m eta \u001b[36m0:00:00\u001b[0m\n",
            "\u001b[2K     \u001b[90m━━━━━━━━━━━━━━━━━━━━━━━━━━━━━━━━━━━━━━━━\u001b[0m \u001b[32m21.1/21.1 MB\u001b[0m \u001b[31m23.7 MB/s\u001b[0m eta \u001b[36m0:00:00\u001b[0m\n",
            "\u001b[2K     \u001b[90m━━━━━━━━━━━━━━━━━━━━━━━━━━━━━━━━━━━━━━━━\u001b[0m \u001b[32m102.2/102.2 MB\u001b[0m \u001b[31m9.2 MB/s\u001b[0m eta \u001b[36m0:00:00\u001b[0m\n",
            "\u001b[?25h"
          ]
        }
      ],
      "source": [
        "!pip install -q -U transformers\n",
        "!pip install -q -U accelerate\n",
        "!pip install -q -U bitsandbytes"
      ]
    },
    {
      "cell_type": "code",
      "execution_count": 1,
      "metadata": {
        "id": "axPjfVcrJGKn"
      },
      "outputs": [],
      "source": [
        "from pathlib import Path\n",
        "import pandas as pd\n",
        "\n",
        "from transformers import AutoTokenizer, AutoModelForCausalLM, BitsAndBytesConfig\n",
        "import torch\n",
        "import os\n",
        "from tqdm import tqdm"
      ]
    },
    {
      "cell_type": "markdown",
      "metadata": {
        "id": "CP7w77e5HTUb"
      },
      "source": [
        "## Read Data"
      ]
    },
    {
      "cell_type": "code",
      "execution_count": null,
      "metadata": {
        "id": "NxGz3tGeHGsz"
      },
      "outputs": [],
      "source": [
        "# Run this cell if you are using Google Colaboratory\n",
        "\n",
        "# from google.colab import drive\n",
        "# drive.mount('/content/drive')\n",
        "\n",
        "# BASE_DIR = Path(f\"/content/drive/MyDrive/{your_path}\")\n",
        "# DATA_DIR = BASE_DIR.joinpath(\"data\")  # Please upload the data_quality_estim.csv dataset to the data folder \n",
        "\n",
        "# FILE_NAME = \"data_quality_estim.csv\"\n",
        "\n",
        "# FILE = DATA_DIR.joinpath(FILE_NAME)"
      ]
    },
    {
      "cell_type": "code",
      "execution_count": 6,
      "metadata": {},
      "outputs": [],
      "source": [
        "BASE_DIR = Path('Coherence_of_Words_2classes_Mistral-7B-Instruct-v.0.1_4_bit.ipynb').resolve().parent.parent\n",
        "\n",
        "DATA_DIR_NAME = 'data/datasets'  # Local directory\n",
        "\n",
        "DATA_DIR = BASE_DIR.joinpath(DATA_DIR_NAME)\n",
        "FILE_NAME_QUAL = 'data_quality_estim.csv'\n",
        "\n",
        "FILE = DATA_DIR.joinpath(FILE_NAME_QUAL)"
      ]
    },
    {
      "cell_type": "code",
      "execution_count": 7,
      "metadata": {
        "colab": {
          "base_uri": "https://localhost:8080/",
          "height": 363
        },
        "id": "gYkUIDzRI-yF",
        "outputId": "1ef57176-6d2e-4060-ee0e-1cd664acb165"
      },
      "outputs": [
        {
          "data": {
            "text/html": [
              "<div>\n",
              "<style scoped>\n",
              "    .dataframe tbody tr th:only-of-type {\n",
              "        vertical-align: middle;\n",
              "    }\n",
              "\n",
              "    .dataframe tbody tr th {\n",
              "        vertical-align: top;\n",
              "    }\n",
              "\n",
              "    .dataframe thead th {\n",
              "        text-align: right;\n",
              "    }\n",
              "</style>\n",
              "<table border=\"1\" class=\"dataframe\">\n",
              "  <thead>\n",
              "    <tr style=\"text-align: right;\">\n",
              "      <th></th>\n",
              "      <th>task</th>\n",
              "      <th>agg_label</th>\n",
              "    </tr>\n",
              "  </thead>\n",
              "  <tbody>\n",
              "    <tr>\n",
              "      <th>0</th>\n",
              "      <td>able amaze fill glad stop daily fantastic move...</td>\n",
              "      <td>bad</td>\n",
              "    </tr>\n",
              "    <tr>\n",
              "      <th>1</th>\n",
              "      <td>able amaze fill stop glad daily fantastic move...</td>\n",
              "      <td>bad</td>\n",
              "    </tr>\n",
              "    <tr>\n",
              "      <th>2</th>\n",
              "      <td>able amaze fill stop glad daily fantastic move...</td>\n",
              "      <td>bad</td>\n",
              "    </tr>\n",
              "    <tr>\n",
              "      <th>3</th>\n",
              "      <td>able amaze glad fill stop fantastic daily move...</td>\n",
              "      <td>bad</td>\n",
              "    </tr>\n",
              "    <tr>\n",
              "      <th>4</th>\n",
              "      <td>absolute church truth doug scripture symbol li...</td>\n",
              "      <td>good</td>\n",
              "    </tr>\n",
              "    <tr>\n",
              "      <th>5</th>\n",
              "      <td>absolute church truth mission nasa doug mars e...</td>\n",
              "      <td>bad</td>\n",
              "    </tr>\n",
              "    <tr>\n",
              "      <th>6</th>\n",
              "      <td>absolute mission church nasa mars earth truth ...</td>\n",
              "      <td>good</td>\n",
              "    </tr>\n",
              "    <tr>\n",
              "      <th>7</th>\n",
              "      <td>absolutely fast white rice service noodle terr...</td>\n",
              "      <td>bad</td>\n",
              "    </tr>\n",
              "    <tr>\n",
              "      <th>8</th>\n",
              "      <td>absolutely fast white super service customer r...</td>\n",
              "      <td>good</td>\n",
              "    </tr>\n",
              "    <tr>\n",
              "      <th>9</th>\n",
              "      <td>absolutely grain experience soon there's proce...</td>\n",
              "      <td>bad</td>\n",
              "    </tr>\n",
              "  </tbody>\n",
              "</table>\n",
              "</div>"
            ],
            "text/plain": [
              "                                                task agg_label\n",
              "0  able amaze fill glad stop daily fantastic move...       bad\n",
              "1  able amaze fill stop glad daily fantastic move...       bad\n",
              "2  able amaze fill stop glad daily fantastic move...       bad\n",
              "3  able amaze glad fill stop fantastic daily move...       bad\n",
              "4  absolute church truth doug scripture symbol li...      good\n",
              "5  absolute church truth mission nasa doug mars e...       bad\n",
              "6  absolute mission church nasa mars earth truth ...      good\n",
              "7  absolutely fast white rice service noodle terr...       bad\n",
              "8  absolutely fast white super service customer r...      good\n",
              "9  absolutely grain experience soon there's proce...       bad"
            ]
          },
          "execution_count": 7,
          "metadata": {},
          "output_type": "execute_result"
        }
      ],
      "source": [
        "data = pd.read_csv(FILE)\n",
        "data.head(10)"
      ]
    },
    {
      "cell_type": "code",
      "execution_count": null,
      "metadata": {
        "colab": {
          "base_uri": "https://localhost:8080/"
        },
        "id": "J-OMbDNbJQBi",
        "outputId": "a3e32f28-c884-4c90-cd89-071a6b704bdc"
      },
      "outputs": [
        {
          "name": "stdout",
          "output_type": "stream",
          "text": [
            "<class 'pandas.core.frame.DataFrame'>\n",
            "RangeIndex: 3861 entries, 0 to 3860\n",
            "Data columns (total 2 columns):\n",
            " #   Column     Non-Null Count  Dtype \n",
            "---  ------     --------------  ----- \n",
            " 0   task       3861 non-null   object\n",
            " 1   agg_label  3861 non-null   object\n",
            "dtypes: object(2)\n",
            "memory usage: 60.5+ KB\n"
          ]
        }
      ],
      "source": [
        "data.info()"
      ]
    },
    {
      "cell_type": "code",
      "execution_count": null,
      "metadata": {
        "colab": {
          "base_uri": "https://localhost:8080/"
        },
        "id": "ARNN9pT_J1zB",
        "outputId": "f3fac208-16bb-4178-f979-bbb8574e3fa8"
      },
      "outputs": [
        {
          "name": "stdout",
          "output_type": "stream",
          "text": [
            "Sun Mar 24 19:47:14 2024       \n",
            "+---------------------------------------------------------------------------------------+\n",
            "| NVIDIA-SMI 535.104.05             Driver Version: 535.104.05   CUDA Version: 12.2     |\n",
            "|-----------------------------------------+----------------------+----------------------+\n",
            "| GPU  Name                 Persistence-M | Bus-Id        Disp.A | Volatile Uncorr. ECC |\n",
            "| Fan  Temp   Perf          Pwr:Usage/Cap |         Memory-Usage | GPU-Util  Compute M. |\n",
            "|                                         |                      |               MIG M. |\n",
            "|=========================================+======================+======================|\n",
            "|   0  Tesla T4                       Off | 00000000:00:04.0 Off |                    0 |\n",
            "| N/A   44C    P8              11W /  70W |      0MiB / 15360MiB |      0%      Default |\n",
            "|                                         |                      |                  N/A |\n",
            "+-----------------------------------------+----------------------+----------------------+\n",
            "                                                                                         \n",
            "+---------------------------------------------------------------------------------------+\n",
            "| Processes:                                                                            |\n",
            "|  GPU   GI   CI        PID   Type   Process name                            GPU Memory |\n",
            "|        ID   ID                                                             Usage      |\n",
            "|=======================================================================================|\n",
            "|  No running processes found                                                           |\n",
            "+---------------------------------------------------------------------------------------+\n"
          ]
        }
      ],
      "source": [
        "!nvidia-smi"
      ]
    },
    {
      "cell_type": "code",
      "execution_count": null,
      "metadata": {
        "id": "lRIpoI0XdaRf"
      },
      "outputs": [],
      "source": [
        "# Check if cuda is available\n",
        "assert torch.cuda.is_available(), \"Cuda is not available, you cannot use the quantized version of the Mistral model without a GPU!\""
      ]
    },
    {
      "cell_type": "code",
      "execution_count": null,
      "metadata": {
        "id": "cEyO6R4jbvJO"
      },
      "outputs": [],
      "source": [
        "bnb_config = BitsAndBytesConfig(\n",
        "    load_in_4bit=True,\n",
        "    bnb_4bit_quant_type=\"nf4\",\n",
        "    bnb_4bit_use_double_quant=True,\n",
        ")"
      ]
    },
    {
      "cell_type": "code",
      "execution_count": null,
      "metadata": {
        "colab": {
          "base_uri": "https://localhost:8080/",
          "height": 226,
          "referenced_widgets": [
            "38da81fff40c4be58acacd4ce4b3899d",
            "b5056dfdb7c54be3aa837f28893b63ec",
            "c424dc66dafd4930ad3952a762cf3c84",
            "09b072c2d4ed4e87a82d5ae3e857fcf6",
            "23ed3856b8a143c6b9e29a9cdc7c6664",
            "c684ccb999484d01a5c008a538fa3c29",
            "e780fba85ce8427083584da6ca472259",
            "61061be5aee24238920aae3525e23785",
            "99351c1c363446cea47ff8792f23c365",
            "5d82b04f218d47c5821d735cf6b6816f",
            "0ef0f2a5948b432eadff79f524eaaef5",
            "1c600c501d0d4275b2984788da858678",
            "d5f4852fff174571984fa72b8b70279d",
            "e40acd52569348758429754366fa76c4",
            "0c058e5d31d043989d1aacf239926409",
            "062d8d8d16424fa7bf998944c133f1b2",
            "09f1d99733ad44cd8f4c152141b20194",
            "83281b4a446f44ea9b87722d80c02328",
            "2e84a4cae5584bbdac7cab52390032c4",
            "7a8c7115be3e4b4ab2fd803676a576ce",
            "9363086ea3344a6f82a2bf7bee70ef0d",
            "a936d2cefa5d4ebf947e5f3f17efb67a",
            "8cfd5b66021d4829ba496a530c056642",
            "e1fd2cfdfa4f4fe981f25eb94dd59101",
            "3e0bf5093f62416fa2215a0ead571bd0",
            "a127ecf7e750462b81d928b2d17de725",
            "dc743909be5e43b69bc08dd765eb5474",
            "86e7feb14e334923956e1be1ed0d8887",
            "9a1ef34de7734695bd1d31cac0219084",
            "de35a621ace94ce4ab9355c036e73704",
            "2312fee254444f04924758ba2c32e3e6",
            "575b0fc1b0cf4e069ad5e51bcee56965",
            "20a6cbd9973d4ed19ea5532590537d2b",
            "a179f8aea39041abb22f3cab1e362a00",
            "e7e9ec3be48b48f59688788f1acb4c5e",
            "df1de96e133c462f8674c10cd956c19b",
            "5207ef47383a498caf04492f44af5f35",
            "d97cb22b201048db94b029d2050a7440",
            "314d664b9125453eb5bd0bdea8a3399f",
            "28c0f099742341a4b2aa007ce41d8890",
            "6849bf03181041c3bb030af02a57fa82",
            "4355ba8a148f4aeca3b44724cb3fd751",
            "a8ce52ee3e45496a808bc3c35e8baf9b",
            "1aa8e09d7a274b2c94a9c46060fa0dca",
            "827f9eb87b82490d9e70951b34c75fb0",
            "fef978dcfb174bc79a5fc8e5333603ca",
            "5e31ec7e8b7e4ea89866570ccf7a9e3a",
            "08a9c57041c849eaa0d823a1895f50b7",
            "0f582e881bb947a18968db0da6c2c1b1",
            "0e10fa4602e64ea2b3ed357b76607e91",
            "46264ce8aeca42d6993741530e28befd",
            "996fd9d609a84e84b366762f8c408d15",
            "844814aa04ed4cd7aa08c669d43c8f47",
            "de5884c092e349d09c87d783891c5c5a",
            "9e35afeb37d04c6ab87db4a2e17c485f",
            "0c33ed4ba84143df88f61104f9e0231d",
            "9d2a837f448545ce9320248f73185290",
            "422545c9d10e4519a664c2731cdb1047",
            "cc1f8053f0b64b129cead7c6325bad77",
            "17b09fe1a5624e0aa291cb650442c207",
            "273882aaecda4273b63c619ca317a166",
            "6d1c7ede5e944fc190b862dd26e23a41",
            "c914a78d81bb401b87e1e3f40f9df4cb",
            "0243ef7f242a48c484089432add281e7",
            "b1604a87d4944ee2b8af696330eefcb7",
            "f29e33f7ba674b40a51fb13dd08723e6"
          ]
        },
        "id": "LjiaELYRcANF",
        "outputId": "0568d5f8-d791-4f88-a5d1-306ca6d2867b"
      },
      "outputs": [
        {
          "name": "stderr",
          "output_type": "stream",
          "text": [
            "`low_cpu_mem_usage` was None, now set to True since model is quantized.\n"
          ]
        },
        {
          "data": {
            "application/vnd.jupyter.widget-view+json": {
              "model_id": "38da81fff40c4be58acacd4ce4b3899d",
              "version_major": 2,
              "version_minor": 0
            },
            "text/plain": [
              "model.safetensors.index.json:   0%|          | 0.00/25.1k [00:00<?, ?B/s]"
            ]
          },
          "metadata": {},
          "output_type": "display_data"
        },
        {
          "data": {
            "application/vnd.jupyter.widget-view+json": {
              "model_id": "1c600c501d0d4275b2984788da858678",
              "version_major": 2,
              "version_minor": 0
            },
            "text/plain": [
              "Downloading shards:   0%|          | 0/2 [00:00<?, ?it/s]"
            ]
          },
          "metadata": {},
          "output_type": "display_data"
        },
        {
          "data": {
            "application/vnd.jupyter.widget-view+json": {
              "model_id": "8cfd5b66021d4829ba496a530c056642",
              "version_major": 2,
              "version_minor": 0
            },
            "text/plain": [
              "model-00001-of-00002.safetensors:   0%|          | 0.00/9.94G [00:00<?, ?B/s]"
            ]
          },
          "metadata": {},
          "output_type": "display_data"
        },
        {
          "data": {
            "application/vnd.jupyter.widget-view+json": {
              "model_id": "a179f8aea39041abb22f3cab1e362a00",
              "version_major": 2,
              "version_minor": 0
            },
            "text/plain": [
              "model-00002-of-00002.safetensors:   0%|          | 0.00/4.54G [00:00<?, ?B/s]"
            ]
          },
          "metadata": {},
          "output_type": "display_data"
        },
        {
          "data": {
            "application/vnd.jupyter.widget-view+json": {
              "model_id": "827f9eb87b82490d9e70951b34c75fb0",
              "version_major": 2,
              "version_minor": 0
            },
            "text/plain": [
              "Loading checkpoint shards:   0%|          | 0/2 [00:00<?, ?it/s]"
            ]
          },
          "metadata": {},
          "output_type": "display_data"
        },
        {
          "data": {
            "application/vnd.jupyter.widget-view+json": {
              "model_id": "0c33ed4ba84143df88f61104f9e0231d",
              "version_major": 2,
              "version_minor": 0
            },
            "text/plain": [
              "generation_config.json:   0%|          | 0.00/116 [00:00<?, ?B/s]"
            ]
          },
          "metadata": {},
          "output_type": "display_data"
        }
      ],
      "source": [
        "model_name = \"mistralai/Mistral-7B-Instruct-v0.1\"\n",
        "\n",
        "tokenizer = AutoTokenizer.from_pretrained(model_name)\n",
        "model = AutoModelForCausalLM.from_pretrained(\n",
        "        model_name,\n",
        "        quantization_config=bnb_config,\n",
        "    )"
      ]
    },
    {
      "cell_type": "markdown",
      "metadata": {
        "id": "vXa7iTmyo5F2"
      },
      "source": [
        "## Pipeline of the Inference"
      ]
    },
    {
      "cell_type": "code",
      "execution_count": null,
      "metadata": {
        "id": "fFhnoZY8wUXl"
      },
      "outputs": [],
      "source": [
        "def generate_answer(prompt, model, device, temp, n_token):\n",
        "    encoded = tokenizer(prompt, return_tensors=\"pt\", add_special_tokens=False)\n",
        "    model_input = encoded\n",
        "    model_input = model_input.to(device)\n",
        "    generated_ids = model.generate(\n",
        "        **model_input, do_sample=True,\n",
        "        max_new_tokens=n_token,\n",
        "        temperature=temp,\n",
        "        num_return_sequences=1,\n",
        "        pad_token_id=tokenizer.eos_token_id\n",
        "        )\n",
        "    decoded = tokenizer.batch_decode(generated_ids)\n",
        "\n",
        "    return decoded"
      ]
    },
    {
      "cell_type": "code",
      "execution_count": null,
      "metadata": {
        "id": "jmTdZzbYT7XF"
      },
      "outputs": [],
      "source": [
        "def extract_substring(input_string):\n",
        "    index = input_string.find(\"[/INST]\")\n",
        "    if index != -1:\n",
        "        return input_string[index + len(\"[/INST]\"):]\n",
        "    else:\n",
        "        return \"\""
      ]
    },
    {
      "cell_type": "code",
      "execution_count": null,
      "metadata": {
        "id": "ptf5_oSdO08X"
      },
      "outputs": [],
      "source": [
        "def few_shot_pipeline(\n",
        "        instruction, \n",
        "        sample, \n",
        "        model, \n",
        "        device='cpu', \n",
        "        temp=0.1, \n",
        "        n_token=100, \n",
        "        print_system_prompt=False, \n",
        "        save_system_prompt=False\n",
        "        ):\n",
        "    \n",
        "    # Construct prompt\n",
        "    prompt = f\"\"\"<s> [INST] {instruction}\\n{sample} // [/INST]\"\"\"\n",
        "    if print_system_prompt:\n",
        "        print(prompt)\n",
        "    # Generate answer\n",
        "    answer = generate_answer(prompt, model, device, temp, n_token)\n",
        "    # Extract the result\n",
        "    if save_system_prompt:\n",
        "        result = answer[0]\n",
        "    else:\n",
        "        result = extract_substring(answer[0])\n",
        "    return result.replace(\"\\n\", \"\")\n"
      ]
    },
    {
      "cell_type": "markdown",
      "metadata": {},
      "source": [
        "## Prompt Engineering"
      ]
    },
    {
      "cell_type": "markdown",
      "metadata": {
        "id": "lPYXOZue-rA3"
      },
      "source": [
        "#### Type I. 3-shot"
      ]
    },
    {
      "cell_type": "code",
      "execution_count": null,
      "metadata": {
        "colab": {
          "base_uri": "https://localhost:8080/"
        },
        "id": "Zje12K16oRG-",
        "outputId": "1a3dcdc6-3378-4d6e-fd30-ec62bfd921aa"
      },
      "outputs": [
        {
          "name": "stdout",
          "output_type": "stream",
          "text": [
            "<s>  [INST] bike firearm knife criminal carry death weapon scsi murder smith handgun moral child defense tape // good\n",
            "appreciate advance anybody info thank experience hello greatly suggestion wonder edge able email recently thanx // bad\n",
            "bible christ matthew heaven scripture lord father word passage teach mary spirit doctrine verse faith // good\n",
            "april nasa star canada bike score always goal maynard area player hockey wings center white // [/INST] It appears that you have provided a list of words that may be related to various topics such as firearms, knives, and criminal activity. However, it is important to note that the context in which these words are used can greatly impact their meaning and moral implications.\n",
            "\n",
            "For example, the word \"weapon\" can be used to refer to a tool used for self-defense or to harm others, depending on the context. Similarly, the word \"murder\" can be\n"
          ]
        }
      ],
      "source": [
        "prompt = \"\"\"<s> [INST] bike firearm knife criminal carry death weapon scsi murder smith handgun moral child defense tape // good\n",
        "appreciate advance anybody info thank experience hello greatly suggestion wonder edge able email recently thanx // bad\n",
        "bible christ matthew heaven scripture lord father word passage teach mary spirit doctrine verse faith // good\n",
        "april nasa star canada bike score always goal maynard area player hockey wings center white // [/INST]\"\"\"\n",
        "\n",
        "answer = generate_answer(prompt, model, 'cuda', temp=0.1, n_token=100)\n",
        "\n",
        "print(answer[0])\n"
      ]
    },
    {
      "cell_type": "markdown",
      "metadata": {
        "id": "4Z8mZdvsIZFZ"
      },
      "source": [
        "**Conclusion:** The model does not quite understand what task needs to be completed"
      ]
    },
    {
      "cell_type": "markdown",
      "metadata": {
        "id": "5HEZCwJ8DsGn"
      },
      "source": [
        "#### Type II. 3-shot"
      ]
    },
    {
      "cell_type": "code",
      "execution_count": null,
      "metadata": {
        "colab": {
          "base_uri": "https://localhost:8080/"
        },
        "id": "PAzklnJmxUFX",
        "outputId": "db21e86e-d3be-4398-9537-3ab3c66a42d8"
      },
      "outputs": [
        {
          "name": "stdout",
          "output_type": "stream",
          "text": [
            "<s>  [INST] bike firearm knife criminal carry death weapon scsi murder smith handgun moral child defense tape // strong connection\n",
            "\n",
            "appreciate advance anybody info thank experience hello greatly suggestion wonder edge able email recently thanx // weak connection\n",
            "\n",
            "bible christ matthew heaven scripture lord father word passage teach mary spirit doctrine verse faith // strong connection\n",
            "\n",
            "april nasa star canada bike score always goal maynard area player hockey wings center white // [/INST] It seems like you are trying to connect different topics and ideas in your sentences. Here are some possible ways to rephrase your sentences to make them more coherent:\n",
            "\n",
            "* Bike, firearm, knife, criminal, carry, death, weapon, scsi, murder, smith, handgun, moral, child, defense, tape, strong connection.\n",
            "\t+ Bike, firearm, knife, and criminal carry are often associated with death and murder. Smith handguns are a popular choice for self-defense, but there are moral considerations to take into account when carrying a weapon. Tape can be used to secure a bike or other items, but it may not be strong enough to prevent theft or damage.\n",
            "* Bible, Christ, Matthew, heaven, scripture, Lord, father, word, passage, teach, Mary, spirit, doctrine, verse, faith, strong connection.\n",
            "\t+ The Bible teaches us about the Lord and His word, including the passage about Mary and the spirit of faith. The passage teaches us about the importance of faith and the role of the Holy Spirit in our lives.\n",
            "* April, NASA, star, Canada, bike, score, always, goal, maynard, area, player, hockey, wings, center, white.\n",
            "\t+ In April, NASA launched a star-tracking mission from Canada. The mission's goal is to score points by identifying and tracking stars in the Maynard area. The mission's center is located in the white part of the galaxy.</s>\n"
          ]
        }
      ],
      "source": [
        "prompt = \"\"\"<s> [INST] bike firearm knife criminal carry death weapon scsi murder smith handgun moral child defense tape // strong connection\n",
        "\n",
        "appreciate advance anybody info thank experience hello greatly suggestion wonder edge able email recently thanx // weak connection\n",
        "\n",
        "bible christ matthew heaven scripture lord father word passage teach mary spirit doctrine verse faith // strong connection\n",
        "\n",
        "april nasa star canada bike score always goal maynard area player hockey wings center white // [/INST]\"\"\"\n",
        "\n",
        "answer = generate_answer(prompt, model, 'cuda', temp=0.1, n_token=500)\n",
        "\n",
        "print(answer[0])"
      ]
    },
    {
      "cell_type": "markdown",
      "metadata": {
        "id": "c7xTMOTOIxNE"
      },
      "source": [
        "**Conclusion:** The model tries to understand what is wanted from her, instead of the required answer, she tries to find a connection between words and describe it"
      ]
    },
    {
      "cell_type": "markdown",
      "metadata": {
        "id": "88SUQmOCD0d8"
      },
      "source": [
        "#### Type III. 3-shot Chain-of-Thought"
      ]
    },
    {
      "cell_type": "code",
      "execution_count": null,
      "metadata": {
        "colab": {
          "base_uri": "https://localhost:8080/"
        },
        "id": "ow3RO4ueyeF_",
        "outputId": "958d6ac5-05a7-4c24-cf0c-7184ef526564"
      },
      "outputs": [
        {
          "name": "stdout",
          "output_type": "stream",
          "text": [
            "<s>  [INST] You will receive a list of words, and you should answer \"YES\" or \"NO\" to the question: \"Is it possible to determine a common topic for the presented word set or at least for the most part of the set?\"\n",
            "bike firearm knife criminal carry death weapon scsi murder smith handgun moral child defense tape // YES\n",
            "appreciate advance anybody info thank experience hello greatly suggestion wonder edge able email recently thanx // NO\n",
            "bible christ matthew heaven scripture lord father word passage teach mary spirit doctrine verse faith // YES\n",
            "april nasa star canada bike score always goal maynard area player hockey wings center white // [/INST] YES</s>\n"
          ]
        }
      ],
      "source": [
        "prompt = \"\"\"<s> [INST] You will receive a list of words, and you should answer \"YES\" or \"NO\" to the question: \"Is it possible to determine a common topic for the presented word set or at least for the most part of the set?\"\n",
        "bike firearm knife criminal carry death weapon scsi murder smith handgun moral child defense tape // YES\n",
        "appreciate advance anybody info thank experience hello greatly suggestion wonder edge able email recently thanx // NO\n",
        "bible christ matthew heaven scripture lord father word passage teach mary spirit doctrine verse faith // YES\n",
        "april nasa star canada bike score always goal maynard area player hockey wings center white // [/INST]\"\"\"\n",
        "\n",
        "answer = generate_answer(prompt, model, 'cuda', temp=0.1, n_token=100)\n",
        "\n",
        "print(answer[0])"
      ]
    },
    {
      "cell_type": "markdown",
      "metadata": {
        "id": "uwtoe_LfL4vK"
      },
      "source": [
        "**Conclusion:** In this example, the Chain-of-Tough technique was used – we explained to the model how she needs to think / answer the question. The model realized that it was required, and this prompt can be used for further research"
      ]
    },
    {
      "cell_type": "markdown",
      "metadata": {
        "id": "IKCtghKQD9K1"
      },
      "source": [
        "#### Type IV. 3-shot Chain-of-Thought"
      ]
    },
    {
      "cell_type": "code",
      "execution_count": null,
      "metadata": {
        "colab": {
          "base_uri": "https://localhost:8080/"
        },
        "id": "prOWQMEQzuF1",
        "outputId": "4bb4cb41-0586-4b64-a025-e42a35369307"
      },
      "outputs": [
        {
          "name": "stdout",
          "output_type": "stream",
          "text": [
            "<s>  [INST] You will receive a list of words, and you should answer \"YES\" if words have a strong connection between them or “NO” in the opposite case.\n",
            "\n",
            "bike firearm knife criminal carry death weapon scsi murder smith handgun moral child defense tape // YES\n",
            "appreciate advance anybody info thank experience hello greatly suggestion wonder edge able email recently thanx // NO\n",
            "bible christ matthew heaven scripture lord father word passage teach mary spirit doctrine verse faith // YES\n",
            "april nasa star canada bike score always goal maynard area player hockey wings center white // [/INST] bike firearm knife criminal carry death weapon scsi murder smith handgun moral child defense tape - YES\n",
            "appreciate advance anybody info thank experience hello greatly suggestion wonder edge able email recently thanx - NO\n",
            "bible christ matthew heaven scripture lord father word passage teach mary spirit doctrine verse faith - YES\n",
            "april nasa star canada bike score always goal maynard area player hockey wings center white - NO</s>\n"
          ]
        }
      ],
      "source": [
        "prompt = \"\"\"<s> [INST] You will receive a list of words, and you should answer \"YES\" if words have a strong connection between them or “NO” in the opposite case.\n",
        "\n",
        "bike firearm knife criminal carry death weapon scsi murder smith handgun moral child defense tape // YES\n",
        "appreciate advance anybody info thank experience hello greatly suggestion wonder edge able email recently thanx // NO\n",
        "bible christ matthew heaven scripture lord father word passage teach mary spirit doctrine verse faith // YES\n",
        "april nasa star canada bike score always goal maynard area player hockey wings center white // [/INST]\"\"\"\n",
        "\n",
        "answer = generate_answer(prompt, model, 'cuda', temp=0.1, n_token=100)\n",
        "\n",
        "print(answer[0])"
      ]
    },
    {
      "cell_type": "markdown",
      "metadata": {
        "id": "EDMjadk2PDN0"
      },
      "source": [
        "**Conclusion:** Unstable prompt, the model roughly understands the form of the response, but gives answers for all examples"
      ]
    },
    {
      "cell_type": "markdown",
      "metadata": {
        "id": "ASbugjFAEgMa"
      },
      "source": [
        "#### Type V. 3-shot Chain-of-Thought"
      ]
    },
    {
      "cell_type": "code",
      "execution_count": null,
      "metadata": {
        "colab": {
          "base_uri": "https://localhost:8080/"
        },
        "id": "sflhngDj8Fr0",
        "outputId": "06e0dda1-adbd-43f6-e697-49243a77d0ec"
      },
      "outputs": [
        {
          "name": "stdout",
          "output_type": "stream",
          "text": [
            "<s>  [INST] Select one of two categories-characteristics of the provided set of tokens by answering the question ”Is it possible to determine a common topic for the presented word set or at least for the most part of the set?”.\n",
            "You could answer one of the following: YES - if you agree with the statement and words have a strong connection between them, NO - when words seem to be unconnected.\n",
            "\n",
            "bike firearm knife criminal carry death weapon scsi murder smith handgun moral child defense tape // YES\n",
            "appreciate advance anybody info thank experience hello greatly suggestion wonder edge able email recently thanx // NO\n",
            "bible christ matthew heaven scripture lord father word passage teach mary spirit doctrine verse faith // YES\n",
            "april nasa star canada bike score always goal maynard area player hockey wings center white // [/INST] YES. It is possible to determine a common topic for the presented word set. The most part of the set is related to the topic of sports, specifically hockey. The words \"bike,\" \"firearm,\" \"knife,\" \"carry,\" \"death,\" \"weapon,\" \"handgun,\" \"moral,\" \"child,\" \"defense,\" \"tape,\" \"appreciate,\" \"advance,\" \"anybody,\" \"info,\" \"thank,\" \"experience,\" \"hello,\" \"greatly,\" \"suggestion,\" \"wonder,\" \"edge,\" \"able,\" \"email,\" \"recently,\" \"thanx,\" \"bible,\" \"christ,\" \"matthew,\" \"heaven,\" \"scripture,\" \"lord,\" \"father,\" \"word,\" \"passage,\" \"teach,\" \"mary,\" \"spirit,\" \"doctrine,\" \"verse,\" \"faith,\" \"april,\" \"nasa,\" \"star,\" \"canada,\" \"bike,\" \"score,\" \"always,\" \"goal,\" \"maynard,\" \"area,\" \"player,\" \"hockey,\" \"wings,\" \"center,\" \"white\" are all related to sports or hockey.</s>\n"
          ]
        }
      ],
      "source": [
        "prompt = \"\"\"<s> [INST] Select one of two categories-characteristics of the provided set of tokens by answering the question ”Is it possible to determine a common topic for the presented word set or at least for the most part of the set?”.\n",
        "You could answer one of the following: YES - if you agree with the statement and words have a strong connection between them, NO - when words seem to be unconnected.\n",
        "\n",
        "bike firearm knife criminal carry death weapon scsi murder smith handgun moral child defense tape // YES\n",
        "appreciate advance anybody info thank experience hello greatly suggestion wonder edge able email recently thanx // NO\n",
        "bible christ matthew heaven scripture lord father word passage teach mary spirit doctrine verse faith // YES\n",
        "april nasa star canada bike score always goal maynard area player hockey wings center white // [/INST]\"\"\"\n",
        "\n",
        "answer = generate_answer(prompt, model, 'cuda', temp=0.1, n_token=500)\n",
        "\n",
        "print(answer[0])"
      ]
    },
    {
      "cell_type": "markdown",
      "metadata": {
        "id": "7LqczvfAWArJ"
      },
      "source": [
        "**Conclusion:** The model gives an answer for all words, and also tries to determine the topic to which these words relate"
      ]
    },
    {
      "cell_type": "markdown",
      "metadata": {
        "id": "2ZQLiJ2TW1sz"
      },
      "source": [
        "#### Type V_v2. 3-shot Chain-of-Thought"
      ]
    },
    {
      "cell_type": "code",
      "execution_count": null,
      "metadata": {},
      "outputs": [],
      "source": [
        "prompt = \"\"\"<s> [INST] Select one of two categories-characteristics of the provided set of tokens by answering the question ”Is it possible to determine a common topic for the presented word set or at least for the most part of the set?”.\n",
        "You could answer one of the following: YES - if you agree with the statement and words have a strong connection between them, NO - when words seem to be unconnected. Please, make sure you to only return YES or NO and nothing more.\n",
        "\n",
        "bike firearm knife criminal carry death weapon scsi murder smith handgun moral child defense tape // YES\n",
        "appreciate advance anybody info thank experience hello greatly suggestion wonder edge able email recently thanx // NO\n",
        "bible christ matthew heaven scripture lord father word passage teach mary spirit doctrine verse faith // YES\n",
        "april nasa star canada bike score always goal maynard area player hockey wings center white // [/INST]\"\"\"\n",
        "\n",
        "answer = generate_answer(prompt, model, 'cuda', temp=0.1, n_token=100)\n",
        "\n",
        "print(answer[0])"
      ]
    },
    {
      "cell_type": "markdown",
      "metadata": {
        "id": "BOUJLfKaXu-x"
      },
      "source": [
        "**Conclusion:** In comparison with the previous prompt, a clarification has been added about the form of the response. Prompt is suitable for further analysis"
      ]
    },
    {
      "cell_type": "markdown",
      "metadata": {
        "id": "K-Zf-XGUFvOi"
      },
      "source": [
        "#### Type VI. 3-shot Chain-of-Thought"
      ]
    },
    {
      "cell_type": "code",
      "execution_count": null,
      "metadata": {
        "colab": {
          "base_uri": "https://localhost:8080/"
        },
        "id": "MqxNbDKV8k9Q",
        "outputId": "13449120-d7fe-465f-def7-baf6b9b84ffd"
      },
      "outputs": [
        {
          "name": "stdout",
          "output_type": "stream",
          "text": [
            "<s>  [INST] You are a human. Select one of four categories-characteristics of the provided set of tokens by answering the question ”Is it possible to determine a common topic for the presented word set or at least for the most part of the set?”.\n",
            "You could answer one of the following: YES - if you agree with the statement and words have a strong connection between them, NO - when words seem to be unconnected.\n",
            "\n",
            "bike firearm knife criminal carry death weapon scsi murder smith handgun moral child defense tape // YES\n",
            "appreciate advance anybody info thank experience hello greatly suggestion wonder edge able email recently thanx // NO\n",
            "bible christ matthew heaven scripture lord father word passage teach mary spirit doctrine verse faith // YES\n",
            "april nasa star canada bike score always goal maynard area player hockey wings center white // [/INST] YES. The common topic for the presented word set is \"vehicles\" and \"sports.\"</s>\n"
          ]
        }
      ],
      "source": [
        "prompt = \"\"\"<s> [INST] You are a human. Select one of four categories-characteristics of the provided set of tokens by answering the question ”Is it possible to determine a common topic for the presented word set or at least for the most part of the set?”.\n",
        "You could answer one of the following: YES - if you agree with the statement and words have a strong connection between them, NO - when words seem to be unconnected.\n",
        "\n",
        "bike firearm knife criminal carry death weapon scsi murder smith handgun moral child defense tape // YES\n",
        "appreciate advance anybody info thank experience hello greatly suggestion wonder edge able email recently thanx // NO\n",
        "bible christ matthew heaven scripture lord father word passage teach mary spirit doctrine verse faith // YES\n",
        "april nasa star canada bike score always goal maynard area player hockey wings center white // [/INST]\"\"\"\n",
        "\n",
        "answer = generate_answer(prompt, model, 'cuda', temp=0.1, n_token=100)\n",
        "\n",
        "print(answer[0])"
      ]
    },
    {
      "cell_type": "markdown",
      "metadata": {
        "id": "ywAnxWuQZYNh"
      },
      "source": [
        "**Conclusion:** In this prompt, refinement was used to try to emulate human behavior by clarifying the role for LLM. As you can see, the model gives a detailed response."
      ]
    },
    {
      "cell_type": "markdown",
      "metadata": {
        "id": "DfrPZRKJZia2"
      },
      "source": [
        "#### Type VI_v2. 3-shot Chain-of-Thought"
      ]
    },
    {
      "cell_type": "code",
      "execution_count": null,
      "metadata": {
        "colab": {
          "base_uri": "https://localhost:8080/"
        },
        "id": "M4xI6GRL5TSj",
        "outputId": "30fb1e25-5540-43e2-c772-0d376fa312a9"
      },
      "outputs": [
        {
          "name": "stdout",
          "output_type": "stream",
          "text": [
            "<s>  [INST] You are a human. Select one of four categories-characteristics of the provided set of tokens by answering the question ”Is it possible to determine a common topic for the presented word set or at least for the most part of the set?”.\n",
            "You could answer one of the following: YES - if you agree with the statement and words have a strong connection between them, NO - when words seem to be unconnected. Please, make sure you to only return YES or NO and nothing more.\n",
            "\n",
            "bike firearm knife criminal carry death weapon scsi murder smith handgun moral child defense tape // YES\n",
            "appreciate advance anybody info thank experience hello greatly suggestion wonder edge able email recently thanx // NO\n",
            "bible christ matthew heaven scripture lord father word passage teach mary spirit doctrine verse faith // YES\n",
            "april nasa star canada bike score always goal maynard area player hockey wings center white // [/INST] YES</s>\n"
          ]
        }
      ],
      "source": [
        "prompt = \"\"\"<s> [INST] You are a human. Select one of four categories-characteristics of the provided set of tokens by answering the question ”Is it possible to determine a common topic for the presented word set or at least for the most part of the set?”.\n",
        "You could answer one of the following: YES - if you agree with the statement and words have a strong connection between them, NO - when words seem to be unconnected. Please, make sure you to only return YES or NO and nothing more.\n",
        "\n",
        "bike firearm knife criminal carry death weapon scsi murder smith handgun moral child defense tape // YES\n",
        "appreciate advance anybody info thank experience hello greatly suggestion wonder edge able email recently thanx // NO\n",
        "bible christ matthew heaven scripture lord father word passage teach mary spirit doctrine verse faith // YES\n",
        "april nasa star canada bike score always goal maynard area player hockey wings center white // [/INST]\"\"\"\n",
        "\n",
        "answer = generate_answer(prompt, model, 'cuda', temp=0.1, n_token=100)\n",
        "\n",
        "print(answer[0])"
      ]
    },
    {
      "cell_type": "markdown",
      "metadata": {
        "id": "ibAIFPIOZk8v"
      },
      "source": [
        "**Conclusion:** A clarification about the form of the response was added to the previous version of the prompt. Prompt can be used for further research."
      ]
    },
    {
      "cell_type": "markdown",
      "metadata": {
        "id": "2UqyH1RBg0Sa"
      },
      "source": [
        "## Inference on the Entire Dataset"
      ]
    },
    {
      "cell_type": "code",
      "execution_count": null,
      "metadata": {
        "id": "e-zOTw8ih8ny"
      },
      "outputs": [],
      "source": [
        "test_data = data.sample(frac=1, random_state=42)"
      ]
    },
    {
      "cell_type": "markdown",
      "metadata": {
        "id": "i34U_cfGGfzK"
      },
      "source": [
        "### Type III. 3-shot Chain-of-Thought"
      ]
    },
    {
      "cell_type": "code",
      "execution_count": null,
      "metadata": {
        "colab": {
          "base_uri": "https://localhost:8080/",
          "height": 36
        },
        "id": "qkJ4l9qi9n2e",
        "outputId": "5d0be0ee-1726-49ee-bf24-1044a9c70639"
      },
      "outputs": [
        {
          "data": {
            "application/vnd.google.colaboratory.intrinsic+json": {
              "type": "string"
            },
            "text/plain": [
              "' NO</s>'"
            ]
          },
          "execution_count": 54,
          "metadata": {},
          "output_type": "execute_result"
        }
      ],
      "source": [
        "INSTRUCTION = \"\"\"You will receive a list of words, and you should answer \"YES\" or \"NO\" to the question: \"Is it possible to determine a common topic for the presented word set or at least for the most part of the set?\"\n",
        "bike firearm knife criminal carry death weapon scsi murder smith handgun moral child defense tape // YES\n",
        "appreciate advance anybody info thank experience hello greatly suggestion wonder edge able email recently thanx // NO\n",
        "bible christ matthew heaven scripture lord father word passage teach mary spirit doctrine verse faith // YES\"\"\"\n",
        "\n",
        "SAMPLE = data.iloc[0][\"task\"]\n",
        "\n",
        "res = few_shot_pipeline(INSTRUCTION, SAMPLE, model, device=\"cuda\")\n",
        "\n",
        "res"
      ]
    },
    {
      "cell_type": "code",
      "execution_count": null,
      "metadata": {
        "colab": {
          "base_uri": "https://localhost:8080/"
        },
        "id": "dC-ogyp4VNei",
        "outputId": "09db8265-c8ba-4d0e-84a0-43954b6cd576"
      },
      "outputs": [
        {
          "name": "stderr",
          "output_type": "stream",
          "text": [
            "100%|██████████| 3861/3861 [3:12:10<00:00,  2.99s/it]\n"
          ]
        }
      ],
      "source": [
        "# Create file\n",
        "RES_FILE_NAME = \"data_qality_estim_mistral_7b_4bit_type3.csv\"\n",
        "RES_FILE = DATA_DIR.joinpath(RES_FILE_NAME)\n",
        "# Remove old file\n",
        "if os.path.exists(RES_FILE):\n",
        "    os.remove(RES_FILE)\n",
        "\n",
        "for i in tqdm(range(len(test_data))):\n",
        "    SAMPLE = test_data.iloc[i][\"task\"]\n",
        "    res_true = test_data.iloc[i][\"agg_label\"]\n",
        "    res_model = few_shot_pipeline(\n",
        "        INSTRUCTION,\n",
        "        SAMPLE,\n",
        "        model,\n",
        "        device=\"cuda\",\n",
        "        temp=0.1,\n",
        "        n_token=200\n",
        "    )\n",
        "    with open(RES_FILE, 'a') as file:\n",
        "        file.write(f\"{SAMPLE};{res_true};{res_model}\\n\")\n"
      ]
    },
    {
      "cell_type": "markdown",
      "metadata": {
        "id": "cNcZP8TfUULS"
      },
      "source": [
        "### Type V_v2. 3-shot Chain-of-Thought"
      ]
    },
    {
      "cell_type": "code",
      "execution_count": null,
      "metadata": {
        "colab": {
          "base_uri": "https://localhost:8080/",
          "height": 36
        },
        "id": "YLlBWdgtVO07",
        "outputId": "4c40c7f0-b4ef-4822-f0df-fca4f0b82997"
      },
      "outputs": [
        {
          "data": {
            "application/vnd.google.colaboratory.intrinsic+json": {
              "type": "string"
            },
            "text/plain": [
              "' YES</s>'"
            ]
          },
          "execution_count": 57,
          "metadata": {},
          "output_type": "execute_result"
        }
      ],
      "source": [
        "INSTRUCTION = \"\"\"Select one of two categories-characteristics of the provided set of tokens by answering the question ”Is it possible to determine a common topic for the presented word set or at least for the most part of the set?”.\n",
        "You could answer one of the following: YES - if you agree with the statement and words have a strong connection between them, NO - when words seem to be unconnected. Please, make sure you to only return YES or NO and nothing more.\n",
        "\n",
        "bike firearm knife criminal carry death weapon scsi murder smith handgun moral child defense tape // YES\n",
        "appreciate advance anybody info thank experience hello greatly suggestion wonder edge able email recently thanx // NO\n",
        "bible christ matthew heaven scripture lord father word passage teach mary spirit doctrine verse faith // YES\"\"\"\n",
        "\n",
        "SAMPLE = data.iloc[80][\"task\"]\n",
        "\n",
        "res = few_shot_pipeline(INSTRUCTION, SAMPLE, model, device=\"cuda\", n_token=100)\n",
        "\n",
        "res"
      ]
    },
    {
      "cell_type": "code",
      "execution_count": null,
      "metadata": {
        "colab": {
          "base_uri": "https://localhost:8080/"
        },
        "id": "FOlA0-SHZOTY",
        "outputId": "fd0ff1ad-289d-4975-9202-9a95878c85b8"
      },
      "outputs": [
        {
          "name": "stderr",
          "output_type": "stream",
          "text": [
            "100%|██████████| 3861/3861 [2:04:51<00:00,  1.94s/it]\n"
          ]
        }
      ],
      "source": [
        "# Create file\n",
        "RES_FILE_NAME = \"data_qality_estim_mistral_7b_4bit_type5.csv\"\n",
        "RES_FILE = DATA_DIR.joinpath(RES_FILE_NAME)\n",
        "# Remove old file\n",
        "if os.path.exists(RES_FILE):\n",
        "    os.remove(RES_FILE)\n",
        "\n",
        "with open(RES_FILE, 'a') as file:\n",
        "    for i in tqdm(range(len(test_data))):\n",
        "        SAMPLE = test_data.iloc[i][\"task\"]\n",
        "        res_true = test_data.iloc[i][\"agg_label\"]\n",
        "        res_model = few_shot_pipeline(\n",
        "            INSTRUCTION,\n",
        "            SAMPLE,\n",
        "            model,\n",
        "            device=\"cuda\",\n",
        "            temp=0.1,\n",
        "            n_token=100\n",
        "        )\n",
        "        file.write(f\"{SAMPLE};{res_true};{res_model}\\n\")\n"
      ]
    },
    {
      "cell_type": "markdown",
      "metadata": {
        "id": "Zst9Je2-5g93"
      },
      "source": [
        "### Type VI_v2. 3-shot Chain-of-Thought"
      ]
    },
    {
      "cell_type": "code",
      "execution_count": null,
      "metadata": {
        "colab": {
          "base_uri": "https://localhost:8080/",
          "height": 36
        },
        "id": "oAeM12PMZVZq",
        "outputId": "550a0199-c5e0-4d56-b951-2a73428fb23a"
      },
      "outputs": [
        {
          "data": {
            "application/vnd.google.colaboratory.intrinsic+json": {
              "type": "string"
            },
            "text/plain": [
              "' YES</s>'"
            ]
          },
          "execution_count": 59,
          "metadata": {},
          "output_type": "execute_result"
        }
      ],
      "source": [
        "INSTRUCTION = \"\"\"You are a human. Select one of two categories-characteristics of the provided set of tokens by answering the question ”Is it possible to determine a common topic for the presented word set or at least for the most part of the set?”.\n",
        "You could answer one of the following: YES - if you agree with the statement and words have a strong connection between them, NO - when words seem to be unconnected. Please, make sure you to only return YES or NO and nothing more.\n",
        "\n",
        "bike firearm knife criminal carry death weapon scsi murder smith handgun moral child defense tape // YES\n",
        "appreciate advance anybody info thank experience hello greatly suggestion wonder edge able email recently thanx // NO\n",
        "bible christ matthew heaven scripture lord father word passage teach mary spirit doctrine verse faith // YES\"\"\"\n",
        "\n",
        "SAMPLE = data.iloc[0][\"task\"]\n",
        "\n",
        "res = few_shot_pipeline(INSTRUCTION, SAMPLE, model, device=\"cuda\", n_token=100)\n",
        "\n",
        "res"
      ]
    },
    {
      "cell_type": "code",
      "execution_count": null,
      "metadata": {
        "colab": {
          "base_uri": "https://localhost:8080/"
        },
        "id": "EQ-_XLSN559f",
        "outputId": "69b51ca8-aec6-4306-baf7-aa91b08dfc8a"
      },
      "outputs": [
        {
          "name": "stderr",
          "output_type": "stream",
          "text": [
            " 94%|█████████▍| 3635/3861 [1:58:47<07:31,  2.00s/it]"
          ]
        }
      ],
      "source": [
        "# Create file\n",
        "RES_FILE_NAME = \"data_qality_estim_mistral_7b_4bit_type6.csv\"\n",
        "RES_FILE = DATA_DIR.joinpath(RES_FILE_NAME)\n",
        "# Remove old file\n",
        "if os.path.exists(RES_FILE):\n",
        "    os.remove(RES_FILE)\n",
        "\n",
        "with open(RES_FILE, 'a') as file:\n",
        "    for i in tqdm(range(len(test_data))):\n",
        "        SAMPLE = test_data.iloc[i][\"task\"]\n",
        "        res_true = test_data.iloc[i][\"agg_label\"]\n",
        "        res_model = few_shot_pipeline(\n",
        "            INSTRUCTION,\n",
        "            SAMPLE,\n",
        "            model,\n",
        "            device=\"cuda\",\n",
        "            temp=0.1,\n",
        "            n_token=100\n",
        "        )\n",
        "        file.write(f\"{SAMPLE};{res_true};{res_model}\\n\")\n"
      ]
    }
  ],
  "metadata": {
    "accelerator": "GPU",
    "colab": {
      "gpuType": "T4",
      "provenance": []
    },
    "kernelspec": {
      "display_name": "Python 3",
      "name": "python3"
    },
    "language_info": {
      "codemirror_mode": {
        "name": "ipython",
        "version": 3
      },
      "file_extension": ".py",
      "mimetype": "text/x-python",
      "name": "python",
      "nbconvert_exporter": "python",
      "pygments_lexer": "ipython3",
      "version": "3.9.7"
    },
    "widgets": {
      "application/vnd.jupyter.widget-state+json": {
        "0243ef7f242a48c484089432add281e7": {
          "model_module": "@jupyter-widgets/controls",
          "model_module_version": "1.5.0",
          "model_name": "ProgressStyleModel",
          "state": {
            "_model_module": "@jupyter-widgets/controls",
            "_model_module_version": "1.5.0",
            "_model_name": "ProgressStyleModel",
            "_view_count": null,
            "_view_module": "@jupyter-widgets/base",
            "_view_module_version": "1.2.0",
            "_view_name": "StyleView",
            "bar_color": null,
            "description_width": ""
          }
        },
        "062d8d8d16424fa7bf998944c133f1b2": {
          "model_module": "@jupyter-widgets/base",
          "model_module_version": "1.2.0",
          "model_name": "LayoutModel",
          "state": {
            "_model_module": "@jupyter-widgets/base",
            "_model_module_version": "1.2.0",
            "_model_name": "LayoutModel",
            "_view_count": null,
            "_view_module": "@jupyter-widgets/base",
            "_view_module_version": "1.2.0",
            "_view_name": "LayoutView",
            "align_content": null,
            "align_items": null,
            "align_self": null,
            "border": null,
            "bottom": null,
            "display": null,
            "flex": null,
            "flex_flow": null,
            "grid_area": null,
            "grid_auto_columns": null,
            "grid_auto_flow": null,
            "grid_auto_rows": null,
            "grid_column": null,
            "grid_gap": null,
            "grid_row": null,
            "grid_template_areas": null,
            "grid_template_columns": null,
            "grid_template_rows": null,
            "height": null,
            "justify_content": null,
            "justify_items": null,
            "left": null,
            "margin": null,
            "max_height": null,
            "max_width": null,
            "min_height": null,
            "min_width": null,
            "object_fit": null,
            "object_position": null,
            "order": null,
            "overflow": null,
            "overflow_x": null,
            "overflow_y": null,
            "padding": null,
            "right": null,
            "top": null,
            "visibility": null,
            "width": null
          }
        },
        "08a9c57041c849eaa0d823a1895f50b7": {
          "model_module": "@jupyter-widgets/controls",
          "model_module_version": "1.5.0",
          "model_name": "HTMLModel",
          "state": {
            "_dom_classes": [],
            "_model_module": "@jupyter-widgets/controls",
            "_model_module_version": "1.5.0",
            "_model_name": "HTMLModel",
            "_view_count": null,
            "_view_module": "@jupyter-widgets/controls",
            "_view_module_version": "1.5.0",
            "_view_name": "HTMLView",
            "description": "",
            "description_tooltip": null,
            "layout": "IPY_MODEL_de5884c092e349d09c87d783891c5c5a",
            "placeholder": "​",
            "style": "IPY_MODEL_9e35afeb37d04c6ab87db4a2e17c485f",
            "value": " 2/2 [01:22&lt;00:00, 38.10s/it]"
          }
        },
        "09b072c2d4ed4e87a82d5ae3e857fcf6": {
          "model_module": "@jupyter-widgets/controls",
          "model_module_version": "1.5.0",
          "model_name": "HTMLModel",
          "state": {
            "_dom_classes": [],
            "_model_module": "@jupyter-widgets/controls",
            "_model_module_version": "1.5.0",
            "_model_name": "HTMLModel",
            "_view_count": null,
            "_view_module": "@jupyter-widgets/controls",
            "_view_module_version": "1.5.0",
            "_view_name": "HTMLView",
            "description": "",
            "description_tooltip": null,
            "layout": "IPY_MODEL_5d82b04f218d47c5821d735cf6b6816f",
            "placeholder": "​",
            "style": "IPY_MODEL_0ef0f2a5948b432eadff79f524eaaef5",
            "value": " 25.1k/25.1k [00:00&lt;00:00, 870kB/s]"
          }
        },
        "09f1d99733ad44cd8f4c152141b20194": {
          "model_module": "@jupyter-widgets/base",
          "model_module_version": "1.2.0",
          "model_name": "LayoutModel",
          "state": {
            "_model_module": "@jupyter-widgets/base",
            "_model_module_version": "1.2.0",
            "_model_name": "LayoutModel",
            "_view_count": null,
            "_view_module": "@jupyter-widgets/base",
            "_view_module_version": "1.2.0",
            "_view_name": "LayoutView",
            "align_content": null,
            "align_items": null,
            "align_self": null,
            "border": null,
            "bottom": null,
            "display": null,
            "flex": null,
            "flex_flow": null,
            "grid_area": null,
            "grid_auto_columns": null,
            "grid_auto_flow": null,
            "grid_auto_rows": null,
            "grid_column": null,
            "grid_gap": null,
            "grid_row": null,
            "grid_template_areas": null,
            "grid_template_columns": null,
            "grid_template_rows": null,
            "height": null,
            "justify_content": null,
            "justify_items": null,
            "left": null,
            "margin": null,
            "max_height": null,
            "max_width": null,
            "min_height": null,
            "min_width": null,
            "object_fit": null,
            "object_position": null,
            "order": null,
            "overflow": null,
            "overflow_x": null,
            "overflow_y": null,
            "padding": null,
            "right": null,
            "top": null,
            "visibility": null,
            "width": null
          }
        },
        "0c058e5d31d043989d1aacf239926409": {
          "model_module": "@jupyter-widgets/controls",
          "model_module_version": "1.5.0",
          "model_name": "HTMLModel",
          "state": {
            "_dom_classes": [],
            "_model_module": "@jupyter-widgets/controls",
            "_model_module_version": "1.5.0",
            "_model_name": "HTMLModel",
            "_view_count": null,
            "_view_module": "@jupyter-widgets/controls",
            "_view_module_version": "1.5.0",
            "_view_name": "HTMLView",
            "description": "",
            "description_tooltip": null,
            "layout": "IPY_MODEL_9363086ea3344a6f82a2bf7bee70ef0d",
            "placeholder": "​",
            "style": "IPY_MODEL_a936d2cefa5d4ebf947e5f3f17efb67a",
            "value": " 2/2 [01:59&lt;00:00, 55.68s/it]"
          }
        },
        "0c33ed4ba84143df88f61104f9e0231d": {
          "model_module": "@jupyter-widgets/controls",
          "model_module_version": "1.5.0",
          "model_name": "HBoxModel",
          "state": {
            "_dom_classes": [],
            "_model_module": "@jupyter-widgets/controls",
            "_model_module_version": "1.5.0",
            "_model_name": "HBoxModel",
            "_view_count": null,
            "_view_module": "@jupyter-widgets/controls",
            "_view_module_version": "1.5.0",
            "_view_name": "HBoxView",
            "box_style": "",
            "children": [
              "IPY_MODEL_9d2a837f448545ce9320248f73185290",
              "IPY_MODEL_422545c9d10e4519a664c2731cdb1047",
              "IPY_MODEL_cc1f8053f0b64b129cead7c6325bad77"
            ],
            "layout": "IPY_MODEL_17b09fe1a5624e0aa291cb650442c207"
          }
        },
        "0e10fa4602e64ea2b3ed357b76607e91": {
          "model_module": "@jupyter-widgets/base",
          "model_module_version": "1.2.0",
          "model_name": "LayoutModel",
          "state": {
            "_model_module": "@jupyter-widgets/base",
            "_model_module_version": "1.2.0",
            "_model_name": "LayoutModel",
            "_view_count": null,
            "_view_module": "@jupyter-widgets/base",
            "_view_module_version": "1.2.0",
            "_view_name": "LayoutView",
            "align_content": null,
            "align_items": null,
            "align_self": null,
            "border": null,
            "bottom": null,
            "display": null,
            "flex": null,
            "flex_flow": null,
            "grid_area": null,
            "grid_auto_columns": null,
            "grid_auto_flow": null,
            "grid_auto_rows": null,
            "grid_column": null,
            "grid_gap": null,
            "grid_row": null,
            "grid_template_areas": null,
            "grid_template_columns": null,
            "grid_template_rows": null,
            "height": null,
            "justify_content": null,
            "justify_items": null,
            "left": null,
            "margin": null,
            "max_height": null,
            "max_width": null,
            "min_height": null,
            "min_width": null,
            "object_fit": null,
            "object_position": null,
            "order": null,
            "overflow": null,
            "overflow_x": null,
            "overflow_y": null,
            "padding": null,
            "right": null,
            "top": null,
            "visibility": null,
            "width": null
          }
        },
        "0ef0f2a5948b432eadff79f524eaaef5": {
          "model_module": "@jupyter-widgets/controls",
          "model_module_version": "1.5.0",
          "model_name": "DescriptionStyleModel",
          "state": {
            "_model_module": "@jupyter-widgets/controls",
            "_model_module_version": "1.5.0",
            "_model_name": "DescriptionStyleModel",
            "_view_count": null,
            "_view_module": "@jupyter-widgets/base",
            "_view_module_version": "1.2.0",
            "_view_name": "StyleView",
            "description_width": ""
          }
        },
        "0f582e881bb947a18968db0da6c2c1b1": {
          "model_module": "@jupyter-widgets/base",
          "model_module_version": "1.2.0",
          "model_name": "LayoutModel",
          "state": {
            "_model_module": "@jupyter-widgets/base",
            "_model_module_version": "1.2.0",
            "_model_name": "LayoutModel",
            "_view_count": null,
            "_view_module": "@jupyter-widgets/base",
            "_view_module_version": "1.2.0",
            "_view_name": "LayoutView",
            "align_content": null,
            "align_items": null,
            "align_self": null,
            "border": null,
            "bottom": null,
            "display": null,
            "flex": null,
            "flex_flow": null,
            "grid_area": null,
            "grid_auto_columns": null,
            "grid_auto_flow": null,
            "grid_auto_rows": null,
            "grid_column": null,
            "grid_gap": null,
            "grid_row": null,
            "grid_template_areas": null,
            "grid_template_columns": null,
            "grid_template_rows": null,
            "height": null,
            "justify_content": null,
            "justify_items": null,
            "left": null,
            "margin": null,
            "max_height": null,
            "max_width": null,
            "min_height": null,
            "min_width": null,
            "object_fit": null,
            "object_position": null,
            "order": null,
            "overflow": null,
            "overflow_x": null,
            "overflow_y": null,
            "padding": null,
            "right": null,
            "top": null,
            "visibility": null,
            "width": null
          }
        },
        "17b09fe1a5624e0aa291cb650442c207": {
          "model_module": "@jupyter-widgets/base",
          "model_module_version": "1.2.0",
          "model_name": "LayoutModel",
          "state": {
            "_model_module": "@jupyter-widgets/base",
            "_model_module_version": "1.2.0",
            "_model_name": "LayoutModel",
            "_view_count": null,
            "_view_module": "@jupyter-widgets/base",
            "_view_module_version": "1.2.0",
            "_view_name": "LayoutView",
            "align_content": null,
            "align_items": null,
            "align_self": null,
            "border": null,
            "bottom": null,
            "display": null,
            "flex": null,
            "flex_flow": null,
            "grid_area": null,
            "grid_auto_columns": null,
            "grid_auto_flow": null,
            "grid_auto_rows": null,
            "grid_column": null,
            "grid_gap": null,
            "grid_row": null,
            "grid_template_areas": null,
            "grid_template_columns": null,
            "grid_template_rows": null,
            "height": null,
            "justify_content": null,
            "justify_items": null,
            "left": null,
            "margin": null,
            "max_height": null,
            "max_width": null,
            "min_height": null,
            "min_width": null,
            "object_fit": null,
            "object_position": null,
            "order": null,
            "overflow": null,
            "overflow_x": null,
            "overflow_y": null,
            "padding": null,
            "right": null,
            "top": null,
            "visibility": null,
            "width": null
          }
        },
        "1aa8e09d7a274b2c94a9c46060fa0dca": {
          "model_module": "@jupyter-widgets/controls",
          "model_module_version": "1.5.0",
          "model_name": "DescriptionStyleModel",
          "state": {
            "_model_module": "@jupyter-widgets/controls",
            "_model_module_version": "1.5.0",
            "_model_name": "DescriptionStyleModel",
            "_view_count": null,
            "_view_module": "@jupyter-widgets/base",
            "_view_module_version": "1.2.0",
            "_view_name": "StyleView",
            "description_width": ""
          }
        },
        "1c600c501d0d4275b2984788da858678": {
          "model_module": "@jupyter-widgets/controls",
          "model_module_version": "1.5.0",
          "model_name": "HBoxModel",
          "state": {
            "_dom_classes": [],
            "_model_module": "@jupyter-widgets/controls",
            "_model_module_version": "1.5.0",
            "_model_name": "HBoxModel",
            "_view_count": null,
            "_view_module": "@jupyter-widgets/controls",
            "_view_module_version": "1.5.0",
            "_view_name": "HBoxView",
            "box_style": "",
            "children": [
              "IPY_MODEL_d5f4852fff174571984fa72b8b70279d",
              "IPY_MODEL_e40acd52569348758429754366fa76c4",
              "IPY_MODEL_0c058e5d31d043989d1aacf239926409"
            ],
            "layout": "IPY_MODEL_062d8d8d16424fa7bf998944c133f1b2"
          }
        },
        "20a6cbd9973d4ed19ea5532590537d2b": {
          "model_module": "@jupyter-widgets/controls",
          "model_module_version": "1.5.0",
          "model_name": "DescriptionStyleModel",
          "state": {
            "_model_module": "@jupyter-widgets/controls",
            "_model_module_version": "1.5.0",
            "_model_name": "DescriptionStyleModel",
            "_view_count": null,
            "_view_module": "@jupyter-widgets/base",
            "_view_module_version": "1.2.0",
            "_view_name": "StyleView",
            "description_width": ""
          }
        },
        "2312fee254444f04924758ba2c32e3e6": {
          "model_module": "@jupyter-widgets/controls",
          "model_module_version": "1.5.0",
          "model_name": "ProgressStyleModel",
          "state": {
            "_model_module": "@jupyter-widgets/controls",
            "_model_module_version": "1.5.0",
            "_model_name": "ProgressStyleModel",
            "_view_count": null,
            "_view_module": "@jupyter-widgets/base",
            "_view_module_version": "1.2.0",
            "_view_name": "StyleView",
            "bar_color": null,
            "description_width": ""
          }
        },
        "23ed3856b8a143c6b9e29a9cdc7c6664": {
          "model_module": "@jupyter-widgets/base",
          "model_module_version": "1.2.0",
          "model_name": "LayoutModel",
          "state": {
            "_model_module": "@jupyter-widgets/base",
            "_model_module_version": "1.2.0",
            "_model_name": "LayoutModel",
            "_view_count": null,
            "_view_module": "@jupyter-widgets/base",
            "_view_module_version": "1.2.0",
            "_view_name": "LayoutView",
            "align_content": null,
            "align_items": null,
            "align_self": null,
            "border": null,
            "bottom": null,
            "display": null,
            "flex": null,
            "flex_flow": null,
            "grid_area": null,
            "grid_auto_columns": null,
            "grid_auto_flow": null,
            "grid_auto_rows": null,
            "grid_column": null,
            "grid_gap": null,
            "grid_row": null,
            "grid_template_areas": null,
            "grid_template_columns": null,
            "grid_template_rows": null,
            "height": null,
            "justify_content": null,
            "justify_items": null,
            "left": null,
            "margin": null,
            "max_height": null,
            "max_width": null,
            "min_height": null,
            "min_width": null,
            "object_fit": null,
            "object_position": null,
            "order": null,
            "overflow": null,
            "overflow_x": null,
            "overflow_y": null,
            "padding": null,
            "right": null,
            "top": null,
            "visibility": null,
            "width": null
          }
        },
        "273882aaecda4273b63c619ca317a166": {
          "model_module": "@jupyter-widgets/base",
          "model_module_version": "1.2.0",
          "model_name": "LayoutModel",
          "state": {
            "_model_module": "@jupyter-widgets/base",
            "_model_module_version": "1.2.0",
            "_model_name": "LayoutModel",
            "_view_count": null,
            "_view_module": "@jupyter-widgets/base",
            "_view_module_version": "1.2.0",
            "_view_name": "LayoutView",
            "align_content": null,
            "align_items": null,
            "align_self": null,
            "border": null,
            "bottom": null,
            "display": null,
            "flex": null,
            "flex_flow": null,
            "grid_area": null,
            "grid_auto_columns": null,
            "grid_auto_flow": null,
            "grid_auto_rows": null,
            "grid_column": null,
            "grid_gap": null,
            "grid_row": null,
            "grid_template_areas": null,
            "grid_template_columns": null,
            "grid_template_rows": null,
            "height": null,
            "justify_content": null,
            "justify_items": null,
            "left": null,
            "margin": null,
            "max_height": null,
            "max_width": null,
            "min_height": null,
            "min_width": null,
            "object_fit": null,
            "object_position": null,
            "order": null,
            "overflow": null,
            "overflow_x": null,
            "overflow_y": null,
            "padding": null,
            "right": null,
            "top": null,
            "visibility": null,
            "width": null
          }
        },
        "28c0f099742341a4b2aa007ce41d8890": {
          "model_module": "@jupyter-widgets/controls",
          "model_module_version": "1.5.0",
          "model_name": "DescriptionStyleModel",
          "state": {
            "_model_module": "@jupyter-widgets/controls",
            "_model_module_version": "1.5.0",
            "_model_name": "DescriptionStyleModel",
            "_view_count": null,
            "_view_module": "@jupyter-widgets/base",
            "_view_module_version": "1.2.0",
            "_view_name": "StyleView",
            "description_width": ""
          }
        },
        "2e84a4cae5584bbdac7cab52390032c4": {
          "model_module": "@jupyter-widgets/base",
          "model_module_version": "1.2.0",
          "model_name": "LayoutModel",
          "state": {
            "_model_module": "@jupyter-widgets/base",
            "_model_module_version": "1.2.0",
            "_model_name": "LayoutModel",
            "_view_count": null,
            "_view_module": "@jupyter-widgets/base",
            "_view_module_version": "1.2.0",
            "_view_name": "LayoutView",
            "align_content": null,
            "align_items": null,
            "align_self": null,
            "border": null,
            "bottom": null,
            "display": null,
            "flex": null,
            "flex_flow": null,
            "grid_area": null,
            "grid_auto_columns": null,
            "grid_auto_flow": null,
            "grid_auto_rows": null,
            "grid_column": null,
            "grid_gap": null,
            "grid_row": null,
            "grid_template_areas": null,
            "grid_template_columns": null,
            "grid_template_rows": null,
            "height": null,
            "justify_content": null,
            "justify_items": null,
            "left": null,
            "margin": null,
            "max_height": null,
            "max_width": null,
            "min_height": null,
            "min_width": null,
            "object_fit": null,
            "object_position": null,
            "order": null,
            "overflow": null,
            "overflow_x": null,
            "overflow_y": null,
            "padding": null,
            "right": null,
            "top": null,
            "visibility": null,
            "width": null
          }
        },
        "314d664b9125453eb5bd0bdea8a3399f": {
          "model_module": "@jupyter-widgets/base",
          "model_module_version": "1.2.0",
          "model_name": "LayoutModel",
          "state": {
            "_model_module": "@jupyter-widgets/base",
            "_model_module_version": "1.2.0",
            "_model_name": "LayoutModel",
            "_view_count": null,
            "_view_module": "@jupyter-widgets/base",
            "_view_module_version": "1.2.0",
            "_view_name": "LayoutView",
            "align_content": null,
            "align_items": null,
            "align_self": null,
            "border": null,
            "bottom": null,
            "display": null,
            "flex": null,
            "flex_flow": null,
            "grid_area": null,
            "grid_auto_columns": null,
            "grid_auto_flow": null,
            "grid_auto_rows": null,
            "grid_column": null,
            "grid_gap": null,
            "grid_row": null,
            "grid_template_areas": null,
            "grid_template_columns": null,
            "grid_template_rows": null,
            "height": null,
            "justify_content": null,
            "justify_items": null,
            "left": null,
            "margin": null,
            "max_height": null,
            "max_width": null,
            "min_height": null,
            "min_width": null,
            "object_fit": null,
            "object_position": null,
            "order": null,
            "overflow": null,
            "overflow_x": null,
            "overflow_y": null,
            "padding": null,
            "right": null,
            "top": null,
            "visibility": null,
            "width": null
          }
        },
        "38da81fff40c4be58acacd4ce4b3899d": {
          "model_module": "@jupyter-widgets/controls",
          "model_module_version": "1.5.0",
          "model_name": "HBoxModel",
          "state": {
            "_dom_classes": [],
            "_model_module": "@jupyter-widgets/controls",
            "_model_module_version": "1.5.0",
            "_model_name": "HBoxModel",
            "_view_count": null,
            "_view_module": "@jupyter-widgets/controls",
            "_view_module_version": "1.5.0",
            "_view_name": "HBoxView",
            "box_style": "",
            "children": [
              "IPY_MODEL_b5056dfdb7c54be3aa837f28893b63ec",
              "IPY_MODEL_c424dc66dafd4930ad3952a762cf3c84",
              "IPY_MODEL_09b072c2d4ed4e87a82d5ae3e857fcf6"
            ],
            "layout": "IPY_MODEL_23ed3856b8a143c6b9e29a9cdc7c6664"
          }
        },
        "3e0bf5093f62416fa2215a0ead571bd0": {
          "model_module": "@jupyter-widgets/controls",
          "model_module_version": "1.5.0",
          "model_name": "FloatProgressModel",
          "state": {
            "_dom_classes": [],
            "_model_module": "@jupyter-widgets/controls",
            "_model_module_version": "1.5.0",
            "_model_name": "FloatProgressModel",
            "_view_count": null,
            "_view_module": "@jupyter-widgets/controls",
            "_view_module_version": "1.5.0",
            "_view_name": "ProgressView",
            "bar_style": "success",
            "description": "",
            "description_tooltip": null,
            "layout": "IPY_MODEL_de35a621ace94ce4ab9355c036e73704",
            "max": 9942981696,
            "min": 0,
            "orientation": "horizontal",
            "style": "IPY_MODEL_2312fee254444f04924758ba2c32e3e6",
            "value": 9942981696
          }
        },
        "422545c9d10e4519a664c2731cdb1047": {
          "model_module": "@jupyter-widgets/controls",
          "model_module_version": "1.5.0",
          "model_name": "FloatProgressModel",
          "state": {
            "_dom_classes": [],
            "_model_module": "@jupyter-widgets/controls",
            "_model_module_version": "1.5.0",
            "_model_name": "FloatProgressModel",
            "_view_count": null,
            "_view_module": "@jupyter-widgets/controls",
            "_view_module_version": "1.5.0",
            "_view_name": "ProgressView",
            "bar_style": "success",
            "description": "",
            "description_tooltip": null,
            "layout": "IPY_MODEL_c914a78d81bb401b87e1e3f40f9df4cb",
            "max": 116,
            "min": 0,
            "orientation": "horizontal",
            "style": "IPY_MODEL_0243ef7f242a48c484089432add281e7",
            "value": 116
          }
        },
        "4355ba8a148f4aeca3b44724cb3fd751": {
          "model_module": "@jupyter-widgets/controls",
          "model_module_version": "1.5.0",
          "model_name": "ProgressStyleModel",
          "state": {
            "_model_module": "@jupyter-widgets/controls",
            "_model_module_version": "1.5.0",
            "_model_name": "ProgressStyleModel",
            "_view_count": null,
            "_view_module": "@jupyter-widgets/base",
            "_view_module_version": "1.2.0",
            "_view_name": "StyleView",
            "bar_color": null,
            "description_width": ""
          }
        },
        "46264ce8aeca42d6993741530e28befd": {
          "model_module": "@jupyter-widgets/controls",
          "model_module_version": "1.5.0",
          "model_name": "DescriptionStyleModel",
          "state": {
            "_model_module": "@jupyter-widgets/controls",
            "_model_module_version": "1.5.0",
            "_model_name": "DescriptionStyleModel",
            "_view_count": null,
            "_view_module": "@jupyter-widgets/base",
            "_view_module_version": "1.2.0",
            "_view_name": "StyleView",
            "description_width": ""
          }
        },
        "5207ef47383a498caf04492f44af5f35": {
          "model_module": "@jupyter-widgets/controls",
          "model_module_version": "1.5.0",
          "model_name": "HTMLModel",
          "state": {
            "_dom_classes": [],
            "_model_module": "@jupyter-widgets/controls",
            "_model_module_version": "1.5.0",
            "_model_name": "HTMLModel",
            "_view_count": null,
            "_view_module": "@jupyter-widgets/controls",
            "_view_module_version": "1.5.0",
            "_view_name": "HTMLView",
            "description": "",
            "description_tooltip": null,
            "layout": "IPY_MODEL_a8ce52ee3e45496a808bc3c35e8baf9b",
            "placeholder": "​",
            "style": "IPY_MODEL_1aa8e09d7a274b2c94a9c46060fa0dca",
            "value": " 4.54G/4.54G [00:36&lt;00:00, 47.2MB/s]"
          }
        },
        "575b0fc1b0cf4e069ad5e51bcee56965": {
          "model_module": "@jupyter-widgets/base",
          "model_module_version": "1.2.0",
          "model_name": "LayoutModel",
          "state": {
            "_model_module": "@jupyter-widgets/base",
            "_model_module_version": "1.2.0",
            "_model_name": "LayoutModel",
            "_view_count": null,
            "_view_module": "@jupyter-widgets/base",
            "_view_module_version": "1.2.0",
            "_view_name": "LayoutView",
            "align_content": null,
            "align_items": null,
            "align_self": null,
            "border": null,
            "bottom": null,
            "display": null,
            "flex": null,
            "flex_flow": null,
            "grid_area": null,
            "grid_auto_columns": null,
            "grid_auto_flow": null,
            "grid_auto_rows": null,
            "grid_column": null,
            "grid_gap": null,
            "grid_row": null,
            "grid_template_areas": null,
            "grid_template_columns": null,
            "grid_template_rows": null,
            "height": null,
            "justify_content": null,
            "justify_items": null,
            "left": null,
            "margin": null,
            "max_height": null,
            "max_width": null,
            "min_height": null,
            "min_width": null,
            "object_fit": null,
            "object_position": null,
            "order": null,
            "overflow": null,
            "overflow_x": null,
            "overflow_y": null,
            "padding": null,
            "right": null,
            "top": null,
            "visibility": null,
            "width": null
          }
        },
        "5d82b04f218d47c5821d735cf6b6816f": {
          "model_module": "@jupyter-widgets/base",
          "model_module_version": "1.2.0",
          "model_name": "LayoutModel",
          "state": {
            "_model_module": "@jupyter-widgets/base",
            "_model_module_version": "1.2.0",
            "_model_name": "LayoutModel",
            "_view_count": null,
            "_view_module": "@jupyter-widgets/base",
            "_view_module_version": "1.2.0",
            "_view_name": "LayoutView",
            "align_content": null,
            "align_items": null,
            "align_self": null,
            "border": null,
            "bottom": null,
            "display": null,
            "flex": null,
            "flex_flow": null,
            "grid_area": null,
            "grid_auto_columns": null,
            "grid_auto_flow": null,
            "grid_auto_rows": null,
            "grid_column": null,
            "grid_gap": null,
            "grid_row": null,
            "grid_template_areas": null,
            "grid_template_columns": null,
            "grid_template_rows": null,
            "height": null,
            "justify_content": null,
            "justify_items": null,
            "left": null,
            "margin": null,
            "max_height": null,
            "max_width": null,
            "min_height": null,
            "min_width": null,
            "object_fit": null,
            "object_position": null,
            "order": null,
            "overflow": null,
            "overflow_x": null,
            "overflow_y": null,
            "padding": null,
            "right": null,
            "top": null,
            "visibility": null,
            "width": null
          }
        },
        "5e31ec7e8b7e4ea89866570ccf7a9e3a": {
          "model_module": "@jupyter-widgets/controls",
          "model_module_version": "1.5.0",
          "model_name": "FloatProgressModel",
          "state": {
            "_dom_classes": [],
            "_model_module": "@jupyter-widgets/controls",
            "_model_module_version": "1.5.0",
            "_model_name": "FloatProgressModel",
            "_view_count": null,
            "_view_module": "@jupyter-widgets/controls",
            "_view_module_version": "1.5.0",
            "_view_name": "ProgressView",
            "bar_style": "success",
            "description": "",
            "description_tooltip": null,
            "layout": "IPY_MODEL_996fd9d609a84e84b366762f8c408d15",
            "max": 2,
            "min": 0,
            "orientation": "horizontal",
            "style": "IPY_MODEL_844814aa04ed4cd7aa08c669d43c8f47",
            "value": 2
          }
        },
        "61061be5aee24238920aae3525e23785": {
          "model_module": "@jupyter-widgets/base",
          "model_module_version": "1.2.0",
          "model_name": "LayoutModel",
          "state": {
            "_model_module": "@jupyter-widgets/base",
            "_model_module_version": "1.2.0",
            "_model_name": "LayoutModel",
            "_view_count": null,
            "_view_module": "@jupyter-widgets/base",
            "_view_module_version": "1.2.0",
            "_view_name": "LayoutView",
            "align_content": null,
            "align_items": null,
            "align_self": null,
            "border": null,
            "bottom": null,
            "display": null,
            "flex": null,
            "flex_flow": null,
            "grid_area": null,
            "grid_auto_columns": null,
            "grid_auto_flow": null,
            "grid_auto_rows": null,
            "grid_column": null,
            "grid_gap": null,
            "grid_row": null,
            "grid_template_areas": null,
            "grid_template_columns": null,
            "grid_template_rows": null,
            "height": null,
            "justify_content": null,
            "justify_items": null,
            "left": null,
            "margin": null,
            "max_height": null,
            "max_width": null,
            "min_height": null,
            "min_width": null,
            "object_fit": null,
            "object_position": null,
            "order": null,
            "overflow": null,
            "overflow_x": null,
            "overflow_y": null,
            "padding": null,
            "right": null,
            "top": null,
            "visibility": null,
            "width": null
          }
        },
        "6849bf03181041c3bb030af02a57fa82": {
          "model_module": "@jupyter-widgets/base",
          "model_module_version": "1.2.0",
          "model_name": "LayoutModel",
          "state": {
            "_model_module": "@jupyter-widgets/base",
            "_model_module_version": "1.2.0",
            "_model_name": "LayoutModel",
            "_view_count": null,
            "_view_module": "@jupyter-widgets/base",
            "_view_module_version": "1.2.0",
            "_view_name": "LayoutView",
            "align_content": null,
            "align_items": null,
            "align_self": null,
            "border": null,
            "bottom": null,
            "display": null,
            "flex": null,
            "flex_flow": null,
            "grid_area": null,
            "grid_auto_columns": null,
            "grid_auto_flow": null,
            "grid_auto_rows": null,
            "grid_column": null,
            "grid_gap": null,
            "grid_row": null,
            "grid_template_areas": null,
            "grid_template_columns": null,
            "grid_template_rows": null,
            "height": null,
            "justify_content": null,
            "justify_items": null,
            "left": null,
            "margin": null,
            "max_height": null,
            "max_width": null,
            "min_height": null,
            "min_width": null,
            "object_fit": null,
            "object_position": null,
            "order": null,
            "overflow": null,
            "overflow_x": null,
            "overflow_y": null,
            "padding": null,
            "right": null,
            "top": null,
            "visibility": null,
            "width": null
          }
        },
        "6d1c7ede5e944fc190b862dd26e23a41": {
          "model_module": "@jupyter-widgets/controls",
          "model_module_version": "1.5.0",
          "model_name": "DescriptionStyleModel",
          "state": {
            "_model_module": "@jupyter-widgets/controls",
            "_model_module_version": "1.5.0",
            "_model_name": "DescriptionStyleModel",
            "_view_count": null,
            "_view_module": "@jupyter-widgets/base",
            "_view_module_version": "1.2.0",
            "_view_name": "StyleView",
            "description_width": ""
          }
        },
        "7a8c7115be3e4b4ab2fd803676a576ce": {
          "model_module": "@jupyter-widgets/controls",
          "model_module_version": "1.5.0",
          "model_name": "ProgressStyleModel",
          "state": {
            "_model_module": "@jupyter-widgets/controls",
            "_model_module_version": "1.5.0",
            "_model_name": "ProgressStyleModel",
            "_view_count": null,
            "_view_module": "@jupyter-widgets/base",
            "_view_module_version": "1.2.0",
            "_view_name": "StyleView",
            "bar_color": null,
            "description_width": ""
          }
        },
        "827f9eb87b82490d9e70951b34c75fb0": {
          "model_module": "@jupyter-widgets/controls",
          "model_module_version": "1.5.0",
          "model_name": "HBoxModel",
          "state": {
            "_dom_classes": [],
            "_model_module": "@jupyter-widgets/controls",
            "_model_module_version": "1.5.0",
            "_model_name": "HBoxModel",
            "_view_count": null,
            "_view_module": "@jupyter-widgets/controls",
            "_view_module_version": "1.5.0",
            "_view_name": "HBoxView",
            "box_style": "",
            "children": [
              "IPY_MODEL_fef978dcfb174bc79a5fc8e5333603ca",
              "IPY_MODEL_5e31ec7e8b7e4ea89866570ccf7a9e3a",
              "IPY_MODEL_08a9c57041c849eaa0d823a1895f50b7"
            ],
            "layout": "IPY_MODEL_0f582e881bb947a18968db0da6c2c1b1"
          }
        },
        "83281b4a446f44ea9b87722d80c02328": {
          "model_module": "@jupyter-widgets/controls",
          "model_module_version": "1.5.0",
          "model_name": "DescriptionStyleModel",
          "state": {
            "_model_module": "@jupyter-widgets/controls",
            "_model_module_version": "1.5.0",
            "_model_name": "DescriptionStyleModel",
            "_view_count": null,
            "_view_module": "@jupyter-widgets/base",
            "_view_module_version": "1.2.0",
            "_view_name": "StyleView",
            "description_width": ""
          }
        },
        "844814aa04ed4cd7aa08c669d43c8f47": {
          "model_module": "@jupyter-widgets/controls",
          "model_module_version": "1.5.0",
          "model_name": "ProgressStyleModel",
          "state": {
            "_model_module": "@jupyter-widgets/controls",
            "_model_module_version": "1.5.0",
            "_model_name": "ProgressStyleModel",
            "_view_count": null,
            "_view_module": "@jupyter-widgets/base",
            "_view_module_version": "1.2.0",
            "_view_name": "StyleView",
            "bar_color": null,
            "description_width": ""
          }
        },
        "86e7feb14e334923956e1be1ed0d8887": {
          "model_module": "@jupyter-widgets/base",
          "model_module_version": "1.2.0",
          "model_name": "LayoutModel",
          "state": {
            "_model_module": "@jupyter-widgets/base",
            "_model_module_version": "1.2.0",
            "_model_name": "LayoutModel",
            "_view_count": null,
            "_view_module": "@jupyter-widgets/base",
            "_view_module_version": "1.2.0",
            "_view_name": "LayoutView",
            "align_content": null,
            "align_items": null,
            "align_self": null,
            "border": null,
            "bottom": null,
            "display": null,
            "flex": null,
            "flex_flow": null,
            "grid_area": null,
            "grid_auto_columns": null,
            "grid_auto_flow": null,
            "grid_auto_rows": null,
            "grid_column": null,
            "grid_gap": null,
            "grid_row": null,
            "grid_template_areas": null,
            "grid_template_columns": null,
            "grid_template_rows": null,
            "height": null,
            "justify_content": null,
            "justify_items": null,
            "left": null,
            "margin": null,
            "max_height": null,
            "max_width": null,
            "min_height": null,
            "min_width": null,
            "object_fit": null,
            "object_position": null,
            "order": null,
            "overflow": null,
            "overflow_x": null,
            "overflow_y": null,
            "padding": null,
            "right": null,
            "top": null,
            "visibility": null,
            "width": null
          }
        },
        "8cfd5b66021d4829ba496a530c056642": {
          "model_module": "@jupyter-widgets/controls",
          "model_module_version": "1.5.0",
          "model_name": "HBoxModel",
          "state": {
            "_dom_classes": [],
            "_model_module": "@jupyter-widgets/controls",
            "_model_module_version": "1.5.0",
            "_model_name": "HBoxModel",
            "_view_count": null,
            "_view_module": "@jupyter-widgets/controls",
            "_view_module_version": "1.5.0",
            "_view_name": "HBoxView",
            "box_style": "",
            "children": [
              "IPY_MODEL_e1fd2cfdfa4f4fe981f25eb94dd59101",
              "IPY_MODEL_3e0bf5093f62416fa2215a0ead571bd0",
              "IPY_MODEL_a127ecf7e750462b81d928b2d17de725"
            ],
            "layout": "IPY_MODEL_dc743909be5e43b69bc08dd765eb5474"
          }
        },
        "9363086ea3344a6f82a2bf7bee70ef0d": {
          "model_module": "@jupyter-widgets/base",
          "model_module_version": "1.2.0",
          "model_name": "LayoutModel",
          "state": {
            "_model_module": "@jupyter-widgets/base",
            "_model_module_version": "1.2.0",
            "_model_name": "LayoutModel",
            "_view_count": null,
            "_view_module": "@jupyter-widgets/base",
            "_view_module_version": "1.2.0",
            "_view_name": "LayoutView",
            "align_content": null,
            "align_items": null,
            "align_self": null,
            "border": null,
            "bottom": null,
            "display": null,
            "flex": null,
            "flex_flow": null,
            "grid_area": null,
            "grid_auto_columns": null,
            "grid_auto_flow": null,
            "grid_auto_rows": null,
            "grid_column": null,
            "grid_gap": null,
            "grid_row": null,
            "grid_template_areas": null,
            "grid_template_columns": null,
            "grid_template_rows": null,
            "height": null,
            "justify_content": null,
            "justify_items": null,
            "left": null,
            "margin": null,
            "max_height": null,
            "max_width": null,
            "min_height": null,
            "min_width": null,
            "object_fit": null,
            "object_position": null,
            "order": null,
            "overflow": null,
            "overflow_x": null,
            "overflow_y": null,
            "padding": null,
            "right": null,
            "top": null,
            "visibility": null,
            "width": null
          }
        },
        "99351c1c363446cea47ff8792f23c365": {
          "model_module": "@jupyter-widgets/controls",
          "model_module_version": "1.5.0",
          "model_name": "ProgressStyleModel",
          "state": {
            "_model_module": "@jupyter-widgets/controls",
            "_model_module_version": "1.5.0",
            "_model_name": "ProgressStyleModel",
            "_view_count": null,
            "_view_module": "@jupyter-widgets/base",
            "_view_module_version": "1.2.0",
            "_view_name": "StyleView",
            "bar_color": null,
            "description_width": ""
          }
        },
        "996fd9d609a84e84b366762f8c408d15": {
          "model_module": "@jupyter-widgets/base",
          "model_module_version": "1.2.0",
          "model_name": "LayoutModel",
          "state": {
            "_model_module": "@jupyter-widgets/base",
            "_model_module_version": "1.2.0",
            "_model_name": "LayoutModel",
            "_view_count": null,
            "_view_module": "@jupyter-widgets/base",
            "_view_module_version": "1.2.0",
            "_view_name": "LayoutView",
            "align_content": null,
            "align_items": null,
            "align_self": null,
            "border": null,
            "bottom": null,
            "display": null,
            "flex": null,
            "flex_flow": null,
            "grid_area": null,
            "grid_auto_columns": null,
            "grid_auto_flow": null,
            "grid_auto_rows": null,
            "grid_column": null,
            "grid_gap": null,
            "grid_row": null,
            "grid_template_areas": null,
            "grid_template_columns": null,
            "grid_template_rows": null,
            "height": null,
            "justify_content": null,
            "justify_items": null,
            "left": null,
            "margin": null,
            "max_height": null,
            "max_width": null,
            "min_height": null,
            "min_width": null,
            "object_fit": null,
            "object_position": null,
            "order": null,
            "overflow": null,
            "overflow_x": null,
            "overflow_y": null,
            "padding": null,
            "right": null,
            "top": null,
            "visibility": null,
            "width": null
          }
        },
        "9a1ef34de7734695bd1d31cac0219084": {
          "model_module": "@jupyter-widgets/controls",
          "model_module_version": "1.5.0",
          "model_name": "DescriptionStyleModel",
          "state": {
            "_model_module": "@jupyter-widgets/controls",
            "_model_module_version": "1.5.0",
            "_model_name": "DescriptionStyleModel",
            "_view_count": null,
            "_view_module": "@jupyter-widgets/base",
            "_view_module_version": "1.2.0",
            "_view_name": "StyleView",
            "description_width": ""
          }
        },
        "9d2a837f448545ce9320248f73185290": {
          "model_module": "@jupyter-widgets/controls",
          "model_module_version": "1.5.0",
          "model_name": "HTMLModel",
          "state": {
            "_dom_classes": [],
            "_model_module": "@jupyter-widgets/controls",
            "_model_module_version": "1.5.0",
            "_model_name": "HTMLModel",
            "_view_count": null,
            "_view_module": "@jupyter-widgets/controls",
            "_view_module_version": "1.5.0",
            "_view_name": "HTMLView",
            "description": "",
            "description_tooltip": null,
            "layout": "IPY_MODEL_273882aaecda4273b63c619ca317a166",
            "placeholder": "​",
            "style": "IPY_MODEL_6d1c7ede5e944fc190b862dd26e23a41",
            "value": "generation_config.json: 100%"
          }
        },
        "9e35afeb37d04c6ab87db4a2e17c485f": {
          "model_module": "@jupyter-widgets/controls",
          "model_module_version": "1.5.0",
          "model_name": "DescriptionStyleModel",
          "state": {
            "_model_module": "@jupyter-widgets/controls",
            "_model_module_version": "1.5.0",
            "_model_name": "DescriptionStyleModel",
            "_view_count": null,
            "_view_module": "@jupyter-widgets/base",
            "_view_module_version": "1.2.0",
            "_view_name": "StyleView",
            "description_width": ""
          }
        },
        "a127ecf7e750462b81d928b2d17de725": {
          "model_module": "@jupyter-widgets/controls",
          "model_module_version": "1.5.0",
          "model_name": "HTMLModel",
          "state": {
            "_dom_classes": [],
            "_model_module": "@jupyter-widgets/controls",
            "_model_module_version": "1.5.0",
            "_model_name": "HTMLModel",
            "_view_count": null,
            "_view_module": "@jupyter-widgets/controls",
            "_view_module_version": "1.5.0",
            "_view_name": "HTMLView",
            "description": "",
            "description_tooltip": null,
            "layout": "IPY_MODEL_575b0fc1b0cf4e069ad5e51bcee56965",
            "placeholder": "​",
            "style": "IPY_MODEL_20a6cbd9973d4ed19ea5532590537d2b",
            "value": " 9.94G/9.94G [01:22&lt;00:00, 63.1MB/s]"
          }
        },
        "a179f8aea39041abb22f3cab1e362a00": {
          "model_module": "@jupyter-widgets/controls",
          "model_module_version": "1.5.0",
          "model_name": "HBoxModel",
          "state": {
            "_dom_classes": [],
            "_model_module": "@jupyter-widgets/controls",
            "_model_module_version": "1.5.0",
            "_model_name": "HBoxModel",
            "_view_count": null,
            "_view_module": "@jupyter-widgets/controls",
            "_view_module_version": "1.5.0",
            "_view_name": "HBoxView",
            "box_style": "",
            "children": [
              "IPY_MODEL_e7e9ec3be48b48f59688788f1acb4c5e",
              "IPY_MODEL_df1de96e133c462f8674c10cd956c19b",
              "IPY_MODEL_5207ef47383a498caf04492f44af5f35"
            ],
            "layout": "IPY_MODEL_d97cb22b201048db94b029d2050a7440"
          }
        },
        "a8ce52ee3e45496a808bc3c35e8baf9b": {
          "model_module": "@jupyter-widgets/base",
          "model_module_version": "1.2.0",
          "model_name": "LayoutModel",
          "state": {
            "_model_module": "@jupyter-widgets/base",
            "_model_module_version": "1.2.0",
            "_model_name": "LayoutModel",
            "_view_count": null,
            "_view_module": "@jupyter-widgets/base",
            "_view_module_version": "1.2.0",
            "_view_name": "LayoutView",
            "align_content": null,
            "align_items": null,
            "align_self": null,
            "border": null,
            "bottom": null,
            "display": null,
            "flex": null,
            "flex_flow": null,
            "grid_area": null,
            "grid_auto_columns": null,
            "grid_auto_flow": null,
            "grid_auto_rows": null,
            "grid_column": null,
            "grid_gap": null,
            "grid_row": null,
            "grid_template_areas": null,
            "grid_template_columns": null,
            "grid_template_rows": null,
            "height": null,
            "justify_content": null,
            "justify_items": null,
            "left": null,
            "margin": null,
            "max_height": null,
            "max_width": null,
            "min_height": null,
            "min_width": null,
            "object_fit": null,
            "object_position": null,
            "order": null,
            "overflow": null,
            "overflow_x": null,
            "overflow_y": null,
            "padding": null,
            "right": null,
            "top": null,
            "visibility": null,
            "width": null
          }
        },
        "a936d2cefa5d4ebf947e5f3f17efb67a": {
          "model_module": "@jupyter-widgets/controls",
          "model_module_version": "1.5.0",
          "model_name": "DescriptionStyleModel",
          "state": {
            "_model_module": "@jupyter-widgets/controls",
            "_model_module_version": "1.5.0",
            "_model_name": "DescriptionStyleModel",
            "_view_count": null,
            "_view_module": "@jupyter-widgets/base",
            "_view_module_version": "1.2.0",
            "_view_name": "StyleView",
            "description_width": ""
          }
        },
        "b1604a87d4944ee2b8af696330eefcb7": {
          "model_module": "@jupyter-widgets/base",
          "model_module_version": "1.2.0",
          "model_name": "LayoutModel",
          "state": {
            "_model_module": "@jupyter-widgets/base",
            "_model_module_version": "1.2.0",
            "_model_name": "LayoutModel",
            "_view_count": null,
            "_view_module": "@jupyter-widgets/base",
            "_view_module_version": "1.2.0",
            "_view_name": "LayoutView",
            "align_content": null,
            "align_items": null,
            "align_self": null,
            "border": null,
            "bottom": null,
            "display": null,
            "flex": null,
            "flex_flow": null,
            "grid_area": null,
            "grid_auto_columns": null,
            "grid_auto_flow": null,
            "grid_auto_rows": null,
            "grid_column": null,
            "grid_gap": null,
            "grid_row": null,
            "grid_template_areas": null,
            "grid_template_columns": null,
            "grid_template_rows": null,
            "height": null,
            "justify_content": null,
            "justify_items": null,
            "left": null,
            "margin": null,
            "max_height": null,
            "max_width": null,
            "min_height": null,
            "min_width": null,
            "object_fit": null,
            "object_position": null,
            "order": null,
            "overflow": null,
            "overflow_x": null,
            "overflow_y": null,
            "padding": null,
            "right": null,
            "top": null,
            "visibility": null,
            "width": null
          }
        },
        "b5056dfdb7c54be3aa837f28893b63ec": {
          "model_module": "@jupyter-widgets/controls",
          "model_module_version": "1.5.0",
          "model_name": "HTMLModel",
          "state": {
            "_dom_classes": [],
            "_model_module": "@jupyter-widgets/controls",
            "_model_module_version": "1.5.0",
            "_model_name": "HTMLModel",
            "_view_count": null,
            "_view_module": "@jupyter-widgets/controls",
            "_view_module_version": "1.5.0",
            "_view_name": "HTMLView",
            "description": "",
            "description_tooltip": null,
            "layout": "IPY_MODEL_c684ccb999484d01a5c008a538fa3c29",
            "placeholder": "​",
            "style": "IPY_MODEL_e780fba85ce8427083584da6ca472259",
            "value": "model.safetensors.index.json: 100%"
          }
        },
        "c424dc66dafd4930ad3952a762cf3c84": {
          "model_module": "@jupyter-widgets/controls",
          "model_module_version": "1.5.0",
          "model_name": "FloatProgressModel",
          "state": {
            "_dom_classes": [],
            "_model_module": "@jupyter-widgets/controls",
            "_model_module_version": "1.5.0",
            "_model_name": "FloatProgressModel",
            "_view_count": null,
            "_view_module": "@jupyter-widgets/controls",
            "_view_module_version": "1.5.0",
            "_view_name": "ProgressView",
            "bar_style": "success",
            "description": "",
            "description_tooltip": null,
            "layout": "IPY_MODEL_61061be5aee24238920aae3525e23785",
            "max": 25125,
            "min": 0,
            "orientation": "horizontal",
            "style": "IPY_MODEL_99351c1c363446cea47ff8792f23c365",
            "value": 25125
          }
        },
        "c684ccb999484d01a5c008a538fa3c29": {
          "model_module": "@jupyter-widgets/base",
          "model_module_version": "1.2.0",
          "model_name": "LayoutModel",
          "state": {
            "_model_module": "@jupyter-widgets/base",
            "_model_module_version": "1.2.0",
            "_model_name": "LayoutModel",
            "_view_count": null,
            "_view_module": "@jupyter-widgets/base",
            "_view_module_version": "1.2.0",
            "_view_name": "LayoutView",
            "align_content": null,
            "align_items": null,
            "align_self": null,
            "border": null,
            "bottom": null,
            "display": null,
            "flex": null,
            "flex_flow": null,
            "grid_area": null,
            "grid_auto_columns": null,
            "grid_auto_flow": null,
            "grid_auto_rows": null,
            "grid_column": null,
            "grid_gap": null,
            "grid_row": null,
            "grid_template_areas": null,
            "grid_template_columns": null,
            "grid_template_rows": null,
            "height": null,
            "justify_content": null,
            "justify_items": null,
            "left": null,
            "margin": null,
            "max_height": null,
            "max_width": null,
            "min_height": null,
            "min_width": null,
            "object_fit": null,
            "object_position": null,
            "order": null,
            "overflow": null,
            "overflow_x": null,
            "overflow_y": null,
            "padding": null,
            "right": null,
            "top": null,
            "visibility": null,
            "width": null
          }
        },
        "c914a78d81bb401b87e1e3f40f9df4cb": {
          "model_module": "@jupyter-widgets/base",
          "model_module_version": "1.2.0",
          "model_name": "LayoutModel",
          "state": {
            "_model_module": "@jupyter-widgets/base",
            "_model_module_version": "1.2.0",
            "_model_name": "LayoutModel",
            "_view_count": null,
            "_view_module": "@jupyter-widgets/base",
            "_view_module_version": "1.2.0",
            "_view_name": "LayoutView",
            "align_content": null,
            "align_items": null,
            "align_self": null,
            "border": null,
            "bottom": null,
            "display": null,
            "flex": null,
            "flex_flow": null,
            "grid_area": null,
            "grid_auto_columns": null,
            "grid_auto_flow": null,
            "grid_auto_rows": null,
            "grid_column": null,
            "grid_gap": null,
            "grid_row": null,
            "grid_template_areas": null,
            "grid_template_columns": null,
            "grid_template_rows": null,
            "height": null,
            "justify_content": null,
            "justify_items": null,
            "left": null,
            "margin": null,
            "max_height": null,
            "max_width": null,
            "min_height": null,
            "min_width": null,
            "object_fit": null,
            "object_position": null,
            "order": null,
            "overflow": null,
            "overflow_x": null,
            "overflow_y": null,
            "padding": null,
            "right": null,
            "top": null,
            "visibility": null,
            "width": null
          }
        },
        "cc1f8053f0b64b129cead7c6325bad77": {
          "model_module": "@jupyter-widgets/controls",
          "model_module_version": "1.5.0",
          "model_name": "HTMLModel",
          "state": {
            "_dom_classes": [],
            "_model_module": "@jupyter-widgets/controls",
            "_model_module_version": "1.5.0",
            "_model_name": "HTMLModel",
            "_view_count": null,
            "_view_module": "@jupyter-widgets/controls",
            "_view_module_version": "1.5.0",
            "_view_name": "HTMLView",
            "description": "",
            "description_tooltip": null,
            "layout": "IPY_MODEL_b1604a87d4944ee2b8af696330eefcb7",
            "placeholder": "​",
            "style": "IPY_MODEL_f29e33f7ba674b40a51fb13dd08723e6",
            "value": " 116/116 [00:00&lt;00:00, 7.75kB/s]"
          }
        },
        "d5f4852fff174571984fa72b8b70279d": {
          "model_module": "@jupyter-widgets/controls",
          "model_module_version": "1.5.0",
          "model_name": "HTMLModel",
          "state": {
            "_dom_classes": [],
            "_model_module": "@jupyter-widgets/controls",
            "_model_module_version": "1.5.0",
            "_model_name": "HTMLModel",
            "_view_count": null,
            "_view_module": "@jupyter-widgets/controls",
            "_view_module_version": "1.5.0",
            "_view_name": "HTMLView",
            "description": "",
            "description_tooltip": null,
            "layout": "IPY_MODEL_09f1d99733ad44cd8f4c152141b20194",
            "placeholder": "​",
            "style": "IPY_MODEL_83281b4a446f44ea9b87722d80c02328",
            "value": "Downloading shards: 100%"
          }
        },
        "d97cb22b201048db94b029d2050a7440": {
          "model_module": "@jupyter-widgets/base",
          "model_module_version": "1.2.0",
          "model_name": "LayoutModel",
          "state": {
            "_model_module": "@jupyter-widgets/base",
            "_model_module_version": "1.2.0",
            "_model_name": "LayoutModel",
            "_view_count": null,
            "_view_module": "@jupyter-widgets/base",
            "_view_module_version": "1.2.0",
            "_view_name": "LayoutView",
            "align_content": null,
            "align_items": null,
            "align_self": null,
            "border": null,
            "bottom": null,
            "display": null,
            "flex": null,
            "flex_flow": null,
            "grid_area": null,
            "grid_auto_columns": null,
            "grid_auto_flow": null,
            "grid_auto_rows": null,
            "grid_column": null,
            "grid_gap": null,
            "grid_row": null,
            "grid_template_areas": null,
            "grid_template_columns": null,
            "grid_template_rows": null,
            "height": null,
            "justify_content": null,
            "justify_items": null,
            "left": null,
            "margin": null,
            "max_height": null,
            "max_width": null,
            "min_height": null,
            "min_width": null,
            "object_fit": null,
            "object_position": null,
            "order": null,
            "overflow": null,
            "overflow_x": null,
            "overflow_y": null,
            "padding": null,
            "right": null,
            "top": null,
            "visibility": null,
            "width": null
          }
        },
        "dc743909be5e43b69bc08dd765eb5474": {
          "model_module": "@jupyter-widgets/base",
          "model_module_version": "1.2.0",
          "model_name": "LayoutModel",
          "state": {
            "_model_module": "@jupyter-widgets/base",
            "_model_module_version": "1.2.0",
            "_model_name": "LayoutModel",
            "_view_count": null,
            "_view_module": "@jupyter-widgets/base",
            "_view_module_version": "1.2.0",
            "_view_name": "LayoutView",
            "align_content": null,
            "align_items": null,
            "align_self": null,
            "border": null,
            "bottom": null,
            "display": null,
            "flex": null,
            "flex_flow": null,
            "grid_area": null,
            "grid_auto_columns": null,
            "grid_auto_flow": null,
            "grid_auto_rows": null,
            "grid_column": null,
            "grid_gap": null,
            "grid_row": null,
            "grid_template_areas": null,
            "grid_template_columns": null,
            "grid_template_rows": null,
            "height": null,
            "justify_content": null,
            "justify_items": null,
            "left": null,
            "margin": null,
            "max_height": null,
            "max_width": null,
            "min_height": null,
            "min_width": null,
            "object_fit": null,
            "object_position": null,
            "order": null,
            "overflow": null,
            "overflow_x": null,
            "overflow_y": null,
            "padding": null,
            "right": null,
            "top": null,
            "visibility": null,
            "width": null
          }
        },
        "de35a621ace94ce4ab9355c036e73704": {
          "model_module": "@jupyter-widgets/base",
          "model_module_version": "1.2.0",
          "model_name": "LayoutModel",
          "state": {
            "_model_module": "@jupyter-widgets/base",
            "_model_module_version": "1.2.0",
            "_model_name": "LayoutModel",
            "_view_count": null,
            "_view_module": "@jupyter-widgets/base",
            "_view_module_version": "1.2.0",
            "_view_name": "LayoutView",
            "align_content": null,
            "align_items": null,
            "align_self": null,
            "border": null,
            "bottom": null,
            "display": null,
            "flex": null,
            "flex_flow": null,
            "grid_area": null,
            "grid_auto_columns": null,
            "grid_auto_flow": null,
            "grid_auto_rows": null,
            "grid_column": null,
            "grid_gap": null,
            "grid_row": null,
            "grid_template_areas": null,
            "grid_template_columns": null,
            "grid_template_rows": null,
            "height": null,
            "justify_content": null,
            "justify_items": null,
            "left": null,
            "margin": null,
            "max_height": null,
            "max_width": null,
            "min_height": null,
            "min_width": null,
            "object_fit": null,
            "object_position": null,
            "order": null,
            "overflow": null,
            "overflow_x": null,
            "overflow_y": null,
            "padding": null,
            "right": null,
            "top": null,
            "visibility": null,
            "width": null
          }
        },
        "de5884c092e349d09c87d783891c5c5a": {
          "model_module": "@jupyter-widgets/base",
          "model_module_version": "1.2.0",
          "model_name": "LayoutModel",
          "state": {
            "_model_module": "@jupyter-widgets/base",
            "_model_module_version": "1.2.0",
            "_model_name": "LayoutModel",
            "_view_count": null,
            "_view_module": "@jupyter-widgets/base",
            "_view_module_version": "1.2.0",
            "_view_name": "LayoutView",
            "align_content": null,
            "align_items": null,
            "align_self": null,
            "border": null,
            "bottom": null,
            "display": null,
            "flex": null,
            "flex_flow": null,
            "grid_area": null,
            "grid_auto_columns": null,
            "grid_auto_flow": null,
            "grid_auto_rows": null,
            "grid_column": null,
            "grid_gap": null,
            "grid_row": null,
            "grid_template_areas": null,
            "grid_template_columns": null,
            "grid_template_rows": null,
            "height": null,
            "justify_content": null,
            "justify_items": null,
            "left": null,
            "margin": null,
            "max_height": null,
            "max_width": null,
            "min_height": null,
            "min_width": null,
            "object_fit": null,
            "object_position": null,
            "order": null,
            "overflow": null,
            "overflow_x": null,
            "overflow_y": null,
            "padding": null,
            "right": null,
            "top": null,
            "visibility": null,
            "width": null
          }
        },
        "df1de96e133c462f8674c10cd956c19b": {
          "model_module": "@jupyter-widgets/controls",
          "model_module_version": "1.5.0",
          "model_name": "FloatProgressModel",
          "state": {
            "_dom_classes": [],
            "_model_module": "@jupyter-widgets/controls",
            "_model_module_version": "1.5.0",
            "_model_name": "FloatProgressModel",
            "_view_count": null,
            "_view_module": "@jupyter-widgets/controls",
            "_view_module_version": "1.5.0",
            "_view_name": "ProgressView",
            "bar_style": "success",
            "description": "",
            "description_tooltip": null,
            "layout": "IPY_MODEL_6849bf03181041c3bb030af02a57fa82",
            "max": 4540516344,
            "min": 0,
            "orientation": "horizontal",
            "style": "IPY_MODEL_4355ba8a148f4aeca3b44724cb3fd751",
            "value": 4540516344
          }
        },
        "e1fd2cfdfa4f4fe981f25eb94dd59101": {
          "model_module": "@jupyter-widgets/controls",
          "model_module_version": "1.5.0",
          "model_name": "HTMLModel",
          "state": {
            "_dom_classes": [],
            "_model_module": "@jupyter-widgets/controls",
            "_model_module_version": "1.5.0",
            "_model_name": "HTMLModel",
            "_view_count": null,
            "_view_module": "@jupyter-widgets/controls",
            "_view_module_version": "1.5.0",
            "_view_name": "HTMLView",
            "description": "",
            "description_tooltip": null,
            "layout": "IPY_MODEL_86e7feb14e334923956e1be1ed0d8887",
            "placeholder": "​",
            "style": "IPY_MODEL_9a1ef34de7734695bd1d31cac0219084",
            "value": "model-00001-of-00002.safetensors: 100%"
          }
        },
        "e40acd52569348758429754366fa76c4": {
          "model_module": "@jupyter-widgets/controls",
          "model_module_version": "1.5.0",
          "model_name": "FloatProgressModel",
          "state": {
            "_dom_classes": [],
            "_model_module": "@jupyter-widgets/controls",
            "_model_module_version": "1.5.0",
            "_model_name": "FloatProgressModel",
            "_view_count": null,
            "_view_module": "@jupyter-widgets/controls",
            "_view_module_version": "1.5.0",
            "_view_name": "ProgressView",
            "bar_style": "success",
            "description": "",
            "description_tooltip": null,
            "layout": "IPY_MODEL_2e84a4cae5584bbdac7cab52390032c4",
            "max": 2,
            "min": 0,
            "orientation": "horizontal",
            "style": "IPY_MODEL_7a8c7115be3e4b4ab2fd803676a576ce",
            "value": 2
          }
        },
        "e780fba85ce8427083584da6ca472259": {
          "model_module": "@jupyter-widgets/controls",
          "model_module_version": "1.5.0",
          "model_name": "DescriptionStyleModel",
          "state": {
            "_model_module": "@jupyter-widgets/controls",
            "_model_module_version": "1.5.0",
            "_model_name": "DescriptionStyleModel",
            "_view_count": null,
            "_view_module": "@jupyter-widgets/base",
            "_view_module_version": "1.2.0",
            "_view_name": "StyleView",
            "description_width": ""
          }
        },
        "e7e9ec3be48b48f59688788f1acb4c5e": {
          "model_module": "@jupyter-widgets/controls",
          "model_module_version": "1.5.0",
          "model_name": "HTMLModel",
          "state": {
            "_dom_classes": [],
            "_model_module": "@jupyter-widgets/controls",
            "_model_module_version": "1.5.0",
            "_model_name": "HTMLModel",
            "_view_count": null,
            "_view_module": "@jupyter-widgets/controls",
            "_view_module_version": "1.5.0",
            "_view_name": "HTMLView",
            "description": "",
            "description_tooltip": null,
            "layout": "IPY_MODEL_314d664b9125453eb5bd0bdea8a3399f",
            "placeholder": "​",
            "style": "IPY_MODEL_28c0f099742341a4b2aa007ce41d8890",
            "value": "model-00002-of-00002.safetensors: 100%"
          }
        },
        "f29e33f7ba674b40a51fb13dd08723e6": {
          "model_module": "@jupyter-widgets/controls",
          "model_module_version": "1.5.0",
          "model_name": "DescriptionStyleModel",
          "state": {
            "_model_module": "@jupyter-widgets/controls",
            "_model_module_version": "1.5.0",
            "_model_name": "DescriptionStyleModel",
            "_view_count": null,
            "_view_module": "@jupyter-widgets/base",
            "_view_module_version": "1.2.0",
            "_view_name": "StyleView",
            "description_width": ""
          }
        },
        "fef978dcfb174bc79a5fc8e5333603ca": {
          "model_module": "@jupyter-widgets/controls",
          "model_module_version": "1.5.0",
          "model_name": "HTMLModel",
          "state": {
            "_dom_classes": [],
            "_model_module": "@jupyter-widgets/controls",
            "_model_module_version": "1.5.0",
            "_model_name": "HTMLModel",
            "_view_count": null,
            "_view_module": "@jupyter-widgets/controls",
            "_view_module_version": "1.5.0",
            "_view_name": "HTMLView",
            "description": "",
            "description_tooltip": null,
            "layout": "IPY_MODEL_0e10fa4602e64ea2b3ed357b76607e91",
            "placeholder": "​",
            "style": "IPY_MODEL_46264ce8aeca42d6993741530e28befd",
            "value": "Loading checkpoint shards: 100%"
          }
        }
      }
    }
  },
  "nbformat": 4,
  "nbformat_minor": 0
}
