{
 "cells": [
  {
   "cell_type": "code",
   "execution_count": null,
   "metadata": {
    "colab": {
     "base_uri": "https://localhost:8080/"
    },
    "id": "9od24vxaMvEt",
    "outputId": "e48eb28e-9c6b-4d0e-aff5-81eff09f4f56"
   },
   "outputs": [],
   "source": [
    "!pip install -q -U bitsandbytes\n",
    "!pip install -q -U accelerate\n",
    "!pip install -q -U transformers\n",
    "!pip install phik\n",
    "!pip install seaborn \n",
    "!pip install -U scikit-learn\n",
    "\n",
    "!pip3 install optimum>=1.12.0\n",
    "!pip3 install auto-gptq --extra-index-url https://huggingface.github.io/autogptq-index/whl/cu118/  # Use cu117 if on CUDA 11.7"
   ]
  },
  {
   "cell_type": "code",
   "execution_count": 1,
   "metadata": {
    "id": "UGNfo7VoNKBE"
   },
   "outputs": [],
   "source": [
    "import torch\n",
    "import os\n",
    "import re\n",
    "import warnings\n",
    "import phik\n",
    "import numpy as np\n",
    "import pandas as pd\n",
    "import seaborn as sns\n",
    "import matplotlib.pyplot as plt\n",
    "from pathlib import Path\n",
    "from tqdm import tqdm\n",
    "from typing import Union\n",
    "from transformers import AutoTokenizer, AutoModelForCausalLM, BitsAndBytesConfig\n",
    "from sklearn.metrics import confusion_matrix, accuracy_score, f1_score"
   ]
  },
  {
   "cell_type": "code",
   "execution_count": 2,
   "metadata": {
    "id": "2SjexgSGmR_a"
   },
   "outputs": [],
   "source": [
    "sns.set_style(\"whitegrid\")"
   ]
  },
  {
   "cell_type": "code",
   "execution_count": 3,
   "metadata": {
    "id": "hKB730LgM4ZY"
   },
   "outputs": [],
   "source": [
    "# Check if cuda is available\n",
    "assert torch.cuda.is_available(), \"Cuda is not available, you cannot use the quantized version of the Mistral model without a GPU!\""
   ]
  },
  {
   "cell_type": "code",
   "execution_count": 4,
   "metadata": {
    "colab": {
     "base_uri": "https://localhost:8080/"
    },
    "id": "CBklgl8jNJAf",
    "outputId": "97bd703e-0382-4e60-ad3c-fe3e6e9ce46a"
   },
   "outputs": [
    {
     "name": "stdout",
     "output_type": "stream",
     "text": [
      "All calculations will be performed on cuda\n"
     ]
    }
   ],
   "source": [
    "device = 'cuda' if torch.cuda.is_available() else 'cpu'\n",
    "print(f\"All calculations will be performed on {device}\")"
   ]
  },
  {
   "cell_type": "code",
   "execution_count": 5,
   "metadata": {
    "colab": {
     "base_uri": "https://localhost:8080/",
     "height": 145,
     "referenced_widgets": [
      "b355c1a4fafc4f77ac85f532da0e1729",
      "9bc8f67c9f4a415f9edafd3b8a670216",
      "bc4a9d18f29f4d9c942e9e1ff519fb9d",
      "55218b3b17254f9994368bcc4824ec92",
      "631ef76240e94f82bba390d76b612a83",
      "98fced9fcd6342e5bd9156a2264fa325",
      "32c99364c3bb4c309029b9e53b0ced34",
      "5a900f773ee443b5a6eb7019704d1964",
      "907645b2ce8045f6bd3f86963fd8f82f",
      "c623cb9fbfc14029bfad21011d3d1dc9",
      "90b246db25b349aa978a15624c7ad564",
      "3af43c4010cf48ff9ee0eb7230893535",
      "cfd24266d3f444b2bb8342bca087f9c5",
      "2e6fa2b14fdc46d9a97b941f0e4327de",
      "ce7827b1fa3b4895a467cb984bdb3c0b",
      "30a856c8f00a4063b888f18807c4a60a",
      "c2666fed9c5d4b38845889c099dde68a",
      "974e8ee6c3614da08156414778c66933",
      "01783f129a3f4f6dbfc3caeae86a651e",
      "e4d0de45dcad4052a6d2376dab30ab82",
      "8296bf7c40bc4babaca712f36fa7176d",
      "8b0953667eed46fe8881cea2db28345f",
      "2fb0133ad0294f498772223fbe9cffb3",
      "63035a276dce4d32b2e453d7837c96d6",
      "6eaf1ea1e6a44ce8bf9487e260313c67",
      "583ee35ff2dd4c3c849aa7ceead1b7db",
      "bbf83815a7cf47ffac36bf116aaeca65",
      "4d80982e997646eaabeeb650b2e76f02",
      "d749d53cc33c4c29a4987d5eb0cee969",
      "dc53e9eb67a445ef9dcd7cf42a872fa3",
      "16e888a918c844d3b19f043adda143d4",
      "539d41bb6cae4a9082d577a5684dc566"
     ]
    },
    "id": "eyFqputnRCJ8",
    "outputId": "d294ccd6-a873-4313-8de7-38ce501ae3e0"
   },
   "outputs": [
    {
     "data": {
      "application/vnd.jupyter.widget-view+json": {
       "model_id": "dd33dfacd3eb42d09db8c23c575506df",
       "version_major": 2,
       "version_minor": 0
      },
      "text/plain": [
       "VBox(children=(HTML(value='<center> <img\\nsrc=https://huggingface.co/front/assets/huggingface_logo-noborder.sv…"
      ]
     },
     "metadata": {},
     "output_type": "display_data"
    }
   ],
   "source": [
    "from huggingface_hub import notebook_login\n",
    "notebook_login()"
   ]
  },
  {
   "cell_type": "code",
   "execution_count": 6,
   "metadata": {
    "id": "MaUO7pHDNtKv"
   },
   "outputs": [],
   "source": [
    "class TmEval:\n",
    "    def __init__(\n",
    "            self,\n",
    "            model_name: str,\n",
    "            quantization_mode: Union[str, bool] = False,  # Only for Mistral\n",
    "            device: str = 'cpu'\n",
    "        ):\n",
    "\n",
    "        if isinstance(quantization_mode, str):\n",
    "            assert device == 'cuda', 'If you want to use quantization mode for your LLM, please, provide GPU'\n",
    "        self.device = device\n",
    "\n",
    "        # Load Model\n",
    "        self.model = self.__set_model(quantization_mode, model_name)\n",
    "        # Load tokenizer\n",
    "        self.tokenizer = self.__set_tokenizer(model_name)\n",
    "\n",
    "    def __set_model(self, quantization_mode, model_name):\n",
    "        if quantization_mode == 'nf4':\n",
    "            # Qunatization config\n",
    "            quantization_config_4bit = BitsAndBytesConfig(\n",
    "                load_in_4bit = True,  # enable 4-bit quantization\n",
    "                bnb_4bit_quant_type = 'nf4',  # information theoretically optimal dtype for normally distributed weights\n",
    "                bnb_4bit_use_double_quant = True,  # quantize quantized weights\n",
    "                bnb_4bit_compute_dtype = torch.bfloat16  # optimized fp format for ML\n",
    "            )\n",
    "\n",
    "            return AutoModelForCausalLM.from_pretrained(\n",
    "                model_name,\n",
    "                quantization_config=quantization_config_4bit\n",
    "            )\n",
    "        else:\n",
    "            return AutoModelForCausalLM.from_pretrained(\n",
    "                model_name,\n",
    "                device_map=self.device,\n",
    "                trust_remote_code=False,\n",
    "                revision=\"main\"\n",
    "            )\n",
    "\n",
    "    def __set_tokenizer(self, model_name):\n",
    "        return AutoTokenizer.from_pretrained(model_name)\n",
    "\n",
    "    def get_dataset_size(self):\n",
    "        return self.data.shape[0]\n",
    "\n",
    "    def generate_answer(self, prompt, temp, n_token):\n",
    "        torch.cuda.empty_cache()\n",
    "        encoded = self.tokenizer(prompt, return_tensors=\"pt\", add_special_tokens=False)\n",
    "        model_input = encoded\n",
    "        model_input = model_input.to(self.device)\n",
    "        if self.device=='cpu':\n",
    "            self.model.to(self.device)\n",
    "        generated_ids = self.model.generate(\n",
    "            **model_input, do_sample=True,\n",
    "            max_new_tokens=n_token,\n",
    "            temperature=temp,\n",
    "            num_return_sequences=1,\n",
    "            pad_token_id=self.tokenizer.eos_token_id\n",
    "            )\n",
    "        decoded = self.tokenizer.batch_decode(generated_ids)\n",
    "        return decoded\n",
    "\n",
    "    def extract_substring(self, input_string):\n",
    "        index = input_string.find(\"[/INST]\")\n",
    "        if index != -1:\n",
    "            return input_string[index + len(\"[/INST]\"):]\n",
    "        else:\n",
    "            return \"\"\n",
    "\n",
    "    def get_answer(\n",
    "            self,\n",
    "            temp=0.1,\n",
    "            n_token=500,\n",
    "            instruction='',\n",
    "            sample='',\n",
    "            use_system_tokens=True,\n",
    "            print_prompt=False,\n",
    "            system_prompt=\"\"\n",
    "        ):\n",
    "        \"\"\"\n",
    "        Get result of the inference for one sample.\n",
    "\n",
    "        Parameters\n",
    "        ----------\n",
    "        temp : float, default=0.1\n",
    "            The value used to modulate the next token probabilities.\n",
    "        n_token : int, default=500\n",
    "            The maximum numbers of tokens to generate, ignoring the number of tokens in the prompt.\n",
    "        instruction : str\n",
    "            The instruction part of the prompt.\n",
    "        sample : str\n",
    "            The wordset\n",
    "        use_system_tokens : bool, dafault=True\n",
    "            If True, then special tokens will be used.\n",
    "        print_prompt : bool, default=False\n",
    "            Print the generated prompt.\n",
    "        system_prompt : str\n",
    "            Use system prompt (please, use this prompt for Llama model!).\n",
    "\n",
    "        Returns\n",
    "        -------\n",
    "        result : str\n",
    "            Generated response.\n",
    "        \"\"\"\n",
    "\n",
    "        # Construct prompt\n",
    "        if use_system_tokens:\n",
    "            model_name = self.model.config._name_or_path.lower()\n",
    "            pattern = r\"(mistral|llama|gpt)\"\n",
    "            model_name = re.findall(pattern, model_name)[0]\n",
    "\n",
    "            if model_name == \"mistral\":\n",
    "                prompt = f\"<s> [INST] {instruction} {sample} [/INST]\"\n",
    "            elif model_name == \"llama\":\n",
    "                prompt = f\"<s> [INST] <<SYS>> {system_prompt} <</SYS>> {instruction} {sample} [/INST]\"\n",
    "            elif model_name == \"gpt\":\n",
    "                print(\"There is no system token for GPT. The 'without using system tokens' mode is enabled. Internal algorithms for postprocessing and calculation of metrics can give unstable results\")\n",
    "                prompt = f\"{instruction}\\n{sample}\"\n",
    "        else:\n",
    "            warnings.warn(\"\"\"The \"without using system tokens\" mode is enabled. Internal algorithms for postprocessing and calculation of metrics can give unstable results\"\"\")\n",
    "            prompt = f\"{instruction}\\n{sample}\"\n",
    "\n",
    "        if print_prompt:\n",
    "            print(prompt)\n",
    "\n",
    "        # Generate answer\n",
    "        answer = self.generate_answer(prompt, temp, n_token)\n",
    "\n",
    "        # Extract the result\n",
    "        if use_system_tokens:\n",
    "            result = self.extract_substring(answer[0])\n",
    "        else:\n",
    "            result = answer[0]\n",
    "        return result.replace(\"\\n\", \" \")\n",
    "\n",
    "    def get_prompt(self, prompt_type, sample):\n",
    "        try:\n",
    "            prompt_type is not None\n",
    "        except:\n",
    "            print(\"Please, provide the type of the internal prompt or \")\n",
    "        system_prompt = ''\n",
    "        instruction = ''\n",
    "        if prompt_type == \"P1_Mistral\":\n",
    "            instruction = (\"You are a useful assistant who evaluates the coherence of words.\\n\"\n",
    "                    \"You will receive a list of words, please determine which class the given \"\n",
    "                    \"list of words belongs to by answering the question: 'Is it possible to determine \"\n",
    "                    \"a common topic for the presented word set or at least for the most part of the set?'.\"\n",
    "                    \"Classification rules: yes - if words have a strong connection between them, \"\n",
    "                    \"rather yes - if some words are too common or out of topic, \"\n",
    "                    \"rather no - if the amount of irrelevant words is high to determine a topic or there is a mixture of topics, \"\n",
    "                    \"no - when words seem to be unconnected, \"\n",
    "                    \"neutral - if it is hard for you to answer on the question.\\nPrint only class without explanation and additional information.\\n\")\n",
    "\n",
    "            sample = 'Words: ' + sample + \"\\nClass:\"\n",
    "        elif prompt_type == \"P1_Llama\":\n",
    "            system_prompt = \"You are a useful assistant who evaluates the coherence of words.\"\n",
    "            instruction = (\"You will receive a list of words, please determine which class the given \"\n",
    "                    \"list of words belongs to by answering the question: 'Is it possible to determine \"\n",
    "                    \"a common topic for the presented word set or at least for the most part of the set?'.\"\n",
    "                    \"Classification rules: yes - if words have a strong connection between them, \"\n",
    "                    \"rather yes - if some words are too common or out of topic, \"\n",
    "                    \"rather no - if the amount of irrelevant words is high to determine a topic or there is a mixture of topics, \"\n",
    "                    \"no - when words seem to be unconnected, \"\n",
    "                    \"neutral - if it is hard for you to answer on the question.\\nPrint only class without explanation and additional information.\\n\")\n",
    "\n",
    "            sample = 'Words: ' + sample + \"\\nClass:\"\n",
    "\n",
    "        return system_prompt, instruction, sample\n",
    "\n",
    "    def get_results(\n",
    "            self,\n",
    "            data,\n",
    "            filename,\n",
    "            num_iter,\n",
    "            base_dir,\n",
    "            temp=0.1,\n",
    "            prompt_type=None,\n",
    "            n_token=500,\n",
    "            remove_old_file=True,\n",
    "            print_info=False,\n",
    "            use_system_tokens=True,\n",
    "            save_results_to_df=False\n",
    "        ):\n",
    "        \"\"\"\n",
    "        Get inference on the dataset.\n",
    "\n",
    "        Parameters\n",
    "        ----------\n",
    "        data : pd.DataFrame\n",
    "            Input dataset.\n",
    "        filename : str\n",
    "            The file where the results of the generation will be recorded.\n",
    "        num_iter : int\n",
    "            The number of samples.\n",
    "        temp : float, default=0.1\n",
    "            The value used to modulate the next token probabilities.\n",
    "        prompt_type : None, str, default=None\n",
    "            The type of the standard prompt.\n",
    "        n_token : int, default=500\n",
    "            The maximum numbers of tokens to generate, ignoring the number of tokens in the prompt.\n",
    "        remove_old_file : bool, default=True\n",
    "            If True, then an old file with results will be removed.\n",
    "        print_info : bool, default=False\n",
    "            Print the generated prompt and the result of the inference.\n",
    "        use_system_tokens : bool, default=True\n",
    "            If True, then special tokens will be used.\n",
    "        save_results_to_df : bool, default=False\n",
    "            Save the results of the inference to the dataframe.\n",
    "        \"\"\"\n",
    "\n",
    "        # Check if the columns of the dataset have appropriate names\n",
    "        try:\n",
    "            data[[\"task\", \"agg_label\"]]\n",
    "        except:\n",
    "            print(\"There are no 'task' and 'agg_label' columns in the dataset!\")\n",
    "\n",
    "        # Create file\n",
    "        data_dir = base_dir.joinpath('data/results')\n",
    "        res_file = data_dir.joinpath(filename)\n",
    "\n",
    "        # Remove old file\n",
    "        if remove_old_file:\n",
    "            if os.path.exists(res_file):\n",
    "                os.remove(res_file)\n",
    "\n",
    "        model_lst = []\n",
    "        true_lst = []\n",
    "        wordset_lst = []\n",
    "        for i in tqdm(range(num_iter)):\n",
    "            sample = data.iloc[i][\"task\"]\n",
    "\n",
    "            system_prompt, instruction, sample = self.get_prompt(prompt_type, sample)\n",
    "\n",
    "            res_true = data.iloc[i][\"agg_label\"]\n",
    "            res_model = self.get_answer(\n",
    "                temp=temp,\n",
    "                n_token=n_token,\n",
    "                instruction=instruction,\n",
    "                sample=sample,\n",
    "                use_system_tokens=True,\n",
    "                print_prompt=print_info,\n",
    "                system_prompt=system_prompt\n",
    "            )\n",
    "            if print_info:\n",
    "                print(res_model)\n",
    "\n",
    "            with open(res_file, 'a') as file:\n",
    "                file.write(f\"{data.iloc[i]['task']}\\t{res_true}\\t{res_model}\\n\")\n",
    "\n",
    "            if save_results_to_df:\n",
    "                model_lst.append(res_model)\n",
    "                true_lst.append(res_true)\n",
    "                wordset_lst.append(data.iloc[i][\"task\"])\n",
    "\n",
    "        print(f\"\\nAll results were saved to the {res_file} file.\")\n",
    "        if save_results_to_df:\n",
    "            print(\"All results were saved to the dataframe\")\n",
    "            data_res = pd.DataFrame({\n",
    "                \"task\": wordset_lst,\n",
    "                \"true\": true_lst,\n",
    "                \"model\": model_lst}\n",
    "            )\n",
    "            return data_res\n",
    "\n",
    "    def num_to_words(x):\n",
    "        class_labels = {\n",
    "            -2: 'bad',\n",
    "            -1: 'rather_bad',\n",
    "            0: 'neutral',\n",
    "            1: 'rather_good',\n",
    "            2: 'good'}\n",
    "\n",
    "        return class_labels[x]\n",
    "\n",
    "    @classmethod\n",
    "    def extract_answer(cls, input_string):\n",
    "        # Lowercase\n",
    "        res_answer = input_string.lower()\n",
    "        # Remove extra spaces\n",
    "        res_answer = res_answer.strip()\n",
    "\n",
    "        res = re.findall(r'\\b\\w*\\s*(rather yes|rather no)\\s*\\w*\\b', res_answer)\n",
    "        if len(res) == 0:\n",
    "            res = re.findall(r'\\b\\w*\\s*(yes|no)\\s*\\w*\\b', res_answer)\n",
    "        if len(res) == 0:\n",
    "            res = re.findall(r'\\b\\w*\\s*(neutral)\\s*\\w*\\b', res_answer)\n",
    "\n",
    "        res_answer = \"None\" if len(res) == 0 else res[0]\n",
    "\n",
    "        match_map = {\n",
    "            \"None\": None,\n",
    "            \"no\": -2,\n",
    "            \"rather no\": -1,\n",
    "            \"neutral\": 0,\n",
    "            \"rather yes\": 1,\n",
    "            \"yes\": 2\n",
    "        }\n",
    "\n",
    "        res_answer = match_map[res_answer]\n",
    "\n",
    "        return res_answer\n",
    "\n",
    "    @classmethod\n",
    "    def postprocess_results(cls, data, answer_type=\"\"):\n",
    "        # Check if there is the column named \"model\"\n",
    "        try:\n",
    "            data[\"model\"]\n",
    "        except:\n",
    "            print(\"There is no 'model' column in the dataset!\")\n",
    "\n",
    "        data[\"model_extracted\"] = [cls.extract_answer(x) for x in data[\"model\"]]\n",
    "        \n",
    "        # Check if there are NaNs in the dataframe\n",
    "        if np.isnan(data[\"model_extracted\"].unique()).any():\n",
    "            none_wordsets = data[np.isnan(data[\"model_extracted\"])][\"task\"]\n",
    "            print(\"The number of samples in the results dataset with 'None' extracted answer:\", none_wordsets.shape[0])\n",
    "\n",
    "            for wordset in none_wordsets:\n",
    "                print(\"Wordset:\", wordset)\n",
    "                print(\"Model answer:\", data[data[\"task\"] == wordset][\"model\"].item())\n",
    "                print(\"Extracted answer:\", data[data[\"task\"] == wordset][\"model_extracted\"].item())\n",
    "\n",
    "            # Remove all samples with \"NaN\" exatracted answer from the results dataset\n",
    "            data = data[[not elem for elem in np.isnan(data[\"model_extracted\"])]]\n",
    "            \n",
    "        return data\n",
    "\n",
    "    @classmethod\n",
    "    def plot_answers_distrib(\n",
    "            cls,\n",
    "            data,\n",
    "            model_name='',\n",
    "            dataset_name='',\n",
    "            fig_size=(8, 6),\n",
    "            container_size=12,\n",
    "            title_size=15,\n",
    "            ticks_size=12,\n",
    "            label_size=12,\n",
    "            save_dir=None,\n",
    "            print_plot=True\n",
    "            ):\n",
    "        df = data[[\"true\", \"model_extracted\"]]\n",
    "        df.columns = [\"Human\", \"Model\"]\n",
    "\n",
    "        df[\"Human\"] = df[\"Human\"].map(cls.num_to_words)\n",
    "        df[\"Model\"] = df[\"Model\"].map(cls.num_to_words)\n",
    "\n",
    "        df_long = df.melt(var_name='Column', value_name='Response')\n",
    "\n",
    "        category_order = [\"bad\", \"rather_bad\", \"neutral\", \"rather_good\", \"good\"]\n",
    "\n",
    "        df_long['Response'] = pd.Categorical(df_long['Response'], categories=category_order, ordered=True)\n",
    "\n",
    "        palette_colors = {\"Human\": \"#3A3875\", \"Model\": \"#D366D3\"}\n",
    "\n",
    "        plt.figure(figsize=fig_size)\n",
    "\n",
    "        ax = sns.histplot(\n",
    "            data=df_long,\n",
    "            x='Response',\n",
    "            hue='Column',\n",
    "            multiple='dodge',\n",
    "            shrink=0.8,\n",
    "            palette=palette_colors,\n",
    "        )\n",
    "\n",
    "        for i in ax.containers:\n",
    "            ax.bar_label(i, fontsize=container_size)\n",
    "\n",
    "        plt.title(f'Distribution of Human and {model_name} answers. {dataset_name}', fontsize=title_size)\n",
    "\n",
    "        plt.xticks(fontsize=ticks_size)\n",
    "        plt.yticks(fontsize=ticks_size)\n",
    "\n",
    "        ax.set_xlabel('Response', fontsize=label_size)\n",
    "        ax.set_ylabel('Count', fontsize=label_size)\n",
    "\n",
    "        if save_dir is not None:\n",
    "            plt.savefig(save_dir)\n",
    "            print(f\"Plot was saved to the file {save_dir}\")\n",
    "\n",
    "        if print_plot:\n",
    "            plt.show()\n",
    "        else:\n",
    "            plt.close()\n",
    "\n",
    "    @classmethod\n",
    "    def plot_conf_matrix(\n",
    "            cls,\n",
    "            true,\n",
    "            predict,\n",
    "            model_name=\"\",\n",
    "            heatmap_fontsize=10,\n",
    "            axis_label_fontsize=13,\n",
    "            title_fontsize=17,\n",
    "            ticklabel_fontsize=20,\n",
    "            save_dir=None,\n",
    "            print_plot=False\n",
    "        ):\n",
    "\n",
    "        cm = confusion_matrix(true, predict)\n",
    "\n",
    "        class_labels = {\n",
    "                -2: 'bad',\n",
    "                -1: 'rather_bad',\n",
    "                0: 'neutral',\n",
    "                1: 'rather_good',\n",
    "                2: 'good'}\n",
    "        sns.heatmap(cm,\n",
    "                    annot=True,\n",
    "                    fmt='g',\n",
    "                    xticklabels=[class_labels[label] for label in [-2, -1, 0, 1, 2]],\n",
    "                    yticklabels=[class_labels[label] for label in [-2, -1, 0, 1, 2]],\n",
    "                    annot_kws={\"fontsize\": heatmap_fontsize}\n",
    "         )\n",
    "\n",
    "        plt.ylabel('Actual',fontsize=axis_label_fontsize)\n",
    "        plt.xlabel('Prediction',fontsize=axis_label_fontsize)\n",
    "        plt.title(f'Confusion Matrix {model_name}',fontsize=title_fontsize)\n",
    "\n",
    "        plt.xticks(fontsize=ticklabel_fontsize)\n",
    "        plt.yticks(fontsize=ticklabel_fontsize)\n",
    "\n",
    "        if save_dir is not None:\n",
    "            plt.savefig(save_dir)\n",
    "            print(f\"Plot was saved to the file {save_dir}\")\n",
    "\n",
    "        if print_plot:\n",
    "            plt.show()\n",
    "        else:\n",
    "            plt.close()\n",
    "\n",
    "    @classmethod\n",
    "    def calculate_metrics(cls, data, save_dir=None):\n",
    "        # non-linear dependencies\n",
    "        phik_corr = data[[\"true\", \"model_extracted\"]].phik_matrix()\n",
    "        phik_corr = phik_corr.loc[\"true\"][\"model_extracted\"]\n",
    "\n",
    "        # linear_correlation\n",
    "        lin_corr = data[[\"true\", \"model_extracted\"]].corr()\n",
    "        lin_corr = lin_corr.loc[\"true\"][\"model_extracted\"]\n",
    "\n",
    "        # accuracy\n",
    "        accuracy = accuracy_score(data[\"true\"], data[\"model_extracted\"])\n",
    "\n",
    "        # f1-score\n",
    "        f1_score_res = f1_score(data[\"true\"], data[\"model_extracted\"], average='macro')\n",
    "\n",
    "        metrics_df = pd.DataFrame(\n",
    "            {\n",
    "                \"phik\": [phik_corr],\n",
    "                \"pearson\": [lin_corr],\n",
    "                \"accuracy\": [accuracy],\n",
    "                \"f1_score\": [f1_score_res]\n",
    "            }\n",
    "        )\n",
    "        if save_dir is not None:\n",
    "            metrics_df.to_csv(save_dir)\n",
    "\n",
    "        return metrics_df\n"
   ]
  },
  {
   "cell_type": "markdown",
   "metadata": {
    "id": "eGpUffqxnfiu"
   },
   "source": [
    "## Load the Data"
   ]
  },
  {
   "cell_type": "code",
   "execution_count": 7,
   "metadata": {
    "colab": {
     "base_uri": "https://localhost:8080/"
    },
    "id": "XvXx3Ft6P9wX",
    "outputId": "c60a7bc7-afd2-40bc-d5a9-e222d3b143ba"
   },
   "outputs": [],
   "source": [
    "# Read the Data\n",
    "# Run this cell if you are using Google Colaboratory\n",
    "\n",
    "# from google.colab import drive\n",
    "# drive.mount('/content/drive')\n",
    "\n",
    "# your_path = \"ITMO/RW'23/\"\n",
    "\n",
    "# BASE_DIR = Path(f\"/content/drive/MyDrive/{your_path}\")\n",
    "# DATA_DIR = BASE_DIR.joinpath(\"data\")  # Please upload the data_quality_estim.csv dataset to the data folder\n",
    "\n",
    "# FILE_NAME = \"words_consistensy_wordset_dataset_agg.csv\"\n",
    "\n",
    "# FILE_QUAL = DATA_DIR.joinpath(FILE_NAME)"
   ]
  },
  {
   "cell_type": "code",
   "execution_count": 7,
   "metadata": {
    "id": "lGYW9bdRjpJi"
   },
   "outputs": [],
   "source": [
    "# BASE_DIR = Path('Inference_example.ipynb').resolve().parent.parent\n",
    "\n",
    "DATA_DIR_NAME = 'data'  # Local directory\n",
    "\n",
    "# DATA_DIR = BASE_DIR.joinpath(DATA_DIR_NAME)\n",
    "FILE_NAME_QUAL = 'words_consistensy_wordset_dataset_agg.csv'\n",
    "\n",
    "FILE = f\"{DATA_DIR_NAME}/{FILE_NAME_QUAL}\""
   ]
  },
  {
   "cell_type": "code",
   "execution_count": 8,
   "metadata": {
    "colab": {
     "base_uri": "https://localhost:8080/",
     "height": 363
    },
    "id": "xYikb5O0MYgP",
    "outputId": "b1143da6-96d6-4aa5-913a-388cc4922bd1"
   },
   "outputs": [
    {
     "data": {
      "text/html": [
       "<div>\n",
       "<style scoped>\n",
       "    .dataframe tbody tr th:only-of-type {\n",
       "        vertical-align: middle;\n",
       "    }\n",
       "\n",
       "    .dataframe tbody tr th {\n",
       "        vertical-align: top;\n",
       "    }\n",
       "\n",
       "    .dataframe thead th {\n",
       "        text-align: right;\n",
       "    }\n",
       "</style>\n",
       "<table border=\"1\" class=\"dataframe\">\n",
       "  <thead>\n",
       "    <tr style=\"text-align: right;\">\n",
       "      <th></th>\n",
       "      <th>task</th>\n",
       "      <th>INPUT:dataset_name</th>\n",
       "      <th>OUTPUT:quality</th>\n",
       "      <th>homogenity</th>\n",
       "      <th>agg_label</th>\n",
       "    </tr>\n",
       "  </thead>\n",
       "  <tbody>\n",
       "    <tr>\n",
       "      <th>0</th>\n",
       "      <td>able amaze fill glad stop daily fantastic move...</td>\n",
       "      <td>amazon_food</td>\n",
       "      <td>['rather_bad', 'bad', 'rather_bad']</td>\n",
       "      <td>0.7</td>\n",
       "      <td>-1</td>\n",
       "    </tr>\n",
       "    <tr>\n",
       "      <th>1</th>\n",
       "      <td>able amaze fill stop glad daily fantastic move...</td>\n",
       "      <td>amazon_food</td>\n",
       "      <td>['bad', 'rather_good', 'rather_bad', 'rather_b...</td>\n",
       "      <td>0.5</td>\n",
       "      <td>-1</td>\n",
       "    </tr>\n",
       "    <tr>\n",
       "      <th>2</th>\n",
       "      <td>able amaze fill stop glad daily fantastic move...</td>\n",
       "      <td>amazon_food</td>\n",
       "      <td>['bad', 'rather_bad', 'rather_bad']</td>\n",
       "      <td>0.7</td>\n",
       "      <td>-1</td>\n",
       "    </tr>\n",
       "    <tr>\n",
       "      <th>3</th>\n",
       "      <td>able amaze glad fill stop fantastic daily move...</td>\n",
       "      <td>amazon_food</td>\n",
       "      <td>['bad', 'bad', 'bad']</td>\n",
       "      <td>1.0</td>\n",
       "      <td>-2</td>\n",
       "    </tr>\n",
       "    <tr>\n",
       "      <th>4</th>\n",
       "      <td>absolute church truth doug scripture symbol li...</td>\n",
       "      <td>20newsgroups</td>\n",
       "      <td>['rather_good', 'bad', 'bad', 'rather_good', '...</td>\n",
       "      <td>0.6</td>\n",
       "      <td>1</td>\n",
       "    </tr>\n",
       "    <tr>\n",
       "      <th>5</th>\n",
       "      <td>absolute church truth mission nasa doug mars e...</td>\n",
       "      <td>20newsgroups</td>\n",
       "      <td>['rather_bad', 'rather_bad', 'bad', 'rather_ba...</td>\n",
       "      <td>0.8</td>\n",
       "      <td>-1</td>\n",
       "    </tr>\n",
       "    <tr>\n",
       "      <th>6</th>\n",
       "      <td>absolute mission church nasa mars earth truth ...</td>\n",
       "      <td>20newsgroups</td>\n",
       "      <td>['good', 'good', 'bad', 'good', 'good']</td>\n",
       "      <td>0.8</td>\n",
       "      <td>2</td>\n",
       "    </tr>\n",
       "    <tr>\n",
       "      <th>7</th>\n",
       "      <td>absolutely fast white rice service noodle terr...</td>\n",
       "      <td>amazon_food</td>\n",
       "      <td>['rather_bad', 'bad', 'rather_bad', 'good', 'b...</td>\n",
       "      <td>0.5</td>\n",
       "      <td>-1</td>\n",
       "    </tr>\n",
       "    <tr>\n",
       "      <th>8</th>\n",
       "      <td>absolutely fast white super service customer r...</td>\n",
       "      <td>amazon_food</td>\n",
       "      <td>['bad', 'good', 'rather_good', 'rather_good', ...</td>\n",
       "      <td>0.4</td>\n",
       "      <td>2</td>\n",
       "    </tr>\n",
       "    <tr>\n",
       "      <th>9</th>\n",
       "      <td>absolutely grain experience soon there's proce...</td>\n",
       "      <td>amazon_food</td>\n",
       "      <td>['bad', 'bad', 'rather_bad']</td>\n",
       "      <td>0.7</td>\n",
       "      <td>-2</td>\n",
       "    </tr>\n",
       "  </tbody>\n",
       "</table>\n",
       "</div>"
      ],
      "text/plain": [
       "                                                task INPUT:dataset_name  \\\n",
       "0  able amaze fill glad stop daily fantastic move...        amazon_food   \n",
       "1  able amaze fill stop glad daily fantastic move...        amazon_food   \n",
       "2  able amaze fill stop glad daily fantastic move...        amazon_food   \n",
       "3  able amaze glad fill stop fantastic daily move...        amazon_food   \n",
       "4  absolute church truth doug scripture symbol li...       20newsgroups   \n",
       "5  absolute church truth mission nasa doug mars e...       20newsgroups   \n",
       "6  absolute mission church nasa mars earth truth ...       20newsgroups   \n",
       "7  absolutely fast white rice service noodle terr...        amazon_food   \n",
       "8  absolutely fast white super service customer r...        amazon_food   \n",
       "9  absolutely grain experience soon there's proce...        amazon_food   \n",
       "\n",
       "                                      OUTPUT:quality  homogenity  agg_label  \n",
       "0                ['rather_bad', 'bad', 'rather_bad']         0.7         -1  \n",
       "1  ['bad', 'rather_good', 'rather_bad', 'rather_b...         0.5         -1  \n",
       "2                ['bad', 'rather_bad', 'rather_bad']         0.7         -1  \n",
       "3                              ['bad', 'bad', 'bad']         1.0         -2  \n",
       "4  ['rather_good', 'bad', 'bad', 'rather_good', '...         0.6          1  \n",
       "5  ['rather_bad', 'rather_bad', 'bad', 'rather_ba...         0.8         -1  \n",
       "6            ['good', 'good', 'bad', 'good', 'good']         0.8          2  \n",
       "7  ['rather_bad', 'bad', 'rather_bad', 'good', 'b...         0.5         -1  \n",
       "8  ['bad', 'good', 'rather_good', 'rather_good', ...         0.4          2  \n",
       "9                       ['bad', 'bad', 'rather_bad']         0.7         -2  "
      ]
     },
     "execution_count": 8,
     "metadata": {},
     "output_type": "execute_result"
    }
   ],
   "source": [
    "data_quality = pd.read_csv(FILE)\n",
    "\n",
    "columns_map = {\n",
    "    \"INPUT:wordset\": \"task\",\n",
    "    \"assessment\": \"agg_label\"\n",
    "}\n",
    "\n",
    "data_quality = data_quality.rename(columns=columns_map)\n",
    "\n",
    "data_quality.head(10)"
   ]
  },
  {
   "cell_type": "markdown",
   "metadata": {
    "id": "QCaMSduxnWL4"
   },
   "source": [
    "## Examples with Mistral"
   ]
  },
  {
   "cell_type": "code",
   "execution_count": 10,
   "metadata": {},
   "outputs": [
    {
     "name": "stderr",
     "output_type": "stream",
     "text": [
      "`low_cpu_mem_usage` was None, now set to True since model is quantized.\n"
     ]
    },
    {
     "data": {
      "application/vnd.jupyter.widget-view+json": {
       "model_id": "01000a0cc992471c8cc98b63d937cca2",
       "version_major": 2,
       "version_minor": 0
      },
      "text/plain": [
       "Loading checkpoint shards:   0%|          | 0/3 [00:00<?, ?it/s]"
      ]
     },
     "metadata": {},
     "output_type": "display_data"
    }
   ],
   "source": [
    "# Define the parameters\n",
    "MODEL_NAME = \"mistralai/Mistral-7B-Instruct-v0.2\"\n",
    "QUANTIZATION_MODE = 'nf4'\n",
    "DEVICE = 'cuda'\n",
    "\n",
    "# Initialize the class object\n",
    "tm_eval = TmEval(\n",
    "    model_name=MODEL_NAME,\n",
    "    quantization_mode=QUANTIZATION_MODE,\n",
    "    device=DEVICE\n",
    ")"
   ]
  },
  {
   "cell_type": "markdown",
   "metadata": {
    "id": "4-rou6FvOCt3"
   },
   "source": [
    "#### Example for the classification pipeline"
   ]
  },
  {
   "cell_type": "code",
   "execution_count": 11,
   "metadata": {},
   "outputs": [
    {
     "data": {
      "text/plain": [
       "PosixPath('/notebooks')"
      ]
     },
     "execution_count": 11,
     "metadata": {},
     "output_type": "execute_result"
    }
   ],
   "source": [
    "dir_path = Path(os.path.dirname(os.path.realpath(\"Inference_example.ipynb\")))\n",
    "dir_path"
   ]
  },
  {
   "cell_type": "code",
   "execution_count": 12,
   "metadata": {
    "colab": {
     "base_uri": "https://localhost:8080/",
     "height": 763,
     "referenced_widgets": [
      "d79f68a0dbef40a3ba99ea0bcfc96d4c",
      "4456110b722c434ea8f42fc4ac3af460",
      "1510b9dc30f64e8d9e78877f15bba1ab",
      "ed83cc6671ac483282f5ffaaa6862543",
      "f1c363c455d14884a2f5c4b85d2fe8cf",
      "413ab64050dc466ca85d75e02fa726c0",
      "a69740d62e814816a8ea54e4971847f3",
      "f7ffd0942dfb44cb9da37ae236859399",
      "769ec4d6a87f43d9a7bfb43cd8b90b22",
      "80386fdc9ad147398683ebbff998ee4c",
      "b5b5ddc78d8043189dea813dbad510b8"
     ]
    },
    "id": "68glNoYDN0HD",
    "outputId": "00b5441b-0273-46bb-e319-b5e67286f4cd"
   },
   "outputs": [
    {
     "name": "stderr",
     "output_type": "stream",
     "text": [
      "100%|██████████| 100/100 [03:01<00:00,  1.82s/it]\n",
      "/tmp/ipykernel_2246/2600758542.py:345: SettingWithCopyWarning: \n",
      "A value is trying to be set on a copy of a slice from a DataFrame.\n",
      "Try using .loc[row_indexer,col_indexer] = value instead\n",
      "\n",
      "See the caveats in the documentation: https://pandas.pydata.org/pandas-docs/stable/user_guide/indexing.html#returning-a-view-versus-a-copy\n",
      "  df[\"Human\"] = df[\"Human\"].map(cls.num_to_words)\n",
      "/tmp/ipykernel_2246/2600758542.py:346: SettingWithCopyWarning: \n",
      "A value is trying to be set on a copy of a slice from a DataFrame.\n",
      "Try using .loc[row_indexer,col_indexer] = value instead\n",
      "\n",
      "See the caveats in the documentation: https://pandas.pydata.org/pandas-docs/stable/user_guide/indexing.html#returning-a-view-versus-a-copy\n",
      "  df[\"Model\"] = df[\"Model\"].map(cls.num_to_words)\n",
      "/tmp/ipykernel_2246/2600758542.py:345: SettingWithCopyWarning: \n",
      "A value is trying to be set on a copy of a slice from a DataFrame.\n",
      "Try using .loc[row_indexer,col_indexer] = value instead\n",
      "\n",
      "See the caveats in the documentation: https://pandas.pydata.org/pandas-docs/stable/user_guide/indexing.html#returning-a-view-versus-a-copy\n",
      "  df[\"Human\"] = df[\"Human\"].map(cls.num_to_words)\n",
      "/tmp/ipykernel_2246/2600758542.py:346: SettingWithCopyWarning: \n",
      "A value is trying to be set on a copy of a slice from a DataFrame.\n",
      "Try using .loc[row_indexer,col_indexer] = value instead\n",
      "\n",
      "See the caveats in the documentation: https://pandas.pydata.org/pandas-docs/stable/user_guide/indexing.html#returning-a-view-versus-a-copy\n",
      "  df[\"Model\"] = df[\"Model\"].map(cls.num_to_words)\n"
     ]
    },
    {
     "name": "stdout",
     "output_type": "stream",
     "text": [
      "\n",
      "All results were saved to the /notebooks/data/results/Mistral7B_classification_P1.csv file.\n",
      "All results were saved to the dataframe\n",
      "Datasets: ['20newsgroups', 'amazon_food']\n",
      "Plot was saved to the file /notebooks/data/results/mistral7B_amazon_distrib.svg\n",
      "Plot was saved to the file /notebooks/data/results/mistral7B_newsgroups_distrib.svg\n",
      "Plot was saved to the file /notebooks/data/results/mistral7B_amazon_conf_matrix.png\n",
      "Plot was saved to the file /notebooks/data/results/mistral7B_newsgroups_conf_matrix.png\n"
     ]
    }
   ],
   "source": [
    "# Launch on the dataset with system tokens and internal prompt\n",
    "RES_FILE_NAME = \"Mistral7B_classification_P1.csv\"\n",
    "PROMPT_TYPE = 'P1_Mistral'\n",
    "\n",
    "results_df = tm_eval.get_results(\n",
    "    base_dir=dir_path,\n",
    "    data=data_quality,\n",
    "    prompt_type=PROMPT_TYPE,\n",
    "    filename=RES_FILE_NAME,\n",
    "    num_iter=100,\n",
    "    # num_iter=data_quality.shape[0], # Launch on the entire dataset\n",
    "    temp=0.1,\n",
    "    n_token=30,\n",
    "    remove_old_file=True,\n",
    "    print_info=False,  # Please, set this flag to False then you launch the pipeline on the entire dataset\n",
    "    save_results_to_df=True,\n",
    "    use_system_tokens=True\n",
    ")\n",
    "\n",
    "# Results postprocessing\n",
    "tm_eval.postprocess_results(results_df)\n",
    "\n",
    "# Divide into two datasets\n",
    "DATASETS_NAME = \"datasets_name.csv\"\n",
    "DATASETS_NAME = dir_path.joinpath(f'data/{DATASETS_NAME}')\n",
    "datasets_name = pd.read_csv(\n",
    "    DATASETS_NAME,\n",
    "    sep=\",\",\n",
    "    header=0\n",
    ")\n",
    "print(\"Datasets:\", list(set(datasets_name[\"INPUT:dataset_name\"])))\n",
    "\n",
    "# Divide the entire dataset into parts by the dataset name\n",
    "amazon_food_data = datasets_name[datasets_name[\"INPUT:dataset_name\"]==\"amazon_food\"]\n",
    "newsgroups_data = datasets_name[datasets_name[\"INPUT:dataset_name\"]==\"20newsgroups\"]\n",
    "\n",
    "amazon_food_texts = amazon_food_data[\"INPUT:wordset\"]\n",
    "newsgroups_texts = newsgroups_data[\"INPUT:wordset\"]\n",
    "\n",
    "results_amazon = results_df[results_df[\"task\"].isin(amazon_food_texts)]\n",
    "results_newsgroups = results_df[results_df[\"task\"].isin(newsgroups_texts)]\n",
    "\n",
    "# Save all distributions\n",
    "tm_eval.plot_answers_distrib(\n",
    "    results_amazon,\n",
    "    model_name='Mistral 7B Instruct',\n",
    "    dataset_name='Amazon Food',\n",
    "    save_dir=dir_path.joinpath('data/results/mistral7B_amazon_distrib.svg'),\n",
    "    print_plot=False\n",
    "    )\n",
    "\n",
    "tm_eval.plot_answers_distrib(\n",
    "    results_newsgroups,\n",
    "    model_name='Mistral 7B Instruct',\n",
    "    dataset_name='20 Newsgroups',\n",
    "    save_dir=dir_path.joinpath('data/results/mistral7B_newsgroups_distrib.svg'),\n",
    "    print_plot=False\n",
    "    )\n",
    "\n",
    "# Save all confusion matrices\n",
    "tm_eval.plot_conf_matrix(\n",
    "    np.array(results_amazon[\"true\"]),\n",
    "    np.array(results_amazon[\"model_extracted\"]),\n",
    "    model_name=\"Mistral 7B, Amazon Food\",\n",
    "    heatmap_fontsize=11,\n",
    "    axis_label_fontsize=14,\n",
    "    ticklabel_fontsize=11,\n",
    "    title_fontsize=15,\n",
    "    save_dir=dir_path.joinpath('data/results/mistral7B_amazon_conf_matrix.png'),\n",
    "    print_plot=False\n",
    "    )\n",
    "\n",
    "tm_eval.plot_conf_matrix(\n",
    "    np.array(results_newsgroups[\"true\"]),\n",
    "    np.array(results_newsgroups[\"model_extracted\"]),\n",
    "    model_name=\"Mistral 7B, 20 Newsgroups\",\n",
    "    heatmap_fontsize=11,\n",
    "    axis_label_fontsize=14,\n",
    "    ticklabel_fontsize=11,\n",
    "    title_fontsize=15,\n",
    "    save_dir=dir_path.joinpath('data/results/mistral7B_newsgroups_conf_matrix.png'),\n",
    "    print_plot=False\n",
    "    )"
   ]
  },
  {
   "cell_type": "markdown",
   "metadata": {
    "id": "hmReqdG2QtB_",
    "jp-MarkdownHeadingCollapsed": true
   },
   "source": [
    "### Step by step pipeline"
   ]
  },
  {
   "cell_type": "code",
   "execution_count": null,
   "metadata": {
    "colab": {
     "base_uri": "https://localhost:8080/",
     "height": 229
    },
    "id": "LnFrgx2RMnGn",
    "outputId": "e5bcb43b-338f-4117-9cf3-64c0ac80c5eb"
   },
   "outputs": [],
   "source": [
    "# Example of a launch with system tokens (only for one sample)\n",
    "\n",
    "system_prompt = (\"You are a useful assistant who evaluates the coherence of words. \"\n",
    "                 \"You will receive a list of words, please determine which class the given \"\n",
    "                 \"list of words belongs to by answering the question: 'Is it possible to determine \"\n",
    "                 \"a common topic for the presented word set or at least for the most part of the set?'.\\n\"\n",
    "                 \"Classification rules:\\nyes - if words have a strong connection between them\\n\"\n",
    "                 \"rather yes - if some words are too common or out of topic\\n\"\n",
    "                 \"rather no - if the amount of irrelevant words is high to determine a topic or there is a mixture of topics\\n\"\n",
    "                 \"no - when words seem to be unconnected\\n\"\n",
    "                 \"neutral - if it is hard for you to answer on the question.\\nPrint only class without explanation and additional information.\\n\")\n",
    "\n",
    "sample = 'Words: ' + data_quality.iloc[0][\"task\"] + \"\\nClass:\"\n",
    "\n",
    "tm_eval.get_answer(\n",
    "    instruction=system_prompt,\n",
    "    sample=sample,\n",
    "    n_token=10,\n",
    "    use_system_tokens=True,\n",
    "    print_prompt=True\n",
    ")"
   ]
  },
  {
   "cell_type": "markdown",
   "metadata": {
    "id": "ZlYL8FsOoG12"
   },
   "source": [
    "### Example with internal prompt"
   ]
  },
  {
   "cell_type": "code",
   "execution_count": 17,
   "metadata": {
    "colab": {
     "base_uri": "https://localhost:8080/"
    },
    "id": "4KEaQAa5Uvbi",
    "outputId": "e791e35f-22ba-4d55-8566-64760e3bf269"
   },
   "outputs": [
    {
     "name": "stderr",
     "output_type": "stream",
     "text": [
      "  0%|          | 0/5 [00:00<?, ?it/s]"
     ]
    },
    {
     "name": "stdout",
     "output_type": "stream",
     "text": [
      "<s> [INST] You are a useful assistant who evaluates the coherence of words.\n",
      "You will receive a list of words, please determine which class the given list of words belongs to by answering the question: 'Is it possible to determine a common topic for the presented word set or at least for the most part of the set?'.Classification rules: yes - if words have a strong connection between them, rather yes - if some words are too common or out of topic, rather no - if the amount of irrelevant words is high to determine a topic or there is a mixture of topics, no - when words seem to be unconnected, neutral - if it is hard for you to answer on the question.\n",
      "Print only class without explanation and additional information.\n",
      " Words: able amaze fill glad stop daily fantastic move prime plenty empty subtle job strongly litter\n",
      "Class: [/INST]\n"
     ]
    },
    {
     "name": "stderr",
     "output_type": "stream",
     "text": [
      " 20%|██        | 1/5 [00:01<00:06,  1.54s/it]"
     ]
    },
    {
     "name": "stdout",
     "output_type": "stream",
     "text": [
      " neutral</s>\n",
      "<s> [INST] You are a useful assistant who evaluates the coherence of words.\n",
      "You will receive a list of words, please determine which class the given list of words belongs to by answering the question: 'Is it possible to determine a common topic for the presented word set or at least for the most part of the set?'.Classification rules: yes - if words have a strong connection between them, rather yes - if some words are too common or out of topic, rather no - if the amount of irrelevant words is high to determine a topic or there is a mixture of topics, no - when words seem to be unconnected, neutral - if it is hard for you to answer on the question.\n",
      "Print only class without explanation and additional information.\n",
      " Words: able amaze fill stop glad daily fantastic move plenty prime empty job subtle strongly litter\n",
      "Class: [/INST]\n"
     ]
    },
    {
     "name": "stderr",
     "output_type": "stream",
     "text": [
      " 40%|████      | 2/5 [00:02<00:04,  1.48s/it]"
     ]
    },
    {
     "name": "stdout",
     "output_type": "stream",
     "text": [
      " neutral</s>\n",
      "<s> [INST] You are a useful assistant who evaluates the coherence of words.\n",
      "You will receive a list of words, please determine which class the given list of words belongs to by answering the question: 'Is it possible to determine a common topic for the presented word set or at least for the most part of the set?'.Classification rules: yes - if words have a strong connection between them, rather yes - if some words are too common or out of topic, rather no - if the amount of irrelevant words is high to determine a topic or there is a mixture of topics, no - when words seem to be unconnected, neutral - if it is hard for you to answer on the question.\n",
      "Print only class without explanation and additional information.\n",
      " Words: able amaze fill stop glad daily fantastic move plenty prime empty subtle job strongly litter\n",
      "Class: [/INST]\n"
     ]
    },
    {
     "name": "stderr",
     "output_type": "stream",
     "text": [
      " 60%|██████    | 3/5 [00:04<00:02,  1.47s/it]"
     ]
    },
    {
     "name": "stdout",
     "output_type": "stream",
     "text": [
      " neutral</s>\n",
      "<s> [INST] You are a useful assistant who evaluates the coherence of words.\n",
      "You will receive a list of words, please determine which class the given list of words belongs to by answering the question: 'Is it possible to determine a common topic for the presented word set or at least for the most part of the set?'.Classification rules: yes - if words have a strong connection between them, rather yes - if some words are too common or out of topic, rather no - if the amount of irrelevant words is high to determine a topic or there is a mixture of topics, no - when words seem to be unconnected, neutral - if it is hard for you to answer on the question.\n",
      "Print only class without explanation and additional information.\n",
      " Words: able amaze glad fill stop fantastic daily move prime empty plenty subtle job strongly litter\n",
      "Class: [/INST]\n"
     ]
    },
    {
     "name": "stderr",
     "output_type": "stream",
     "text": [
      " 80%|████████  | 4/5 [00:05<00:01,  1.46s/it]"
     ]
    },
    {
     "name": "stdout",
     "output_type": "stream",
     "text": [
      " neutral</s>\n",
      "<s> [INST] You are a useful assistant who evaluates the coherence of words.\n",
      "You will receive a list of words, please determine which class the given list of words belongs to by answering the question: 'Is it possible to determine a common topic for the presented word set or at least for the most part of the set?'.Classification rules: yes - if words have a strong connection between them, rather yes - if some words are too common or out of topic, rather no - if the amount of irrelevant words is high to determine a topic or there is a mixture of topics, no - when words seem to be unconnected, neutral - if it is hard for you to answer on the question.\n",
      "Print only class without explanation and additional information.\n",
      " Words: absolute church truth doug scripture symbol libxmu font bible free undefined type motif error application\n",
      "Class: [/INST]\n"
     ]
    },
    {
     "name": "stderr",
     "output_type": "stream",
     "text": [
      "100%|██████████| 5/5 [00:07<00:00,  1.47s/it]"
     ]
    },
    {
     "name": "stdout",
     "output_type": "stream",
     "text": [
      " neutral</s>\n",
      "\n",
      "All results were saved to the /notebooks/data/results/example.csv file.\n",
      "All results were saved to the dataframe\n"
     ]
    },
    {
     "name": "stderr",
     "output_type": "stream",
     "text": [
      "\n"
     ]
    }
   ],
   "source": [
    "# Example of the launch on the dataset with system tokens and internal prompt\n",
    "dir_path = Path(os.path.dirname(os.path.realpath(\"Inference_example.ipynb\")))\n",
    "\n",
    "RES_FILE_NAME = \"example.csv\"\n",
    "PROMPT_TYPE = 'P1_Mistral'\n",
    "\n",
    "results_df = tm_eval.get_results(\n",
    "    base_dir=dir_path,\n",
    "    data=data_quality,\n",
    "    prompt_type=PROMPT_TYPE,\n",
    "    filename=RES_FILE_NAME,\n",
    "    # num_iter=data_quality.shape[0], # Launch on the entire dataset\n",
    "    num_iter=5,\n",
    "    temp=0.1,\n",
    "    n_token=30,\n",
    "    remove_old_file=True,\n",
    "    print_info=True,  # Please, set this flag to False then you launch the pipeline on the entire dataset\n",
    "    save_results_to_df=True\n",
    ")"
   ]
  },
  {
   "cell_type": "code",
   "execution_count": 18,
   "metadata": {
    "colab": {
     "base_uri": "https://localhost:8080/",
     "height": 363
    },
    "id": "y7ISdsnJIShc",
    "outputId": "6aeb8909-49dd-48e9-e01b-b89bdabbaacc"
   },
   "outputs": [
    {
     "data": {
      "text/html": [
       "<div>\n",
       "<style scoped>\n",
       "    .dataframe tbody tr th:only-of-type {\n",
       "        vertical-align: middle;\n",
       "    }\n",
       "\n",
       "    .dataframe tbody tr th {\n",
       "        vertical-align: top;\n",
       "    }\n",
       "\n",
       "    .dataframe thead th {\n",
       "        text-align: right;\n",
       "    }\n",
       "</style>\n",
       "<table border=\"1\" class=\"dataframe\">\n",
       "  <thead>\n",
       "    <tr style=\"text-align: right;\">\n",
       "      <th></th>\n",
       "      <th>task</th>\n",
       "      <th>true</th>\n",
       "      <th>model</th>\n",
       "    </tr>\n",
       "  </thead>\n",
       "  <tbody>\n",
       "    <tr>\n",
       "      <th>0</th>\n",
       "      <td>able amaze fill glad stop daily fantastic move...</td>\n",
       "      <td>-1</td>\n",
       "      <td>neutral&lt;/s&gt;</td>\n",
       "    </tr>\n",
       "    <tr>\n",
       "      <th>1</th>\n",
       "      <td>able amaze fill stop glad daily fantastic move...</td>\n",
       "      <td>-1</td>\n",
       "      <td>neutral&lt;/s&gt;</td>\n",
       "    </tr>\n",
       "    <tr>\n",
       "      <th>2</th>\n",
       "      <td>able amaze fill stop glad daily fantastic move...</td>\n",
       "      <td>-1</td>\n",
       "      <td>neutral&lt;/s&gt;</td>\n",
       "    </tr>\n",
       "    <tr>\n",
       "      <th>3</th>\n",
       "      <td>able amaze glad fill stop fantastic daily move...</td>\n",
       "      <td>-2</td>\n",
       "      <td>neutral&lt;/s&gt;</td>\n",
       "    </tr>\n",
       "    <tr>\n",
       "      <th>4</th>\n",
       "      <td>absolute church truth doug scripture symbol li...</td>\n",
       "      <td>1</td>\n",
       "      <td>neutral&lt;/s&gt;</td>\n",
       "    </tr>\n",
       "  </tbody>\n",
       "</table>\n",
       "</div>"
      ],
      "text/plain": [
       "                                                task  true         model\n",
       "0  able amaze fill glad stop daily fantastic move...    -1   neutral</s>\n",
       "1  able amaze fill stop glad daily fantastic move...    -1   neutral</s>\n",
       "2  able amaze fill stop glad daily fantastic move...    -1   neutral</s>\n",
       "3  able amaze glad fill stop fantastic daily move...    -2   neutral</s>\n",
       "4  absolute church truth doug scripture symbol li...     1   neutral</s>"
      ]
     },
     "execution_count": 18,
     "metadata": {},
     "output_type": "execute_result"
    }
   ],
   "source": [
    "results_df"
   ]
  },
  {
   "cell_type": "markdown",
   "metadata": {
    "id": "Jrfk6FkGmowb"
   },
   "source": [
    "#### Postprocessing\n",
    "To demonstrate this stage, we will upload the old results"
   ]
  },
  {
   "cell_type": "code",
   "execution_count": 20,
   "metadata": {
    "id": "rcfL4Eb5m60Z"
   },
   "outputs": [],
   "source": [
    "PROMPT_MISTRAL = \"text_coherence_mistral_7b_4_bit_5classes_P2.csv\"\n",
    "RESULTS_DIR = \"data/results\"\n",
    "FILE_RESULTS = f\"{RESULTS_DIR}/{PROMPT_MISTRAL}\"\n",
    "\n",
    "results_df = pd.read_csv(FILE_RESULTS, sep=\"\\t\", names=[\"task\", \"true\", \"model\"], header=None)"
   ]
  },
  {
   "cell_type": "code",
   "execution_count": 21,
   "metadata": {
    "colab": {
     "base_uri": "https://localhost:8080/",
     "height": 363
    },
    "id": "_3i6jg7Yn5In",
    "outputId": "095f7124-7df4-4b70-b575-e5d564c2300e"
   },
   "outputs": [
    {
     "data": {
      "text/html": [
       "<div>\n",
       "<style scoped>\n",
       "    .dataframe tbody tr th:only-of-type {\n",
       "        vertical-align: middle;\n",
       "    }\n",
       "\n",
       "    .dataframe tbody tr th {\n",
       "        vertical-align: top;\n",
       "    }\n",
       "\n",
       "    .dataframe thead th {\n",
       "        text-align: right;\n",
       "    }\n",
       "</style>\n",
       "<table border=\"1\" class=\"dataframe\">\n",
       "  <thead>\n",
       "    <tr style=\"text-align: right;\">\n",
       "      <th></th>\n",
       "      <th>task</th>\n",
       "      <th>true</th>\n",
       "      <th>model</th>\n",
       "    </tr>\n",
       "  </thead>\n",
       "  <tbody>\n",
       "    <tr>\n",
       "      <th>0</th>\n",
       "      <td>able amaze fill glad stop daily fantastic move...</td>\n",
       "      <td>-1</td>\n",
       "      <td>neutral&lt;/s&gt;</td>\n",
       "    </tr>\n",
       "    <tr>\n",
       "      <th>1</th>\n",
       "      <td>able amaze fill stop glad daily fantastic move...</td>\n",
       "      <td>-1</td>\n",
       "      <td>neutral&lt;/s&gt;</td>\n",
       "    </tr>\n",
       "    <tr>\n",
       "      <th>2</th>\n",
       "      <td>able amaze fill stop glad daily fantastic move...</td>\n",
       "      <td>-1</td>\n",
       "      <td>neutral&lt;/s&gt;</td>\n",
       "    </tr>\n",
       "    <tr>\n",
       "      <th>3</th>\n",
       "      <td>able amaze glad fill stop fantastic daily move...</td>\n",
       "      <td>-2</td>\n",
       "      <td>neutral&lt;/s&gt;</td>\n",
       "    </tr>\n",
       "    <tr>\n",
       "      <th>4</th>\n",
       "      <td>absolute church truth doug scripture symbol li...</td>\n",
       "      <td>1</td>\n",
       "      <td>neutral&lt;/s&gt;</td>\n",
       "    </tr>\n",
       "    <tr>\n",
       "      <th>5</th>\n",
       "      <td>absolute church truth mission nasa doug mars e...</td>\n",
       "      <td>-1</td>\n",
       "      <td>neutral&lt;/s&gt;</td>\n",
       "    </tr>\n",
       "    <tr>\n",
       "      <th>6</th>\n",
       "      <td>absolute mission church nasa mars earth truth ...</td>\n",
       "      <td>2</td>\n",
       "      <td>rather yes. The words have some connection to...</td>\n",
       "    </tr>\n",
       "    <tr>\n",
       "      <th>7</th>\n",
       "      <td>absolutely fast white rice service noodle terr...</td>\n",
       "      <td>-1</td>\n",
       "      <td>rather yes&lt;/s&gt;</td>\n",
       "    </tr>\n",
       "    <tr>\n",
       "      <th>8</th>\n",
       "      <td>absolutely fast white super service customer r...</td>\n",
       "      <td>2</td>\n",
       "      <td>rather no.&lt;/s&gt;</td>\n",
       "    </tr>\n",
       "    <tr>\n",
       "      <th>9</th>\n",
       "      <td>absolutely grain experience soon there's proce...</td>\n",
       "      <td>-2</td>\n",
       "      <td>neutral&lt;/s&gt;</td>\n",
       "    </tr>\n",
       "  </tbody>\n",
       "</table>\n",
       "</div>"
      ],
      "text/plain": [
       "                                                task  true  \\\n",
       "0  able amaze fill glad stop daily fantastic move...    -1   \n",
       "1  able amaze fill stop glad daily fantastic move...    -1   \n",
       "2  able amaze fill stop glad daily fantastic move...    -1   \n",
       "3  able amaze glad fill stop fantastic daily move...    -2   \n",
       "4  absolute church truth doug scripture symbol li...     1   \n",
       "5  absolute church truth mission nasa doug mars e...    -1   \n",
       "6  absolute mission church nasa mars earth truth ...     2   \n",
       "7  absolutely fast white rice service noodle terr...    -1   \n",
       "8  absolutely fast white super service customer r...     2   \n",
       "9  absolutely grain experience soon there's proce...    -2   \n",
       "\n",
       "                                               model  \n",
       "0                                        neutral</s>  \n",
       "1                                        neutral</s>  \n",
       "2                                        neutral</s>  \n",
       "3                                        neutral</s>  \n",
       "4                                        neutral</s>  \n",
       "5                                        neutral</s>  \n",
       "6   rather yes. The words have some connection to...  \n",
       "7                                     rather yes</s>  \n",
       "8                                     rather no.</s>  \n",
       "9                                        neutral</s>  "
      ]
     },
     "execution_count": 21,
     "metadata": {},
     "output_type": "execute_result"
    }
   ],
   "source": [
    "results_df.head(10)"
   ]
  },
  {
   "cell_type": "code",
   "execution_count": 22,
   "metadata": {
    "id": "hjDUBdXRH433"
   },
   "outputs": [
    {
     "name": "stderr",
     "output_type": "stream",
     "text": [
      "/tmp/ipykernel_1443/2485555238.py:314: FutureWarning: elementwise comparison failed; returning scalar instead, but in the future will perform elementwise comparison\n",
      "  if 'None' in (data[\"model_extracted\"].unique()):\n"
     ]
    }
   ],
   "source": [
    "tm_eval.postprocess_results(results_df)"
   ]
  },
  {
   "cell_type": "code",
   "execution_count": 25,
   "metadata": {
    "colab": {
     "base_uri": "https://localhost:8080/"
    },
    "id": "NUYIehlHVDtk",
    "outputId": "02bed376-e17f-43d0-f269-98a8d821667a"
   },
   "outputs": [
    {
     "name": "stdout",
     "output_type": "stream",
     "text": [
      "Datasets: ['20newsgroups', 'amazon_food']\n"
     ]
    }
   ],
   "source": [
    "# Divide into two datasets\n",
    "DATASETS_NAME = \"datasets_name.csv\"\n",
    "DATASETS_DIR = Path(\"data\")\n",
    "DATASETS_NAME = DATASETS_DIR.joinpath(DATASETS_NAME)\n",
    "datasets_name = pd.read_csv(\n",
    "    DATASETS_NAME,\n",
    "    sep=\",\",\n",
    "    header=0\n",
    ")\n",
    "print(\"Datasets:\", list(set(datasets_name[\"INPUT:dataset_name\"])))\n",
    "\n",
    "# Divide the entire dataset into parts by the dataset name\n",
    "amazon_food_data = datasets_name[datasets_name[\"INPUT:dataset_name\"]==\"amazon_food\"]\n",
    "newsgroups_data = datasets_name[datasets_name[\"INPUT:dataset_name\"]==\"20newsgroups\"]\n",
    "\n",
    "amazon_food_texts = amazon_food_data[\"INPUT:wordset\"]\n",
    "newsgroups_texts = newsgroups_data[\"INPUT:wordset\"]\n",
    "\n",
    "results_amazon = results_df[results_df[\"task\"].isin(amazon_food_texts)]\n",
    "results_newsgroups = results_df[results_df[\"task\"].isin(newsgroups_texts)]"
   ]
  },
  {
   "cell_type": "code",
   "execution_count": 27,
   "metadata": {
    "colab": {
     "base_uri": "https://localhost:8080/",
     "height": 800
    },
    "id": "xc0WdmU4OA1i",
    "outputId": "8963680e-8dbf-4309-97c3-966bf0ed5e3f"
   },
   "outputs": [
    {
     "name": "stderr",
     "output_type": "stream",
     "text": [
      "/tmp/ipykernel_1443/2485555238.py:345: SettingWithCopyWarning: \n",
      "A value is trying to be set on a copy of a slice from a DataFrame.\n",
      "Try using .loc[row_indexer,col_indexer] = value instead\n",
      "\n",
      "See the caveats in the documentation: https://pandas.pydata.org/pandas-docs/stable/user_guide/indexing.html#returning-a-view-versus-a-copy\n",
      "  df[\"Human\"] = df[\"Human\"].map(cls.num_to_words)\n",
      "/tmp/ipykernel_1443/2485555238.py:346: SettingWithCopyWarning: \n",
      "A value is trying to be set on a copy of a slice from a DataFrame.\n",
      "Try using .loc[row_indexer,col_indexer] = value instead\n",
      "\n",
      "See the caveats in the documentation: https://pandas.pydata.org/pandas-docs/stable/user_guide/indexing.html#returning-a-view-versus-a-copy\n",
      "  df[\"Model\"] = df[\"Model\"].map(cls.num_to_words)\n"
     ]
    },
    {
     "name": "stdout",
     "output_type": "stream",
     "text": [
      "Plot was saved to the file /notebooks/data/results/mistral7B_amazon_distrib.svg\n"
     ]
    },
    {
     "data": {
      "image/png": "[encoded data removed]",
      "text/plain": [
       "<Figure size 800x600 with 1 Axes>"
      ]
     },
     "metadata": {},
     "output_type": "display_data"
    }
   ],
   "source": [
    "# Print the distributions of the answers\n",
    "tm_eval.plot_answers_distrib(\n",
    "    results_amazon,\n",
    "    model_name='Mistral 7B Instruct',\n",
    "    dataset_name='Amazon Food',\n",
    "    save_dir=dir_path.joinpath('data/results/mistral7B_amazon_distrib.svg'),\n",
    "    print_plot=True\n",
    "    )"
   ]
  },
  {
   "cell_type": "code",
   "execution_count": 29,
   "metadata": {
    "colab": {
     "base_uri": "https://localhost:8080/",
     "height": 800
    },
    "id": "2zQ6eaycrLge",
    "outputId": "1d1a611e-9e36-4984-d4e7-67687c9c01be"
   },
   "outputs": [
    {
     "name": "stderr",
     "output_type": "stream",
     "text": [
      "/tmp/ipykernel_1443/2485555238.py:345: SettingWithCopyWarning: \n",
      "A value is trying to be set on a copy of a slice from a DataFrame.\n",
      "Try using .loc[row_indexer,col_indexer] = value instead\n",
      "\n",
      "See the caveats in the documentation: https://pandas.pydata.org/pandas-docs/stable/user_guide/indexing.html#returning-a-view-versus-a-copy\n",
      "  df[\"Human\"] = df[\"Human\"].map(cls.num_to_words)\n",
      "/tmp/ipykernel_1443/2485555238.py:346: SettingWithCopyWarning: \n",
      "A value is trying to be set on a copy of a slice from a DataFrame.\n",
      "Try using .loc[row_indexer,col_indexer] = value instead\n",
      "\n",
      "See the caveats in the documentation: https://pandas.pydata.org/pandas-docs/stable/user_guide/indexing.html#returning-a-view-versus-a-copy\n",
      "  df[\"Model\"] = df[\"Model\"].map(cls.num_to_words)\n"
     ]
    },
    {
     "name": "stdout",
     "output_type": "stream",
     "text": [
      "Plot was saved to the file /notebooks/data/results/mistral7B_newsgroups_distrib.svg\n"
     ]
    },
    {
     "data": {
      "image/png": "[encoded data removed]",
      "text/plain": [
       "<Figure size 800x600 with 1 Axes>"
      ]
     },
     "metadata": {},
     "output_type": "display_data"
    }
   ],
   "source": [
    "tm_eval.plot_answers_distrib(\n",
    "    results_newsgroups,\n",
    "    model_name='Mistral 7B Instruct',\n",
    "    dataset_name='20 Newsgroups',\n",
    "    save_dir=dir_path.joinpath('data/results/mistral7B_newsgroups_distrib.svg'),\n",
    "    print_plot=True\n",
    "    )"
   ]
  },
  {
   "cell_type": "code",
   "execution_count": 32,
   "metadata": {
    "colab": {
     "base_uri": "https://localhost:8080/",
     "height": 498
    },
    "id": "eDQ-wYzDsnVn",
    "outputId": "32145e2c-895d-4b2a-82bb-d417a4b259fa"
   },
   "outputs": [
    {
     "name": "stdout",
     "output_type": "stream",
     "text": [
      "Plot was saved to the file /notebooks/data/results/mistral7B_amazon_conf_matrix.png\n"
     ]
    },
    {
     "data": {
      "image/png": "[encoded data removed]",
      "text/plain": [
       "<Figure size 640x480 with 2 Axes>"
      ]
     },
     "metadata": {},
     "output_type": "display_data"
    }
   ],
   "source": [
    "tm_eval.plot_conf_matrix(\n",
    "    np.array(results_amazon[\"true\"]),\n",
    "    np.array(results_amazon[\"model_extracted\"]),\n",
    "    model_name=\"Mistral 7B, Amazon Food\",\n",
    "    heatmap_fontsize=11,\n",
    "    axis_label_fontsize=14,\n",
    "    ticklabel_fontsize=11,\n",
    "    title_fontsize=15,\n",
    "    save_dir=dir_path.joinpath('data/results/mistral7B_amazon_conf_matrix.png'),\n",
    "    print_plot=True\n",
    "    )"
   ]
  },
  {
   "cell_type": "code",
   "execution_count": 33,
   "metadata": {
    "colab": {
     "base_uri": "https://localhost:8080/",
     "height": 498
    },
    "id": "j0ifgnxgtqkx",
    "outputId": "b8408911-6048-43d6-85c9-d54e2eea0014"
   },
   "outputs": [
    {
     "name": "stdout",
     "output_type": "stream",
     "text": [
      "Plot was saved to the file /notebooks/data/results/mistral7B_newsgroups_conf_matrix.png\n"
     ]
    },
    {
     "data": {
      "image/png": "[encoded data removed]",
      "text/plain": [
       "<Figure size 640x480 with 2 Axes>"
      ]
     },
     "metadata": {},
     "output_type": "display_data"
    }
   ],
   "source": [
    "TmEval.plot_conf_matrix(\n",
    "    np.array(results_newsgroups[\"true\"]),\n",
    "    np.array(results_newsgroups[\"model_extracted\"]),\n",
    "    model_name=\"Mistral 7B, 20 Newsgroups\",\n",
    "    heatmap_fontsize=11,\n",
    "    axis_label_fontsize=14,\n",
    "    ticklabel_fontsize=11,\n",
    "    title_fontsize=15,\n",
    "    save_dir=dir_path.joinpath('data/results/mistral7B_newsgroups_conf_matrix.png'),\n",
    "    print_plot=True\n",
    "    )"
   ]
  },
  {
   "cell_type": "code",
   "execution_count": 34,
   "metadata": {
    "id": "uCSVrbCUzfJR"
   },
   "outputs": [
    {
     "name": "stdout",
     "output_type": "stream",
     "text": [
      "Metrics for Amazon Food\n",
      "interval columns not set, guessing: ['true', 'model_extracted']\n"
     ]
    },
    {
     "name": "stderr",
     "output_type": "stream",
     "text": [
      "huggingface/tokenizers: The current process just got forked, after parallelism has already been used. Disabling parallelism to avoid deadlocks...\n",
      "To disable this warning, you can either:\n",
      "\t- Avoid using `tokenizers` before the fork if possible\n",
      "\t- Explicitly set the environment variable TOKENIZERS_PARALLELISM=(true | false)\n",
      "huggingface/tokenizers: The current process just got forked, after parallelism has already been used. Disabling parallelism to avoid deadlocks...\n",
      "To disable this warning, you can either:\n",
      "\t- Avoid using `tokenizers` before the fork if possible\n",
      "\t- Explicitly set the environment variable TOKENIZERS_PARALLELISM=(true | false)\n",
      "huggingface/tokenizers: The current process just got forked, after parallelism has already been used. Disabling parallelism to avoid deadlocks...\n",
      "To disable this warning, you can either:\n",
      "\t- Avoid using `tokenizers` before the fork if possible\n",
      "\t- Explicitly set the environment variable TOKENIZERS_PARALLELISM=(true | false)\n",
      "huggingface/tokenizers: The current process just got forked, after parallelism has already been used. Disabling parallelism to avoid deadlocks...\n",
      "To disable this warning, you can either:\n",
      "\t- Avoid using `tokenizers` before the fork if possible\n",
      "\t- Explicitly set the environment variable TOKENIZERS_PARALLELISM=(true | false)\n",
      "huggingface/tokenizers: The current process just got forked, after parallelism has already been used. Disabling parallelism to avoid deadlocks...\n",
      "To disable this warning, you can either:\n",
      "\t- Avoid using `tokenizers` before the fork if possible\n",
      "\t- Explicitly set the environment variable TOKENIZERS_PARALLELISM=(true | false)\n"
     ]
    },
    {
     "name": "stdout",
     "output_type": "stream",
     "text": [
      "       phik   pearson  accuracy  f1_score\n",
      "0  0.319019  0.444607  0.077214  0.054888\n",
      "Metric for 20 Newsgroups\n",
      "interval columns not set, guessing: ['true', 'model_extracted']\n",
      "       phik  pearson  accuracy  f1_score\n",
      "0  0.596989  0.48258  0.069189  0.055113\n"
     ]
    }
   ],
   "source": [
    "print(\"Metrics for Amazon Food\")\n",
    "metrics_amazon = tm_eval.calculate_metrics(\n",
    "    data=results_amazon,\n",
    "    save_dir=dir_path.joinpath('data/results/mistral7B_amazon_metrices.csv')\n",
    ")\n",
    "print(metrics_amazon)\n",
    "\n",
    "print(\"Metric for 20 Newsgroups\")\n",
    "metrics_newsgoups = tm_eval.calculate_metrics(\n",
    "    data=results_newsgroups,\n",
    "    save_dir=dir_path.joinpath('data/results/mistral7B_newsgroups_metrices.csv')\n",
    ")\n",
    "print(metrics_newsgoups)"
   ]
  },
  {
   "cell_type": "markdown",
   "metadata": {
    "id": "PWCDQdbWoMRC"
   },
   "source": [
    "### Example with custom prompt (Mistral)\n",
    "\n",
    "**WARNING:**  If you will use custom prompts than internal algorithms for post processing and calculation of metrics can give unstable results"
   ]
  },
  {
   "cell_type": "code",
   "execution_count": 13,
   "metadata": {
    "id": "eFSQoAtbv78t"
   },
   "outputs": [],
   "source": [
    "class TmEvalCustom(TmEval):\n",
    "    def get_prompt(self, prompt_type, sample):\n",
    "        system_prompt = ''\n",
    "        instruction = (\"\"\"Wordset: able amaze fill glad stop daily fantastic move prime plenty empty subtle job strongly litter\n",
    "                    Class: rather no\\n\n",
    "                    Wordset: absolutely white fast super return service customer terrible satisfied horrible replace process experience sticky lol\n",
    "                    Class: neutral\\n\n",
    "                    Wordset: address send request receive bear militia free amendment shall constitution arms mailing organize sent regulate\n",
    "                    Class: no\\n\n",
    "                    Wordset: anonymous public private news crime server religion carry pretty bill cview internet paul hold thought\n",
    "                    Class: yes\\n\n",
    "                    Wordset: arab israeli tape population policy border village research bullet child occupy associate muslim israel jewish\n",
    "                    Class: rather yes\\n\\n\"\"\")\n",
    "\n",
    "        sample = 'Wordset: ' + sample + \"\\nClass:\"\n",
    "        \n",
    "        return system_prompt, instruction, sample"
   ]
  },
  {
   "cell_type": "code",
   "execution_count": 14,
   "metadata": {
    "colab": {
     "base_uri": "https://localhost:8080/",
     "height": 1000,
     "referenced_widgets": [
      "69d20da8f3554039a39b0ff80041cef4",
      "60aa488172214c43869b62828481df2e",
      "72fd0e707d004b6db9bb48b176ce2381",
      "a345dad9c1b344f19579cfd8a4710e06",
      "85ba1cb47e314223a44170951d0fd119",
      "2e26e6cddd6e4bedb95f285ecf52b525",
      "a2a54eb1bc2d4d00a169410b7c3a7fe8",
      "2c2415056b07473fb5dc018b59bf59a9",
      "aacefeecbb5044ac993d6a7b9a88f52f",
      "6f9654f9d2c54bb29098aa213f9640c8",
      "91e5e7bca5d64918a3cd226b31cf0c0e"
     ]
    },
    "id": "U_G8SBiFjiN5",
    "outputId": "d8a7d094-9ff3-4ca3-f2cd-f42920585c25"
   },
   "outputs": [
    {
     "name": "stderr",
     "output_type": "stream",
     "text": [
      "`low_cpu_mem_usage` was None, now set to True since model is quantized.\n"
     ]
    },
    {
     "data": {
      "application/vnd.jupyter.widget-view+json": {
       "model_id": "0b6695e340ed4f50923b15565aa67c74",
       "version_major": 2,
       "version_minor": 0
      },
      "text/plain": [
       "Loading checkpoint shards:   0%|          | 0/3 [00:00<?, ?it/s]"
      ]
     },
     "metadata": {},
     "output_type": "display_data"
    },
    {
     "name": "stderr",
     "output_type": "stream",
     "text": [
      "  0%|          | 0/10 [00:00<?, ?it/s]"
     ]
    },
    {
     "name": "stdout",
     "output_type": "stream",
     "text": [
      "<s> [INST] Wordset: able amaze fill glad stop daily fantastic move prime plenty empty subtle job strongly litter\n",
      "                    Class: rather no\n",
      "\n",
      "                    Wordset: absolutely white fast super return service customer terrible satisfied horrible replace process experience sticky lol\n",
      "                    Class: neutral\n",
      "\n",
      "                    Wordset: address send request receive bear militia free amendment shall constitution arms mailing organize sent regulate\n",
      "                    Class: no\n",
      "\n",
      "                    Wordset: anonymous public private news crime server religion carry pretty bill cview internet paul hold thought\n",
      "                    Class: yes\n",
      "\n",
      "                    Wordset: arab israeli tape population policy border village research bullet child occupy associate muslim israel jewish\n",
      "                    Class: rather yes\n",
      "\n",
      " Wordset: able amaze fill glad stop daily fantastic move prime plenty empty subtle job strongly litter\n",
      "Class: [/INST]\n"
     ]
    },
    {
     "name": "stderr",
     "output_type": "stream",
     "text": [
      " 10%|█         | 1/10 [00:08<01:14,  8.30s/it]"
     ]
    },
    {
     "name": "stdout",
     "output_type": "stream",
     "text": [
      " This wordset describes various abilities, emotions, and actions. The words \"able,\" \"amazed,\" \"glad,\" \"daily,\" \"fantastic,\" \"move,\" \"prime,\" \"plenty,\" \"empty,\" \"subtle,\" and \"job\" can be classified as neutral. They do not inherently carry positive or negative connotations.  For example, \"able\" can mean having the capacity to do something, which is neither good nor bad. Similarly, \"\n",
      "<s> [INST] Wordset: able amaze fill glad stop daily fantastic move prime plenty empty subtle job strongly litter\n",
      "                    Class: rather no\n",
      "\n",
      "                    Wordset: absolutely white fast super return service customer terrible satisfied horrible replace process experience sticky lol\n",
      "                    Class: neutral\n",
      "\n",
      "                    Wordset: address send request receive bear militia free amendment shall constitution arms mailing organize sent regulate\n",
      "                    Class: no\n",
      "\n",
      "                    Wordset: anonymous public private news crime server religion carry pretty bill cview internet paul hold thought\n",
      "                    Class: yes\n",
      "\n",
      "                    Wordset: arab israeli tape population policy border village research bullet child occupy associate muslim israel jewish\n",
      "                    Class: rather yes\n",
      "\n",
      " Wordset: able amaze fill stop glad daily fantastic move plenty prime empty job subtle strongly litter\n",
      "Class: [/INST]\n"
     ]
    },
    {
     "name": "stderr",
     "output_type": "stream",
     "text": [
      " 20%|██        | 2/10 [00:16<01:06,  8.33s/it]"
     ]
    },
    {
     "name": "stdout",
     "output_type": "stream",
     "text": [
      " This wordset describes various abilities, emotions, and actions. The words \"able,\" \"amaze,\" \"fill,\" \"glad,\" \"daily,\" \"fantastic,\" \"move,\" \"plenty,\" \"prime,\" \"empty,\" \"job,\" \"subtle,\" and \"strongly\" can be grouped into several categories:  1. Abilities: able 2. Emotions: amaze, glad 3. Daily activities: daily 4. Em\n",
      "<s> [INST] Wordset: able amaze fill glad stop daily fantastic move prime plenty empty subtle job strongly litter\n",
      "                    Class: rather no\n",
      "\n",
      "                    Wordset: absolutely white fast super return service customer terrible satisfied horrible replace process experience sticky lol\n",
      "                    Class: neutral\n",
      "\n",
      "                    Wordset: address send request receive bear militia free amendment shall constitution arms mailing organize sent regulate\n",
      "                    Class: no\n",
      "\n",
      "                    Wordset: anonymous public private news crime server religion carry pretty bill cview internet paul hold thought\n",
      "                    Class: yes\n",
      "\n",
      "                    Wordset: arab israeli tape population policy border village research bullet child occupy associate muslim israel jewish\n",
      "                    Class: rather yes\n",
      "\n",
      " Wordset: able amaze fill stop glad daily fantastic move plenty prime empty subtle job strongly litter\n",
      "Class: [/INST]\n"
     ]
    },
    {
     "name": "stderr",
     "output_type": "stream",
     "text": [
      " 30%|███       | 3/10 [00:25<00:58,  8.39s/it]"
     ]
    },
    {
     "name": "stdout",
     "output_type": "stream",
     "text": [
      " This wordset appears to be a random collection of words. Based on their meanings, it seems that the words describe various abilities, emotions, and actions. Here's a possible interpretation:  * Able: having the capacity to do something * Amaze: to cause great wonder or astonishment * Fill: to make full or complete * Glad: feeling or showing pleasure or happiness * Daily: happening every day * Fantastic: extraordinary or remarkable *\n",
      "<s> [INST] Wordset: able amaze fill glad stop daily fantastic move prime plenty empty subtle job strongly litter\n",
      "                    Class: rather no\n",
      "\n",
      "                    Wordset: absolutely white fast super return service customer terrible satisfied horrible replace process experience sticky lol\n",
      "                    Class: neutral\n",
      "\n",
      "                    Wordset: address send request receive bear militia free amendment shall constitution arms mailing organize sent regulate\n",
      "                    Class: no\n",
      "\n",
      "                    Wordset: anonymous public private news crime server religion carry pretty bill cview internet paul hold thought\n",
      "                    Class: yes\n",
      "\n",
      "                    Wordset: arab israeli tape population policy border village research bullet child occupy associate muslim israel jewish\n",
      "                    Class: rather yes\n",
      "\n",
      " Wordset: able amaze glad fill stop fantastic daily move prime empty plenty subtle job strongly litter\n",
      "Class: [/INST]\n"
     ]
    },
    {
     "name": "stderr",
     "output_type": "stream",
     "text": [
      " 40%|████      | 4/10 [00:33<00:50,  8.47s/it]"
     ]
    },
    {
     "name": "stdout",
     "output_type": "stream",
     "text": [
      " This wordset describes a range of abilities, emotions, and actions. The words \"able,\" \"glad,\" \"job,\" and \"strongly\" suggest capabilities and emotions related to human beings. \"Amaze\" and \"fantastic\" indicate being impressed or amazed by something. \"Daily,\" \"move,\" and \"prime\" suggest routine activities and readiness. \"Empty,\" \"plenty,\" and \"subtle\" describe quantities and nuances. \"Litter\"\n",
      "<s> [INST] Wordset: able amaze fill glad stop daily fantastic move prime plenty empty subtle job strongly litter\n",
      "                    Class: rather no\n",
      "\n",
      "                    Wordset: absolutely white fast super return service customer terrible satisfied horrible replace process experience sticky lol\n",
      "                    Class: neutral\n",
      "\n",
      "                    Wordset: address send request receive bear militia free amendment shall constitution arms mailing organize sent regulate\n",
      "                    Class: no\n",
      "\n",
      "                    Wordset: anonymous public private news crime server religion carry pretty bill cview internet paul hold thought\n",
      "                    Class: yes\n",
      "\n",
      "                    Wordset: arab israeli tape population policy border village research bullet child occupy associate muslim israel jewish\n",
      "                    Class: rather yes\n",
      "\n",
      " Wordset: absolute church truth doug scripture symbol libxmu font bible free undefined type motif error application\n",
      "Class: [/INST]\n"
     ]
    },
    {
     "name": "stderr",
     "output_type": "stream",
     "text": [
      " 50%|█████     | 5/10 [00:42<00:42,  8.54s/it]"
     ]
    },
    {
     "name": "stdout",
     "output_type": "stream",
     "text": [
      " neutral  Explanation: The wordset \"absolute church truth doug scripture symbol libxmu font bible free undefined type motif error application\" is neutral because it contains a mix of words that have positive, negative, and neutral connotations. The words \"truth,\" \"scripture,\" and \"bible\" have positive connotations, while \"error\" and \"application\" have neutral connotations. The other words in the wordset do not have clear positive or\n",
      "<s> [INST] Wordset: able amaze fill glad stop daily fantastic move prime plenty empty subtle job strongly litter\n",
      "                    Class: rather no\n",
      "\n",
      "                    Wordset: absolutely white fast super return service customer terrible satisfied horrible replace process experience sticky lol\n",
      "                    Class: neutral\n",
      "\n",
      "                    Wordset: address send request receive bear militia free amendment shall constitution arms mailing organize sent regulate\n",
      "                    Class: no\n",
      "\n",
      "                    Wordset: anonymous public private news crime server religion carry pretty bill cview internet paul hold thought\n",
      "                    Class: yes\n",
      "\n",
      "                    Wordset: arab israeli tape population policy border village research bullet child occupy associate muslim israel jewish\n",
      "                    Class: rather yes\n",
      "\n",
      " Wordset: absolute church truth mission nasa doug mars earth free application error type font email symbol\n",
      "Class: [/INST]\n"
     ]
    },
    {
     "name": "stderr",
     "output_type": "stream",
     "text": [
      " 60%|██████    | 6/10 [00:51<00:34,  8.59s/it]"
     ]
    },
    {
     "name": "stdout",
     "output_type": "stream",
     "text": [
      " neutral  Explanation: The wordset \"absolute church truth mission nasa doug mars earth free application error type font email symbol\" is neutral because it contains a mix of words that have positive, negative, and neutral connotations. The words \"church,\" \"truth,\" and \"mission\" have positive connotations, while \"nasa,\" \"doug,\" \"mars,\" \"earth,\" \"free,\" \"application,\" \"error,\" \"type,\" \"\n",
      "<s> [INST] Wordset: able amaze fill glad stop daily fantastic move prime plenty empty subtle job strongly litter\n",
      "                    Class: rather no\n",
      "\n",
      "                    Wordset: absolutely white fast super return service customer terrible satisfied horrible replace process experience sticky lol\n",
      "                    Class: neutral\n",
      "\n",
      "                    Wordset: address send request receive bear militia free amendment shall constitution arms mailing organize sent regulate\n",
      "                    Class: no\n",
      "\n",
      "                    Wordset: anonymous public private news crime server religion carry pretty bill cview internet paul hold thought\n",
      "                    Class: yes\n",
      "\n",
      "                    Wordset: arab israeli tape population policy border village research bullet child occupy associate muslim israel jewish\n",
      "                    Class: rather yes\n",
      "\n",
      " Wordset: absolute mission church nasa mars earth truth lunar shuttle doug telescope symbol planetary libxmu launch\n",
      "Class: [/INST]\n"
     ]
    },
    {
     "name": "stderr",
     "output_type": "stream",
     "text": [
      " 70%|███████   | 7/10 [01:00<00:26,  8.72s/it]"
     ]
    },
    {
     "name": "stdout",
     "output_type": "stream",
     "text": [
      " The given wordset belongs to the following class:  Class: rather yes  Explanation: The wordset \"absolute mission church nasa mars earth truth lunar shuttle doug telescope symbol planetary libxmu launch\" is related to scientific research, space exploration, and technology. The words in this wordset suggest a sense of exploration, discovery, and truth. The words \"mission,\" \"church,\" and \"truth\" imply a sense of purpose and belief\n",
      "<s> [INST] Wordset: able amaze fill glad stop daily fantastic move prime plenty empty subtle job strongly litter\n",
      "                    Class: rather no\n",
      "\n",
      "                    Wordset: absolutely white fast super return service customer terrible satisfied horrible replace process experience sticky lol\n",
      "                    Class: neutral\n",
      "\n",
      "                    Wordset: address send request receive bear militia free amendment shall constitution arms mailing organize sent regulate\n",
      "                    Class: no\n",
      "\n",
      "                    Wordset: anonymous public private news crime server religion carry pretty bill cview internet paul hold thought\n",
      "                    Class: yes\n",
      "\n",
      "                    Wordset: arab israeli tape population policy border village research bullet child occupy associate muslim israel jewish\n",
      "                    Class: rather yes\n",
      "\n",
      " Wordset: absolutely fast white rice service noodle terrible customer grain process satisfied super delivery disappointed experience\n",
      "Class: [/INST]\n"
     ]
    },
    {
     "name": "stderr",
     "output_type": "stream",
     "text": [
      " 80%|████████  | 8/10 [01:08<00:17,  8.69s/it]"
     ]
    },
    {
     "name": "stdout",
     "output_type": "stream",
     "text": [
      " neutral  Explanation: The wordset \"absolutely fast white rice service noodle terrible customer grain process satisfied super delivery disappointed experience\" is neutral because it contains both positive and negative words, but they are balanced out. The positive words are \"fast,\" \"white,\" \"rice,\" \"noodle,\" \"satisfied,\" and \"super,\" while the negative words are \"terrible,\" \"customer,\" \"grain,\" \"disappointed,\" and \"disappointed\n",
      "<s> [INST] Wordset: able amaze fill glad stop daily fantastic move prime plenty empty subtle job strongly litter\n",
      "                    Class: rather no\n",
      "\n",
      "                    Wordset: absolutely white fast super return service customer terrible satisfied horrible replace process experience sticky lol\n",
      "                    Class: neutral\n",
      "\n",
      "                    Wordset: address send request receive bear militia free amendment shall constitution arms mailing organize sent regulate\n",
      "                    Class: no\n",
      "\n",
      "                    Wordset: anonymous public private news crime server religion carry pretty bill cview internet paul hold thought\n",
      "                    Class: yes\n",
      "\n",
      "                    Wordset: arab israeli tape population policy border village research bullet child occupy associate muslim israel jewish\n",
      "                    Class: rather yes\n",
      "\n",
      " Wordset: absolutely fast white super service customer return terrible satisfied horrible replace sticky process package disgust\n",
      "Class: [/INST]\n"
     ]
    },
    {
     "name": "stderr",
     "output_type": "stream",
     "text": [
      " 90%|█████████ | 9/10 [01:17<00:08,  8.65s/it]"
     ]
    },
    {
     "name": "stdout",
     "output_type": "stream",
     "text": [
      " The given wordset belongs to the class \"neutral\". The words in this wordset do not have a clear positive or negative connotation. Some words like \"fast\", \"white\", and \"super\" have positive connotations, but they are generally neutral when used in this context. Words like \"terrible\", \"satisfied\", \"horrible\", and \"replace\" have negative connotations, but they are also neutral in this context as they are describing a customer's experience\n",
      "<s> [INST] Wordset: able amaze fill glad stop daily fantastic move prime plenty empty subtle job strongly litter\n",
      "                    Class: rather no\n",
      "\n",
      "                    Wordset: absolutely white fast super return service customer terrible satisfied horrible replace process experience sticky lol\n",
      "                    Class: neutral\n",
      "\n",
      "                    Wordset: address send request receive bear militia free amendment shall constitution arms mailing organize sent regulate\n",
      "                    Class: no\n",
      "\n",
      "                    Wordset: anonymous public private news crime server religion carry pretty bill cview internet paul hold thought\n",
      "                    Class: yes\n",
      "\n",
      "                    Wordset: arab israeli tape population policy border village research bullet child occupy associate muslim israel jewish\n",
      "                    Class: rather yes\n",
      "\n",
      " Wordset: absolutely grain experience soon there's process anyway true terrible satisfied knew average replace sort wild\n",
      "Class: [/INST]\n"
     ]
    },
    {
     "name": "stderr",
     "output_type": "stream",
     "text": [
      "100%|██████████| 10/10 [01:25<00:00,  8.57s/it]"
     ]
    },
    {
     "name": "stdout",
     "output_type": "stream",
     "text": [
      " neutral  Explanation: The wordset \"absolutely grain experience soon there's process anyway true terrible satisfied knew average replace sort wild\" is neutral because it contains both positive and negative words, but the overall sentiment is not clearly positive or negative. The words \"terrible,\" \"satisfied,\" and \"wild\" suggest negative emotions, while the words \"absolutely,\" \"grain,\" \"experience,\" \"process,\" \"true,\" and \"average\" suggest a\n",
      "\n",
      "All results were saved to the /notebooks/data/results/example2.csv file.\n",
      "All results were saved to the dataframe\n"
     ]
    },
    {
     "name": "stderr",
     "output_type": "stream",
     "text": [
      "\n"
     ]
    }
   ],
   "source": [
    "dir_path = Path(os.path.dirname(os.path.realpath(\"Inference_example.ipynb\")))\n",
    "\n",
    "MODEL_NAME = \"mistralai/Mistral-7B-Instruct-v0.2\"\n",
    "QUANTIZATION_MODE = 'nf4'\n",
    "DEVICE = 'cuda'\n",
    "\n",
    "tm_eval = TmEvalCustom(\n",
    "    model_name=MODEL_NAME,\n",
    "    quantization_mode=QUANTIZATION_MODE,\n",
    "    device=DEVICE\n",
    ")\n",
    "\n",
    "\n",
    "RES_FILE_NAME = \"example2.csv\"\n",
    "\n",
    "results_df = tm_eval.get_results(\n",
    "    base_dir=dir_path,\n",
    "    data=data_quality,\n",
    "    filename=RES_FILE_NAME,\n",
    "    num_iter=10,\n",
    "    temp=0.1,\n",
    "    n_token=100,\n",
    "    remove_old_file=True,\n",
    "    print_info=True,\n",
    "    save_results_to_df=True \n",
    ")"
   ]
  },
  {
   "cell_type": "code",
   "execution_count": 15,
   "metadata": {
    "id": "zTRSofFRp21q"
   },
   "outputs": [
    {
     "name": "stdout",
     "output_type": "stream",
     "text": [
      "The number of samples in the results dataset with 'None' extracted answer: 3\n",
      "Wordset: able amaze fill stop glad daily fantastic move plenty prime empty job subtle strongly litter\n",
      "Model answer:  This wordset describes various abilities, emotions, and actions. The words \"able,\" \"amaze,\" \"fill,\" \"glad,\" \"daily,\" \"fantastic,\" \"move,\" \"plenty,\" \"prime,\" \"empty,\" \"job,\" \"subtle,\" and \"strongly\" can be grouped into several categories:  1. Abilities: able 2. Emotions: amaze, glad 3. Daily activities: daily 4. Em\n",
      "Extracted answer: nan\n",
      "Wordset: able amaze fill stop glad daily fantastic move plenty prime empty subtle job strongly litter\n",
      "Model answer:  This wordset appears to be a random collection of words. Based on their meanings, it seems that the words describe various abilities, emotions, and actions. Here's a possible interpretation:  * Able: having the capacity to do something * Amaze: to cause great wonder or astonishment * Fill: to make full or complete * Glad: feeling or showing pleasure or happiness * Daily: happening every day * Fantastic: extraordinary or remarkable *\n",
      "Extracted answer: nan\n",
      "Wordset: able amaze glad fill stop fantastic daily move prime empty plenty subtle job strongly litter\n",
      "Model answer:  This wordset describes a range of abilities, emotions, and actions. The words \"able,\" \"glad,\" \"job,\" and \"strongly\" suggest capabilities and emotions related to human beings. \"Amaze\" and \"fantastic\" indicate being impressed or amazed by something. \"Daily,\" \"move,\" and \"prime\" suggest routine activities and readiness. \"Empty,\" \"plenty,\" and \"subtle\" describe quantities and nuances. \"Litter\"\n",
      "Extracted answer: nan\n"
     ]
    }
   ],
   "source": [
    "results_df = TmEval.postprocess_results(results_df)"
   ]
  },
  {
   "cell_type": "code",
   "execution_count": 17,
   "metadata": {
    "id": "9XE-lqLD7V-T"
   },
   "outputs": [
    {
     "data": {
      "text/html": [
       "<div>\n",
       "<style scoped>\n",
       "    .dataframe tbody tr th:only-of-type {\n",
       "        vertical-align: middle;\n",
       "    }\n",
       "\n",
       "    .dataframe tbody tr th {\n",
       "        vertical-align: top;\n",
       "    }\n",
       "\n",
       "    .dataframe thead th {\n",
       "        text-align: right;\n",
       "    }\n",
       "</style>\n",
       "<table border=\"1\" class=\"dataframe\">\n",
       "  <thead>\n",
       "    <tr style=\"text-align: right;\">\n",
       "      <th></th>\n",
       "      <th>task</th>\n",
       "      <th>true</th>\n",
       "      <th>model</th>\n",
       "      <th>model_extracted</th>\n",
       "    </tr>\n",
       "  </thead>\n",
       "  <tbody>\n",
       "    <tr>\n",
       "      <th>0</th>\n",
       "      <td>able amaze fill glad stop daily fantastic move...</td>\n",
       "      <td>-1</td>\n",
       "      <td>This wordset describes various abilities, emo...</td>\n",
       "      <td>-2.0</td>\n",
       "    </tr>\n",
       "    <tr>\n",
       "      <th>4</th>\n",
       "      <td>absolute church truth doug scripture symbol li...</td>\n",
       "      <td>1</td>\n",
       "      <td>neutral  Explanation: The wordset \"absolute c...</td>\n",
       "      <td>-2.0</td>\n",
       "    </tr>\n",
       "    <tr>\n",
       "      <th>5</th>\n",
       "      <td>absolute church truth mission nasa doug mars e...</td>\n",
       "      <td>-1</td>\n",
       "      <td>neutral  Explanation: The wordset \"absolute c...</td>\n",
       "      <td>-2.0</td>\n",
       "    </tr>\n",
       "    <tr>\n",
       "      <th>6</th>\n",
       "      <td>absolute mission church nasa mars earth truth ...</td>\n",
       "      <td>2</td>\n",
       "      <td>The given wordset belongs to the following cl...</td>\n",
       "      <td>1.0</td>\n",
       "    </tr>\n",
       "    <tr>\n",
       "      <th>7</th>\n",
       "      <td>absolutely fast white rice service noodle terr...</td>\n",
       "      <td>-1</td>\n",
       "      <td>neutral  Explanation: The wordset \"absolutely...</td>\n",
       "      <td>-2.0</td>\n",
       "    </tr>\n",
       "    <tr>\n",
       "      <th>8</th>\n",
       "      <td>absolutely fast white super service customer r...</td>\n",
       "      <td>2</td>\n",
       "      <td>The given wordset belongs to the class \"neutr...</td>\n",
       "      <td>-2.0</td>\n",
       "    </tr>\n",
       "    <tr>\n",
       "      <th>9</th>\n",
       "      <td>absolutely grain experience soon there's proce...</td>\n",
       "      <td>-2</td>\n",
       "      <td>neutral  Explanation: The wordset \"absolutely...</td>\n",
       "      <td>-2.0</td>\n",
       "    </tr>\n",
       "  </tbody>\n",
       "</table>\n",
       "</div>"
      ],
      "text/plain": [
       "                                                task  true  \\\n",
       "0  able amaze fill glad stop daily fantastic move...    -1   \n",
       "4  absolute church truth doug scripture symbol li...     1   \n",
       "5  absolute church truth mission nasa doug mars e...    -1   \n",
       "6  absolute mission church nasa mars earth truth ...     2   \n",
       "7  absolutely fast white rice service noodle terr...    -1   \n",
       "8  absolutely fast white super service customer r...     2   \n",
       "9  absolutely grain experience soon there's proce...    -2   \n",
       "\n",
       "                                               model  model_extracted  \n",
       "0   This wordset describes various abilities, emo...             -2.0  \n",
       "4   neutral  Explanation: The wordset \"absolute c...             -2.0  \n",
       "5   neutral  Explanation: The wordset \"absolute c...             -2.0  \n",
       "6   The given wordset belongs to the following cl...              1.0  \n",
       "7   neutral  Explanation: The wordset \"absolutely...             -2.0  \n",
       "8   The given wordset belongs to the class \"neutr...             -2.0  \n",
       "9   neutral  Explanation: The wordset \"absolutely...             -2.0  "
      ]
     },
     "execution_count": 17,
     "metadata": {},
     "output_type": "execute_result"
    }
   ],
   "source": [
    "results_df"
   ]
  },
  {
   "cell_type": "markdown",
   "metadata": {},
   "source": [
    "## Examples with Llama"
   ]
  },
  {
   "cell_type": "code",
   "execution_count": 9,
   "metadata": {},
   "outputs": [
    {
     "name": "stderr",
     "output_type": "stream",
     "text": [
      "CUDA extension not installed.\n",
      "CUDA extension not installed.\n"
     ]
    },
    {
     "data": {
      "application/vnd.jupyter.widget-view+json": {
       "model_id": "971dacdc520845e0821ace7812be279e",
       "version_major": 2,
       "version_minor": 0
      },
      "text/plain": [
       "model.safetensors:   0%|          | 0.00/7.26G [00:00<?, ?B/s]"
      ]
     },
     "metadata": {},
     "output_type": "display_data"
    },
    {
     "name": "stderr",
     "output_type": "stream",
     "text": [
      "/opt/conda/lib/python3.10/site-packages/transformers/modeling_utils.py:4371: FutureWarning: `_is_quantized_training_enabled` is going to be deprecated in transformers 4.39.0. Please use `model.hf_quantizer.is_trainable` instead\n",
      "  warnings.warn(\n",
      "The cos_cached attribute will be removed in 4.39. Bear in mind that its contents changed in v4.38. Use the forward method of RoPE from now on instead. It is not used in the `LlamaAttention` class\n",
      "The sin_cached attribute will be removed in 4.39. Bear in mind that its contents changed in v4.38. Use the forward method of RoPE from now on instead. It is not used in the `LlamaAttention` class\n"
     ]
    },
    {
     "data": {
      "application/vnd.jupyter.widget-view+json": {
       "model_id": "df8a7223103c4349a9a544d2a82b74a1",
       "version_major": 2,
       "version_minor": 0
      },
      "text/plain": [
       "generation_config.json:   0%|          | 0.00/132 [00:00<?, ?B/s]"
      ]
     },
     "metadata": {},
     "output_type": "display_data"
    },
    {
     "data": {
      "application/vnd.jupyter.widget-view+json": {
       "model_id": "084995d65a6848dc8f80b329ce045021",
       "version_major": 2,
       "version_minor": 0
      },
      "text/plain": [
       "tokenizer_config.json:   0%|          | 0.00/727 [00:00<?, ?B/s]"
      ]
     },
     "metadata": {},
     "output_type": "display_data"
    },
    {
     "data": {
      "application/vnd.jupyter.widget-view+json": {
       "model_id": "5bea5ea0b0e34300a2b6a3b081ea39db",
       "version_major": 2,
       "version_minor": 0
      },
      "text/plain": [
       "tokenizer.model:   0%|          | 0.00/500k [00:00<?, ?B/s]"
      ]
     },
     "metadata": {},
     "output_type": "display_data"
    },
    {
     "data": {
      "application/vnd.jupyter.widget-view+json": {
       "model_id": "5f8747d5eb93443aa4e21851a1481925",
       "version_major": 2,
       "version_minor": 0
      },
      "text/plain": [
       "tokenizer.json:   0%|          | 0.00/1.84M [00:00<?, ?B/s]"
      ]
     },
     "metadata": {},
     "output_type": "display_data"
    },
    {
     "data": {
      "application/vnd.jupyter.widget-view+json": {
       "model_id": "20ff63aabe97453ead634816de3d39eb",
       "version_major": 2,
       "version_minor": 0
      },
      "text/plain": [
       "special_tokens_map.json:   0%|          | 0.00/411 [00:00<?, ?B/s]"
      ]
     },
     "metadata": {},
     "output_type": "display_data"
    }
   ],
   "source": [
    "# Define the parameters\n",
    "MODEL_NAME = \"TheBloke/Llama-2-13B-chat-GPTQ\"\n",
    "DEVICE = 'cuda'\n",
    "\n",
    "# Initialize the class object\n",
    "tm_eval = TmEval(\n",
    "    model_name=MODEL_NAME,\n",
    "    device=DEVICE\n",
    ")"
   ]
  },
  {
   "cell_type": "code",
   "execution_count": 10,
   "metadata": {},
   "outputs": [
    {
     "data": {
      "text/plain": [
       "PosixPath('/notebooks')"
      ]
     },
     "execution_count": 10,
     "metadata": {},
     "output_type": "execute_result"
    }
   ],
   "source": [
    "dir_path = Path(os.path.dirname(os.path.realpath(\"Inference_example.ipynb\")))\n",
    "dir_path"
   ]
  },
  {
   "cell_type": "code",
   "execution_count": null,
   "metadata": {},
   "outputs": [],
   "source": [
    "# Launch on the dataset with system tokens and internal prompt\n",
    "RES_FILE_NAME = \"Llama_classification_P1.csv\"\n",
    "PROMPT_TYPE = 'P1_Llama'\n",
    "\n",
    "results_df = tm_eval.get_results(\n",
    "    base_dir=dir_path,\n",
    "    data=data_quality,\n",
    "    prompt_type=PROMPT_TYPE,\n",
    "    filename=RES_FILE_NAME,\n",
    "    num_iter=100,\n",
    "    # num_iter=data_quality.shape[0], # Launch on the entire dataset\n",
    "    temp=0.1,\n",
    "    n_token=30,\n",
    "    remove_old_file=True,\n",
    "    print_info=False,  # Please, set this flag to False then you launch the pipeline on the entire dataset\n",
    "    save_results_to_df=True\n",
    ")\n",
    "\n",
    "# Results postprocessing\n",
    "tm_eval.postprocess_results(results_df)\n",
    "\n",
    "# Divide into two datasets\n",
    "DATASETS_NAME = \"datasets_name.csv\"\n",
    "DATASETS_NAME = dir_path.joinpath(f'data/{DATASETS_NAME}')\n",
    "datasets_name = pd.read_csv(\n",
    "    DATASETS_NAME,\n",
    "    sep=\",\",\n",
    "    header=0\n",
    ")\n",
    "print(\"Datasets:\", list(set(datasets_name[\"INPUT:dataset_name\"])))\n",
    "\n",
    "# Divide the entire dataset into parts by the dataset name\n",
    "amazon_food_data = datasets_name[datasets_name[\"INPUT:dataset_name\"]==\"amazon_food\"]\n",
    "newsgroups_data = datasets_name[datasets_name[\"INPUT:dataset_name\"]==\"20newsgroups\"]\n",
    "\n",
    "amazon_food_texts = amazon_food_data[\"INPUT:wordset\"]\n",
    "newsgroups_texts = newsgroups_data[\"INPUT:wordset\"]\n",
    "\n",
    "results_amazon = results_df[results_df[\"task\"].isin(amazon_food_texts)]\n",
    "results_newsgroups = results_df[results_df[\"task\"].isin(newsgroups_texts)]\n",
    "\n",
    "# Save all distributions\n",
    "tm_eval.plot_answers_distrib(\n",
    "    results_amazon,\n",
    "    model_name='Llama-2 Chat',\n",
    "    dataset_name='Amazon Food',\n",
    "    save_dir=dir_path.joinpath('data/results/llama_amazon_distrib.svg'),\n",
    "    print_plot=False\n",
    "    )\n",
    "\n",
    "tm_eval.plot_answers_distrib(\n",
    "    results_newsgroups,\n",
    "    model_name='Llama-2 Chat',\n",
    "    dataset_name='20 Newsgroups',\n",
    "    save_dir=dir_path.joinpath('data/results/llama_newsgroups_distrib.svg'),\n",
    "    print_plot=False\n",
    "    )\n",
    "\n",
    "# Save all confusion matrices\n",
    "tm_eval.plot_conf_matrix(\n",
    "    np.array(results_amazon[\"true\"]),\n",
    "    np.array(results_amazon[\"model_extracted\"]),\n",
    "    model_name=\"Llama-2 Chat, Amazon Food\",\n",
    "    heatmap_fontsize=11,\n",
    "    axis_label_fontsize=14,\n",
    "    ticklabel_fontsize=11,\n",
    "    title_fontsize=15,\n",
    "    save_dir=dir_path.joinpath('data/results/llama_amazon_conf_matrix.png'),\n",
    "    print_plot=False\n",
    "    )\n",
    "\n",
    "tm_eval.plot_conf_matrix(\n",
    "    np.array(results_newsgroups[\"true\"]),\n",
    "    np.array(results_newsgroups[\"model_extracted\"]),\n",
    "    model_name=\"Llama-2 Chat, 20 Newsgroups\",\n",
    "    heatmap_fontsize=11,\n",
    "    axis_label_fontsize=14,\n",
    "    ticklabel_fontsize=11,\n",
    "    title_fontsize=15,\n",
    "    save_dir=dir_path.joinpath('data/results/llama_newsgroups_conf_matrix.png'),\n",
    "    print_plot=False\n",
    "    )"
   ]
  },
  {
   "cell_type": "code",
   "execution_count": 12,
   "metadata": {},
   "outputs": [
    {
     "name": "stderr",
     "output_type": "stream",
     "text": [
      "  0%|          | 0/5 [00:00<?, ?it/s]"
     ]
    },
    {
     "name": "stdout",
     "output_type": "stream",
     "text": [
      "<s> [INST] <<SYS>> You are a useful assistant who evaluates the coherence of words. <</SYS>> You will receive a list of words, please determine which class the given list of words belongs to by answering the question: 'Is it possible to determine a common topic for the presented word set or at least for the most part of the set?'.Classification rules: yes - if words have a strong connection between them, rather yes - if some words are too common or out of topic, rather no - if the amount of irrelevant words is high to determine a topic or there is a mixture of topics, no - when words seem to be unconnected, neutral - if it is hard for you to answer on the question.\n",
      "Print only class without explanation and additional information.\n",
      " Words: able amaze fill glad stop daily fantastic move prime plenty empty subtle job strongly litter\n",
      "Class: [/INST]\n"
     ]
    },
    {
     "name": "stderr",
     "output_type": "stream",
     "text": [
      " 20%|██        | 1/5 [00:31<02:06, 31.52s/it]"
     ]
    },
    {
     "name": "stdout",
     "output_type": "stream",
     "text": [
      "  Sure! Here's the classification of the given list of words:  Class: no</s>\n",
      "<s> [INST] <<SYS>> You are a useful assistant who evaluates the coherence of words. <</SYS>> You will receive a list of words, please determine which class the given list of words belongs to by answering the question: 'Is it possible to determine a common topic for the presented word set or at least for the most part of the set?'.Classification rules: yes - if words have a strong connection between them, rather yes - if some words are too common or out of topic, rather no - if the amount of irrelevant words is high to determine a topic or there is a mixture of topics, no - when words seem to be unconnected, neutral - if it is hard for you to answer on the question.\n",
      "Print only class without explanation and additional information.\n",
      " Words: able amaze fill stop glad daily fantastic move plenty prime empty job subtle strongly litter\n",
      "Class: [/INST]\n"
     ]
    },
    {
     "name": "stderr",
     "output_type": "stream",
     "text": [
      " 40%|████      | 2/5 [01:03<01:36, 32.04s/it]"
     ]
    },
    {
     "name": "stdout",
     "output_type": "stream",
     "text": [
      "  Sure! Here's the classification of the given list of words:  Class: no</s>\n",
      "<s> [INST] <<SYS>> You are a useful assistant who evaluates the coherence of words. <</SYS>> You will receive a list of words, please determine which class the given list of words belongs to by answering the question: 'Is it possible to determine a common topic for the presented word set or at least for the most part of the set?'.Classification rules: yes - if words have a strong connection between them, rather yes - if some words are too common or out of topic, rather no - if the amount of irrelevant words is high to determine a topic or there is a mixture of topics, no - when words seem to be unconnected, neutral - if it is hard for you to answer on the question.\n",
      "Print only class without explanation and additional information.\n",
      " Words: able amaze fill stop glad daily fantastic move plenty prime empty subtle job strongly litter\n",
      "Class: [/INST]\n"
     ]
    },
    {
     "name": "stderr",
     "output_type": "stream",
     "text": [
      " 60%|██████    | 3/5 [01:36<01:04, 32.08s/it]"
     ]
    },
    {
     "name": "stdout",
     "output_type": "stream",
     "text": [
      "  Sure! Here's the classification of the given list of words:  Class: no</s>\n",
      "<s> [INST] <<SYS>> You are a useful assistant who evaluates the coherence of words. <</SYS>> You will receive a list of words, please determine which class the given list of words belongs to by answering the question: 'Is it possible to determine a common topic for the presented word set or at least for the most part of the set?'.Classification rules: yes - if words have a strong connection between them, rather yes - if some words are too common or out of topic, rather no - if the amount of irrelevant words is high to determine a topic or there is a mixture of topics, no - when words seem to be unconnected, neutral - if it is hard for you to answer on the question.\n",
      "Print only class without explanation and additional information.\n",
      " Words: able amaze glad fill stop fantastic daily move prime empty plenty subtle job strongly litter\n",
      "Class: [/INST]\n"
     ]
    },
    {
     "name": "stderr",
     "output_type": "stream",
     "text": [
      " 80%|████████  | 4/5 [02:07<00:31, 31.78s/it]"
     ]
    },
    {
     "name": "stdout",
     "output_type": "stream",
     "text": [
      "  Sure! Here's the classification of the given list of words:  Class: no</s>\n",
      "<s> [INST] <<SYS>> You are a useful assistant who evaluates the coherence of words. <</SYS>> You will receive a list of words, please determine which class the given list of words belongs to by answering the question: 'Is it possible to determine a common topic for the presented word set or at least for the most part of the set?'.Classification rules: yes - if words have a strong connection between them, rather yes - if some words are too common or out of topic, rather no - if the amount of irrelevant words is high to determine a topic or there is a mixture of topics, no - when words seem to be unconnected, neutral - if it is hard for you to answer on the question.\n",
      "Print only class without explanation and additional information.\n",
      " Words: absolute church truth doug scripture symbol libxmu font bible free undefined type motif error application\n",
      "Class: [/INST]\n"
     ]
    },
    {
     "name": "stderr",
     "output_type": "stream",
     "text": [
      "100%|██████████| 5/5 [02:37<00:00, 31.60s/it]"
     ]
    },
    {
     "name": "stdout",
     "output_type": "stream",
     "text": [
      "  Sure! Here's the classification of the given list of words:  Class: no</s>\n",
      "\n",
      "All results were saved to the /notebooks/data/results/example_llama.csv file.\n",
      "All results were saved to the dataframe\n"
     ]
    },
    {
     "name": "stderr",
     "output_type": "stream",
     "text": [
      "\n"
     ]
    }
   ],
   "source": [
    "# Example with several samples\n",
    "\n",
    "RES_FILE_NAME = \"example_llama.csv\"\n",
    "PROMPT_TYPE = 'P1_Llama'\n",
    "\n",
    "results_df = tm_eval.get_results(\n",
    "    base_dir=dir_path,\n",
    "    data=data_quality,\n",
    "    prompt_type=PROMPT_TYPE,\n",
    "    filename=RES_FILE_NAME,\n",
    "    # num_iter=data_quality.shape[0], # Launch on the entire dataset\n",
    "    num_iter=5,\n",
    "    temp=0.1,\n",
    "    n_token=30,\n",
    "    remove_old_file=True,\n",
    "    print_info=True,  # Please, set this flag to False then you launch the pipeline on the entire dataset\n",
    "    save_results_to_df=True\n",
    ")"
   ]
  },
  {
   "cell_type": "markdown",
   "metadata": {},
   "source": [
    "### Example with custom prompt (Llama)\n",
    "\n",
    "**WARNING:**  If you will use custom prompts than internal algorithms for post processing and calculation of metrics can give unstable results"
   ]
  },
  {
   "cell_type": "code",
   "execution_count": 9,
   "metadata": {},
   "outputs": [],
   "source": [
    "class TmEvalCustom(TmEval):\n",
    "    def get_prompt(self, prompt_type, sample):\n",
    "        system_prompt = \"You are a useful assistant who evaluates the coherence of words.\"\n",
    "        instruction = (\"\"\"Wordset: able amaze fill glad stop daily fantastic move prime plenty empty subtle job strongly litter\n",
    "                    Class: rather no\\n\n",
    "                    Wordset: absolutely white fast super return service customer terrible satisfied horrible replace process experience sticky lol\n",
    "                    Class: neutral\\n\n",
    "                    Wordset: address send request receive bear militia free amendment shall constitution arms mailing organize sent regulate\n",
    "                    Class: no\\n\n",
    "                    Wordset: anonymous public private news crime server religion carry pretty bill cview internet paul hold thought\n",
    "                    Class: yes\\n\n",
    "                    Wordset: arab israeli tape population policy border village research bullet child occupy associate muslim israel jewish\n",
    "                    Class: rather yes\\n\\n\"\"\")\n",
    "\n",
    "        sample = 'Wordset: ' + sample + \"\\nClass:\"\n",
    "        \n",
    "        return system_prompt, instruction, sample"
   ]
  },
  {
   "cell_type": "code",
   "execution_count": 10,
   "metadata": {},
   "outputs": [
    {
     "name": "stderr",
     "output_type": "stream",
     "text": [
      "CUDA extension not installed.\n",
      "CUDA extension not installed.\n",
      "/opt/conda/lib/python3.10/site-packages/transformers/modeling_utils.py:4371: FutureWarning: `_is_quantized_training_enabled` is going to be deprecated in transformers 4.39.0. Please use `model.hf_quantizer.is_trainable` instead\n",
      "  warnings.warn(\n",
      "The cos_cached attribute will be removed in 4.39. Bear in mind that its contents changed in v4.38. Use the forward method of RoPE from now on instead. It is not used in the `LlamaAttention` class\n",
      "The sin_cached attribute will be removed in 4.39. Bear in mind that its contents changed in v4.38. Use the forward method of RoPE from now on instead. It is not used in the `LlamaAttention` class\n",
      "  0%|          | 0/10 [00:00<?, ?it/s]/opt/conda/lib/python3.10/site-packages/transformers/generation/utils.py:1256: UserWarning: You have modified the pretrained model configuration to control generation. This is a deprecated strategy to control generation and will be removed soon, in a future version. Please use and modify the model generation configuration (see https://huggingface.co/docs/transformers/generation_strategies#default-text-generation-configuration )\n",
      "  warnings.warn(\n"
     ]
    },
    {
     "name": "stdout",
     "output_type": "stream",
     "text": [
      "<s> [INST] <<SYS>> You are a useful assistant who evaluates the coherence of words. <</SYS>> Wordset: able amaze fill glad stop daily fantastic move prime plenty empty subtle job strongly litter\n",
      "                    Class: rather no\n",
      "\n",
      "                    Wordset: absolutely white fast super return service customer terrible satisfied horrible replace process experience sticky lol\n",
      "                    Class: neutral\n",
      "\n",
      "                    Wordset: address send request receive bear militia free amendment shall constitution arms mailing organize sent regulate\n",
      "                    Class: no\n",
      "\n",
      "                    Wordset: anonymous public private news crime server religion carry pretty bill cview internet paul hold thought\n",
      "                    Class: yes\n",
      "\n",
      "                    Wordset: arab israeli tape population policy border village research bullet child occupy associate muslim israel jewish\n",
      "                    Class: rather yes\n",
      "\n",
      " Wordset: able amaze fill glad stop daily fantastic move prime plenty empty subtle job strongly litter\n",
      "Class: [/INST]\n"
     ]
    },
    {
     "name": "stderr",
     "output_type": "stream",
     "text": [
      " 10%|█         | 1/10 [01:16<11:25, 76.15s/it]"
     ]
    },
    {
     "name": "stdout",
     "output_type": "stream",
     "text": [
      "  Sure! Here's the evaluation of the coherence of the wordsets you provided:  1. Wordset: able amaze fill glad stop daily fantastic move prime plenty empty subtle job strongly litter Class: rather\n",
      "<s> [INST] <<SYS>> You are a useful assistant who evaluates the coherence of words. <</SYS>> Wordset: able amaze fill glad stop daily fantastic move prime plenty empty subtle job strongly litter\n",
      "                    Class: rather no\n",
      "\n",
      "                    Wordset: absolutely white fast super return service customer terrible satisfied horrible replace process experience sticky lol\n",
      "                    Class: neutral\n",
      "\n",
      "                    Wordset: address send request receive bear militia free amendment shall constitution arms mailing organize sent regulate\n",
      "                    Class: no\n",
      "\n",
      "                    Wordset: anonymous public private news crime server religion carry pretty bill cview internet paul hold thought\n",
      "                    Class: yes\n",
      "\n",
      "                    Wordset: arab israeli tape population policy border village research bullet child occupy associate muslim israel jewish\n",
      "                    Class: rather yes\n",
      "\n",
      " Wordset: able amaze fill stop glad daily fantastic move plenty prime empty job subtle strongly litter\n",
      "Class: [/INST]\n"
     ]
    },
    {
     "name": "stderr",
     "output_type": "stream",
     "text": [
      " 20%|██        | 2/10 [02:30<10:02, 75.35s/it]"
     ]
    },
    {
     "name": "stdout",
     "output_type": "stream",
     "text": [
      "  Sure! Here's the evaluation of the coherence of the wordsets you provided:  1. Wordset: able amaze fill stop daily fantastic move prime plenty empty subtle job strongly litter Class: rather no\n",
      "<s> [INST] <<SYS>> You are a useful assistant who evaluates the coherence of words. <</SYS>> Wordset: able amaze fill glad stop daily fantastic move prime plenty empty subtle job strongly litter\n",
      "                    Class: rather no\n",
      "\n",
      "                    Wordset: absolutely white fast super return service customer terrible satisfied horrible replace process experience sticky lol\n",
      "                    Class: neutral\n",
      "\n",
      "                    Wordset: address send request receive bear militia free amendment shall constitution arms mailing organize sent regulate\n",
      "                    Class: no\n",
      "\n",
      "                    Wordset: anonymous public private news crime server religion carry pretty bill cview internet paul hold thought\n",
      "                    Class: yes\n",
      "\n",
      "                    Wordset: arab israeli tape population policy border village research bullet child occupy associate muslim israel jewish\n",
      "                    Class: rather yes\n",
      "\n",
      " Wordset: able amaze fill stop glad daily fantastic move plenty prime empty subtle job strongly litter\n",
      "Class: [/INST]\n"
     ]
    },
    {
     "name": "stderr",
     "output_type": "stream",
     "text": [
      " 30%|███       | 3/10 [03:42<08:36, 73.83s/it]"
     ]
    },
    {
     "name": "stdout",
     "output_type": "stream",
     "text": [
      "  Sure! Here's the evaluation of the coherence of the wordsets you provided:  1. Wordset: able amaze fill stop daily fantastic move prime plenty empty subtle job strongly litter Class: rather no\n",
      "<s> [INST] <<SYS>> You are a useful assistant who evaluates the coherence of words. <</SYS>> Wordset: able amaze fill glad stop daily fantastic move prime plenty empty subtle job strongly litter\n",
      "                    Class: rather no\n",
      "\n",
      "                    Wordset: absolutely white fast super return service customer terrible satisfied horrible replace process experience sticky lol\n",
      "                    Class: neutral\n",
      "\n",
      "                    Wordset: address send request receive bear militia free amendment shall constitution arms mailing organize sent regulate\n",
      "                    Class: no\n",
      "\n",
      "                    Wordset: anonymous public private news crime server religion carry pretty bill cview internet paul hold thought\n",
      "                    Class: yes\n",
      "\n",
      "                    Wordset: arab israeli tape population policy border village research bullet child occupy associate muslim israel jewish\n",
      "                    Class: rather yes\n",
      "\n",
      " Wordset: able amaze glad fill stop fantastic daily move prime empty plenty subtle job strongly litter\n",
      "Class: [/INST]\n"
     ]
    },
    {
     "name": "stderr",
     "output_type": "stream",
     "text": [
      " 40%|████      | 4/10 [04:54<07:17, 72.93s/it]"
     ]
    },
    {
     "name": "stdout",
     "output_type": "stream",
     "text": [
      "  Sure! Here's the evaluation of the coherence of the wordsets you provided:  1. Wordset: able amaze glad fill stop daily fantastic move prime plenty empty subtle job strongly litter Class: rather\n",
      "<s> [INST] <<SYS>> You are a useful assistant who evaluates the coherence of words. <</SYS>> Wordset: able amaze fill glad stop daily fantastic move prime plenty empty subtle job strongly litter\n",
      "                    Class: rather no\n",
      "\n",
      "                    Wordset: absolutely white fast super return service customer terrible satisfied horrible replace process experience sticky lol\n",
      "                    Class: neutral\n",
      "\n",
      "                    Wordset: address send request receive bear militia free amendment shall constitution arms mailing organize sent regulate\n",
      "                    Class: no\n",
      "\n",
      "                    Wordset: anonymous public private news crime server religion carry pretty bill cview internet paul hold thought\n",
      "                    Class: yes\n",
      "\n",
      "                    Wordset: arab israeli tape population policy border village research bullet child occupy associate muslim israel jewish\n",
      "                    Class: rather yes\n",
      "\n",
      " Wordset: absolute church truth doug scripture symbol libxmu font bible free undefined type motif error application\n",
      "Class: [/INST]\n"
     ]
    },
    {
     "name": "stderr",
     "output_type": "stream",
     "text": [
      " 50%|█████     | 5/10 [06:06<06:02, 72.53s/it]"
     ]
    },
    {
     "name": "stdout",
     "output_type": "stream",
     "text": [
      "  Sure, I'd be happy to help! Here are the coherence ratings for each wordset:  Wordset 1: able amaze fill glad stop daily fantastic move prime plenty empty subtle job strongly litter \n",
      "<s> [INST] <<SYS>> You are a useful assistant who evaluates the coherence of words. <</SYS>> Wordset: able amaze fill glad stop daily fantastic move prime plenty empty subtle job strongly litter\n",
      "                    Class: rather no\n",
      "\n",
      "                    Wordset: absolutely white fast super return service customer terrible satisfied horrible replace process experience sticky lol\n",
      "                    Class: neutral\n",
      "\n",
      "                    Wordset: address send request receive bear militia free amendment shall constitution arms mailing organize sent regulate\n",
      "                    Class: no\n",
      "\n",
      "                    Wordset: anonymous public private news crime server religion carry pretty bill cview internet paul hold thought\n",
      "                    Class: yes\n",
      "\n",
      "                    Wordset: arab israeli tape population policy border village research bullet child occupy associate muslim israel jewish\n",
      "                    Class: rather yes\n",
      "\n",
      " Wordset: absolute church truth mission nasa doug mars earth free application error type font email symbol\n",
      "Class: [/INST]\n"
     ]
    },
    {
     "name": "stderr",
     "output_type": "stream",
     "text": [
      " 60%|██████    | 6/10 [07:18<04:50, 72.54s/it]"
     ]
    },
    {
     "name": "stdout",
     "output_type": "stream",
     "text": [
      "  Sure, I'd be happy to help! Here are the coherence ratings for each wordset:  Wordset 1: able amaze fill glad stop daily fantastic move prime plenty empty subtle job strongly litter \n",
      "<s> [INST] <<SYS>> You are a useful assistant who evaluates the coherence of words. <</SYS>> Wordset: able amaze fill glad stop daily fantastic move prime plenty empty subtle job strongly litter\n",
      "                    Class: rather no\n",
      "\n",
      "                    Wordset: absolutely white fast super return service customer terrible satisfied horrible replace process experience sticky lol\n",
      "                    Class: neutral\n",
      "\n",
      "                    Wordset: address send request receive bear militia free amendment shall constitution arms mailing organize sent regulate\n",
      "                    Class: no\n",
      "\n",
      "                    Wordset: anonymous public private news crime server religion carry pretty bill cview internet paul hold thought\n",
      "                    Class: yes\n",
      "\n",
      "                    Wordset: arab israeli tape population policy border village research bullet child occupy associate muslim israel jewish\n",
      "                    Class: rather yes\n",
      "\n",
      " Wordset: absolute mission church nasa mars earth truth lunar shuttle doug telescope symbol planetary libxmu launch\n",
      "Class: [/INST]\n"
     ]
    },
    {
     "name": "stderr",
     "output_type": "stream",
     "text": [
      " 70%|███████   | 7/10 [08:32<03:38, 72.94s/it]"
     ]
    },
    {
     "name": "stdout",
     "output_type": "stream",
     "text": [
      "  Sure, I'd be happy to help! Here are the coherence ratings for each wordset:  Wordset 1: able amaze fill glad stop daily fantastic move prime plenty empty subtle job strongly litter \n",
      "<s> [INST] <<SYS>> You are a useful assistant who evaluates the coherence of words. <</SYS>> Wordset: able amaze fill glad stop daily fantastic move prime plenty empty subtle job strongly litter\n",
      "                    Class: rather no\n",
      "\n",
      "                    Wordset: absolutely white fast super return service customer terrible satisfied horrible replace process experience sticky lol\n",
      "                    Class: neutral\n",
      "\n",
      "                    Wordset: address send request receive bear militia free amendment shall constitution arms mailing organize sent regulate\n",
      "                    Class: no\n",
      "\n",
      "                    Wordset: anonymous public private news crime server religion carry pretty bill cview internet paul hold thought\n",
      "                    Class: yes\n",
      "\n",
      "                    Wordset: arab israeli tape population policy border village research bullet child occupy associate muslim israel jewish\n",
      "                    Class: rather yes\n",
      "\n",
      " Wordset: absolutely fast white rice service noodle terrible customer grain process satisfied super delivery disappointed experience\n",
      "Class: [/INST]\n"
     ]
    },
    {
     "name": "stderr",
     "output_type": "stream",
     "text": [
      " 80%|████████  | 8/10 [09:47<02:26, 73.41s/it]"
     ]
    },
    {
     "name": "stdout",
     "output_type": "stream",
     "text": [
      "  Sure, I'd be happy to help! Here are the classifications for each wordset you provided:  Wordset 1: able amaze fill glad stop daily fantastic move prime plenty empty subtle job strongly litter \n",
      "<s> [INST] <<SYS>> You are a useful assistant who evaluates the coherence of words. <</SYS>> Wordset: able amaze fill glad stop daily fantastic move prime plenty empty subtle job strongly litter\n",
      "                    Class: rather no\n",
      "\n",
      "                    Wordset: absolutely white fast super return service customer terrible satisfied horrible replace process experience sticky lol\n",
      "                    Class: neutral\n",
      "\n",
      "                    Wordset: address send request receive bear militia free amendment shall constitution arms mailing organize sent regulate\n",
      "                    Class: no\n",
      "\n",
      "                    Wordset: anonymous public private news crime server religion carry pretty bill cview internet paul hold thought\n",
      "                    Class: yes\n",
      "\n",
      "                    Wordset: arab israeli tape population policy border village research bullet child occupy associate muslim israel jewish\n",
      "                    Class: rather yes\n",
      "\n",
      " Wordset: absolutely fast white super service customer return terrible satisfied horrible replace sticky process package disgust\n",
      "Class: [/INST]\n"
     ]
    },
    {
     "name": "stderr",
     "output_type": "stream",
     "text": [
      " 90%|█████████ | 9/10 [11:00<01:13, 73.51s/it]"
     ]
    },
    {
     "name": "stdout",
     "output_type": "stream",
     "text": [
      "  Sure, I'd be happy to help! Here are the classifications for each wordset you provided:  Wordset 1: able amaze fill glad stop daily fantastic move prime plenty empty subtle job strongly litter \n",
      "<s> [INST] <<SYS>> You are a useful assistant who evaluates the coherence of words. <</SYS>> Wordset: able amaze fill glad stop daily fantastic move prime plenty empty subtle job strongly litter\n",
      "                    Class: rather no\n",
      "\n",
      "                    Wordset: absolutely white fast super return service customer terrible satisfied horrible replace process experience sticky lol\n",
      "                    Class: neutral\n",
      "\n",
      "                    Wordset: address send request receive bear militia free amendment shall constitution arms mailing organize sent regulate\n",
      "                    Class: no\n",
      "\n",
      "                    Wordset: anonymous public private news crime server religion carry pretty bill cview internet paul hold thought\n",
      "                    Class: yes\n",
      "\n",
      "                    Wordset: arab israeli tape population policy border village research bullet child occupy associate muslim israel jewish\n",
      "                    Class: rather yes\n",
      "\n",
      " Wordset: absolutely grain experience soon there's process anyway true terrible satisfied knew average replace sort wild\n",
      "Class: [/INST]\n"
     ]
    },
    {
     "name": "stderr",
     "output_type": "stream",
     "text": [
      "100%|██████████| 10/10 [12:14<00:00, 73.42s/it]"
     ]
    },
    {
     "name": "stdout",
     "output_type": "stream",
     "text": [
      "  Sure, I'd be happy to help! Here are the coherence ratings for each wordset:  Wordset 1: able amaze fill glad stop daily fantastic move prime plenty empty subtle job strongly litter \n",
      "\n",
      "All results were saved to the /notebooks/data/results/example2_llama.csv file.\n",
      "All results were saved to the dataframe\n"
     ]
    },
    {
     "name": "stderr",
     "output_type": "stream",
     "text": [
      "\n"
     ]
    }
   ],
   "source": [
    "dir_path = Path(os.path.dirname(os.path.realpath(\"Inference_example.ipynb\")))\n",
    "\n",
    "MODEL_NAME = \"TheBloke/Llama-2-13B-chat-GPTQ\"\n",
    "QUANTIZATION_MODE = 'nf4'\n",
    "DEVICE = 'cuda'\n",
    "\n",
    "tm_eval = TmEvalCustom(\n",
    "    model_name=MODEL_NAME,\n",
    "    device=DEVICE\n",
    ")\n",
    "\n",
    "\n",
    "RES_FILE_NAME = \"example2_llama.csv\"\n",
    "\n",
    "results_df = tm_eval.get_results(\n",
    "    base_dir=dir_path,\n",
    "    data=data_quality,\n",
    "    filename=RES_FILE_NAME,\n",
    "    num_iter=10,\n",
    "    temp=0.1,\n",
    "    n_token=50,\n",
    "    remove_old_file=True,\n",
    "    print_info=True,\n",
    "    save_results_to_df=True \n",
    ")"
   ]
  },
  {
   "cell_type": "code",
   "execution_count": 11,
   "metadata": {},
   "outputs": [
    {
     "name": "stdout",
     "output_type": "stream",
     "text": [
      "The number of samples in the results dataset with 'None' extracted answer: 8\n",
      "Wordset: able amaze fill glad stop daily fantastic move prime plenty empty subtle job strongly litter\n",
      "Model answer:   Sure! Here's the evaluation of the coherence of the wordsets you provided:  1. Wordset: able amaze fill glad stop daily fantastic move prime plenty empty subtle job strongly litter Class: rather\n",
      "Extracted answer: nan\n",
      "Wordset: able amaze glad fill stop fantastic daily move prime empty plenty subtle job strongly litter\n",
      "Model answer:   Sure! Here's the evaluation of the coherence of the wordsets you provided:  1. Wordset: able amaze glad fill stop daily fantastic move prime plenty empty subtle job strongly litter Class: rather\n",
      "Extracted answer: nan\n",
      "Wordset: absolute church truth doug scripture symbol libxmu font bible free undefined type motif error application\n",
      "Model answer:   Sure, I'd be happy to help! Here are the coherence ratings for each wordset:  Wordset 1: able amaze fill glad stop daily fantastic move prime plenty empty subtle job strongly litter \n",
      "Extracted answer: nan\n",
      "Wordset: absolute church truth mission nasa doug mars earth free application error type font email symbol\n",
      "Model answer:   Sure, I'd be happy to help! Here are the coherence ratings for each wordset:  Wordset 1: able amaze fill glad stop daily fantastic move prime plenty empty subtle job strongly litter \n",
      "Extracted answer: nan\n",
      "Wordset: absolute mission church nasa mars earth truth lunar shuttle doug telescope symbol planetary libxmu launch\n",
      "Model answer:   Sure, I'd be happy to help! Here are the coherence ratings for each wordset:  Wordset 1: able amaze fill glad stop daily fantastic move prime plenty empty subtle job strongly litter \n",
      "Extracted answer: nan\n",
      "Wordset: absolutely fast white rice service noodle terrible customer grain process satisfied super delivery disappointed experience\n",
      "Model answer:   Sure, I'd be happy to help! Here are the classifications for each wordset you provided:  Wordset 1: able amaze fill glad stop daily fantastic move prime plenty empty subtle job strongly litter \n",
      "Extracted answer: nan\n",
      "Wordset: absolutely fast white super service customer return terrible satisfied horrible replace sticky process package disgust\n",
      "Model answer:   Sure, I'd be happy to help! Here are the classifications for each wordset you provided:  Wordset 1: able amaze fill glad stop daily fantastic move prime plenty empty subtle job strongly litter \n",
      "Extracted answer: nan\n",
      "Wordset: absolutely grain experience soon there's process anyway true terrible satisfied knew average replace sort wild\n",
      "Model answer:   Sure, I'd be happy to help! Here are the coherence ratings for each wordset:  Wordset 1: able amaze fill glad stop daily fantastic move prime plenty empty subtle job strongly litter \n",
      "Extracted answer: nan\n"
     ]
    }
   ],
   "source": [
    "results_df = tm_eval.postprocess_results(results_df)"
   ]
  },
  {
   "cell_type": "code",
   "execution_count": null,
   "metadata": {},
   "outputs": [],
   "source": []
  }
 ],
 "metadata": {
  "accelerator": "GPU",
  "colab": {
   "gpuType": "T4",
   "provenance": []
  },
  "kernelspec": {
   "display_name": "Python 3 (ipykernel)",
   "language": "python",
   "name": "python3"
  },
  "language_info": {
   "codemirror_mode": {
    "name": "ipython",
    "version": 3
   },
   "file_extension": ".py",
   "mimetype": "text/x-python",
   "name": "python",
   "nbconvert_exporter": "python",
   "pygments_lexer": "ipython3",
   "version": "3.10.11"
  },
  "widgets": {
   "application/vnd.jupyter.widget-state+json": {
    "01783f129a3f4f6dbfc3caeae86a651e": {
     "model_module": "@jupyter-widgets/base",
     "model_module_version": "1.2.0",
     "model_name": "LayoutModel",
     "state": {
      "_model_module": "@jupyter-widgets/base",
      "_model_module_version": "1.2.0",
      "_model_name": "LayoutModel",
      "_view_count": null,
      "_view_module": "@jupyter-widgets/base",
      "_view_module_version": "1.2.0",
      "_view_name": "LayoutView",
      "align_content": null,
      "align_items": null,
      "align_self": null,
      "border": null,
      "bottom": null,
      "display": null,
      "flex": null,
      "flex_flow": null,
      "grid_area": null,
      "grid_auto_columns": null,
      "grid_auto_flow": null,
      "grid_auto_rows": null,
      "grid_column": null,
      "grid_gap": null,
      "grid_row": null,
      "grid_template_areas": null,
      "grid_template_columns": null,
      "grid_template_rows": null,
      "height": null,
      "justify_content": null,
      "justify_items": null,
      "left": null,
      "margin": null,
      "max_height": null,
      "max_width": null,
      "min_height": null,
      "min_width": null,
      "object_fit": null,
      "object_position": null,
      "order": null,
      "overflow": null,
      "overflow_x": null,
      "overflow_y": null,
      "padding": null,
      "right": null,
      "top": null,
      "visibility": null,
      "width": null
     }
    },
    "1510b9dc30f64e8d9e78877f15bba1ab": {
     "model_module": "@jupyter-widgets/controls",
     "model_module_version": "1.5.0",
     "model_name": "FloatProgressModel",
     "state": {
      "_dom_classes": [],
      "_model_module": "@jupyter-widgets/controls",
      "_model_module_version": "1.5.0",
      "_model_name": "FloatProgressModel",
      "_view_count": null,
      "_view_module": "@jupyter-widgets/controls",
      "_view_module_version": "1.5.0",
      "_view_name": "ProgressView",
      "bar_style": "success",
      "description": "",
      "description_tooltip": null,
      "layout": "IPY_MODEL_f7ffd0942dfb44cb9da37ae236859399",
      "max": 3,
      "min": 0,
      "orientation": "horizontal",
      "style": "IPY_MODEL_769ec4d6a87f43d9a7bfb43cd8b90b22",
      "value": 3
     }
    },
    "16e888a918c844d3b19f043adda143d4": {
     "model_module": "@jupyter-widgets/base",
     "model_module_version": "1.2.0",
     "model_name": "LayoutModel",
     "state": {
      "_model_module": "@jupyter-widgets/base",
      "_model_module_version": "1.2.0",
      "_model_name": "LayoutModel",
      "_view_count": null,
      "_view_module": "@jupyter-widgets/base",
      "_view_module_version": "1.2.0",
      "_view_name": "LayoutView",
      "align_content": null,
      "align_items": null,
      "align_self": null,
      "border": null,
      "bottom": null,
      "display": null,
      "flex": null,
      "flex_flow": null,
      "grid_area": null,
      "grid_auto_columns": null,
      "grid_auto_flow": null,
      "grid_auto_rows": null,
      "grid_column": null,
      "grid_gap": null,
      "grid_row": null,
      "grid_template_areas": null,
      "grid_template_columns": null,
      "grid_template_rows": null,
      "height": null,
      "justify_content": null,
      "justify_items": null,
      "left": null,
      "margin": null,
      "max_height": null,
      "max_width": null,
      "min_height": null,
      "min_width": null,
      "object_fit": null,
      "object_position": null,
      "order": null,
      "overflow": null,
      "overflow_x": null,
      "overflow_y": null,
      "padding": null,
      "right": null,
      "top": null,
      "visibility": null,
      "width": null
     }
    },
    "2c2415056b07473fb5dc018b59bf59a9": {
     "model_module": "@jupyter-widgets/base",
     "model_module_version": "1.2.0",
     "model_name": "LayoutModel",
     "state": {
      "_model_module": "@jupyter-widgets/base",
      "_model_module_version": "1.2.0",
      "_model_name": "LayoutModel",
      "_view_count": null,
      "_view_module": "@jupyter-widgets/base",
      "_view_module_version": "1.2.0",
      "_view_name": "LayoutView",
      "align_content": null,
      "align_items": null,
      "align_self": null,
      "border": null,
      "bottom": null,
      "display": null,
      "flex": null,
      "flex_flow": null,
      "grid_area": null,
      "grid_auto_columns": null,
      "grid_auto_flow": null,
      "grid_auto_rows": null,
      "grid_column": null,
      "grid_gap": null,
      "grid_row": null,
      "grid_template_areas": null,
      "grid_template_columns": null,
      "grid_template_rows": null,
      "height": null,
      "justify_content": null,
      "justify_items": null,
      "left": null,
      "margin": null,
      "max_height": null,
      "max_width": null,
      "min_height": null,
      "min_width": null,
      "object_fit": null,
      "object_position": null,
      "order": null,
      "overflow": null,
      "overflow_x": null,
      "overflow_y": null,
      "padding": null,
      "right": null,
      "top": null,
      "visibility": null,
      "width": null
     }
    },
    "2e26e6cddd6e4bedb95f285ecf52b525": {
     "model_module": "@jupyter-widgets/base",
     "model_module_version": "1.2.0",
     "model_name": "LayoutModel",
     "state": {
      "_model_module": "@jupyter-widgets/base",
      "_model_module_version": "1.2.0",
      "_model_name": "LayoutModel",
      "_view_count": null,
      "_view_module": "@jupyter-widgets/base",
      "_view_module_version": "1.2.0",
      "_view_name": "LayoutView",
      "align_content": null,
      "align_items": null,
      "align_self": null,
      "border": null,
      "bottom": null,
      "display": null,
      "flex": null,
      "flex_flow": null,
      "grid_area": null,
      "grid_auto_columns": null,
      "grid_auto_flow": null,
      "grid_auto_rows": null,
      "grid_column": null,
      "grid_gap": null,
      "grid_row": null,
      "grid_template_areas": null,
      "grid_template_columns": null,
      "grid_template_rows": null,
      "height": null,
      "justify_content": null,
      "justify_items": null,
      "left": null,
      "margin": null,
      "max_height": null,
      "max_width": null,
      "min_height": null,
      "min_width": null,
      "object_fit": null,
      "object_position": null,
      "order": null,
      "overflow": null,
      "overflow_x": null,
      "overflow_y": null,
      "padding": null,
      "right": null,
      "top": null,
      "visibility": null,
      "width": null
     }
    },
    "2e6fa2b14fdc46d9a97b941f0e4327de": {
     "model_module": "@jupyter-widgets/base",
     "model_module_version": "1.2.0",
     "model_name": "LayoutModel",
     "state": {
      "_model_module": "@jupyter-widgets/base",
      "_model_module_version": "1.2.0",
      "_model_name": "LayoutModel",
      "_view_count": null,
      "_view_module": "@jupyter-widgets/base",
      "_view_module_version": "1.2.0",
      "_view_name": "LayoutView",
      "align_content": null,
      "align_items": null,
      "align_self": null,
      "border": null,
      "bottom": null,
      "display": null,
      "flex": null,
      "flex_flow": null,
      "grid_area": null,
      "grid_auto_columns": null,
      "grid_auto_flow": null,
      "grid_auto_rows": null,
      "grid_column": null,
      "grid_gap": null,
      "grid_row": null,
      "grid_template_areas": null,
      "grid_template_columns": null,
      "grid_template_rows": null,
      "height": null,
      "justify_content": null,
      "justify_items": null,
      "left": null,
      "margin": null,
      "max_height": null,
      "max_width": null,
      "min_height": null,
      "min_width": null,
      "object_fit": null,
      "object_position": null,
      "order": null,
      "overflow": null,
      "overflow_x": null,
      "overflow_y": null,
      "padding": null,
      "right": null,
      "top": null,
      "visibility": null,
      "width": null
     }
    },
    "2fb0133ad0294f498772223fbe9cffb3": {
     "model_module": "@jupyter-widgets/controls",
     "model_module_version": "1.5.0",
     "model_name": "LabelModel",
     "state": {
      "_dom_classes": [],
      "_model_module": "@jupyter-widgets/controls",
      "_model_module_version": "1.5.0",
      "_model_name": "LabelModel",
      "_view_count": null,
      "_view_module": "@jupyter-widgets/controls",
      "_view_module_version": "1.5.0",
      "_view_name": "LabelView",
      "description": "",
      "description_tooltip": null,
      "layout": "IPY_MODEL_d749d53cc33c4c29a4987d5eb0cee969",
      "placeholder": "​",
      "style": "IPY_MODEL_dc53e9eb67a445ef9dcd7cf42a872fa3",
      "value": "Your token has been saved to /root/.cache/huggingface/token"
     }
    },
    "30a856c8f00a4063b888f18807c4a60a": {
     "model_module": "@jupyter-widgets/base",
     "model_module_version": "1.2.0",
     "model_name": "LayoutModel",
     "state": {
      "_model_module": "@jupyter-widgets/base",
      "_model_module_version": "1.2.0",
      "_model_name": "LayoutModel",
      "_view_count": null,
      "_view_module": "@jupyter-widgets/base",
      "_view_module_version": "1.2.0",
      "_view_name": "LayoutView",
      "align_content": null,
      "align_items": null,
      "align_self": null,
      "border": null,
      "bottom": null,
      "display": null,
      "flex": null,
      "flex_flow": null,
      "grid_area": null,
      "grid_auto_columns": null,
      "grid_auto_flow": null,
      "grid_auto_rows": null,
      "grid_column": null,
      "grid_gap": null,
      "grid_row": null,
      "grid_template_areas": null,
      "grid_template_columns": null,
      "grid_template_rows": null,
      "height": null,
      "justify_content": null,
      "justify_items": null,
      "left": null,
      "margin": null,
      "max_height": null,
      "max_width": null,
      "min_height": null,
      "min_width": null,
      "object_fit": null,
      "object_position": null,
      "order": null,
      "overflow": null,
      "overflow_x": null,
      "overflow_y": null,
      "padding": null,
      "right": null,
      "top": null,
      "visibility": null,
      "width": null
     }
    },
    "32c99364c3bb4c309029b9e53b0ced34": {
     "model_module": "@jupyter-widgets/base",
     "model_module_version": "1.2.0",
     "model_name": "LayoutModel",
     "state": {
      "_model_module": "@jupyter-widgets/base",
      "_model_module_version": "1.2.0",
      "_model_name": "LayoutModel",
      "_view_count": null,
      "_view_module": "@jupyter-widgets/base",
      "_view_module_version": "1.2.0",
      "_view_name": "LayoutView",
      "align_content": null,
      "align_items": "center",
      "align_self": null,
      "border": null,
      "bottom": null,
      "display": "flex",
      "flex": null,
      "flex_flow": "column",
      "grid_area": null,
      "grid_auto_columns": null,
      "grid_auto_flow": null,
      "grid_auto_rows": null,
      "grid_column": null,
      "grid_gap": null,
      "grid_row": null,
      "grid_template_areas": null,
      "grid_template_columns": null,
      "grid_template_rows": null,
      "height": null,
      "justify_content": null,
      "justify_items": null,
      "left": null,
      "margin": null,
      "max_height": null,
      "max_width": null,
      "min_height": null,
      "min_width": null,
      "object_fit": null,
      "object_position": null,
      "order": null,
      "overflow": null,
      "overflow_x": null,
      "overflow_y": null,
      "padding": null,
      "right": null,
      "top": null,
      "visibility": null,
      "width": "50%"
     }
    },
    "3af43c4010cf48ff9ee0eb7230893535": {
     "model_module": "@jupyter-widgets/base",
     "model_module_version": "1.2.0",
     "model_name": "LayoutModel",
     "state": {
      "_model_module": "@jupyter-widgets/base",
      "_model_module_version": "1.2.0",
      "_model_name": "LayoutModel",
      "_view_count": null,
      "_view_module": "@jupyter-widgets/base",
      "_view_module_version": "1.2.0",
      "_view_name": "LayoutView",
      "align_content": null,
      "align_items": null,
      "align_self": null,
      "border": null,
      "bottom": null,
      "display": null,
      "flex": null,
      "flex_flow": null,
      "grid_area": null,
      "grid_auto_columns": null,
      "grid_auto_flow": null,
      "grid_auto_rows": null,
      "grid_column": null,
      "grid_gap": null,
      "grid_row": null,
      "grid_template_areas": null,
      "grid_template_columns": null,
      "grid_template_rows": null,
      "height": null,
      "justify_content": null,
      "justify_items": null,
      "left": null,
      "margin": null,
      "max_height": null,
      "max_width": null,
      "min_height": null,
      "min_width": null,
      "object_fit": null,
      "object_position": null,
      "order": null,
      "overflow": null,
      "overflow_x": null,
      "overflow_y": null,
      "padding": null,
      "right": null,
      "top": null,
      "visibility": null,
      "width": null
     }
    },
    "413ab64050dc466ca85d75e02fa726c0": {
     "model_module": "@jupyter-widgets/base",
     "model_module_version": "1.2.0",
     "model_name": "LayoutModel",
     "state": {
      "_model_module": "@jupyter-widgets/base",
      "_model_module_version": "1.2.0",
      "_model_name": "LayoutModel",
      "_view_count": null,
      "_view_module": "@jupyter-widgets/base",
      "_view_module_version": "1.2.0",
      "_view_name": "LayoutView",
      "align_content": null,
      "align_items": null,
      "align_self": null,
      "border": null,
      "bottom": null,
      "display": null,
      "flex": null,
      "flex_flow": null,
      "grid_area": null,
      "grid_auto_columns": null,
      "grid_auto_flow": null,
      "grid_auto_rows": null,
      "grid_column": null,
      "grid_gap": null,
      "grid_row": null,
      "grid_template_areas": null,
      "grid_template_columns": null,
      "grid_template_rows": null,
      "height": null,
      "justify_content": null,
      "justify_items": null,
      "left": null,
      "margin": null,
      "max_height": null,
      "max_width": null,
      "min_height": null,
      "min_width": null,
      "object_fit": null,
      "object_position": null,
      "order": null,
      "overflow": null,
      "overflow_x": null,
      "overflow_y": null,
      "padding": null,
      "right": null,
      "top": null,
      "visibility": null,
      "width": null
     }
    },
    "4456110b722c434ea8f42fc4ac3af460": {
     "model_module": "@jupyter-widgets/controls",
     "model_module_version": "1.5.0",
     "model_name": "HTMLModel",
     "state": {
      "_dom_classes": [],
      "_model_module": "@jupyter-widgets/controls",
      "_model_module_version": "1.5.0",
      "_model_name": "HTMLModel",
      "_view_count": null,
      "_view_module": "@jupyter-widgets/controls",
      "_view_module_version": "1.5.0",
      "_view_name": "HTMLView",
      "description": "",
      "description_tooltip": null,
      "layout": "IPY_MODEL_413ab64050dc466ca85d75e02fa726c0",
      "placeholder": "​",
      "style": "IPY_MODEL_a69740d62e814816a8ea54e4971847f3",
      "value": "Loading checkpoint shards: 100%"
     }
    },
    "4d80982e997646eaabeeb650b2e76f02": {
     "model_module": "@jupyter-widgets/controls",
     "model_module_version": "1.5.0",
     "model_name": "DescriptionStyleModel",
     "state": {
      "_model_module": "@jupyter-widgets/controls",
      "_model_module_version": "1.5.0",
      "_model_name": "DescriptionStyleModel",
      "_view_count": null,
      "_view_module": "@jupyter-widgets/base",
      "_view_module_version": "1.2.0",
      "_view_name": "StyleView",
      "description_width": ""
     }
    },
    "539d41bb6cae4a9082d577a5684dc566": {
     "model_module": "@jupyter-widgets/controls",
     "model_module_version": "1.5.0",
     "model_name": "DescriptionStyleModel",
     "state": {
      "_model_module": "@jupyter-widgets/controls",
      "_model_module_version": "1.5.0",
      "_model_name": "DescriptionStyleModel",
      "_view_count": null,
      "_view_module": "@jupyter-widgets/base",
      "_view_module_version": "1.2.0",
      "_view_name": "StyleView",
      "description_width": ""
     }
    },
    "55218b3b17254f9994368bcc4824ec92": {
     "model_module": "@jupyter-widgets/controls",
     "model_module_version": "1.5.0",
     "model_name": "CheckboxModel",
     "state": {
      "_dom_classes": [],
      "_model_module": "@jupyter-widgets/controls",
      "_model_module_version": "1.5.0",
      "_model_name": "CheckboxModel",
      "_view_count": null,
      "_view_module": "@jupyter-widgets/controls",
      "_view_module_version": "1.5.0",
      "_view_name": "CheckboxView",
      "description": "Add token as git credential?",
      "description_tooltip": null,
      "disabled": false,
      "indent": true,
      "layout": "IPY_MODEL_3af43c4010cf48ff9ee0eb7230893535",
      "style": "IPY_MODEL_cfd24266d3f444b2bb8342bca087f9c5",
      "value": true
     }
    },
    "583ee35ff2dd4c3c849aa7ceead1b7db": {
     "model_module": "@jupyter-widgets/controls",
     "model_module_version": "1.5.0",
     "model_name": "DescriptionStyleModel",
     "state": {
      "_model_module": "@jupyter-widgets/controls",
      "_model_module_version": "1.5.0",
      "_model_name": "DescriptionStyleModel",
      "_view_count": null,
      "_view_module": "@jupyter-widgets/base",
      "_view_module_version": "1.2.0",
      "_view_name": "StyleView",
      "description_width": ""
     }
    },
    "5a900f773ee443b5a6eb7019704d1964": {
     "model_module": "@jupyter-widgets/base",
     "model_module_version": "1.2.0",
     "model_name": "LayoutModel",
     "state": {
      "_model_module": "@jupyter-widgets/base",
      "_model_module_version": "1.2.0",
      "_model_name": "LayoutModel",
      "_view_count": null,
      "_view_module": "@jupyter-widgets/base",
      "_view_module_version": "1.2.0",
      "_view_name": "LayoutView",
      "align_content": null,
      "align_items": null,
      "align_self": null,
      "border": null,
      "bottom": null,
      "display": null,
      "flex": null,
      "flex_flow": null,
      "grid_area": null,
      "grid_auto_columns": null,
      "grid_auto_flow": null,
      "grid_auto_rows": null,
      "grid_column": null,
      "grid_gap": null,
      "grid_row": null,
      "grid_template_areas": null,
      "grid_template_columns": null,
      "grid_template_rows": null,
      "height": null,
      "justify_content": null,
      "justify_items": null,
      "left": null,
      "margin": null,
      "max_height": null,
      "max_width": null,
      "min_height": null,
      "min_width": null,
      "object_fit": null,
      "object_position": null,
      "order": null,
      "overflow": null,
      "overflow_x": null,
      "overflow_y": null,
      "padding": null,
      "right": null,
      "top": null,
      "visibility": null,
      "width": null
     }
    },
    "60aa488172214c43869b62828481df2e": {
     "model_module": "@jupyter-widgets/controls",
     "model_module_version": "1.5.0",
     "model_name": "HTMLModel",
     "state": {
      "_dom_classes": [],
      "_model_module": "@jupyter-widgets/controls",
      "_model_module_version": "1.5.0",
      "_model_name": "HTMLModel",
      "_view_count": null,
      "_view_module": "@jupyter-widgets/controls",
      "_view_module_version": "1.5.0",
      "_view_name": "HTMLView",
      "description": "",
      "description_tooltip": null,
      "layout": "IPY_MODEL_2e26e6cddd6e4bedb95f285ecf52b525",
      "placeholder": "​",
      "style": "IPY_MODEL_a2a54eb1bc2d4d00a169410b7c3a7fe8",
      "value": "Loading checkpoint shards: 100%"
     }
    },
    "63035a276dce4d32b2e453d7837c96d6": {
     "model_module": "@jupyter-widgets/controls",
     "model_module_version": "1.5.0",
     "model_name": "LabelModel",
     "state": {
      "_dom_classes": [],
      "_model_module": "@jupyter-widgets/controls",
      "_model_module_version": "1.5.0",
      "_model_name": "LabelModel",
      "_view_count": null,
      "_view_module": "@jupyter-widgets/controls",
      "_view_module_version": "1.5.0",
      "_view_name": "LabelView",
      "description": "",
      "description_tooltip": null,
      "layout": "IPY_MODEL_16e888a918c844d3b19f043adda143d4",
      "placeholder": "​",
      "style": "IPY_MODEL_539d41bb6cae4a9082d577a5684dc566",
      "value": "Login successful"
     }
    },
    "631ef76240e94f82bba390d76b612a83": {
     "model_module": "@jupyter-widgets/controls",
     "model_module_version": "1.5.0",
     "model_name": "ButtonModel",
     "state": {
      "_dom_classes": [],
      "_model_module": "@jupyter-widgets/controls",
      "_model_module_version": "1.5.0",
      "_model_name": "ButtonModel",
      "_view_count": null,
      "_view_module": "@jupyter-widgets/controls",
      "_view_module_version": "1.5.0",
      "_view_name": "ButtonView",
      "button_style": "",
      "description": "Login",
      "disabled": false,
      "icon": "",
      "layout": "IPY_MODEL_2e6fa2b14fdc46d9a97b941f0e4327de",
      "style": "IPY_MODEL_ce7827b1fa3b4895a467cb984bdb3c0b",
      "tooltip": ""
     }
    },
    "69d20da8f3554039a39b0ff80041cef4": {
     "model_module": "@jupyter-widgets/controls",
     "model_module_version": "1.5.0",
     "model_name": "HBoxModel",
     "state": {
      "_dom_classes": [],
      "_model_module": "@jupyter-widgets/controls",
      "_model_module_version": "1.5.0",
      "_model_name": "HBoxModel",
      "_view_count": null,
      "_view_module": "@jupyter-widgets/controls",
      "_view_module_version": "1.5.0",
      "_view_name": "HBoxView",
      "box_style": "",
      "children": [
       "IPY_MODEL_60aa488172214c43869b62828481df2e",
       "IPY_MODEL_72fd0e707d004b6db9bb48b176ce2381",
       "IPY_MODEL_a345dad9c1b344f19579cfd8a4710e06"
      ],
      "layout": "IPY_MODEL_85ba1cb47e314223a44170951d0fd119"
     }
    },
    "6eaf1ea1e6a44ce8bf9487e260313c67": {
     "model_module": "@jupyter-widgets/base",
     "model_module_version": "1.2.0",
     "model_name": "LayoutModel",
     "state": {
      "_model_module": "@jupyter-widgets/base",
      "_model_module_version": "1.2.0",
      "_model_name": "LayoutModel",
      "_view_count": null,
      "_view_module": "@jupyter-widgets/base",
      "_view_module_version": "1.2.0",
      "_view_name": "LayoutView",
      "align_content": null,
      "align_items": null,
      "align_self": null,
      "border": null,
      "bottom": null,
      "display": null,
      "flex": null,
      "flex_flow": null,
      "grid_area": null,
      "grid_auto_columns": null,
      "grid_auto_flow": null,
      "grid_auto_rows": null,
      "grid_column": null,
      "grid_gap": null,
      "grid_row": null,
      "grid_template_areas": null,
      "grid_template_columns": null,
      "grid_template_rows": null,
      "height": null,
      "justify_content": null,
      "justify_items": null,
      "left": null,
      "margin": null,
      "max_height": null,
      "max_width": null,
      "min_height": null,
      "min_width": null,
      "object_fit": null,
      "object_position": null,
      "order": null,
      "overflow": null,
      "overflow_x": null,
      "overflow_y": null,
      "padding": null,
      "right": null,
      "top": null,
      "visibility": null,
      "width": null
     }
    },
    "6f9654f9d2c54bb29098aa213f9640c8": {
     "model_module": "@jupyter-widgets/base",
     "model_module_version": "1.2.0",
     "model_name": "LayoutModel",
     "state": {
      "_model_module": "@jupyter-widgets/base",
      "_model_module_version": "1.2.0",
      "_model_name": "LayoutModel",
      "_view_count": null,
      "_view_module": "@jupyter-widgets/base",
      "_view_module_version": "1.2.0",
      "_view_name": "LayoutView",
      "align_content": null,
      "align_items": null,
      "align_self": null,
      "border": null,
      "bottom": null,
      "display": null,
      "flex": null,
      "flex_flow": null,
      "grid_area": null,
      "grid_auto_columns": null,
      "grid_auto_flow": null,
      "grid_auto_rows": null,
      "grid_column": null,
      "grid_gap": null,
      "grid_row": null,
      "grid_template_areas": null,
      "grid_template_columns": null,
      "grid_template_rows": null,
      "height": null,
      "justify_content": null,
      "justify_items": null,
      "left": null,
      "margin": null,
      "max_height": null,
      "max_width": null,
      "min_height": null,
      "min_width": null,
      "object_fit": null,
      "object_position": null,
      "order": null,
      "overflow": null,
      "overflow_x": null,
      "overflow_y": null,
      "padding": null,
      "right": null,
      "top": null,
      "visibility": null,
      "width": null
     }
    },
    "72fd0e707d004b6db9bb48b176ce2381": {
     "model_module": "@jupyter-widgets/controls",
     "model_module_version": "1.5.0",
     "model_name": "FloatProgressModel",
     "state": {
      "_dom_classes": [],
      "_model_module": "@jupyter-widgets/controls",
      "_model_module_version": "1.5.0",
      "_model_name": "FloatProgressModel",
      "_view_count": null,
      "_view_module": "@jupyter-widgets/controls",
      "_view_module_version": "1.5.0",
      "_view_name": "ProgressView",
      "bar_style": "success",
      "description": "",
      "description_tooltip": null,
      "layout": "IPY_MODEL_2c2415056b07473fb5dc018b59bf59a9",
      "max": 3,
      "min": 0,
      "orientation": "horizontal",
      "style": "IPY_MODEL_aacefeecbb5044ac993d6a7b9a88f52f",
      "value": 3
     }
    },
    "769ec4d6a87f43d9a7bfb43cd8b90b22": {
     "model_module": "@jupyter-widgets/controls",
     "model_module_version": "1.5.0",
     "model_name": "ProgressStyleModel",
     "state": {
      "_model_module": "@jupyter-widgets/controls",
      "_model_module_version": "1.5.0",
      "_model_name": "ProgressStyleModel",
      "_view_count": null,
      "_view_module": "@jupyter-widgets/base",
      "_view_module_version": "1.2.0",
      "_view_name": "StyleView",
      "bar_color": null,
      "description_width": ""
     }
    },
    "80386fdc9ad147398683ebbff998ee4c": {
     "model_module": "@jupyter-widgets/base",
     "model_module_version": "1.2.0",
     "model_name": "LayoutModel",
     "state": {
      "_model_module": "@jupyter-widgets/base",
      "_model_module_version": "1.2.0",
      "_model_name": "LayoutModel",
      "_view_count": null,
      "_view_module": "@jupyter-widgets/base",
      "_view_module_version": "1.2.0",
      "_view_name": "LayoutView",
      "align_content": null,
      "align_items": null,
      "align_self": null,
      "border": null,
      "bottom": null,
      "display": null,
      "flex": null,
      "flex_flow": null,
      "grid_area": null,
      "grid_auto_columns": null,
      "grid_auto_flow": null,
      "grid_auto_rows": null,
      "grid_column": null,
      "grid_gap": null,
      "grid_row": null,
      "grid_template_areas": null,
      "grid_template_columns": null,
      "grid_template_rows": null,
      "height": null,
      "justify_content": null,
      "justify_items": null,
      "left": null,
      "margin": null,
      "max_height": null,
      "max_width": null,
      "min_height": null,
      "min_width": null,
      "object_fit": null,
      "object_position": null,
      "order": null,
      "overflow": null,
      "overflow_x": null,
      "overflow_y": null,
      "padding": null,
      "right": null,
      "top": null,
      "visibility": null,
      "width": null
     }
    },
    "8296bf7c40bc4babaca712f36fa7176d": {
     "model_module": "@jupyter-widgets/controls",
     "model_module_version": "1.5.0",
     "model_name": "LabelModel",
     "state": {
      "_dom_classes": [],
      "_model_module": "@jupyter-widgets/controls",
      "_model_module_version": "1.5.0",
      "_model_name": "LabelModel",
      "_view_count": null,
      "_view_module": "@jupyter-widgets/controls",
      "_view_module_version": "1.5.0",
      "_view_name": "LabelView",
      "description": "",
      "description_tooltip": null,
      "layout": "IPY_MODEL_6eaf1ea1e6a44ce8bf9487e260313c67",
      "placeholder": "​",
      "style": "IPY_MODEL_583ee35ff2dd4c3c849aa7ceead1b7db",
      "value": "Token is valid (permission: write)."
     }
    },
    "85ba1cb47e314223a44170951d0fd119": {
     "model_module": "@jupyter-widgets/base",
     "model_module_version": "1.2.0",
     "model_name": "LayoutModel",
     "state": {
      "_model_module": "@jupyter-widgets/base",
      "_model_module_version": "1.2.0",
      "_model_name": "LayoutModel",
      "_view_count": null,
      "_view_module": "@jupyter-widgets/base",
      "_view_module_version": "1.2.0",
      "_view_name": "LayoutView",
      "align_content": null,
      "align_items": null,
      "align_self": null,
      "border": null,
      "bottom": null,
      "display": null,
      "flex": null,
      "flex_flow": null,
      "grid_area": null,
      "grid_auto_columns": null,
      "grid_auto_flow": null,
      "grid_auto_rows": null,
      "grid_column": null,
      "grid_gap": null,
      "grid_row": null,
      "grid_template_areas": null,
      "grid_template_columns": null,
      "grid_template_rows": null,
      "height": null,
      "justify_content": null,
      "justify_items": null,
      "left": null,
      "margin": null,
      "max_height": null,
      "max_width": null,
      "min_height": null,
      "min_width": null,
      "object_fit": null,
      "object_position": null,
      "order": null,
      "overflow": null,
      "overflow_x": null,
      "overflow_y": null,
      "padding": null,
      "right": null,
      "top": null,
      "visibility": null,
      "width": null
     }
    },
    "8b0953667eed46fe8881cea2db28345f": {
     "model_module": "@jupyter-widgets/controls",
     "model_module_version": "1.5.0",
     "model_name": "LabelModel",
     "state": {
      "_dom_classes": [],
      "_model_module": "@jupyter-widgets/controls",
      "_model_module_version": "1.5.0",
      "_model_name": "LabelModel",
      "_view_count": null,
      "_view_module": "@jupyter-widgets/controls",
      "_view_module_version": "1.5.0",
      "_view_name": "LabelView",
      "description": "",
      "description_tooltip": null,
      "layout": "IPY_MODEL_bbf83815a7cf47ffac36bf116aaeca65",
      "placeholder": "​",
      "style": "IPY_MODEL_4d80982e997646eaabeeb650b2e76f02",
      "value": "Your token has been saved in your configured git credential helpers (store)."
     }
    },
    "907645b2ce8045f6bd3f86963fd8f82f": {
     "model_module": "@jupyter-widgets/controls",
     "model_module_version": "1.5.0",
     "model_name": "DescriptionStyleModel",
     "state": {
      "_model_module": "@jupyter-widgets/controls",
      "_model_module_version": "1.5.0",
      "_model_name": "DescriptionStyleModel",
      "_view_count": null,
      "_view_module": "@jupyter-widgets/base",
      "_view_module_version": "1.2.0",
      "_view_name": "StyleView",
      "description_width": ""
     }
    },
    "90b246db25b349aa978a15624c7ad564": {
     "model_module": "@jupyter-widgets/controls",
     "model_module_version": "1.5.0",
     "model_name": "DescriptionStyleModel",
     "state": {
      "_model_module": "@jupyter-widgets/controls",
      "_model_module_version": "1.5.0",
      "_model_name": "DescriptionStyleModel",
      "_view_count": null,
      "_view_module": "@jupyter-widgets/base",
      "_view_module_version": "1.2.0",
      "_view_name": "StyleView",
      "description_width": ""
     }
    },
    "91e5e7bca5d64918a3cd226b31cf0c0e": {
     "model_module": "@jupyter-widgets/controls",
     "model_module_version": "1.5.0",
     "model_name": "DescriptionStyleModel",
     "state": {
      "_model_module": "@jupyter-widgets/controls",
      "_model_module_version": "1.5.0",
      "_model_name": "DescriptionStyleModel",
      "_view_count": null,
      "_view_module": "@jupyter-widgets/base",
      "_view_module_version": "1.2.0",
      "_view_name": "StyleView",
      "description_width": ""
     }
    },
    "974e8ee6c3614da08156414778c66933": {
     "model_module": "@jupyter-widgets/controls",
     "model_module_version": "1.5.0",
     "model_name": "LabelModel",
     "state": {
      "_dom_classes": [],
      "_model_module": "@jupyter-widgets/controls",
      "_model_module_version": "1.5.0",
      "_model_name": "LabelModel",
      "_view_count": null,
      "_view_module": "@jupyter-widgets/controls",
      "_view_module_version": "1.5.0",
      "_view_name": "LabelView",
      "description": "",
      "description_tooltip": null,
      "layout": "IPY_MODEL_01783f129a3f4f6dbfc3caeae86a651e",
      "placeholder": "​",
      "style": "IPY_MODEL_e4d0de45dcad4052a6d2376dab30ab82",
      "value": "Connecting..."
     }
    },
    "98fced9fcd6342e5bd9156a2264fa325": {
     "model_module": "@jupyter-widgets/controls",
     "model_module_version": "1.5.0",
     "model_name": "HTMLModel",
     "state": {
      "_dom_classes": [],
      "_model_module": "@jupyter-widgets/controls",
      "_model_module_version": "1.5.0",
      "_model_name": "HTMLModel",
      "_view_count": null,
      "_view_module": "@jupyter-widgets/controls",
      "_view_module_version": "1.5.0",
      "_view_name": "HTMLView",
      "description": "",
      "description_tooltip": null,
      "layout": "IPY_MODEL_30a856c8f00a4063b888f18807c4a60a",
      "placeholder": "​",
      "style": "IPY_MODEL_c2666fed9c5d4b38845889c099dde68a",
      "value": "\n<b>Pro Tip:</b> If you don't already have one, you can create a dedicated\n'notebooks' token with 'write' access, that you can then easily reuse for all\nnotebooks. </center>"
     }
    },
    "9bc8f67c9f4a415f9edafd3b8a670216": {
     "model_module": "@jupyter-widgets/controls",
     "model_module_version": "1.5.0",
     "model_name": "HTMLModel",
     "state": {
      "_dom_classes": [],
      "_model_module": "@jupyter-widgets/controls",
      "_model_module_version": "1.5.0",
      "_model_name": "HTMLModel",
      "_view_count": null,
      "_view_module": "@jupyter-widgets/controls",
      "_view_module_version": "1.5.0",
      "_view_name": "HTMLView",
      "description": "",
      "description_tooltip": null,
      "layout": "IPY_MODEL_5a900f773ee443b5a6eb7019704d1964",
      "placeholder": "​",
      "style": "IPY_MODEL_907645b2ce8045f6bd3f86963fd8f82f",
      "value": "<center> <img\nsrc=https://huggingface.co/front/assets/huggingface_logo-noborder.svg\nalt='Hugging Face'> <br> Copy a token from <a\nhref=\"https://huggingface.co/settings/tokens\" target=\"_blank\">your Hugging Face\ntokens page</a> and paste it below. <br> Immediately click login after copying\nyour token or it might be stored in plain text in this notebook file. </center>"
     }
    },
    "a2a54eb1bc2d4d00a169410b7c3a7fe8": {
     "model_module": "@jupyter-widgets/controls",
     "model_module_version": "1.5.0",
     "model_name": "DescriptionStyleModel",
     "state": {
      "_model_module": "@jupyter-widgets/controls",
      "_model_module_version": "1.5.0",
      "_model_name": "DescriptionStyleModel",
      "_view_count": null,
      "_view_module": "@jupyter-widgets/base",
      "_view_module_version": "1.2.0",
      "_view_name": "StyleView",
      "description_width": ""
     }
    },
    "a345dad9c1b344f19579cfd8a4710e06": {
     "model_module": "@jupyter-widgets/controls",
     "model_module_version": "1.5.0",
     "model_name": "HTMLModel",
     "state": {
      "_dom_classes": [],
      "_model_module": "@jupyter-widgets/controls",
      "_model_module_version": "1.5.0",
      "_model_name": "HTMLModel",
      "_view_count": null,
      "_view_module": "@jupyter-widgets/controls",
      "_view_module_version": "1.5.0",
      "_view_name": "HTMLView",
      "description": "",
      "description_tooltip": null,
      "layout": "IPY_MODEL_6f9654f9d2c54bb29098aa213f9640c8",
      "placeholder": "​",
      "style": "IPY_MODEL_91e5e7bca5d64918a3cd226b31cf0c0e",
      "value": " 3/3 [01:13&lt;00:00, 24.00s/it]"
     }
    },
    "a69740d62e814816a8ea54e4971847f3": {
     "model_module": "@jupyter-widgets/controls",
     "model_module_version": "1.5.0",
     "model_name": "DescriptionStyleModel",
     "state": {
      "_model_module": "@jupyter-widgets/controls",
      "_model_module_version": "1.5.0",
      "_model_name": "DescriptionStyleModel",
      "_view_count": null,
      "_view_module": "@jupyter-widgets/base",
      "_view_module_version": "1.2.0",
      "_view_name": "StyleView",
      "description_width": ""
     }
    },
    "aacefeecbb5044ac993d6a7b9a88f52f": {
     "model_module": "@jupyter-widgets/controls",
     "model_module_version": "1.5.0",
     "model_name": "ProgressStyleModel",
     "state": {
      "_model_module": "@jupyter-widgets/controls",
      "_model_module_version": "1.5.0",
      "_model_name": "ProgressStyleModel",
      "_view_count": null,
      "_view_module": "@jupyter-widgets/base",
      "_view_module_version": "1.2.0",
      "_view_name": "StyleView",
      "bar_color": null,
      "description_width": ""
     }
    },
    "b355c1a4fafc4f77ac85f532da0e1729": {
     "model_module": "@jupyter-widgets/controls",
     "model_module_version": "1.5.0",
     "model_name": "VBoxModel",
     "state": {
      "_dom_classes": [],
      "_model_module": "@jupyter-widgets/controls",
      "_model_module_version": "1.5.0",
      "_model_name": "VBoxModel",
      "_view_count": null,
      "_view_module": "@jupyter-widgets/controls",
      "_view_module_version": "1.5.0",
      "_view_name": "VBoxView",
      "box_style": "",
      "children": [
       "IPY_MODEL_8296bf7c40bc4babaca712f36fa7176d",
       "IPY_MODEL_8b0953667eed46fe8881cea2db28345f",
       "IPY_MODEL_2fb0133ad0294f498772223fbe9cffb3",
       "IPY_MODEL_63035a276dce4d32b2e453d7837c96d6"
      ],
      "layout": "IPY_MODEL_32c99364c3bb4c309029b9e53b0ced34"
     }
    },
    "b5b5ddc78d8043189dea813dbad510b8": {
     "model_module": "@jupyter-widgets/controls",
     "model_module_version": "1.5.0",
     "model_name": "DescriptionStyleModel",
     "state": {
      "_model_module": "@jupyter-widgets/controls",
      "_model_module_version": "1.5.0",
      "_model_name": "DescriptionStyleModel",
      "_view_count": null,
      "_view_module": "@jupyter-widgets/base",
      "_view_module_version": "1.2.0",
      "_view_name": "StyleView",
      "description_width": ""
     }
    },
    "bbf83815a7cf47ffac36bf116aaeca65": {
     "model_module": "@jupyter-widgets/base",
     "model_module_version": "1.2.0",
     "model_name": "LayoutModel",
     "state": {
      "_model_module": "@jupyter-widgets/base",
      "_model_module_version": "1.2.0",
      "_model_name": "LayoutModel",
      "_view_count": null,
      "_view_module": "@jupyter-widgets/base",
      "_view_module_version": "1.2.0",
      "_view_name": "LayoutView",
      "align_content": null,
      "align_items": null,
      "align_self": null,
      "border": null,
      "bottom": null,
      "display": null,
      "flex": null,
      "flex_flow": null,
      "grid_area": null,
      "grid_auto_columns": null,
      "grid_auto_flow": null,
      "grid_auto_rows": null,
      "grid_column": null,
      "grid_gap": null,
      "grid_row": null,
      "grid_template_areas": null,
      "grid_template_columns": null,
      "grid_template_rows": null,
      "height": null,
      "justify_content": null,
      "justify_items": null,
      "left": null,
      "margin": null,
      "max_height": null,
      "max_width": null,
      "min_height": null,
      "min_width": null,
      "object_fit": null,
      "object_position": null,
      "order": null,
      "overflow": null,
      "overflow_x": null,
      "overflow_y": null,
      "padding": null,
      "right": null,
      "top": null,
      "visibility": null,
      "width": null
     }
    },
    "bc4a9d18f29f4d9c942e9e1ff519fb9d": {
     "model_module": "@jupyter-widgets/controls",
     "model_module_version": "1.5.0",
     "model_name": "PasswordModel",
     "state": {
      "_dom_classes": [],
      "_model_module": "@jupyter-widgets/controls",
      "_model_module_version": "1.5.0",
      "_model_name": "PasswordModel",
      "_view_count": null,
      "_view_module": "@jupyter-widgets/controls",
      "_view_module_version": "1.5.0",
      "_view_name": "PasswordView",
      "continuous_update": true,
      "description": "Token:",
      "description_tooltip": null,
      "disabled": false,
      "layout": "IPY_MODEL_c623cb9fbfc14029bfad21011d3d1dc9",
      "placeholder": "​",
      "style": "IPY_MODEL_90b246db25b349aa978a15624c7ad564",
      "value": ""
     }
    },
    "c2666fed9c5d4b38845889c099dde68a": {
     "model_module": "@jupyter-widgets/controls",
     "model_module_version": "1.5.0",
     "model_name": "DescriptionStyleModel",
     "state": {
      "_model_module": "@jupyter-widgets/controls",
      "_model_module_version": "1.5.0",
      "_model_name": "DescriptionStyleModel",
      "_view_count": null,
      "_view_module": "@jupyter-widgets/base",
      "_view_module_version": "1.2.0",
      "_view_name": "StyleView",
      "description_width": ""
     }
    },
    "c623cb9fbfc14029bfad21011d3d1dc9": {
     "model_module": "@jupyter-widgets/base",
     "model_module_version": "1.2.0",
     "model_name": "LayoutModel",
     "state": {
      "_model_module": "@jupyter-widgets/base",
      "_model_module_version": "1.2.0",
      "_model_name": "LayoutModel",
      "_view_count": null,
      "_view_module": "@jupyter-widgets/base",
      "_view_module_version": "1.2.0",
      "_view_name": "LayoutView",
      "align_content": null,
      "align_items": null,
      "align_self": null,
      "border": null,
      "bottom": null,
      "display": null,
      "flex": null,
      "flex_flow": null,
      "grid_area": null,
      "grid_auto_columns": null,
      "grid_auto_flow": null,
      "grid_auto_rows": null,
      "grid_column": null,
      "grid_gap": null,
      "grid_row": null,
      "grid_template_areas": null,
      "grid_template_columns": null,
      "grid_template_rows": null,
      "height": null,
      "justify_content": null,
      "justify_items": null,
      "left": null,
      "margin": null,
      "max_height": null,
      "max_width": null,
      "min_height": null,
      "min_width": null,
      "object_fit": null,
      "object_position": null,
      "order": null,
      "overflow": null,
      "overflow_x": null,
      "overflow_y": null,
      "padding": null,
      "right": null,
      "top": null,
      "visibility": null,
      "width": null
     }
    },
    "ce7827b1fa3b4895a467cb984bdb3c0b": {
     "model_module": "@jupyter-widgets/controls",
     "model_module_version": "1.5.0",
     "model_name": "ButtonStyleModel",
     "state": {
      "_model_module": "@jupyter-widgets/controls",
      "_model_module_version": "1.5.0",
      "_model_name": "ButtonStyleModel",
      "_view_count": null,
      "_view_module": "@jupyter-widgets/base",
      "_view_module_version": "1.2.0",
      "_view_name": "StyleView",
      "button_color": null,
      "font_weight": ""
     }
    },
    "cfd24266d3f444b2bb8342bca087f9c5": {
     "model_module": "@jupyter-widgets/controls",
     "model_module_version": "1.5.0",
     "model_name": "DescriptionStyleModel",
     "state": {
      "_model_module": "@jupyter-widgets/controls",
      "_model_module_version": "1.5.0",
      "_model_name": "DescriptionStyleModel",
      "_view_count": null,
      "_view_module": "@jupyter-widgets/base",
      "_view_module_version": "1.2.0",
      "_view_name": "StyleView",
      "description_width": ""
     }
    },
    "d749d53cc33c4c29a4987d5eb0cee969": {
     "model_module": "@jupyter-widgets/base",
     "model_module_version": "1.2.0",
     "model_name": "LayoutModel",
     "state": {
      "_model_module": "@jupyter-widgets/base",
      "_model_module_version": "1.2.0",
      "_model_name": "LayoutModel",
      "_view_count": null,
      "_view_module": "@jupyter-widgets/base",
      "_view_module_version": "1.2.0",
      "_view_name": "LayoutView",
      "align_content": null,
      "align_items": null,
      "align_self": null,
      "border": null,
      "bottom": null,
      "display": null,
      "flex": null,
      "flex_flow": null,
      "grid_area": null,
      "grid_auto_columns": null,
      "grid_auto_flow": null,
      "grid_auto_rows": null,
      "grid_column": null,
      "grid_gap": null,
      "grid_row": null,
      "grid_template_areas": null,
      "grid_template_columns": null,
      "grid_template_rows": null,
      "height": null,
      "justify_content": null,
      "justify_items": null,
      "left": null,
      "margin": null,
      "max_height": null,
      "max_width": null,
      "min_height": null,
      "min_width": null,
      "object_fit": null,
      "object_position": null,
      "order": null,
      "overflow": null,
      "overflow_x": null,
      "overflow_y": null,
      "padding": null,
      "right": null,
      "top": null,
      "visibility": null,
      "width": null
     }
    },
    "d79f68a0dbef40a3ba99ea0bcfc96d4c": {
     "model_module": "@jupyter-widgets/controls",
     "model_module_version": "1.5.0",
     "model_name": "HBoxModel",
     "state": {
      "_dom_classes": [],
      "_model_module": "@jupyter-widgets/controls",
      "_model_module_version": "1.5.0",
      "_model_name": "HBoxModel",
      "_view_count": null,
      "_view_module": "@jupyter-widgets/controls",
      "_view_module_version": "1.5.0",
      "_view_name": "HBoxView",
      "box_style": "",
      "children": [
       "IPY_MODEL_4456110b722c434ea8f42fc4ac3af460",
       "IPY_MODEL_1510b9dc30f64e8d9e78877f15bba1ab",
       "IPY_MODEL_ed83cc6671ac483282f5ffaaa6862543"
      ],
      "layout": "IPY_MODEL_f1c363c455d14884a2f5c4b85d2fe8cf"
     }
    },
    "dc53e9eb67a445ef9dcd7cf42a872fa3": {
     "model_module": "@jupyter-widgets/controls",
     "model_module_version": "1.5.0",
     "model_name": "DescriptionStyleModel",
     "state": {
      "_model_module": "@jupyter-widgets/controls",
      "_model_module_version": "1.5.0",
      "_model_name": "DescriptionStyleModel",
      "_view_count": null,
      "_view_module": "@jupyter-widgets/base",
      "_view_module_version": "1.2.0",
      "_view_name": "StyleView",
      "description_width": ""
     }
    },
    "e4d0de45dcad4052a6d2376dab30ab82": {
     "model_module": "@jupyter-widgets/controls",
     "model_module_version": "1.5.0",
     "model_name": "DescriptionStyleModel",
     "state": {
      "_model_module": "@jupyter-widgets/controls",
      "_model_module_version": "1.5.0",
      "_model_name": "DescriptionStyleModel",
      "_view_count": null,
      "_view_module": "@jupyter-widgets/base",
      "_view_module_version": "1.2.0",
      "_view_name": "StyleView",
      "description_width": ""
     }
    },
    "ed83cc6671ac483282f5ffaaa6862543": {
     "model_module": "@jupyter-widgets/controls",
     "model_module_version": "1.5.0",
     "model_name": "HTMLModel",
     "state": {
      "_dom_classes": [],
      "_model_module": "@jupyter-widgets/controls",
      "_model_module_version": "1.5.0",
      "_model_name": "HTMLModel",
      "_view_count": null,
      "_view_module": "@jupyter-widgets/controls",
      "_view_module_version": "1.5.0",
      "_view_name": "HTMLView",
      "description": "",
      "description_tooltip": null,
      "layout": "IPY_MODEL_80386fdc9ad147398683ebbff998ee4c",
      "placeholder": "​",
      "style": "IPY_MODEL_b5b5ddc78d8043189dea813dbad510b8",
      "value": " 3/3 [01:17&lt;00:00, 25.52s/it]"
     }
    },
    "f1c363c455d14884a2f5c4b85d2fe8cf": {
     "model_module": "@jupyter-widgets/base",
     "model_module_version": "1.2.0",
     "model_name": "LayoutModel",
     "state": {
      "_model_module": "@jupyter-widgets/base",
      "_model_module_version": "1.2.0",
      "_model_name": "LayoutModel",
      "_view_count": null,
      "_view_module": "@jupyter-widgets/base",
      "_view_module_version": "1.2.0",
      "_view_name": "LayoutView",
      "align_content": null,
      "align_items": null,
      "align_self": null,
      "border": null,
      "bottom": null,
      "display": null,
      "flex": null,
      "flex_flow": null,
      "grid_area": null,
      "grid_auto_columns": null,
      "grid_auto_flow": null,
      "grid_auto_rows": null,
      "grid_column": null,
      "grid_gap": null,
      "grid_row": null,
      "grid_template_areas": null,
      "grid_template_columns": null,
      "grid_template_rows": null,
      "height": null,
      "justify_content": null,
      "justify_items": null,
      "left": null,
      "margin": null,
      "max_height": null,
      "max_width": null,
      "min_height": null,
      "min_width": null,
      "object_fit": null,
      "object_position": null,
      "order": null,
      "overflow": null,
      "overflow_x": null,
      "overflow_y": null,
      "padding": null,
      "right": null,
      "top": null,
      "visibility": null,
      "width": null
     }
    },
    "f7ffd0942dfb44cb9da37ae236859399": {
     "model_module": "@jupyter-widgets/base",
     "model_module_version": "1.2.0",
     "model_name": "LayoutModel",
     "state": {
      "_model_module": "@jupyter-widgets/base",
      "_model_module_version": "1.2.0",
      "_model_name": "LayoutModel",
      "_view_count": null,
      "_view_module": "@jupyter-widgets/base",
      "_view_module_version": "1.2.0",
      "_view_name": "LayoutView",
      "align_content": null,
      "align_items": null,
      "align_self": null,
      "border": null,
      "bottom": null,
      "display": null,
      "flex": null,
      "flex_flow": null,
      "grid_area": null,
      "grid_auto_columns": null,
      "grid_auto_flow": null,
      "grid_auto_rows": null,
      "grid_column": null,
      "grid_gap": null,
      "grid_row": null,
      "grid_template_areas": null,
      "grid_template_columns": null,
      "grid_template_rows": null,
      "height": null,
      "justify_content": null,
      "justify_items": null,
      "left": null,
      "margin": null,
      "max_height": null,
      "max_width": null,
      "min_height": null,
      "min_width": null,
      "object_fit": null,
      "object_position": null,
      "order": null,
      "overflow": null,
      "overflow_x": null,
      "overflow_y": null,
      "padding": null,
      "right": null,
      "top": null,
      "visibility": null,
      "width": null
     }
    }
   }
  }
 },
 "nbformat": 4,
 "nbformat_minor": 4
}
