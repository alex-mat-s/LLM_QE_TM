{
 "cells": [
  {
   "cell_type": "markdown",
   "metadata": {},
   "source": [
    "**Dataset anaslysis**\n"
   ]
  },
  {
   "cell_type": "code",
   "execution_count": 1,
   "metadata": {},
   "outputs": [],
   "source": [
    "import pandas as pd\n",
    "import dateutil\n",
    "import seaborn as sns\n",
    "import numpy as np\n",
    "import matplotlib.pyplot as plt\n",
    "\n",
    "from pathlib import Path\n",
    "from collections import Counter"
   ]
  },
  {
   "cell_type": "code",
   "execution_count": 2,
   "metadata": {},
   "outputs": [],
   "source": [
    "sns.set_style(\"whitegrid\")"
   ]
  },
  {
   "cell_type": "code",
   "execution_count": 3,
   "metadata": {},
   "outputs": [],
   "source": [
    "BASE_DIR = Path('EDA.ipynb').resolve().parent.parent\n",
    "DATA_DIR = BASE_DIR.joinpath('data/TOLOKA_Markup')\n",
    "\n",
    "FILE_NAME_1 = \"assignments_from_pool_35355351__11-09-2022.tsv\"\n",
    "FILE_NAME_2 = \"assignments_from_pool_35369313__12-09-2022.tsv\"\n",
    "FILE_NAME_3 = \"assignments_from_pool_35432328__15-09-2022.tsv\"\n",
    "FILE_NAME_4 = \"assignments_from_pool_35480971__19-09-2022.tsv\"\n",
    "\n",
    "FILE_1 = DATA_DIR.joinpath(FILE_NAME_1)\n",
    "FILE_2 = DATA_DIR.joinpath(FILE_NAME_2)\n",
    "FILE_3 = DATA_DIR.joinpath(FILE_NAME_3)\n",
    "FILE_4 = DATA_DIR.joinpath(FILE_NAME_4)"
   ]
  },
  {
   "cell_type": "code",
   "execution_count": 4,
   "metadata": {},
   "outputs": [
    {
     "data": {
      "text/html": [
       "<div>\n",
       "<style scoped>\n",
       "    .dataframe tbody tr th:only-of-type {\n",
       "        vertical-align: middle;\n",
       "    }\n",
       "\n",
       "    .dataframe tbody tr th {\n",
       "        vertical-align: top;\n",
       "    }\n",
       "\n",
       "    .dataframe thead th {\n",
       "        text-align: right;\n",
       "    }\n",
       "</style>\n",
       "<table border=\"1\" class=\"dataframe\">\n",
       "  <thead>\n",
       "    <tr style=\"text-align: right;\">\n",
       "      <th></th>\n",
       "      <th>INPUT:exp_id</th>\n",
       "      <th>INPUT:wordset</th>\n",
       "      <th>INPUT:model_id</th>\n",
       "      <th>INPUT:topic_id</th>\n",
       "      <th>INPUT:dataset_name</th>\n",
       "      <th>INPUT:correct_bad_words</th>\n",
       "      <th>OUTPUT:quality</th>\n",
       "      <th>OUTPUT:bad_words</th>\n",
       "      <th>OUTPUT:topic_name</th>\n",
       "      <th>OUTPUT:golden_bad_words</th>\n",
       "      <th>...</th>\n",
       "      <th>ASSIGNMENT:task_suite_id</th>\n",
       "      <th>ASSIGNMENT:worker_id</th>\n",
       "      <th>ASSIGNMENT:status</th>\n",
       "      <th>ASSIGNMENT:started</th>\n",
       "      <th>ASSIGNMENT:submitted</th>\n",
       "      <th>ASSIGNMENT:accepted</th>\n",
       "      <th>ASSIGNMENT:rejected</th>\n",
       "      <th>ASSIGNMENT:skipped</th>\n",
       "      <th>ASSIGNMENT:expired</th>\n",
       "      <th>ASSIGNMENT:reward</th>\n",
       "    </tr>\n",
       "  </thead>\n",
       "  <tbody>\n",
       "    <tr>\n",
       "      <th>0</th>\n",
       "      <td>28.0</td>\n",
       "      <td>driver sound running anybody memory wonder err...</td>\n",
       "      <td>631ba815291a690c5875365a</td>\n",
       "      <td>main24</td>\n",
       "      <td>20newsgroups</td>\n",
       "      <td>NaN</td>\n",
       "      <td>rather_bad</td>\n",
       "      <td>{\"driver\":false,\"sound\":false,\"running\":false,...</td>\n",
       "      <td>NaN</td>\n",
       "      <td>True</td>\n",
       "      <td>...</td>\n",
       "      <td>00021b7ad7--631df4b9a3d75c31d7b50ce1</td>\n",
       "      <td>35c9dec005edb17d8cc11946f9bc4b0f</td>\n",
       "      <td>APPROVED</td>\n",
       "      <td>2022-09-11T14:46:17.435</td>\n",
       "      <td>2022-09-11T14:48:35.368</td>\n",
       "      <td>2022-09-11T14:48:35.368</td>\n",
       "      <td>NaN</td>\n",
       "      <td>NaN</td>\n",
       "      <td>NaN</td>\n",
       "      <td>0.05</td>\n",
       "    </tr>\n",
       "    <tr>\n",
       "      <th>1</th>\n",
       "      <td>28.0</td>\n",
       "      <td>argument colorado conclusion music letter fall...</td>\n",
       "      <td>631bb8282d85fb2da960a6a5</td>\n",
       "      <td>main72</td>\n",
       "      <td>20newsgroups</td>\n",
       "      <td>NaN</td>\n",
       "      <td>bad</td>\n",
       "      <td>{\"argument\":false,\"colorado\":false,\"conclusion...</td>\n",
       "      <td>NaN</td>\n",
       "      <td>True</td>\n",
       "      <td>...</td>\n",
       "      <td>00021b7ad7--631df4b9a3d75c31d7b50ce1</td>\n",
       "      <td>35c9dec005edb17d8cc11946f9bc4b0f</td>\n",
       "      <td>APPROVED</td>\n",
       "      <td>2022-09-11T14:46:17.435</td>\n",
       "      <td>2022-09-11T14:48:35.368</td>\n",
       "      <td>2022-09-11T14:48:35.368</td>\n",
       "      <td>NaN</td>\n",
       "      <td>NaN</td>\n",
       "      <td>NaN</td>\n",
       "      <td>0.05</td>\n",
       "    </tr>\n",
       "    <tr>\n",
       "      <th>2</th>\n",
       "      <td>28.0</td>\n",
       "      <td>love uiuc cwru thought guess wrong sorry frank...</td>\n",
       "      <td>631b95224ac2fcd506e4781a</td>\n",
       "      <td>main4</td>\n",
       "      <td>20newsgroups</td>\n",
       "      <td>NaN</td>\n",
       "      <td>rather_bad</td>\n",
       "      <td>{\"love\":false,\"uiuc\":false,\"cwru\":false,\"thoug...</td>\n",
       "      <td>NaN</td>\n",
       "      <td>True</td>\n",
       "      <td>...</td>\n",
       "      <td>00021b7ad7--631df4b9a3d75c31d7b50ce1</td>\n",
       "      <td>35c9dec005edb17d8cc11946f9bc4b0f</td>\n",
       "      <td>APPROVED</td>\n",
       "      <td>2022-09-11T14:46:17.435</td>\n",
       "      <td>2022-09-11T14:48:35.368</td>\n",
       "      <td>2022-09-11T14:48:35.368</td>\n",
       "      <td>NaN</td>\n",
       "      <td>NaN</td>\n",
       "      <td>NaN</td>\n",
       "      <td>0.05</td>\n",
       "    </tr>\n",
       "    <tr>\n",
       "      <th>3</th>\n",
       "      <td>28.0</td>\n",
       "      <td>engine modem rocket phone model yeast level fr...</td>\n",
       "      <td>631ba1dba6fa8975eb579abd</td>\n",
       "      <td>main13</td>\n",
       "      <td>20newsgroups</td>\n",
       "      <td>NaN</td>\n",
       "      <td>rather_bad</td>\n",
       "      <td>{\"engine\":false,\"modem\":false,\"rocket\":false,\"...</td>\n",
       "      <td>NaN</td>\n",
       "      <td>True</td>\n",
       "      <td>...</td>\n",
       "      <td>00021b7ad7--631df4b9a3d75c31d7b50ce1</td>\n",
       "      <td>35c9dec005edb17d8cc11946f9bc4b0f</td>\n",
       "      <td>APPROVED</td>\n",
       "      <td>2022-09-11T14:46:17.435</td>\n",
       "      <td>2022-09-11T14:48:35.368</td>\n",
       "      <td>2022-09-11T14:48:35.368</td>\n",
       "      <td>NaN</td>\n",
       "      <td>NaN</td>\n",
       "      <td>NaN</td>\n",
       "      <td>0.05</td>\n",
       "    </tr>\n",
       "    <tr>\n",
       "      <th>4</th>\n",
       "      <td>28.0</td>\n",
       "      <td>turkish turkey turk armenia greek nazi azeri s...</td>\n",
       "      <td>631b96bea5a57837b841b5d1</td>\n",
       "      <td>main28</td>\n",
       "      <td>20newsgroups</td>\n",
       "      <td>NaN</td>\n",
       "      <td>rather_good</td>\n",
       "      <td>{\"turkish\":false,\"turkey\":false,\"turk\":false,\"...</td>\n",
       "      <td>Race</td>\n",
       "      <td>True</td>\n",
       "      <td>...</td>\n",
       "      <td>00021b7ad7--631df4b9a3d75c31d7b50ce1</td>\n",
       "      <td>35c9dec005edb17d8cc11946f9bc4b0f</td>\n",
       "      <td>APPROVED</td>\n",
       "      <td>2022-09-11T14:46:17.435</td>\n",
       "      <td>2022-09-11T14:48:35.368</td>\n",
       "      <td>2022-09-11T14:48:35.368</td>\n",
       "      <td>NaN</td>\n",
       "      <td>NaN</td>\n",
       "      <td>NaN</td>\n",
       "      <td>0.05</td>\n",
       "    </tr>\n",
       "    <tr>\n",
       "      <th>5</th>\n",
       "      <td>28.0</td>\n",
       "      <td>country nazi germany german land europe money ...</td>\n",
       "      <td>631bb6faa5a57837b841d979</td>\n",
       "      <td>main3</td>\n",
       "      <td>20newsgroups</td>\n",
       "      <td>NaN</td>\n",
       "      <td>rather_good</td>\n",
       "      <td>{\"country\":false,\"nazi\":false,\"germany\":true,\"...</td>\n",
       "      <td>Germany</td>\n",
       "      <td>True</td>\n",
       "      <td>...</td>\n",
       "      <td>00021b7ad7--631df4b9a3d75c31d7b50ce1</td>\n",
       "      <td>35c9dec005edb17d8cc11946f9bc4b0f</td>\n",
       "      <td>APPROVED</td>\n",
       "      <td>2022-09-11T14:46:17.435</td>\n",
       "      <td>2022-09-11T14:48:35.368</td>\n",
       "      <td>2022-09-11T14:48:35.368</td>\n",
       "      <td>NaN</td>\n",
       "      <td>NaN</td>\n",
       "      <td>NaN</td>\n",
       "      <td>0.05</td>\n",
       "    </tr>\n",
       "    <tr>\n",
       "      <th>6</th>\n",
       "      <td>NaN</td>\n",
       "      <td>NaN</td>\n",
       "      <td>NaN</td>\n",
       "      <td>NaN</td>\n",
       "      <td>NaN</td>\n",
       "      <td>NaN</td>\n",
       "      <td>NaN</td>\n",
       "      <td>NaN</td>\n",
       "      <td>NaN</td>\n",
       "      <td>NaN</td>\n",
       "      <td>...</td>\n",
       "      <td>NaN</td>\n",
       "      <td>NaN</td>\n",
       "      <td>NaN</td>\n",
       "      <td>NaN</td>\n",
       "      <td>NaN</td>\n",
       "      <td>NaN</td>\n",
       "      <td>NaN</td>\n",
       "      <td>NaN</td>\n",
       "      <td>NaN</td>\n",
       "      <td>NaN</td>\n",
       "    </tr>\n",
       "    <tr>\n",
       "      <th>7</th>\n",
       "      <td>28.0</td>\n",
       "      <td>attack lebanese muslim hernlem israeli left tr...</td>\n",
       "      <td>631b96bea5a57837b841b5d1</td>\n",
       "      <td>main1</td>\n",
       "      <td>20newsgroups</td>\n",
       "      <td>NaN</td>\n",
       "      <td>good</td>\n",
       "      <td>{\"attack\":false,\"lebanese\":false,\"muslim\":fals...</td>\n",
       "      <td>War</td>\n",
       "      <td>True</td>\n",
       "      <td>...</td>\n",
       "      <td>00021b7ad7--631df4c241d72e6d49540210</td>\n",
       "      <td>9c19d68db298943ca43bb07b3d320ac7</td>\n",
       "      <td>APPROVED</td>\n",
       "      <td>2022-09-11T14:46:26.065</td>\n",
       "      <td>2022-09-11T14:48:16.890</td>\n",
       "      <td>2022-09-11T14:48:16.890</td>\n",
       "      <td>NaN</td>\n",
       "      <td>NaN</td>\n",
       "      <td>NaN</td>\n",
       "      <td>0.05</td>\n",
       "    </tr>\n",
       "    <tr>\n",
       "      <th>8</th>\n",
       "      <td>28.0</td>\n",
       "      <td>curve drug create libertarian email hold graph...</td>\n",
       "      <td>631bb32427e1a64b30543798</td>\n",
       "      <td>main44</td>\n",
       "      <td>20newsgroups</td>\n",
       "      <td>NaN</td>\n",
       "      <td>bad</td>\n",
       "      <td>{\"curve\":false,\"drug\":false,\"create\":false,\"li...</td>\n",
       "      <td>NaN</td>\n",
       "      <td>True</td>\n",
       "      <td>...</td>\n",
       "      <td>00021b7ad7--631df4c241d72e6d49540210</td>\n",
       "      <td>9c19d68db298943ca43bb07b3d320ac7</td>\n",
       "      <td>APPROVED</td>\n",
       "      <td>2022-09-11T14:46:26.065</td>\n",
       "      <td>2022-09-11T14:48:16.890</td>\n",
       "      <td>2022-09-11T14:48:16.890</td>\n",
       "      <td>NaN</td>\n",
       "      <td>NaN</td>\n",
       "      <td>NaN</td>\n",
       "      <td>0.05</td>\n",
       "    </tr>\n",
       "    <tr>\n",
       "      <th>9</th>\n",
       "      <td>28.0</td>\n",
       "      <td>nasa earth orbit mission launch satellite moon...</td>\n",
       "      <td>631b9549939bfaaca5600f20</td>\n",
       "      <td>main8</td>\n",
       "      <td>20newsgroups</td>\n",
       "      <td>NaN</td>\n",
       "      <td>good</td>\n",
       "      <td>{\"nasa\":false,\"earth\":false,\"orbit\":false,\"mis...</td>\n",
       "      <td>Space exploration</td>\n",
       "      <td>True</td>\n",
       "      <td>...</td>\n",
       "      <td>00021b7ad7--631df4c241d72e6d49540210</td>\n",
       "      <td>9c19d68db298943ca43bb07b3d320ac7</td>\n",
       "      <td>APPROVED</td>\n",
       "      <td>2022-09-11T14:46:26.065</td>\n",
       "      <td>2022-09-11T14:48:16.890</td>\n",
       "      <td>2022-09-11T14:48:16.890</td>\n",
       "      <td>NaN</td>\n",
       "      <td>NaN</td>\n",
       "      <td>NaN</td>\n",
       "      <td>0.05</td>\n",
       "    </tr>\n",
       "  </tbody>\n",
       "</table>\n",
       "<p>10 rows × 31 columns</p>\n",
       "</div>"
      ],
      "text/plain": [
       "   INPUT:exp_id                                      INPUT:wordset  \\\n",
       "0          28.0  driver sound running anybody memory wonder err...   \n",
       "1          28.0  argument colorado conclusion music letter fall...   \n",
       "2          28.0  love uiuc cwru thought guess wrong sorry frank...   \n",
       "3          28.0  engine modem rocket phone model yeast level fr...   \n",
       "4          28.0  turkish turkey turk armenia greek nazi azeri s...   \n",
       "5          28.0  country nazi germany german land europe money ...   \n",
       "6           NaN                                                NaN   \n",
       "7          28.0  attack lebanese muslim hernlem israeli left tr...   \n",
       "8          28.0  curve drug create libertarian email hold graph...   \n",
       "9          28.0  nasa earth orbit mission launch satellite moon...   \n",
       "\n",
       "             INPUT:model_id INPUT:topic_id INPUT:dataset_name  \\\n",
       "0  631ba815291a690c5875365a         main24       20newsgroups   \n",
       "1  631bb8282d85fb2da960a6a5         main72       20newsgroups   \n",
       "2  631b95224ac2fcd506e4781a          main4       20newsgroups   \n",
       "3  631ba1dba6fa8975eb579abd         main13       20newsgroups   \n",
       "4  631b96bea5a57837b841b5d1         main28       20newsgroups   \n",
       "5  631bb6faa5a57837b841d979          main3       20newsgroups   \n",
       "6                       NaN            NaN                NaN   \n",
       "7  631b96bea5a57837b841b5d1          main1       20newsgroups   \n",
       "8  631bb32427e1a64b30543798         main44       20newsgroups   \n",
       "9  631b9549939bfaaca5600f20          main8       20newsgroups   \n",
       "\n",
       "   INPUT:correct_bad_words OUTPUT:quality  \\\n",
       "0                      NaN     rather_bad   \n",
       "1                      NaN            bad   \n",
       "2                      NaN     rather_bad   \n",
       "3                      NaN     rather_bad   \n",
       "4                      NaN    rather_good   \n",
       "5                      NaN    rather_good   \n",
       "6                      NaN            NaN   \n",
       "7                      NaN           good   \n",
       "8                      NaN            bad   \n",
       "9                      NaN           good   \n",
       "\n",
       "                                    OUTPUT:bad_words   OUTPUT:topic_name  \\\n",
       "0  {\"driver\":false,\"sound\":false,\"running\":false,...                 NaN   \n",
       "1  {\"argument\":false,\"colorado\":false,\"conclusion...                 NaN   \n",
       "2  {\"love\":false,\"uiuc\":false,\"cwru\":false,\"thoug...                 NaN   \n",
       "3  {\"engine\":false,\"modem\":false,\"rocket\":false,\"...                 NaN   \n",
       "4  {\"turkish\":false,\"turkey\":false,\"turk\":false,\"...                Race   \n",
       "5  {\"country\":false,\"nazi\":false,\"germany\":true,\"...             Germany   \n",
       "6                                                NaN                 NaN   \n",
       "7  {\"attack\":false,\"lebanese\":false,\"muslim\":fals...                War    \n",
       "8  {\"curve\":false,\"drug\":false,\"create\":false,\"li...                 NaN   \n",
       "9  {\"nasa\":false,\"earth\":false,\"orbit\":false,\"mis...  Space exploration    \n",
       "\n",
       "  OUTPUT:golden_bad_words  ...              ASSIGNMENT:task_suite_id  \\\n",
       "0                    True  ...  00021b7ad7--631df4b9a3d75c31d7b50ce1   \n",
       "1                    True  ...  00021b7ad7--631df4b9a3d75c31d7b50ce1   \n",
       "2                    True  ...  00021b7ad7--631df4b9a3d75c31d7b50ce1   \n",
       "3                    True  ...  00021b7ad7--631df4b9a3d75c31d7b50ce1   \n",
       "4                    True  ...  00021b7ad7--631df4b9a3d75c31d7b50ce1   \n",
       "5                    True  ...  00021b7ad7--631df4b9a3d75c31d7b50ce1   \n",
       "6                     NaN  ...                                   NaN   \n",
       "7                    True  ...  00021b7ad7--631df4c241d72e6d49540210   \n",
       "8                    True  ...  00021b7ad7--631df4c241d72e6d49540210   \n",
       "9                    True  ...  00021b7ad7--631df4c241d72e6d49540210   \n",
       "\n",
       "               ASSIGNMENT:worker_id  ASSIGNMENT:status  \\\n",
       "0  35c9dec005edb17d8cc11946f9bc4b0f           APPROVED   \n",
       "1  35c9dec005edb17d8cc11946f9bc4b0f           APPROVED   \n",
       "2  35c9dec005edb17d8cc11946f9bc4b0f           APPROVED   \n",
       "3  35c9dec005edb17d8cc11946f9bc4b0f           APPROVED   \n",
       "4  35c9dec005edb17d8cc11946f9bc4b0f           APPROVED   \n",
       "5  35c9dec005edb17d8cc11946f9bc4b0f           APPROVED   \n",
       "6                               NaN                NaN   \n",
       "7  9c19d68db298943ca43bb07b3d320ac7           APPROVED   \n",
       "8  9c19d68db298943ca43bb07b3d320ac7           APPROVED   \n",
       "9  9c19d68db298943ca43bb07b3d320ac7           APPROVED   \n",
       "\n",
       "        ASSIGNMENT:started     ASSIGNMENT:submitted      ASSIGNMENT:accepted  \\\n",
       "0  2022-09-11T14:46:17.435  2022-09-11T14:48:35.368  2022-09-11T14:48:35.368   \n",
       "1  2022-09-11T14:46:17.435  2022-09-11T14:48:35.368  2022-09-11T14:48:35.368   \n",
       "2  2022-09-11T14:46:17.435  2022-09-11T14:48:35.368  2022-09-11T14:48:35.368   \n",
       "3  2022-09-11T14:46:17.435  2022-09-11T14:48:35.368  2022-09-11T14:48:35.368   \n",
       "4  2022-09-11T14:46:17.435  2022-09-11T14:48:35.368  2022-09-11T14:48:35.368   \n",
       "5  2022-09-11T14:46:17.435  2022-09-11T14:48:35.368  2022-09-11T14:48:35.368   \n",
       "6                      NaN                      NaN                      NaN   \n",
       "7  2022-09-11T14:46:26.065  2022-09-11T14:48:16.890  2022-09-11T14:48:16.890   \n",
       "8  2022-09-11T14:46:26.065  2022-09-11T14:48:16.890  2022-09-11T14:48:16.890   \n",
       "9  2022-09-11T14:46:26.065  2022-09-11T14:48:16.890  2022-09-11T14:48:16.890   \n",
       "\n",
       "   ASSIGNMENT:rejected  ASSIGNMENT:skipped ASSIGNMENT:expired  \\\n",
       "0                  NaN                 NaN                NaN   \n",
       "1                  NaN                 NaN                NaN   \n",
       "2                  NaN                 NaN                NaN   \n",
       "3                  NaN                 NaN                NaN   \n",
       "4                  NaN                 NaN                NaN   \n",
       "5                  NaN                 NaN                NaN   \n",
       "6                  NaN                 NaN                NaN   \n",
       "7                  NaN                 NaN                NaN   \n",
       "8                  NaN                 NaN                NaN   \n",
       "9                  NaN                 NaN                NaN   \n",
       "\n",
       "  ASSIGNMENT:reward  \n",
       "0              0.05  \n",
       "1              0.05  \n",
       "2              0.05  \n",
       "3              0.05  \n",
       "4              0.05  \n",
       "5              0.05  \n",
       "6               NaN  \n",
       "7              0.05  \n",
       "8              0.05  \n",
       "9              0.05  \n",
       "\n",
       "[10 rows x 31 columns]"
      ]
     },
     "execution_count": 4,
     "metadata": {},
     "output_type": "execute_result"
    }
   ],
   "source": [
    "df1 = pd.read_csv(FILE_1, sep=\"\\t\")\n",
    "df2 = pd.read_csv(FILE_2, sep=\"\\t\")\n",
    "df3 = pd.read_csv(FILE_3, sep=\"\\t\")\n",
    "df4 = pd.read_csv(FILE_4, sep=\"\\t\")\n",
    "\n",
    "data = pd.concat([df1, df2, df3, df4])\n",
    "\n",
    "data.head(10)"
   ]
  },
  {
   "cell_type": "markdown",
   "metadata": {},
   "source": [
    "## Data Preprocessing"
   ]
  },
  {
   "cell_type": "code",
   "execution_count": 5,
   "metadata": {},
   "outputs": [],
   "source": [
    "# check homogeneity of majority vote\n",
    "def check_homogeneity(assessments):\n",
    "    counts = Counter(assessments)\n",
    "    counter_sum = counts['good'] + counts['rather_good'] + counts['bad'] + counts['rather_bad']\n",
    "    return round(np.max(list(counts.values())) / counter_sum, 1)"
   ]
  },
  {
   "cell_type": "code",
   "execution_count": 6,
   "metadata": {},
   "outputs": [],
   "source": [
    "def get_assessment(assessments):\n",
    "    counter = Counter(assessments)\n",
    "    most_common = counter.most_common(2)\n",
    "\n",
    "    good, bad = ['good', 'rather_good'], ['bad', 'rather_bad']\n",
    "\n",
    "    if len(most_common) != 1 and most_common[0][1] == most_common[1][1]:\n",
    "        if most_common[0][0] in good and most_common[1][0] in good:\n",
    "            return 1\n",
    "        elif most_common[0][0] in bad and most_common[1][0] in bad:\n",
    "            return -1\n",
    "        else:\n",
    "            return 0\n",
    "    else:\n",
    "        return mapping[most_common[0][0]]"
   ]
  },
  {
   "cell_type": "code",
   "execution_count": 7,
   "metadata": {},
   "outputs": [
    {
     "name": "stdout",
     "output_type": "stream",
     "text": [
      "<class 'pandas.core.frame.DataFrame'>\n",
      "Int64Index: 25922 entries, 0 to 9906\n",
      "Data columns (total 31 columns):\n",
      " #   Column                        Non-Null Count  Dtype  \n",
      "---  ------                        --------------  -----  \n",
      " 0   INPUT:exp_id                  22216 non-null  float64\n",
      " 1   INPUT:wordset                 22216 non-null  object \n",
      " 2   INPUT:model_id                22216 non-null  object \n",
      " 3   INPUT:topic_id                22216 non-null  object \n",
      " 4   INPUT:dataset_name            22216 non-null  object \n",
      " 5   INPUT:correct_bad_words       0 non-null      float64\n",
      " 6   OUTPUT:quality                20854 non-null  object \n",
      " 7   OUTPUT:bad_words              20854 non-null  object \n",
      " 8   OUTPUT:topic_name             9015 non-null   object \n",
      " 9   OUTPUT:golden_bad_words       20854 non-null  object \n",
      " 10  OUTPUT:golden_binary_quality  20854 non-null  object \n",
      " 11  GOLDEN:quality                0 non-null      float64\n",
      " 12  GOLDEN:bad_words              0 non-null      float64\n",
      " 13  GOLDEN:topic_name             0 non-null      float64\n",
      " 14  GOLDEN:golden_bad_words       0 non-null      float64\n",
      " 15  GOLDEN:golden_binary_quality  3706 non-null   object \n",
      " 16  HINT:text                     0 non-null      float64\n",
      " 17  HINT:default_language         0 non-null      float64\n",
      " 18  ASSIGNMENT:link               22216 non-null  object \n",
      " 19  ASSIGNMENT:task_id            22216 non-null  object \n",
      " 20  ASSIGNMENT:assignment_id      22216 non-null  object \n",
      " 21  ASSIGNMENT:task_suite_id      22216 non-null  object \n",
      " 22  ASSIGNMENT:worker_id          22216 non-null  object \n",
      " 23  ASSIGNMENT:status             22216 non-null  object \n",
      " 24  ASSIGNMENT:started            22216 non-null  object \n",
      " 25  ASSIGNMENT:submitted          20854 non-null  object \n",
      " 26  ASSIGNMENT:accepted           20854 non-null  object \n",
      " 27  ASSIGNMENT:rejected           0 non-null      float64\n",
      " 28  ASSIGNMENT:skipped            36 non-null     object \n",
      " 29  ASSIGNMENT:expired            1326 non-null   object \n",
      " 30  ASSIGNMENT:reward             22216 non-null  float64\n",
      "dtypes: float64(10), object(21)\n",
      "memory usage: 6.3+ MB\n"
     ]
    }
   ],
   "source": [
    "data.info()"
   ]
  },
  {
   "cell_type": "code",
   "execution_count": 8,
   "metadata": {},
   "outputs": [
    {
     "name": "stdout",
     "output_type": "stream",
     "text": [
      "Index(['INPUT:exp_id', 'INPUT:wordset', 'INPUT:model_id', 'INPUT:topic_id',\n",
      "       'INPUT:dataset_name', 'INPUT:correct_bad_words', 'OUTPUT:quality',\n",
      "       'OUTPUT:bad_words', 'OUTPUT:topic_name', 'OUTPUT:golden_bad_words',\n",
      "       'OUTPUT:golden_binary_quality', 'GOLDEN:quality', 'GOLDEN:bad_words',\n",
      "       'GOLDEN:topic_name', 'GOLDEN:golden_bad_words',\n",
      "       'GOLDEN:golden_binary_quality', 'HINT:text', 'HINT:default_language',\n",
      "       'ASSIGNMENT:link', 'ASSIGNMENT:task_id', 'ASSIGNMENT:assignment_id',\n",
      "       'ASSIGNMENT:task_suite_id', 'ASSIGNMENT:worker_id', 'ASSIGNMENT:status',\n",
      "       'ASSIGNMENT:started', 'ASSIGNMENT:submitted', 'ASSIGNMENT:accepted',\n",
      "       'ASSIGNMENT:rejected', 'ASSIGNMENT:skipped', 'ASSIGNMENT:expired',\n",
      "       'ASSIGNMENT:reward'],\n",
      "      dtype='object')\n"
     ]
    }
   ],
   "source": [
    "print(data.columns)"
   ]
  },
  {
   "cell_type": "code",
   "execution_count": 9,
   "metadata": {},
   "outputs": [
    {
     "name": "stdout",
     "output_type": "stream",
     "text": [
      "<class 'pandas.core.frame.DataFrame'>\n",
      "Int64Index: 22216 entries, 0 to 9905\n",
      "Data columns (total 23 columns):\n",
      " #   Column                        Non-Null Count  Dtype  \n",
      "---  ------                        --------------  -----  \n",
      " 0   INPUT:exp_id                  22216 non-null  float64\n",
      " 1   INPUT:wordset                 22216 non-null  object \n",
      " 2   INPUT:model_id                22216 non-null  object \n",
      " 3   INPUT:topic_id                22216 non-null  object \n",
      " 4   INPUT:dataset_name            22216 non-null  object \n",
      " 5   OUTPUT:quality                20854 non-null  object \n",
      " 6   OUTPUT:bad_words              20854 non-null  object \n",
      " 7   OUTPUT:topic_name             9015 non-null   object \n",
      " 8   OUTPUT:golden_bad_words       20854 non-null  object \n",
      " 9   OUTPUT:golden_binary_quality  20854 non-null  object \n",
      " 10  GOLDEN:golden_binary_quality  3706 non-null   object \n",
      " 11  ASSIGNMENT:link               22216 non-null  object \n",
      " 12  ASSIGNMENT:task_id            22216 non-null  object \n",
      " 13  ASSIGNMENT:assignment_id      22216 non-null  object \n",
      " 14  ASSIGNMENT:task_suite_id      22216 non-null  object \n",
      " 15  ASSIGNMENT:worker_id          22216 non-null  object \n",
      " 16  ASSIGNMENT:status             22216 non-null  object \n",
      " 17  ASSIGNMENT:started            22216 non-null  object \n",
      " 18  ASSIGNMENT:submitted          20854 non-null  object \n",
      " 19  ASSIGNMENT:accepted           20854 non-null  object \n",
      " 20  ASSIGNMENT:skipped            36 non-null     object \n",
      " 21  ASSIGNMENT:expired            1326 non-null   object \n",
      " 22  ASSIGNMENT:reward             22216 non-null  float64\n",
      "dtypes: float64(2), object(21)\n",
      "memory usage: 4.1+ MB\n"
     ]
    }
   ],
   "source": [
    "# Remove rows with NaNs\n",
    "data.dropna(axis=0, how='all', inplace=True)\n",
    "# Remove columns with NaNs\n",
    "data.dropna(axis=1, how='all', inplace=True)\n",
    "data.info()"
   ]
  },
  {
   "cell_type": "code",
   "execution_count": 10,
   "metadata": {},
   "outputs": [
    {
     "name": "stdout",
     "output_type": "stream",
     "text": [
      "The number of duplicate rows: 0\n"
     ]
    }
   ],
   "source": [
    "print(\"The number of duplicate rows:\", sum(data.duplicated()))"
   ]
  },
  {
   "cell_type": "code",
   "execution_count": 11,
   "metadata": {},
   "outputs": [
    {
     "name": "stdout",
     "output_type": "stream",
     "text": [
      "Example of the wordset: driver sound running anybody memory wonder error fine works appreciate check tape machine sorry utexas\n"
     ]
    }
   ],
   "source": [
    "print(\"Example of the wordset:\", data.iloc[0][\"INPUT:wordset\"])"
   ]
  },
  {
   "cell_type": "code",
   "execution_count": 12,
   "metadata": {},
   "outputs": [
    {
     "name": "stdout",
     "output_type": "stream",
     "text": [
      "The number of skipped responses: 36\n"
     ]
    }
   ],
   "source": [
    "# Check skipped responses\n",
    "\n",
    "print(f'The number of skipped responses: {len(data[data[\"ASSIGNMENT:skipped\"].notnull()])}')\n",
    "# Remove all skipped responses\n",
    "data = data[data[\"ASSIGNMENT:skipped\"].isna()]"
   ]
  },
  {
   "cell_type": "code",
   "execution_count": 13,
   "metadata": {},
   "outputs": [
    {
     "name": "stdout",
     "output_type": "stream",
     "text": [
      "The number of expared responses: 1326\n"
     ]
    }
   ],
   "source": [
    "# Check expared responses\n",
    "\n",
    "print(f'The number of expared responses: {len(data[data[\"ASSIGNMENT:expired\"].notnull()])}')\n",
    "# Remove all expired responses\n",
    "data = data[data[\"ASSIGNMENT:expired\"].isna()]"
   ]
  },
  {
   "cell_type": "code",
   "execution_count": 14,
   "metadata": {},
   "outputs": [
    {
     "name": "stdout",
     "output_type": "stream",
     "text": [
      "Minimum response time: 5 sec\n",
      "Maximum response time: 168 sec\n"
     ]
    }
   ],
   "source": [
    "# Calculate the duration of the response\n",
    "\n",
    "# Convert from str to datetime\n",
    "to_datetime = lambda x: dateutil.parser.parse(x)\n",
    "\n",
    "data[\"ASSIGNMENT:submitted\"] = [to_datetime(date) for date in data[\"ASSIGNMENT:submitted\"].values]\n",
    "data[\"ASSIGNMENT:started\"] = [to_datetime(date) for date in data[\"ASSIGNMENT:started\"].values]\n",
    "\n",
    "data[\"ASSIGMNENT:time\"] = data[\"ASSIGNMENT:submitted\"] - data[\"ASSIGNMENT:started\"]\n",
    "\n",
    "to_seconds = lambda x: x.seconds \n",
    "\n",
    "data[\"ASSIGMNENT:time\"] = [to_seconds(date) for date in data[\"ASSIGMNENT:time\"]]\n",
    "time_diff = data[\"ASSIGMNENT:time\"].value_counts(ascending=True)\n",
    "\n",
    "print(f\"Minimum response time: {min(time_diff)} sec\")\n",
    "print(f\"Maximum response time: {max(time_diff)} sec\")"
   ]
  },
  {
   "cell_type": "code",
   "execution_count": 15,
   "metadata": {},
   "outputs": [
    {
     "name": "stdout",
     "output_type": "stream",
     "text": [
      "The number of experts: 912\n"
     ]
    }
   ],
   "source": [
    "# Check the number of experts\n",
    "print(f'The number of experts: {len(set(data[\"ASSIGNMENT:worker_id\"]))}')"
   ]
  },
  {
   "cell_type": "code",
   "execution_count": 16,
   "metadata": {},
   "outputs": [],
   "source": [
    "# Remove rows with empty 'OUTPUT:quality' field\n",
    "data.dropna(subset=['OUTPUT:quality'], inplace=True)"
   ]
  },
  {
   "cell_type": "code",
   "execution_count": 17,
   "metadata": {},
   "outputs": [
    {
     "name": "stdout",
     "output_type": "stream",
     "text": [
      "Datasets in the data: {'amazon_food', '20newsgroups'}\n"
     ]
    }
   ],
   "source": [
    "# Check the dataset names\n",
    "print(\"Datasets in the data:\", set(data[\"INPUT:dataset_name\"]))"
   ]
  },
  {
   "cell_type": "code",
   "execution_count": 18,
   "metadata": {},
   "outputs": [
    {
     "name": "stdout",
     "output_type": "stream",
     "text": [
      "The number of topic model: 200\n"
     ]
    }
   ],
   "source": [
    "# Check the number of models\n",
    "print(f\"The number of topic model: {data['INPUT:model_id'].unique().size}\")\n"
   ]
  },
  {
   "cell_type": "code",
   "execution_count": 19,
   "metadata": {},
   "outputs": [
    {
     "name": "stdout",
     "output_type": "stream",
     "text": [
      "The number of unique topics in terms of word set: 3246\n"
     ]
    }
   ],
   "source": [
    "# Check the number of unique topics\n",
    "topics = data['INPUT:wordset'].unique()\n",
    "topics = [topic.split() for topic in topics]\n",
    "\n",
    "topics_lst = []  # all topics\n",
    "for topic in topics:\n",
    "    topics_lst.extend(topic)\n",
    "\n",
    "print(f\"The number of unique topics in terms of word set: {len(set(topics_lst))}\")"
   ]
  },
  {
   "cell_type": "code",
   "execution_count": 20,
   "metadata": {},
   "outputs": [
    {
     "name": "stdout",
     "output_type": "stream",
     "text": [
      "The number of unique worsets: 3861\n"
     ]
    }
   ],
   "source": [
    "# Check the number of unique worsets\n",
    "print(\"The number of unique worsets:\", len(set(data[\"INPUT:wordset\"])))"
   ]
  },
  {
   "cell_type": "markdown",
   "metadata": {},
   "source": [
    "### Сreate a dataset of topics and their assessments\n",
    "\n",
    "wordset + model + dataset_name aggregation"
   ]
  },
  {
   "cell_type": "code",
   "execution_count": 21,
   "metadata": {},
   "outputs": [
    {
     "data": {
      "text/html": [
       "<div>\n",
       "<style scoped>\n",
       "    .dataframe tbody tr th:only-of-type {\n",
       "        vertical-align: middle;\n",
       "    }\n",
       "\n",
       "    .dataframe tbody tr th {\n",
       "        vertical-align: top;\n",
       "    }\n",
       "\n",
       "    .dataframe thead th {\n",
       "        text-align: right;\n",
       "    }\n",
       "</style>\n",
       "<table border=\"1\" class=\"dataframe\">\n",
       "  <thead>\n",
       "    <tr style=\"text-align: right;\">\n",
       "      <th></th>\n",
       "      <th>INPUT:wordset</th>\n",
       "      <th>INPUT:model_id</th>\n",
       "      <th>INPUT:dataset_name</th>\n",
       "      <th>OUTPUT:quality</th>\n",
       "    </tr>\n",
       "  </thead>\n",
       "  <tbody>\n",
       "    <tr>\n",
       "      <th>1503</th>\n",
       "      <td>food gatech rochester purdue prism language ta...</td>\n",
       "      <td>631bb8e676cc1f8ca8886ea6</td>\n",
       "      <td>20newsgroups</td>\n",
       "      <td>[rather_bad, bad, bad, bad, bad]</td>\n",
       "    </tr>\n",
       "    <tr>\n",
       "      <th>3244</th>\n",
       "      <td>put thought anything something nothing else st...</td>\n",
       "      <td>632315134bb36217238e194a</td>\n",
       "      <td>amazon_food</td>\n",
       "      <td>[bad, rather_good, good]</td>\n",
       "    </tr>\n",
       "    <tr>\n",
       "      <th>3174</th>\n",
       "      <td>printer radio design print signal quality engi...</td>\n",
       "      <td>631b8a9b17dc5fce149d08a8</td>\n",
       "      <td>20newsgroups</td>\n",
       "      <td>[good, good, good, good, good]</td>\n",
       "    </tr>\n",
       "    <tr>\n",
       "      <th>4303</th>\n",
       "      <td>without help morning son oatmeal skin warm dai...</td>\n",
       "      <td>632311adb9644773b836ff99</td>\n",
       "      <td>amazon_food</td>\n",
       "      <td>[bad, rather_bad, good]</td>\n",
       "    </tr>\n",
       "    <tr>\n",
       "      <th>1345</th>\n",
       "      <td>especially often mind set instant five decent ...</td>\n",
       "      <td>6323133ccda35d2841a0215c</td>\n",
       "      <td>amazon_food</td>\n",
       "      <td>[bad, bad, bad]</td>\n",
       "    </tr>\n",
       "  </tbody>\n",
       "</table>\n",
       "</div>"
      ],
      "text/plain": [
       "                                          INPUT:wordset  \\\n",
       "1503  food gatech rochester purdue prism language ta...   \n",
       "3244  put thought anything something nothing else st...   \n",
       "3174  printer radio design print signal quality engi...   \n",
       "4303  without help morning son oatmeal skin warm dai...   \n",
       "1345  especially often mind set instant five decent ...   \n",
       "\n",
       "                INPUT:model_id INPUT:dataset_name  \\\n",
       "1503  631bb8e676cc1f8ca8886ea6       20newsgroups   \n",
       "3244  632315134bb36217238e194a        amazon_food   \n",
       "3174  631b8a9b17dc5fce149d08a8       20newsgroups   \n",
       "4303  632311adb9644773b836ff99        amazon_food   \n",
       "1345  6323133ccda35d2841a0215c        amazon_food   \n",
       "\n",
       "                        OUTPUT:quality  \n",
       "1503  [rather_bad, bad, bad, bad, bad]  \n",
       "3244          [bad, rather_good, good]  \n",
       "3174    [good, good, good, good, good]  \n",
       "4303           [bad, rather_bad, good]  \n",
       "1345                   [bad, bad, bad]  "
      ]
     },
     "execution_count": 21,
     "metadata": {},
     "output_type": "execute_result"
    }
   ],
   "source": [
    "assessments = data.groupby(['INPUT:wordset', 'INPUT:model_id', 'INPUT:dataset_name'])['OUTPUT:quality'].apply(list).reset_index()\n",
    "assessments.sample(5)"
   ]
  },
  {
   "cell_type": "code",
   "execution_count": 22,
   "metadata": {},
   "outputs": [
    {
     "data": {
      "text/html": [
       "<div>\n",
       "<style scoped>\n",
       "    .dataframe tbody tr th:only-of-type {\n",
       "        vertical-align: middle;\n",
       "    }\n",
       "\n",
       "    .dataframe tbody tr th {\n",
       "        vertical-align: top;\n",
       "    }\n",
       "\n",
       "    .dataframe thead th {\n",
       "        text-align: right;\n",
       "    }\n",
       "</style>\n",
       "<table border=\"1\" class=\"dataframe\">\n",
       "  <thead>\n",
       "    <tr style=\"text-align: right;\">\n",
       "      <th></th>\n",
       "      <th>INPUT:wordset</th>\n",
       "      <th>INPUT:model_id</th>\n",
       "      <th>INPUT:dataset_name</th>\n",
       "      <th>OUTPUT:quality</th>\n",
       "      <th>homogeneity</th>\n",
       "    </tr>\n",
       "  </thead>\n",
       "  <tbody>\n",
       "    <tr>\n",
       "      <th>2081</th>\n",
       "      <td>kill child weapon crime fire firearm woman dea...</td>\n",
       "      <td>631b8a30b0950bb2e7890f63</td>\n",
       "      <td>20newsgroups</td>\n",
       "      <td>[good, good, good, good, rather_good]</td>\n",
       "      <td>0.8</td>\n",
       "    </tr>\n",
       "    <tr>\n",
       "      <th>4162</th>\n",
       "      <td>water internet marc tower heat nuclear plant c...</td>\n",
       "      <td>631ba4ee31be382c45bf3734</td>\n",
       "      <td>20newsgroups</td>\n",
       "      <td>[good, bad, bad, bad, rather_bad]</td>\n",
       "      <td>0.6</td>\n",
       "    </tr>\n",
       "    <tr>\n",
       "      <th>2579</th>\n",
       "      <td>news email usenet anonymous message service ne...</td>\n",
       "      <td>631bb6faa5a57837b841d979</td>\n",
       "      <td>20newsgroups</td>\n",
       "      <td>[rather_good, good, rather_good, good, rather_...</td>\n",
       "      <td>0.6</td>\n",
       "    </tr>\n",
       "    <tr>\n",
       "      <th>4058</th>\n",
       "      <td>turkish turk genoc soviet turkey russian armen...</td>\n",
       "      <td>631ba91879ac792348a7f218</td>\n",
       "      <td>20newsgroups</td>\n",
       "      <td>[good, good, good, good, bad]</td>\n",
       "      <td>0.8</td>\n",
       "    </tr>\n",
       "    <tr>\n",
       "      <th>1803</th>\n",
       "      <td>homosexual andrew james cleveland cwru lost ch...</td>\n",
       "      <td>631b9549939bfaaca5600f20</td>\n",
       "      <td>20newsgroups</td>\n",
       "      <td>[bad, rather_bad, bad, rather_bad, bad]</td>\n",
       "      <td>0.6</td>\n",
       "    </tr>\n",
       "  </tbody>\n",
       "</table>\n",
       "</div>"
      ],
      "text/plain": [
       "                                          INPUT:wordset  \\\n",
       "2081  kill child weapon crime fire firearm woman dea...   \n",
       "4162  water internet marc tower heat nuclear plant c...   \n",
       "2579  news email usenet anonymous message service ne...   \n",
       "4058  turkish turk genoc soviet turkey russian armen...   \n",
       "1803  homosexual andrew james cleveland cwru lost ch...   \n",
       "\n",
       "                INPUT:model_id INPUT:dataset_name  \\\n",
       "2081  631b8a30b0950bb2e7890f63       20newsgroups   \n",
       "4162  631ba4ee31be382c45bf3734       20newsgroups   \n",
       "2579  631bb6faa5a57837b841d979       20newsgroups   \n",
       "4058  631ba91879ac792348a7f218       20newsgroups   \n",
       "1803  631b9549939bfaaca5600f20       20newsgroups   \n",
       "\n",
       "                                         OUTPUT:quality  homogeneity  \n",
       "2081              [good, good, good, good, rather_good]          0.8  \n",
       "4162                  [good, bad, bad, bad, rather_bad]          0.6  \n",
       "2579  [rather_good, good, rather_good, good, rather_...          0.6  \n",
       "4058                      [good, good, good, good, bad]          0.8  \n",
       "1803            [bad, rather_bad, bad, rather_bad, bad]          0.6  "
      ]
     },
     "execution_count": 22,
     "metadata": {},
     "output_type": "execute_result"
    }
   ],
   "source": [
    "assessments['homogeneity'] = assessments['OUTPUT:quality'].apply(lambda x: check_homogeneity(x))\n",
    "assessments.sample(5)"
   ]
  },
  {
   "cell_type": "code",
   "execution_count": 23,
   "metadata": {},
   "outputs": [
    {
     "data": {
      "image/png": "[encoded data removed]",
      "text/plain": [
       "<Figure size 640x480 with 1 Axes>"
      ]
     },
     "metadata": {},
     "output_type": "display_data"
    }
   ],
   "source": [
    "ax = sns.countplot(data=assessments, x=\"homogeneity\", color=\"#3A3875\")\n",
    "ax.set_title(\"Homogenity of the majority voting (wordset + model + dataset_name agg)\")\n",
    "ax.bar_label(ax.containers[0])\n",
    "\n",
    "plt.show()\n"
   ]
  },
  {
   "cell_type": "markdown",
   "metadata": {},
   "source": [
    "In the majority of cases, the assessors' answers are somewhat similar."
   ]
  },
  {
   "cell_type": "code",
   "execution_count": 24,
   "metadata": {},
   "outputs": [],
   "source": [
    "mapping = {'bad': -2,\n",
    "           'rather_bad': -1,\n",
    "           'rather_good': 1,\n",
    "           'good': 2}\n",
    "\n",
    "# get final assessment\n",
    "assessments['assessment'] = assessments['OUTPUT:quality'].apply(lambda x: get_assessment(x))"
   ]
  },
  {
   "cell_type": "code",
   "execution_count": 30,
   "metadata": {},
   "outputs": [
    {
     "name": "stderr",
     "output_type": "stream",
     "text": [
      "/tmp/ipykernel_21916/1075249190.py:6: UserWarning: FixedFormatter should only be used together with FixedLocator\n",
      "  ax.set_xticklabels(custom_labels)\n"
     ]
    },
    {
     "data": {
      "image/png": "[encoded data removed]",
      "text/plain": [
       "<Figure size 1000x500 with 1 Axes>"
      ]
     },
     "metadata": {},
     "output_type": "display_data"
    }
   ],
   "source": [
    "plt.figure(figsize=(10,5))\n",
    "ax = sns.countplot(data=assessments, x=\"assessment\", color=\"#3A3875\", order=[-2, -1, 0, 1, 2])\n",
    "ax.set_title(\"The distribution of answers (five classes)\", fontsize=15)\n",
    "ax.bar_label(ax.containers[0], fontsize=12)\n",
    "custom_labels = [\"bad\", \"rather_bad\", \"neutral\", \"rather_good\", \"good\"]\n",
    "ax.set_xticklabels(custom_labels)\n",
    "\n",
    "plt.xticks(fontsize=14)\n",
    "plt.yticks(fontsize=14)\n",
    "    \n",
    "ax.set_xlabel('Response', fontsize=14)\n",
    "ax.set_ylabel('Count', fontsize=14)\n",
    "\n",
    "plt.show()"
   ]
  },
  {
   "cell_type": "code",
   "execution_count": 26,
   "metadata": {},
   "outputs": [],
   "source": [
    "# Save dataset \"assessments\" for results analysis\n",
    "DATASETS_DIR = BASE_DIR.joinpath('data/datasets')\n",
    "\n",
    "FILE_NAME = \"words_consistensy_model_agg.csv\"\n",
    "\n",
    "FILE = DATASETS_DIR.joinpath(FILE_NAME)\n",
    "\n",
    "assessments.to_csv(FILE)"
   ]
  },
  {
   "cell_type": "markdown",
   "metadata": {},
   "source": [
    "wordset + dataset_name aggregation"
   ]
  },
  {
   "cell_type": "code",
   "execution_count": 27,
   "metadata": {},
   "outputs": [
    {
     "data": {
      "text/html": [
       "<div>\n",
       "<style scoped>\n",
       "    .dataframe tbody tr th:only-of-type {\n",
       "        vertical-align: middle;\n",
       "    }\n",
       "\n",
       "    .dataframe tbody tr th {\n",
       "        vertical-align: top;\n",
       "    }\n",
       "\n",
       "    .dataframe thead th {\n",
       "        text-align: right;\n",
       "    }\n",
       "</style>\n",
       "<table border=\"1\" class=\"dataframe\">\n",
       "  <thead>\n",
       "    <tr style=\"text-align: right;\">\n",
       "      <th></th>\n",
       "      <th>INPUT:wordset</th>\n",
       "      <th>INPUT:dataset_name</th>\n",
       "      <th>OUTPUT:quality</th>\n",
       "    </tr>\n",
       "  </thead>\n",
       "  <tbody>\n",
       "    <tr>\n",
       "      <th>975</th>\n",
       "      <td>drinking aftertaste mild espresso might weird ...</td>\n",
       "      <td>amazon_food</td>\n",
       "      <td>[bad, rather_good, good, rather_bad, good, rat...</td>\n",
       "    </tr>\n",
       "    <tr>\n",
       "      <th>2736</th>\n",
       "      <td>price phone bike sell email internet company o...</td>\n",
       "      <td>20newsgroups</td>\n",
       "      <td>[good, bad, bad, bad, bad]</td>\n",
       "    </tr>\n",
       "    <tr>\n",
       "      <th>1140</th>\n",
       "      <td>engineering music motorcycle letter weaver bru...</td>\n",
       "      <td>20newsgroups</td>\n",
       "      <td>[bad, bad, bad, bad, rather_bad]</td>\n",
       "    </tr>\n",
       "    <tr>\n",
       "      <th>1421</th>\n",
       "      <td>green protein powder meal vitamin mixed fiber ...</td>\n",
       "      <td>amazon_food</td>\n",
       "      <td>[good, good, rather_bad, good, rather_good, ra...</td>\n",
       "    </tr>\n",
       "    <tr>\n",
       "      <th>1008</th>\n",
       "      <td>driver sound card light crash running latest g...</td>\n",
       "      <td>20newsgroups</td>\n",
       "      <td>[bad, rather_bad, bad, rather_good, rather_bad]</td>\n",
       "    </tr>\n",
       "  </tbody>\n",
       "</table>\n",
       "</div>"
      ],
      "text/plain": [
       "                                          INPUT:wordset INPUT:dataset_name  \\\n",
       "975   drinking aftertaste mild espresso might weird ...        amazon_food   \n",
       "2736  price phone bike sell email internet company o...       20newsgroups   \n",
       "1140  engineering music motorcycle letter weaver bru...       20newsgroups   \n",
       "1421  green protein powder meal vitamin mixed fiber ...        amazon_food   \n",
       "1008  driver sound card light crash running latest g...       20newsgroups   \n",
       "\n",
       "                                         OUTPUT:quality  \n",
       "975   [bad, rather_good, good, rather_bad, good, rat...  \n",
       "2736                         [good, bad, bad, bad, bad]  \n",
       "1140                   [bad, bad, bad, bad, rather_bad]  \n",
       "1421  [good, good, rather_bad, good, rather_good, ra...  \n",
       "1008    [bad, rather_bad, bad, rather_good, rather_bad]  "
      ]
     },
     "execution_count": 27,
     "metadata": {},
     "output_type": "execute_result"
    }
   ],
   "source": [
    "assessments2 = data.groupby(['INPUT:wordset', 'INPUT:dataset_name'])['OUTPUT:quality'].apply(list).reset_index()\n",
    "assessments2.sample(5)"
   ]
  },
  {
   "cell_type": "code",
   "execution_count": 28,
   "metadata": {},
   "outputs": [
    {
     "data": {
      "text/html": [
       "<div>\n",
       "<style scoped>\n",
       "    .dataframe tbody tr th:only-of-type {\n",
       "        vertical-align: middle;\n",
       "    }\n",
       "\n",
       "    .dataframe tbody tr th {\n",
       "        vertical-align: top;\n",
       "    }\n",
       "\n",
       "    .dataframe thead th {\n",
       "        text-align: right;\n",
       "    }\n",
       "</style>\n",
       "<table border=\"1\" class=\"dataframe\">\n",
       "  <thead>\n",
       "    <tr style=\"text-align: right;\">\n",
       "      <th></th>\n",
       "      <th>INPUT:wordset</th>\n",
       "      <th>INPUT:dataset_name</th>\n",
       "      <th>OUTPUT:quality</th>\n",
       "      <th>homogeneity</th>\n",
       "    </tr>\n",
       "  </thead>\n",
       "  <tbody>\n",
       "    <tr>\n",
       "      <th>3020</th>\n",
       "      <td>robert chicago jason info education member pre...</td>\n",
       "      <td>20newsgroups</td>\n",
       "      <td>[rather_bad, bad, bad, rather_bad, bad]</td>\n",
       "      <td>0.6</td>\n",
       "    </tr>\n",
       "    <tr>\n",
       "      <th>216</th>\n",
       "      <td>back wonderful next life mouth issue thank lef...</td>\n",
       "      <td>amazon_food</td>\n",
       "      <td>[rather_bad, bad, rather_bad]</td>\n",
       "      <td>0.7</td>\n",
       "    </tr>\n",
       "    <tr>\n",
       "      <th>435</th>\n",
       "      <td>breakfast packet indiv pour convenient wrap co...</td>\n",
       "      <td>amazon_food</td>\n",
       "      <td>[bad, bad, bad]</td>\n",
       "      <td>1.0</td>\n",
       "    </tr>\n",
       "    <tr>\n",
       "      <th>3046</th>\n",
       "      <td>saturn nasa liar fool crazy dealer gsfc lunati...</td>\n",
       "      <td>20newsgroups</td>\n",
       "      <td>[bad, bad, rather_bad, bad, bad]</td>\n",
       "      <td>0.8</td>\n",
       "    </tr>\n",
       "    <tr>\n",
       "      <th>3670</th>\n",
       "      <td>weapon firearm police auto safety semi handgun...</td>\n",
       "      <td>20newsgroups</td>\n",
       "      <td>[rather_good, good, good, good, good]</td>\n",
       "      <td>0.8</td>\n",
       "    </tr>\n",
       "  </tbody>\n",
       "</table>\n",
       "</div>"
      ],
      "text/plain": [
       "                                          INPUT:wordset INPUT:dataset_name  \\\n",
       "3020  robert chicago jason info education member pre...       20newsgroups   \n",
       "216   back wonderful next life mouth issue thank lef...        amazon_food   \n",
       "435   breakfast packet indiv pour convenient wrap co...        amazon_food   \n",
       "3046  saturn nasa liar fool crazy dealer gsfc lunati...       20newsgroups   \n",
       "3670  weapon firearm police auto safety semi handgun...       20newsgroups   \n",
       "\n",
       "                               OUTPUT:quality  homogeneity  \n",
       "3020  [rather_bad, bad, bad, rather_bad, bad]          0.6  \n",
       "216             [rather_bad, bad, rather_bad]          0.7  \n",
       "435                           [bad, bad, bad]          1.0  \n",
       "3046         [bad, bad, rather_bad, bad, bad]          0.8  \n",
       "3670    [rather_good, good, good, good, good]          0.8  "
      ]
     },
     "execution_count": 28,
     "metadata": {},
     "output_type": "execute_result"
    }
   ],
   "source": [
    "assessments2['homogeneity'] = assessments2['OUTPUT:quality'].apply(lambda x: check_homogeneity(x))\n",
    "assessments2.sample(5)"
   ]
  },
  {
   "cell_type": "code",
   "execution_count": 29,
   "metadata": {},
   "outputs": [
    {
     "name": "stdout",
     "output_type": "stream",
     "text": [
      "Are there duplicates in the word sets? False\n"
     ]
    }
   ],
   "source": [
    "print(\"Are there duplicates in the word sets?\", bool(sum(assessments2['INPUT:wordset'].duplicated())))"
   ]
  },
  {
   "cell_type": "code",
   "execution_count": 30,
   "metadata": {},
   "outputs": [
    {
     "data": {
      "image/png": "[encoded data removed]",
      "text/plain": [
       "<Figure size 640x480 with 1 Axes>"
      ]
     },
     "metadata": {},
     "output_type": "display_data"
    }
   ],
   "source": [
    "ax = sns.countplot(data=assessments2, x=\"homogeneity\", color=\"#3A3875\")\n",
    "ax.set_title(\"Homogenity of the majority voting (wordset + dataset_name agg)\")\n",
    "ax.bar_label(ax.containers[0])\n",
    "\n",
    "plt.show()"
   ]
  },
  {
   "cell_type": "code",
   "execution_count": 31,
   "metadata": {},
   "outputs": [],
   "source": [
    "# get final assessment\n",
    "assessments2['assessment'] = assessments2['OUTPUT:quality'].apply(lambda x: get_assessment(x))"
   ]
  },
  {
   "cell_type": "code",
   "execution_count": 32,
   "metadata": {},
   "outputs": [
    {
     "name": "stderr",
     "output_type": "stream",
     "text": [
      "/tmp/ipykernel_73614/1320230111.py:6: UserWarning: FixedFormatter should only be used together with FixedLocator\n",
      "  ax.set_xticklabels(custom_labels)\n"
     ]
    },
    {
     "data": {
      "image/png": "[encoded data removed]",
      "text/plain": [
       "<Figure size 640x480 with 1 Axes>"
      ]
     },
     "metadata": {},
     "output_type": "display_data"
    }
   ],
   "source": [
    "ax = sns.countplot(data=assessments2, x=\"assessment\", color=\"#3A3875\", order=[-2, -1, 0, 1, 2])\n",
    "ax.set_title(\"Final assessment (wordset + dataset_name agg)\")\n",
    "ax.bar_label(ax.containers[0])\n",
    "\n",
    "custom_labels = [\"bad\", \"rather_bad\", \"neutral\", \"rather_good\", \"good\"]\n",
    "ax.set_xticklabels(custom_labels)\n",
    "\n",
    "plt.show()"
   ]
  },
  {
   "cell_type": "code",
   "execution_count": 34,
   "metadata": {},
   "outputs": [],
   "source": [
    "# Save dataset \"assessments2\" for calculations\n",
    "DATASETS_DIR = BASE_DIR.joinpath('data/datasets')\n",
    "\n",
    "FILE_NAME = \"words_consistensy_wordset_dataset_agg.csv\"\n",
    "\n",
    "FILE = DATASETS_DIR.joinpath(FILE_NAME)\n",
    "\n",
    "assessments2.to_csv(FILE, index=False)"
   ]
  },
  {
   "cell_type": "code",
   "execution_count": null,
   "metadata": {},
   "outputs": [],
   "source": []
  }
 ],
 "metadata": {
  "kernelspec": {
   "display_name": "Python 3",
   "language": "python",
   "name": "python3"
  },
  "language_info": {
   "codemirror_mode": {
    "name": "ipython",
    "version": 3
   },
   "file_extension": ".py",
   "mimetype": "text/x-python",
   "name": "python",
   "nbconvert_exporter": "python",
   "pygments_lexer": "ipython3",
   "version": "3.9.7"
  }
 },
 "nbformat": 4,
 "nbformat_minor": 2
}
