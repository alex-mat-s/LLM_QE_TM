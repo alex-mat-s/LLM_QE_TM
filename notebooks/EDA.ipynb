{
 "cells": [
  {
   "cell_type": "markdown",
   "id": "479eb69e",
   "metadata": {},
   "source": [
    "### Dataset info\n",
    "Each chosen model went through a human assessment performed with the following methodology. Each of the assessors was given several tasks, which consisted of two parts:\n",
    "\n",
    "1. Select one of four categories-characteristics of the provided set of tokens by answering the question ”Is it\n",
    "possible to determine a common topic for the presented word set or at least for the most part of the set?”. They could answer one of the following: yes - if they agree with the statement and words have a strong connection between them, rather yes - if some words are too common or out of topic, rather no - if the amount of irrelevant words is high to determine a topic or there is a mixture of topics, no - when words seem to be unconnected.\n",
    "\n",
    "2. In case of answering yes or rather yes on the first part of the task, assessors were asked to mark the words that they think are out of the topic. Also, they are asked to enter the topic’s name in free form (Name the common topic with one or few words)."
   ]
  },
  {
   "cell_type": "code",
   "execution_count": 117,
   "id": "48e01f8a",
   "metadata": {},
   "outputs": [],
   "source": [
    "from pathlib import Path\n",
    "import pandas as pd\n",
    "import seaborn as sns\n",
    "import dateutil\n",
    "import numpy as np\n",
    "from crowdkit.aggregation import MajorityVote, Wawa, DawidSkene\n",
    "import re\n",
    "import matplotlib.pyplot as plt\n",
    "\n",
    "import sys\n",
    "import os\n",
    "sys.path.append(os.path.join(sys.path[0], '../src'))\n",
    "\n",
    "from data_preprocessing import TextPreprocessor"
   ]
  },
  {
   "cell_type": "code",
   "execution_count": 81,
   "id": "b984c46a",
   "metadata": {},
   "outputs": [],
   "source": [
    "sns.set_style(\"whitegrid\")"
   ]
  },
  {
   "cell_type": "code",
   "execution_count": 82,
   "id": "77d04bd4",
   "metadata": {},
   "outputs": [],
   "source": [
    "BASE_DIR = Path('EDA.ipynb').resolve().parent.parent\n",
    "DATA_DIR = BASE_DIR.joinpath('data/TOLOKA_Markup')\n",
    "\n",
    "FILE_NAME_1 = \"assignments_from_pool_35355351__11-09-2022.tsv\"\n",
    "FILE_NAME_2 = \"assignments_from_pool_35369313__12-09-2022.tsv\"\n",
    "FILE_NAME_3 = \"assignments_from_pool_35432328__15-09-2022.tsv\"\n",
    "FILE_NAME_4 = \"assignments_from_pool_35480971__19-09-2022.tsv\"\n",
    "\n",
    "FILE_1 = DATA_DIR.joinpath(FILE_NAME_1)\n",
    "FILE_2 = DATA_DIR.joinpath(FILE_NAME_2)\n",
    "FILE_3 = DATA_DIR.joinpath(FILE_NAME_3)\n",
    "FILE_4 = DATA_DIR.joinpath(FILE_NAME_4)"
   ]
  },
  {
   "cell_type": "code",
   "execution_count": 83,
   "id": "4b432d0a",
   "metadata": {},
   "outputs": [
    {
     "data": {
      "text/html": [
       "<div>\n",
       "<style scoped>\n",
       "    .dataframe tbody tr th:only-of-type {\n",
       "        vertical-align: middle;\n",
       "    }\n",
       "\n",
       "    .dataframe tbody tr th {\n",
       "        vertical-align: top;\n",
       "    }\n",
       "\n",
       "    .dataframe thead th {\n",
       "        text-align: right;\n",
       "    }\n",
       "</style>\n",
       "<table border=\"1\" class=\"dataframe\">\n",
       "  <thead>\n",
       "    <tr style=\"text-align: right;\">\n",
       "      <th></th>\n",
       "      <th>INPUT:exp_id</th>\n",
       "      <th>INPUT:wordset</th>\n",
       "      <th>INPUT:model_id</th>\n",
       "      <th>INPUT:topic_id</th>\n",
       "      <th>INPUT:dataset_name</th>\n",
       "      <th>INPUT:correct_bad_words</th>\n",
       "      <th>OUTPUT:quality</th>\n",
       "      <th>OUTPUT:bad_words</th>\n",
       "      <th>OUTPUT:topic_name</th>\n",
       "      <th>OUTPUT:golden_bad_words</th>\n",
       "      <th>...</th>\n",
       "      <th>ASSIGNMENT:task_suite_id</th>\n",
       "      <th>ASSIGNMENT:worker_id</th>\n",
       "      <th>ASSIGNMENT:status</th>\n",
       "      <th>ASSIGNMENT:started</th>\n",
       "      <th>ASSIGNMENT:submitted</th>\n",
       "      <th>ASSIGNMENT:accepted</th>\n",
       "      <th>ASSIGNMENT:rejected</th>\n",
       "      <th>ASSIGNMENT:skipped</th>\n",
       "      <th>ASSIGNMENT:expired</th>\n",
       "      <th>ASSIGNMENT:reward</th>\n",
       "    </tr>\n",
       "  </thead>\n",
       "  <tbody>\n",
       "    <tr>\n",
       "      <th>0</th>\n",
       "      <td>28.0</td>\n",
       "      <td>driver sound running anybody memory wonder err...</td>\n",
       "      <td>631ba815291a690c5875365a</td>\n",
       "      <td>main24</td>\n",
       "      <td>20newsgroups</td>\n",
       "      <td>NaN</td>\n",
       "      <td>rather_bad</td>\n",
       "      <td>{\"driver\":false,\"sound\":false,\"running\":false,...</td>\n",
       "      <td>NaN</td>\n",
       "      <td>True</td>\n",
       "      <td>...</td>\n",
       "      <td>00021b7ad7--631df4b9a3d75c31d7b50ce1</td>\n",
       "      <td>35c9dec005edb17d8cc11946f9bc4b0f</td>\n",
       "      <td>APPROVED</td>\n",
       "      <td>2022-09-11T14:46:17.435</td>\n",
       "      <td>2022-09-11T14:48:35.368</td>\n",
       "      <td>2022-09-11T14:48:35.368</td>\n",
       "      <td>NaN</td>\n",
       "      <td>NaN</td>\n",
       "      <td>NaN</td>\n",
       "      <td>0.05</td>\n",
       "    </tr>\n",
       "    <tr>\n",
       "      <th>1</th>\n",
       "      <td>28.0</td>\n",
       "      <td>argument colorado conclusion music letter fall...</td>\n",
       "      <td>631bb8282d85fb2da960a6a5</td>\n",
       "      <td>main72</td>\n",
       "      <td>20newsgroups</td>\n",
       "      <td>NaN</td>\n",
       "      <td>bad</td>\n",
       "      <td>{\"argument\":false,\"colorado\":false,\"conclusion...</td>\n",
       "      <td>NaN</td>\n",
       "      <td>True</td>\n",
       "      <td>...</td>\n",
       "      <td>00021b7ad7--631df4b9a3d75c31d7b50ce1</td>\n",
       "      <td>35c9dec005edb17d8cc11946f9bc4b0f</td>\n",
       "      <td>APPROVED</td>\n",
       "      <td>2022-09-11T14:46:17.435</td>\n",
       "      <td>2022-09-11T14:48:35.368</td>\n",
       "      <td>2022-09-11T14:48:35.368</td>\n",
       "      <td>NaN</td>\n",
       "      <td>NaN</td>\n",
       "      <td>NaN</td>\n",
       "      <td>0.05</td>\n",
       "    </tr>\n",
       "    <tr>\n",
       "      <th>2</th>\n",
       "      <td>28.0</td>\n",
       "      <td>love uiuc cwru thought guess wrong sorry frank...</td>\n",
       "      <td>631b95224ac2fcd506e4781a</td>\n",
       "      <td>main4</td>\n",
       "      <td>20newsgroups</td>\n",
       "      <td>NaN</td>\n",
       "      <td>rather_bad</td>\n",
       "      <td>{\"love\":false,\"uiuc\":false,\"cwru\":false,\"thoug...</td>\n",
       "      <td>NaN</td>\n",
       "      <td>True</td>\n",
       "      <td>...</td>\n",
       "      <td>00021b7ad7--631df4b9a3d75c31d7b50ce1</td>\n",
       "      <td>35c9dec005edb17d8cc11946f9bc4b0f</td>\n",
       "      <td>APPROVED</td>\n",
       "      <td>2022-09-11T14:46:17.435</td>\n",
       "      <td>2022-09-11T14:48:35.368</td>\n",
       "      <td>2022-09-11T14:48:35.368</td>\n",
       "      <td>NaN</td>\n",
       "      <td>NaN</td>\n",
       "      <td>NaN</td>\n",
       "      <td>0.05</td>\n",
       "    </tr>\n",
       "    <tr>\n",
       "      <th>3</th>\n",
       "      <td>28.0</td>\n",
       "      <td>engine modem rocket phone model yeast level fr...</td>\n",
       "      <td>631ba1dba6fa8975eb579abd</td>\n",
       "      <td>main13</td>\n",
       "      <td>20newsgroups</td>\n",
       "      <td>NaN</td>\n",
       "      <td>rather_bad</td>\n",
       "      <td>{\"engine\":false,\"modem\":false,\"rocket\":false,\"...</td>\n",
       "      <td>NaN</td>\n",
       "      <td>True</td>\n",
       "      <td>...</td>\n",
       "      <td>00021b7ad7--631df4b9a3d75c31d7b50ce1</td>\n",
       "      <td>35c9dec005edb17d8cc11946f9bc4b0f</td>\n",
       "      <td>APPROVED</td>\n",
       "      <td>2022-09-11T14:46:17.435</td>\n",
       "      <td>2022-09-11T14:48:35.368</td>\n",
       "      <td>2022-09-11T14:48:35.368</td>\n",
       "      <td>NaN</td>\n",
       "      <td>NaN</td>\n",
       "      <td>NaN</td>\n",
       "      <td>0.05</td>\n",
       "    </tr>\n",
       "    <tr>\n",
       "      <th>4</th>\n",
       "      <td>28.0</td>\n",
       "      <td>turkish turkey turk armenia greek nazi azeri s...</td>\n",
       "      <td>631b96bea5a57837b841b5d1</td>\n",
       "      <td>main28</td>\n",
       "      <td>20newsgroups</td>\n",
       "      <td>NaN</td>\n",
       "      <td>rather_good</td>\n",
       "      <td>{\"turkish\":false,\"turkey\":false,\"turk\":false,\"...</td>\n",
       "      <td>Race</td>\n",
       "      <td>True</td>\n",
       "      <td>...</td>\n",
       "      <td>00021b7ad7--631df4b9a3d75c31d7b50ce1</td>\n",
       "      <td>35c9dec005edb17d8cc11946f9bc4b0f</td>\n",
       "      <td>APPROVED</td>\n",
       "      <td>2022-09-11T14:46:17.435</td>\n",
       "      <td>2022-09-11T14:48:35.368</td>\n",
       "      <td>2022-09-11T14:48:35.368</td>\n",
       "      <td>NaN</td>\n",
       "      <td>NaN</td>\n",
       "      <td>NaN</td>\n",
       "      <td>0.05</td>\n",
       "    </tr>\n",
       "    <tr>\n",
       "      <th>5</th>\n",
       "      <td>28.0</td>\n",
       "      <td>country nazi germany german land europe money ...</td>\n",
       "      <td>631bb6faa5a57837b841d979</td>\n",
       "      <td>main3</td>\n",
       "      <td>20newsgroups</td>\n",
       "      <td>NaN</td>\n",
       "      <td>rather_good</td>\n",
       "      <td>{\"country\":false,\"nazi\":false,\"germany\":true,\"...</td>\n",
       "      <td>Germany</td>\n",
       "      <td>True</td>\n",
       "      <td>...</td>\n",
       "      <td>00021b7ad7--631df4b9a3d75c31d7b50ce1</td>\n",
       "      <td>35c9dec005edb17d8cc11946f9bc4b0f</td>\n",
       "      <td>APPROVED</td>\n",
       "      <td>2022-09-11T14:46:17.435</td>\n",
       "      <td>2022-09-11T14:48:35.368</td>\n",
       "      <td>2022-09-11T14:48:35.368</td>\n",
       "      <td>NaN</td>\n",
       "      <td>NaN</td>\n",
       "      <td>NaN</td>\n",
       "      <td>0.05</td>\n",
       "    </tr>\n",
       "    <tr>\n",
       "      <th>6</th>\n",
       "      <td>NaN</td>\n",
       "      <td>NaN</td>\n",
       "      <td>NaN</td>\n",
       "      <td>NaN</td>\n",
       "      <td>NaN</td>\n",
       "      <td>NaN</td>\n",
       "      <td>NaN</td>\n",
       "      <td>NaN</td>\n",
       "      <td>NaN</td>\n",
       "      <td>NaN</td>\n",
       "      <td>...</td>\n",
       "      <td>NaN</td>\n",
       "      <td>NaN</td>\n",
       "      <td>NaN</td>\n",
       "      <td>NaN</td>\n",
       "      <td>NaN</td>\n",
       "      <td>NaN</td>\n",
       "      <td>NaN</td>\n",
       "      <td>NaN</td>\n",
       "      <td>NaN</td>\n",
       "      <td>NaN</td>\n",
       "    </tr>\n",
       "    <tr>\n",
       "      <th>7</th>\n",
       "      <td>28.0</td>\n",
       "      <td>attack lebanese muslim hernlem israeli left tr...</td>\n",
       "      <td>631b96bea5a57837b841b5d1</td>\n",
       "      <td>main1</td>\n",
       "      <td>20newsgroups</td>\n",
       "      <td>NaN</td>\n",
       "      <td>good</td>\n",
       "      <td>{\"attack\":false,\"lebanese\":false,\"muslim\":fals...</td>\n",
       "      <td>War</td>\n",
       "      <td>True</td>\n",
       "      <td>...</td>\n",
       "      <td>00021b7ad7--631df4c241d72e6d49540210</td>\n",
       "      <td>9c19d68db298943ca43bb07b3d320ac7</td>\n",
       "      <td>APPROVED</td>\n",
       "      <td>2022-09-11T14:46:26.065</td>\n",
       "      <td>2022-09-11T14:48:16.890</td>\n",
       "      <td>2022-09-11T14:48:16.890</td>\n",
       "      <td>NaN</td>\n",
       "      <td>NaN</td>\n",
       "      <td>NaN</td>\n",
       "      <td>0.05</td>\n",
       "    </tr>\n",
       "    <tr>\n",
       "      <th>8</th>\n",
       "      <td>28.0</td>\n",
       "      <td>curve drug create libertarian email hold graph...</td>\n",
       "      <td>631bb32427e1a64b30543798</td>\n",
       "      <td>main44</td>\n",
       "      <td>20newsgroups</td>\n",
       "      <td>NaN</td>\n",
       "      <td>bad</td>\n",
       "      <td>{\"curve\":false,\"drug\":false,\"create\":false,\"li...</td>\n",
       "      <td>NaN</td>\n",
       "      <td>True</td>\n",
       "      <td>...</td>\n",
       "      <td>00021b7ad7--631df4c241d72e6d49540210</td>\n",
       "      <td>9c19d68db298943ca43bb07b3d320ac7</td>\n",
       "      <td>APPROVED</td>\n",
       "      <td>2022-09-11T14:46:26.065</td>\n",
       "      <td>2022-09-11T14:48:16.890</td>\n",
       "      <td>2022-09-11T14:48:16.890</td>\n",
       "      <td>NaN</td>\n",
       "      <td>NaN</td>\n",
       "      <td>NaN</td>\n",
       "      <td>0.05</td>\n",
       "    </tr>\n",
       "    <tr>\n",
       "      <th>9</th>\n",
       "      <td>28.0</td>\n",
       "      <td>nasa earth orbit mission launch satellite moon...</td>\n",
       "      <td>631b9549939bfaaca5600f20</td>\n",
       "      <td>main8</td>\n",
       "      <td>20newsgroups</td>\n",
       "      <td>NaN</td>\n",
       "      <td>good</td>\n",
       "      <td>{\"nasa\":false,\"earth\":false,\"orbit\":false,\"mis...</td>\n",
       "      <td>Space exploration</td>\n",
       "      <td>True</td>\n",
       "      <td>...</td>\n",
       "      <td>00021b7ad7--631df4c241d72e6d49540210</td>\n",
       "      <td>9c19d68db298943ca43bb07b3d320ac7</td>\n",
       "      <td>APPROVED</td>\n",
       "      <td>2022-09-11T14:46:26.065</td>\n",
       "      <td>2022-09-11T14:48:16.890</td>\n",
       "      <td>2022-09-11T14:48:16.890</td>\n",
       "      <td>NaN</td>\n",
       "      <td>NaN</td>\n",
       "      <td>NaN</td>\n",
       "      <td>0.05</td>\n",
       "    </tr>\n",
       "  </tbody>\n",
       "</table>\n",
       "<p>10 rows × 31 columns</p>\n",
       "</div>"
      ],
      "text/plain": [
       "   INPUT:exp_id                                      INPUT:wordset  \\\n",
       "0          28.0  driver sound running anybody memory wonder err...   \n",
       "1          28.0  argument colorado conclusion music letter fall...   \n",
       "2          28.0  love uiuc cwru thought guess wrong sorry frank...   \n",
       "3          28.0  engine modem rocket phone model yeast level fr...   \n",
       "4          28.0  turkish turkey turk armenia greek nazi azeri s...   \n",
       "5          28.0  country nazi germany german land europe money ...   \n",
       "6           NaN                                                NaN   \n",
       "7          28.0  attack lebanese muslim hernlem israeli left tr...   \n",
       "8          28.0  curve drug create libertarian email hold graph...   \n",
       "9          28.0  nasa earth orbit mission launch satellite moon...   \n",
       "\n",
       "             INPUT:model_id INPUT:topic_id INPUT:dataset_name  \\\n",
       "0  631ba815291a690c5875365a         main24       20newsgroups   \n",
       "1  631bb8282d85fb2da960a6a5         main72       20newsgroups   \n",
       "2  631b95224ac2fcd506e4781a          main4       20newsgroups   \n",
       "3  631ba1dba6fa8975eb579abd         main13       20newsgroups   \n",
       "4  631b96bea5a57837b841b5d1         main28       20newsgroups   \n",
       "5  631bb6faa5a57837b841d979          main3       20newsgroups   \n",
       "6                       NaN            NaN                NaN   \n",
       "7  631b96bea5a57837b841b5d1          main1       20newsgroups   \n",
       "8  631bb32427e1a64b30543798         main44       20newsgroups   \n",
       "9  631b9549939bfaaca5600f20          main8       20newsgroups   \n",
       "\n",
       "   INPUT:correct_bad_words OUTPUT:quality  \\\n",
       "0                      NaN     rather_bad   \n",
       "1                      NaN            bad   \n",
       "2                      NaN     rather_bad   \n",
       "3                      NaN     rather_bad   \n",
       "4                      NaN    rather_good   \n",
       "5                      NaN    rather_good   \n",
       "6                      NaN            NaN   \n",
       "7                      NaN           good   \n",
       "8                      NaN            bad   \n",
       "9                      NaN           good   \n",
       "\n",
       "                                    OUTPUT:bad_words   OUTPUT:topic_name  \\\n",
       "0  {\"driver\":false,\"sound\":false,\"running\":false,...                 NaN   \n",
       "1  {\"argument\":false,\"colorado\":false,\"conclusion...                 NaN   \n",
       "2  {\"love\":false,\"uiuc\":false,\"cwru\":false,\"thoug...                 NaN   \n",
       "3  {\"engine\":false,\"modem\":false,\"rocket\":false,\"...                 NaN   \n",
       "4  {\"turkish\":false,\"turkey\":false,\"turk\":false,\"...                Race   \n",
       "5  {\"country\":false,\"nazi\":false,\"germany\":true,\"...             Germany   \n",
       "6                                                NaN                 NaN   \n",
       "7  {\"attack\":false,\"lebanese\":false,\"muslim\":fals...                War    \n",
       "8  {\"curve\":false,\"drug\":false,\"create\":false,\"li...                 NaN   \n",
       "9  {\"nasa\":false,\"earth\":false,\"orbit\":false,\"mis...  Space exploration    \n",
       "\n",
       "  OUTPUT:golden_bad_words  ...              ASSIGNMENT:task_suite_id  \\\n",
       "0                    True  ...  00021b7ad7--631df4b9a3d75c31d7b50ce1   \n",
       "1                    True  ...  00021b7ad7--631df4b9a3d75c31d7b50ce1   \n",
       "2                    True  ...  00021b7ad7--631df4b9a3d75c31d7b50ce1   \n",
       "3                    True  ...  00021b7ad7--631df4b9a3d75c31d7b50ce1   \n",
       "4                    True  ...  00021b7ad7--631df4b9a3d75c31d7b50ce1   \n",
       "5                    True  ...  00021b7ad7--631df4b9a3d75c31d7b50ce1   \n",
       "6                     NaN  ...                                   NaN   \n",
       "7                    True  ...  00021b7ad7--631df4c241d72e6d49540210   \n",
       "8                    True  ...  00021b7ad7--631df4c241d72e6d49540210   \n",
       "9                    True  ...  00021b7ad7--631df4c241d72e6d49540210   \n",
       "\n",
       "               ASSIGNMENT:worker_id  ASSIGNMENT:status  \\\n",
       "0  35c9dec005edb17d8cc11946f9bc4b0f           APPROVED   \n",
       "1  35c9dec005edb17d8cc11946f9bc4b0f           APPROVED   \n",
       "2  35c9dec005edb17d8cc11946f9bc4b0f           APPROVED   \n",
       "3  35c9dec005edb17d8cc11946f9bc4b0f           APPROVED   \n",
       "4  35c9dec005edb17d8cc11946f9bc4b0f           APPROVED   \n",
       "5  35c9dec005edb17d8cc11946f9bc4b0f           APPROVED   \n",
       "6                               NaN                NaN   \n",
       "7  9c19d68db298943ca43bb07b3d320ac7           APPROVED   \n",
       "8  9c19d68db298943ca43bb07b3d320ac7           APPROVED   \n",
       "9  9c19d68db298943ca43bb07b3d320ac7           APPROVED   \n",
       "\n",
       "        ASSIGNMENT:started     ASSIGNMENT:submitted      ASSIGNMENT:accepted  \\\n",
       "0  2022-09-11T14:46:17.435  2022-09-11T14:48:35.368  2022-09-11T14:48:35.368   \n",
       "1  2022-09-11T14:46:17.435  2022-09-11T14:48:35.368  2022-09-11T14:48:35.368   \n",
       "2  2022-09-11T14:46:17.435  2022-09-11T14:48:35.368  2022-09-11T14:48:35.368   \n",
       "3  2022-09-11T14:46:17.435  2022-09-11T14:48:35.368  2022-09-11T14:48:35.368   \n",
       "4  2022-09-11T14:46:17.435  2022-09-11T14:48:35.368  2022-09-11T14:48:35.368   \n",
       "5  2022-09-11T14:46:17.435  2022-09-11T14:48:35.368  2022-09-11T14:48:35.368   \n",
       "6                      NaN                      NaN                      NaN   \n",
       "7  2022-09-11T14:46:26.065  2022-09-11T14:48:16.890  2022-09-11T14:48:16.890   \n",
       "8  2022-09-11T14:46:26.065  2022-09-11T14:48:16.890  2022-09-11T14:48:16.890   \n",
       "9  2022-09-11T14:46:26.065  2022-09-11T14:48:16.890  2022-09-11T14:48:16.890   \n",
       "\n",
       "   ASSIGNMENT:rejected  ASSIGNMENT:skipped ASSIGNMENT:expired  \\\n",
       "0                  NaN                 NaN                NaN   \n",
       "1                  NaN                 NaN                NaN   \n",
       "2                  NaN                 NaN                NaN   \n",
       "3                  NaN                 NaN                NaN   \n",
       "4                  NaN                 NaN                NaN   \n",
       "5                  NaN                 NaN                NaN   \n",
       "6                  NaN                 NaN                NaN   \n",
       "7                  NaN                 NaN                NaN   \n",
       "8                  NaN                 NaN                NaN   \n",
       "9                  NaN                 NaN                NaN   \n",
       "\n",
       "  ASSIGNMENT:reward  \n",
       "0              0.05  \n",
       "1              0.05  \n",
       "2              0.05  \n",
       "3              0.05  \n",
       "4              0.05  \n",
       "5              0.05  \n",
       "6               NaN  \n",
       "7              0.05  \n",
       "8              0.05  \n",
       "9              0.05  \n",
       "\n",
       "[10 rows x 31 columns]"
      ]
     },
     "execution_count": 83,
     "metadata": {},
     "output_type": "execute_result"
    }
   ],
   "source": [
    "df1 = pd.read_csv(FILE_1, sep=\"\\t\")\n",
    "df2 = pd.read_csv(FILE_2, sep=\"\\t\")\n",
    "df3 = pd.read_csv(FILE_3, sep=\"\\t\")\n",
    "df4 = pd.read_csv(FILE_4, sep=\"\\t\")\n",
    "\n",
    "data = pd.concat([df1, df2, df3, df4])\n",
    "\n",
    "data.head(10)"
   ]
  },
  {
   "cell_type": "code",
   "execution_count": 84,
   "id": "34623eec",
   "metadata": {},
   "outputs": [
    {
     "name": "stdout",
     "output_type": "stream",
     "text": [
      "<class 'pandas.core.frame.DataFrame'>\n",
      "Index: 25922 entries, 0 to 9906\n",
      "Data columns (total 31 columns):\n",
      " #   Column                        Non-Null Count  Dtype  \n",
      "---  ------                        --------------  -----  \n",
      " 0   INPUT:exp_id                  22216 non-null  float64\n",
      " 1   INPUT:wordset                 22216 non-null  object \n",
      " 2   INPUT:model_id                22216 non-null  object \n",
      " 3   INPUT:topic_id                22216 non-null  object \n",
      " 4   INPUT:dataset_name            22216 non-null  object \n",
      " 5   INPUT:correct_bad_words       0 non-null      float64\n",
      " 6   OUTPUT:quality                20854 non-null  object \n",
      " 7   OUTPUT:bad_words              20854 non-null  object \n",
      " 8   OUTPUT:topic_name             9015 non-null   object \n",
      " 9   OUTPUT:golden_bad_words       20854 non-null  object \n",
      " 10  OUTPUT:golden_binary_quality  20854 non-null  object \n",
      " 11  GOLDEN:quality                0 non-null      float64\n",
      " 12  GOLDEN:bad_words              0 non-null      float64\n",
      " 13  GOLDEN:topic_name             0 non-null      float64\n",
      " 14  GOLDEN:golden_bad_words       0 non-null      float64\n",
      " 15  GOLDEN:golden_binary_quality  3706 non-null   object \n",
      " 16  HINT:text                     0 non-null      float64\n",
      " 17  HINT:default_language         0 non-null      float64\n",
      " 18  ASSIGNMENT:link               22216 non-null  object \n",
      " 19  ASSIGNMENT:task_id            22216 non-null  object \n",
      " 20  ASSIGNMENT:assignment_id      22216 non-null  object \n",
      " 21  ASSIGNMENT:task_suite_id      22216 non-null  object \n",
      " 22  ASSIGNMENT:worker_id          22216 non-null  object \n",
      " 23  ASSIGNMENT:status             22216 non-null  object \n",
      " 24  ASSIGNMENT:started            22216 non-null  object \n",
      " 25  ASSIGNMENT:submitted          20854 non-null  object \n",
      " 26  ASSIGNMENT:accepted           20854 non-null  object \n",
      " 27  ASSIGNMENT:rejected           0 non-null      float64\n",
      " 28  ASSIGNMENT:skipped            36 non-null     object \n",
      " 29  ASSIGNMENT:expired            1326 non-null   object \n",
      " 30  ASSIGNMENT:reward             22216 non-null  float64\n",
      "dtypes: float64(10), object(21)\n",
      "memory usage: 6.3+ MB\n"
     ]
    }
   ],
   "source": [
    "data.info()"
   ]
  },
  {
   "cell_type": "markdown",
   "id": "50321624",
   "metadata": {},
   "source": [
    "There are columns and rows with all NaNs"
   ]
  },
  {
   "cell_type": "code",
   "execution_count": 85,
   "id": "5ffa4ab3",
   "metadata": {},
   "outputs": [
    {
     "name": "stdout",
     "output_type": "stream",
     "text": [
      "<class 'pandas.core.frame.DataFrame'>\n",
      "Index: 22216 entries, 0 to 9905\n",
      "Data columns (total 23 columns):\n",
      " #   Column                        Non-Null Count  Dtype  \n",
      "---  ------                        --------------  -----  \n",
      " 0   INPUT:exp_id                  22216 non-null  float64\n",
      " 1   INPUT:wordset                 22216 non-null  object \n",
      " 2   INPUT:model_id                22216 non-null  object \n",
      " 3   INPUT:topic_id                22216 non-null  object \n",
      " 4   INPUT:dataset_name            22216 non-null  object \n",
      " 5   OUTPUT:quality                20854 non-null  object \n",
      " 6   OUTPUT:bad_words              20854 non-null  object \n",
      " 7   OUTPUT:topic_name             9015 non-null   object \n",
      " 8   OUTPUT:golden_bad_words       20854 non-null  object \n",
      " 9   OUTPUT:golden_binary_quality  20854 non-null  object \n",
      " 10  GOLDEN:golden_binary_quality  3706 non-null   object \n",
      " 11  ASSIGNMENT:link               22216 non-null  object \n",
      " 12  ASSIGNMENT:task_id            22216 non-null  object \n",
      " 13  ASSIGNMENT:assignment_id      22216 non-null  object \n",
      " 14  ASSIGNMENT:task_suite_id      22216 non-null  object \n",
      " 15  ASSIGNMENT:worker_id          22216 non-null  object \n",
      " 16  ASSIGNMENT:status             22216 non-null  object \n",
      " 17  ASSIGNMENT:started            22216 non-null  object \n",
      " 18  ASSIGNMENT:submitted          20854 non-null  object \n",
      " 19  ASSIGNMENT:accepted           20854 non-null  object \n",
      " 20  ASSIGNMENT:skipped            36 non-null     object \n",
      " 21  ASSIGNMENT:expired            1326 non-null   object \n",
      " 22  ASSIGNMENT:reward             22216 non-null  float64\n",
      "dtypes: float64(2), object(21)\n",
      "memory usage: 4.1+ MB\n"
     ]
    }
   ],
   "source": [
    "# Remove rows with NaNs\n",
    "data.dropna(axis=0, how='all', inplace=True)\n",
    "# Remove columns with NaNs\n",
    "data.dropna(axis=1, how='all', inplace=True)\n",
    "data.info()"
   ]
  },
  {
   "cell_type": "code",
   "execution_count": 86,
   "id": "33a6a66f",
   "metadata": {},
   "outputs": [
    {
     "name": "stdout",
     "output_type": "stream",
     "text": [
      "<class 'pandas.core.frame.DataFrame'>\n",
      "Index: 22216 entries, 0 to 9905\n",
      "Data columns (total 23 columns):\n",
      " #   Column                        Non-Null Count  Dtype  \n",
      "---  ------                        --------------  -----  \n",
      " 0   INPUT:exp_id                  22216 non-null  float64\n",
      " 1   INPUT:wordset                 22216 non-null  object \n",
      " 2   INPUT:model_id                22216 non-null  object \n",
      " 3   INPUT:topic_id                22216 non-null  object \n",
      " 4   INPUT:dataset_name            22216 non-null  object \n",
      " 5   OUTPUT:quality                20854 non-null  object \n",
      " 6   OUTPUT:bad_words              20854 non-null  object \n",
      " 7   OUTPUT:topic_name             9015 non-null   object \n",
      " 8   OUTPUT:golden_bad_words       20854 non-null  object \n",
      " 9   OUTPUT:golden_binary_quality  20854 non-null  object \n",
      " 10  GOLDEN:golden_binary_quality  3706 non-null   object \n",
      " 11  ASSIGNMENT:link               22216 non-null  object \n",
      " 12  ASSIGNMENT:task_id            22216 non-null  object \n",
      " 13  ASSIGNMENT:assignment_id      22216 non-null  object \n",
      " 14  ASSIGNMENT:task_suite_id      22216 non-null  object \n",
      " 15  ASSIGNMENT:worker_id          22216 non-null  object \n",
      " 16  ASSIGNMENT:status             22216 non-null  object \n",
      " 17  ASSIGNMENT:started            22216 non-null  object \n",
      " 18  ASSIGNMENT:submitted          20854 non-null  object \n",
      " 19  ASSIGNMENT:accepted           20854 non-null  object \n",
      " 20  ASSIGNMENT:skipped            36 non-null     object \n",
      " 21  ASSIGNMENT:expired            1326 non-null   object \n",
      " 22  ASSIGNMENT:reward             22216 non-null  float64\n",
      "dtypes: float64(2), object(21)\n",
      "memory usage: 4.1+ MB\n"
     ]
    }
   ],
   "source": [
    "# Remove duplicates\n",
    "data = data.drop_duplicates()\n",
    "data.info()"
   ]
  },
  {
   "cell_type": "markdown",
   "id": "161cdbd3",
   "metadata": {},
   "source": [
    "As we can see from the information there are no duplicates "
   ]
  },
  {
   "cell_type": "code",
   "execution_count": 87,
   "id": "fcd2c6fd",
   "metadata": {},
   "outputs": [
    {
     "data": {
      "text/plain": [
       "'driver sound running anybody memory wonder error fine works appreciate check tape machine sorry utexas'"
      ]
     },
     "execution_count": 87,
     "metadata": {},
     "output_type": "execute_result"
    }
   ],
   "source": [
    "# Analyze the INPUT data\n",
    "data.iloc[0][\"INPUT:wordset\"]"
   ]
  },
  {
   "cell_type": "markdown",
   "id": "883d75eb",
   "metadata": {},
   "source": [
    "### Check skipped responses"
   ]
  },
  {
   "cell_type": "code",
   "execution_count": 88,
   "id": "cb938a74",
   "metadata": {},
   "outputs": [
    {
     "name": "stdout",
     "output_type": "stream",
     "text": [
      "The number of skipped responses: 36\n",
      "<class 'pandas.core.frame.DataFrame'>\n",
      "Index: 22180 entries, 0 to 9877\n",
      "Data columns (total 22 columns):\n",
      " #   Column                        Non-Null Count  Dtype  \n",
      "---  ------                        --------------  -----  \n",
      " 0   INPUT:exp_id                  22180 non-null  float64\n",
      " 1   INPUT:wordset                 22180 non-null  object \n",
      " 2   INPUT:model_id                22180 non-null  object \n",
      " 3   INPUT:topic_id                22180 non-null  object \n",
      " 4   INPUT:dataset_name            22180 non-null  object \n",
      " 5   OUTPUT:quality                20854 non-null  object \n",
      " 6   OUTPUT:bad_words              20854 non-null  object \n",
      " 7   OUTPUT:topic_name             9015 non-null   object \n",
      " 8   OUTPUT:golden_bad_words       20854 non-null  object \n",
      " 9   OUTPUT:golden_binary_quality  20854 non-null  object \n",
      " 10  GOLDEN:golden_binary_quality  3700 non-null   object \n",
      " 11  ASSIGNMENT:link               22180 non-null  object \n",
      " 12  ASSIGNMENT:task_id            22180 non-null  object \n",
      " 13  ASSIGNMENT:assignment_id      22180 non-null  object \n",
      " 14  ASSIGNMENT:task_suite_id      22180 non-null  object \n",
      " 15  ASSIGNMENT:worker_id          22180 non-null  object \n",
      " 16  ASSIGNMENT:status             22180 non-null  object \n",
      " 17  ASSIGNMENT:started            22180 non-null  object \n",
      " 18  ASSIGNMENT:submitted          20854 non-null  object \n",
      " 19  ASSIGNMENT:accepted           20854 non-null  object \n",
      " 20  ASSIGNMENT:expired            1326 non-null   object \n",
      " 21  ASSIGNMENT:reward             22180 non-null  float64\n",
      "dtypes: float64(2), object(20)\n",
      "memory usage: 3.9+ MB\n",
      "None\n"
     ]
    }
   ],
   "source": [
    "print(f'The number of skipped responses: {len(data[data[\"ASSIGNMENT:skipped\"].notnull()])}')\n",
    "# Remove all skipped responses\n",
    "data = data[data[\"ASSIGNMENT:skipped\"].isna()]\n",
    "# Remove skipped column\n",
    "data.drop(labels=[\"ASSIGNMENT:skipped\"], axis=1, inplace=True)\n",
    "print(data.info())"
   ]
  },
  {
   "cell_type": "markdown",
   "id": "1f8948c9",
   "metadata": {},
   "source": [
    "### Check expared responses"
   ]
  },
  {
   "cell_type": "code",
   "execution_count": 89,
   "id": "b3c1ce45",
   "metadata": {},
   "outputs": [
    {
     "name": "stdout",
     "output_type": "stream",
     "text": [
      "The number of expared responses: 1326\n",
      "<class 'pandas.core.frame.DataFrame'>\n",
      "Index: 20854 entries, 0 to 9240\n",
      "Data columns (total 21 columns):\n",
      " #   Column                        Non-Null Count  Dtype  \n",
      "---  ------                        --------------  -----  \n",
      " 0   INPUT:exp_id                  20854 non-null  float64\n",
      " 1   INPUT:wordset                 20854 non-null  object \n",
      " 2   INPUT:model_id                20854 non-null  object \n",
      " 3   INPUT:topic_id                20854 non-null  object \n",
      " 4   INPUT:dataset_name            20854 non-null  object \n",
      " 5   OUTPUT:quality                20854 non-null  object \n",
      " 6   OUTPUT:bad_words              20854 non-null  object \n",
      " 7   OUTPUT:topic_name             9015 non-null   object \n",
      " 8   OUTPUT:golden_bad_words       20854 non-null  object \n",
      " 9   OUTPUT:golden_binary_quality  20854 non-null  object \n",
      " 10  GOLDEN:golden_binary_quality  3479 non-null   object \n",
      " 11  ASSIGNMENT:link               20854 non-null  object \n",
      " 12  ASSIGNMENT:task_id            20854 non-null  object \n",
      " 13  ASSIGNMENT:assignment_id      20854 non-null  object \n",
      " 14  ASSIGNMENT:task_suite_id      20854 non-null  object \n",
      " 15  ASSIGNMENT:worker_id          20854 non-null  object \n",
      " 16  ASSIGNMENT:status             20854 non-null  object \n",
      " 17  ASSIGNMENT:started            20854 non-null  object \n",
      " 18  ASSIGNMENT:submitted          20854 non-null  object \n",
      " 19  ASSIGNMENT:accepted           20854 non-null  object \n",
      " 20  ASSIGNMENT:reward             20854 non-null  float64\n",
      "dtypes: float64(2), object(19)\n",
      "memory usage: 3.5+ MB\n",
      "None\n"
     ]
    }
   ],
   "source": [
    "print(f'The number of expared responses: {len(data[data[\"ASSIGNMENT:expired\"].notnull()])}')\n",
    "# Remove all expired responses\n",
    "data = data[data[\"ASSIGNMENT:expired\"].isna()]\n",
    "# Remove expired column\n",
    "data.drop(labels=[\"ASSIGNMENT:expired\"], axis=1, inplace=True)\n",
    "print(data.info())"
   ]
  },
  {
   "cell_type": "markdown",
   "id": "5e0cb90d",
   "metadata": {},
   "source": [
    "### Calculate the duration of the response"
   ]
  },
  {
   "cell_type": "code",
   "execution_count": 90,
   "id": "6d02ba25",
   "metadata": {},
   "outputs": [
    {
     "name": "stdout",
     "output_type": "stream",
     "text": [
      "Minimum response time: 5 sec\n",
      "Maximum response time: 168 sec\n"
     ]
    }
   ],
   "source": [
    "# Convert from str to datetime\n",
    "to_datetime = lambda x: dateutil.parser.parse(x)\n",
    "\n",
    "data[\"ASSIGNMENT:submitted\"] = [to_datetime(date) for date in data[\"ASSIGNMENT:submitted\"].values]\n",
    "data[\"ASSIGNMENT:started\"] = [to_datetime(date) for date in data[\"ASSIGNMENT:started\"].values]\n",
    "\n",
    "data[\"ASSIGMNENT:time\"] = data[\"ASSIGNMENT:submitted\"] - data[\"ASSIGNMENT:started\"]\n",
    "\n",
    "to_seconds = lambda x: x.seconds \n",
    "\n",
    "data[\"ASSIGMNENT:time\"] = [to_seconds(date) for date in data[\"ASSIGMNENT:time\"]]\n",
    "time_diff = data[\"ASSIGMNENT:time\"].value_counts(ascending=True)\n",
    "\n",
    "print(f\"Minimum response time: {min(time_diff)} sec\")\n",
    "print(f\"Maximum response time: {max(time_diff)} sec\")"
   ]
  },
  {
   "cell_type": "markdown",
   "id": "952cb46f",
   "metadata": {},
   "source": [
    "### Check experts"
   ]
  },
  {
   "cell_type": "code",
   "execution_count": 91,
   "id": "296043d5",
   "metadata": {},
   "outputs": [
    {
     "name": "stdout",
     "output_type": "stream",
     "text": [
      "Experts: {28.0}\n"
     ]
    }
   ],
   "source": [
    "print(f'Experts: {set(data[\"INPUT:exp_id\"])}')"
   ]
  },
  {
   "cell_type": "code",
   "execution_count": 92,
   "id": "ea79e58d",
   "metadata": {},
   "outputs": [
    {
     "name": "stdout",
     "output_type": "stream",
     "text": [
      "                             INPUT:topic_id\n",
      "INPUT:exp_id OUTPUT:quality                \n",
      "28.0         bad                       7678\n",
      "             good                      6921\n",
      "             rather_bad                4161\n",
      "             rather_good               2094\n"
     ]
    },
    {
     "data": {
      "text/plain": [
       "<AxesSubplot:xlabel='OUTPUT:quality', ylabel='count'>"
      ]
     },
     "execution_count": 92,
     "metadata": {},
     "output_type": "execute_result"
    },
    {
     "data": {
      "image/png": "[encoded data removed]",
      "text/plain": [
       "<Figure size 640x480 with 1 Axes>"
      ]
     },
     "metadata": {},
     "output_type": "display_data"
    }
   ],
   "source": [
    "# Extract the distribution of responses\n",
    "exp_ans_distrib = pd.DataFrame(data.groupby([\"INPUT:exp_id\", \"OUTPUT:quality\"])[\"INPUT:topic_id\"].count())\n",
    "print(exp_ans_distrib)\n",
    "sns.countplot(data=data, x=\"OUTPUT:quality\")"
   ]
  },
  {
   "cell_type": "code",
   "execution_count": 93,
   "id": "0ba85ead",
   "metadata": {},
   "outputs": [
    {
     "name": "stdout",
     "output_type": "stream",
     "text": [
      "The number of unique input texts: 3861\n"
     ]
    }
   ],
   "source": [
    "print(f\"The number of unique input texts: {len(set(data['INPUT:wordset']))}\")"
   ]
  },
  {
   "cell_type": "markdown",
   "id": "f690b200",
   "metadata": {},
   "source": [
    "### Data preproccessing for topic_name\n",
    "\n",
    "1) Lowercase\n",
    "\n",
    "2) Remove punctuation \n",
    "\n",
    "3) Remove extra spaces\n",
    "\n",
    "4) Tokenization \n",
    "\n",
    "5) Remove stop-words\n",
    "\n",
    "6) Lemmatization (?)"
   ]
  },
  {
   "cell_type": "code",
   "execution_count": 94,
   "id": "6e3e6c73",
   "metadata": {},
   "outputs": [],
   "source": [
    "data_preprocessor = TextPreprocessor(lang='eng')"
   ]
  },
  {
   "cell_type": "code",
   "execution_count": 95,
   "id": "f8b8ef1f",
   "metadata": {},
   "outputs": [
    {
     "name": "stdout",
     "output_type": "stream",
     "text": [
      "Womans Thrashed in   a hotel room   !\n",
      "womans thrashed in   a hotel room   !\n",
      "womans thrashed in a hotel room !\n",
      "womans thrashed in a hotel room \n",
      "['womans', 'thrashed', 'in', 'a', 'hotel', 'room']\n",
      "['womans', 'thrashed', 'hotel', 'room']\n",
      "woman thrashed hotel room\n"
     ]
    }
   ],
   "source": [
    "example = 'Womans Thrashed in   a hotel room   !'\n",
    "print(example)\n",
    "example = data_preprocessor.lower_topic(example)\n",
    "print(example)\n",
    "example = data_preprocessor.remove_ext_spaces(example)\n",
    "print(example)\n",
    "example = data_preprocessor.remove_punct(example)\n",
    "print(example)\n",
    "example = data_preprocessor.tokenize(example)\n",
    "print(example)\n",
    "example = data_preprocessor.remove_stop_words(example)\n",
    "print(example)\n",
    "example = data_preprocessor.lemmatize(example)\n",
    "print(example)"
   ]
  },
  {
   "cell_type": "code",
   "execution_count": 96,
   "id": "bf21761f",
   "metadata": {},
   "outputs": [],
   "source": [
    "data_preprocessor = TextPreprocessor(lang='eng')\n",
    "\n",
    "data[\"OUTPUT:topic_name\"] = [data_preprocessor.lower_topic(topic) for topic in data[\"OUTPUT:topic_name\"]]\n",
    "data[\"OUTPUT:topic_name\"] = [data_preprocessor.remove_ext_spaces(topic) for topic in data[\"OUTPUT:topic_name\"]]\n",
    "data[\"OUTPUT:topic_name\"] = [data_preprocessor.remove_punct(topic) for topic in data[\"OUTPUT:topic_name\"]]\n",
    "data[\"OUTPUT:topic_name\"] = [data_preprocessor.tokenize(topic) for topic in data[\"OUTPUT:topic_name\"]]\n",
    "data[\"OUTPUT:topic_name\"] = [data_preprocessor.remove_stop_words(topic) for topic in data[\"OUTPUT:topic_name\"]]\n",
    "data[\"OUTPUT:topic_name\"] = [data_preprocessor.lemmatize(topic) for topic in data[\"OUTPUT:topic_name\"]]"
   ]
  },
  {
   "cell_type": "markdown",
   "id": "e0bd7cf6",
   "metadata": {},
   "source": [
    "### Extract main inforamation"
   ]
  },
  {
   "cell_type": "code",
   "execution_count": 97,
   "id": "2f0e375d",
   "metadata": {},
   "outputs": [
    {
     "name": "stdout",
     "output_type": "stream",
     "text": [
      "OUTPUT:golden_bad_words {True}\n",
      "OUTPUT:golden_binary_quality {False, True}\n",
      "GOLDEN:golden_binary_quality {nan, True, False}\n"
     ]
    }
   ],
   "source": [
    "print(\"OUTPUT:golden_bad_words\", set(data[\"OUTPUT:golden_bad_words\"]))\n",
    "print(\"OUTPUT:golden_binary_quality\", set(data[\"OUTPUT:golden_binary_quality\"]))\n",
    "print(\"GOLDEN:golden_binary_quality\", set(data[\"GOLDEN:golden_binary_quality\"]))"
   ]
  },
  {
   "cell_type": "code",
   "execution_count": 99,
   "id": "2563f3dc",
   "metadata": {},
   "outputs": [
    {
     "data": {
      "text/html": [
       "<div>\n",
       "<style scoped>\n",
       "    .dataframe tbody tr th:only-of-type {\n",
       "        vertical-align: middle;\n",
       "    }\n",
       "\n",
       "    .dataframe tbody tr th {\n",
       "        vertical-align: top;\n",
       "    }\n",
       "\n",
       "    .dataframe thead th {\n",
       "        text-align: right;\n",
       "    }\n",
       "</style>\n",
       "<table border=\"1\" class=\"dataframe\">\n",
       "  <thead>\n",
       "    <tr style=\"text-align: right;\">\n",
       "      <th></th>\n",
       "      <th>INPUT:exp_id</th>\n",
       "      <th>INPUT:wordset</th>\n",
       "      <th>OUTPUT:quality</th>\n",
       "      <th>OUTPUT:bad_words</th>\n",
       "      <th>OUTPUT:topic_name</th>\n",
       "    </tr>\n",
       "  </thead>\n",
       "  <tbody>\n",
       "    <tr>\n",
       "      <th>0</th>\n",
       "      <td>28.0</td>\n",
       "      <td>driver sound running anybody memory wonder err...</td>\n",
       "      <td>rather_bad</td>\n",
       "      <td>{\"driver\":false,\"sound\":false,\"running\":false,...</td>\n",
       "      <td>NaN</td>\n",
       "    </tr>\n",
       "    <tr>\n",
       "      <th>1</th>\n",
       "      <td>28.0</td>\n",
       "      <td>argument colorado conclusion music letter fall...</td>\n",
       "      <td>bad</td>\n",
       "      <td>{\"argument\":false,\"colorado\":false,\"conclusion...</td>\n",
       "      <td>NaN</td>\n",
       "    </tr>\n",
       "    <tr>\n",
       "      <th>2</th>\n",
       "      <td>28.0</td>\n",
       "      <td>love uiuc cwru thought guess wrong sorry frank...</td>\n",
       "      <td>rather_bad</td>\n",
       "      <td>{\"love\":false,\"uiuc\":false,\"cwru\":false,\"thoug...</td>\n",
       "      <td>NaN</td>\n",
       "    </tr>\n",
       "    <tr>\n",
       "      <th>3</th>\n",
       "      <td>28.0</td>\n",
       "      <td>engine modem rocket phone model yeast level fr...</td>\n",
       "      <td>rather_bad</td>\n",
       "      <td>{\"engine\":false,\"modem\":false,\"rocket\":false,\"...</td>\n",
       "      <td>NaN</td>\n",
       "    </tr>\n",
       "    <tr>\n",
       "      <th>4</th>\n",
       "      <td>28.0</td>\n",
       "      <td>turkish turkey turk armenia greek nazi azeri s...</td>\n",
       "      <td>rather_good</td>\n",
       "      <td>{\"turkish\":false,\"turkey\":false,\"turk\":false,\"...</td>\n",
       "      <td>race</td>\n",
       "    </tr>\n",
       "    <tr>\n",
       "      <th>...</th>\n",
       "      <td>...</td>\n",
       "      <td>...</td>\n",
       "      <td>...</td>\n",
       "      <td>...</td>\n",
       "      <td>...</td>\n",
       "    </tr>\n",
       "    <tr>\n",
       "      <th>9236</th>\n",
       "      <td>28.0</td>\n",
       "      <td>favorite enough blend black fuel fruity jet ro...</td>\n",
       "      <td>rather_bad</td>\n",
       "      <td>{\"favorite\":false,\"enough\":false,\"blend\":false...</td>\n",
       "      <td>NaN</td>\n",
       "    </tr>\n",
       "    <tr>\n",
       "      <th>9237</th>\n",
       "      <td>28.0</td>\n",
       "      <td>israel pres israeli encryption security arab c...</td>\n",
       "      <td>bad</td>\n",
       "      <td>{\"israel\":false,\"pres\":false,\"israeli\":false,\"...</td>\n",
       "      <td>NaN</td>\n",
       "    </tr>\n",
       "    <tr>\n",
       "      <th>9238</th>\n",
       "      <td>28.0</td>\n",
       "      <td>ingredient natural corn free gluten chicken sy...</td>\n",
       "      <td>good</td>\n",
       "      <td>{\"ingredient\":false,\"natural\":false,\"corn\":fal...</td>\n",
       "      <td>pet diet</td>\n",
       "    </tr>\n",
       "    <tr>\n",
       "      <th>9239</th>\n",
       "      <td>28.0</td>\n",
       "      <td>anything juice wrong guess throw immediately t...</td>\n",
       "      <td>bad</td>\n",
       "      <td>{\"anything\":false,\"juice\":false,\"wrong\":false,...</td>\n",
       "      <td>NaN</td>\n",
       "    </tr>\n",
       "    <tr>\n",
       "      <th>9240</th>\n",
       "      <td>28.0</td>\n",
       "      <td>espresso cappuccino illy drink mate capsule ht...</td>\n",
       "      <td>rather_good</td>\n",
       "      <td>{\"espresso\":false,\"cappuccino\":false,\"illy\":tr...</td>\n",
       "      <td>drink caffe</td>\n",
       "    </tr>\n",
       "  </tbody>\n",
       "</table>\n",
       "<p>20854 rows × 5 columns</p>\n",
       "</div>"
      ],
      "text/plain": [
       "      INPUT:exp_id                                      INPUT:wordset  \\\n",
       "0             28.0  driver sound running anybody memory wonder err...   \n",
       "1             28.0  argument colorado conclusion music letter fall...   \n",
       "2             28.0  love uiuc cwru thought guess wrong sorry frank...   \n",
       "3             28.0  engine modem rocket phone model yeast level fr...   \n",
       "4             28.0  turkish turkey turk armenia greek nazi azeri s...   \n",
       "...            ...                                                ...   \n",
       "9236          28.0  favorite enough blend black fuel fruity jet ro...   \n",
       "9237          28.0  israel pres israeli encryption security arab c...   \n",
       "9238          28.0  ingredient natural corn free gluten chicken sy...   \n",
       "9239          28.0  anything juice wrong guess throw immediately t...   \n",
       "9240          28.0  espresso cappuccino illy drink mate capsule ht...   \n",
       "\n",
       "     OUTPUT:quality                                   OUTPUT:bad_words  \\\n",
       "0        rather_bad  {\"driver\":false,\"sound\":false,\"running\":false,...   \n",
       "1               bad  {\"argument\":false,\"colorado\":false,\"conclusion...   \n",
       "2        rather_bad  {\"love\":false,\"uiuc\":false,\"cwru\":false,\"thoug...   \n",
       "3        rather_bad  {\"engine\":false,\"modem\":false,\"rocket\":false,\"...   \n",
       "4       rather_good  {\"turkish\":false,\"turkey\":false,\"turk\":false,\"...   \n",
       "...             ...                                                ...   \n",
       "9236     rather_bad  {\"favorite\":false,\"enough\":false,\"blend\":false...   \n",
       "9237            bad  {\"israel\":false,\"pres\":false,\"israeli\":false,\"...   \n",
       "9238           good  {\"ingredient\":false,\"natural\":false,\"corn\":fal...   \n",
       "9239            bad  {\"anything\":false,\"juice\":false,\"wrong\":false,...   \n",
       "9240    rather_good  {\"espresso\":false,\"cappuccino\":false,\"illy\":tr...   \n",
       "\n",
       "     OUTPUT:topic_name  \n",
       "0                  NaN  \n",
       "1                  NaN  \n",
       "2                  NaN  \n",
       "3                  NaN  \n",
       "4                 race  \n",
       "...                ...  \n",
       "9236               NaN  \n",
       "9237               NaN  \n",
       "9238          pet diet  \n",
       "9239               NaN  \n",
       "9240       drink caffe  \n",
       "\n",
       "[20854 rows x 5 columns]"
      ]
     },
     "execution_count": 99,
     "metadata": {},
     "output_type": "execute_result"
    }
   ],
   "source": [
    "data = data[[\"INPUT:exp_id\", \"INPUT:wordset\", \"OUTPUT:quality\", \"OUTPUT:bad_words\", \"OUTPUT:topic_name\"]]\n",
    "data"
   ]
  },
  {
   "cell_type": "code",
   "execution_count": 100,
   "id": "7192d57f",
   "metadata": {},
   "outputs": [
    {
     "data": {
      "text/plain": [
       "'espresso cappuccino illy drink mate capsule http href com www issimo caffe roast dark cold'"
      ]
     },
     "execution_count": 100,
     "metadata": {},
     "output_type": "execute_result"
    }
   ],
   "source": [
    "data.loc[9240][\"INPUT:wordset\"]"
   ]
  },
  {
   "cell_type": "code",
   "execution_count": 101,
   "id": "4c69fb5c",
   "metadata": {},
   "outputs": [
    {
     "data": {
      "text/plain": [
       "'{\"espresso\":false,\"cappuccino\":false,\"illy\":true,\"drink\":false,\"mate\":false,\"capsule\":false,\"http\":true,\"href\":true,\"com\":true,\"www\":true,\"issimo\":true,\"caffe\":false,\"roast\":false,\"dark\":false,\"cold\":false}'"
      ]
     },
     "execution_count": 101,
     "metadata": {},
     "output_type": "execute_result"
    }
   ],
   "source": [
    "data.loc[9240][\"OUTPUT:bad_words\"]"
   ]
  },
  {
   "cell_type": "markdown",
   "id": "75799704",
   "metadata": {},
   "source": [
    "### Aggregations\n",
    "let's check how the answers (\"OUTPUT:quality\") are distributed within the same wordset"
   ]
  },
  {
   "cell_type": "code",
   "execution_count": 102,
   "id": "397f43ec",
   "metadata": {},
   "outputs": [
    {
     "name": "stdout",
     "output_type": "stream",
     "text": [
      "                INPUT:wordset\n",
      "OUTPUT:quality               \n",
      "bad                      7678\n",
      "good                     6921\n",
      "rather_bad               4161\n",
      "rather_good              2094\n"
     ]
    },
    {
     "data": {
      "text/plain": [
       "<AxesSubplot:xlabel='OUTPUT:quality', ylabel='count'>"
      ]
     },
     "execution_count": 102,
     "metadata": {},
     "output_type": "execute_result"
    },
    {
     "data": {
      "image/png": "[encoded data removed]",
      "text/plain": [
       "<Figure size 640x480 with 1 Axes>"
      ]
     },
     "metadata": {},
     "output_type": "display_data"
    }
   ],
   "source": [
    "# Extract the distribution of responses (in entire dataset)\n",
    "quality_distrib = pd.DataFrame(data.groupby([\"OUTPUT:quality\"])[\"INPUT:wordset\"].count())\n",
    "print(quality_distrib)\n",
    "sns.countplot(data=data, x=\"OUTPUT:quality\")"
   ]
  },
  {
   "cell_type": "markdown",
   "id": "091ac4f2",
   "metadata": {},
   "source": [
    "As we can see the data is poorly balanced. Let's combine good/rather_good and bad/raher_bad"
   ]
  },
  {
   "cell_type": "code",
   "execution_count": 103,
   "id": "0ecb3ddc",
   "metadata": {},
   "outputs": [
    {
     "name": "stdout",
     "output_type": "stream",
     "text": [
      "                INPUT:wordset\n",
      "OUTPUT:quality               \n",
      "bad                     11839\n",
      "good                     9015\n"
     ]
    },
    {
     "data": {
      "text/plain": [
       "<AxesSubplot:xlabel='OUTPUT:quality', ylabel='count'>"
      ]
     },
     "execution_count": 103,
     "metadata": {},
     "output_type": "execute_result"
    },
    {
     "data": {
      "image/png": "[encoded data removed]",
      "text/plain": [
       "<Figure size 640x480 with 1 Axes>"
      ]
     },
     "metadata": {},
     "output_type": "display_data"
    }
   ],
   "source": [
    "data_tmp = data.copy()\n",
    "data_tmp[\"OUTPUT:quality\"] = [\"good\" if answ in [\"good\", \"rather_good\"] else \"bad\" for answ in data[\"OUTPUT:quality\"]]\n",
    "# Extract the distribution of responses (in entire dataset)\n",
    "quality_distrib_2 = pd.DataFrame(data_tmp.groupby([\"OUTPUT:quality\"])[\"INPUT:wordset\"].count())\n",
    "print(quality_distrib_2)\n",
    "sns.countplot(data=data_tmp, x=\"OUTPUT:quality\")"
   ]
  },
  {
   "cell_type": "markdown",
   "id": "321e1fdc",
   "metadata": {},
   "source": [
    "In this case we obtain more balanced classes.\n",
    "\n",
    "**Task:** binary classification (traditional approaches->Catboost, LLM)"
   ]
  },
  {
   "cell_type": "markdown",
   "id": "2c54349b",
   "metadata": {},
   "source": [
    "Let's check how quality is distributed within one wordset"
   ]
  },
  {
   "cell_type": "code",
   "execution_count": 104,
   "id": "3603fdd7",
   "metadata": {},
   "outputs": [
    {
     "data": {
      "text/html": [
       "<div>\n",
       "<style scoped>\n",
       "    .dataframe tbody tr th:only-of-type {\n",
       "        vertical-align: middle;\n",
       "    }\n",
       "\n",
       "    .dataframe tbody tr th {\n",
       "        vertical-align: top;\n",
       "    }\n",
       "\n",
       "    .dataframe thead th {\n",
       "        text-align: right;\n",
       "    }\n",
       "</style>\n",
       "<table border=\"1\" class=\"dataframe\">\n",
       "  <thead>\n",
       "    <tr style=\"text-align: right;\">\n",
       "      <th></th>\n",
       "      <th></th>\n",
       "      <th>OUTPUT:bad_words</th>\n",
       "    </tr>\n",
       "    <tr>\n",
       "      <th>INPUT:wordset</th>\n",
       "      <th>OUTPUT:quality</th>\n",
       "      <th></th>\n",
       "    </tr>\n",
       "  </thead>\n",
       "  <tbody>\n",
       "    <tr>\n",
       "      <th rowspan=\"2\" valign=\"top\">able amaze fill glad stop daily fantastic move prime plenty empty subtle job strongly litter</th>\n",
       "      <th>bad</th>\n",
       "      <td>1</td>\n",
       "    </tr>\n",
       "    <tr>\n",
       "      <th>rather_bad</th>\n",
       "      <td>2</td>\n",
       "    </tr>\n",
       "    <tr>\n",
       "      <th rowspan=\"3\" valign=\"top\">able amaze fill stop glad daily fantastic move plenty prime empty job subtle strongly litter</th>\n",
       "      <th>bad</th>\n",
       "      <td>4</td>\n",
       "    </tr>\n",
       "    <tr>\n",
       "      <th>good</th>\n",
       "      <td>1</td>\n",
       "    </tr>\n",
       "    <tr>\n",
       "      <th>rather_bad</th>\n",
       "      <td>6</td>\n",
       "    </tr>\n",
       "    <tr>\n",
       "      <th>...</th>\n",
       "      <th>...</th>\n",
       "      <td>...</td>\n",
       "    </tr>\n",
       "    <tr>\n",
       "      <th rowspan=\"2\" valign=\"top\">year two size old last month every start week since baby several long ago three</th>\n",
       "      <th>good</th>\n",
       "      <td>1</td>\n",
       "    </tr>\n",
       "    <tr>\n",
       "      <th>rather_bad</th>\n",
       "      <td>1</td>\n",
       "    </tr>\n",
       "    <tr>\n",
       "      <th rowspan=\"2\" valign=\"top\">year work two every size old last month start long week baby several small three</th>\n",
       "      <th>bad</th>\n",
       "      <td>2</td>\n",
       "    </tr>\n",
       "    <tr>\n",
       "      <th>rather_bad</th>\n",
       "      <td>1</td>\n",
       "    </tr>\n",
       "    <tr>\n",
       "      <th>year work two size old last month start long week small baby several three big</th>\n",
       "      <th>bad</th>\n",
       "      <td>3</td>\n",
       "    </tr>\n",
       "  </tbody>\n",
       "</table>\n",
       "<p>8786 rows × 1 columns</p>\n",
       "</div>"
      ],
      "text/plain": [
       "                                                                   OUTPUT:bad_words\n",
       "INPUT:wordset                                      OUTPUT:quality                  \n",
       "able amaze fill glad stop daily fantastic move ... bad                            1\n",
       "                                                   rather_bad                     2\n",
       "able amaze fill stop glad daily fantastic move ... bad                            4\n",
       "                                                   good                           1\n",
       "                                                   rather_bad                     6\n",
       "...                                                                             ...\n",
       "year two size old last month every start week s... good                           1\n",
       "                                                   rather_bad                     1\n",
       "year work two every size old last month start l... bad                            2\n",
       "                                                   rather_bad                     1\n",
       "year work two size old last month start long we... bad                            3\n",
       "\n",
       "[8786 rows x 1 columns]"
      ]
     },
     "execution_count": 104,
     "metadata": {},
     "output_type": "execute_result"
    }
   ],
   "source": [
    "wordset_quality_distrib = pd.DataFrame(data.groupby([\"INPUT:wordset\",\"OUTPUT:quality\"])[\"OUTPUT:bad_words\"].count())\n",
    "wordset_quality_distrib"
   ]
  },
  {
   "cell_type": "markdown",
   "id": "24501cbc",
   "metadata": {},
   "source": [
    "The number of unique wordest: 8786"
   ]
  },
  {
   "cell_type": "markdown",
   "id": "e9150a95",
   "metadata": {},
   "source": [
    "### Crowd-Kit aggregations"
   ]
  },
  {
   "cell_type": "markdown",
   "id": "640be00b",
   "metadata": {},
   "source": [
    "Read the annotations into Pandas Data Frame with columns task, worker, label.\n",
    "\n",
    "Wawa: It calculates the majority opinion, and then re-weighs the performers' votes using the proportion of responses that coincided with the majority opinion."
   ]
  },
  {
   "cell_type": "code",
   "execution_count": 136,
   "id": "f00541fe",
   "metadata": {},
   "outputs": [],
   "source": [
    "def crowd_kit_agg(df):\n",
    "    tmp_df = df.copy()\n",
    "    tmp_df = tmp_df.rename(columns={\"INPUT:exp_id\": \"worker\", \"INPUT:wordset\": \"task\", \"OUTPUT:quality\": \"label\"})\n",
    "\n",
    "    # Majority Vote Aggregation\n",
    "    agg_mv = MajorityVote().fit_predict(tmp_df)\n",
    "    # Wawa \n",
    "    agg_wawa = Wawa().fit_predict(tmp_df)\n",
    "    # Dawid Skene\n",
    "    agg_ds = DawidSkene(n_iter=10).fit_predict(tmp_df)\n",
    "\n",
    "    # Let's compare the results\n",
    "    ids = agg_mv.index\n",
    "\n",
    "    agg_wawa = agg_wawa[ids]\n",
    "    agg_ds = agg_ds[ids]\n",
    "\n",
    "    mv_wawa = agg_mv == agg_wawa\n",
    "    mv_ds = agg_mv == agg_ds\n",
    "    wawa_ds = agg_wawa == agg_ds\n",
    "\n",
    "    print(f\"Majority Vote vs Wawa: True - {sum(mv_wawa)} False - {len(mv_wawa)-sum(mv_wawa)}\")\n",
    "    print(f\"Majority Vote vs Dawid Skene: True - {sum(mv_ds)} False - {len(mv_ds)-sum(mv_ds)}\")\n",
    "    print(f\"Wawa vs Dawid Skene: True - {sum(wawa_ds)} False - {len(wawa_ds)-sum(wawa_ds)}\")\n",
    "\n",
    "    agg_mv2 = pd.DataFrame(agg_mv)\n",
    "    agg_wawa2 = pd.DataFrame(agg_wawa)\n",
    "    agg_ds2 = pd.DataFrame(agg_ds)\n",
    "    \n",
    "    # Determine number of classes\n",
    "    classes_num = len(set(tmp_df[\"label\"]))\n",
    "    \n",
    "    fig = plt.figure(figsize=(15,10))\n",
    "    plt.suptitle(f\"The number of classes: {classes_num}\", fontsize = 18)\n",
    "\n",
    "    plt.subplot(131)\n",
    "    plt.title('Majority Vote')\n",
    "    sns.countplot(data=agg_mv2, x='agg_label')\n",
    "\n",
    "    plt.subplot(132)\n",
    "    plt.title('Wawa')\n",
    "    sns.countplot(data=agg_wawa2, x='agg_label')\n",
    "\n",
    "    plt.subplot(133)\n",
    "    plt.title('Dawid Skene')\n",
    "    sns.countplot(data=agg_ds2, x='agg_label')\n",
    "\n",
    "    plt.tight_layout()\n",
    "    plt.show()"
   ]
  },
  {
   "cell_type": "code",
   "execution_count": 137,
   "id": "318ba3a8",
   "metadata": {},
   "outputs": [
    {
     "name": "stdout",
     "output_type": "stream",
     "text": [
      "Majority Vote vs Wawa: True - 3861 False - 0\n",
      "Majority Vote vs Dawid Skene: True - 3393 False - 468\n",
      "Wawa vs Dawid Skene: True - 3393 False - 468\n"
     ]
    },
    {
     "data": {
      "image/png": "[encoded data removed]",
      "text/plain": [
       "<Figure size 1500x1000 with 3 Axes>"
      ]
     },
     "metadata": {},
     "output_type": "display_data"
    }
   ],
   "source": [
    "# For 4 classes\n",
    "crowd_kit_agg(data)"
   ]
  },
  {
   "cell_type": "code",
   "execution_count": 138,
   "id": "4577b107",
   "metadata": {},
   "outputs": [
    {
     "name": "stdout",
     "output_type": "stream",
     "text": [
      "Majority Vote vs Wawa: True - 3861 False - 0\n",
      "Majority Vote vs Dawid Skene: True - 3828 False - 33\n",
      "Wawa vs Dawid Skene: True - 3828 False - 33\n"
     ]
    },
    {
     "data": {
      "image/png": "[encoded data removed]",
      "text/plain": [
       "<Figure size 1500x1000 with 3 Axes>"
      ]
     },
     "metadata": {},
     "output_type": "display_data"
    }
   ],
   "source": [
    "# For 2 classes\n",
    "crowd_kit_agg(data_tmp)"
   ]
  },
  {
   "cell_type": "code",
   "execution_count": null,
   "id": "cc2a4255",
   "metadata": {},
   "outputs": [],
   "source": []
  },
  {
   "cell_type": "code",
   "execution_count": null,
   "id": "13fcf31c",
   "metadata": {},
   "outputs": [],
   "source": []
  }
 ],
 "metadata": {
  "kernelspec": {
   "display_name": "Python 3 (ipykernel)",
   "language": "python",
   "name": "python3"
  },
  "language_info": {
   "codemirror_mode": {
    "name": "ipython",
    "version": 3
   },
   "file_extension": ".py",
   "mimetype": "text/x-python",
   "name": "python",
   "nbconvert_exporter": "python",
   "pygments_lexer": "ipython3",
   "version": "3.9.12"
  }
 },
 "nbformat": 4,
 "nbformat_minor": 5
}
