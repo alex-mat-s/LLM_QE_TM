{
 "cells": [
  {
   "cell_type": "markdown",
   "id": "479eb69e",
   "metadata": {},
   "source": [
    "### Dataset info\n",
    "Each chosen model went through a human assessment performed with the following methodology. Each of the assessors was given several tasks, which consisted of two parts:\n",
    "\n",
    "1. Select one of four categories-characteristics of the provided set of tokens by answering the question ”Is it\n",
    "possible to determine a common topic for the presented word set or at least for the most part of the set?”. They could answer one of the following: yes - if they agree with the statement and words have a strong connection between them, rather yes - if some words are too common or out of topic, rather no - if the amount of irrelevant words is high to determine a topic or there is a mixture of topics, no - when words seem to be unconnected.\n",
    "\n",
    "2. In case of answering yes or rather yes on the first part of the task, assessors were asked to mark the words that they think are out of the topic. Also, they are asked to enter the topic’s name in free form (Name the common topic with one or few words)."
   ]
  },
  {
   "cell_type": "code",
   "execution_count": 1,
   "id": "48e01f8a",
   "metadata": {},
   "outputs": [],
   "source": [
    "from pathlib import Path\n",
    "import pandas as pd\n",
    "import seaborn as sns\n",
    "import dateutil\n",
    "import numpy as np\n",
    "from crowdkit.aggregation import MajorityVote, Wawa, DawidSkene\n",
    "import re\n",
    "import matplotlib.pyplot as plt\n",
    "import json\n",
    "\n",
    "import sys\n",
    "import os\n",
    "sys.path.append(os.path.join(sys.path[0], '../src'))\n",
    "\n",
    "from data_preprocessing import TextPreprocessor"
   ]
  },
  {
   "cell_type": "code",
   "execution_count": 2,
   "id": "b984c46a",
   "metadata": {},
   "outputs": [],
   "source": [
    "sns.set_style(\"whitegrid\")"
   ]
  },
  {
   "cell_type": "markdown",
   "id": "d1cc7611",
   "metadata": {},
   "source": [
    "### Eng Language"
   ]
  },
  {
   "cell_type": "code",
   "execution_count": 3,
   "id": "77d04bd4",
   "metadata": {},
   "outputs": [],
   "source": [
    "BASE_DIR = Path('EDA.ipynb').resolve().parent.parent\n",
    "DATA_DIR = BASE_DIR.joinpath('data/TOLOKA_Markup')\n",
    "\n",
    "FILE_NAME_1 = \"assignments_from_pool_35355351__11-09-2022.tsv\"\n",
    "FILE_NAME_2 = \"assignments_from_pool_35369313__12-09-2022.tsv\"\n",
    "FILE_NAME_3 = \"assignments_from_pool_35432328__15-09-2022.tsv\"\n",
    "FILE_NAME_4 = \"assignments_from_pool_35480971__19-09-2022.tsv\"\n",
    "\n",
    "FILE_1 = DATA_DIR.joinpath(FILE_NAME_1)\n",
    "FILE_2 = DATA_DIR.joinpath(FILE_NAME_2)\n",
    "FILE_3 = DATA_DIR.joinpath(FILE_NAME_3)\n",
    "FILE_4 = DATA_DIR.joinpath(FILE_NAME_4)"
   ]
  },
  {
   "cell_type": "code",
   "execution_count": 4,
   "id": "4b432d0a",
   "metadata": {},
   "outputs": [
    {
     "data": {
      "text/html": [
       "<div>\n",
       "<style scoped>\n",
       "    .dataframe tbody tr th:only-of-type {\n",
       "        vertical-align: middle;\n",
       "    }\n",
       "\n",
       "    .dataframe tbody tr th {\n",
       "        vertical-align: top;\n",
       "    }\n",
       "\n",
       "    .dataframe thead th {\n",
       "        text-align: right;\n",
       "    }\n",
       "</style>\n",
       "<table border=\"1\" class=\"dataframe\">\n",
       "  <thead>\n",
       "    <tr style=\"text-align: right;\">\n",
       "      <th></th>\n",
       "      <th>INPUT:exp_id</th>\n",
       "      <th>INPUT:wordset</th>\n",
       "      <th>INPUT:model_id</th>\n",
       "      <th>INPUT:topic_id</th>\n",
       "      <th>INPUT:dataset_name</th>\n",
       "      <th>INPUT:correct_bad_words</th>\n",
       "      <th>OUTPUT:quality</th>\n",
       "      <th>OUTPUT:bad_words</th>\n",
       "      <th>OUTPUT:topic_name</th>\n",
       "      <th>OUTPUT:golden_bad_words</th>\n",
       "      <th>...</th>\n",
       "      <th>ASSIGNMENT:task_suite_id</th>\n",
       "      <th>ASSIGNMENT:worker_id</th>\n",
       "      <th>ASSIGNMENT:status</th>\n",
       "      <th>ASSIGNMENT:started</th>\n",
       "      <th>ASSIGNMENT:submitted</th>\n",
       "      <th>ASSIGNMENT:accepted</th>\n",
       "      <th>ASSIGNMENT:rejected</th>\n",
       "      <th>ASSIGNMENT:skipped</th>\n",
       "      <th>ASSIGNMENT:expired</th>\n",
       "      <th>ASSIGNMENT:reward</th>\n",
       "    </tr>\n",
       "  </thead>\n",
       "  <tbody>\n",
       "    <tr>\n",
       "      <th>0</th>\n",
       "      <td>28.0</td>\n",
       "      <td>driver sound running anybody memory wonder err...</td>\n",
       "      <td>631ba815291a690c5875365a</td>\n",
       "      <td>main24</td>\n",
       "      <td>20newsgroups</td>\n",
       "      <td>NaN</td>\n",
       "      <td>rather_bad</td>\n",
       "      <td>{\"driver\":false,\"sound\":false,\"running\":false,...</td>\n",
       "      <td>NaN</td>\n",
       "      <td>True</td>\n",
       "      <td>...</td>\n",
       "      <td>00021b7ad7--631df4b9a3d75c31d7b50ce1</td>\n",
       "      <td>35c9dec005edb17d8cc11946f9bc4b0f</td>\n",
       "      <td>APPROVED</td>\n",
       "      <td>2022-09-11T14:46:17.435</td>\n",
       "      <td>2022-09-11T14:48:35.368</td>\n",
       "      <td>2022-09-11T14:48:35.368</td>\n",
       "      <td>NaN</td>\n",
       "      <td>NaN</td>\n",
       "      <td>NaN</td>\n",
       "      <td>0.05</td>\n",
       "    </tr>\n",
       "    <tr>\n",
       "      <th>1</th>\n",
       "      <td>28.0</td>\n",
       "      <td>argument colorado conclusion music letter fall...</td>\n",
       "      <td>631bb8282d85fb2da960a6a5</td>\n",
       "      <td>main72</td>\n",
       "      <td>20newsgroups</td>\n",
       "      <td>NaN</td>\n",
       "      <td>bad</td>\n",
       "      <td>{\"argument\":false,\"colorado\":false,\"conclusion...</td>\n",
       "      <td>NaN</td>\n",
       "      <td>True</td>\n",
       "      <td>...</td>\n",
       "      <td>00021b7ad7--631df4b9a3d75c31d7b50ce1</td>\n",
       "      <td>35c9dec005edb17d8cc11946f9bc4b0f</td>\n",
       "      <td>APPROVED</td>\n",
       "      <td>2022-09-11T14:46:17.435</td>\n",
       "      <td>2022-09-11T14:48:35.368</td>\n",
       "      <td>2022-09-11T14:48:35.368</td>\n",
       "      <td>NaN</td>\n",
       "      <td>NaN</td>\n",
       "      <td>NaN</td>\n",
       "      <td>0.05</td>\n",
       "    </tr>\n",
       "    <tr>\n",
       "      <th>2</th>\n",
       "      <td>28.0</td>\n",
       "      <td>love uiuc cwru thought guess wrong sorry frank...</td>\n",
       "      <td>631b95224ac2fcd506e4781a</td>\n",
       "      <td>main4</td>\n",
       "      <td>20newsgroups</td>\n",
       "      <td>NaN</td>\n",
       "      <td>rather_bad</td>\n",
       "      <td>{\"love\":false,\"uiuc\":false,\"cwru\":false,\"thoug...</td>\n",
       "      <td>NaN</td>\n",
       "      <td>True</td>\n",
       "      <td>...</td>\n",
       "      <td>00021b7ad7--631df4b9a3d75c31d7b50ce1</td>\n",
       "      <td>35c9dec005edb17d8cc11946f9bc4b0f</td>\n",
       "      <td>APPROVED</td>\n",
       "      <td>2022-09-11T14:46:17.435</td>\n",
       "      <td>2022-09-11T14:48:35.368</td>\n",
       "      <td>2022-09-11T14:48:35.368</td>\n",
       "      <td>NaN</td>\n",
       "      <td>NaN</td>\n",
       "      <td>NaN</td>\n",
       "      <td>0.05</td>\n",
       "    </tr>\n",
       "    <tr>\n",
       "      <th>3</th>\n",
       "      <td>28.0</td>\n",
       "      <td>engine modem rocket phone model yeast level fr...</td>\n",
       "      <td>631ba1dba6fa8975eb579abd</td>\n",
       "      <td>main13</td>\n",
       "      <td>20newsgroups</td>\n",
       "      <td>NaN</td>\n",
       "      <td>rather_bad</td>\n",
       "      <td>{\"engine\":false,\"modem\":false,\"rocket\":false,\"...</td>\n",
       "      <td>NaN</td>\n",
       "      <td>True</td>\n",
       "      <td>...</td>\n",
       "      <td>00021b7ad7--631df4b9a3d75c31d7b50ce1</td>\n",
       "      <td>35c9dec005edb17d8cc11946f9bc4b0f</td>\n",
       "      <td>APPROVED</td>\n",
       "      <td>2022-09-11T14:46:17.435</td>\n",
       "      <td>2022-09-11T14:48:35.368</td>\n",
       "      <td>2022-09-11T14:48:35.368</td>\n",
       "      <td>NaN</td>\n",
       "      <td>NaN</td>\n",
       "      <td>NaN</td>\n",
       "      <td>0.05</td>\n",
       "    </tr>\n",
       "    <tr>\n",
       "      <th>4</th>\n",
       "      <td>28.0</td>\n",
       "      <td>turkish turkey turk armenia greek nazi azeri s...</td>\n",
       "      <td>631b96bea5a57837b841b5d1</td>\n",
       "      <td>main28</td>\n",
       "      <td>20newsgroups</td>\n",
       "      <td>NaN</td>\n",
       "      <td>rather_good</td>\n",
       "      <td>{\"turkish\":false,\"turkey\":false,\"turk\":false,\"...</td>\n",
       "      <td>Race</td>\n",
       "      <td>True</td>\n",
       "      <td>...</td>\n",
       "      <td>00021b7ad7--631df4b9a3d75c31d7b50ce1</td>\n",
       "      <td>35c9dec005edb17d8cc11946f9bc4b0f</td>\n",
       "      <td>APPROVED</td>\n",
       "      <td>2022-09-11T14:46:17.435</td>\n",
       "      <td>2022-09-11T14:48:35.368</td>\n",
       "      <td>2022-09-11T14:48:35.368</td>\n",
       "      <td>NaN</td>\n",
       "      <td>NaN</td>\n",
       "      <td>NaN</td>\n",
       "      <td>0.05</td>\n",
       "    </tr>\n",
       "    <tr>\n",
       "      <th>5</th>\n",
       "      <td>28.0</td>\n",
       "      <td>country nazi germany german land europe money ...</td>\n",
       "      <td>631bb6faa5a57837b841d979</td>\n",
       "      <td>main3</td>\n",
       "      <td>20newsgroups</td>\n",
       "      <td>NaN</td>\n",
       "      <td>rather_good</td>\n",
       "      <td>{\"country\":false,\"nazi\":false,\"germany\":true,\"...</td>\n",
       "      <td>Germany</td>\n",
       "      <td>True</td>\n",
       "      <td>...</td>\n",
       "      <td>00021b7ad7--631df4b9a3d75c31d7b50ce1</td>\n",
       "      <td>35c9dec005edb17d8cc11946f9bc4b0f</td>\n",
       "      <td>APPROVED</td>\n",
       "      <td>2022-09-11T14:46:17.435</td>\n",
       "      <td>2022-09-11T14:48:35.368</td>\n",
       "      <td>2022-09-11T14:48:35.368</td>\n",
       "      <td>NaN</td>\n",
       "      <td>NaN</td>\n",
       "      <td>NaN</td>\n",
       "      <td>0.05</td>\n",
       "    </tr>\n",
       "    <tr>\n",
       "      <th>6</th>\n",
       "      <td>NaN</td>\n",
       "      <td>NaN</td>\n",
       "      <td>NaN</td>\n",
       "      <td>NaN</td>\n",
       "      <td>NaN</td>\n",
       "      <td>NaN</td>\n",
       "      <td>NaN</td>\n",
       "      <td>NaN</td>\n",
       "      <td>NaN</td>\n",
       "      <td>NaN</td>\n",
       "      <td>...</td>\n",
       "      <td>NaN</td>\n",
       "      <td>NaN</td>\n",
       "      <td>NaN</td>\n",
       "      <td>NaN</td>\n",
       "      <td>NaN</td>\n",
       "      <td>NaN</td>\n",
       "      <td>NaN</td>\n",
       "      <td>NaN</td>\n",
       "      <td>NaN</td>\n",
       "      <td>NaN</td>\n",
       "    </tr>\n",
       "    <tr>\n",
       "      <th>7</th>\n",
       "      <td>28.0</td>\n",
       "      <td>attack lebanese muslim hernlem israeli left tr...</td>\n",
       "      <td>631b96bea5a57837b841b5d1</td>\n",
       "      <td>main1</td>\n",
       "      <td>20newsgroups</td>\n",
       "      <td>NaN</td>\n",
       "      <td>good</td>\n",
       "      <td>{\"attack\":false,\"lebanese\":false,\"muslim\":fals...</td>\n",
       "      <td>War</td>\n",
       "      <td>True</td>\n",
       "      <td>...</td>\n",
       "      <td>00021b7ad7--631df4c241d72e6d49540210</td>\n",
       "      <td>9c19d68db298943ca43bb07b3d320ac7</td>\n",
       "      <td>APPROVED</td>\n",
       "      <td>2022-09-11T14:46:26.065</td>\n",
       "      <td>2022-09-11T14:48:16.890</td>\n",
       "      <td>2022-09-11T14:48:16.890</td>\n",
       "      <td>NaN</td>\n",
       "      <td>NaN</td>\n",
       "      <td>NaN</td>\n",
       "      <td>0.05</td>\n",
       "    </tr>\n",
       "    <tr>\n",
       "      <th>8</th>\n",
       "      <td>28.0</td>\n",
       "      <td>curve drug create libertarian email hold graph...</td>\n",
       "      <td>631bb32427e1a64b30543798</td>\n",
       "      <td>main44</td>\n",
       "      <td>20newsgroups</td>\n",
       "      <td>NaN</td>\n",
       "      <td>bad</td>\n",
       "      <td>{\"curve\":false,\"drug\":false,\"create\":false,\"li...</td>\n",
       "      <td>NaN</td>\n",
       "      <td>True</td>\n",
       "      <td>...</td>\n",
       "      <td>00021b7ad7--631df4c241d72e6d49540210</td>\n",
       "      <td>9c19d68db298943ca43bb07b3d320ac7</td>\n",
       "      <td>APPROVED</td>\n",
       "      <td>2022-09-11T14:46:26.065</td>\n",
       "      <td>2022-09-11T14:48:16.890</td>\n",
       "      <td>2022-09-11T14:48:16.890</td>\n",
       "      <td>NaN</td>\n",
       "      <td>NaN</td>\n",
       "      <td>NaN</td>\n",
       "      <td>0.05</td>\n",
       "    </tr>\n",
       "    <tr>\n",
       "      <th>9</th>\n",
       "      <td>28.0</td>\n",
       "      <td>nasa earth orbit mission launch satellite moon...</td>\n",
       "      <td>631b9549939bfaaca5600f20</td>\n",
       "      <td>main8</td>\n",
       "      <td>20newsgroups</td>\n",
       "      <td>NaN</td>\n",
       "      <td>good</td>\n",
       "      <td>{\"nasa\":false,\"earth\":false,\"orbit\":false,\"mis...</td>\n",
       "      <td>Space exploration</td>\n",
       "      <td>True</td>\n",
       "      <td>...</td>\n",
       "      <td>00021b7ad7--631df4c241d72e6d49540210</td>\n",
       "      <td>9c19d68db298943ca43bb07b3d320ac7</td>\n",
       "      <td>APPROVED</td>\n",
       "      <td>2022-09-11T14:46:26.065</td>\n",
       "      <td>2022-09-11T14:48:16.890</td>\n",
       "      <td>2022-09-11T14:48:16.890</td>\n",
       "      <td>NaN</td>\n",
       "      <td>NaN</td>\n",
       "      <td>NaN</td>\n",
       "      <td>0.05</td>\n",
       "    </tr>\n",
       "  </tbody>\n",
       "</table>\n",
       "<p>10 rows × 31 columns</p>\n",
       "</div>"
      ],
      "text/plain": [
       "   INPUT:exp_id                                      INPUT:wordset  \\\n",
       "0          28.0  driver sound running anybody memory wonder err...   \n",
       "1          28.0  argument colorado conclusion music letter fall...   \n",
       "2          28.0  love uiuc cwru thought guess wrong sorry frank...   \n",
       "3          28.0  engine modem rocket phone model yeast level fr...   \n",
       "4          28.0  turkish turkey turk armenia greek nazi azeri s...   \n",
       "5          28.0  country nazi germany german land europe money ...   \n",
       "6           NaN                                                NaN   \n",
       "7          28.0  attack lebanese muslim hernlem israeli left tr...   \n",
       "8          28.0  curve drug create libertarian email hold graph...   \n",
       "9          28.0  nasa earth orbit mission launch satellite moon...   \n",
       "\n",
       "             INPUT:model_id INPUT:topic_id INPUT:dataset_name  \\\n",
       "0  631ba815291a690c5875365a         main24       20newsgroups   \n",
       "1  631bb8282d85fb2da960a6a5         main72       20newsgroups   \n",
       "2  631b95224ac2fcd506e4781a          main4       20newsgroups   \n",
       "3  631ba1dba6fa8975eb579abd         main13       20newsgroups   \n",
       "4  631b96bea5a57837b841b5d1         main28       20newsgroups   \n",
       "5  631bb6faa5a57837b841d979          main3       20newsgroups   \n",
       "6                       NaN            NaN                NaN   \n",
       "7  631b96bea5a57837b841b5d1          main1       20newsgroups   \n",
       "8  631bb32427e1a64b30543798         main44       20newsgroups   \n",
       "9  631b9549939bfaaca5600f20          main8       20newsgroups   \n",
       "\n",
       "   INPUT:correct_bad_words OUTPUT:quality  \\\n",
       "0                      NaN     rather_bad   \n",
       "1                      NaN            bad   \n",
       "2                      NaN     rather_bad   \n",
       "3                      NaN     rather_bad   \n",
       "4                      NaN    rather_good   \n",
       "5                      NaN    rather_good   \n",
       "6                      NaN            NaN   \n",
       "7                      NaN           good   \n",
       "8                      NaN            bad   \n",
       "9                      NaN           good   \n",
       "\n",
       "                                    OUTPUT:bad_words   OUTPUT:topic_name  \\\n",
       "0  {\"driver\":false,\"sound\":false,\"running\":false,...                 NaN   \n",
       "1  {\"argument\":false,\"colorado\":false,\"conclusion...                 NaN   \n",
       "2  {\"love\":false,\"uiuc\":false,\"cwru\":false,\"thoug...                 NaN   \n",
       "3  {\"engine\":false,\"modem\":false,\"rocket\":false,\"...                 NaN   \n",
       "4  {\"turkish\":false,\"turkey\":false,\"turk\":false,\"...                Race   \n",
       "5  {\"country\":false,\"nazi\":false,\"germany\":true,\"...             Germany   \n",
       "6                                                NaN                 NaN   \n",
       "7  {\"attack\":false,\"lebanese\":false,\"muslim\":fals...                War    \n",
       "8  {\"curve\":false,\"drug\":false,\"create\":false,\"li...                 NaN   \n",
       "9  {\"nasa\":false,\"earth\":false,\"orbit\":false,\"mis...  Space exploration    \n",
       "\n",
       "  OUTPUT:golden_bad_words  ...              ASSIGNMENT:task_suite_id  \\\n",
       "0                    True  ...  00021b7ad7--631df4b9a3d75c31d7b50ce1   \n",
       "1                    True  ...  00021b7ad7--631df4b9a3d75c31d7b50ce1   \n",
       "2                    True  ...  00021b7ad7--631df4b9a3d75c31d7b50ce1   \n",
       "3                    True  ...  00021b7ad7--631df4b9a3d75c31d7b50ce1   \n",
       "4                    True  ...  00021b7ad7--631df4b9a3d75c31d7b50ce1   \n",
       "5                    True  ...  00021b7ad7--631df4b9a3d75c31d7b50ce1   \n",
       "6                     NaN  ...                                   NaN   \n",
       "7                    True  ...  00021b7ad7--631df4c241d72e6d49540210   \n",
       "8                    True  ...  00021b7ad7--631df4c241d72e6d49540210   \n",
       "9                    True  ...  00021b7ad7--631df4c241d72e6d49540210   \n",
       "\n",
       "               ASSIGNMENT:worker_id  ASSIGNMENT:status  \\\n",
       "0  35c9dec005edb17d8cc11946f9bc4b0f           APPROVED   \n",
       "1  35c9dec005edb17d8cc11946f9bc4b0f           APPROVED   \n",
       "2  35c9dec005edb17d8cc11946f9bc4b0f           APPROVED   \n",
       "3  35c9dec005edb17d8cc11946f9bc4b0f           APPROVED   \n",
       "4  35c9dec005edb17d8cc11946f9bc4b0f           APPROVED   \n",
       "5  35c9dec005edb17d8cc11946f9bc4b0f           APPROVED   \n",
       "6                               NaN                NaN   \n",
       "7  9c19d68db298943ca43bb07b3d320ac7           APPROVED   \n",
       "8  9c19d68db298943ca43bb07b3d320ac7           APPROVED   \n",
       "9  9c19d68db298943ca43bb07b3d320ac7           APPROVED   \n",
       "\n",
       "        ASSIGNMENT:started     ASSIGNMENT:submitted      ASSIGNMENT:accepted  \\\n",
       "0  2022-09-11T14:46:17.435  2022-09-11T14:48:35.368  2022-09-11T14:48:35.368   \n",
       "1  2022-09-11T14:46:17.435  2022-09-11T14:48:35.368  2022-09-11T14:48:35.368   \n",
       "2  2022-09-11T14:46:17.435  2022-09-11T14:48:35.368  2022-09-11T14:48:35.368   \n",
       "3  2022-09-11T14:46:17.435  2022-09-11T14:48:35.368  2022-09-11T14:48:35.368   \n",
       "4  2022-09-11T14:46:17.435  2022-09-11T14:48:35.368  2022-09-11T14:48:35.368   \n",
       "5  2022-09-11T14:46:17.435  2022-09-11T14:48:35.368  2022-09-11T14:48:35.368   \n",
       "6                      NaN                      NaN                      NaN   \n",
       "7  2022-09-11T14:46:26.065  2022-09-11T14:48:16.890  2022-09-11T14:48:16.890   \n",
       "8  2022-09-11T14:46:26.065  2022-09-11T14:48:16.890  2022-09-11T14:48:16.890   \n",
       "9  2022-09-11T14:46:26.065  2022-09-11T14:48:16.890  2022-09-11T14:48:16.890   \n",
       "\n",
       "   ASSIGNMENT:rejected  ASSIGNMENT:skipped ASSIGNMENT:expired  \\\n",
       "0                  NaN                 NaN                NaN   \n",
       "1                  NaN                 NaN                NaN   \n",
       "2                  NaN                 NaN                NaN   \n",
       "3                  NaN                 NaN                NaN   \n",
       "4                  NaN                 NaN                NaN   \n",
       "5                  NaN                 NaN                NaN   \n",
       "6                  NaN                 NaN                NaN   \n",
       "7                  NaN                 NaN                NaN   \n",
       "8                  NaN                 NaN                NaN   \n",
       "9                  NaN                 NaN                NaN   \n",
       "\n",
       "  ASSIGNMENT:reward  \n",
       "0              0.05  \n",
       "1              0.05  \n",
       "2              0.05  \n",
       "3              0.05  \n",
       "4              0.05  \n",
       "5              0.05  \n",
       "6               NaN  \n",
       "7              0.05  \n",
       "8              0.05  \n",
       "9              0.05  \n",
       "\n",
       "[10 rows x 31 columns]"
      ]
     },
     "execution_count": 4,
     "metadata": {},
     "output_type": "execute_result"
    }
   ],
   "source": [
    "df1 = pd.read_csv(FILE_1, sep=\"\\t\")\n",
    "df2 = pd.read_csv(FILE_2, sep=\"\\t\")\n",
    "df3 = pd.read_csv(FILE_3, sep=\"\\t\")\n",
    "df4 = pd.read_csv(FILE_4, sep=\"\\t\")\n",
    "\n",
    "data = pd.concat([df1, df2, df3, df4])\n",
    "\n",
    "data.head(10)"
   ]
  },
  {
   "cell_type": "code",
   "execution_count": 5,
   "id": "34623eec",
   "metadata": {},
   "outputs": [
    {
     "name": "stdout",
     "output_type": "stream",
     "text": [
      "<class 'pandas.core.frame.DataFrame'>\n",
      "Int64Index: 25922 entries, 0 to 9906\n",
      "Data columns (total 31 columns):\n",
      " #   Column                        Non-Null Count  Dtype  \n",
      "---  ------                        --------------  -----  \n",
      " 0   INPUT:exp_id                  22216 non-null  float64\n",
      " 1   INPUT:wordset                 22216 non-null  object \n",
      " 2   INPUT:model_id                22216 non-null  object \n",
      " 3   INPUT:topic_id                22216 non-null  object \n",
      " 4   INPUT:dataset_name            22216 non-null  object \n",
      " 5   INPUT:correct_bad_words       0 non-null      float64\n",
      " 6   OUTPUT:quality                20854 non-null  object \n",
      " 7   OUTPUT:bad_words              20854 non-null  object \n",
      " 8   OUTPUT:topic_name             9015 non-null   object \n",
      " 9   OUTPUT:golden_bad_words       20854 non-null  object \n",
      " 10  OUTPUT:golden_binary_quality  20854 non-null  object \n",
      " 11  GOLDEN:quality                0 non-null      float64\n",
      " 12  GOLDEN:bad_words              0 non-null      float64\n",
      " 13  GOLDEN:topic_name             0 non-null      float64\n",
      " 14  GOLDEN:golden_bad_words       0 non-null      float64\n",
      " 15  GOLDEN:golden_binary_quality  3706 non-null   object \n",
      " 16  HINT:text                     0 non-null      float64\n",
      " 17  HINT:default_language         0 non-null      float64\n",
      " 18  ASSIGNMENT:link               22216 non-null  object \n",
      " 19  ASSIGNMENT:task_id            22216 non-null  object \n",
      " 20  ASSIGNMENT:assignment_id      22216 non-null  object \n",
      " 21  ASSIGNMENT:task_suite_id      22216 non-null  object \n",
      " 22  ASSIGNMENT:worker_id          22216 non-null  object \n",
      " 23  ASSIGNMENT:status             22216 non-null  object \n",
      " 24  ASSIGNMENT:started            22216 non-null  object \n",
      " 25  ASSIGNMENT:submitted          20854 non-null  object \n",
      " 26  ASSIGNMENT:accepted           20854 non-null  object \n",
      " 27  ASSIGNMENT:rejected           0 non-null      float64\n",
      " 28  ASSIGNMENT:skipped            36 non-null     object \n",
      " 29  ASSIGNMENT:expired            1326 non-null   object \n",
      " 30  ASSIGNMENT:reward             22216 non-null  float64\n",
      "dtypes: float64(10), object(21)\n",
      "memory usage: 6.3+ MB\n"
     ]
    }
   ],
   "source": [
    "data.info()"
   ]
  },
  {
   "cell_type": "code",
   "execution_count": 6,
   "id": "ad760d97",
   "metadata": {},
   "outputs": [
    {
     "name": "stdout",
     "output_type": "stream",
     "text": [
      "Index(['INPUT:exp_id', 'INPUT:wordset', 'INPUT:model_id', 'INPUT:topic_id',\n",
      "       'INPUT:dataset_name', 'INPUT:correct_bad_words', 'OUTPUT:quality',\n",
      "       'OUTPUT:bad_words', 'OUTPUT:topic_name', 'OUTPUT:golden_bad_words',\n",
      "       'OUTPUT:golden_binary_quality', 'GOLDEN:quality', 'GOLDEN:bad_words',\n",
      "       'GOLDEN:topic_name', 'GOLDEN:golden_bad_words',\n",
      "       'GOLDEN:golden_binary_quality', 'HINT:text', 'HINT:default_language',\n",
      "       'ASSIGNMENT:link', 'ASSIGNMENT:task_id', 'ASSIGNMENT:assignment_id',\n",
      "       'ASSIGNMENT:task_suite_id', 'ASSIGNMENT:worker_id', 'ASSIGNMENT:status',\n",
      "       'ASSIGNMENT:started', 'ASSIGNMENT:submitted', 'ASSIGNMENT:accepted',\n",
      "       'ASSIGNMENT:rejected', 'ASSIGNMENT:skipped', 'ASSIGNMENT:expired',\n",
      "       'ASSIGNMENT:reward'],\n",
      "      dtype='object')\n"
     ]
    }
   ],
   "source": [
    "print(data.columns)"
   ]
  },
  {
   "cell_type": "markdown",
   "id": "50321624",
   "metadata": {},
   "source": [
    "There are columns and rows with all NaNs"
   ]
  },
  {
   "cell_type": "code",
   "execution_count": 7,
   "id": "2d10a3bc",
   "metadata": {},
   "outputs": [
    {
     "name": "stdout",
     "output_type": "stream",
     "text": [
      "{nan, 'amazon_food', '20newsgroups'}\n"
     ]
    }
   ],
   "source": [
    "print(set(data[\"INPUT:dataset_name\"]))"
   ]
  },
  {
   "cell_type": "code",
   "execution_count": 8,
   "id": "5ffa4ab3",
   "metadata": {},
   "outputs": [
    {
     "name": "stdout",
     "output_type": "stream",
     "text": [
      "<class 'pandas.core.frame.DataFrame'>\n",
      "Int64Index: 22216 entries, 0 to 9905\n",
      "Data columns (total 23 columns):\n",
      " #   Column                        Non-Null Count  Dtype  \n",
      "---  ------                        --------------  -----  \n",
      " 0   INPUT:exp_id                  22216 non-null  float64\n",
      " 1   INPUT:wordset                 22216 non-null  object \n",
      " 2   INPUT:model_id                22216 non-null  object \n",
      " 3   INPUT:topic_id                22216 non-null  object \n",
      " 4   INPUT:dataset_name            22216 non-null  object \n",
      " 5   OUTPUT:quality                20854 non-null  object \n",
      " 6   OUTPUT:bad_words              20854 non-null  object \n",
      " 7   OUTPUT:topic_name             9015 non-null   object \n",
      " 8   OUTPUT:golden_bad_words       20854 non-null  object \n",
      " 9   OUTPUT:golden_binary_quality  20854 non-null  object \n",
      " 10  GOLDEN:golden_binary_quality  3706 non-null   object \n",
      " 11  ASSIGNMENT:link               22216 non-null  object \n",
      " 12  ASSIGNMENT:task_id            22216 non-null  object \n",
      " 13  ASSIGNMENT:assignment_id      22216 non-null  object \n",
      " 14  ASSIGNMENT:task_suite_id      22216 non-null  object \n",
      " 15  ASSIGNMENT:worker_id          22216 non-null  object \n",
      " 16  ASSIGNMENT:status             22216 non-null  object \n",
      " 17  ASSIGNMENT:started            22216 non-null  object \n",
      " 18  ASSIGNMENT:submitted          20854 non-null  object \n",
      " 19  ASSIGNMENT:accepted           20854 non-null  object \n",
      " 20  ASSIGNMENT:skipped            36 non-null     object \n",
      " 21  ASSIGNMENT:expired            1326 non-null   object \n",
      " 22  ASSIGNMENT:reward             22216 non-null  float64\n",
      "dtypes: float64(2), object(21)\n",
      "memory usage: 4.1+ MB\n"
     ]
    }
   ],
   "source": [
    "# Remove rows with NaNs\n",
    "data.dropna(axis=0, how='all', inplace=True)\n",
    "# Remove columns with NaNs\n",
    "data.dropna(axis=1, how='all', inplace=True)\n",
    "data.info()"
   ]
  },
  {
   "cell_type": "code",
   "execution_count": 9,
   "id": "33a6a66f",
   "metadata": {},
   "outputs": [
    {
     "name": "stdout",
     "output_type": "stream",
     "text": [
      "<class 'pandas.core.frame.DataFrame'>\n",
      "Int64Index: 22216 entries, 0 to 9905\n",
      "Data columns (total 23 columns):\n",
      " #   Column                        Non-Null Count  Dtype  \n",
      "---  ------                        --------------  -----  \n",
      " 0   INPUT:exp_id                  22216 non-null  float64\n",
      " 1   INPUT:wordset                 22216 non-null  object \n",
      " 2   INPUT:model_id                22216 non-null  object \n",
      " 3   INPUT:topic_id                22216 non-null  object \n",
      " 4   INPUT:dataset_name            22216 non-null  object \n",
      " 5   OUTPUT:quality                20854 non-null  object \n",
      " 6   OUTPUT:bad_words              20854 non-null  object \n",
      " 7   OUTPUT:topic_name             9015 non-null   object \n",
      " 8   OUTPUT:golden_bad_words       20854 non-null  object \n",
      " 9   OUTPUT:golden_binary_quality  20854 non-null  object \n",
      " 10  GOLDEN:golden_binary_quality  3706 non-null   object \n",
      " 11  ASSIGNMENT:link               22216 non-null  object \n",
      " 12  ASSIGNMENT:task_id            22216 non-null  object \n",
      " 13  ASSIGNMENT:assignment_id      22216 non-null  object \n",
      " 14  ASSIGNMENT:task_suite_id      22216 non-null  object \n",
      " 15  ASSIGNMENT:worker_id          22216 non-null  object \n",
      " 16  ASSIGNMENT:status             22216 non-null  object \n",
      " 17  ASSIGNMENT:started            22216 non-null  object \n",
      " 18  ASSIGNMENT:submitted          20854 non-null  object \n",
      " 19  ASSIGNMENT:accepted           20854 non-null  object \n",
      " 20  ASSIGNMENT:skipped            36 non-null     object \n",
      " 21  ASSIGNMENT:expired            1326 non-null   object \n",
      " 22  ASSIGNMENT:reward             22216 non-null  float64\n",
      "dtypes: float64(2), object(21)\n",
      "memory usage: 4.1+ MB\n"
     ]
    }
   ],
   "source": [
    "# Remove duplicates\n",
    "data = data.drop_duplicates()\n",
    "data.info()"
   ]
  },
  {
   "cell_type": "markdown",
   "id": "161cdbd3",
   "metadata": {},
   "source": [
    "As we can see from the information there are no duplicates "
   ]
  },
  {
   "cell_type": "code",
   "execution_count": 10,
   "id": "fcd2c6fd",
   "metadata": {},
   "outputs": [
    {
     "data": {
      "text/plain": [
       "'driver sound running anybody memory wonder error fine works appreciate check tape machine sorry utexas'"
      ]
     },
     "execution_count": 10,
     "metadata": {},
     "output_type": "execute_result"
    }
   ],
   "source": [
    "# Analyze the INPUT data\n",
    "data.iloc[0][\"INPUT:wordset\"]"
   ]
  },
  {
   "cell_type": "markdown",
   "id": "883d75eb",
   "metadata": {},
   "source": [
    "### Check skipped responses"
   ]
  },
  {
   "cell_type": "code",
   "execution_count": 11,
   "id": "cb938a74",
   "metadata": {},
   "outputs": [
    {
     "name": "stdout",
     "output_type": "stream",
     "text": [
      "The number of skipped responses: 36\n",
      "<class 'pandas.core.frame.DataFrame'>\n",
      "Int64Index: 22180 entries, 0 to 9877\n",
      "Data columns (total 22 columns):\n",
      " #   Column                        Non-Null Count  Dtype  \n",
      "---  ------                        --------------  -----  \n",
      " 0   INPUT:exp_id                  22180 non-null  float64\n",
      " 1   INPUT:wordset                 22180 non-null  object \n",
      " 2   INPUT:model_id                22180 non-null  object \n",
      " 3   INPUT:topic_id                22180 non-null  object \n",
      " 4   INPUT:dataset_name            22180 non-null  object \n",
      " 5   OUTPUT:quality                20854 non-null  object \n",
      " 6   OUTPUT:bad_words              20854 non-null  object \n",
      " 7   OUTPUT:topic_name             9015 non-null   object \n",
      " 8   OUTPUT:golden_bad_words       20854 non-null  object \n",
      " 9   OUTPUT:golden_binary_quality  20854 non-null  object \n",
      " 10  GOLDEN:golden_binary_quality  3700 non-null   object \n",
      " 11  ASSIGNMENT:link               22180 non-null  object \n",
      " 12  ASSIGNMENT:task_id            22180 non-null  object \n",
      " 13  ASSIGNMENT:assignment_id      22180 non-null  object \n",
      " 14  ASSIGNMENT:task_suite_id      22180 non-null  object \n",
      " 15  ASSIGNMENT:worker_id          22180 non-null  object \n",
      " 16  ASSIGNMENT:status             22180 non-null  object \n",
      " 17  ASSIGNMENT:started            22180 non-null  object \n",
      " 18  ASSIGNMENT:submitted          20854 non-null  object \n",
      " 19  ASSIGNMENT:accepted           20854 non-null  object \n",
      " 20  ASSIGNMENT:expired            1326 non-null   object \n",
      " 21  ASSIGNMENT:reward             22180 non-null  float64\n",
      "dtypes: float64(2), object(20)\n",
      "memory usage: 3.9+ MB\n",
      "None\n"
     ]
    }
   ],
   "source": [
    "print(f'The number of skipped responses: {len(data[data[\"ASSIGNMENT:skipped\"].notnull()])}')\n",
    "# Remove all skipped responses\n",
    "data = data[data[\"ASSIGNMENT:skipped\"].isna()]\n",
    "# Remove skipped column\n",
    "data.drop(labels=[\"ASSIGNMENT:skipped\"], axis=1, inplace=True)\n",
    "print(data.info())"
   ]
  },
  {
   "cell_type": "markdown",
   "id": "1f8948c9",
   "metadata": {},
   "source": [
    "### Check expared responses"
   ]
  },
  {
   "cell_type": "code",
   "execution_count": 12,
   "id": "b3c1ce45",
   "metadata": {},
   "outputs": [
    {
     "name": "stdout",
     "output_type": "stream",
     "text": [
      "The number of expared responses: 1326\n",
      "<class 'pandas.core.frame.DataFrame'>\n",
      "Int64Index: 20854 entries, 0 to 9240\n",
      "Data columns (total 21 columns):\n",
      " #   Column                        Non-Null Count  Dtype  \n",
      "---  ------                        --------------  -----  \n",
      " 0   INPUT:exp_id                  20854 non-null  float64\n",
      " 1   INPUT:wordset                 20854 non-null  object \n",
      " 2   INPUT:model_id                20854 non-null  object \n",
      " 3   INPUT:topic_id                20854 non-null  object \n",
      " 4   INPUT:dataset_name            20854 non-null  object \n",
      " 5   OUTPUT:quality                20854 non-null  object \n",
      " 6   OUTPUT:bad_words              20854 non-null  object \n",
      " 7   OUTPUT:topic_name             9015 non-null   object \n",
      " 8   OUTPUT:golden_bad_words       20854 non-null  object \n",
      " 9   OUTPUT:golden_binary_quality  20854 non-null  object \n",
      " 10  GOLDEN:golden_binary_quality  3479 non-null   object \n",
      " 11  ASSIGNMENT:link               20854 non-null  object \n",
      " 12  ASSIGNMENT:task_id            20854 non-null  object \n",
      " 13  ASSIGNMENT:assignment_id      20854 non-null  object \n",
      " 14  ASSIGNMENT:task_suite_id      20854 non-null  object \n",
      " 15  ASSIGNMENT:worker_id          20854 non-null  object \n",
      " 16  ASSIGNMENT:status             20854 non-null  object \n",
      " 17  ASSIGNMENT:started            20854 non-null  object \n",
      " 18  ASSIGNMENT:submitted          20854 non-null  object \n",
      " 19  ASSIGNMENT:accepted           20854 non-null  object \n",
      " 20  ASSIGNMENT:reward             20854 non-null  float64\n",
      "dtypes: float64(2), object(19)\n",
      "memory usage: 3.5+ MB\n",
      "None\n"
     ]
    }
   ],
   "source": [
    "print(f'The number of expared responses: {len(data[data[\"ASSIGNMENT:expired\"].notnull()])}')\n",
    "# Remove all expired responses\n",
    "data = data[data[\"ASSIGNMENT:expired\"].isna()]\n",
    "# Remove expired column\n",
    "data.drop(labels=[\"ASSIGNMENT:expired\"], axis=1, inplace=True)\n",
    "print(data.info())"
   ]
  },
  {
   "cell_type": "markdown",
   "id": "5e0cb90d",
   "metadata": {},
   "source": [
    "### Calculate the duration of the response"
   ]
  },
  {
   "cell_type": "code",
   "execution_count": 14,
   "id": "6d02ba25",
   "metadata": {},
   "outputs": [
    {
     "ename": "TypeError",
     "evalue": "Parser must be a string or character stream, not datetime64",
     "output_type": "error",
     "traceback": [
      "\u001b[0;31m---------------------------------------------------------------------------\u001b[0m",
      "\u001b[0;31mTypeError\u001b[0m                                 Traceback (most recent call last)",
      "\u001b[1;32m/home/alexandra/ITMO/RW'23/LLM_QE_TM/notebooks/EDA.ipynb Cell 20\u001b[0m line \u001b[0;36m4\n\u001b[1;32m      <a href='vscode-notebook-cell:/home/alexandra/ITMO/RW%2723/LLM_QE_TM/notebooks/EDA.ipynb#X25sZmlsZQ%3D%3D?line=0'>1</a>\u001b[0m \u001b[39m# Convert from str to datetime\u001b[39;00m\n\u001b[1;32m      <a href='vscode-notebook-cell:/home/alexandra/ITMO/RW%2723/LLM_QE_TM/notebooks/EDA.ipynb#X25sZmlsZQ%3D%3D?line=1'>2</a>\u001b[0m to_datetime \u001b[39m=\u001b[39m \u001b[39mlambda\u001b[39;00m x: dateutil\u001b[39m.\u001b[39mparser\u001b[39m.\u001b[39mparse(x)\n\u001b[0;32m----> <a href='vscode-notebook-cell:/home/alexandra/ITMO/RW%2723/LLM_QE_TM/notebooks/EDA.ipynb#X25sZmlsZQ%3D%3D?line=3'>4</a>\u001b[0m data[\u001b[39m\"\u001b[39m\u001b[39mASSIGNMENT:submitted\u001b[39m\u001b[39m\"\u001b[39m] \u001b[39m=\u001b[39m [to_datetime(date) \u001b[39mfor\u001b[39;00m date \u001b[39min\u001b[39;00m data[\u001b[39m\"\u001b[39m\u001b[39mASSIGNMENT:submitted\u001b[39m\u001b[39m\"\u001b[39m]\u001b[39m.\u001b[39mvalues]\n\u001b[1;32m      <a href='vscode-notebook-cell:/home/alexandra/ITMO/RW%2723/LLM_QE_TM/notebooks/EDA.ipynb#X25sZmlsZQ%3D%3D?line=4'>5</a>\u001b[0m data[\u001b[39m\"\u001b[39m\u001b[39mASSIGNMENT:started\u001b[39m\u001b[39m\"\u001b[39m] \u001b[39m=\u001b[39m [to_datetime(date) \u001b[39mfor\u001b[39;00m date \u001b[39min\u001b[39;00m data[\u001b[39m\"\u001b[39m\u001b[39mASSIGNMENT:started\u001b[39m\u001b[39m\"\u001b[39m]\u001b[39m.\u001b[39mvalues]\n\u001b[1;32m      <a href='vscode-notebook-cell:/home/alexandra/ITMO/RW%2723/LLM_QE_TM/notebooks/EDA.ipynb#X25sZmlsZQ%3D%3D?line=6'>7</a>\u001b[0m data[\u001b[39m\"\u001b[39m\u001b[39mASSIGMNENT:time\u001b[39m\u001b[39m\"\u001b[39m] \u001b[39m=\u001b[39m data[\u001b[39m\"\u001b[39m\u001b[39mASSIGNMENT:submitted\u001b[39m\u001b[39m\"\u001b[39m] \u001b[39m-\u001b[39m data[\u001b[39m\"\u001b[39m\u001b[39mASSIGNMENT:started\u001b[39m\u001b[39m\"\u001b[39m]\n",
      "\u001b[1;32m/home/alexandra/ITMO/RW'23/LLM_QE_TM/notebooks/EDA.ipynb Cell 20\u001b[0m line \u001b[0;36m4\n\u001b[1;32m      <a href='vscode-notebook-cell:/home/alexandra/ITMO/RW%2723/LLM_QE_TM/notebooks/EDA.ipynb#X25sZmlsZQ%3D%3D?line=0'>1</a>\u001b[0m \u001b[39m# Convert from str to datetime\u001b[39;00m\n\u001b[1;32m      <a href='vscode-notebook-cell:/home/alexandra/ITMO/RW%2723/LLM_QE_TM/notebooks/EDA.ipynb#X25sZmlsZQ%3D%3D?line=1'>2</a>\u001b[0m to_datetime \u001b[39m=\u001b[39m \u001b[39mlambda\u001b[39;00m x: dateutil\u001b[39m.\u001b[39mparser\u001b[39m.\u001b[39mparse(x)\n\u001b[0;32m----> <a href='vscode-notebook-cell:/home/alexandra/ITMO/RW%2723/LLM_QE_TM/notebooks/EDA.ipynb#X25sZmlsZQ%3D%3D?line=3'>4</a>\u001b[0m data[\u001b[39m\"\u001b[39m\u001b[39mASSIGNMENT:submitted\u001b[39m\u001b[39m\"\u001b[39m] \u001b[39m=\u001b[39m [to_datetime(date) \u001b[39mfor\u001b[39;00m date \u001b[39min\u001b[39;00m data[\u001b[39m\"\u001b[39m\u001b[39mASSIGNMENT:submitted\u001b[39m\u001b[39m\"\u001b[39m]\u001b[39m.\u001b[39mvalues]\n\u001b[1;32m      <a href='vscode-notebook-cell:/home/alexandra/ITMO/RW%2723/LLM_QE_TM/notebooks/EDA.ipynb#X25sZmlsZQ%3D%3D?line=4'>5</a>\u001b[0m data[\u001b[39m\"\u001b[39m\u001b[39mASSIGNMENT:started\u001b[39m\u001b[39m\"\u001b[39m] \u001b[39m=\u001b[39m [to_datetime(date) \u001b[39mfor\u001b[39;00m date \u001b[39min\u001b[39;00m data[\u001b[39m\"\u001b[39m\u001b[39mASSIGNMENT:started\u001b[39m\u001b[39m\"\u001b[39m]\u001b[39m.\u001b[39mvalues]\n\u001b[1;32m      <a href='vscode-notebook-cell:/home/alexandra/ITMO/RW%2723/LLM_QE_TM/notebooks/EDA.ipynb#X25sZmlsZQ%3D%3D?line=6'>7</a>\u001b[0m data[\u001b[39m\"\u001b[39m\u001b[39mASSIGMNENT:time\u001b[39m\u001b[39m\"\u001b[39m] \u001b[39m=\u001b[39m data[\u001b[39m\"\u001b[39m\u001b[39mASSIGNMENT:submitted\u001b[39m\u001b[39m\"\u001b[39m] \u001b[39m-\u001b[39m data[\u001b[39m\"\u001b[39m\u001b[39mASSIGNMENT:started\u001b[39m\u001b[39m\"\u001b[39m]\n",
      "\u001b[1;32m/home/alexandra/ITMO/RW'23/LLM_QE_TM/notebooks/EDA.ipynb Cell 20\u001b[0m line \u001b[0;36m2\n\u001b[1;32m      <a href='vscode-notebook-cell:/home/alexandra/ITMO/RW%2723/LLM_QE_TM/notebooks/EDA.ipynb#X25sZmlsZQ%3D%3D?line=0'>1</a>\u001b[0m \u001b[39m# Convert from str to datetime\u001b[39;00m\n\u001b[0;32m----> <a href='vscode-notebook-cell:/home/alexandra/ITMO/RW%2723/LLM_QE_TM/notebooks/EDA.ipynb#X25sZmlsZQ%3D%3D?line=1'>2</a>\u001b[0m to_datetime \u001b[39m=\u001b[39m \u001b[39mlambda\u001b[39;00m x: dateutil\u001b[39m.\u001b[39;49mparser\u001b[39m.\u001b[39;49mparse(x)\n\u001b[1;32m      <a href='vscode-notebook-cell:/home/alexandra/ITMO/RW%2723/LLM_QE_TM/notebooks/EDA.ipynb#X25sZmlsZQ%3D%3D?line=3'>4</a>\u001b[0m data[\u001b[39m\"\u001b[39m\u001b[39mASSIGNMENT:submitted\u001b[39m\u001b[39m\"\u001b[39m] \u001b[39m=\u001b[39m [to_datetime(date) \u001b[39mfor\u001b[39;00m date \u001b[39min\u001b[39;00m data[\u001b[39m\"\u001b[39m\u001b[39mASSIGNMENT:submitted\u001b[39m\u001b[39m\"\u001b[39m]\u001b[39m.\u001b[39mvalues]\n\u001b[1;32m      <a href='vscode-notebook-cell:/home/alexandra/ITMO/RW%2723/LLM_QE_TM/notebooks/EDA.ipynb#X25sZmlsZQ%3D%3D?line=4'>5</a>\u001b[0m data[\u001b[39m\"\u001b[39m\u001b[39mASSIGNMENT:started\u001b[39m\u001b[39m\"\u001b[39m] \u001b[39m=\u001b[39m [to_datetime(date) \u001b[39mfor\u001b[39;00m date \u001b[39min\u001b[39;00m data[\u001b[39m\"\u001b[39m\u001b[39mASSIGNMENT:started\u001b[39m\u001b[39m\"\u001b[39m]\u001b[39m.\u001b[39mvalues]\n",
      "File \u001b[0;32m~/.local/lib/python3.9/site-packages/dateutil/parser/_parser.py:1368\u001b[0m, in \u001b[0;36mparse\u001b[0;34m(timestr, parserinfo, **kwargs)\u001b[0m\n\u001b[1;32m   1366\u001b[0m     \u001b[39mreturn\u001b[39;00m parser(parserinfo)\u001b[39m.\u001b[39mparse(timestr, \u001b[39m*\u001b[39m\u001b[39m*\u001b[39mkwargs)\n\u001b[1;32m   1367\u001b[0m \u001b[39melse\u001b[39;00m:\n\u001b[0;32m-> 1368\u001b[0m     \u001b[39mreturn\u001b[39;00m DEFAULTPARSER\u001b[39m.\u001b[39;49mparse(timestr, \u001b[39m*\u001b[39;49m\u001b[39m*\u001b[39;49mkwargs)\n",
      "File \u001b[0;32m~/.local/lib/python3.9/site-packages/dateutil/parser/_parser.py:640\u001b[0m, in \u001b[0;36mparser.parse\u001b[0;34m(self, timestr, default, ignoretz, tzinfos, **kwargs)\u001b[0m\n\u001b[1;32m    636\u001b[0m \u001b[39mif\u001b[39;00m default \u001b[39mis\u001b[39;00m \u001b[39mNone\u001b[39;00m:\n\u001b[1;32m    637\u001b[0m     default \u001b[39m=\u001b[39m datetime\u001b[39m.\u001b[39mdatetime\u001b[39m.\u001b[39mnow()\u001b[39m.\u001b[39mreplace(hour\u001b[39m=\u001b[39m\u001b[39m0\u001b[39m, minute\u001b[39m=\u001b[39m\u001b[39m0\u001b[39m,\n\u001b[1;32m    638\u001b[0m                                               second\u001b[39m=\u001b[39m\u001b[39m0\u001b[39m, microsecond\u001b[39m=\u001b[39m\u001b[39m0\u001b[39m)\n\u001b[0;32m--> 640\u001b[0m res, skipped_tokens \u001b[39m=\u001b[39m \u001b[39mself\u001b[39;49m\u001b[39m.\u001b[39;49m_parse(timestr, \u001b[39m*\u001b[39;49m\u001b[39m*\u001b[39;49mkwargs)\n\u001b[1;32m    642\u001b[0m \u001b[39mif\u001b[39;00m res \u001b[39mis\u001b[39;00m \u001b[39mNone\u001b[39;00m:\n\u001b[1;32m    643\u001b[0m     \u001b[39mraise\u001b[39;00m ParserError(\u001b[39m\"\u001b[39m\u001b[39mUnknown string format: \u001b[39m\u001b[39m%s\u001b[39;00m\u001b[39m\"\u001b[39m, timestr)\n",
      "File \u001b[0;32m~/.local/lib/python3.9/site-packages/dateutil/parser/_parser.py:719\u001b[0m, in \u001b[0;36mparser._parse\u001b[0;34m(self, timestr, dayfirst, yearfirst, fuzzy, fuzzy_with_tokens)\u001b[0m\n\u001b[1;32m    716\u001b[0m     yearfirst \u001b[39m=\u001b[39m info\u001b[39m.\u001b[39myearfirst\n\u001b[1;32m    718\u001b[0m res \u001b[39m=\u001b[39m \u001b[39mself\u001b[39m\u001b[39m.\u001b[39m_result()\n\u001b[0;32m--> 719\u001b[0m l \u001b[39m=\u001b[39m _timelex\u001b[39m.\u001b[39;49msplit(timestr)         \u001b[39m# Splits the timestr into tokens\u001b[39;00m\n\u001b[1;32m    721\u001b[0m skipped_idxs \u001b[39m=\u001b[39m []\n\u001b[1;32m    723\u001b[0m \u001b[39m# year/month/day list\u001b[39;00m\n",
      "File \u001b[0;32m~/.local/lib/python3.9/site-packages/dateutil/parser/_parser.py:201\u001b[0m, in \u001b[0;36m_timelex.split\u001b[0;34m(cls, s)\u001b[0m\n\u001b[1;32m    199\u001b[0m \u001b[39m@classmethod\u001b[39m\n\u001b[1;32m    200\u001b[0m \u001b[39mdef\u001b[39;00m \u001b[39msplit\u001b[39m(\u001b[39mcls\u001b[39m, s):\n\u001b[0;32m--> 201\u001b[0m     \u001b[39mreturn\u001b[39;00m \u001b[39mlist\u001b[39m(\u001b[39mcls\u001b[39;49m(s))\n",
      "File \u001b[0;32m~/.local/lib/python3.9/site-packages/dateutil/parser/_parser.py:69\u001b[0m, in \u001b[0;36m_timelex.__init__\u001b[0;34m(self, instream)\u001b[0m\n\u001b[1;32m     67\u001b[0m     instream \u001b[39m=\u001b[39m StringIO(instream)\n\u001b[1;32m     68\u001b[0m \u001b[39melif\u001b[39;00m \u001b[39mgetattr\u001b[39m(instream, \u001b[39m'\u001b[39m\u001b[39mread\u001b[39m\u001b[39m'\u001b[39m, \u001b[39mNone\u001b[39;00m) \u001b[39mis\u001b[39;00m \u001b[39mNone\u001b[39;00m:\n\u001b[0;32m---> 69\u001b[0m     \u001b[39mraise\u001b[39;00m \u001b[39mTypeError\u001b[39;00m(\u001b[39m'\u001b[39m\u001b[39mParser must be a string or character stream, not \u001b[39m\u001b[39m'\u001b[39m\n\u001b[1;32m     70\u001b[0m                     \u001b[39m'\u001b[39m\u001b[39m{itype}\u001b[39;00m\u001b[39m'\u001b[39m\u001b[39m.\u001b[39mformat(itype\u001b[39m=\u001b[39minstream\u001b[39m.\u001b[39m\u001b[39m__class__\u001b[39m\u001b[39m.\u001b[39m\u001b[39m__name__\u001b[39m))\n\u001b[1;32m     72\u001b[0m \u001b[39mself\u001b[39m\u001b[39m.\u001b[39minstream \u001b[39m=\u001b[39m instream\n\u001b[1;32m     73\u001b[0m \u001b[39mself\u001b[39m\u001b[39m.\u001b[39mcharstack \u001b[39m=\u001b[39m []\n",
      "\u001b[0;31mTypeError\u001b[0m: Parser must be a string or character stream, not datetime64"
     ]
    }
   ],
   "source": [
    "# Convert from str to datetime\n",
    "to_datetime = lambda x: dateutil.parser.parse(x)\n",
    "\n",
    "data[\"ASSIGNMENT:submitted\"] = [to_datetime(date) for date in data[\"ASSIGNMENT:submitted\"].values]\n",
    "data[\"ASSIGNMENT:started\"] = [to_datetime(date) for date in data[\"ASSIGNMENT:started\"].values]\n",
    "\n",
    "data[\"ASSIGMNENT:time\"] = data[\"ASSIGNMENT:submitted\"] - data[\"ASSIGNMENT:started\"]\n",
    "\n",
    "to_seconds = lambda x: x.seconds \n",
    "\n",
    "data[\"ASSIGMNENT:time\"] = [to_seconds(date) for date in data[\"ASSIGMNENT:time\"]]\n",
    "time_diff = data[\"ASSIGMNENT:time\"].value_counts(ascending=True)\n",
    "\n",
    "print(f\"Minimum response time: {min(time_diff)} sec\")\n",
    "print(f\"Maximum response time: {max(time_diff)} sec\")"
   ]
  },
  {
   "cell_type": "markdown",
   "id": "952cb46f",
   "metadata": {},
   "source": [
    "### Check experts"
   ]
  },
  {
   "cell_type": "code",
   "execution_count": 15,
   "id": "296043d5",
   "metadata": {},
   "outputs": [
    {
     "name": "stdout",
     "output_type": "stream",
     "text": [
      "Experts: 912\n"
     ]
    }
   ],
   "source": [
    "print(f'Experts: {len(set(data[\"ASSIGNMENT:worker_id\"]))}')"
   ]
  },
  {
   "cell_type": "code",
   "execution_count": 16,
   "id": "ea79e58d",
   "metadata": {},
   "outputs": [
    {
     "name": "stdout",
     "output_type": "stream",
     "text": [
      "                                                 INPUT:topic_id\n",
      "ASSIGNMENT:worker_id             OUTPUT:quality                \n",
      "00050088af76d06a6247012e98a87023 bad                          2\n",
      "                                 good                         3\n",
      "                                 rather_good                  1\n",
      "008376462dbb509cc4a6c6a8155d29b5 good                         5\n",
      "                                 rather_bad                   4\n",
      "...                                                         ...\n",
      "ffae26b6389ae0b44c2ed2e536a5f996 rather_good                  1\n",
      "ffc5d2a1ec57e1fdabf2151abf1ca025 bad                          2\n",
      "                                 good                         1\n",
      "                                 rather_bad                   1\n",
      "                                 rather_good                  2\n",
      "\n",
      "[2606 rows x 1 columns]\n"
     ]
    }
   ],
   "source": [
    "# Extract the distribution of responses\n",
    "exp_ans_distrib = pd.DataFrame(data.groupby([\"ASSIGNMENT:worker_id\", \"OUTPUT:quality\"])[\"INPUT:topic_id\"].count())\n",
    "print(exp_ans_distrib)"
   ]
  },
  {
   "cell_type": "code",
   "execution_count": 17,
   "id": "0ba85ead",
   "metadata": {},
   "outputs": [
    {
     "name": "stdout",
     "output_type": "stream",
     "text": [
      "The number of unique input texts: 3861\n"
     ]
    }
   ],
   "source": [
    "print(f\"The number of unique input texts: {len(set(data['INPUT:wordset']))}\")"
   ]
  },
  {
   "cell_type": "markdown",
   "id": "f690b200",
   "metadata": {},
   "source": [
    "### Data preproccessing for topic_name\n",
    "\n",
    "1) Lowercase\n",
    "\n",
    "2) Remove punctuation \n",
    "\n",
    "3) Remove extra spaces\n",
    "\n",
    "4) Tokenization \n",
    "\n",
    "5) Remove stop-words\n",
    "\n",
    "6) Lemmatization (?)"
   ]
  },
  {
   "cell_type": "code",
   "execution_count": 18,
   "id": "6e3e6c73",
   "metadata": {},
   "outputs": [
    {
     "name": "stderr",
     "output_type": "stream",
     "text": [
      "[nltk_data] Downloading package wordnet to\n",
      "[nltk_data]     /home/alexandra/nltk_data...\n",
      "[nltk_data]   Package wordnet is already up-to-date!\n",
      "[nltk_data] Downloading package averaged_perceptron_tagger to\n",
      "[nltk_data]     /home/alexandra/nltk_data...\n",
      "[nltk_data]   Package averaged_perceptron_tagger is already up-to-\n",
      "[nltk_data]       date!\n",
      "[nltk_data] Downloading package punkt to /home/alexandra/nltk_data...\n",
      "[nltk_data]   Package punkt is already up-to-date!\n"
     ]
    }
   ],
   "source": [
    "data_preprocessor = TextPreprocessor(lang='eng')"
   ]
  },
  {
   "cell_type": "code",
   "execution_count": 19,
   "id": "f8b8ef1f",
   "metadata": {},
   "outputs": [
    {
     "name": "stdout",
     "output_type": "stream",
     "text": [
      "Womans Thrashed in   a hotel room   !\n",
      "womans thrashed in   a hotel room   !\n",
      "womans thrashed in a hotel room !\n",
      "womans thrashed in a hotel room \n",
      "['womans', 'thrashed', 'in', 'a', 'hotel', 'room']\n",
      "['womans', 'thrashed', 'hotel', 'room']\n",
      "!\n",
      "['womans', 'thrashed', 'hotel', 'room']\n"
     ]
    }
   ],
   "source": [
    "example = 'Womans Thrashed in   a hotel room   !'\n",
    "print(example)\n",
    "example = data_preprocessor.lower_topic(example)\n",
    "print(example)\n",
    "example = data_preprocessor.remove_ext_spaces(example)\n",
    "print(example)\n",
    "example = data_preprocessor.remove_punct(example)\n",
    "print(example)\n",
    "example = data_preprocessor.tokenize(example)\n",
    "print(example)\n",
    "example = data_preprocessor.remove_stop_words(example)\n",
    "print(example)\n",
    "example = data_preprocessor.lemmatize(example)\n",
    "print(example)"
   ]
  },
  {
   "cell_type": "code",
   "execution_count": 20,
   "id": "bf21761f",
   "metadata": {},
   "outputs": [
    {
     "name": "stderr",
     "output_type": "stream",
     "text": [
      "[nltk_data] Downloading package wordnet to\n",
      "[nltk_data]     /home/alexandra/nltk_data...\n",
      "[nltk_data]   Package wordnet is already up-to-date!\n",
      "[nltk_data] Downloading package averaged_perceptron_tagger to\n",
      "[nltk_data]     /home/alexandra/nltk_data...\n",
      "[nltk_data]   Package averaged_perceptron_tagger is already up-to-\n",
      "[nltk_data]       date!\n",
      "[nltk_data] Downloading package punkt to /home/alexandra/nltk_data...\n",
      "[nltk_data]   Package punkt is already up-to-date!\n"
     ]
    }
   ],
   "source": [
    "data_preprocessor = TextPreprocessor(lang='eng')\n",
    "\n",
    "data[\"OUTPUT:topic_name\"] = [data_preprocessor.lower_topic(topic) for topic in data[\"OUTPUT:topic_name\"]]\n",
    "# data[\"OUTPUT:topic_name\"] = [data_preprocessor.remove_ext_spaces(topic) for topic in data[\"OUTPUT:topic_name\"]]\n",
    "# data[\"OUTPUT:topic_name\"] = [data_preprocessor.remove_punct(topic) for topic in data[\"OUTPUT:topic_name\"]]\n",
    "# data[\"OUTPUT:topic_name\"] = [data_preprocessor.tokenize(topic) for topic in data[\"OUTPUT:topic_name\"]]\n",
    "# data[\"OUTPUT:topic_name\"] = [data_preprocessor.remove_stop_words(topic) for topic in data[\"OUTPUT:topic_name\"]]\n",
    "# data[\"OUTPUT:topic_name\"] = [data_preprocessor.lemmatize(topic) for topic in data[\"OUTPUT:topic_name\"]]"
   ]
  },
  {
   "cell_type": "markdown",
   "id": "e0bd7cf6",
   "metadata": {},
   "source": [
    "### Extract main inforamation"
   ]
  },
  {
   "cell_type": "code",
   "execution_count": 21,
   "id": "45ade470",
   "metadata": {},
   "outputs": [
    {
     "data": {
      "text/plain": [
       "Index(['INPUT:exp_id', 'INPUT:wordset', 'INPUT:model_id', 'INPUT:topic_id',\n",
       "       'INPUT:dataset_name', 'OUTPUT:quality', 'OUTPUT:bad_words',\n",
       "       'OUTPUT:topic_name', 'OUTPUT:golden_bad_words',\n",
       "       'OUTPUT:golden_binary_quality', 'GOLDEN:golden_binary_quality',\n",
       "       'ASSIGNMENT:link', 'ASSIGNMENT:task_id', 'ASSIGNMENT:assignment_id',\n",
       "       'ASSIGNMENT:task_suite_id', 'ASSIGNMENT:worker_id', 'ASSIGNMENT:status',\n",
       "       'ASSIGNMENT:started', 'ASSIGNMENT:submitted', 'ASSIGNMENT:accepted',\n",
       "       'ASSIGNMENT:reward', 'ASSIGMNENT:time'],\n",
       "      dtype='object')"
      ]
     },
     "execution_count": 21,
     "metadata": {},
     "output_type": "execute_result"
    }
   ],
   "source": [
    "data.columns"
   ]
  },
  {
   "cell_type": "code",
   "execution_count": 22,
   "id": "c24452a2",
   "metadata": {},
   "outputs": [
    {
     "name": "stdout",
     "output_type": "stream",
     "text": [
      "Datasets: {'amazon_food', '20newsgroups'}\n"
     ]
    }
   ],
   "source": [
    "print(\"Datasets:\", set(data[\"INPUT:dataset_name\"]))"
   ]
  },
  {
   "cell_type": "code",
   "execution_count": 23,
   "id": "2f0e375d",
   "metadata": {},
   "outputs": [
    {
     "name": "stdout",
     "output_type": "stream",
     "text": [
      "OUTPUT:golden_bad_words {True}\n",
      "OUTPUT:golden_binary_quality {False, True}\n",
      "GOLDEN:golden_binary_quality {nan, True, False}\n"
     ]
    }
   ],
   "source": [
    "print(\"OUTPUT:golden_bad_words\", set(data[\"OUTPUT:golden_bad_words\"]))\n",
    "print(\"OUTPUT:golden_binary_quality\", set(data[\"OUTPUT:golden_binary_quality\"]))\n",
    "print(\"GOLDEN:golden_binary_quality\", set(data[\"GOLDEN:golden_binary_quality\"]))"
   ]
  },
  {
   "cell_type": "code",
   "execution_count": 24,
   "id": "2563f3dc",
   "metadata": {},
   "outputs": [
    {
     "data": {
      "text/html": [
       "<div>\n",
       "<style scoped>\n",
       "    .dataframe tbody tr th:only-of-type {\n",
       "        vertical-align: middle;\n",
       "    }\n",
       "\n",
       "    .dataframe tbody tr th {\n",
       "        vertical-align: top;\n",
       "    }\n",
       "\n",
       "    .dataframe thead th {\n",
       "        text-align: right;\n",
       "    }\n",
       "</style>\n",
       "<table border=\"1\" class=\"dataframe\">\n",
       "  <thead>\n",
       "    <tr style=\"text-align: right;\">\n",
       "      <th></th>\n",
       "      <th>ASSIGNMENT:worker_id</th>\n",
       "      <th>INPUT:wordset</th>\n",
       "      <th>OUTPUT:quality</th>\n",
       "      <th>OUTPUT:bad_words</th>\n",
       "      <th>OUTPUT:topic_name</th>\n",
       "      <th>INPUT:dataset_name</th>\n",
       "    </tr>\n",
       "  </thead>\n",
       "  <tbody>\n",
       "    <tr>\n",
       "      <th>0</th>\n",
       "      <td>35c9dec005edb17d8cc11946f9bc4b0f</td>\n",
       "      <td>driver sound running anybody memory wonder err...</td>\n",
       "      <td>rather_bad</td>\n",
       "      <td>{\"driver\":false,\"sound\":false,\"running\":false,...</td>\n",
       "      <td>NaN</td>\n",
       "      <td>20newsgroups</td>\n",
       "    </tr>\n",
       "    <tr>\n",
       "      <th>1</th>\n",
       "      <td>35c9dec005edb17d8cc11946f9bc4b0f</td>\n",
       "      <td>argument colorado conclusion music letter fall...</td>\n",
       "      <td>bad</td>\n",
       "      <td>{\"argument\":false,\"colorado\":false,\"conclusion...</td>\n",
       "      <td>NaN</td>\n",
       "      <td>20newsgroups</td>\n",
       "    </tr>\n",
       "    <tr>\n",
       "      <th>2</th>\n",
       "      <td>35c9dec005edb17d8cc11946f9bc4b0f</td>\n",
       "      <td>love uiuc cwru thought guess wrong sorry frank...</td>\n",
       "      <td>rather_bad</td>\n",
       "      <td>{\"love\":false,\"uiuc\":false,\"cwru\":false,\"thoug...</td>\n",
       "      <td>NaN</td>\n",
       "      <td>20newsgroups</td>\n",
       "    </tr>\n",
       "    <tr>\n",
       "      <th>3</th>\n",
       "      <td>35c9dec005edb17d8cc11946f9bc4b0f</td>\n",
       "      <td>engine modem rocket phone model yeast level fr...</td>\n",
       "      <td>rather_bad</td>\n",
       "      <td>{\"engine\":false,\"modem\":false,\"rocket\":false,\"...</td>\n",
       "      <td>NaN</td>\n",
       "      <td>20newsgroups</td>\n",
       "    </tr>\n",
       "    <tr>\n",
       "      <th>4</th>\n",
       "      <td>35c9dec005edb17d8cc11946f9bc4b0f</td>\n",
       "      <td>turkish turkey turk armenia greek nazi azeri s...</td>\n",
       "      <td>rather_good</td>\n",
       "      <td>{\"turkish\":false,\"turkey\":false,\"turk\":false,\"...</td>\n",
       "      <td>race</td>\n",
       "      <td>20newsgroups</td>\n",
       "    </tr>\n",
       "    <tr>\n",
       "      <th>...</th>\n",
       "      <td>...</td>\n",
       "      <td>...</td>\n",
       "      <td>...</td>\n",
       "      <td>...</td>\n",
       "      <td>...</td>\n",
       "      <td>...</td>\n",
       "    </tr>\n",
       "    <tr>\n",
       "      <th>9236</th>\n",
       "      <td>e50fd70d232733661aef53b7e31c083b</td>\n",
       "      <td>favorite enough blend black fuel fruity jet ro...</td>\n",
       "      <td>rather_bad</td>\n",
       "      <td>{\"favorite\":false,\"enough\":false,\"blend\":false...</td>\n",
       "      <td>NaN</td>\n",
       "      <td>amazon_food</td>\n",
       "    </tr>\n",
       "    <tr>\n",
       "      <th>9237</th>\n",
       "      <td>e50fd70d232733661aef53b7e31c083b</td>\n",
       "      <td>israel pres israeli encryption security arab c...</td>\n",
       "      <td>bad</td>\n",
       "      <td>{\"israel\":false,\"pres\":false,\"israeli\":false,\"...</td>\n",
       "      <td>NaN</td>\n",
       "      <td>20newsgroups</td>\n",
       "    </tr>\n",
       "    <tr>\n",
       "      <th>9238</th>\n",
       "      <td>e50fd70d232733661aef53b7e31c083b</td>\n",
       "      <td>ingredient natural corn free gluten chicken sy...</td>\n",
       "      <td>good</td>\n",
       "      <td>{\"ingredient\":false,\"natural\":false,\"corn\":fal...</td>\n",
       "      <td>pet diet</td>\n",
       "      <td>amazon_food</td>\n",
       "    </tr>\n",
       "    <tr>\n",
       "      <th>9239</th>\n",
       "      <td>e50fd70d232733661aef53b7e31c083b</td>\n",
       "      <td>anything juice wrong guess throw immediately t...</td>\n",
       "      <td>bad</td>\n",
       "      <td>{\"anything\":false,\"juice\":false,\"wrong\":false,...</td>\n",
       "      <td>NaN</td>\n",
       "      <td>amazon_food</td>\n",
       "    </tr>\n",
       "    <tr>\n",
       "      <th>9240</th>\n",
       "      <td>e50fd70d232733661aef53b7e31c083b</td>\n",
       "      <td>espresso cappuccino illy drink mate capsule ht...</td>\n",
       "      <td>rather_good</td>\n",
       "      <td>{\"espresso\":false,\"cappuccino\":false,\"illy\":tr...</td>\n",
       "      <td>drink caffe</td>\n",
       "      <td>amazon_food</td>\n",
       "    </tr>\n",
       "  </tbody>\n",
       "</table>\n",
       "<p>20854 rows × 6 columns</p>\n",
       "</div>"
      ],
      "text/plain": [
       "                  ASSIGNMENT:worker_id  \\\n",
       "0     35c9dec005edb17d8cc11946f9bc4b0f   \n",
       "1     35c9dec005edb17d8cc11946f9bc4b0f   \n",
       "2     35c9dec005edb17d8cc11946f9bc4b0f   \n",
       "3     35c9dec005edb17d8cc11946f9bc4b0f   \n",
       "4     35c9dec005edb17d8cc11946f9bc4b0f   \n",
       "...                                ...   \n",
       "9236  e50fd70d232733661aef53b7e31c083b   \n",
       "9237  e50fd70d232733661aef53b7e31c083b   \n",
       "9238  e50fd70d232733661aef53b7e31c083b   \n",
       "9239  e50fd70d232733661aef53b7e31c083b   \n",
       "9240  e50fd70d232733661aef53b7e31c083b   \n",
       "\n",
       "                                          INPUT:wordset OUTPUT:quality  \\\n",
       "0     driver sound running anybody memory wonder err...     rather_bad   \n",
       "1     argument colorado conclusion music letter fall...            bad   \n",
       "2     love uiuc cwru thought guess wrong sorry frank...     rather_bad   \n",
       "3     engine modem rocket phone model yeast level fr...     rather_bad   \n",
       "4     turkish turkey turk armenia greek nazi azeri s...    rather_good   \n",
       "...                                                 ...            ...   \n",
       "9236  favorite enough blend black fuel fruity jet ro...     rather_bad   \n",
       "9237  israel pres israeli encryption security arab c...            bad   \n",
       "9238  ingredient natural corn free gluten chicken sy...           good   \n",
       "9239  anything juice wrong guess throw immediately t...            bad   \n",
       "9240  espresso cappuccino illy drink mate capsule ht...    rather_good   \n",
       "\n",
       "                                       OUTPUT:bad_words OUTPUT:topic_name  \\\n",
       "0     {\"driver\":false,\"sound\":false,\"running\":false,...               NaN   \n",
       "1     {\"argument\":false,\"colorado\":false,\"conclusion...               NaN   \n",
       "2     {\"love\":false,\"uiuc\":false,\"cwru\":false,\"thoug...               NaN   \n",
       "3     {\"engine\":false,\"modem\":false,\"rocket\":false,\"...               NaN   \n",
       "4     {\"turkish\":false,\"turkey\":false,\"turk\":false,\"...              race   \n",
       "...                                                 ...               ...   \n",
       "9236  {\"favorite\":false,\"enough\":false,\"blend\":false...               NaN   \n",
       "9237  {\"israel\":false,\"pres\":false,\"israeli\":false,\"...               NaN   \n",
       "9238  {\"ingredient\":false,\"natural\":false,\"corn\":fal...         pet diet    \n",
       "9239  {\"anything\":false,\"juice\":false,\"wrong\":false,...               NaN   \n",
       "9240  {\"espresso\":false,\"cappuccino\":false,\"illy\":tr...       drink caffe   \n",
       "\n",
       "     INPUT:dataset_name  \n",
       "0          20newsgroups  \n",
       "1          20newsgroups  \n",
       "2          20newsgroups  \n",
       "3          20newsgroups  \n",
       "4          20newsgroups  \n",
       "...                 ...  \n",
       "9236        amazon_food  \n",
       "9237       20newsgroups  \n",
       "9238        amazon_food  \n",
       "9239        amazon_food  \n",
       "9240        amazon_food  \n",
       "\n",
       "[20854 rows x 6 columns]"
      ]
     },
     "execution_count": 24,
     "metadata": {},
     "output_type": "execute_result"
    }
   ],
   "source": [
    "data = data[[\"ASSIGNMENT:worker_id\", \"INPUT:wordset\", \"OUTPUT:quality\", \"OUTPUT:bad_words\", \"OUTPUT:topic_name\", \"INPUT:dataset_name\"]]\n",
    "data"
   ]
  },
  {
   "cell_type": "code",
   "execution_count": 25,
   "id": "ec9dcee1",
   "metadata": {},
   "outputs": [
    {
     "name": "stdout",
     "output_type": "stream",
     "text": [
      "<class 'pandas.core.frame.DataFrame'>\n",
      "Int64Index: 20854 entries, 0 to 9240\n",
      "Data columns (total 6 columns):\n",
      " #   Column                Non-Null Count  Dtype \n",
      "---  ------                --------------  ----- \n",
      " 0   ASSIGNMENT:worker_id  20854 non-null  object\n",
      " 1   INPUT:wordset         20854 non-null  object\n",
      " 2   OUTPUT:quality        20854 non-null  object\n",
      " 3   OUTPUT:bad_words      20854 non-null  object\n",
      " 4   OUTPUT:topic_name     9015 non-null   object\n",
      " 5   INPUT:dataset_name    20854 non-null  object\n",
      "dtypes: object(6)\n",
      "memory usage: 1.1+ MB\n"
     ]
    }
   ],
   "source": [
    "data.info()"
   ]
  },
  {
   "cell_type": "code",
   "execution_count": 26,
   "id": "4c69fb5c",
   "metadata": {},
   "outputs": [
    {
     "data": {
      "text/plain": [
       "'{\"espresso\":false,\"cappuccino\":false,\"illy\":true,\"drink\":false,\"mate\":false,\"capsule\":false,\"http\":true,\"href\":true,\"com\":true,\"www\":true,\"issimo\":true,\"caffe\":false,\"roast\":false,\"dark\":false,\"cold\":false}'"
      ]
     },
     "execution_count": 26,
     "metadata": {},
     "output_type": "execute_result"
    }
   ],
   "source": [
    "data.loc[9240][\"OUTPUT:bad_words\"]"
   ]
  },
  {
   "cell_type": "markdown",
   "id": "75799704",
   "metadata": {},
   "source": [
    "### Aggregations\n"
   ]
  },
  {
   "cell_type": "code",
   "execution_count": 27,
   "id": "d365376b",
   "metadata": {},
   "outputs": [
    {
     "data": {
      "text/html": [
       "<div>\n",
       "<style scoped>\n",
       "    .dataframe tbody tr th:only-of-type {\n",
       "        vertical-align: middle;\n",
       "    }\n",
       "\n",
       "    .dataframe tbody tr th {\n",
       "        vertical-align: top;\n",
       "    }\n",
       "\n",
       "    .dataframe thead th {\n",
       "        text-align: right;\n",
       "    }\n",
       "</style>\n",
       "<table border=\"1\" class=\"dataframe\">\n",
       "  <thead>\n",
       "    <tr style=\"text-align: right;\">\n",
       "      <th></th>\n",
       "      <th></th>\n",
       "      <th>ASSIGNMENT:worker_id</th>\n",
       "    </tr>\n",
       "    <tr>\n",
       "      <th>INPUT:wordset</th>\n",
       "      <th>INPUT:dataset_name</th>\n",
       "      <th></th>\n",
       "    </tr>\n",
       "  </thead>\n",
       "  <tbody>\n",
       "    <tr>\n",
       "      <th>able amaze fill glad stop daily fantastic move prime plenty empty subtle job strongly litter</th>\n",
       "      <th>amazon_food</th>\n",
       "      <td>3</td>\n",
       "    </tr>\n",
       "    <tr>\n",
       "      <th>able amaze fill stop glad daily fantastic move plenty prime empty job subtle strongly litter</th>\n",
       "      <th>amazon_food</th>\n",
       "      <td>12</td>\n",
       "    </tr>\n",
       "    <tr>\n",
       "      <th>able amaze fill stop glad daily fantastic move plenty prime empty subtle job strongly litter</th>\n",
       "      <th>amazon_food</th>\n",
       "      <td>3</td>\n",
       "    </tr>\n",
       "    <tr>\n",
       "      <th>able amaze glad fill stop fantastic daily move prime empty plenty subtle job strongly litter</th>\n",
       "      <th>amazon_food</th>\n",
       "      <td>3</td>\n",
       "    </tr>\n",
       "    <tr>\n",
       "      <th>absolute church truth doug scripture symbol libxmu font bible free undefined type motif error application</th>\n",
       "      <th>20newsgroups</th>\n",
       "      <td>5</td>\n",
       "    </tr>\n",
       "    <tr>\n",
       "      <th>...</th>\n",
       "      <th>...</th>\n",
       "      <td>...</td>\n",
       "    </tr>\n",
       "    <tr>\n",
       "      <th>year two size old every last month start since week several baby long three ago</th>\n",
       "      <th>amazon_food</th>\n",
       "      <td>3</td>\n",
       "    </tr>\n",
       "    <tr>\n",
       "      <th>year two size old every last month start week since several baby long ago three</th>\n",
       "      <th>amazon_food</th>\n",
       "      <td>6</td>\n",
       "    </tr>\n",
       "    <tr>\n",
       "      <th>year two size old last month every start week since baby several long ago three</th>\n",
       "      <th>amazon_food</th>\n",
       "      <td>3</td>\n",
       "    </tr>\n",
       "    <tr>\n",
       "      <th>year work two every size old last month start long week baby several small three</th>\n",
       "      <th>amazon_food</th>\n",
       "      <td>3</td>\n",
       "    </tr>\n",
       "    <tr>\n",
       "      <th>year work two size old last month start long week small baby several three big</th>\n",
       "      <th>amazon_food</th>\n",
       "      <td>3</td>\n",
       "    </tr>\n",
       "  </tbody>\n",
       "</table>\n",
       "<p>3861 rows × 1 columns</p>\n",
       "</div>"
      ],
      "text/plain": [
       "                                                                       ASSIGNMENT:worker_id\n",
       "INPUT:wordset                                      INPUT:dataset_name                      \n",
       "able amaze fill glad stop daily fantastic move ... amazon_food                            3\n",
       "able amaze fill stop glad daily fantastic move ... amazon_food                           12\n",
       "able amaze fill stop glad daily fantastic move ... amazon_food                            3\n",
       "able amaze glad fill stop fantastic daily move ... amazon_food                            3\n",
       "absolute church truth doug scripture symbol lib... 20newsgroups                           5\n",
       "...                                                                                     ...\n",
       "year two size old every last month start since ... amazon_food                            3\n",
       "year two size old every last month start week s... amazon_food                            6\n",
       "year two size old last month every start week s... amazon_food                            3\n",
       "year work two every size old last month start l... amazon_food                            3\n",
       "year work two size old last month start long we... amazon_food                            3\n",
       "\n",
       "[3861 rows x 1 columns]"
      ]
     },
     "execution_count": 27,
     "metadata": {},
     "output_type": "execute_result"
    }
   ],
   "source": [
    "# Extract unique wordsets with dataset_name\n",
    "datasets_name = pd.DataFrame(data.groupby([\"INPUT:wordset\", \"INPUT:dataset_name\"])[\"ASSIGNMENT:worker_id\"].count())\n",
    "datasets_name"
   ]
  },
  {
   "cell_type": "code",
   "execution_count": 28,
   "id": "f2a85905",
   "metadata": {},
   "outputs": [],
   "source": [
    "DATA_DIR = BASE_DIR.joinpath('data/datasets')\n",
    "\n",
    "FILE_NAME = \"datasets_name.csv\"\n",
    "\n",
    "FILE = DATA_DIR.joinpath(FILE_NAME)\n",
    "\n",
    "datasets_name.to_csv(FILE)"
   ]
  },
  {
   "cell_type": "code",
   "execution_count": 29,
   "id": "397f43ec",
   "metadata": {},
   "outputs": [
    {
     "name": "stdout",
     "output_type": "stream",
     "text": [
      "                                                                   ASSIGNMENT:worker_id\n",
      "INPUT:wordset                                      OUTPUT:quality                      \n",
      "able amaze fill glad stop daily fantastic move ... bad                                1\n",
      "                                                   rather_bad                         2\n",
      "able amaze fill stop glad daily fantastic move ... bad                                4\n",
      "                                                   good                               1\n",
      "                                                   rather_bad                         6\n",
      "...                                                                                 ...\n",
      "year two size old last month every start week s... good                               1\n",
      "                                                   rather_bad                         1\n",
      "year work two every size old last month start l... bad                                2\n",
      "                                                   rather_bad                         1\n",
      "year work two size old last month start long we... bad                                3\n",
      "\n",
      "[8786 rows x 1 columns]\n"
     ]
    },
    {
     "data": {
      "text/plain": [
       "Text(0.5, 1.0, 'Distribution of responses')"
      ]
     },
     "execution_count": 29,
     "metadata": {},
     "output_type": "execute_result"
    },
    {
     "data": {
      "image/png": "[encoded data removed]",
      "text/plain": [
       "<Figure size 640x480 with 1 Axes>"
      ]
     },
     "metadata": {},
     "output_type": "display_data"
    }
   ],
   "source": [
    "# Extract the distribution of responses (in entire dataset)\n",
    "quality_distrib = pd.DataFrame(data.groupby([\"INPUT:wordset\", \"OUTPUT:quality\"])[\"ASSIGNMENT:worker_id\"].count())\n",
    "print(quality_distrib)\n",
    "ax = sns.countplot(data=data, x=\"OUTPUT:quality\")\n",
    "ax.set_title(\"Distribution of responses\")"
   ]
  },
  {
   "cell_type": "markdown",
   "id": "091ac4f2",
   "metadata": {},
   "source": [
    "As we can see the data is poorly balanced. Let's combine good/rather_good and bad/raher_bad"
   ]
  },
  {
   "cell_type": "code",
   "execution_count": 38,
   "id": "0ecb3ddc",
   "metadata": {},
   "outputs": [
    {
     "name": "stdout",
     "output_type": "stream",
     "text": [
      "                INPUT:wordset\n",
      "OUTPUT:quality               \n",
      "bad                     11839\n",
      "good                     9015\n"
     ]
    },
    {
     "data": {
      "text/plain": [
       "Text(0.5, 1.0, 'Distribution of responses after recombination')"
      ]
     },
     "execution_count": 38,
     "metadata": {},
     "output_type": "execute_result"
    },
    {
     "data": {
      "image/png": "[encoded data removed]",
      "text/plain": [
       "<Figure size 640x480 with 1 Axes>"
      ]
     },
     "metadata": {},
     "output_type": "display_data"
    }
   ],
   "source": [
    "data_tmp = data.copy()\n",
    "data_tmp[\"OUTPUT:quality\"] = [\"good\" if answ in [\"good\", \"rather_good\"] else \"bad\" for answ in data[\"OUTPUT:quality\"]]\n",
    "# Extract the distribution of responses (in entire dataset)\n",
    "quality_distrib_2 = pd.DataFrame(data_tmp.groupby([\"OUTPUT:quality\"])[\"INPUT:wordset\"].count())\n",
    "print(quality_distrib_2)\n",
    "ax = sns.countplot(data=data_tmp, x=\"OUTPUT:quality\")\n",
    "ax.set_title(\"Distribution of responses after recombination\")"
   ]
  },
  {
   "cell_type": "code",
   "execution_count": 39,
   "id": "e8e06f7f",
   "metadata": {},
   "outputs": [
    {
     "data": {
      "image/png": "[encoded data removed]",
      "text/plain": [
       "<Figure size 1200x600 with 2 Axes>"
      ]
     },
     "metadata": {},
     "output_type": "display_data"
    }
   ],
   "source": [
    "fig, axs = plt.subplots(1, 2, figsize=(12,6))\n",
    "\n",
    "sns.countplot(data=data, x=\"OUTPUT:quality\", ax=axs[0])\n",
    "axs[0].set_title(\"Distribution of responses\")\n",
    "axs[0].set(xlabel=\"Quality\", ylabel=\"Count\")\n",
    "sns.countplot(data=data_tmp, x=\"OUTPUT:quality\", ax=axs[1])\n",
    "axs[1].set_title(\"Distribution of responses after recombination\")\n",
    "axs[1].set(xlabel=\"Quality\", ylabel=\"Count\")\n",
    "plt.tight_layout()\n",
    "plt.show()"
   ]
  },
  {
   "cell_type": "markdown",
   "id": "321e1fdc",
   "metadata": {},
   "source": [
    "In this case we obtain more balanced classes.\n",
    "\n",
    "**Task:** binary classification (LLM)"
   ]
  },
  {
   "cell_type": "markdown",
   "id": "24501cbc",
   "metadata": {},
   "source": [
    "The number of unique wordest: 8786"
   ]
  },
  {
   "cell_type": "markdown",
   "id": "e9150a95",
   "metadata": {},
   "source": [
    "### Crowd-Kit aggregations"
   ]
  },
  {
   "cell_type": "markdown",
   "id": "640be00b",
   "metadata": {},
   "source": [
    "Read the annotations into Pandas Data Frame with columns task, worker, label.\n",
    "\n",
    "Wawa: It calculates the majority opinion, and then re-weighs the performers' votes using the proportion of responses that coincided with the majority opinion."
   ]
  },
  {
   "cell_type": "code",
   "execution_count": 41,
   "id": "f00541fe",
   "metadata": {},
   "outputs": [],
   "source": [
    "def crowd_kit_agg(df):\n",
    "    tmp_df = df.copy()\n",
    "    tmp_df = tmp_df.rename(columns={\"ASSIGNMENT:worker_id\": \"worker\", \"INPUT:wordset\": \"task\", \"OUTPUT:quality\": \"label\"})\n",
    "\n",
    "    # Majority Vote Aggregation\n",
    "    agg_mv = MajorityVote().fit_predict(tmp_df)\n",
    "    # Wawa \n",
    "    agg_wawa = Wawa().fit_predict(tmp_df)\n",
    "    # Dawid Skene\n",
    "    agg_ds = DawidSkene(n_iter=10).fit_predict(tmp_df)\n",
    "\n",
    "    # Let's compare the results\n",
    "    ids = agg_mv.index\n",
    "\n",
    "    agg_wawa = agg_wawa[ids]\n",
    "    agg_ds = agg_ds[ids]\n",
    "\n",
    "    mv_wawa = agg_mv == agg_wawa\n",
    "    mv_ds = agg_mv == agg_ds\n",
    "    wawa_ds = agg_wawa == agg_ds\n",
    "\n",
    "    print(f\"Majority Vote vs Wawa: True - {sum(mv_wawa)} False - {len(mv_wawa)-sum(mv_wawa)}\")\n",
    "    print(f\"Majority Vote vs Dawid Skene: True - {sum(mv_ds)} False - {len(mv_ds)-sum(mv_ds)}\")\n",
    "    print(f\"Wawa vs Dawid Skene: True - {sum(wawa_ds)} False - {len(wawa_ds)-sum(wawa_ds)}\")\n",
    "\n",
    "    agg_mv2 = pd.DataFrame(agg_mv)\n",
    "    agg_wawa2 = pd.DataFrame(agg_wawa)\n",
    "    agg_ds2 = pd.DataFrame(agg_ds)\n",
    "    \n",
    "    # Determine number of classes\n",
    "    classes_num = len(set(tmp_df[\"label\"]))\n",
    "    \n",
    "    fig = plt.figure(figsize=(15,10))\n",
    "    plt.suptitle(f\"The number of classes: {classes_num}\", fontsize = 18)\n",
    "\n",
    "    plt.subplot(131)\n",
    "    plt.title('Majority Vote')\n",
    "    sns.countplot(data=agg_mv2, x='agg_label')\n",
    "\n",
    "    plt.subplot(132)\n",
    "    plt.title('Wawa')\n",
    "    sns.countplot(data=agg_wawa2, x='agg_label')\n",
    "\n",
    "    plt.subplot(133)\n",
    "    plt.title('Dawid Skene')\n",
    "    sns.countplot(data=agg_ds2, x='agg_label')\n",
    "\n",
    "    plt.tight_layout()\n",
    "    plt.show()\n",
    "\n",
    "    return agg_mv2, agg_wawa2, agg_ds2"
   ]
  },
  {
   "cell_type": "code",
   "execution_count": 52,
   "id": "318ba3a8",
   "metadata": {},
   "outputs": [
    {
     "name": "stderr",
     "output_type": "stream",
     "text": [
      "/home/alexandra/.pyenv/versions/3.9.7/lib/python3.9/site-packages/pandas/core/internals/blocks.py:402: RuntimeWarning: divide by zero encountered in log\n",
      "  result = func(self.values, **kwargs)\n",
      "/home/alexandra/.pyenv/versions/3.9.7/lib/python3.9/site-packages/pandas/core/internals/blocks.py:402: RuntimeWarning: divide by zero encountered in log\n",
      "  result = func(self.values, **kwargs)\n"
     ]
    },
    {
     "name": "stdout",
     "output_type": "stream",
     "text": [
      "Majority Vote vs Wawa: True - 3682 False - 179\n",
      "Majority Vote vs Dawid Skene: True - 2707 False - 1154\n",
      "Wawa vs Dawid Skene: True - 2728 False - 1133\n"
     ]
    },
    {
     "data": {
      "image/png": "[encoded data removed]",
      "text/plain": [
       "<Figure size 1500x1000 with 3 Axes>"
      ]
     },
     "metadata": {},
     "output_type": "display_data"
    }
   ],
   "source": [
    "# For 4 classes\n",
    "agg_mv4, agg_wawa4, agg_ds4 = crowd_kit_agg(data)"
   ]
  },
  {
   "cell_type": "code",
   "execution_count": 53,
   "id": "4577b107",
   "metadata": {},
   "outputs": [
    {
     "name": "stdout",
     "output_type": "stream",
     "text": [
      "Majority Vote vs Wawa: True - 3856 False - 5\n",
      "Majority Vote vs Dawid Skene: True - 3599 False - 262\n",
      "Wawa vs Dawid Skene: True - 3604 False - 257\n"
     ]
    },
    {
     "data": {
      "image/png": "[encoded data removed]",
      "text/plain": [
       "<Figure size 1500x1000 with 3 Axes>"
      ]
     },
     "metadata": {},
     "output_type": "display_data"
    }
   ],
   "source": [
    "# For 2 classes\n",
    "agg_mv2, agg_wawa2, agg_ds2 = crowd_kit_agg(data_tmp)"
   ]
  },
  {
   "cell_type": "code",
   "execution_count": 54,
   "id": "3d0df5b7",
   "metadata": {},
   "outputs": [
    {
     "data": {
      "text/plain": [
       "[Text(0.5, 0, 'Quality'), Text(0, 0.5, 'Count')]"
      ]
     },
     "execution_count": 54,
     "metadata": {},
     "output_type": "execute_result"
    },
    {
     "data": {
      "image/png": "[encoded data removed]",
      "text/plain": [
       "<Figure size 640x480 with 1 Axes>"
      ]
     },
     "metadata": {},
     "output_type": "display_data"
    }
   ],
   "source": [
    "ax = sns.countplot(data=agg_mv2, x=\"agg_label\")\n",
    "ax.set_title(\"Majority Vote aggregation\")\n",
    "ax.set(xlabel=\"Quality\", ylabel=\"Count\")"
   ]
  },
  {
   "cell_type": "code",
   "execution_count": 55,
   "id": "26feb885",
   "metadata": {},
   "outputs": [
    {
     "data": {
      "text/html": [
       "<div>\n",
       "<style scoped>\n",
       "    .dataframe tbody tr th:only-of-type {\n",
       "        vertical-align: middle;\n",
       "    }\n",
       "\n",
       "    .dataframe tbody tr th {\n",
       "        vertical-align: top;\n",
       "    }\n",
       "\n",
       "    .dataframe thead th {\n",
       "        text-align: right;\n",
       "    }\n",
       "</style>\n",
       "<table border=\"1\" class=\"dataframe\">\n",
       "  <thead>\n",
       "    <tr style=\"text-align: right;\">\n",
       "      <th></th>\n",
       "      <th>agg_label</th>\n",
       "    </tr>\n",
       "    <tr>\n",
       "      <th>task</th>\n",
       "      <th></th>\n",
       "    </tr>\n",
       "  </thead>\n",
       "  <tbody>\n",
       "    <tr>\n",
       "      <th>able amaze fill glad stop daily fantastic move prime plenty empty subtle job strongly litter</th>\n",
       "      <td>bad</td>\n",
       "    </tr>\n",
       "    <tr>\n",
       "      <th>able amaze fill stop glad daily fantastic move plenty prime empty job subtle strongly litter</th>\n",
       "      <td>bad</td>\n",
       "    </tr>\n",
       "    <tr>\n",
       "      <th>able amaze fill stop glad daily fantastic move plenty prime empty subtle job strongly litter</th>\n",
       "      <td>bad</td>\n",
       "    </tr>\n",
       "    <tr>\n",
       "      <th>able amaze glad fill stop fantastic daily move prime empty plenty subtle job strongly litter</th>\n",
       "      <td>bad</td>\n",
       "    </tr>\n",
       "    <tr>\n",
       "      <th>absolute church truth doug scripture symbol libxmu font bible free undefined type motif error application</th>\n",
       "      <td>good</td>\n",
       "    </tr>\n",
       "    <tr>\n",
       "      <th>...</th>\n",
       "      <td>...</td>\n",
       "    </tr>\n",
       "    <tr>\n",
       "      <th>year two size old every last month start since week several baby long three ago</th>\n",
       "      <td>bad</td>\n",
       "    </tr>\n",
       "    <tr>\n",
       "      <th>year two size old every last month start week since several baby long ago three</th>\n",
       "      <td>good</td>\n",
       "    </tr>\n",
       "    <tr>\n",
       "      <th>year two size old last month every start week since baby several long ago three</th>\n",
       "      <td>bad</td>\n",
       "    </tr>\n",
       "    <tr>\n",
       "      <th>year work two every size old last month start long week baby several small three</th>\n",
       "      <td>bad</td>\n",
       "    </tr>\n",
       "    <tr>\n",
       "      <th>year work two size old last month start long week small baby several three big</th>\n",
       "      <td>bad</td>\n",
       "    </tr>\n",
       "  </tbody>\n",
       "</table>\n",
       "<p>3861 rows × 1 columns</p>\n",
       "</div>"
      ],
      "text/plain": [
       "                                                   agg_label\n",
       "task                                                        \n",
       "able amaze fill glad stop daily fantastic move ...       bad\n",
       "able amaze fill stop glad daily fantastic move ...       bad\n",
       "able amaze fill stop glad daily fantastic move ...       bad\n",
       "able amaze glad fill stop fantastic daily move ...       bad\n",
       "absolute church truth doug scripture symbol lib...      good\n",
       "...                                                      ...\n",
       "year two size old every last month start since ...       bad\n",
       "year two size old every last month start week s...      good\n",
       "year two size old last month every start week s...       bad\n",
       "year work two every size old last month start l...       bad\n",
       "year work two size old last month start long we...       bad\n",
       "\n",
       "[3861 rows x 1 columns]"
      ]
     },
     "execution_count": 55,
     "metadata": {},
     "output_type": "execute_result"
    }
   ],
   "source": [
    "agg_mv2"
   ]
  },
  {
   "cell_type": "code",
   "execution_count": 56,
   "id": "20d92fab",
   "metadata": {},
   "outputs": [
    {
     "name": "stdout",
     "output_type": "stream",
     "text": [
      "<class 'pandas.core.frame.DataFrame'>\n",
      "Index: 3861 entries, able amaze fill glad stop daily fantastic move prime plenty empty subtle job strongly litter to year work two size old last month start long week small baby several three big\n",
      "Data columns (total 1 columns):\n",
      " #   Column     Non-Null Count  Dtype \n",
      "---  ------     --------------  ----- \n",
      " 0   agg_label  3861 non-null   object\n",
      "dtypes: object(1)\n",
      "memory usage: 189.4+ KB\n"
     ]
    }
   ],
   "source": [
    "agg_mv2.info()"
   ]
  },
  {
   "cell_type": "code",
   "execution_count": 57,
   "id": "ae7cf6de",
   "metadata": {},
   "outputs": [
    {
     "data": {
      "text/plain": [
       "bad     2343\n",
       "good    1518\n",
       "Name: agg_label, dtype: int64"
      ]
     },
     "execution_count": 57,
     "metadata": {},
     "output_type": "execute_result"
    }
   ],
   "source": [
    "agg_mv2[\"agg_label\"].value_counts()"
   ]
  },
  {
   "cell_type": "code",
   "execution_count": 58,
   "id": "2891e207",
   "metadata": {},
   "outputs": [],
   "source": [
    "DATA_DIR = BASE_DIR.joinpath('data/datasets')\n",
    "\n",
    "FILE_NAME = \"data_quality_estim.csv\"\n",
    "\n",
    "FILE = DATA_DIR.joinpath(FILE_NAME)\n",
    "\n",
    "agg_mv2.to_csv(FILE)"
   ]
  },
  {
   "cell_type": "code",
   "execution_count": 60,
   "id": "6c35590f",
   "metadata": {},
   "outputs": [
    {
     "data": {
      "text/plain": [
       "bad            1960\n",
       "good           1333\n",
       "rather_bad      451\n",
       "rather_good     117\n",
       "Name: agg_label, dtype: int64"
      ]
     },
     "execution_count": 60,
     "metadata": {},
     "output_type": "execute_result"
    }
   ],
   "source": [
    "agg_mv4[\"agg_label\"].value_counts()"
   ]
  },
  {
   "cell_type": "code",
   "execution_count": null,
   "id": "e89dbad2",
   "metadata": {},
   "outputs": [],
   "source": [
    "FILE_NAME = \"data_quality_estim_4classes.csv\"\n",
    "\n",
    "FILE = DATA_DIR.joinpath(FILE_NAME)\n",
    "\n",
    "agg_mv4.to_csv(FILE)"
   ]
  },
  {
   "cell_type": "markdown",
   "id": "87a58541",
   "metadata": {},
   "source": [
    "### topic_name analysis"
   ]
  },
  {
   "cell_type": "code",
   "execution_count": 32,
   "id": "247fc4e7",
   "metadata": {},
   "outputs": [
    {
     "data": {
      "text/html": [
       "<div>\n",
       "<style scoped>\n",
       "    .dataframe tbody tr th:only-of-type {\n",
       "        vertical-align: middle;\n",
       "    }\n",
       "\n",
       "    .dataframe tbody tr th {\n",
       "        vertical-align: top;\n",
       "    }\n",
       "\n",
       "    .dataframe thead th {\n",
       "        text-align: right;\n",
       "    }\n",
       "</style>\n",
       "<table border=\"1\" class=\"dataframe\">\n",
       "  <thead>\n",
       "    <tr style=\"text-align: right;\">\n",
       "      <th></th>\n",
       "      <th></th>\n",
       "      <th></th>\n",
       "      <th>topic_name_num</th>\n",
       "    </tr>\n",
       "    <tr>\n",
       "      <th>INPUT:wordset</th>\n",
       "      <th>OUTPUT:quality</th>\n",
       "      <th>OUTPUT:topic_name</th>\n",
       "      <th></th>\n",
       "    </tr>\n",
       "  </thead>\n",
       "  <tbody>\n",
       "    <tr>\n",
       "      <th>able amaze fill stop glad daily fantastic move plenty prime empty job subtle strongly litter</th>\n",
       "      <th>good</th>\n",
       "      <th>feelings</th>\n",
       "      <td>1</td>\n",
       "    </tr>\n",
       "    <tr>\n",
       "      <th rowspan=\"4\" valign=\"top\">absolute mission church nasa mars earth truth lunar shuttle doug telescope symbol planetary libxmu launch</th>\n",
       "      <th rowspan=\"4\" valign=\"top\">good</th>\n",
       "      <th>astrology</th>\n",
       "      <td>1</td>\n",
       "    </tr>\n",
       "    <tr>\n",
       "      <th>nasa</th>\n",
       "      <td>1</td>\n",
       "    </tr>\n",
       "    <tr>\n",
       "      <th>space</th>\n",
       "      <td>1</td>\n",
       "    </tr>\n",
       "    <tr>\n",
       "      <th>space mission</th>\n",
       "      <td>1</td>\n",
       "    </tr>\n",
       "    <tr>\n",
       "      <th>...</th>\n",
       "      <th>...</th>\n",
       "      <th>...</th>\n",
       "      <td>...</td>\n",
       "    </tr>\n",
       "    <tr>\n",
       "      <th>year two size old every last month start since week several baby long three ago</th>\n",
       "      <th>good</th>\n",
       "      <th>year</th>\n",
       "      <td>1</td>\n",
       "    </tr>\n",
       "    <tr>\n",
       "      <th rowspan=\"3\" valign=\"top\">year two size old every last month start week since several baby long ago three</th>\n",
       "      <th rowspan=\"3\" valign=\"top\">good</th>\n",
       "      <th>baby</th>\n",
       "      <td>1</td>\n",
       "    </tr>\n",
       "    <tr>\n",
       "      <th>child</th>\n",
       "      <td>1</td>\n",
       "    </tr>\n",
       "    <tr>\n",
       "      <th>time</th>\n",
       "      <td>1</td>\n",
       "    </tr>\n",
       "    <tr>\n",
       "      <th>year two size old last month every start week since baby several long ago three</th>\n",
       "      <th>good</th>\n",
       "      <th>time</th>\n",
       "      <td>1</td>\n",
       "    </tr>\n",
       "  </tbody>\n",
       "</table>\n",
       "<p>5766 rows × 1 columns</p>\n",
       "</div>"
      ],
      "text/plain": [
       "                                                                                     topic_name_num\n",
       "INPUT:wordset                                      OUTPUT:quality OUTPUT:topic_name                \n",
       "able amaze fill stop glad daily fantastic move ... good           feelings                        1\n",
       "absolute mission church nasa mars earth truth l... good           astrology                       1\n",
       "                                                                  nasa                            1\n",
       "                                                                  space                           1\n",
       "                                                                  space mission                   1\n",
       "...                                                                                             ...\n",
       "year two size old every last month start since ... good           year                            1\n",
       "year two size old every last month start week s... good           baby                            1\n",
       "                                                                  child                           1\n",
       "                                                                  time                            1\n",
       "year two size old last month every start week s... good           time                            1\n",
       "\n",
       "[5766 rows x 1 columns]"
      ]
     },
     "execution_count": 32,
     "metadata": {},
     "output_type": "execute_result"
    }
   ],
   "source": [
    "# Get only good quality samples \n",
    "data_good = data[data[\"OUTPUT:quality\"] == \"good\"]\n",
    "\n",
    "topic_name_distrib = pd.DataFrame(data_good.groupby([\"INPUT:wordset\",\"OUTPUT:quality\", \"OUTPUT:topic_name\"])[\"OUTPUT:bad_words\"].count())\n",
    "topic_name_distrib = topic_name_distrib.rename(columns={\"OUTPUT:bad_words\": \"topic_name_num\"})\n",
    "topic_name_distrib"
   ]
  },
  {
   "cell_type": "code",
   "execution_count": 33,
   "id": "dca7d322",
   "metadata": {},
   "outputs": [
    {
     "data": {
      "text/plain": [
       "topic_name_num\n",
       "1                 5143\n",
       "2                  444\n",
       "3                   94\n",
       "4                   34\n",
       "5                   14\n",
       "6                    9\n",
       "8                    5\n",
       "10                   5\n",
       "7                    4\n",
       "14                   3\n",
       "15                   2\n",
       "23                   2\n",
       "19                   2\n",
       "9                    2\n",
       "13                   1\n",
       "11                   1\n",
       "32                   1\n",
       "dtype: int64"
      ]
     },
     "execution_count": 33,
     "metadata": {},
     "output_type": "execute_result"
    }
   ],
   "source": [
    "topic_name_distrib.value_counts()"
   ]
  },
  {
   "cell_type": "code",
   "execution_count": 34,
   "id": "00b9ce0e",
   "metadata": {},
   "outputs": [
    {
     "data": {
      "text/html": [
       "<div>\n",
       "<style scoped>\n",
       "    .dataframe tbody tr th:only-of-type {\n",
       "        vertical-align: middle;\n",
       "    }\n",
       "\n",
       "    .dataframe tbody tr th {\n",
       "        vertical-align: top;\n",
       "    }\n",
       "\n",
       "    .dataframe thead th {\n",
       "        text-align: right;\n",
       "    }\n",
       "</style>\n",
       "<table border=\"1\" class=\"dataframe\">\n",
       "  <thead>\n",
       "    <tr style=\"text-align: right;\">\n",
       "      <th></th>\n",
       "      <th></th>\n",
       "      <th></th>\n",
       "      <th>topic_name_num</th>\n",
       "    </tr>\n",
       "    <tr>\n",
       "      <th>INPUT:wordset</th>\n",
       "      <th>OUTPUT:quality</th>\n",
       "      <th>OUTPUT:topic_name</th>\n",
       "      <th></th>\n",
       "    </tr>\n",
       "  </thead>\n",
       "  <tbody>\n",
       "    <tr>\n",
       "      <th>kill child weapon crime fire firearm woman drug death carry police criminal city court bill</th>\n",
       "      <th>good</th>\n",
       "      <th>crime</th>\n",
       "      <td>32</td>\n",
       "    </tr>\n",
       "  </tbody>\n",
       "</table>\n",
       "</div>"
      ],
      "text/plain": [
       "                                                                                     topic_name_num\n",
       "INPUT:wordset                                      OUTPUT:quality OUTPUT:topic_name                \n",
       "kill child weapon crime fire firearm woman drug... good           crime                          32"
      ]
     },
     "execution_count": 34,
     "metadata": {},
     "output_type": "execute_result"
    }
   ],
   "source": [
    "topic_name_distrib[topic_name_distrib[\"topic_name_num\"]==32]"
   ]
  },
  {
   "cell_type": "code",
   "execution_count": 35,
   "id": "7657b6bb",
   "metadata": {},
   "outputs": [
    {
     "data": {
      "text/html": [
       "<div>\n",
       "<style scoped>\n",
       "    .dataframe tbody tr th:only-of-type {\n",
       "        vertical-align: middle;\n",
       "    }\n",
       "\n",
       "    .dataframe tbody tr th {\n",
       "        vertical-align: top;\n",
       "    }\n",
       "\n",
       "    .dataframe thead th {\n",
       "        text-align: right;\n",
       "    }\n",
       "</style>\n",
       "<table border=\"1\" class=\"dataframe\">\n",
       "  <thead>\n",
       "    <tr style=\"text-align: right;\">\n",
       "      <th></th>\n",
       "      <th></th>\n",
       "      <th></th>\n",
       "      <th>topic_name_num</th>\n",
       "    </tr>\n",
       "    <tr>\n",
       "      <th>INPUT:wordset</th>\n",
       "      <th>OUTPUT:quality</th>\n",
       "      <th>OUTPUT:topic_name</th>\n",
       "      <th></th>\n",
       "    </tr>\n",
       "  </thead>\n",
       "  <tbody>\n",
       "    <tr>\n",
       "      <th>appreciate email anybody advance experience info thank wonder suggestion send hello greatly response recently advice</th>\n",
       "      <th>good</th>\n",
       "      <th>email</th>\n",
       "      <td>10</td>\n",
       "    </tr>\n",
       "    <tr>\n",
       "      <th>bible religion turkish church belief truth argument faith christ atheist muslim greek ence human word</th>\n",
       "      <th>good</th>\n",
       "      <th>religion</th>\n",
       "      <td>10</td>\n",
       "    </tr>\n",
       "    <tr>\n",
       "      <th>bible religion turkish church belief truth argument faith christ atheist muslim greek human ence word</th>\n",
       "      <th>good</th>\n",
       "      <th>religion</th>\n",
       "      <td>10</td>\n",
       "    </tr>\n",
       "    <tr>\n",
       "      <th>doctor disease patient treatment cand treat cause test medicine yeast blood symptom medical ence body</th>\n",
       "      <th>good</th>\n",
       "      <th>medical</th>\n",
       "      <td>10</td>\n",
       "    </tr>\n",
       "    <tr>\n",
       "      <th>health cancer medical national increase research center fnal higgins newsletter word volume page among report</th>\n",
       "      <th>good</th>\n",
       "      <th>health</th>\n",
       "      <td>10</td>\n",
       "    </tr>\n",
       "  </tbody>\n",
       "</table>\n",
       "</div>"
      ],
      "text/plain": [
       "                                                                                     topic_name_num\n",
       "INPUT:wordset                                      OUTPUT:quality OUTPUT:topic_name                \n",
       "appreciate email anybody advance experience inf... good           email                          10\n",
       "bible religion turkish church belief truth argu... good           religion                       10\n",
       "bible religion turkish church belief truth argu... good           religion                       10\n",
       "doctor disease patient treatment cand treat cau... good           medical                        10\n",
       "health cancer medical national increase researc... good           health                         10"
      ]
     },
     "execution_count": 35,
     "metadata": {},
     "output_type": "execute_result"
    }
   ],
   "source": [
    "topic_name_distrib[topic_name_distrib[\"topic_name_num\"]==10]"
   ]
  },
  {
   "cell_type": "code",
   "execution_count": 36,
   "id": "dc4db029",
   "metadata": {},
   "outputs": [],
   "source": [
    "DATA_DIR = BASE_DIR.joinpath('data/datasets')\n",
    "\n",
    "FILE_NAME = \"data_topic_name_distrib.csv\"\n",
    "\n",
    "FILE = DATA_DIR.joinpath(FILE_NAME)\n",
    "\n",
    "topic_name_distrib.to_csv(FILE)"
   ]
  },
  {
   "cell_type": "code",
   "execution_count": null,
   "id": "0f9aa058",
   "metadata": {},
   "outputs": [],
   "source": []
  },
  {
   "cell_type": "markdown",
   "id": "69fb7b2c",
   "metadata": {},
   "source": [
    "### Bad words analysis"
   ]
  },
  {
   "cell_type": "code",
   "execution_count": 55,
   "id": "ef642b3b",
   "metadata": {},
   "outputs": [],
   "source": [
    "def intersection(lst1, lst2):\n",
    "    lst3 = [value for value in lst1 if value in lst2]\n",
    "    return lst3"
   ]
  },
  {
   "cell_type": "code",
   "execution_count": 37,
   "id": "82bba8c9",
   "metadata": {},
   "outputs": [
    {
     "data": {
      "text/html": [
       "<div>\n",
       "<style scoped>\n",
       "    .dataframe tbody tr th:only-of-type {\n",
       "        vertical-align: middle;\n",
       "    }\n",
       "\n",
       "    .dataframe tbody tr th {\n",
       "        vertical-align: top;\n",
       "    }\n",
       "\n",
       "    .dataframe thead th {\n",
       "        text-align: right;\n",
       "    }\n",
       "</style>\n",
       "<table border=\"1\" class=\"dataframe\">\n",
       "  <thead>\n",
       "    <tr style=\"text-align: right;\">\n",
       "      <th></th>\n",
       "      <th>ASSIGNMENT:worker_id</th>\n",
       "      <th>INPUT:wordset</th>\n",
       "      <th>OUTPUT:quality</th>\n",
       "      <th>OUTPUT:bad_words</th>\n",
       "      <th>OUTPUT:topic_name</th>\n",
       "    </tr>\n",
       "  </thead>\n",
       "  <tbody>\n",
       "    <tr>\n",
       "      <th>7</th>\n",
       "      <td>9c19d68db298943ca43bb07b3d320ac7</td>\n",
       "      <td>attack lebanese muslim hernlem israeli left tr...</td>\n",
       "      <td>good</td>\n",
       "      <td>{\"attack\":false,\"lebanese\":false,\"muslim\":fals...</td>\n",
       "      <td>war</td>\n",
       "    </tr>\n",
       "    <tr>\n",
       "      <th>9</th>\n",
       "      <td>9c19d68db298943ca43bb07b3d320ac7</td>\n",
       "      <td>nasa earth orbit mission launch satellite moon...</td>\n",
       "      <td>good</td>\n",
       "      <td>{\"nasa\":false,\"earth\":false,\"orbit\":false,\"mis...</td>\n",
       "      <td>space exploration</td>\n",
       "    </tr>\n",
       "    <tr>\n",
       "      <th>10</th>\n",
       "      <td>9c19d68db298943ca43bb07b3d320ac7</td>\n",
       "      <td>monitor price board apple port simms sell slot...</td>\n",
       "      <td>good</td>\n",
       "      <td>{\"monitor\":false,\"price\":false,\"board\":false,\"...</td>\n",
       "      <td>computers</td>\n",
       "    </tr>\n",
       "    <tr>\n",
       "      <th>15</th>\n",
       "      <td>2dd259f0651eb9f893d4581088e432e2</td>\n",
       "      <td>nasa earth orbit mission launch satellite moon...</td>\n",
       "      <td>good</td>\n",
       "      <td>{\"nasa\":true,\"earth\":true,\"orbit\":true,\"missio...</td>\n",
       "      <td>space</td>\n",
       "    </tr>\n",
       "    <tr>\n",
       "      <th>18</th>\n",
       "      <td>2dd259f0651eb9f893d4581088e432e2</td>\n",
       "      <td>image graphics format user package unix code m...</td>\n",
       "      <td>good</td>\n",
       "      <td>{\"image\":true,\"graphics\":true,\"format\":true,\"u...</td>\n",
       "      <td>computer</td>\n",
       "    </tr>\n",
       "    <tr>\n",
       "      <th>...</th>\n",
       "      <td>...</td>\n",
       "      <td>...</td>\n",
       "      <td>...</td>\n",
       "      <td>...</td>\n",
       "      <td>...</td>\n",
       "    </tr>\n",
       "    <tr>\n",
       "      <th>9226</th>\n",
       "      <td>c0b27612745c036069689c4124bf3665</td>\n",
       "      <td>salt bean dish cooking sea kitchen gourmet tab...</td>\n",
       "      <td>good</td>\n",
       "      <td>{\"salt\":false,\"bean\":false,\"dish\":false,\"cooki...</td>\n",
       "      <td>food</td>\n",
       "    </tr>\n",
       "    <tr>\n",
       "      <th>9228</th>\n",
       "      <td>6b27f1d44e869a8c64e1c68a5ecfd854</td>\n",
       "      <td>salt bean dish cooking sea kitchen gourmet tab...</td>\n",
       "      <td>good</td>\n",
       "      <td>{\"salt\":false,\"bean\":false,\"dish\":false,\"cooki...</td>\n",
       "      <td>dish</td>\n",
       "    </tr>\n",
       "    <tr>\n",
       "      <th>9231</th>\n",
       "      <td>6b27f1d44e869a8c64e1c68a5ecfd854</td>\n",
       "      <td>disk scsi speed controller fast port card mode...</td>\n",
       "      <td>good</td>\n",
       "      <td>{\"disk\":false,\"scsi\":false,\"speed\":false,\"cont...</td>\n",
       "      <td>controller</td>\n",
       "    </tr>\n",
       "    <tr>\n",
       "      <th>9232</th>\n",
       "      <td>6b27f1d44e869a8c64e1c68a5ecfd854</td>\n",
       "      <td>stuff coconut case health tell difference plea...</td>\n",
       "      <td>good</td>\n",
       "      <td>{\"stuff\":false,\"coconut\":false,\"case\":false,\"h...</td>\n",
       "      <td>coconut</td>\n",
       "    </tr>\n",
       "    <tr>\n",
       "      <th>9238</th>\n",
       "      <td>e50fd70d232733661aef53b7e31c083b</td>\n",
       "      <td>ingredient natural corn free gluten chicken sy...</td>\n",
       "      <td>good</td>\n",
       "      <td>{\"ingredient\":false,\"natural\":false,\"corn\":fal...</td>\n",
       "      <td>pet diet</td>\n",
       "    </tr>\n",
       "  </tbody>\n",
       "</table>\n",
       "<p>6921 rows × 5 columns</p>\n",
       "</div>"
      ],
      "text/plain": [
       "                  ASSIGNMENT:worker_id  \\\n",
       "7     9c19d68db298943ca43bb07b3d320ac7   \n",
       "9     9c19d68db298943ca43bb07b3d320ac7   \n",
       "10    9c19d68db298943ca43bb07b3d320ac7   \n",
       "15    2dd259f0651eb9f893d4581088e432e2   \n",
       "18    2dd259f0651eb9f893d4581088e432e2   \n",
       "...                                ...   \n",
       "9226  c0b27612745c036069689c4124bf3665   \n",
       "9228  6b27f1d44e869a8c64e1c68a5ecfd854   \n",
       "9231  6b27f1d44e869a8c64e1c68a5ecfd854   \n",
       "9232  6b27f1d44e869a8c64e1c68a5ecfd854   \n",
       "9238  e50fd70d232733661aef53b7e31c083b   \n",
       "\n",
       "                                          INPUT:wordset OUTPUT:quality  \\\n",
       "7     attack lebanese muslim hernlem israeli left tr...           good   \n",
       "9     nasa earth orbit mission launch satellite moon...           good   \n",
       "10    monitor price board apple port simms sell slot...           good   \n",
       "15    nasa earth orbit mission launch satellite moon...           good   \n",
       "18    image graphics format user package unix code m...           good   \n",
       "...                                                 ...            ...   \n",
       "9226  salt bean dish cooking sea kitchen gourmet tab...           good   \n",
       "9228  salt bean dish cooking sea kitchen gourmet tab...           good   \n",
       "9231  disk scsi speed controller fast port card mode...           good   \n",
       "9232  stuff coconut case health tell difference plea...           good   \n",
       "9238  ingredient natural corn free gluten chicken sy...           good   \n",
       "\n",
       "                                       OUTPUT:bad_words   OUTPUT:topic_name  \n",
       "7     {\"attack\":false,\"lebanese\":false,\"muslim\":fals...                war   \n",
       "9     {\"nasa\":false,\"earth\":false,\"orbit\":false,\"mis...  space exploration   \n",
       "10    {\"monitor\":false,\"price\":false,\"board\":false,\"...           computers  \n",
       "15    {\"nasa\":true,\"earth\":true,\"orbit\":true,\"missio...               space  \n",
       "18    {\"image\":true,\"graphics\":true,\"format\":true,\"u...            computer  \n",
       "...                                                 ...                 ...  \n",
       "9226  {\"salt\":false,\"bean\":false,\"dish\":false,\"cooki...                food  \n",
       "9228  {\"salt\":false,\"bean\":false,\"dish\":false,\"cooki...                dish  \n",
       "9231  {\"disk\":false,\"scsi\":false,\"speed\":false,\"cont...          controller  \n",
       "9232  {\"stuff\":false,\"coconut\":false,\"case\":false,\"h...             coconut  \n",
       "9238  {\"ingredient\":false,\"natural\":false,\"corn\":fal...           pet diet   \n",
       "\n",
       "[6921 rows x 5 columns]"
      ]
     },
     "execution_count": 37,
     "metadata": {},
     "output_type": "execute_result"
    }
   ],
   "source": [
    "data_good"
   ]
  },
  {
   "cell_type": "code",
   "execution_count": 38,
   "id": "96b43cd0",
   "metadata": {},
   "outputs": [
    {
     "data": {
      "text/html": [
       "<div>\n",
       "<style scoped>\n",
       "    .dataframe tbody tr th:only-of-type {\n",
       "        vertical-align: middle;\n",
       "    }\n",
       "\n",
       "    .dataframe tbody tr th {\n",
       "        vertical-align: top;\n",
       "    }\n",
       "\n",
       "    .dataframe thead th {\n",
       "        text-align: right;\n",
       "    }\n",
       "</style>\n",
       "<table border=\"1\" class=\"dataframe\">\n",
       "  <thead>\n",
       "    <tr style=\"text-align: right;\">\n",
       "      <th></th>\n",
       "      <th></th>\n",
       "      <th>OUTPUT:topic_name</th>\n",
       "    </tr>\n",
       "    <tr>\n",
       "      <th>INPUT:wordset</th>\n",
       "      <th>OUTPUT:bad_words</th>\n",
       "      <th></th>\n",
       "    </tr>\n",
       "  </thead>\n",
       "  <tbody>\n",
       "    <tr>\n",
       "      <th>able amaze fill stop glad daily fantastic move plenty prime empty job subtle strongly litter</th>\n",
       "      <th>{\"able\":false,\"amaze\":false,\"fill\":true,\"stop\":true,\"glad\":false,\"daily\":true,\"fantastic\":false,\"move\":true,\"plenty\":false,\"prime\":false,\"empty\":false,\"job\":true,\"subtle\":false,\"strongly\":false,\"litter\":false}</th>\n",
       "      <td>1</td>\n",
       "    </tr>\n",
       "    <tr>\n",
       "      <th rowspan=\"4\" valign=\"top\">absolute mission church nasa mars earth truth lunar shuttle doug telescope symbol planetary libxmu launch</th>\n",
       "      <th>{\"absolute\":false,\"mission\":false,\"church\":false,\"nasa\":true,\"mars\":false,\"earth\":false,\"truth\":false,\"lunar\":false,\"shuttle\":false,\"doug\":false,\"telescope\":false,\"symbol\":false,\"planetary\":false,\"libxmu\":false,\"launch\":false}</th>\n",
       "      <td>1</td>\n",
       "    </tr>\n",
       "    <tr>\n",
       "      <th>{\"absolute\":false,\"mission\":true,\"church\":false,\"nasa\":true,\"mars\":true,\"earth\":true,\"truth\":false,\"lunar\":true,\"shuttle\":true,\"doug\":false,\"telescope\":true,\"symbol\":false,\"planetary\":false,\"libxmu\":false,\"launch\":true}</th>\n",
       "      <td>1</td>\n",
       "    </tr>\n",
       "    <tr>\n",
       "      <th>{\"absolute\":true,\"mission\":false,\"church\":true,\"nasa\":false,\"mars\":false,\"earth\":false,\"truth\":true,\"lunar\":false,\"shuttle\":false,\"doug\":true,\"telescope\":false,\"symbol\":true,\"planetary\":false,\"libxmu\":true,\"launch\":false}</th>\n",
       "      <td>1</td>\n",
       "    </tr>\n",
       "    <tr>\n",
       "      <th>{\"church\":false,\"symbol\":false,\"earth\":false,\"mars\":false,\"libxmu\":false,\"absolute\":false,\"launch\":false,\"truth\":false,\"doug\":false,\"mission\":false,\"lunar\":false,\"shuttle\":false,\"telescope\":false,\"nasa\":false,\"planetary\":false}</th>\n",
       "      <td>1</td>\n",
       "    </tr>\n",
       "    <tr>\n",
       "      <th>...</th>\n",
       "      <th>...</th>\n",
       "      <td>...</td>\n",
       "    </tr>\n",
       "    <tr>\n",
       "      <th>year two size old every last month start since week several baby long three ago</th>\n",
       "      <th>{\"year\":false,\"two\":false,\"size\":false,\"old\":false,\"every\":false,\"last\":false,\"month\":false,\"start\":false,\"since\":false,\"week\":false,\"several\":false,\"baby\":false,\"long\":false,\"three\":false,\"ago\":false}</th>\n",
       "      <td>1</td>\n",
       "    </tr>\n",
       "    <tr>\n",
       "      <th rowspan=\"3\" valign=\"top\">year two size old every last month start week since several baby long ago three</th>\n",
       "      <th>{\"year\":false,\"two\":false,\"size\":false,\"old\":false,\"every\":false,\"last\":false,\"month\":false,\"start\":false,\"week\":false,\"since\":false,\"several\":false,\"baby\":false,\"long\":false,\"ago\":false,\"three\":false}</th>\n",
       "      <td>1</td>\n",
       "    </tr>\n",
       "    <tr>\n",
       "      <th>{\"year\":false,\"two\":false,\"size\":false,\"old\":false,\"every\":false,\"last\":false,\"month\":false,\"start\":false,\"week\":false,\"since\":false,\"several\":true,\"baby\":false,\"long\":false,\"ago\":false,\"three\":false}</th>\n",
       "      <td>1</td>\n",
       "    </tr>\n",
       "    <tr>\n",
       "      <th>{\"year\":false,\"two\":false,\"size\":false,\"old\":false,\"every\":false,\"last\":true,\"month\":false,\"start\":false,\"week\":false,\"since\":false,\"several\":false,\"baby\":false,\"long\":false,\"ago\":false,\"three\":false}</th>\n",
       "      <td>1</td>\n",
       "    </tr>\n",
       "    <tr>\n",
       "      <th>year two size old last month every start week since baby several long ago three</th>\n",
       "      <th>{\"year\":false,\"two\":false,\"size\":true,\"old\":false,\"last\":false,\"month\":false,\"every\":true,\"start\":true,\"week\":false,\"since\":false,\"baby\":false,\"several\":true,\"long\":false,\"ago\":false,\"three\":false}</th>\n",
       "      <td>1</td>\n",
       "    </tr>\n",
       "  </tbody>\n",
       "</table>\n",
       "<p>5530 rows × 1 columns</p>\n",
       "</div>"
      ],
      "text/plain": [
       "                                                                                                       OUTPUT:topic_name\n",
       "INPUT:wordset                                      OUTPUT:bad_words                                                     \n",
       "able amaze fill stop glad daily fantastic move ... {\"able\":false,\"amaze\":false,\"fill\":true,\"stop\":...                  1\n",
       "absolute mission church nasa mars earth truth l... {\"absolute\":false,\"mission\":false,\"church\":fals...                  1\n",
       "                                                   {\"absolute\":false,\"mission\":true,\"church\":false...                  1\n",
       "                                                   {\"absolute\":true,\"mission\":false,\"church\":true,...                  1\n",
       "                                                   {\"church\":false,\"symbol\":false,\"earth\":false,\"m...                  1\n",
       "...                                                                                                                  ...\n",
       "year two size old every last month start since ... {\"year\":false,\"two\":false,\"size\":false,\"old\":fa...                  1\n",
       "year two size old every last month start week s... {\"year\":false,\"two\":false,\"size\":false,\"old\":fa...                  1\n",
       "                                                   {\"year\":false,\"two\":false,\"size\":false,\"old\":fa...                  1\n",
       "                                                   {\"year\":false,\"two\":false,\"size\":false,\"old\":fa...                  1\n",
       "year two size old last month every start week s... {\"year\":false,\"two\":false,\"size\":true,\"old\":fal...                  1\n",
       "\n",
       "[5530 rows x 1 columns]"
      ]
     },
     "execution_count": 38,
     "metadata": {},
     "output_type": "execute_result"
    }
   ],
   "source": [
    "# Aggregate by text and bad_words\n",
    "bad_words_distrib = pd.DataFrame(data_good.groupby([\"INPUT:wordset\",\"OUTPUT:bad_words\"])[\"OUTPUT:topic_name\"].count())\n",
    "bad_words_distrib"
   ]
  },
  {
   "cell_type": "code",
   "execution_count": 39,
   "id": "5b287ada",
   "metadata": {},
   "outputs": [
    {
     "data": {
      "text/plain": [
       "OUTPUT:topic_name\n",
       "1                    4853\n",
       "2                     431\n",
       "3                     136\n",
       "4                      44\n",
       "5                      20\n",
       "6                      12\n",
       "9                       6\n",
       "7                       5\n",
       "8                       4\n",
       "11                      3\n",
       "13                      2\n",
       "24                      2\n",
       "12                      2\n",
       "10                      2\n",
       "14                      1\n",
       "15                      1\n",
       "16                      1\n",
       "20                      1\n",
       "25                      1\n",
       "26                      1\n",
       "29                      1\n",
       "33                      1\n",
       "dtype: int64"
      ]
     },
     "execution_count": 39,
     "metadata": {},
     "output_type": "execute_result"
    }
   ],
   "source": [
    "bad_words_distrib.value_counts()"
   ]
  },
  {
   "cell_type": "code",
   "execution_count": 40,
   "id": "8695b373",
   "metadata": {},
   "outputs": [
    {
     "data": {
      "text/html": [
       "<div>\n",
       "<style scoped>\n",
       "    .dataframe tbody tr th:only-of-type {\n",
       "        vertical-align: middle;\n",
       "    }\n",
       "\n",
       "    .dataframe tbody tr th {\n",
       "        vertical-align: top;\n",
       "    }\n",
       "\n",
       "    .dataframe thead th {\n",
       "        text-align: right;\n",
       "    }\n",
       "</style>\n",
       "<table border=\"1\" class=\"dataframe\">\n",
       "  <thead>\n",
       "    <tr style=\"text-align: right;\">\n",
       "      <th></th>\n",
       "      <th></th>\n",
       "      <th>OUTPUT:topic_name</th>\n",
       "    </tr>\n",
       "    <tr>\n",
       "      <th>INPUT:wordset</th>\n",
       "      <th>OUTPUT:bad_words</th>\n",
       "      <th></th>\n",
       "    </tr>\n",
       "  </thead>\n",
       "  <tbody>\n",
       "    <tr>\n",
       "      <th>price sell shipping cheap purchase dealer selling deal sale phone plus sales package company cost</th>\n",
       "      <th>{\"price\":false,\"sell\":false,\"shipping\":false,\"cheap\":false,\"purchase\":false,\"dealer\":false,\"selling\":false,\"deal\":false,\"sale\":false,\"phone\":false,\"plus\":false,\"sales\":false,\"package\":false,\"company\":false,\"cost\":false}</th>\n",
       "      <td>33</td>\n",
       "    </tr>\n",
       "  </tbody>\n",
       "</table>\n",
       "</div>"
      ],
      "text/plain": [
       "                                                                                                       OUTPUT:topic_name\n",
       "INPUT:wordset                                      OUTPUT:bad_words                                                     \n",
       "price sell shipping cheap purchase dealer selli... {\"price\":false,\"sell\":false,\"shipping\":false,\"c...                 33"
      ]
     },
     "execution_count": 40,
     "metadata": {},
     "output_type": "execute_result"
    }
   ],
   "source": [
    "bad_words_distrib[bad_words_distrib[\"OUTPUT:topic_name\"]==33]"
   ]
  },
  {
   "cell_type": "code",
   "execution_count": 41,
   "id": "e2cf7963",
   "metadata": {},
   "outputs": [
    {
     "data": {
      "text/plain": [
       "OUTPUT:topic_name    1\n",
       "Name: (absolute mission church nasa mars earth truth lunar shuttle doug telescope symbol planetary libxmu launch, {\"absolute\":true,\"mission\":false,\"church\":true,\"nasa\":false,\"mars\":false,\"earth\":false,\"truth\":true,\"lunar\":false,\"shuttle\":false,\"doug\":true,\"telescope\":false,\"symbol\":true,\"planetary\":false,\"libxmu\":true,\"launch\":false}), dtype: int64"
      ]
     },
     "execution_count": 41,
     "metadata": {},
     "output_type": "execute_result"
    }
   ],
   "source": [
    "bad_words_distrib.iloc[3]"
   ]
  },
  {
   "cell_type": "code",
   "execution_count": 47,
   "id": "fbad2339",
   "metadata": {},
   "outputs": [
    {
     "data": {
      "text/plain": [
       "'{\"attack\":false,\"lebanese\":false,\"muslim\":false,\"hernlem\":true,\"israeli\":false,\"left\":true,\"troops\":false,\"peace\":false,\"fire\":false,\"away\":true,\"quite\":true,\"stop\":false,\"religion\":false,\"israel\":false,\"especially\":true}'"
      ]
     },
     "execution_count": 47,
     "metadata": {},
     "output_type": "execute_result"
    }
   ],
   "source": [
    "bad_lst = data_good[\"OUTPUT:bad_words\"]\n",
    "bad_lst.iloc[0]"
   ]
  },
  {
   "cell_type": "code",
   "execution_count": 52,
   "id": "cbcd746a",
   "metadata": {},
   "outputs": [
    {
     "data": {
      "text/plain": [
       "{'attack': False,\n",
       " 'lebanese': False,\n",
       " 'muslim': False,\n",
       " 'hernlem': True,\n",
       " 'israeli': False,\n",
       " 'left': True,\n",
       " 'troops': False,\n",
       " 'peace': False,\n",
       " 'fire': False,\n",
       " 'away': True,\n",
       " 'quite': True,\n",
       " 'stop': False,\n",
       " 'religion': False,\n",
       " 'israel': False,\n",
       " 'especially': True}"
      ]
     },
     "execution_count": 52,
     "metadata": {},
     "output_type": "execute_result"
    }
   ],
   "source": [
    "json.loads(bad_lst.iloc[0])"
   ]
  },
  {
   "cell_type": "code",
   "execution_count": 70,
   "id": "556af163",
   "metadata": {},
   "outputs": [],
   "source": [
    "wordsets_lst = []\n",
    "unsuitable_topics = []\n",
    "suitable_topics = []\n",
    "all_topics = []\n",
    "\n",
    "# Извлечь одинаковые наборы текстов\n",
    "# Извлечь все топики\n",
    "# Извлечь топики со значение True, взять union\n",
    "# Извлечь топики со значением False, взять пересечение\n",
    "all_wordsets = list(set(data_good[\"INPUT:wordset\"]))\n",
    "\n",
    "for wordset in all_wordsets:\n",
    "    wordsets_lst.append(wordset)\n",
    "    bedwords_df = data_good[data_good[\"INPUT:wordset\"]==wordset]\n",
    "    bedwords_true = []\n",
    "    topics = list(json.loads(bedwords_df[\"OUTPUT:bad_words\"].iloc[0]).keys())\n",
    "    all_topics.append(topics)\n",
    "    bedwords_false = topics.copy()\n",
    "    for bedwords_lst in bedwords_df[\"OUTPUT:bad_words\"]:\n",
    "        bedwords_dict = json.loads(bedwords_lst)\n",
    "        bedwords_true.extend([k for k, v in bedwords_dict.items() if v])\n",
    "        bedwords_false = intersection(bedwords_false, [k for k, v in bedwords_dict.items() if not v])\n",
    "    unsuitable_topics.append(list(set(bedwords_true)))\n",
    "    suitable_topics.append(list(set(bedwords_false)))"
   ]
  },
  {
   "cell_type": "code",
   "execution_count": 88,
   "id": "d69df070",
   "metadata": {},
   "outputs": [
    {
     "data": {
      "text/plain": [
       "['orbiter',\n",
       " 'probe',\n",
       " 'shuttle',\n",
       " 'field',\n",
       " 'nasa',\n",
       " 'mission',\n",
       " 'atmosphere',\n",
       " 'radar',\n",
       " 'detector',\n",
       " 'surface',\n",
       " 'launch',\n",
       " 'pasadena',\n",
       " 'ozone']"
      ]
     },
     "execution_count": 88,
     "metadata": {},
     "output_type": "execute_result"
    }
   ],
   "source": [
    "suitable_topics[3]"
   ]
  },
  {
   "cell_type": "code",
   "execution_count": 85,
   "id": "58578b4d",
   "metadata": {},
   "outputs": [
    {
     "name": "stdout",
     "output_type": "stream",
     "text": [
      "{'nasa': False, 'mission': False, 'launch': False, 'surface': False, 'shuttle': False, 'radar': False, 'detector': False, 'atmosphere': False, 'field': False, 'orbiter': False, 'probe': False, 'april': False, 'ozone': False, 'three': False, 'pasadena': False}\n",
      "{'nasa': False, 'mission': False, 'launch': False, 'surface': False, 'shuttle': False, 'radar': False, 'detector': False, 'atmosphere': False, 'field': False, 'orbiter': False, 'probe': False, 'april': True, 'ozone': False, 'three': True, 'pasadena': False}\n",
      "{'nasa': False, 'mission': False, 'launch': False, 'surface': False, 'shuttle': False, 'radar': False, 'detector': False, 'atmosphere': False, 'field': False, 'orbiter': False, 'probe': False, 'april': False, 'ozone': False, 'three': False, 'pasadena': False}\n"
     ]
    }
   ],
   "source": [
    "wordset_test = all_wordsets[3]\n",
    "#data_good[data_good[\"INPUT:wordset\"]==wordset_test]\n",
    "print(json.loads(data_good[data_good[\"INPUT:wordset\"]==wordset_test][\"OUTPUT:bad_words\"].iloc[0]))\n",
    "print(json.loads(data_good[data_good[\"INPUT:wordset\"]==wordset_test][\"OUTPUT:bad_words\"].iloc[1]))\n",
    "print(json.loads(data_good[data_good[\"INPUT:wordset\"]==wordset_test][\"OUTPUT:bad_words\"].iloc[2]))"
   ]
  },
  {
   "cell_type": "code",
   "execution_count": 91,
   "id": "0dfd5a18",
   "metadata": {},
   "outputs": [],
   "source": [
    "badwords_df = pd.DataFrame(\n",
    "    data={\"wordset\": all_wordsets,\n",
    "    \"all_topics\": all_topics,\n",
    "    \"unsuitable_topics\": unsuitable_topics,\n",
    "    \"suitable_topics\": suitable_topics}\n",
    "    )"
   ]
  },
  {
   "cell_type": "code",
   "execution_count": 92,
   "id": "b5cd2ffe",
   "metadata": {},
   "outputs": [
    {
     "data": {
      "text/html": [
       "<div>\n",
       "<style scoped>\n",
       "    .dataframe tbody tr th:only-of-type {\n",
       "        vertical-align: middle;\n",
       "    }\n",
       "\n",
       "    .dataframe tbody tr th {\n",
       "        vertical-align: top;\n",
       "    }\n",
       "\n",
       "    .dataframe thead th {\n",
       "        text-align: right;\n",
       "    }\n",
       "</style>\n",
       "<table border=\"1\" class=\"dataframe\">\n",
       "  <thead>\n",
       "    <tr style=\"text-align: right;\">\n",
       "      <th></th>\n",
       "      <th>wordset</th>\n",
       "      <th>all_topics</th>\n",
       "      <th>unsuitable_topics</th>\n",
       "      <th>suitable_topics</th>\n",
       "    </tr>\n",
       "  </thead>\n",
       "  <tbody>\n",
       "    <tr>\n",
       "      <th>0</th>\n",
       "      <td>islamic muslim ohio kent sandvik cheer islam a...</td>\n",
       "      <td>[islamic, muslim, ohio, kent, sandvik, cheer, ...</td>\n",
       "      <td>[]</td>\n",
       "      <td>[islam, tube, sandvik, ohio, upenn, kent, chee...</td>\n",
       "    </tr>\n",
       "    <tr>\n",
       "      <th>1</th>\n",
       "      <td>chip blend roast com favorite www http href da...</td>\n",
       "      <td>[chip, blend, roast, com, favorite, www, http,...</td>\n",
       "      <td>[k-cups, blend, chip]</td>\n",
       "      <td>[href, pod, com, favorite, roast, dark, keurig...</td>\n",
       "    </tr>\n",
       "    <tr>\n",
       "      <th>2</th>\n",
       "      <td>window display color screen manager server app...</td>\n",
       "      <td>[window, display, color, screen, manager, serv...</td>\n",
       "      <td>[client, colors, colormap, manager]</td>\n",
       "      <td>[size, application, memory, screen, mode, defa...</td>\n",
       "    </tr>\n",
       "    <tr>\n",
       "      <th>3</th>\n",
       "      <td>nasa mission launch surface shuttle radar dete...</td>\n",
       "      <td>[nasa, mission, launch, surface, shuttle, rada...</td>\n",
       "      <td>[april, three]</td>\n",
       "      <td>[orbiter, probe, shuttle, field, nasa, mission...</td>\n",
       "    </tr>\n",
       "    <tr>\n",
       "      <th>4</th>\n",
       "      <td>church bible christ catholic faith matthew lor...</td>\n",
       "      <td>[church, bible, christ, catholic, faith, matth...</td>\n",
       "      <td>[matthew, word, holy]</td>\n",
       "      <td>[father, catholic, christ, scripture, lord, sp...</td>\n",
       "    </tr>\n",
       "    <tr>\n",
       "      <th>...</th>\n",
       "      <td>...</td>\n",
       "      <td>...</td>\n",
       "      <td>...</td>\n",
       "      <td>...</td>\n",
       "    </tr>\n",
       "    <tr>\n",
       "      <th>2358</th>\n",
       "      <td>wire ground circuit outlet wiring voltage neut...</td>\n",
       "      <td>[wire, ground, circuit, outlet, wiring, voltag...</td>\n",
       "      <td>[outlet, circuit, electrical, risc, excellent,...</td>\n",
       "      <td>[neutral, panel]</td>\n",
       "    </tr>\n",
       "    <tr>\n",
       "      <th>2359</th>\n",
       "      <td>black white pick straight homosexual male rose...</td>\n",
       "      <td>[black, white, pick, straight, homosexual, mal...</td>\n",
       "      <td>[hulman, rose, johnson, harris]</td>\n",
       "      <td>[straight, gold, partner, pick, black, weaver,...</td>\n",
       "    </tr>\n",
       "    <tr>\n",
       "      <th>2360</th>\n",
       "      <td>doctor disease patient treatment cand treat ca...</td>\n",
       "      <td>[doctor, disease, patient, treatment, cand, tr...</td>\n",
       "      <td>[disease, blood, yeast, test, medicine, sympto...</td>\n",
       "      <td>[]</td>\n",
       "    </tr>\n",
       "    <tr>\n",
       "      <th>2361</th>\n",
       "      <td>player season hockey league goal baseball scor...</td>\n",
       "      <td>[player, season, hockey, league, goal, basebal...</td>\n",
       "      <td>[league, player, playoff, leaf, goal, division...</td>\n",
       "      <td>[period, pittsburgh, toronto, boston]</td>\n",
       "    </tr>\n",
       "    <tr>\n",
       "      <th>2362</th>\n",
       "      <td>period pittsburgh player division baseball lou...</td>\n",
       "      <td>[period, pittsburgh, player, division, basebal...</td>\n",
       "      <td>[]</td>\n",
       "      <td>[jack, dave, player, detroit, louis, chicago, ...</td>\n",
       "    </tr>\n",
       "  </tbody>\n",
       "</table>\n",
       "<p>2363 rows × 4 columns</p>\n",
       "</div>"
      ],
      "text/plain": [
       "                                                wordset  \\\n",
       "0     islamic muslim ohio kent sandvik cheer islam a...   \n",
       "1     chip blend roast com favorite www http href da...   \n",
       "2     window display color screen manager server app...   \n",
       "3     nasa mission launch surface shuttle radar dete...   \n",
       "4     church bible christ catholic faith matthew lor...   \n",
       "...                                                 ...   \n",
       "2358  wire ground circuit outlet wiring voltage neut...   \n",
       "2359  black white pick straight homosexual male rose...   \n",
       "2360  doctor disease patient treatment cand treat ca...   \n",
       "2361  player season hockey league goal baseball scor...   \n",
       "2362  period pittsburgh player division baseball lou...   \n",
       "\n",
       "                                             all_topics  \\\n",
       "0     [islamic, muslim, ohio, kent, sandvik, cheer, ...   \n",
       "1     [chip, blend, roast, com, favorite, www, http,...   \n",
       "2     [window, display, color, screen, manager, serv...   \n",
       "3     [nasa, mission, launch, surface, shuttle, rada...   \n",
       "4     [church, bible, christ, catholic, faith, matth...   \n",
       "...                                                 ...   \n",
       "2358  [wire, ground, circuit, outlet, wiring, voltag...   \n",
       "2359  [black, white, pick, straight, homosexual, mal...   \n",
       "2360  [doctor, disease, patient, treatment, cand, tr...   \n",
       "2361  [player, season, hockey, league, goal, basebal...   \n",
       "2362  [period, pittsburgh, player, division, basebal...   \n",
       "\n",
       "                                      unsuitable_topics  \\\n",
       "0                                                    []   \n",
       "1                                 [k-cups, blend, chip]   \n",
       "2                   [client, colors, colormap, manager]   \n",
       "3                                        [april, three]   \n",
       "4                                 [matthew, word, holy]   \n",
       "...                                                 ...   \n",
       "2358  [outlet, circuit, electrical, risc, excellent,...   \n",
       "2359                    [hulman, rose, johnson, harris]   \n",
       "2360  [disease, blood, yeast, test, medicine, sympto...   \n",
       "2361  [league, player, playoff, leaf, goal, division...   \n",
       "2362                                                 []   \n",
       "\n",
       "                                        suitable_topics  \n",
       "0     [islam, tube, sandvik, ohio, upenn, kent, chee...  \n",
       "1     [href, pod, com, favorite, roast, dark, keurig...  \n",
       "2     [size, application, memory, screen, mode, defa...  \n",
       "3     [orbiter, probe, shuttle, field, nasa, mission...  \n",
       "4     [father, catholic, christ, scripture, lord, sp...  \n",
       "...                                                 ...  \n",
       "2358                                   [neutral, panel]  \n",
       "2359  [straight, gold, partner, pick, black, weaver,...  \n",
       "2360                                                 []  \n",
       "2361              [period, pittsburgh, toronto, boston]  \n",
       "2362  [jack, dave, player, detroit, louis, chicago, ...  \n",
       "\n",
       "[2363 rows x 4 columns]"
      ]
     },
     "execution_count": 92,
     "metadata": {},
     "output_type": "execute_result"
    }
   ],
   "source": [
    "badwords_df"
   ]
  },
  {
   "cell_type": "code",
   "execution_count": 93,
   "id": "e7c7c1c5",
   "metadata": {},
   "outputs": [],
   "source": [
    "DATA_DIR = BASE_DIR.joinpath('data/datasets')\n",
    "\n",
    "FILE_NAME = \"data_irrelative_topics.csv\"\n",
    "\n",
    "FILE = DATA_DIR.joinpath(FILE_NAME)\n",
    "\n",
    "badwords_df.to_csv(FILE)"
   ]
  },
  {
   "cell_type": "markdown",
   "id": "6a9b5500",
   "metadata": {},
   "source": [
    "## Conclusions\n",
    "\n",
    "Tasks to solve:\n",
    "1. Determining the quality of a wordset (two or four classes): traditional approaches, LLM\n",
    "2. Topic name generation (it looks like a summarization task or unsupervised topic modelling)\n",
    "3. Selecting the least suitable words from the list (OUTPUT:bad_words): topic modelling task, we take it with the least probability, it is necessary to determine the threshold"
   ]
  },
  {
   "cell_type": "code",
   "execution_count": null,
   "id": "13fcf31c",
   "metadata": {},
   "outputs": [],
   "source": []
  }
 ],
 "metadata": {
  "kernelspec": {
   "display_name": "Python 3 (ipykernel)",
   "language": "python",
   "name": "python3"
  },
  "language_info": {
   "codemirror_mode": {
    "name": "ipython",
    "version": 3
   },
   "file_extension": ".py",
   "mimetype": "text/x-python",
   "name": "python",
   "nbconvert_exporter": "python",
   "pygments_lexer": "ipython3",
   "version": "3.9.7"
  }
 },
 "nbformat": 4,
 "nbformat_minor": 5
}
