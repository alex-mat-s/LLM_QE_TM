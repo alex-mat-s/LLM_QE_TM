{
  "nbformat": 4,
  "nbformat_minor": 0,
  "metadata": {
    "colab": {
      "provenance": []
    },
    "kernelspec": {
      "name": "python3",
      "display_name": "Python 3"
    },
    "language_info": {
      "name": "python"
    },
    "widgets": {
      "application/vnd.jupyter.widget-state+json": {
        "b3a25d1c1e0042549d90a506d849fb00": {
          "model_module": "@jupyter-widgets/controls",
          "model_name": "HBoxModel",
          "model_module_version": "1.5.0",
          "state": {
            "_dom_classes": [],
            "_model_module": "@jupyter-widgets/controls",
            "_model_module_version": "1.5.0",
            "_model_name": "HBoxModel",
            "_view_count": null,
            "_view_module": "@jupyter-widgets/controls",
            "_view_module_version": "1.5.0",
            "_view_name": "HBoxView",
            "box_style": "",
            "children": [
              "IPY_MODEL_55036d06b67244f29e960b2caf534e9b",
              "IPY_MODEL_2287ea8d2e844e0b9eab1600a388724d",
              "IPY_MODEL_54210a75297d466485f6f1e0068ba744"
            ],
            "layout": "IPY_MODEL_64fc5fa24ba04eec812598becd00d68d"
          }
        },
        "55036d06b67244f29e960b2caf534e9b": {
          "model_module": "@jupyter-widgets/controls",
          "model_name": "HTMLModel",
          "model_module_version": "1.5.0",
          "state": {
            "_dom_classes": [],
            "_model_module": "@jupyter-widgets/controls",
            "_model_module_version": "1.5.0",
            "_model_name": "HTMLModel",
            "_view_count": null,
            "_view_module": "@jupyter-widgets/controls",
            "_view_module_version": "1.5.0",
            "_view_name": "HTMLView",
            "description": "",
            "description_tooltip": null,
            "layout": "IPY_MODEL_3c061910b0104b2b895bba55812f1804",
            "placeholder": "​",
            "style": "IPY_MODEL_59f8eeb5347343858f93ec079a5ea0ec",
            "value": "tokenizer_config.json: 100%"
          }
        },
        "2287ea8d2e844e0b9eab1600a388724d": {
          "model_module": "@jupyter-widgets/controls",
          "model_name": "FloatProgressModel",
          "model_module_version": "1.5.0",
          "state": {
            "_dom_classes": [],
            "_model_module": "@jupyter-widgets/controls",
            "_model_module_version": "1.5.0",
            "_model_name": "FloatProgressModel",
            "_view_count": null,
            "_view_module": "@jupyter-widgets/controls",
            "_view_module_version": "1.5.0",
            "_view_name": "ProgressView",
            "bar_style": "success",
            "description": "",
            "description_tooltip": null,
            "layout": "IPY_MODEL_b567ccb60d094fc685e854841b6d2444",
            "max": 1467,
            "min": 0,
            "orientation": "horizontal",
            "style": "IPY_MODEL_1f21da8d59a04dfeaca422f52a300537",
            "value": 1467
          }
        },
        "54210a75297d466485f6f1e0068ba744": {
          "model_module": "@jupyter-widgets/controls",
          "model_name": "HTMLModel",
          "model_module_version": "1.5.0",
          "state": {
            "_dom_classes": [],
            "_model_module": "@jupyter-widgets/controls",
            "_model_module_version": "1.5.0",
            "_model_name": "HTMLModel",
            "_view_count": null,
            "_view_module": "@jupyter-widgets/controls",
            "_view_module_version": "1.5.0",
            "_view_name": "HTMLView",
            "description": "",
            "description_tooltip": null,
            "layout": "IPY_MODEL_bb19e72ba9844404a9b03689097ac88c",
            "placeholder": "​",
            "style": "IPY_MODEL_e3231fbafc3c40d7b44bd5727c626676",
            "value": " 1.47k/1.47k [00:00&lt;00:00, 73.2kB/s]"
          }
        },
        "64fc5fa24ba04eec812598becd00d68d": {
          "model_module": "@jupyter-widgets/base",
          "model_name": "LayoutModel",
          "model_module_version": "1.2.0",
          "state": {
            "_model_module": "@jupyter-widgets/base",
            "_model_module_version": "1.2.0",
            "_model_name": "LayoutModel",
            "_view_count": null,
            "_view_module": "@jupyter-widgets/base",
            "_view_module_version": "1.2.0",
            "_view_name": "LayoutView",
            "align_content": null,
            "align_items": null,
            "align_self": null,
            "border": null,
            "bottom": null,
            "display": null,
            "flex": null,
            "flex_flow": null,
            "grid_area": null,
            "grid_auto_columns": null,
            "grid_auto_flow": null,
            "grid_auto_rows": null,
            "grid_column": null,
            "grid_gap": null,
            "grid_row": null,
            "grid_template_areas": null,
            "grid_template_columns": null,
            "grid_template_rows": null,
            "height": null,
            "justify_content": null,
            "justify_items": null,
            "left": null,
            "margin": null,
            "max_height": null,
            "max_width": null,
            "min_height": null,
            "min_width": null,
            "object_fit": null,
            "object_position": null,
            "order": null,
            "overflow": null,
            "overflow_x": null,
            "overflow_y": null,
            "padding": null,
            "right": null,
            "top": null,
            "visibility": null,
            "width": null
          }
        },
        "3c061910b0104b2b895bba55812f1804": {
          "model_module": "@jupyter-widgets/base",
          "model_name": "LayoutModel",
          "model_module_version": "1.2.0",
          "state": {
            "_model_module": "@jupyter-widgets/base",
            "_model_module_version": "1.2.0",
            "_model_name": "LayoutModel",
            "_view_count": null,
            "_view_module": "@jupyter-widgets/base",
            "_view_module_version": "1.2.0",
            "_view_name": "LayoutView",
            "align_content": null,
            "align_items": null,
            "align_self": null,
            "border": null,
            "bottom": null,
            "display": null,
            "flex": null,
            "flex_flow": null,
            "grid_area": null,
            "grid_auto_columns": null,
            "grid_auto_flow": null,
            "grid_auto_rows": null,
            "grid_column": null,
            "grid_gap": null,
            "grid_row": null,
            "grid_template_areas": null,
            "grid_template_columns": null,
            "grid_template_rows": null,
            "height": null,
            "justify_content": null,
            "justify_items": null,
            "left": null,
            "margin": null,
            "max_height": null,
            "max_width": null,
            "min_height": null,
            "min_width": null,
            "object_fit": null,
            "object_position": null,
            "order": null,
            "overflow": null,
            "overflow_x": null,
            "overflow_y": null,
            "padding": null,
            "right": null,
            "top": null,
            "visibility": null,
            "width": null
          }
        },
        "59f8eeb5347343858f93ec079a5ea0ec": {
          "model_module": "@jupyter-widgets/controls",
          "model_name": "DescriptionStyleModel",
          "model_module_version": "1.5.0",
          "state": {
            "_model_module": "@jupyter-widgets/controls",
            "_model_module_version": "1.5.0",
            "_model_name": "DescriptionStyleModel",
            "_view_count": null,
            "_view_module": "@jupyter-widgets/base",
            "_view_module_version": "1.2.0",
            "_view_name": "StyleView",
            "description_width": ""
          }
        },
        "b567ccb60d094fc685e854841b6d2444": {
          "model_module": "@jupyter-widgets/base",
          "model_name": "LayoutModel",
          "model_module_version": "1.2.0",
          "state": {
            "_model_module": "@jupyter-widgets/base",
            "_model_module_version": "1.2.0",
            "_model_name": "LayoutModel",
            "_view_count": null,
            "_view_module": "@jupyter-widgets/base",
            "_view_module_version": "1.2.0",
            "_view_name": "LayoutView",
            "align_content": null,
            "align_items": null,
            "align_self": null,
            "border": null,
            "bottom": null,
            "display": null,
            "flex": null,
            "flex_flow": null,
            "grid_area": null,
            "grid_auto_columns": null,
            "grid_auto_flow": null,
            "grid_auto_rows": null,
            "grid_column": null,
            "grid_gap": null,
            "grid_row": null,
            "grid_template_areas": null,
            "grid_template_columns": null,
            "grid_template_rows": null,
            "height": null,
            "justify_content": null,
            "justify_items": null,
            "left": null,
            "margin": null,
            "max_height": null,
            "max_width": null,
            "min_height": null,
            "min_width": null,
            "object_fit": null,
            "object_position": null,
            "order": null,
            "overflow": null,
            "overflow_x": null,
            "overflow_y": null,
            "padding": null,
            "right": null,
            "top": null,
            "visibility": null,
            "width": null
          }
        },
        "1f21da8d59a04dfeaca422f52a300537": {
          "model_module": "@jupyter-widgets/controls",
          "model_name": "ProgressStyleModel",
          "model_module_version": "1.5.0",
          "state": {
            "_model_module": "@jupyter-widgets/controls",
            "_model_module_version": "1.5.0",
            "_model_name": "ProgressStyleModel",
            "_view_count": null,
            "_view_module": "@jupyter-widgets/base",
            "_view_module_version": "1.2.0",
            "_view_name": "StyleView",
            "bar_color": null,
            "description_width": ""
          }
        },
        "bb19e72ba9844404a9b03689097ac88c": {
          "model_module": "@jupyter-widgets/base",
          "model_name": "LayoutModel",
          "model_module_version": "1.2.0",
          "state": {
            "_model_module": "@jupyter-widgets/base",
            "_model_module_version": "1.2.0",
            "_model_name": "LayoutModel",
            "_view_count": null,
            "_view_module": "@jupyter-widgets/base",
            "_view_module_version": "1.2.0",
            "_view_name": "LayoutView",
            "align_content": null,
            "align_items": null,
            "align_self": null,
            "border": null,
            "bottom": null,
            "display": null,
            "flex": null,
            "flex_flow": null,
            "grid_area": null,
            "grid_auto_columns": null,
            "grid_auto_flow": null,
            "grid_auto_rows": null,
            "grid_column": null,
            "grid_gap": null,
            "grid_row": null,
            "grid_template_areas": null,
            "grid_template_columns": null,
            "grid_template_rows": null,
            "height": null,
            "justify_content": null,
            "justify_items": null,
            "left": null,
            "margin": null,
            "max_height": null,
            "max_width": null,
            "min_height": null,
            "min_width": null,
            "object_fit": null,
            "object_position": null,
            "order": null,
            "overflow": null,
            "overflow_x": null,
            "overflow_y": null,
            "padding": null,
            "right": null,
            "top": null,
            "visibility": null,
            "width": null
          }
        },
        "e3231fbafc3c40d7b44bd5727c626676": {
          "model_module": "@jupyter-widgets/controls",
          "model_name": "DescriptionStyleModel",
          "model_module_version": "1.5.0",
          "state": {
            "_model_module": "@jupyter-widgets/controls",
            "_model_module_version": "1.5.0",
            "_model_name": "DescriptionStyleModel",
            "_view_count": null,
            "_view_module": "@jupyter-widgets/base",
            "_view_module_version": "1.2.0",
            "_view_name": "StyleView",
            "description_width": ""
          }
        },
        "827cefb3245e4a1dbb1b1bfda4573e17": {
          "model_module": "@jupyter-widgets/controls",
          "model_name": "HBoxModel",
          "model_module_version": "1.5.0",
          "state": {
            "_dom_classes": [],
            "_model_module": "@jupyter-widgets/controls",
            "_model_module_version": "1.5.0",
            "_model_name": "HBoxModel",
            "_view_count": null,
            "_view_module": "@jupyter-widgets/controls",
            "_view_module_version": "1.5.0",
            "_view_name": "HBoxView",
            "box_style": "",
            "children": [
              "IPY_MODEL_313e99d1875a403a9dff2d27f12c49ad",
              "IPY_MODEL_8af19448173e4d88979d4e7db8720fdb",
              "IPY_MODEL_0499d3f7c8964c03b6b97ef6efa9b90e"
            ],
            "layout": "IPY_MODEL_aa04d459e4b04e72be12ea06ed3f8dac"
          }
        },
        "313e99d1875a403a9dff2d27f12c49ad": {
          "model_module": "@jupyter-widgets/controls",
          "model_name": "HTMLModel",
          "model_module_version": "1.5.0",
          "state": {
            "_dom_classes": [],
            "_model_module": "@jupyter-widgets/controls",
            "_model_module_version": "1.5.0",
            "_model_name": "HTMLModel",
            "_view_count": null,
            "_view_module": "@jupyter-widgets/controls",
            "_view_module_version": "1.5.0",
            "_view_name": "HTMLView",
            "description": "",
            "description_tooltip": null,
            "layout": "IPY_MODEL_373eceeb66d24c55ab3e1e0122eff5a7",
            "placeholder": "​",
            "style": "IPY_MODEL_8804ec6a6d2443e9a3899da6ce6f42f8",
            "value": "tokenizer.model: 100%"
          }
        },
        "8af19448173e4d88979d4e7db8720fdb": {
          "model_module": "@jupyter-widgets/controls",
          "model_name": "FloatProgressModel",
          "model_module_version": "1.5.0",
          "state": {
            "_dom_classes": [],
            "_model_module": "@jupyter-widgets/controls",
            "_model_module_version": "1.5.0",
            "_model_name": "FloatProgressModel",
            "_view_count": null,
            "_view_module": "@jupyter-widgets/controls",
            "_view_module_version": "1.5.0",
            "_view_name": "ProgressView",
            "bar_style": "success",
            "description": "",
            "description_tooltip": null,
            "layout": "IPY_MODEL_3d2442fd120147cfb7cd510e4ee0d694",
            "max": 493443,
            "min": 0,
            "orientation": "horizontal",
            "style": "IPY_MODEL_57b35b0df0e14d6d9cfb7806212df316",
            "value": 493443
          }
        },
        "0499d3f7c8964c03b6b97ef6efa9b90e": {
          "model_module": "@jupyter-widgets/controls",
          "model_name": "HTMLModel",
          "model_module_version": "1.5.0",
          "state": {
            "_dom_classes": [],
            "_model_module": "@jupyter-widgets/controls",
            "_model_module_version": "1.5.0",
            "_model_name": "HTMLModel",
            "_view_count": null,
            "_view_module": "@jupyter-widgets/controls",
            "_view_module_version": "1.5.0",
            "_view_name": "HTMLView",
            "description": "",
            "description_tooltip": null,
            "layout": "IPY_MODEL_89ffdca756f04f5b92126a0363407523",
            "placeholder": "​",
            "style": "IPY_MODEL_a91a43db10d548a9926b4e5e57b70a2f",
            "value": " 493k/493k [00:00&lt;00:00, 8.55MB/s]"
          }
        },
        "aa04d459e4b04e72be12ea06ed3f8dac": {
          "model_module": "@jupyter-widgets/base",
          "model_name": "LayoutModel",
          "model_module_version": "1.2.0",
          "state": {
            "_model_module": "@jupyter-widgets/base",
            "_model_module_version": "1.2.0",
            "_model_name": "LayoutModel",
            "_view_count": null,
            "_view_module": "@jupyter-widgets/base",
            "_view_module_version": "1.2.0",
            "_view_name": "LayoutView",
            "align_content": null,
            "align_items": null,
            "align_self": null,
            "border": null,
            "bottom": null,
            "display": null,
            "flex": null,
            "flex_flow": null,
            "grid_area": null,
            "grid_auto_columns": null,
            "grid_auto_flow": null,
            "grid_auto_rows": null,
            "grid_column": null,
            "grid_gap": null,
            "grid_row": null,
            "grid_template_areas": null,
            "grid_template_columns": null,
            "grid_template_rows": null,
            "height": null,
            "justify_content": null,
            "justify_items": null,
            "left": null,
            "margin": null,
            "max_height": null,
            "max_width": null,
            "min_height": null,
            "min_width": null,
            "object_fit": null,
            "object_position": null,
            "order": null,
            "overflow": null,
            "overflow_x": null,
            "overflow_y": null,
            "padding": null,
            "right": null,
            "top": null,
            "visibility": null,
            "width": null
          }
        },
        "373eceeb66d24c55ab3e1e0122eff5a7": {
          "model_module": "@jupyter-widgets/base",
          "model_name": "LayoutModel",
          "model_module_version": "1.2.0",
          "state": {
            "_model_module": "@jupyter-widgets/base",
            "_model_module_version": "1.2.0",
            "_model_name": "LayoutModel",
            "_view_count": null,
            "_view_module": "@jupyter-widgets/base",
            "_view_module_version": "1.2.0",
            "_view_name": "LayoutView",
            "align_content": null,
            "align_items": null,
            "align_self": null,
            "border": null,
            "bottom": null,
            "display": null,
            "flex": null,
            "flex_flow": null,
            "grid_area": null,
            "grid_auto_columns": null,
            "grid_auto_flow": null,
            "grid_auto_rows": null,
            "grid_column": null,
            "grid_gap": null,
            "grid_row": null,
            "grid_template_areas": null,
            "grid_template_columns": null,
            "grid_template_rows": null,
            "height": null,
            "justify_content": null,
            "justify_items": null,
            "left": null,
            "margin": null,
            "max_height": null,
            "max_width": null,
            "min_height": null,
            "min_width": null,
            "object_fit": null,
            "object_position": null,
            "order": null,
            "overflow": null,
            "overflow_x": null,
            "overflow_y": null,
            "padding": null,
            "right": null,
            "top": null,
            "visibility": null,
            "width": null
          }
        },
        "8804ec6a6d2443e9a3899da6ce6f42f8": {
          "model_module": "@jupyter-widgets/controls",
          "model_name": "DescriptionStyleModel",
          "model_module_version": "1.5.0",
          "state": {
            "_model_module": "@jupyter-widgets/controls",
            "_model_module_version": "1.5.0",
            "_model_name": "DescriptionStyleModel",
            "_view_count": null,
            "_view_module": "@jupyter-widgets/base",
            "_view_module_version": "1.2.0",
            "_view_name": "StyleView",
            "description_width": ""
          }
        },
        "3d2442fd120147cfb7cd510e4ee0d694": {
          "model_module": "@jupyter-widgets/base",
          "model_name": "LayoutModel",
          "model_module_version": "1.2.0",
          "state": {
            "_model_module": "@jupyter-widgets/base",
            "_model_module_version": "1.2.0",
            "_model_name": "LayoutModel",
            "_view_count": null,
            "_view_module": "@jupyter-widgets/base",
            "_view_module_version": "1.2.0",
            "_view_name": "LayoutView",
            "align_content": null,
            "align_items": null,
            "align_self": null,
            "border": null,
            "bottom": null,
            "display": null,
            "flex": null,
            "flex_flow": null,
            "grid_area": null,
            "grid_auto_columns": null,
            "grid_auto_flow": null,
            "grid_auto_rows": null,
            "grid_column": null,
            "grid_gap": null,
            "grid_row": null,
            "grid_template_areas": null,
            "grid_template_columns": null,
            "grid_template_rows": null,
            "height": null,
            "justify_content": null,
            "justify_items": null,
            "left": null,
            "margin": null,
            "max_height": null,
            "max_width": null,
            "min_height": null,
            "min_width": null,
            "object_fit": null,
            "object_position": null,
            "order": null,
            "overflow": null,
            "overflow_x": null,
            "overflow_y": null,
            "padding": null,
            "right": null,
            "top": null,
            "visibility": null,
            "width": null
          }
        },
        "57b35b0df0e14d6d9cfb7806212df316": {
          "model_module": "@jupyter-widgets/controls",
          "model_name": "ProgressStyleModel",
          "model_module_version": "1.5.0",
          "state": {
            "_model_module": "@jupyter-widgets/controls",
            "_model_module_version": "1.5.0",
            "_model_name": "ProgressStyleModel",
            "_view_count": null,
            "_view_module": "@jupyter-widgets/base",
            "_view_module_version": "1.2.0",
            "_view_name": "StyleView",
            "bar_color": null,
            "description_width": ""
          }
        },
        "89ffdca756f04f5b92126a0363407523": {
          "model_module": "@jupyter-widgets/base",
          "model_name": "LayoutModel",
          "model_module_version": "1.2.0",
          "state": {
            "_model_module": "@jupyter-widgets/base",
            "_model_module_version": "1.2.0",
            "_model_name": "LayoutModel",
            "_view_count": null,
            "_view_module": "@jupyter-widgets/base",
            "_view_module_version": "1.2.0",
            "_view_name": "LayoutView",
            "align_content": null,
            "align_items": null,
            "align_self": null,
            "border": null,
            "bottom": null,
            "display": null,
            "flex": null,
            "flex_flow": null,
            "grid_area": null,
            "grid_auto_columns": null,
            "grid_auto_flow": null,
            "grid_auto_rows": null,
            "grid_column": null,
            "grid_gap": null,
            "grid_row": null,
            "grid_template_areas": null,
            "grid_template_columns": null,
            "grid_template_rows": null,
            "height": null,
            "justify_content": null,
            "justify_items": null,
            "left": null,
            "margin": null,
            "max_height": null,
            "max_width": null,
            "min_height": null,
            "min_width": null,
            "object_fit": null,
            "object_position": null,
            "order": null,
            "overflow": null,
            "overflow_x": null,
            "overflow_y": null,
            "padding": null,
            "right": null,
            "top": null,
            "visibility": null,
            "width": null
          }
        },
        "a91a43db10d548a9926b4e5e57b70a2f": {
          "model_module": "@jupyter-widgets/controls",
          "model_name": "DescriptionStyleModel",
          "model_module_version": "1.5.0",
          "state": {
            "_model_module": "@jupyter-widgets/controls",
            "_model_module_version": "1.5.0",
            "_model_name": "DescriptionStyleModel",
            "_view_count": null,
            "_view_module": "@jupyter-widgets/base",
            "_view_module_version": "1.2.0",
            "_view_name": "StyleView",
            "description_width": ""
          }
        },
        "41e7e200c139435c81e8dcab8f785edd": {
          "model_module": "@jupyter-widgets/controls",
          "model_name": "HBoxModel",
          "model_module_version": "1.5.0",
          "state": {
            "_dom_classes": [],
            "_model_module": "@jupyter-widgets/controls",
            "_model_module_version": "1.5.0",
            "_model_name": "HBoxModel",
            "_view_count": null,
            "_view_module": "@jupyter-widgets/controls",
            "_view_module_version": "1.5.0",
            "_view_name": "HBoxView",
            "box_style": "",
            "children": [
              "IPY_MODEL_e94293b92ec94aed9b1aad69ffeb13c8",
              "IPY_MODEL_5f3c5d87ca09486d9814bbc91d57026e",
              "IPY_MODEL_94de107166554775942f6d85bf51a95b"
            ],
            "layout": "IPY_MODEL_1651649848764893815bbcd3d2a2b692"
          }
        },
        "e94293b92ec94aed9b1aad69ffeb13c8": {
          "model_module": "@jupyter-widgets/controls",
          "model_name": "HTMLModel",
          "model_module_version": "1.5.0",
          "state": {
            "_dom_classes": [],
            "_model_module": "@jupyter-widgets/controls",
            "_model_module_version": "1.5.0",
            "_model_name": "HTMLModel",
            "_view_count": null,
            "_view_module": "@jupyter-widgets/controls",
            "_view_module_version": "1.5.0",
            "_view_name": "HTMLView",
            "description": "",
            "description_tooltip": null,
            "layout": "IPY_MODEL_2db8ec9d14224cf18495e079a3f6fd80",
            "placeholder": "​",
            "style": "IPY_MODEL_a2c994b2a7c946c293d871b986ecbb49",
            "value": "tokenizer.json: 100%"
          }
        },
        "5f3c5d87ca09486d9814bbc91d57026e": {
          "model_module": "@jupyter-widgets/controls",
          "model_name": "FloatProgressModel",
          "model_module_version": "1.5.0",
          "state": {
            "_dom_classes": [],
            "_model_module": "@jupyter-widgets/controls",
            "_model_module_version": "1.5.0",
            "_model_name": "FloatProgressModel",
            "_view_count": null,
            "_view_module": "@jupyter-widgets/controls",
            "_view_module_version": "1.5.0",
            "_view_name": "ProgressView",
            "bar_style": "success",
            "description": "",
            "description_tooltip": null,
            "layout": "IPY_MODEL_f9dc0813530b49b4b4fd8eb7f017993b",
            "max": 1795303,
            "min": 0,
            "orientation": "horizontal",
            "style": "IPY_MODEL_77d11ac3db544c22931de158c30e171c",
            "value": 1795303
          }
        },
        "94de107166554775942f6d85bf51a95b": {
          "model_module": "@jupyter-widgets/controls",
          "model_name": "HTMLModel",
          "model_module_version": "1.5.0",
          "state": {
            "_dom_classes": [],
            "_model_module": "@jupyter-widgets/controls",
            "_model_module_version": "1.5.0",
            "_model_name": "HTMLModel",
            "_view_count": null,
            "_view_module": "@jupyter-widgets/controls",
            "_view_module_version": "1.5.0",
            "_view_name": "HTMLView",
            "description": "",
            "description_tooltip": null,
            "layout": "IPY_MODEL_0341d23251a54912a3c43c57deb94b4c",
            "placeholder": "​",
            "style": "IPY_MODEL_8a8a9721f98a48908c08bc2255e5a690",
            "value": " 1.80M/1.80M [00:00&lt;00:00, 16.9MB/s]"
          }
        },
        "1651649848764893815bbcd3d2a2b692": {
          "model_module": "@jupyter-widgets/base",
          "model_name": "LayoutModel",
          "model_module_version": "1.2.0",
          "state": {
            "_model_module": "@jupyter-widgets/base",
            "_model_module_version": "1.2.0",
            "_model_name": "LayoutModel",
            "_view_count": null,
            "_view_module": "@jupyter-widgets/base",
            "_view_module_version": "1.2.0",
            "_view_name": "LayoutView",
            "align_content": null,
            "align_items": null,
            "align_self": null,
            "border": null,
            "bottom": null,
            "display": null,
            "flex": null,
            "flex_flow": null,
            "grid_area": null,
            "grid_auto_columns": null,
            "grid_auto_flow": null,
            "grid_auto_rows": null,
            "grid_column": null,
            "grid_gap": null,
            "grid_row": null,
            "grid_template_areas": null,
            "grid_template_columns": null,
            "grid_template_rows": null,
            "height": null,
            "justify_content": null,
            "justify_items": null,
            "left": null,
            "margin": null,
            "max_height": null,
            "max_width": null,
            "min_height": null,
            "min_width": null,
            "object_fit": null,
            "object_position": null,
            "order": null,
            "overflow": null,
            "overflow_x": null,
            "overflow_y": null,
            "padding": null,
            "right": null,
            "top": null,
            "visibility": null,
            "width": null
          }
        },
        "2db8ec9d14224cf18495e079a3f6fd80": {
          "model_module": "@jupyter-widgets/base",
          "model_name": "LayoutModel",
          "model_module_version": "1.2.0",
          "state": {
            "_model_module": "@jupyter-widgets/base",
            "_model_module_version": "1.2.0",
            "_model_name": "LayoutModel",
            "_view_count": null,
            "_view_module": "@jupyter-widgets/base",
            "_view_module_version": "1.2.0",
            "_view_name": "LayoutView",
            "align_content": null,
            "align_items": null,
            "align_self": null,
            "border": null,
            "bottom": null,
            "display": null,
            "flex": null,
            "flex_flow": null,
            "grid_area": null,
            "grid_auto_columns": null,
            "grid_auto_flow": null,
            "grid_auto_rows": null,
            "grid_column": null,
            "grid_gap": null,
            "grid_row": null,
            "grid_template_areas": null,
            "grid_template_columns": null,
            "grid_template_rows": null,
            "height": null,
            "justify_content": null,
            "justify_items": null,
            "left": null,
            "margin": null,
            "max_height": null,
            "max_width": null,
            "min_height": null,
            "min_width": null,
            "object_fit": null,
            "object_position": null,
            "order": null,
            "overflow": null,
            "overflow_x": null,
            "overflow_y": null,
            "padding": null,
            "right": null,
            "top": null,
            "visibility": null,
            "width": null
          }
        },
        "a2c994b2a7c946c293d871b986ecbb49": {
          "model_module": "@jupyter-widgets/controls",
          "model_name": "DescriptionStyleModel",
          "model_module_version": "1.5.0",
          "state": {
            "_model_module": "@jupyter-widgets/controls",
            "_model_module_version": "1.5.0",
            "_model_name": "DescriptionStyleModel",
            "_view_count": null,
            "_view_module": "@jupyter-widgets/base",
            "_view_module_version": "1.2.0",
            "_view_name": "StyleView",
            "description_width": ""
          }
        },
        "f9dc0813530b49b4b4fd8eb7f017993b": {
          "model_module": "@jupyter-widgets/base",
          "model_name": "LayoutModel",
          "model_module_version": "1.2.0",
          "state": {
            "_model_module": "@jupyter-widgets/base",
            "_model_module_version": "1.2.0",
            "_model_name": "LayoutModel",
            "_view_count": null,
            "_view_module": "@jupyter-widgets/base",
            "_view_module_version": "1.2.0",
            "_view_name": "LayoutView",
            "align_content": null,
            "align_items": null,
            "align_self": null,
            "border": null,
            "bottom": null,
            "display": null,
            "flex": null,
            "flex_flow": null,
            "grid_area": null,
            "grid_auto_columns": null,
            "grid_auto_flow": null,
            "grid_auto_rows": null,
            "grid_column": null,
            "grid_gap": null,
            "grid_row": null,
            "grid_template_areas": null,
            "grid_template_columns": null,
            "grid_template_rows": null,
            "height": null,
            "justify_content": null,
            "justify_items": null,
            "left": null,
            "margin": null,
            "max_height": null,
            "max_width": null,
            "min_height": null,
            "min_width": null,
            "object_fit": null,
            "object_position": null,
            "order": null,
            "overflow": null,
            "overflow_x": null,
            "overflow_y": null,
            "padding": null,
            "right": null,
            "top": null,
            "visibility": null,
            "width": null
          }
        },
        "77d11ac3db544c22931de158c30e171c": {
          "model_module": "@jupyter-widgets/controls",
          "model_name": "ProgressStyleModel",
          "model_module_version": "1.5.0",
          "state": {
            "_model_module": "@jupyter-widgets/controls",
            "_model_module_version": "1.5.0",
            "_model_name": "ProgressStyleModel",
            "_view_count": null,
            "_view_module": "@jupyter-widgets/base",
            "_view_module_version": "1.2.0",
            "_view_name": "StyleView",
            "bar_color": null,
            "description_width": ""
          }
        },
        "0341d23251a54912a3c43c57deb94b4c": {
          "model_module": "@jupyter-widgets/base",
          "model_name": "LayoutModel",
          "model_module_version": "1.2.0",
          "state": {
            "_model_module": "@jupyter-widgets/base",
            "_model_module_version": "1.2.0",
            "_model_name": "LayoutModel",
            "_view_count": null,
            "_view_module": "@jupyter-widgets/base",
            "_view_module_version": "1.2.0",
            "_view_name": "LayoutView",
            "align_content": null,
            "align_items": null,
            "align_self": null,
            "border": null,
            "bottom": null,
            "display": null,
            "flex": null,
            "flex_flow": null,
            "grid_area": null,
            "grid_auto_columns": null,
            "grid_auto_flow": null,
            "grid_auto_rows": null,
            "grid_column": null,
            "grid_gap": null,
            "grid_row": null,
            "grid_template_areas": null,
            "grid_template_columns": null,
            "grid_template_rows": null,
            "height": null,
            "justify_content": null,
            "justify_items": null,
            "left": null,
            "margin": null,
            "max_height": null,
            "max_width": null,
            "min_height": null,
            "min_width": null,
            "object_fit": null,
            "object_position": null,
            "order": null,
            "overflow": null,
            "overflow_x": null,
            "overflow_y": null,
            "padding": null,
            "right": null,
            "top": null,
            "visibility": null,
            "width": null
          }
        },
        "8a8a9721f98a48908c08bc2255e5a690": {
          "model_module": "@jupyter-widgets/controls",
          "model_name": "DescriptionStyleModel",
          "model_module_version": "1.5.0",
          "state": {
            "_model_module": "@jupyter-widgets/controls",
            "_model_module_version": "1.5.0",
            "_model_name": "DescriptionStyleModel",
            "_view_count": null,
            "_view_module": "@jupyter-widgets/base",
            "_view_module_version": "1.2.0",
            "_view_name": "StyleView",
            "description_width": ""
          }
        },
        "2b1e38802ad5440b97cc11327161576b": {
          "model_module": "@jupyter-widgets/controls",
          "model_name": "HBoxModel",
          "model_module_version": "1.5.0",
          "state": {
            "_dom_classes": [],
            "_model_module": "@jupyter-widgets/controls",
            "_model_module_version": "1.5.0",
            "_model_name": "HBoxModel",
            "_view_count": null,
            "_view_module": "@jupyter-widgets/controls",
            "_view_module_version": "1.5.0",
            "_view_name": "HBoxView",
            "box_style": "",
            "children": [
              "IPY_MODEL_8ff773aa9dec4769b247ddd718697ffb",
              "IPY_MODEL_54afb00500bd40c5ad480ebfd38023cb",
              "IPY_MODEL_e7c38d28ebd3453ea0027a98b8fc9aa2"
            ],
            "layout": "IPY_MODEL_551fbb2a697b4d9e959606f2ea850230"
          }
        },
        "8ff773aa9dec4769b247ddd718697ffb": {
          "model_module": "@jupyter-widgets/controls",
          "model_name": "HTMLModel",
          "model_module_version": "1.5.0",
          "state": {
            "_dom_classes": [],
            "_model_module": "@jupyter-widgets/controls",
            "_model_module_version": "1.5.0",
            "_model_name": "HTMLModel",
            "_view_count": null,
            "_view_module": "@jupyter-widgets/controls",
            "_view_module_version": "1.5.0",
            "_view_name": "HTMLView",
            "description": "",
            "description_tooltip": null,
            "layout": "IPY_MODEL_6dbf1c0eb59c43f6a961c685de111df3",
            "placeholder": "​",
            "style": "IPY_MODEL_2a88f5a7ce1349208c88e5fc5ad60f68",
            "value": "special_tokens_map.json: 100%"
          }
        },
        "54afb00500bd40c5ad480ebfd38023cb": {
          "model_module": "@jupyter-widgets/controls",
          "model_name": "FloatProgressModel",
          "model_module_version": "1.5.0",
          "state": {
            "_dom_classes": [],
            "_model_module": "@jupyter-widgets/controls",
            "_model_module_version": "1.5.0",
            "_model_name": "FloatProgressModel",
            "_view_count": null,
            "_view_module": "@jupyter-widgets/controls",
            "_view_module_version": "1.5.0",
            "_view_name": "ProgressView",
            "bar_style": "success",
            "description": "",
            "description_tooltip": null,
            "layout": "IPY_MODEL_fbd4cc0eb073453eb6db0f3a8bc658af",
            "max": 72,
            "min": 0,
            "orientation": "horizontal",
            "style": "IPY_MODEL_898f59b228374dd0ad20539a941dbd6b",
            "value": 72
          }
        },
        "e7c38d28ebd3453ea0027a98b8fc9aa2": {
          "model_module": "@jupyter-widgets/controls",
          "model_name": "HTMLModel",
          "model_module_version": "1.5.0",
          "state": {
            "_dom_classes": [],
            "_model_module": "@jupyter-widgets/controls",
            "_model_module_version": "1.5.0",
            "_model_name": "HTMLModel",
            "_view_count": null,
            "_view_module": "@jupyter-widgets/controls",
            "_view_module_version": "1.5.0",
            "_view_name": "HTMLView",
            "description": "",
            "description_tooltip": null,
            "layout": "IPY_MODEL_0518b33fdec548f4826bef80555de596",
            "placeholder": "​",
            "style": "IPY_MODEL_2731cb2968a94b1a807c5bb1eb770d55",
            "value": " 72.0/72.0 [00:00&lt;00:00, 5.16kB/s]"
          }
        },
        "551fbb2a697b4d9e959606f2ea850230": {
          "model_module": "@jupyter-widgets/base",
          "model_name": "LayoutModel",
          "model_module_version": "1.2.0",
          "state": {
            "_model_module": "@jupyter-widgets/base",
            "_model_module_version": "1.2.0",
            "_model_name": "LayoutModel",
            "_view_count": null,
            "_view_module": "@jupyter-widgets/base",
            "_view_module_version": "1.2.0",
            "_view_name": "LayoutView",
            "align_content": null,
            "align_items": null,
            "align_self": null,
            "border": null,
            "bottom": null,
            "display": null,
            "flex": null,
            "flex_flow": null,
            "grid_area": null,
            "grid_auto_columns": null,
            "grid_auto_flow": null,
            "grid_auto_rows": null,
            "grid_column": null,
            "grid_gap": null,
            "grid_row": null,
            "grid_template_areas": null,
            "grid_template_columns": null,
            "grid_template_rows": null,
            "height": null,
            "justify_content": null,
            "justify_items": null,
            "left": null,
            "margin": null,
            "max_height": null,
            "max_width": null,
            "min_height": null,
            "min_width": null,
            "object_fit": null,
            "object_position": null,
            "order": null,
            "overflow": null,
            "overflow_x": null,
            "overflow_y": null,
            "padding": null,
            "right": null,
            "top": null,
            "visibility": null,
            "width": null
          }
        },
        "6dbf1c0eb59c43f6a961c685de111df3": {
          "model_module": "@jupyter-widgets/base",
          "model_name": "LayoutModel",
          "model_module_version": "1.2.0",
          "state": {
            "_model_module": "@jupyter-widgets/base",
            "_model_module_version": "1.2.0",
            "_model_name": "LayoutModel",
            "_view_count": null,
            "_view_module": "@jupyter-widgets/base",
            "_view_module_version": "1.2.0",
            "_view_name": "LayoutView",
            "align_content": null,
            "align_items": null,
            "align_self": null,
            "border": null,
            "bottom": null,
            "display": null,
            "flex": null,
            "flex_flow": null,
            "grid_area": null,
            "grid_auto_columns": null,
            "grid_auto_flow": null,
            "grid_auto_rows": null,
            "grid_column": null,
            "grid_gap": null,
            "grid_row": null,
            "grid_template_areas": null,
            "grid_template_columns": null,
            "grid_template_rows": null,
            "height": null,
            "justify_content": null,
            "justify_items": null,
            "left": null,
            "margin": null,
            "max_height": null,
            "max_width": null,
            "min_height": null,
            "min_width": null,
            "object_fit": null,
            "object_position": null,
            "order": null,
            "overflow": null,
            "overflow_x": null,
            "overflow_y": null,
            "padding": null,
            "right": null,
            "top": null,
            "visibility": null,
            "width": null
          }
        },
        "2a88f5a7ce1349208c88e5fc5ad60f68": {
          "model_module": "@jupyter-widgets/controls",
          "model_name": "DescriptionStyleModel",
          "model_module_version": "1.5.0",
          "state": {
            "_model_module": "@jupyter-widgets/controls",
            "_model_module_version": "1.5.0",
            "_model_name": "DescriptionStyleModel",
            "_view_count": null,
            "_view_module": "@jupyter-widgets/base",
            "_view_module_version": "1.2.0",
            "_view_name": "StyleView",
            "description_width": ""
          }
        },
        "fbd4cc0eb073453eb6db0f3a8bc658af": {
          "model_module": "@jupyter-widgets/base",
          "model_name": "LayoutModel",
          "model_module_version": "1.2.0",
          "state": {
            "_model_module": "@jupyter-widgets/base",
            "_model_module_version": "1.2.0",
            "_model_name": "LayoutModel",
            "_view_count": null,
            "_view_module": "@jupyter-widgets/base",
            "_view_module_version": "1.2.0",
            "_view_name": "LayoutView",
            "align_content": null,
            "align_items": null,
            "align_self": null,
            "border": null,
            "bottom": null,
            "display": null,
            "flex": null,
            "flex_flow": null,
            "grid_area": null,
            "grid_auto_columns": null,
            "grid_auto_flow": null,
            "grid_auto_rows": null,
            "grid_column": null,
            "grid_gap": null,
            "grid_row": null,
            "grid_template_areas": null,
            "grid_template_columns": null,
            "grid_template_rows": null,
            "height": null,
            "justify_content": null,
            "justify_items": null,
            "left": null,
            "margin": null,
            "max_height": null,
            "max_width": null,
            "min_height": null,
            "min_width": null,
            "object_fit": null,
            "object_position": null,
            "order": null,
            "overflow": null,
            "overflow_x": null,
            "overflow_y": null,
            "padding": null,
            "right": null,
            "top": null,
            "visibility": null,
            "width": null
          }
        },
        "898f59b228374dd0ad20539a941dbd6b": {
          "model_module": "@jupyter-widgets/controls",
          "model_name": "ProgressStyleModel",
          "model_module_version": "1.5.0",
          "state": {
            "_model_module": "@jupyter-widgets/controls",
            "_model_module_version": "1.5.0",
            "_model_name": "ProgressStyleModel",
            "_view_count": null,
            "_view_module": "@jupyter-widgets/base",
            "_view_module_version": "1.2.0",
            "_view_name": "StyleView",
            "bar_color": null,
            "description_width": ""
          }
        },
        "0518b33fdec548f4826bef80555de596": {
          "model_module": "@jupyter-widgets/base",
          "model_name": "LayoutModel",
          "model_module_version": "1.2.0",
          "state": {
            "_model_module": "@jupyter-widgets/base",
            "_model_module_version": "1.2.0",
            "_model_name": "LayoutModel",
            "_view_count": null,
            "_view_module": "@jupyter-widgets/base",
            "_view_module_version": "1.2.0",
            "_view_name": "LayoutView",
            "align_content": null,
            "align_items": null,
            "align_self": null,
            "border": null,
            "bottom": null,
            "display": null,
            "flex": null,
            "flex_flow": null,
            "grid_area": null,
            "grid_auto_columns": null,
            "grid_auto_flow": null,
            "grid_auto_rows": null,
            "grid_column": null,
            "grid_gap": null,
            "grid_row": null,
            "grid_template_areas": null,
            "grid_template_columns": null,
            "grid_template_rows": null,
            "height": null,
            "justify_content": null,
            "justify_items": null,
            "left": null,
            "margin": null,
            "max_height": null,
            "max_width": null,
            "min_height": null,
            "min_width": null,
            "object_fit": null,
            "object_position": null,
            "order": null,
            "overflow": null,
            "overflow_x": null,
            "overflow_y": null,
            "padding": null,
            "right": null,
            "top": null,
            "visibility": null,
            "width": null
          }
        },
        "2731cb2968a94b1a807c5bb1eb770d55": {
          "model_module": "@jupyter-widgets/controls",
          "model_name": "DescriptionStyleModel",
          "model_module_version": "1.5.0",
          "state": {
            "_model_module": "@jupyter-widgets/controls",
            "_model_module_version": "1.5.0",
            "_model_name": "DescriptionStyleModel",
            "_view_count": null,
            "_view_module": "@jupyter-widgets/base",
            "_view_module_version": "1.2.0",
            "_view_name": "StyleView",
            "description_width": ""
          }
        },
        "99f4e354e50a40c6a0dce8bf98fdef43": {
          "model_module": "@jupyter-widgets/controls",
          "model_name": "HBoxModel",
          "model_module_version": "1.5.0",
          "state": {
            "_dom_classes": [],
            "_model_module": "@jupyter-widgets/controls",
            "_model_module_version": "1.5.0",
            "_model_name": "HBoxModel",
            "_view_count": null,
            "_view_module": "@jupyter-widgets/controls",
            "_view_module_version": "1.5.0",
            "_view_name": "HBoxView",
            "box_style": "",
            "children": [
              "IPY_MODEL_6cb1929ae33f45d282d6bdbb283ffdc2",
              "IPY_MODEL_45d1af41656442a1aa7cf46276c4e758",
              "IPY_MODEL_2b1484a2e2df46c9bbc4ab1159c80fbf"
            ],
            "layout": "IPY_MODEL_f8c10ba965d340159ad69346b66e522e"
          }
        },
        "6cb1929ae33f45d282d6bdbb283ffdc2": {
          "model_module": "@jupyter-widgets/controls",
          "model_name": "HTMLModel",
          "model_module_version": "1.5.0",
          "state": {
            "_dom_classes": [],
            "_model_module": "@jupyter-widgets/controls",
            "_model_module_version": "1.5.0",
            "_model_name": "HTMLModel",
            "_view_count": null,
            "_view_module": "@jupyter-widgets/controls",
            "_view_module_version": "1.5.0",
            "_view_name": "HTMLView",
            "description": "",
            "description_tooltip": null,
            "layout": "IPY_MODEL_d1667516356344889ab5db977247e646",
            "placeholder": "​",
            "style": "IPY_MODEL_eb218b6c557d4624bf8b876acd4ad55f",
            "value": "config.json: 100%"
          }
        },
        "45d1af41656442a1aa7cf46276c4e758": {
          "model_module": "@jupyter-widgets/controls",
          "model_name": "FloatProgressModel",
          "model_module_version": "1.5.0",
          "state": {
            "_dom_classes": [],
            "_model_module": "@jupyter-widgets/controls",
            "_model_module_version": "1.5.0",
            "_model_name": "FloatProgressModel",
            "_view_count": null,
            "_view_module": "@jupyter-widgets/controls",
            "_view_module_version": "1.5.0",
            "_view_name": "ProgressView",
            "bar_style": "success",
            "description": "",
            "description_tooltip": null,
            "layout": "IPY_MODEL_8d4edeada6734d5cbc28c004826224eb",
            "max": 571,
            "min": 0,
            "orientation": "horizontal",
            "style": "IPY_MODEL_7d368206bf654412a7b0c7291574cc30",
            "value": 571
          }
        },
        "2b1484a2e2df46c9bbc4ab1159c80fbf": {
          "model_module": "@jupyter-widgets/controls",
          "model_name": "HTMLModel",
          "model_module_version": "1.5.0",
          "state": {
            "_dom_classes": [],
            "_model_module": "@jupyter-widgets/controls",
            "_model_module_version": "1.5.0",
            "_model_name": "HTMLModel",
            "_view_count": null,
            "_view_module": "@jupyter-widgets/controls",
            "_view_module_version": "1.5.0",
            "_view_name": "HTMLView",
            "description": "",
            "description_tooltip": null,
            "layout": "IPY_MODEL_987b7d173b854adb95a94a02d3a9fc17",
            "placeholder": "​",
            "style": "IPY_MODEL_f28113f201904513a41b410aaf0f141f",
            "value": " 571/571 [00:00&lt;00:00, 33.1kB/s]"
          }
        },
        "f8c10ba965d340159ad69346b66e522e": {
          "model_module": "@jupyter-widgets/base",
          "model_name": "LayoutModel",
          "model_module_version": "1.2.0",
          "state": {
            "_model_module": "@jupyter-widgets/base",
            "_model_module_version": "1.2.0",
            "_model_name": "LayoutModel",
            "_view_count": null,
            "_view_module": "@jupyter-widgets/base",
            "_view_module_version": "1.2.0",
            "_view_name": "LayoutView",
            "align_content": null,
            "align_items": null,
            "align_self": null,
            "border": null,
            "bottom": null,
            "display": null,
            "flex": null,
            "flex_flow": null,
            "grid_area": null,
            "grid_auto_columns": null,
            "grid_auto_flow": null,
            "grid_auto_rows": null,
            "grid_column": null,
            "grid_gap": null,
            "grid_row": null,
            "grid_template_areas": null,
            "grid_template_columns": null,
            "grid_template_rows": null,
            "height": null,
            "justify_content": null,
            "justify_items": null,
            "left": null,
            "margin": null,
            "max_height": null,
            "max_width": null,
            "min_height": null,
            "min_width": null,
            "object_fit": null,
            "object_position": null,
            "order": null,
            "overflow": null,
            "overflow_x": null,
            "overflow_y": null,
            "padding": null,
            "right": null,
            "top": null,
            "visibility": null,
            "width": null
          }
        },
        "d1667516356344889ab5db977247e646": {
          "model_module": "@jupyter-widgets/base",
          "model_name": "LayoutModel",
          "model_module_version": "1.2.0",
          "state": {
            "_model_module": "@jupyter-widgets/base",
            "_model_module_version": "1.2.0",
            "_model_name": "LayoutModel",
            "_view_count": null,
            "_view_module": "@jupyter-widgets/base",
            "_view_module_version": "1.2.0",
            "_view_name": "LayoutView",
            "align_content": null,
            "align_items": null,
            "align_self": null,
            "border": null,
            "bottom": null,
            "display": null,
            "flex": null,
            "flex_flow": null,
            "grid_area": null,
            "grid_auto_columns": null,
            "grid_auto_flow": null,
            "grid_auto_rows": null,
            "grid_column": null,
            "grid_gap": null,
            "grid_row": null,
            "grid_template_areas": null,
            "grid_template_columns": null,
            "grid_template_rows": null,
            "height": null,
            "justify_content": null,
            "justify_items": null,
            "left": null,
            "margin": null,
            "max_height": null,
            "max_width": null,
            "min_height": null,
            "min_width": null,
            "object_fit": null,
            "object_position": null,
            "order": null,
            "overflow": null,
            "overflow_x": null,
            "overflow_y": null,
            "padding": null,
            "right": null,
            "top": null,
            "visibility": null,
            "width": null
          }
        },
        "eb218b6c557d4624bf8b876acd4ad55f": {
          "model_module": "@jupyter-widgets/controls",
          "model_name": "DescriptionStyleModel",
          "model_module_version": "1.5.0",
          "state": {
            "_model_module": "@jupyter-widgets/controls",
            "_model_module_version": "1.5.0",
            "_model_name": "DescriptionStyleModel",
            "_view_count": null,
            "_view_module": "@jupyter-widgets/base",
            "_view_module_version": "1.2.0",
            "_view_name": "StyleView",
            "description_width": ""
          }
        },
        "8d4edeada6734d5cbc28c004826224eb": {
          "model_module": "@jupyter-widgets/base",
          "model_name": "LayoutModel",
          "model_module_version": "1.2.0",
          "state": {
            "_model_module": "@jupyter-widgets/base",
            "_model_module_version": "1.2.0",
            "_model_name": "LayoutModel",
            "_view_count": null,
            "_view_module": "@jupyter-widgets/base",
            "_view_module_version": "1.2.0",
            "_view_name": "LayoutView",
            "align_content": null,
            "align_items": null,
            "align_self": null,
            "border": null,
            "bottom": null,
            "display": null,
            "flex": null,
            "flex_flow": null,
            "grid_area": null,
            "grid_auto_columns": null,
            "grid_auto_flow": null,
            "grid_auto_rows": null,
            "grid_column": null,
            "grid_gap": null,
            "grid_row": null,
            "grid_template_areas": null,
            "grid_template_columns": null,
            "grid_template_rows": null,
            "height": null,
            "justify_content": null,
            "justify_items": null,
            "left": null,
            "margin": null,
            "max_height": null,
            "max_width": null,
            "min_height": null,
            "min_width": null,
            "object_fit": null,
            "object_position": null,
            "order": null,
            "overflow": null,
            "overflow_x": null,
            "overflow_y": null,
            "padding": null,
            "right": null,
            "top": null,
            "visibility": null,
            "width": null
          }
        },
        "7d368206bf654412a7b0c7291574cc30": {
          "model_module": "@jupyter-widgets/controls",
          "model_name": "ProgressStyleModel",
          "model_module_version": "1.5.0",
          "state": {
            "_model_module": "@jupyter-widgets/controls",
            "_model_module_version": "1.5.0",
            "_model_name": "ProgressStyleModel",
            "_view_count": null,
            "_view_module": "@jupyter-widgets/base",
            "_view_module_version": "1.2.0",
            "_view_name": "StyleView",
            "bar_color": null,
            "description_width": ""
          }
        },
        "987b7d173b854adb95a94a02d3a9fc17": {
          "model_module": "@jupyter-widgets/base",
          "model_name": "LayoutModel",
          "model_module_version": "1.2.0",
          "state": {
            "_model_module": "@jupyter-widgets/base",
            "_model_module_version": "1.2.0",
            "_model_name": "LayoutModel",
            "_view_count": null,
            "_view_module": "@jupyter-widgets/base",
            "_view_module_version": "1.2.0",
            "_view_name": "LayoutView",
            "align_content": null,
            "align_items": null,
            "align_self": null,
            "border": null,
            "bottom": null,
            "display": null,
            "flex": null,
            "flex_flow": null,
            "grid_area": null,
            "grid_auto_columns": null,
            "grid_auto_flow": null,
            "grid_auto_rows": null,
            "grid_column": null,
            "grid_gap": null,
            "grid_row": null,
            "grid_template_areas": null,
            "grid_template_columns": null,
            "grid_template_rows": null,
            "height": null,
            "justify_content": null,
            "justify_items": null,
            "left": null,
            "margin": null,
            "max_height": null,
            "max_width": null,
            "min_height": null,
            "min_width": null,
            "object_fit": null,
            "object_position": null,
            "order": null,
            "overflow": null,
            "overflow_x": null,
            "overflow_y": null,
            "padding": null,
            "right": null,
            "top": null,
            "visibility": null,
            "width": null
          }
        },
        "f28113f201904513a41b410aaf0f141f": {
          "model_module": "@jupyter-widgets/controls",
          "model_name": "DescriptionStyleModel",
          "model_module_version": "1.5.0",
          "state": {
            "_model_module": "@jupyter-widgets/controls",
            "_model_module_version": "1.5.0",
            "_model_name": "DescriptionStyleModel",
            "_view_count": null,
            "_view_module": "@jupyter-widgets/base",
            "_view_module_version": "1.2.0",
            "_view_name": "StyleView",
            "description_width": ""
          }
        },
        "7a4628c427144da68d7af4c41b07b9b0": {
          "model_module": "@jupyter-widgets/controls",
          "model_name": "HBoxModel",
          "model_module_version": "1.5.0",
          "state": {
            "_dom_classes": [],
            "_model_module": "@jupyter-widgets/controls",
            "_model_module_version": "1.5.0",
            "_model_name": "HBoxModel",
            "_view_count": null,
            "_view_module": "@jupyter-widgets/controls",
            "_view_module_version": "1.5.0",
            "_view_name": "HBoxView",
            "box_style": "",
            "children": [
              "IPY_MODEL_4153dfb14014482cb7c0f7e4e27a2352",
              "IPY_MODEL_65c28a28599a488c9eaa9debba7a0a55",
              "IPY_MODEL_545ba382d8f04594bb0b720e0e83c0fd"
            ],
            "layout": "IPY_MODEL_0398017bba894872a5c112c8efc92000"
          }
        },
        "4153dfb14014482cb7c0f7e4e27a2352": {
          "model_module": "@jupyter-widgets/controls",
          "model_name": "HTMLModel",
          "model_module_version": "1.5.0",
          "state": {
            "_dom_classes": [],
            "_model_module": "@jupyter-widgets/controls",
            "_model_module_version": "1.5.0",
            "_model_name": "HTMLModel",
            "_view_count": null,
            "_view_module": "@jupyter-widgets/controls",
            "_view_module_version": "1.5.0",
            "_view_name": "HTMLView",
            "description": "",
            "description_tooltip": null,
            "layout": "IPY_MODEL_ffd3287e07ce4a5f9e827f5e018e49b3",
            "placeholder": "​",
            "style": "IPY_MODEL_391469a93a234749b49a453f9dae925c",
            "value": "model.safetensors.index.json: 100%"
          }
        },
        "65c28a28599a488c9eaa9debba7a0a55": {
          "model_module": "@jupyter-widgets/controls",
          "model_name": "FloatProgressModel",
          "model_module_version": "1.5.0",
          "state": {
            "_dom_classes": [],
            "_model_module": "@jupyter-widgets/controls",
            "_model_module_version": "1.5.0",
            "_model_name": "FloatProgressModel",
            "_view_count": null,
            "_view_module": "@jupyter-widgets/controls",
            "_view_module_version": "1.5.0",
            "_view_name": "ProgressView",
            "bar_style": "success",
            "description": "",
            "description_tooltip": null,
            "layout": "IPY_MODEL_ba77475a8b3340b1b8ff065453bfdb61",
            "max": 25125,
            "min": 0,
            "orientation": "horizontal",
            "style": "IPY_MODEL_b8835b0e87d4458881acd7bb9670b249",
            "value": 25125
          }
        },
        "545ba382d8f04594bb0b720e0e83c0fd": {
          "model_module": "@jupyter-widgets/controls",
          "model_name": "HTMLModel",
          "model_module_version": "1.5.0",
          "state": {
            "_dom_classes": [],
            "_model_module": "@jupyter-widgets/controls",
            "_model_module_version": "1.5.0",
            "_model_name": "HTMLModel",
            "_view_count": null,
            "_view_module": "@jupyter-widgets/controls",
            "_view_module_version": "1.5.0",
            "_view_name": "HTMLView",
            "description": "",
            "description_tooltip": null,
            "layout": "IPY_MODEL_1a482382a89b4b4d830ae9c6b4454bee",
            "placeholder": "​",
            "style": "IPY_MODEL_aa44f7ccd41048c290b5693ab35b0b37",
            "value": " 25.1k/25.1k [00:00&lt;00:00, 1.38MB/s]"
          }
        },
        "0398017bba894872a5c112c8efc92000": {
          "model_module": "@jupyter-widgets/base",
          "model_name": "LayoutModel",
          "model_module_version": "1.2.0",
          "state": {
            "_model_module": "@jupyter-widgets/base",
            "_model_module_version": "1.2.0",
            "_model_name": "LayoutModel",
            "_view_count": null,
            "_view_module": "@jupyter-widgets/base",
            "_view_module_version": "1.2.0",
            "_view_name": "LayoutView",
            "align_content": null,
            "align_items": null,
            "align_self": null,
            "border": null,
            "bottom": null,
            "display": null,
            "flex": null,
            "flex_flow": null,
            "grid_area": null,
            "grid_auto_columns": null,
            "grid_auto_flow": null,
            "grid_auto_rows": null,
            "grid_column": null,
            "grid_gap": null,
            "grid_row": null,
            "grid_template_areas": null,
            "grid_template_columns": null,
            "grid_template_rows": null,
            "height": null,
            "justify_content": null,
            "justify_items": null,
            "left": null,
            "margin": null,
            "max_height": null,
            "max_width": null,
            "min_height": null,
            "min_width": null,
            "object_fit": null,
            "object_position": null,
            "order": null,
            "overflow": null,
            "overflow_x": null,
            "overflow_y": null,
            "padding": null,
            "right": null,
            "top": null,
            "visibility": null,
            "width": null
          }
        },
        "ffd3287e07ce4a5f9e827f5e018e49b3": {
          "model_module": "@jupyter-widgets/base",
          "model_name": "LayoutModel",
          "model_module_version": "1.2.0",
          "state": {
            "_model_module": "@jupyter-widgets/base",
            "_model_module_version": "1.2.0",
            "_model_name": "LayoutModel",
            "_view_count": null,
            "_view_module": "@jupyter-widgets/base",
            "_view_module_version": "1.2.0",
            "_view_name": "LayoutView",
            "align_content": null,
            "align_items": null,
            "align_self": null,
            "border": null,
            "bottom": null,
            "display": null,
            "flex": null,
            "flex_flow": null,
            "grid_area": null,
            "grid_auto_columns": null,
            "grid_auto_flow": null,
            "grid_auto_rows": null,
            "grid_column": null,
            "grid_gap": null,
            "grid_row": null,
            "grid_template_areas": null,
            "grid_template_columns": null,
            "grid_template_rows": null,
            "height": null,
            "justify_content": null,
            "justify_items": null,
            "left": null,
            "margin": null,
            "max_height": null,
            "max_width": null,
            "min_height": null,
            "min_width": null,
            "object_fit": null,
            "object_position": null,
            "order": null,
            "overflow": null,
            "overflow_x": null,
            "overflow_y": null,
            "padding": null,
            "right": null,
            "top": null,
            "visibility": null,
            "width": null
          }
        },
        "391469a93a234749b49a453f9dae925c": {
          "model_module": "@jupyter-widgets/controls",
          "model_name": "DescriptionStyleModel",
          "model_module_version": "1.5.0",
          "state": {
            "_model_module": "@jupyter-widgets/controls",
            "_model_module_version": "1.5.0",
            "_model_name": "DescriptionStyleModel",
            "_view_count": null,
            "_view_module": "@jupyter-widgets/base",
            "_view_module_version": "1.2.0",
            "_view_name": "StyleView",
            "description_width": ""
          }
        },
        "ba77475a8b3340b1b8ff065453bfdb61": {
          "model_module": "@jupyter-widgets/base",
          "model_name": "LayoutModel",
          "model_module_version": "1.2.0",
          "state": {
            "_model_module": "@jupyter-widgets/base",
            "_model_module_version": "1.2.0",
            "_model_name": "LayoutModel",
            "_view_count": null,
            "_view_module": "@jupyter-widgets/base",
            "_view_module_version": "1.2.0",
            "_view_name": "LayoutView",
            "align_content": null,
            "align_items": null,
            "align_self": null,
            "border": null,
            "bottom": null,
            "display": null,
            "flex": null,
            "flex_flow": null,
            "grid_area": null,
            "grid_auto_columns": null,
            "grid_auto_flow": null,
            "grid_auto_rows": null,
            "grid_column": null,
            "grid_gap": null,
            "grid_row": null,
            "grid_template_areas": null,
            "grid_template_columns": null,
            "grid_template_rows": null,
            "height": null,
            "justify_content": null,
            "justify_items": null,
            "left": null,
            "margin": null,
            "max_height": null,
            "max_width": null,
            "min_height": null,
            "min_width": null,
            "object_fit": null,
            "object_position": null,
            "order": null,
            "overflow": null,
            "overflow_x": null,
            "overflow_y": null,
            "padding": null,
            "right": null,
            "top": null,
            "visibility": null,
            "width": null
          }
        },
        "b8835b0e87d4458881acd7bb9670b249": {
          "model_module": "@jupyter-widgets/controls",
          "model_name": "ProgressStyleModel",
          "model_module_version": "1.5.0",
          "state": {
            "_model_module": "@jupyter-widgets/controls",
            "_model_module_version": "1.5.0",
            "_model_name": "ProgressStyleModel",
            "_view_count": null,
            "_view_module": "@jupyter-widgets/base",
            "_view_module_version": "1.2.0",
            "_view_name": "StyleView",
            "bar_color": null,
            "description_width": ""
          }
        },
        "1a482382a89b4b4d830ae9c6b4454bee": {
          "model_module": "@jupyter-widgets/base",
          "model_name": "LayoutModel",
          "model_module_version": "1.2.0",
          "state": {
            "_model_module": "@jupyter-widgets/base",
            "_model_module_version": "1.2.0",
            "_model_name": "LayoutModel",
            "_view_count": null,
            "_view_module": "@jupyter-widgets/base",
            "_view_module_version": "1.2.0",
            "_view_name": "LayoutView",
            "align_content": null,
            "align_items": null,
            "align_self": null,
            "border": null,
            "bottom": null,
            "display": null,
            "flex": null,
            "flex_flow": null,
            "grid_area": null,
            "grid_auto_columns": null,
            "grid_auto_flow": null,
            "grid_auto_rows": null,
            "grid_column": null,
            "grid_gap": null,
            "grid_row": null,
            "grid_template_areas": null,
            "grid_template_columns": null,
            "grid_template_rows": null,
            "height": null,
            "justify_content": null,
            "justify_items": null,
            "left": null,
            "margin": null,
            "max_height": null,
            "max_width": null,
            "min_height": null,
            "min_width": null,
            "object_fit": null,
            "object_position": null,
            "order": null,
            "overflow": null,
            "overflow_x": null,
            "overflow_y": null,
            "padding": null,
            "right": null,
            "top": null,
            "visibility": null,
            "width": null
          }
        },
        "aa44f7ccd41048c290b5693ab35b0b37": {
          "model_module": "@jupyter-widgets/controls",
          "model_name": "DescriptionStyleModel",
          "model_module_version": "1.5.0",
          "state": {
            "_model_module": "@jupyter-widgets/controls",
            "_model_module_version": "1.5.0",
            "_model_name": "DescriptionStyleModel",
            "_view_count": null,
            "_view_module": "@jupyter-widgets/base",
            "_view_module_version": "1.2.0",
            "_view_name": "StyleView",
            "description_width": ""
          }
        },
        "3113b1f04a9a486eadf36742b27b2af8": {
          "model_module": "@jupyter-widgets/controls",
          "model_name": "HBoxModel",
          "model_module_version": "1.5.0",
          "state": {
            "_dom_classes": [],
            "_model_module": "@jupyter-widgets/controls",
            "_model_module_version": "1.5.0",
            "_model_name": "HBoxModel",
            "_view_count": null,
            "_view_module": "@jupyter-widgets/controls",
            "_view_module_version": "1.5.0",
            "_view_name": "HBoxView",
            "box_style": "",
            "children": [
              "IPY_MODEL_904198db2e5b4c98aad855e48d44548c",
              "IPY_MODEL_9c884713da2d44d3a0b7fa7017c9ce9c",
              "IPY_MODEL_3ee41f7242c14efd8664990a46214aa5"
            ],
            "layout": "IPY_MODEL_f8a6014b439348679d7d7ea6c0685f72"
          }
        },
        "904198db2e5b4c98aad855e48d44548c": {
          "model_module": "@jupyter-widgets/controls",
          "model_name": "HTMLModel",
          "model_module_version": "1.5.0",
          "state": {
            "_dom_classes": [],
            "_model_module": "@jupyter-widgets/controls",
            "_model_module_version": "1.5.0",
            "_model_name": "HTMLModel",
            "_view_count": null,
            "_view_module": "@jupyter-widgets/controls",
            "_view_module_version": "1.5.0",
            "_view_name": "HTMLView",
            "description": "",
            "description_tooltip": null,
            "layout": "IPY_MODEL_400dc6a4080e480e831b57490b115777",
            "placeholder": "​",
            "style": "IPY_MODEL_418706b6214b4f30861c85b3c40490ea",
            "value": "Downloading shards: 100%"
          }
        },
        "9c884713da2d44d3a0b7fa7017c9ce9c": {
          "model_module": "@jupyter-widgets/controls",
          "model_name": "FloatProgressModel",
          "model_module_version": "1.5.0",
          "state": {
            "_dom_classes": [],
            "_model_module": "@jupyter-widgets/controls",
            "_model_module_version": "1.5.0",
            "_model_name": "FloatProgressModel",
            "_view_count": null,
            "_view_module": "@jupyter-widgets/controls",
            "_view_module_version": "1.5.0",
            "_view_name": "ProgressView",
            "bar_style": "success",
            "description": "",
            "description_tooltip": null,
            "layout": "IPY_MODEL_7bc6c1709f4c4b55865a595542eba08f",
            "max": 2,
            "min": 0,
            "orientation": "horizontal",
            "style": "IPY_MODEL_37f3ef124df94b4381209c0091e24545",
            "value": 2
          }
        },
        "3ee41f7242c14efd8664990a46214aa5": {
          "model_module": "@jupyter-widgets/controls",
          "model_name": "HTMLModel",
          "model_module_version": "1.5.0",
          "state": {
            "_dom_classes": [],
            "_model_module": "@jupyter-widgets/controls",
            "_model_module_version": "1.5.0",
            "_model_name": "HTMLModel",
            "_view_count": null,
            "_view_module": "@jupyter-widgets/controls",
            "_view_module_version": "1.5.0",
            "_view_name": "HTMLView",
            "description": "",
            "description_tooltip": null,
            "layout": "IPY_MODEL_11c3fdae3dcd478fa4791573b178972a",
            "placeholder": "​",
            "style": "IPY_MODEL_183aea2c92ca4134b283fcb4e414ffa2",
            "value": " 2/2 [01:51&lt;00:00, 51.97s/it]"
          }
        },
        "f8a6014b439348679d7d7ea6c0685f72": {
          "model_module": "@jupyter-widgets/base",
          "model_name": "LayoutModel",
          "model_module_version": "1.2.0",
          "state": {
            "_model_module": "@jupyter-widgets/base",
            "_model_module_version": "1.2.0",
            "_model_name": "LayoutModel",
            "_view_count": null,
            "_view_module": "@jupyter-widgets/base",
            "_view_module_version": "1.2.0",
            "_view_name": "LayoutView",
            "align_content": null,
            "align_items": null,
            "align_self": null,
            "border": null,
            "bottom": null,
            "display": null,
            "flex": null,
            "flex_flow": null,
            "grid_area": null,
            "grid_auto_columns": null,
            "grid_auto_flow": null,
            "grid_auto_rows": null,
            "grid_column": null,
            "grid_gap": null,
            "grid_row": null,
            "grid_template_areas": null,
            "grid_template_columns": null,
            "grid_template_rows": null,
            "height": null,
            "justify_content": null,
            "justify_items": null,
            "left": null,
            "margin": null,
            "max_height": null,
            "max_width": null,
            "min_height": null,
            "min_width": null,
            "object_fit": null,
            "object_position": null,
            "order": null,
            "overflow": null,
            "overflow_x": null,
            "overflow_y": null,
            "padding": null,
            "right": null,
            "top": null,
            "visibility": null,
            "width": null
          }
        },
        "400dc6a4080e480e831b57490b115777": {
          "model_module": "@jupyter-widgets/base",
          "model_name": "LayoutModel",
          "model_module_version": "1.2.0",
          "state": {
            "_model_module": "@jupyter-widgets/base",
            "_model_module_version": "1.2.0",
            "_model_name": "LayoutModel",
            "_view_count": null,
            "_view_module": "@jupyter-widgets/base",
            "_view_module_version": "1.2.0",
            "_view_name": "LayoutView",
            "align_content": null,
            "align_items": null,
            "align_self": null,
            "border": null,
            "bottom": null,
            "display": null,
            "flex": null,
            "flex_flow": null,
            "grid_area": null,
            "grid_auto_columns": null,
            "grid_auto_flow": null,
            "grid_auto_rows": null,
            "grid_column": null,
            "grid_gap": null,
            "grid_row": null,
            "grid_template_areas": null,
            "grid_template_columns": null,
            "grid_template_rows": null,
            "height": null,
            "justify_content": null,
            "justify_items": null,
            "left": null,
            "margin": null,
            "max_height": null,
            "max_width": null,
            "min_height": null,
            "min_width": null,
            "object_fit": null,
            "object_position": null,
            "order": null,
            "overflow": null,
            "overflow_x": null,
            "overflow_y": null,
            "padding": null,
            "right": null,
            "top": null,
            "visibility": null,
            "width": null
          }
        },
        "418706b6214b4f30861c85b3c40490ea": {
          "model_module": "@jupyter-widgets/controls",
          "model_name": "DescriptionStyleModel",
          "model_module_version": "1.5.0",
          "state": {
            "_model_module": "@jupyter-widgets/controls",
            "_model_module_version": "1.5.0",
            "_model_name": "DescriptionStyleModel",
            "_view_count": null,
            "_view_module": "@jupyter-widgets/base",
            "_view_module_version": "1.2.0",
            "_view_name": "StyleView",
            "description_width": ""
          }
        },
        "7bc6c1709f4c4b55865a595542eba08f": {
          "model_module": "@jupyter-widgets/base",
          "model_name": "LayoutModel",
          "model_module_version": "1.2.0",
          "state": {
            "_model_module": "@jupyter-widgets/base",
            "_model_module_version": "1.2.0",
            "_model_name": "LayoutModel",
            "_view_count": null,
            "_view_module": "@jupyter-widgets/base",
            "_view_module_version": "1.2.0",
            "_view_name": "LayoutView",
            "align_content": null,
            "align_items": null,
            "align_self": null,
            "border": null,
            "bottom": null,
            "display": null,
            "flex": null,
            "flex_flow": null,
            "grid_area": null,
            "grid_auto_columns": null,
            "grid_auto_flow": null,
            "grid_auto_rows": null,
            "grid_column": null,
            "grid_gap": null,
            "grid_row": null,
            "grid_template_areas": null,
            "grid_template_columns": null,
            "grid_template_rows": null,
            "height": null,
            "justify_content": null,
            "justify_items": null,
            "left": null,
            "margin": null,
            "max_height": null,
            "max_width": null,
            "min_height": null,
            "min_width": null,
            "object_fit": null,
            "object_position": null,
            "order": null,
            "overflow": null,
            "overflow_x": null,
            "overflow_y": null,
            "padding": null,
            "right": null,
            "top": null,
            "visibility": null,
            "width": null
          }
        },
        "37f3ef124df94b4381209c0091e24545": {
          "model_module": "@jupyter-widgets/controls",
          "model_name": "ProgressStyleModel",
          "model_module_version": "1.5.0",
          "state": {
            "_model_module": "@jupyter-widgets/controls",
            "_model_module_version": "1.5.0",
            "_model_name": "ProgressStyleModel",
            "_view_count": null,
            "_view_module": "@jupyter-widgets/base",
            "_view_module_version": "1.2.0",
            "_view_name": "StyleView",
            "bar_color": null,
            "description_width": ""
          }
        },
        "11c3fdae3dcd478fa4791573b178972a": {
          "model_module": "@jupyter-widgets/base",
          "model_name": "LayoutModel",
          "model_module_version": "1.2.0",
          "state": {
            "_model_module": "@jupyter-widgets/base",
            "_model_module_version": "1.2.0",
            "_model_name": "LayoutModel",
            "_view_count": null,
            "_view_module": "@jupyter-widgets/base",
            "_view_module_version": "1.2.0",
            "_view_name": "LayoutView",
            "align_content": null,
            "align_items": null,
            "align_self": null,
            "border": null,
            "bottom": null,
            "display": null,
            "flex": null,
            "flex_flow": null,
            "grid_area": null,
            "grid_auto_columns": null,
            "grid_auto_flow": null,
            "grid_auto_rows": null,
            "grid_column": null,
            "grid_gap": null,
            "grid_row": null,
            "grid_template_areas": null,
            "grid_template_columns": null,
            "grid_template_rows": null,
            "height": null,
            "justify_content": null,
            "justify_items": null,
            "left": null,
            "margin": null,
            "max_height": null,
            "max_width": null,
            "min_height": null,
            "min_width": null,
            "object_fit": null,
            "object_position": null,
            "order": null,
            "overflow": null,
            "overflow_x": null,
            "overflow_y": null,
            "padding": null,
            "right": null,
            "top": null,
            "visibility": null,
            "width": null
          }
        },
        "183aea2c92ca4134b283fcb4e414ffa2": {
          "model_module": "@jupyter-widgets/controls",
          "model_name": "DescriptionStyleModel",
          "model_module_version": "1.5.0",
          "state": {
            "_model_module": "@jupyter-widgets/controls",
            "_model_module_version": "1.5.0",
            "_model_name": "DescriptionStyleModel",
            "_view_count": null,
            "_view_module": "@jupyter-widgets/base",
            "_view_module_version": "1.2.0",
            "_view_name": "StyleView",
            "description_width": ""
          }
        },
        "5e2599d714a046e089541f1d5e10fb0b": {
          "model_module": "@jupyter-widgets/controls",
          "model_name": "HBoxModel",
          "model_module_version": "1.5.0",
          "state": {
            "_dom_classes": [],
            "_model_module": "@jupyter-widgets/controls",
            "_model_module_version": "1.5.0",
            "_model_name": "HBoxModel",
            "_view_count": null,
            "_view_module": "@jupyter-widgets/controls",
            "_view_module_version": "1.5.0",
            "_view_name": "HBoxView",
            "box_style": "",
            "children": [
              "IPY_MODEL_2e7afba7a38544fc82e632bd41cce88d",
              "IPY_MODEL_78cf6ad26a7e454d9f221daf99cc7184",
              "IPY_MODEL_22249cfc75494044ad60b95264c3b24a"
            ],
            "layout": "IPY_MODEL_c3200dc629a84d7c835383887e11b908"
          }
        },
        "2e7afba7a38544fc82e632bd41cce88d": {
          "model_module": "@jupyter-widgets/controls",
          "model_name": "HTMLModel",
          "model_module_version": "1.5.0",
          "state": {
            "_dom_classes": [],
            "_model_module": "@jupyter-widgets/controls",
            "_model_module_version": "1.5.0",
            "_model_name": "HTMLModel",
            "_view_count": null,
            "_view_module": "@jupyter-widgets/controls",
            "_view_module_version": "1.5.0",
            "_view_name": "HTMLView",
            "description": "",
            "description_tooltip": null,
            "layout": "IPY_MODEL_19aead83e2b64acbacf0dbcaeabb1186",
            "placeholder": "​",
            "style": "IPY_MODEL_d1c898aa7ebe4b46941b2a16946142fd",
            "value": "model-00001-of-00002.safetensors: 100%"
          }
        },
        "78cf6ad26a7e454d9f221daf99cc7184": {
          "model_module": "@jupyter-widgets/controls",
          "model_name": "FloatProgressModel",
          "model_module_version": "1.5.0",
          "state": {
            "_dom_classes": [],
            "_model_module": "@jupyter-widgets/controls",
            "_model_module_version": "1.5.0",
            "_model_name": "FloatProgressModel",
            "_view_count": null,
            "_view_module": "@jupyter-widgets/controls",
            "_view_module_version": "1.5.0",
            "_view_name": "ProgressView",
            "bar_style": "success",
            "description": "",
            "description_tooltip": null,
            "layout": "IPY_MODEL_19711b46dcce4d32b151805a5f9d462e",
            "max": 9942981696,
            "min": 0,
            "orientation": "horizontal",
            "style": "IPY_MODEL_475bf883fd994f4f9e01bb4e73a552fb",
            "value": 9942981696
          }
        },
        "22249cfc75494044ad60b95264c3b24a": {
          "model_module": "@jupyter-widgets/controls",
          "model_name": "HTMLModel",
          "model_module_version": "1.5.0",
          "state": {
            "_dom_classes": [],
            "_model_module": "@jupyter-widgets/controls",
            "_model_module_version": "1.5.0",
            "_model_name": "HTMLModel",
            "_view_count": null,
            "_view_module": "@jupyter-widgets/controls",
            "_view_module_version": "1.5.0",
            "_view_name": "HTMLView",
            "description": "",
            "description_tooltip": null,
            "layout": "IPY_MODEL_9cd14a25b9d04148b44a2f42c6672345",
            "placeholder": "​",
            "style": "IPY_MODEL_0c0f264d858b46d0b7eb9cc8833033d1",
            "value": " 9.94G/9.94G [01:18&lt;00:00, 181MB/s]"
          }
        },
        "c3200dc629a84d7c835383887e11b908": {
          "model_module": "@jupyter-widgets/base",
          "model_name": "LayoutModel",
          "model_module_version": "1.2.0",
          "state": {
            "_model_module": "@jupyter-widgets/base",
            "_model_module_version": "1.2.0",
            "_model_name": "LayoutModel",
            "_view_count": null,
            "_view_module": "@jupyter-widgets/base",
            "_view_module_version": "1.2.0",
            "_view_name": "LayoutView",
            "align_content": null,
            "align_items": null,
            "align_self": null,
            "border": null,
            "bottom": null,
            "display": null,
            "flex": null,
            "flex_flow": null,
            "grid_area": null,
            "grid_auto_columns": null,
            "grid_auto_flow": null,
            "grid_auto_rows": null,
            "grid_column": null,
            "grid_gap": null,
            "grid_row": null,
            "grid_template_areas": null,
            "grid_template_columns": null,
            "grid_template_rows": null,
            "height": null,
            "justify_content": null,
            "justify_items": null,
            "left": null,
            "margin": null,
            "max_height": null,
            "max_width": null,
            "min_height": null,
            "min_width": null,
            "object_fit": null,
            "object_position": null,
            "order": null,
            "overflow": null,
            "overflow_x": null,
            "overflow_y": null,
            "padding": null,
            "right": null,
            "top": null,
            "visibility": null,
            "width": null
          }
        },
        "19aead83e2b64acbacf0dbcaeabb1186": {
          "model_module": "@jupyter-widgets/base",
          "model_name": "LayoutModel",
          "model_module_version": "1.2.0",
          "state": {
            "_model_module": "@jupyter-widgets/base",
            "_model_module_version": "1.2.0",
            "_model_name": "LayoutModel",
            "_view_count": null,
            "_view_module": "@jupyter-widgets/base",
            "_view_module_version": "1.2.0",
            "_view_name": "LayoutView",
            "align_content": null,
            "align_items": null,
            "align_self": null,
            "border": null,
            "bottom": null,
            "display": null,
            "flex": null,
            "flex_flow": null,
            "grid_area": null,
            "grid_auto_columns": null,
            "grid_auto_flow": null,
            "grid_auto_rows": null,
            "grid_column": null,
            "grid_gap": null,
            "grid_row": null,
            "grid_template_areas": null,
            "grid_template_columns": null,
            "grid_template_rows": null,
            "height": null,
            "justify_content": null,
            "justify_items": null,
            "left": null,
            "margin": null,
            "max_height": null,
            "max_width": null,
            "min_height": null,
            "min_width": null,
            "object_fit": null,
            "object_position": null,
            "order": null,
            "overflow": null,
            "overflow_x": null,
            "overflow_y": null,
            "padding": null,
            "right": null,
            "top": null,
            "visibility": null,
            "width": null
          }
        },
        "d1c898aa7ebe4b46941b2a16946142fd": {
          "model_module": "@jupyter-widgets/controls",
          "model_name": "DescriptionStyleModel",
          "model_module_version": "1.5.0",
          "state": {
            "_model_module": "@jupyter-widgets/controls",
            "_model_module_version": "1.5.0",
            "_model_name": "DescriptionStyleModel",
            "_view_count": null,
            "_view_module": "@jupyter-widgets/base",
            "_view_module_version": "1.2.0",
            "_view_name": "StyleView",
            "description_width": ""
          }
        },
        "19711b46dcce4d32b151805a5f9d462e": {
          "model_module": "@jupyter-widgets/base",
          "model_name": "LayoutModel",
          "model_module_version": "1.2.0",
          "state": {
            "_model_module": "@jupyter-widgets/base",
            "_model_module_version": "1.2.0",
            "_model_name": "LayoutModel",
            "_view_count": null,
            "_view_module": "@jupyter-widgets/base",
            "_view_module_version": "1.2.0",
            "_view_name": "LayoutView",
            "align_content": null,
            "align_items": null,
            "align_self": null,
            "border": null,
            "bottom": null,
            "display": null,
            "flex": null,
            "flex_flow": null,
            "grid_area": null,
            "grid_auto_columns": null,
            "grid_auto_flow": null,
            "grid_auto_rows": null,
            "grid_column": null,
            "grid_gap": null,
            "grid_row": null,
            "grid_template_areas": null,
            "grid_template_columns": null,
            "grid_template_rows": null,
            "height": null,
            "justify_content": null,
            "justify_items": null,
            "left": null,
            "margin": null,
            "max_height": null,
            "max_width": null,
            "min_height": null,
            "min_width": null,
            "object_fit": null,
            "object_position": null,
            "order": null,
            "overflow": null,
            "overflow_x": null,
            "overflow_y": null,
            "padding": null,
            "right": null,
            "top": null,
            "visibility": null,
            "width": null
          }
        },
        "475bf883fd994f4f9e01bb4e73a552fb": {
          "model_module": "@jupyter-widgets/controls",
          "model_name": "ProgressStyleModel",
          "model_module_version": "1.5.0",
          "state": {
            "_model_module": "@jupyter-widgets/controls",
            "_model_module_version": "1.5.0",
            "_model_name": "ProgressStyleModel",
            "_view_count": null,
            "_view_module": "@jupyter-widgets/base",
            "_view_module_version": "1.2.0",
            "_view_name": "StyleView",
            "bar_color": null,
            "description_width": ""
          }
        },
        "9cd14a25b9d04148b44a2f42c6672345": {
          "model_module": "@jupyter-widgets/base",
          "model_name": "LayoutModel",
          "model_module_version": "1.2.0",
          "state": {
            "_model_module": "@jupyter-widgets/base",
            "_model_module_version": "1.2.0",
            "_model_name": "LayoutModel",
            "_view_count": null,
            "_view_module": "@jupyter-widgets/base",
            "_view_module_version": "1.2.0",
            "_view_name": "LayoutView",
            "align_content": null,
            "align_items": null,
            "align_self": null,
            "border": null,
            "bottom": null,
            "display": null,
            "flex": null,
            "flex_flow": null,
            "grid_area": null,
            "grid_auto_columns": null,
            "grid_auto_flow": null,
            "grid_auto_rows": null,
            "grid_column": null,
            "grid_gap": null,
            "grid_row": null,
            "grid_template_areas": null,
            "grid_template_columns": null,
            "grid_template_rows": null,
            "height": null,
            "justify_content": null,
            "justify_items": null,
            "left": null,
            "margin": null,
            "max_height": null,
            "max_width": null,
            "min_height": null,
            "min_width": null,
            "object_fit": null,
            "object_position": null,
            "order": null,
            "overflow": null,
            "overflow_x": null,
            "overflow_y": null,
            "padding": null,
            "right": null,
            "top": null,
            "visibility": null,
            "width": null
          }
        },
        "0c0f264d858b46d0b7eb9cc8833033d1": {
          "model_module": "@jupyter-widgets/controls",
          "model_name": "DescriptionStyleModel",
          "model_module_version": "1.5.0",
          "state": {
            "_model_module": "@jupyter-widgets/controls",
            "_model_module_version": "1.5.0",
            "_model_name": "DescriptionStyleModel",
            "_view_count": null,
            "_view_module": "@jupyter-widgets/base",
            "_view_module_version": "1.2.0",
            "_view_name": "StyleView",
            "description_width": ""
          }
        },
        "5057c850fbd34faea0fb06e317f7545f": {
          "model_module": "@jupyter-widgets/controls",
          "model_name": "HBoxModel",
          "model_module_version": "1.5.0",
          "state": {
            "_dom_classes": [],
            "_model_module": "@jupyter-widgets/controls",
            "_model_module_version": "1.5.0",
            "_model_name": "HBoxModel",
            "_view_count": null,
            "_view_module": "@jupyter-widgets/controls",
            "_view_module_version": "1.5.0",
            "_view_name": "HBoxView",
            "box_style": "",
            "children": [
              "IPY_MODEL_7b0bbb2a75a64d9cb70d64e67408e029",
              "IPY_MODEL_91868bb38bbb43439e9f9b2e25662a88",
              "IPY_MODEL_24ebdd85ea1c488db1c667bd53d041ce"
            ],
            "layout": "IPY_MODEL_a663be68eb5e455c9e9e619cba3e1851"
          }
        },
        "7b0bbb2a75a64d9cb70d64e67408e029": {
          "model_module": "@jupyter-widgets/controls",
          "model_name": "HTMLModel",
          "model_module_version": "1.5.0",
          "state": {
            "_dom_classes": [],
            "_model_module": "@jupyter-widgets/controls",
            "_model_module_version": "1.5.0",
            "_model_name": "HTMLModel",
            "_view_count": null,
            "_view_module": "@jupyter-widgets/controls",
            "_view_module_version": "1.5.0",
            "_view_name": "HTMLView",
            "description": "",
            "description_tooltip": null,
            "layout": "IPY_MODEL_2e8a329faf1d45e3b69989878e3ae0ad",
            "placeholder": "​",
            "style": "IPY_MODEL_ba41f48a09fe4093ac735788bc647b49",
            "value": "model-00002-of-00002.safetensors: 100%"
          }
        },
        "91868bb38bbb43439e9f9b2e25662a88": {
          "model_module": "@jupyter-widgets/controls",
          "model_name": "FloatProgressModel",
          "model_module_version": "1.5.0",
          "state": {
            "_dom_classes": [],
            "_model_module": "@jupyter-widgets/controls",
            "_model_module_version": "1.5.0",
            "_model_name": "FloatProgressModel",
            "_view_count": null,
            "_view_module": "@jupyter-widgets/controls",
            "_view_module_version": "1.5.0",
            "_view_name": "ProgressView",
            "bar_style": "success",
            "description": "",
            "description_tooltip": null,
            "layout": "IPY_MODEL_e6e04bc759914dc9b4663b355db1fc92",
            "max": 4540516344,
            "min": 0,
            "orientation": "horizontal",
            "style": "IPY_MODEL_3fcc7cbc2e534d30b8dd75b1405ad5ce",
            "value": 4540516344
          }
        },
        "24ebdd85ea1c488db1c667bd53d041ce": {
          "model_module": "@jupyter-widgets/controls",
          "model_name": "HTMLModel",
          "model_module_version": "1.5.0",
          "state": {
            "_dom_classes": [],
            "_model_module": "@jupyter-widgets/controls",
            "_model_module_version": "1.5.0",
            "_model_name": "HTMLModel",
            "_view_count": null,
            "_view_module": "@jupyter-widgets/controls",
            "_view_module_version": "1.5.0",
            "_view_name": "HTMLView",
            "description": "",
            "description_tooltip": null,
            "layout": "IPY_MODEL_fffe782e34574b0b84ccedbf92827aef",
            "placeholder": "​",
            "style": "IPY_MODEL_2ad7d8623c0d40748c38740b75ecbbf5",
            "value": " 4.54G/4.54G [00:33&lt;00:00, 151MB/s]"
          }
        },
        "a663be68eb5e455c9e9e619cba3e1851": {
          "model_module": "@jupyter-widgets/base",
          "model_name": "LayoutModel",
          "model_module_version": "1.2.0",
          "state": {
            "_model_module": "@jupyter-widgets/base",
            "_model_module_version": "1.2.0",
            "_model_name": "LayoutModel",
            "_view_count": null,
            "_view_module": "@jupyter-widgets/base",
            "_view_module_version": "1.2.0",
            "_view_name": "LayoutView",
            "align_content": null,
            "align_items": null,
            "align_self": null,
            "border": null,
            "bottom": null,
            "display": null,
            "flex": null,
            "flex_flow": null,
            "grid_area": null,
            "grid_auto_columns": null,
            "grid_auto_flow": null,
            "grid_auto_rows": null,
            "grid_column": null,
            "grid_gap": null,
            "grid_row": null,
            "grid_template_areas": null,
            "grid_template_columns": null,
            "grid_template_rows": null,
            "height": null,
            "justify_content": null,
            "justify_items": null,
            "left": null,
            "margin": null,
            "max_height": null,
            "max_width": null,
            "min_height": null,
            "min_width": null,
            "object_fit": null,
            "object_position": null,
            "order": null,
            "overflow": null,
            "overflow_x": null,
            "overflow_y": null,
            "padding": null,
            "right": null,
            "top": null,
            "visibility": null,
            "width": null
          }
        },
        "2e8a329faf1d45e3b69989878e3ae0ad": {
          "model_module": "@jupyter-widgets/base",
          "model_name": "LayoutModel",
          "model_module_version": "1.2.0",
          "state": {
            "_model_module": "@jupyter-widgets/base",
            "_model_module_version": "1.2.0",
            "_model_name": "LayoutModel",
            "_view_count": null,
            "_view_module": "@jupyter-widgets/base",
            "_view_module_version": "1.2.0",
            "_view_name": "LayoutView",
            "align_content": null,
            "align_items": null,
            "align_self": null,
            "border": null,
            "bottom": null,
            "display": null,
            "flex": null,
            "flex_flow": null,
            "grid_area": null,
            "grid_auto_columns": null,
            "grid_auto_flow": null,
            "grid_auto_rows": null,
            "grid_column": null,
            "grid_gap": null,
            "grid_row": null,
            "grid_template_areas": null,
            "grid_template_columns": null,
            "grid_template_rows": null,
            "height": null,
            "justify_content": null,
            "justify_items": null,
            "left": null,
            "margin": null,
            "max_height": null,
            "max_width": null,
            "min_height": null,
            "min_width": null,
            "object_fit": null,
            "object_position": null,
            "order": null,
            "overflow": null,
            "overflow_x": null,
            "overflow_y": null,
            "padding": null,
            "right": null,
            "top": null,
            "visibility": null,
            "width": null
          }
        },
        "ba41f48a09fe4093ac735788bc647b49": {
          "model_module": "@jupyter-widgets/controls",
          "model_name": "DescriptionStyleModel",
          "model_module_version": "1.5.0",
          "state": {
            "_model_module": "@jupyter-widgets/controls",
            "_model_module_version": "1.5.0",
            "_model_name": "DescriptionStyleModel",
            "_view_count": null,
            "_view_module": "@jupyter-widgets/base",
            "_view_module_version": "1.2.0",
            "_view_name": "StyleView",
            "description_width": ""
          }
        },
        "e6e04bc759914dc9b4663b355db1fc92": {
          "model_module": "@jupyter-widgets/base",
          "model_name": "LayoutModel",
          "model_module_version": "1.2.0",
          "state": {
            "_model_module": "@jupyter-widgets/base",
            "_model_module_version": "1.2.0",
            "_model_name": "LayoutModel",
            "_view_count": null,
            "_view_module": "@jupyter-widgets/base",
            "_view_module_version": "1.2.0",
            "_view_name": "LayoutView",
            "align_content": null,
            "align_items": null,
            "align_self": null,
            "border": null,
            "bottom": null,
            "display": null,
            "flex": null,
            "flex_flow": null,
            "grid_area": null,
            "grid_auto_columns": null,
            "grid_auto_flow": null,
            "grid_auto_rows": null,
            "grid_column": null,
            "grid_gap": null,
            "grid_row": null,
            "grid_template_areas": null,
            "grid_template_columns": null,
            "grid_template_rows": null,
            "height": null,
            "justify_content": null,
            "justify_items": null,
            "left": null,
            "margin": null,
            "max_height": null,
            "max_width": null,
            "min_height": null,
            "min_width": null,
            "object_fit": null,
            "object_position": null,
            "order": null,
            "overflow": null,
            "overflow_x": null,
            "overflow_y": null,
            "padding": null,
            "right": null,
            "top": null,
            "visibility": null,
            "width": null
          }
        },
        "3fcc7cbc2e534d30b8dd75b1405ad5ce": {
          "model_module": "@jupyter-widgets/controls",
          "model_name": "ProgressStyleModel",
          "model_module_version": "1.5.0",
          "state": {
            "_model_module": "@jupyter-widgets/controls",
            "_model_module_version": "1.5.0",
            "_model_name": "ProgressStyleModel",
            "_view_count": null,
            "_view_module": "@jupyter-widgets/base",
            "_view_module_version": "1.2.0",
            "_view_name": "StyleView",
            "bar_color": null,
            "description_width": ""
          }
        },
        "fffe782e34574b0b84ccedbf92827aef": {
          "model_module": "@jupyter-widgets/base",
          "model_name": "LayoutModel",
          "model_module_version": "1.2.0",
          "state": {
            "_model_module": "@jupyter-widgets/base",
            "_model_module_version": "1.2.0",
            "_model_name": "LayoutModel",
            "_view_count": null,
            "_view_module": "@jupyter-widgets/base",
            "_view_module_version": "1.2.0",
            "_view_name": "LayoutView",
            "align_content": null,
            "align_items": null,
            "align_self": null,
            "border": null,
            "bottom": null,
            "display": null,
            "flex": null,
            "flex_flow": null,
            "grid_area": null,
            "grid_auto_columns": null,
            "grid_auto_flow": null,
            "grid_auto_rows": null,
            "grid_column": null,
            "grid_gap": null,
            "grid_row": null,
            "grid_template_areas": null,
            "grid_template_columns": null,
            "grid_template_rows": null,
            "height": null,
            "justify_content": null,
            "justify_items": null,
            "left": null,
            "margin": null,
            "max_height": null,
            "max_width": null,
            "min_height": null,
            "min_width": null,
            "object_fit": null,
            "object_position": null,
            "order": null,
            "overflow": null,
            "overflow_x": null,
            "overflow_y": null,
            "padding": null,
            "right": null,
            "top": null,
            "visibility": null,
            "width": null
          }
        },
        "2ad7d8623c0d40748c38740b75ecbbf5": {
          "model_module": "@jupyter-widgets/controls",
          "model_name": "DescriptionStyleModel",
          "model_module_version": "1.5.0",
          "state": {
            "_model_module": "@jupyter-widgets/controls",
            "_model_module_version": "1.5.0",
            "_model_name": "DescriptionStyleModel",
            "_view_count": null,
            "_view_module": "@jupyter-widgets/base",
            "_view_module_version": "1.2.0",
            "_view_name": "StyleView",
            "description_width": ""
          }
        },
        "52aa3a56f5b7469686900fe20b95892b": {
          "model_module": "@jupyter-widgets/controls",
          "model_name": "HBoxModel",
          "model_module_version": "1.5.0",
          "state": {
            "_dom_classes": [],
            "_model_module": "@jupyter-widgets/controls",
            "_model_module_version": "1.5.0",
            "_model_name": "HBoxModel",
            "_view_count": null,
            "_view_module": "@jupyter-widgets/controls",
            "_view_module_version": "1.5.0",
            "_view_name": "HBoxView",
            "box_style": "",
            "children": [
              "IPY_MODEL_432a0e6449074c75a9e546c22588e4fe",
              "IPY_MODEL_fd9432cab4b8406b8db70acac28c6f32",
              "IPY_MODEL_42f1dbc5396c440ebf09cce409118253"
            ],
            "layout": "IPY_MODEL_ead4858c2d2e41c0b3368f3493ffd50f"
          }
        },
        "432a0e6449074c75a9e546c22588e4fe": {
          "model_module": "@jupyter-widgets/controls",
          "model_name": "HTMLModel",
          "model_module_version": "1.5.0",
          "state": {
            "_dom_classes": [],
            "_model_module": "@jupyter-widgets/controls",
            "_model_module_version": "1.5.0",
            "_model_name": "HTMLModel",
            "_view_count": null,
            "_view_module": "@jupyter-widgets/controls",
            "_view_module_version": "1.5.0",
            "_view_name": "HTMLView",
            "description": "",
            "description_tooltip": null,
            "layout": "IPY_MODEL_44d84cbac20744a6aff59a5574ac0c43",
            "placeholder": "​",
            "style": "IPY_MODEL_30f702c47e2e40ea8c70891de5d500da",
            "value": "Loading checkpoint shards: 100%"
          }
        },
        "fd9432cab4b8406b8db70acac28c6f32": {
          "model_module": "@jupyter-widgets/controls",
          "model_name": "FloatProgressModel",
          "model_module_version": "1.5.0",
          "state": {
            "_dom_classes": [],
            "_model_module": "@jupyter-widgets/controls",
            "_model_module_version": "1.5.0",
            "_model_name": "FloatProgressModel",
            "_view_count": null,
            "_view_module": "@jupyter-widgets/controls",
            "_view_module_version": "1.5.0",
            "_view_name": "ProgressView",
            "bar_style": "success",
            "description": "",
            "description_tooltip": null,
            "layout": "IPY_MODEL_9613db0060234bc492d741a0eea7792f",
            "max": 2,
            "min": 0,
            "orientation": "horizontal",
            "style": "IPY_MODEL_bf0e753f3ca14b97a55a3d4eeefc2de8",
            "value": 2
          }
        },
        "42f1dbc5396c440ebf09cce409118253": {
          "model_module": "@jupyter-widgets/controls",
          "model_name": "HTMLModel",
          "model_module_version": "1.5.0",
          "state": {
            "_dom_classes": [],
            "_model_module": "@jupyter-widgets/controls",
            "_model_module_version": "1.5.0",
            "_model_name": "HTMLModel",
            "_view_count": null,
            "_view_module": "@jupyter-widgets/controls",
            "_view_module_version": "1.5.0",
            "_view_name": "HTMLView",
            "description": "",
            "description_tooltip": null,
            "layout": "IPY_MODEL_da4a293d1c014e16ae1b4385aa5ed89b",
            "placeholder": "​",
            "style": "IPY_MODEL_a4dd304049904ac5a0dd6d56cf0177ee",
            "value": " 2/2 [01:06&lt;00:00, 31.15s/it]"
          }
        },
        "ead4858c2d2e41c0b3368f3493ffd50f": {
          "model_module": "@jupyter-widgets/base",
          "model_name": "LayoutModel",
          "model_module_version": "1.2.0",
          "state": {
            "_model_module": "@jupyter-widgets/base",
            "_model_module_version": "1.2.0",
            "_model_name": "LayoutModel",
            "_view_count": null,
            "_view_module": "@jupyter-widgets/base",
            "_view_module_version": "1.2.0",
            "_view_name": "LayoutView",
            "align_content": null,
            "align_items": null,
            "align_self": null,
            "border": null,
            "bottom": null,
            "display": null,
            "flex": null,
            "flex_flow": null,
            "grid_area": null,
            "grid_auto_columns": null,
            "grid_auto_flow": null,
            "grid_auto_rows": null,
            "grid_column": null,
            "grid_gap": null,
            "grid_row": null,
            "grid_template_areas": null,
            "grid_template_columns": null,
            "grid_template_rows": null,
            "height": null,
            "justify_content": null,
            "justify_items": null,
            "left": null,
            "margin": null,
            "max_height": null,
            "max_width": null,
            "min_height": null,
            "min_width": null,
            "object_fit": null,
            "object_position": null,
            "order": null,
            "overflow": null,
            "overflow_x": null,
            "overflow_y": null,
            "padding": null,
            "right": null,
            "top": null,
            "visibility": null,
            "width": null
          }
        },
        "44d84cbac20744a6aff59a5574ac0c43": {
          "model_module": "@jupyter-widgets/base",
          "model_name": "LayoutModel",
          "model_module_version": "1.2.0",
          "state": {
            "_model_module": "@jupyter-widgets/base",
            "_model_module_version": "1.2.0",
            "_model_name": "LayoutModel",
            "_view_count": null,
            "_view_module": "@jupyter-widgets/base",
            "_view_module_version": "1.2.0",
            "_view_name": "LayoutView",
            "align_content": null,
            "align_items": null,
            "align_self": null,
            "border": null,
            "bottom": null,
            "display": null,
            "flex": null,
            "flex_flow": null,
            "grid_area": null,
            "grid_auto_columns": null,
            "grid_auto_flow": null,
            "grid_auto_rows": null,
            "grid_column": null,
            "grid_gap": null,
            "grid_row": null,
            "grid_template_areas": null,
            "grid_template_columns": null,
            "grid_template_rows": null,
            "height": null,
            "justify_content": null,
            "justify_items": null,
            "left": null,
            "margin": null,
            "max_height": null,
            "max_width": null,
            "min_height": null,
            "min_width": null,
            "object_fit": null,
            "object_position": null,
            "order": null,
            "overflow": null,
            "overflow_x": null,
            "overflow_y": null,
            "padding": null,
            "right": null,
            "top": null,
            "visibility": null,
            "width": null
          }
        },
        "30f702c47e2e40ea8c70891de5d500da": {
          "model_module": "@jupyter-widgets/controls",
          "model_name": "DescriptionStyleModel",
          "model_module_version": "1.5.0",
          "state": {
            "_model_module": "@jupyter-widgets/controls",
            "_model_module_version": "1.5.0",
            "_model_name": "DescriptionStyleModel",
            "_view_count": null,
            "_view_module": "@jupyter-widgets/base",
            "_view_module_version": "1.2.0",
            "_view_name": "StyleView",
            "description_width": ""
          }
        },
        "9613db0060234bc492d741a0eea7792f": {
          "model_module": "@jupyter-widgets/base",
          "model_name": "LayoutModel",
          "model_module_version": "1.2.0",
          "state": {
            "_model_module": "@jupyter-widgets/base",
            "_model_module_version": "1.2.0",
            "_model_name": "LayoutModel",
            "_view_count": null,
            "_view_module": "@jupyter-widgets/base",
            "_view_module_version": "1.2.0",
            "_view_name": "LayoutView",
            "align_content": null,
            "align_items": null,
            "align_self": null,
            "border": null,
            "bottom": null,
            "display": null,
            "flex": null,
            "flex_flow": null,
            "grid_area": null,
            "grid_auto_columns": null,
            "grid_auto_flow": null,
            "grid_auto_rows": null,
            "grid_column": null,
            "grid_gap": null,
            "grid_row": null,
            "grid_template_areas": null,
            "grid_template_columns": null,
            "grid_template_rows": null,
            "height": null,
            "justify_content": null,
            "justify_items": null,
            "left": null,
            "margin": null,
            "max_height": null,
            "max_width": null,
            "min_height": null,
            "min_width": null,
            "object_fit": null,
            "object_position": null,
            "order": null,
            "overflow": null,
            "overflow_x": null,
            "overflow_y": null,
            "padding": null,
            "right": null,
            "top": null,
            "visibility": null,
            "width": null
          }
        },
        "bf0e753f3ca14b97a55a3d4eeefc2de8": {
          "model_module": "@jupyter-widgets/controls",
          "model_name": "ProgressStyleModel",
          "model_module_version": "1.5.0",
          "state": {
            "_model_module": "@jupyter-widgets/controls",
            "_model_module_version": "1.5.0",
            "_model_name": "ProgressStyleModel",
            "_view_count": null,
            "_view_module": "@jupyter-widgets/base",
            "_view_module_version": "1.2.0",
            "_view_name": "StyleView",
            "bar_color": null,
            "description_width": ""
          }
        },
        "da4a293d1c014e16ae1b4385aa5ed89b": {
          "model_module": "@jupyter-widgets/base",
          "model_name": "LayoutModel",
          "model_module_version": "1.2.0",
          "state": {
            "_model_module": "@jupyter-widgets/base",
            "_model_module_version": "1.2.0",
            "_model_name": "LayoutModel",
            "_view_count": null,
            "_view_module": "@jupyter-widgets/base",
            "_view_module_version": "1.2.0",
            "_view_name": "LayoutView",
            "align_content": null,
            "align_items": null,
            "align_self": null,
            "border": null,
            "bottom": null,
            "display": null,
            "flex": null,
            "flex_flow": null,
            "grid_area": null,
            "grid_auto_columns": null,
            "grid_auto_flow": null,
            "grid_auto_rows": null,
            "grid_column": null,
            "grid_gap": null,
            "grid_row": null,
            "grid_template_areas": null,
            "grid_template_columns": null,
            "grid_template_rows": null,
            "height": null,
            "justify_content": null,
            "justify_items": null,
            "left": null,
            "margin": null,
            "max_height": null,
            "max_width": null,
            "min_height": null,
            "min_width": null,
            "object_fit": null,
            "object_position": null,
            "order": null,
            "overflow": null,
            "overflow_x": null,
            "overflow_y": null,
            "padding": null,
            "right": null,
            "top": null,
            "visibility": null,
            "width": null
          }
        },
        "a4dd304049904ac5a0dd6d56cf0177ee": {
          "model_module": "@jupyter-widgets/controls",
          "model_name": "DescriptionStyleModel",
          "model_module_version": "1.5.0",
          "state": {
            "_model_module": "@jupyter-widgets/controls",
            "_model_module_version": "1.5.0",
            "_model_name": "DescriptionStyleModel",
            "_view_count": null,
            "_view_module": "@jupyter-widgets/base",
            "_view_module_version": "1.2.0",
            "_view_name": "StyleView",
            "description_width": ""
          }
        },
        "f03fbabe581f40ad8ac95458621381df": {
          "model_module": "@jupyter-widgets/controls",
          "model_name": "HBoxModel",
          "model_module_version": "1.5.0",
          "state": {
            "_dom_classes": [],
            "_model_module": "@jupyter-widgets/controls",
            "_model_module_version": "1.5.0",
            "_model_name": "HBoxModel",
            "_view_count": null,
            "_view_module": "@jupyter-widgets/controls",
            "_view_module_version": "1.5.0",
            "_view_name": "HBoxView",
            "box_style": "",
            "children": [
              "IPY_MODEL_3661118eab4e4f3fba5b86c7e41a0fed",
              "IPY_MODEL_50b7fa21395241d5b98ed2b13c8af901",
              "IPY_MODEL_87499958970a4e3cbfb5098cfba20a78"
            ],
            "layout": "IPY_MODEL_aacd1ac301964a7c8d7bc0fe5e6cc659"
          }
        },
        "3661118eab4e4f3fba5b86c7e41a0fed": {
          "model_module": "@jupyter-widgets/controls",
          "model_name": "HTMLModel",
          "model_module_version": "1.5.0",
          "state": {
            "_dom_classes": [],
            "_model_module": "@jupyter-widgets/controls",
            "_model_module_version": "1.5.0",
            "_model_name": "HTMLModel",
            "_view_count": null,
            "_view_module": "@jupyter-widgets/controls",
            "_view_module_version": "1.5.0",
            "_view_name": "HTMLView",
            "description": "",
            "description_tooltip": null,
            "layout": "IPY_MODEL_0abf39543c354978a706ed1829beb9ba",
            "placeholder": "​",
            "style": "IPY_MODEL_ace2dd97bf9348be82a7b07867aded7a",
            "value": "generation_config.json: 100%"
          }
        },
        "50b7fa21395241d5b98ed2b13c8af901": {
          "model_module": "@jupyter-widgets/controls",
          "model_name": "FloatProgressModel",
          "model_module_version": "1.5.0",
          "state": {
            "_dom_classes": [],
            "_model_module": "@jupyter-widgets/controls",
            "_model_module_version": "1.5.0",
            "_model_name": "FloatProgressModel",
            "_view_count": null,
            "_view_module": "@jupyter-widgets/controls",
            "_view_module_version": "1.5.0",
            "_view_name": "ProgressView",
            "bar_style": "success",
            "description": "",
            "description_tooltip": null,
            "layout": "IPY_MODEL_e5f30175437f4ebe8612204cdf291e11",
            "max": 116,
            "min": 0,
            "orientation": "horizontal",
            "style": "IPY_MODEL_ce8d0eb200634b3fad4b4f1c5f8e9423",
            "value": 116
          }
        },
        "87499958970a4e3cbfb5098cfba20a78": {
          "model_module": "@jupyter-widgets/controls",
          "model_name": "HTMLModel",
          "model_module_version": "1.5.0",
          "state": {
            "_dom_classes": [],
            "_model_module": "@jupyter-widgets/controls",
            "_model_module_version": "1.5.0",
            "_model_name": "HTMLModel",
            "_view_count": null,
            "_view_module": "@jupyter-widgets/controls",
            "_view_module_version": "1.5.0",
            "_view_name": "HTMLView",
            "description": "",
            "description_tooltip": null,
            "layout": "IPY_MODEL_63af3a765bbf4fa488a2130778a5f3e6",
            "placeholder": "​",
            "style": "IPY_MODEL_6ce30bbd7d954ad398eef9d848e917b5",
            "value": " 116/116 [00:00&lt;00:00, 5.55kB/s]"
          }
        },
        "aacd1ac301964a7c8d7bc0fe5e6cc659": {
          "model_module": "@jupyter-widgets/base",
          "model_name": "LayoutModel",
          "model_module_version": "1.2.0",
          "state": {
            "_model_module": "@jupyter-widgets/base",
            "_model_module_version": "1.2.0",
            "_model_name": "LayoutModel",
            "_view_count": null,
            "_view_module": "@jupyter-widgets/base",
            "_view_module_version": "1.2.0",
            "_view_name": "LayoutView",
            "align_content": null,
            "align_items": null,
            "align_self": null,
            "border": null,
            "bottom": null,
            "display": null,
            "flex": null,
            "flex_flow": null,
            "grid_area": null,
            "grid_auto_columns": null,
            "grid_auto_flow": null,
            "grid_auto_rows": null,
            "grid_column": null,
            "grid_gap": null,
            "grid_row": null,
            "grid_template_areas": null,
            "grid_template_columns": null,
            "grid_template_rows": null,
            "height": null,
            "justify_content": null,
            "justify_items": null,
            "left": null,
            "margin": null,
            "max_height": null,
            "max_width": null,
            "min_height": null,
            "min_width": null,
            "object_fit": null,
            "object_position": null,
            "order": null,
            "overflow": null,
            "overflow_x": null,
            "overflow_y": null,
            "padding": null,
            "right": null,
            "top": null,
            "visibility": null,
            "width": null
          }
        },
        "0abf39543c354978a706ed1829beb9ba": {
          "model_module": "@jupyter-widgets/base",
          "model_name": "LayoutModel",
          "model_module_version": "1.2.0",
          "state": {
            "_model_module": "@jupyter-widgets/base",
            "_model_module_version": "1.2.0",
            "_model_name": "LayoutModel",
            "_view_count": null,
            "_view_module": "@jupyter-widgets/base",
            "_view_module_version": "1.2.0",
            "_view_name": "LayoutView",
            "align_content": null,
            "align_items": null,
            "align_self": null,
            "border": null,
            "bottom": null,
            "display": null,
            "flex": null,
            "flex_flow": null,
            "grid_area": null,
            "grid_auto_columns": null,
            "grid_auto_flow": null,
            "grid_auto_rows": null,
            "grid_column": null,
            "grid_gap": null,
            "grid_row": null,
            "grid_template_areas": null,
            "grid_template_columns": null,
            "grid_template_rows": null,
            "height": null,
            "justify_content": null,
            "justify_items": null,
            "left": null,
            "margin": null,
            "max_height": null,
            "max_width": null,
            "min_height": null,
            "min_width": null,
            "object_fit": null,
            "object_position": null,
            "order": null,
            "overflow": null,
            "overflow_x": null,
            "overflow_y": null,
            "padding": null,
            "right": null,
            "top": null,
            "visibility": null,
            "width": null
          }
        },
        "ace2dd97bf9348be82a7b07867aded7a": {
          "model_module": "@jupyter-widgets/controls",
          "model_name": "DescriptionStyleModel",
          "model_module_version": "1.5.0",
          "state": {
            "_model_module": "@jupyter-widgets/controls",
            "_model_module_version": "1.5.0",
            "_model_name": "DescriptionStyleModel",
            "_view_count": null,
            "_view_module": "@jupyter-widgets/base",
            "_view_module_version": "1.2.0",
            "_view_name": "StyleView",
            "description_width": ""
          }
        },
        "e5f30175437f4ebe8612204cdf291e11": {
          "model_module": "@jupyter-widgets/base",
          "model_name": "LayoutModel",
          "model_module_version": "1.2.0",
          "state": {
            "_model_module": "@jupyter-widgets/base",
            "_model_module_version": "1.2.0",
            "_model_name": "LayoutModel",
            "_view_count": null,
            "_view_module": "@jupyter-widgets/base",
            "_view_module_version": "1.2.0",
            "_view_name": "LayoutView",
            "align_content": null,
            "align_items": null,
            "align_self": null,
            "border": null,
            "bottom": null,
            "display": null,
            "flex": null,
            "flex_flow": null,
            "grid_area": null,
            "grid_auto_columns": null,
            "grid_auto_flow": null,
            "grid_auto_rows": null,
            "grid_column": null,
            "grid_gap": null,
            "grid_row": null,
            "grid_template_areas": null,
            "grid_template_columns": null,
            "grid_template_rows": null,
            "height": null,
            "justify_content": null,
            "justify_items": null,
            "left": null,
            "margin": null,
            "max_height": null,
            "max_width": null,
            "min_height": null,
            "min_width": null,
            "object_fit": null,
            "object_position": null,
            "order": null,
            "overflow": null,
            "overflow_x": null,
            "overflow_y": null,
            "padding": null,
            "right": null,
            "top": null,
            "visibility": null,
            "width": null
          }
        },
        "ce8d0eb200634b3fad4b4f1c5f8e9423": {
          "model_module": "@jupyter-widgets/controls",
          "model_name": "ProgressStyleModel",
          "model_module_version": "1.5.0",
          "state": {
            "_model_module": "@jupyter-widgets/controls",
            "_model_module_version": "1.5.0",
            "_model_name": "ProgressStyleModel",
            "_view_count": null,
            "_view_module": "@jupyter-widgets/base",
            "_view_module_version": "1.2.0",
            "_view_name": "StyleView",
            "bar_color": null,
            "description_width": ""
          }
        },
        "63af3a765bbf4fa488a2130778a5f3e6": {
          "model_module": "@jupyter-widgets/base",
          "model_name": "LayoutModel",
          "model_module_version": "1.2.0",
          "state": {
            "_model_module": "@jupyter-widgets/base",
            "_model_module_version": "1.2.0",
            "_model_name": "LayoutModel",
            "_view_count": null,
            "_view_module": "@jupyter-widgets/base",
            "_view_module_version": "1.2.0",
            "_view_name": "LayoutView",
            "align_content": null,
            "align_items": null,
            "align_self": null,
            "border": null,
            "bottom": null,
            "display": null,
            "flex": null,
            "flex_flow": null,
            "grid_area": null,
            "grid_auto_columns": null,
            "grid_auto_flow": null,
            "grid_auto_rows": null,
            "grid_column": null,
            "grid_gap": null,
            "grid_row": null,
            "grid_template_areas": null,
            "grid_template_columns": null,
            "grid_template_rows": null,
            "height": null,
            "justify_content": null,
            "justify_items": null,
            "left": null,
            "margin": null,
            "max_height": null,
            "max_width": null,
            "min_height": null,
            "min_width": null,
            "object_fit": null,
            "object_position": null,
            "order": null,
            "overflow": null,
            "overflow_x": null,
            "overflow_y": null,
            "padding": null,
            "right": null,
            "top": null,
            "visibility": null,
            "width": null
          }
        },
        "6ce30bbd7d954ad398eef9d848e917b5": {
          "model_module": "@jupyter-widgets/controls",
          "model_name": "DescriptionStyleModel",
          "model_module_version": "1.5.0",
          "state": {
            "_model_module": "@jupyter-widgets/controls",
            "_model_module_version": "1.5.0",
            "_model_name": "DescriptionStyleModel",
            "_view_count": null,
            "_view_module": "@jupyter-widgets/base",
            "_view_module_version": "1.2.0",
            "_view_name": "StyleView",
            "description_width": ""
          }
        }
      }
    }
  },
  "cells": [
    {
      "cell_type": "code",
      "source": [
        "!pip install -q -U transformers\n",
        "!pip install -q -U accelerate\n",
        "!pip install -q -U bitsandbytes"
      ],
      "metadata": {
        "id": "N9nSQwEgK6pP",
        "colab": {
          "base_uri": "https://localhost:8080/"
        },
        "outputId": "1bfe5128-1e6a-4e77-ac54-3c65502b1709"
      },
      "execution_count": null,
      "outputs": [
        {
          "output_type": "stream",
          "name": "stdout",
          "text": [
            "\u001b[2K     \u001b[90m━━━━━━━━━━━━━━━━━━━━━━━━━━━━━━━━━━━━━━━━\u001b[0m \u001b[32m8.2/8.2 MB\u001b[0m \u001b[31m17.1 MB/s\u001b[0m eta \u001b[36m0:00:00\u001b[0m\n",
            "\u001b[2K     \u001b[90m━━━━━━━━━━━━━━━━━━━━━━━━━━━━━━━━━━━━━━━━\u001b[0m \u001b[32m270.9/270.9 kB\u001b[0m \u001b[31m2.5 MB/s\u001b[0m eta \u001b[36m0:00:00\u001b[0m\n",
            "\u001b[2K     \u001b[90m━━━━━━━━━━━━━━━━━━━━━━━━━━━━━━━━━━━━━━━━\u001b[0m \u001b[32m105.0/105.0 MB\u001b[0m \u001b[31m9.2 MB/s\u001b[0m eta \u001b[36m0:00:00\u001b[0m\n",
            "\u001b[?25h"
          ]
        }
      ]
    },
    {
      "cell_type": "code",
      "source": [
        "from pathlib import Path\n",
        "import pandas as pd\n",
        "\n",
        "from transformers import AutoTokenizer, AutoModelForCausalLM, BitsAndBytesConfig, pipeline\n",
        "import torch\n",
        "import re\n",
        "import os\n",
        "from tqdm import tqdm\n",
        "import random"
      ],
      "metadata": {
        "id": "axPjfVcrJGKn"
      },
      "execution_count": null,
      "outputs": []
    },
    {
      "cell_type": "markdown",
      "source": [
        "## Read Data"
      ],
      "metadata": {
        "id": "CP7w77e5HTUb"
      }
    },
    {
      "cell_type": "code",
      "execution_count": null,
      "metadata": {
        "id": "DSXOlAXOFINk",
        "colab": {
          "base_uri": "https://localhost:8080/"
        },
        "outputId": "7f9fcc03-7590-4d40-949f-de54447d5907"
      },
      "outputs": [
        {
          "output_type": "stream",
          "name": "stdout",
          "text": [
            "Mounted at /content/drive\n"
          ]
        }
      ],
      "source": [
        "from google.colab import drive\n",
        "drive.mount('/content/drive')"
      ]
    },
    {
      "cell_type": "code",
      "source": [
        "BASE_DIR = Path(\"/content/drive/MyDrive/ITMO/RW'23\")\n",
        "DATA_DIR = BASE_DIR.joinpath(\"data\")\n",
        "\n",
        "FILE_NAME = \"data_topic_name_distrib.csv\"\n",
        "\n",
        "FILE = DATA_DIR.joinpath(FILE_NAME)"
      ],
      "metadata": {
        "id": "NxGz3tGeHGsz"
      },
      "execution_count": null,
      "outputs": []
    },
    {
      "cell_type": "code",
      "source": [
        "data = pd.read_csv(FILE)\n",
        "data.head(10)"
      ],
      "metadata": {
        "colab": {
          "base_uri": "https://localhost:8080/",
          "height": 363
        },
        "id": "gYkUIDzRI-yF",
        "outputId": "34603e3f-134a-4c9c-dbc5-fecf54cdc8e5"
      },
      "execution_count": null,
      "outputs": [
        {
          "output_type": "execute_result",
          "data": {
            "text/plain": [
              "                                       INPUT:wordset OUTPUT:quality  \\\n",
              "0  able amaze fill stop glad daily fantastic move...           good   \n",
              "1  absolute mission church nasa mars earth truth ...           good   \n",
              "2  absolute mission church nasa mars earth truth ...           good   \n",
              "3  absolute mission church nasa mars earth truth ...           good   \n",
              "4  absolute mission church nasa mars earth truth ...           good   \n",
              "5  absolutely fast white rice service noodle terr...           good   \n",
              "6  absolutely fast white super service customer r...           good   \n",
              "7  absolutely fast white super service customer r...           good   \n",
              "8  absolutely fast white super service customer r...           good   \n",
              "9  absolutely grain there's process terrible expe...           good   \n",
              "\n",
              "     OUTPUT:topic_name  topic_name_num  \n",
              "0             feelings               1  \n",
              "1           astrology                1  \n",
              "2                 nasa               1  \n",
              "3                space               1  \n",
              "4       space mission                1  \n",
              "5  customer experience               1  \n",
              "6   express expedition               1  \n",
              "7      online shopping               2  \n",
              "8               review               1  \n",
              "9              comment               1  "
            ],
            "text/html": [
              "\n",
              "  <div id=\"df-41239b2f-d4a3-4ef5-85d4-e75b1bfb6f88\" class=\"colab-df-container\">\n",
              "    <div>\n",
              "<style scoped>\n",
              "    .dataframe tbody tr th:only-of-type {\n",
              "        vertical-align: middle;\n",
              "    }\n",
              "\n",
              "    .dataframe tbody tr th {\n",
              "        vertical-align: top;\n",
              "    }\n",
              "\n",
              "    .dataframe thead th {\n",
              "        text-align: right;\n",
              "    }\n",
              "</style>\n",
              "<table border=\"1\" class=\"dataframe\">\n",
              "  <thead>\n",
              "    <tr style=\"text-align: right;\">\n",
              "      <th></th>\n",
              "      <th>INPUT:wordset</th>\n",
              "      <th>OUTPUT:quality</th>\n",
              "      <th>OUTPUT:topic_name</th>\n",
              "      <th>topic_name_num</th>\n",
              "    </tr>\n",
              "  </thead>\n",
              "  <tbody>\n",
              "    <tr>\n",
              "      <th>0</th>\n",
              "      <td>able amaze fill stop glad daily fantastic move...</td>\n",
              "      <td>good</td>\n",
              "      <td>feelings</td>\n",
              "      <td>1</td>\n",
              "    </tr>\n",
              "    <tr>\n",
              "      <th>1</th>\n",
              "      <td>absolute mission church nasa mars earth truth ...</td>\n",
              "      <td>good</td>\n",
              "      <td>astrology</td>\n",
              "      <td>1</td>\n",
              "    </tr>\n",
              "    <tr>\n",
              "      <th>2</th>\n",
              "      <td>absolute mission church nasa mars earth truth ...</td>\n",
              "      <td>good</td>\n",
              "      <td>nasa</td>\n",
              "      <td>1</td>\n",
              "    </tr>\n",
              "    <tr>\n",
              "      <th>3</th>\n",
              "      <td>absolute mission church nasa mars earth truth ...</td>\n",
              "      <td>good</td>\n",
              "      <td>space</td>\n",
              "      <td>1</td>\n",
              "    </tr>\n",
              "    <tr>\n",
              "      <th>4</th>\n",
              "      <td>absolute mission church nasa mars earth truth ...</td>\n",
              "      <td>good</td>\n",
              "      <td>space mission</td>\n",
              "      <td>1</td>\n",
              "    </tr>\n",
              "    <tr>\n",
              "      <th>5</th>\n",
              "      <td>absolutely fast white rice service noodle terr...</td>\n",
              "      <td>good</td>\n",
              "      <td>customer experience</td>\n",
              "      <td>1</td>\n",
              "    </tr>\n",
              "    <tr>\n",
              "      <th>6</th>\n",
              "      <td>absolutely fast white super service customer r...</td>\n",
              "      <td>good</td>\n",
              "      <td>express expedition</td>\n",
              "      <td>1</td>\n",
              "    </tr>\n",
              "    <tr>\n",
              "      <th>7</th>\n",
              "      <td>absolutely fast white super service customer r...</td>\n",
              "      <td>good</td>\n",
              "      <td>online shopping</td>\n",
              "      <td>2</td>\n",
              "    </tr>\n",
              "    <tr>\n",
              "      <th>8</th>\n",
              "      <td>absolutely fast white super service customer r...</td>\n",
              "      <td>good</td>\n",
              "      <td>review</td>\n",
              "      <td>1</td>\n",
              "    </tr>\n",
              "    <tr>\n",
              "      <th>9</th>\n",
              "      <td>absolutely grain there's process terrible expe...</td>\n",
              "      <td>good</td>\n",
              "      <td>comment</td>\n",
              "      <td>1</td>\n",
              "    </tr>\n",
              "  </tbody>\n",
              "</table>\n",
              "</div>\n",
              "    <div class=\"colab-df-buttons\">\n",
              "\n",
              "  <div class=\"colab-df-container\">\n",
              "    <button class=\"colab-df-convert\" onclick=\"convertToInteractive('df-41239b2f-d4a3-4ef5-85d4-e75b1bfb6f88')\"\n",
              "            title=\"Convert this dataframe to an interactive table.\"\n",
              "            style=\"display:none;\">\n",
              "\n",
              "  <svg xmlns=\"http://www.w3.org/2000/svg\" height=\"24px\" viewBox=\"0 -960 960 960\">\n",
              "    <path d=\"M120-120v-720h720v720H120Zm60-500h600v-160H180v160Zm220 220h160v-160H400v160Zm0 220h160v-160H400v160ZM180-400h160v-160H180v160Zm440 0h160v-160H620v160ZM180-180h160v-160H180v160Zm440 0h160v-160H620v160Z\"/>\n",
              "  </svg>\n",
              "    </button>\n",
              "\n",
              "  <style>\n",
              "    .colab-df-container {\n",
              "      display:flex;\n",
              "      gap: 12px;\n",
              "    }\n",
              "\n",
              "    .colab-df-convert {\n",
              "      background-color: #E8F0FE;\n",
              "      border: none;\n",
              "      border-radius: 50%;\n",
              "      cursor: pointer;\n",
              "      display: none;\n",
              "      fill: #1967D2;\n",
              "      height: 32px;\n",
              "      padding: 0 0 0 0;\n",
              "      width: 32px;\n",
              "    }\n",
              "\n",
              "    .colab-df-convert:hover {\n",
              "      background-color: #E2EBFA;\n",
              "      box-shadow: 0px 1px 2px rgba(60, 64, 67, 0.3), 0px 1px 3px 1px rgba(60, 64, 67, 0.15);\n",
              "      fill: #174EA6;\n",
              "    }\n",
              "\n",
              "    .colab-df-buttons div {\n",
              "      margin-bottom: 4px;\n",
              "    }\n",
              "\n",
              "    [theme=dark] .colab-df-convert {\n",
              "      background-color: #3B4455;\n",
              "      fill: #D2E3FC;\n",
              "    }\n",
              "\n",
              "    [theme=dark] .colab-df-convert:hover {\n",
              "      background-color: #434B5C;\n",
              "      box-shadow: 0px 1px 3px 1px rgba(0, 0, 0, 0.15);\n",
              "      filter: drop-shadow(0px 1px 2px rgba(0, 0, 0, 0.3));\n",
              "      fill: #FFFFFF;\n",
              "    }\n",
              "  </style>\n",
              "\n",
              "    <script>\n",
              "      const buttonEl =\n",
              "        document.querySelector('#df-41239b2f-d4a3-4ef5-85d4-e75b1bfb6f88 button.colab-df-convert');\n",
              "      buttonEl.style.display =\n",
              "        google.colab.kernel.accessAllowed ? 'block' : 'none';\n",
              "\n",
              "      async function convertToInteractive(key) {\n",
              "        const element = document.querySelector('#df-41239b2f-d4a3-4ef5-85d4-e75b1bfb6f88');\n",
              "        const dataTable =\n",
              "          await google.colab.kernel.invokeFunction('convertToInteractive',\n",
              "                                                    [key], {});\n",
              "        if (!dataTable) return;\n",
              "\n",
              "        const docLinkHtml = 'Like what you see? Visit the ' +\n",
              "          '<a target=\"_blank\" href=https://colab.research.google.com/notebooks/data_table.ipynb>data table notebook</a>'\n",
              "          + ' to learn more about interactive tables.';\n",
              "        element.innerHTML = '';\n",
              "        dataTable['output_type'] = 'display_data';\n",
              "        await google.colab.output.renderOutput(dataTable, element);\n",
              "        const docLink = document.createElement('div');\n",
              "        docLink.innerHTML = docLinkHtml;\n",
              "        element.appendChild(docLink);\n",
              "      }\n",
              "    </script>\n",
              "  </div>\n",
              "\n",
              "\n",
              "<div id=\"df-cd4a257e-7c29-4ad6-a33b-7a806f2b0de8\">\n",
              "  <button class=\"colab-df-quickchart\" onclick=\"quickchart('df-cd4a257e-7c29-4ad6-a33b-7a806f2b0de8')\"\n",
              "            title=\"Suggest charts\"\n",
              "            style=\"display:none;\">\n",
              "\n",
              "<svg xmlns=\"http://www.w3.org/2000/svg\" height=\"24px\"viewBox=\"0 0 24 24\"\n",
              "     width=\"24px\">\n",
              "    <g>\n",
              "        <path d=\"M19 3H5c-1.1 0-2 .9-2 2v14c0 1.1.9 2 2 2h14c1.1 0 2-.9 2-2V5c0-1.1-.9-2-2-2zM9 17H7v-7h2v7zm4 0h-2V7h2v10zm4 0h-2v-4h2v4z\"/>\n",
              "    </g>\n",
              "</svg>\n",
              "  </button>\n",
              "\n",
              "<style>\n",
              "  .colab-df-quickchart {\n",
              "      --bg-color: #E8F0FE;\n",
              "      --fill-color: #1967D2;\n",
              "      --hover-bg-color: #E2EBFA;\n",
              "      --hover-fill-color: #174EA6;\n",
              "      --disabled-fill-color: #AAA;\n",
              "      --disabled-bg-color: #DDD;\n",
              "  }\n",
              "\n",
              "  [theme=dark] .colab-df-quickchart {\n",
              "      --bg-color: #3B4455;\n",
              "      --fill-color: #D2E3FC;\n",
              "      --hover-bg-color: #434B5C;\n",
              "      --hover-fill-color: #FFFFFF;\n",
              "      --disabled-bg-color: #3B4455;\n",
              "      --disabled-fill-color: #666;\n",
              "  }\n",
              "\n",
              "  .colab-df-quickchart {\n",
              "    background-color: var(--bg-color);\n",
              "    border: none;\n",
              "    border-radius: 50%;\n",
              "    cursor: pointer;\n",
              "    display: none;\n",
              "    fill: var(--fill-color);\n",
              "    height: 32px;\n",
              "    padding: 0;\n",
              "    width: 32px;\n",
              "  }\n",
              "\n",
              "  .colab-df-quickchart:hover {\n",
              "    background-color: var(--hover-bg-color);\n",
              "    box-shadow: 0 1px 2px rgba(60, 64, 67, 0.3), 0 1px 3px 1px rgba(60, 64, 67, 0.15);\n",
              "    fill: var(--button-hover-fill-color);\n",
              "  }\n",
              "\n",
              "  .colab-df-quickchart-complete:disabled,\n",
              "  .colab-df-quickchart-complete:disabled:hover {\n",
              "    background-color: var(--disabled-bg-color);\n",
              "    fill: var(--disabled-fill-color);\n",
              "    box-shadow: none;\n",
              "  }\n",
              "\n",
              "  .colab-df-spinner {\n",
              "    border: 2px solid var(--fill-color);\n",
              "    border-color: transparent;\n",
              "    border-bottom-color: var(--fill-color);\n",
              "    animation:\n",
              "      spin 1s steps(1) infinite;\n",
              "  }\n",
              "\n",
              "  @keyframes spin {\n",
              "    0% {\n",
              "      border-color: transparent;\n",
              "      border-bottom-color: var(--fill-color);\n",
              "      border-left-color: var(--fill-color);\n",
              "    }\n",
              "    20% {\n",
              "      border-color: transparent;\n",
              "      border-left-color: var(--fill-color);\n",
              "      border-top-color: var(--fill-color);\n",
              "    }\n",
              "    30% {\n",
              "      border-color: transparent;\n",
              "      border-left-color: var(--fill-color);\n",
              "      border-top-color: var(--fill-color);\n",
              "      border-right-color: var(--fill-color);\n",
              "    }\n",
              "    40% {\n",
              "      border-color: transparent;\n",
              "      border-right-color: var(--fill-color);\n",
              "      border-top-color: var(--fill-color);\n",
              "    }\n",
              "    60% {\n",
              "      border-color: transparent;\n",
              "      border-right-color: var(--fill-color);\n",
              "    }\n",
              "    80% {\n",
              "      border-color: transparent;\n",
              "      border-right-color: var(--fill-color);\n",
              "      border-bottom-color: var(--fill-color);\n",
              "    }\n",
              "    90% {\n",
              "      border-color: transparent;\n",
              "      border-bottom-color: var(--fill-color);\n",
              "    }\n",
              "  }\n",
              "</style>\n",
              "\n",
              "  <script>\n",
              "    async function quickchart(key) {\n",
              "      const quickchartButtonEl =\n",
              "        document.querySelector('#' + key + ' button');\n",
              "      quickchartButtonEl.disabled = true;  // To prevent multiple clicks.\n",
              "      quickchartButtonEl.classList.add('colab-df-spinner');\n",
              "      try {\n",
              "        const charts = await google.colab.kernel.invokeFunction(\n",
              "            'suggestCharts', [key], {});\n",
              "      } catch (error) {\n",
              "        console.error('Error during call to suggestCharts:', error);\n",
              "      }\n",
              "      quickchartButtonEl.classList.remove('colab-df-spinner');\n",
              "      quickchartButtonEl.classList.add('colab-df-quickchart-complete');\n",
              "    }\n",
              "    (() => {\n",
              "      let quickchartButtonEl =\n",
              "        document.querySelector('#df-cd4a257e-7c29-4ad6-a33b-7a806f2b0de8 button');\n",
              "      quickchartButtonEl.style.display =\n",
              "        google.colab.kernel.accessAllowed ? 'block' : 'none';\n",
              "    })();\n",
              "  </script>\n",
              "</div>\n",
              "    </div>\n",
              "  </div>\n"
            ]
          },
          "metadata": {},
          "execution_count": 5
        }
      ]
    },
    {
      "cell_type": "code",
      "source": [
        "data.info()"
      ],
      "metadata": {
        "colab": {
          "base_uri": "https://localhost:8080/"
        },
        "id": "J-OMbDNbJQBi",
        "outputId": "1cc1a001-4e79-4876-bf0a-5e3e939a688e"
      },
      "execution_count": null,
      "outputs": [
        {
          "output_type": "stream",
          "name": "stdout",
          "text": [
            "<class 'pandas.core.frame.DataFrame'>\n",
            "RangeIndex: 5766 entries, 0 to 5765\n",
            "Data columns (total 4 columns):\n",
            " #   Column             Non-Null Count  Dtype \n",
            "---  ------             --------------  ----- \n",
            " 0   INPUT:wordset      5766 non-null   object\n",
            " 1   OUTPUT:quality     5766 non-null   object\n",
            " 2   OUTPUT:topic_name  5766 non-null   object\n",
            " 3   topic_name_num     5766 non-null   int64 \n",
            "dtypes: int64(1), object(3)\n",
            "memory usage: 180.3+ KB\n"
          ]
        }
      ]
    },
    {
      "cell_type": "code",
      "source": [
        "data_text = list(set(data[\"INPUT:wordset\"]))"
      ],
      "metadata": {
        "id": "XDrtpbLSk8KJ"
      },
      "execution_count": null,
      "outputs": []
    },
    {
      "cell_type": "markdown",
      "source": [
        "##Mistral-7B"
      ],
      "metadata": {
        "id": "Y-eCcgHQKbDq"
      }
    },
    {
      "cell_type": "code",
      "source": [
        "!nvidia-smi"
      ],
      "metadata": {
        "id": "ARNN9pT_J1zB",
        "colab": {
          "base_uri": "https://localhost:8080/"
        },
        "outputId": "3da9b371-5ac8-44e6-806f-17a09da7b458"
      },
      "execution_count": null,
      "outputs": [
        {
          "output_type": "stream",
          "name": "stdout",
          "text": [
            "Sun Jan 14 20:33:07 2024       \n",
            "+---------------------------------------------------------------------------------------+\n",
            "| NVIDIA-SMI 535.104.05             Driver Version: 535.104.05   CUDA Version: 12.2     |\n",
            "|-----------------------------------------+----------------------+----------------------+\n",
            "| GPU  Name                 Persistence-M | Bus-Id        Disp.A | Volatile Uncorr. ECC |\n",
            "| Fan  Temp   Perf          Pwr:Usage/Cap |         Memory-Usage | GPU-Util  Compute M. |\n",
            "|                                         |                      |               MIG M. |\n",
            "|=========================================+======================+======================|\n",
            "|   0  Tesla T4                       Off | 00000000:00:04.0 Off |                    0 |\n",
            "| N/A   58C    P8              10W /  70W |      0MiB / 15360MiB |      0%      Default |\n",
            "|                                         |                      |                  N/A |\n",
            "+-----------------------------------------+----------------------+----------------------+\n",
            "                                                                                         \n",
            "+---------------------------------------------------------------------------------------+\n",
            "| Processes:                                                                            |\n",
            "|  GPU   GI   CI        PID   Type   Process name                            GPU Memory |\n",
            "|        ID   ID                                                             Usage      |\n",
            "|=======================================================================================|\n",
            "|  No running processes found                                                           |\n",
            "+---------------------------------------------------------------------------------------+\n"
          ]
        }
      ]
    },
    {
      "cell_type": "code",
      "source": [
        "bnb_config = BitsAndBytesConfig(\n",
        "    load_in_4bit=True,\n",
        "    bnb_4bit_quant_type=\"nf4\",\n",
        "    bnb_4bit_use_double_quant=True,\n",
        ")"
      ],
      "metadata": {
        "id": "cEyO6R4jbvJO"
      },
      "execution_count": null,
      "outputs": []
    },
    {
      "cell_type": "code",
      "source": [
        "model_name = \"mistralai/Mistral-7B-Instruct-v0.1\"\n",
        "\n",
        "tokenizer = AutoTokenizer.from_pretrained(model_name)\n",
        "model = AutoModelForCausalLM.from_pretrained(\n",
        "        model_name,\n",
        "        load_in_4bit=True,\n",
        "        quantization_config=bnb_config,\n",
        "        torch_dtype=torch.bfloat16,\n",
        "        device_map=\"auto\",\n",
        "        trust_remote_code=True,\n",
        "    )"
      ],
      "metadata": {
        "colab": {
          "base_uri": "https://localhost:8080/",
          "height": 493,
          "referenced_widgets": [
            "b3a25d1c1e0042549d90a506d849fb00",
            "55036d06b67244f29e960b2caf534e9b",
            "2287ea8d2e844e0b9eab1600a388724d",
            "54210a75297d466485f6f1e0068ba744",
            "64fc5fa24ba04eec812598becd00d68d",
            "3c061910b0104b2b895bba55812f1804",
            "59f8eeb5347343858f93ec079a5ea0ec",
            "b567ccb60d094fc685e854841b6d2444",
            "1f21da8d59a04dfeaca422f52a300537",
            "bb19e72ba9844404a9b03689097ac88c",
            "e3231fbafc3c40d7b44bd5727c626676",
            "827cefb3245e4a1dbb1b1bfda4573e17",
            "313e99d1875a403a9dff2d27f12c49ad",
            "8af19448173e4d88979d4e7db8720fdb",
            "0499d3f7c8964c03b6b97ef6efa9b90e",
            "aa04d459e4b04e72be12ea06ed3f8dac",
            "373eceeb66d24c55ab3e1e0122eff5a7",
            "8804ec6a6d2443e9a3899da6ce6f42f8",
            "3d2442fd120147cfb7cd510e4ee0d694",
            "57b35b0df0e14d6d9cfb7806212df316",
            "89ffdca756f04f5b92126a0363407523",
            "a91a43db10d548a9926b4e5e57b70a2f",
            "41e7e200c139435c81e8dcab8f785edd",
            "e94293b92ec94aed9b1aad69ffeb13c8",
            "5f3c5d87ca09486d9814bbc91d57026e",
            "94de107166554775942f6d85bf51a95b",
            "1651649848764893815bbcd3d2a2b692",
            "2db8ec9d14224cf18495e079a3f6fd80",
            "a2c994b2a7c946c293d871b986ecbb49",
            "f9dc0813530b49b4b4fd8eb7f017993b",
            "77d11ac3db544c22931de158c30e171c",
            "0341d23251a54912a3c43c57deb94b4c",
            "8a8a9721f98a48908c08bc2255e5a690",
            "2b1e38802ad5440b97cc11327161576b",
            "8ff773aa9dec4769b247ddd718697ffb",
            "54afb00500bd40c5ad480ebfd38023cb",
            "e7c38d28ebd3453ea0027a98b8fc9aa2",
            "551fbb2a697b4d9e959606f2ea850230",
            "6dbf1c0eb59c43f6a961c685de111df3",
            "2a88f5a7ce1349208c88e5fc5ad60f68",
            "fbd4cc0eb073453eb6db0f3a8bc658af",
            "898f59b228374dd0ad20539a941dbd6b",
            "0518b33fdec548f4826bef80555de596",
            "2731cb2968a94b1a807c5bb1eb770d55",
            "99f4e354e50a40c6a0dce8bf98fdef43",
            "6cb1929ae33f45d282d6bdbb283ffdc2",
            "45d1af41656442a1aa7cf46276c4e758",
            "2b1484a2e2df46c9bbc4ab1159c80fbf",
            "f8c10ba965d340159ad69346b66e522e",
            "d1667516356344889ab5db977247e646",
            "eb218b6c557d4624bf8b876acd4ad55f",
            "8d4edeada6734d5cbc28c004826224eb",
            "7d368206bf654412a7b0c7291574cc30",
            "987b7d173b854adb95a94a02d3a9fc17",
            "f28113f201904513a41b410aaf0f141f",
            "7a4628c427144da68d7af4c41b07b9b0",
            "4153dfb14014482cb7c0f7e4e27a2352",
            "65c28a28599a488c9eaa9debba7a0a55",
            "545ba382d8f04594bb0b720e0e83c0fd",
            "0398017bba894872a5c112c8efc92000",
            "ffd3287e07ce4a5f9e827f5e018e49b3",
            "391469a93a234749b49a453f9dae925c",
            "ba77475a8b3340b1b8ff065453bfdb61",
            "b8835b0e87d4458881acd7bb9670b249",
            "1a482382a89b4b4d830ae9c6b4454bee",
            "aa44f7ccd41048c290b5693ab35b0b37",
            "3113b1f04a9a486eadf36742b27b2af8",
            "904198db2e5b4c98aad855e48d44548c",
            "9c884713da2d44d3a0b7fa7017c9ce9c",
            "3ee41f7242c14efd8664990a46214aa5",
            "f8a6014b439348679d7d7ea6c0685f72",
            "400dc6a4080e480e831b57490b115777",
            "418706b6214b4f30861c85b3c40490ea",
            "7bc6c1709f4c4b55865a595542eba08f",
            "37f3ef124df94b4381209c0091e24545",
            "11c3fdae3dcd478fa4791573b178972a",
            "183aea2c92ca4134b283fcb4e414ffa2",
            "5e2599d714a046e089541f1d5e10fb0b",
            "2e7afba7a38544fc82e632bd41cce88d",
            "78cf6ad26a7e454d9f221daf99cc7184",
            "22249cfc75494044ad60b95264c3b24a",
            "c3200dc629a84d7c835383887e11b908",
            "19aead83e2b64acbacf0dbcaeabb1186",
            "d1c898aa7ebe4b46941b2a16946142fd",
            "19711b46dcce4d32b151805a5f9d462e",
            "475bf883fd994f4f9e01bb4e73a552fb",
            "9cd14a25b9d04148b44a2f42c6672345",
            "0c0f264d858b46d0b7eb9cc8833033d1",
            "5057c850fbd34faea0fb06e317f7545f",
            "7b0bbb2a75a64d9cb70d64e67408e029",
            "91868bb38bbb43439e9f9b2e25662a88",
            "24ebdd85ea1c488db1c667bd53d041ce",
            "a663be68eb5e455c9e9e619cba3e1851",
            "2e8a329faf1d45e3b69989878e3ae0ad",
            "ba41f48a09fe4093ac735788bc647b49",
            "e6e04bc759914dc9b4663b355db1fc92",
            "3fcc7cbc2e534d30b8dd75b1405ad5ce",
            "fffe782e34574b0b84ccedbf92827aef",
            "2ad7d8623c0d40748c38740b75ecbbf5",
            "52aa3a56f5b7469686900fe20b95892b",
            "432a0e6449074c75a9e546c22588e4fe",
            "fd9432cab4b8406b8db70acac28c6f32",
            "42f1dbc5396c440ebf09cce409118253",
            "ead4858c2d2e41c0b3368f3493ffd50f",
            "44d84cbac20744a6aff59a5574ac0c43",
            "30f702c47e2e40ea8c70891de5d500da",
            "9613db0060234bc492d741a0eea7792f",
            "bf0e753f3ca14b97a55a3d4eeefc2de8",
            "da4a293d1c014e16ae1b4385aa5ed89b",
            "a4dd304049904ac5a0dd6d56cf0177ee",
            "f03fbabe581f40ad8ac95458621381df",
            "3661118eab4e4f3fba5b86c7e41a0fed",
            "50b7fa21395241d5b98ed2b13c8af901",
            "87499958970a4e3cbfb5098cfba20a78",
            "aacd1ac301964a7c8d7bc0fe5e6cc659",
            "0abf39543c354978a706ed1829beb9ba",
            "ace2dd97bf9348be82a7b07867aded7a",
            "e5f30175437f4ebe8612204cdf291e11",
            "ce8d0eb200634b3fad4b4f1c5f8e9423",
            "63af3a765bbf4fa488a2130778a5f3e6",
            "6ce30bbd7d954ad398eef9d848e917b5"
          ]
        },
        "id": "LjiaELYRcANF",
        "outputId": "ae3e0ddc-5dce-47e4-c0d3-9ecb8727d26a"
      },
      "execution_count": null,
      "outputs": [
        {
          "output_type": "stream",
          "name": "stderr",
          "text": [
            "/usr/local/lib/python3.10/dist-packages/huggingface_hub/utils/_token.py:88: UserWarning: \n",
            "The secret `HF_TOKEN` does not exist in your Colab secrets.\n",
            "To authenticate with the Hugging Face Hub, create a token in your settings tab (https://huggingface.co/settings/tokens), set it as secret in your Google Colab and restart your session.\n",
            "You will be able to reuse this secret in all of your notebooks.\n",
            "Please note that authentication is recommended but still optional to access public models or datasets.\n",
            "  warnings.warn(\n"
          ]
        },
        {
          "output_type": "display_data",
          "data": {
            "text/plain": [
              "tokenizer_config.json:   0%|          | 0.00/1.47k [00:00<?, ?B/s]"
            ],
            "application/vnd.jupyter.widget-view+json": {
              "version_major": 2,
              "version_minor": 0,
              "model_id": "b3a25d1c1e0042549d90a506d849fb00"
            }
          },
          "metadata": {}
        },
        {
          "output_type": "display_data",
          "data": {
            "text/plain": [
              "tokenizer.model:   0%|          | 0.00/493k [00:00<?, ?B/s]"
            ],
            "application/vnd.jupyter.widget-view+json": {
              "version_major": 2,
              "version_minor": 0,
              "model_id": "827cefb3245e4a1dbb1b1bfda4573e17"
            }
          },
          "metadata": {}
        },
        {
          "output_type": "display_data",
          "data": {
            "text/plain": [
              "tokenizer.json:   0%|          | 0.00/1.80M [00:00<?, ?B/s]"
            ],
            "application/vnd.jupyter.widget-view+json": {
              "version_major": 2,
              "version_minor": 0,
              "model_id": "41e7e200c139435c81e8dcab8f785edd"
            }
          },
          "metadata": {}
        },
        {
          "output_type": "display_data",
          "data": {
            "text/plain": [
              "special_tokens_map.json:   0%|          | 0.00/72.0 [00:00<?, ?B/s]"
            ],
            "application/vnd.jupyter.widget-view+json": {
              "version_major": 2,
              "version_minor": 0,
              "model_id": "2b1e38802ad5440b97cc11327161576b"
            }
          },
          "metadata": {}
        },
        {
          "output_type": "display_data",
          "data": {
            "text/plain": [
              "config.json:   0%|          | 0.00/571 [00:00<?, ?B/s]"
            ],
            "application/vnd.jupyter.widget-view+json": {
              "version_major": 2,
              "version_minor": 0,
              "model_id": "99f4e354e50a40c6a0dce8bf98fdef43"
            }
          },
          "metadata": {}
        },
        {
          "output_type": "display_data",
          "data": {
            "text/plain": [
              "model.safetensors.index.json:   0%|          | 0.00/25.1k [00:00<?, ?B/s]"
            ],
            "application/vnd.jupyter.widget-view+json": {
              "version_major": 2,
              "version_minor": 0,
              "model_id": "7a4628c427144da68d7af4c41b07b9b0"
            }
          },
          "metadata": {}
        },
        {
          "output_type": "display_data",
          "data": {
            "text/plain": [
              "Downloading shards:   0%|          | 0/2 [00:00<?, ?it/s]"
            ],
            "application/vnd.jupyter.widget-view+json": {
              "version_major": 2,
              "version_minor": 0,
              "model_id": "3113b1f04a9a486eadf36742b27b2af8"
            }
          },
          "metadata": {}
        },
        {
          "output_type": "display_data",
          "data": {
            "text/plain": [
              "model-00001-of-00002.safetensors:   0%|          | 0.00/9.94G [00:00<?, ?B/s]"
            ],
            "application/vnd.jupyter.widget-view+json": {
              "version_major": 2,
              "version_minor": 0,
              "model_id": "5e2599d714a046e089541f1d5e10fb0b"
            }
          },
          "metadata": {}
        },
        {
          "output_type": "display_data",
          "data": {
            "text/plain": [
              "model-00002-of-00002.safetensors:   0%|          | 0.00/4.54G [00:00<?, ?B/s]"
            ],
            "application/vnd.jupyter.widget-view+json": {
              "version_major": 2,
              "version_minor": 0,
              "model_id": "5057c850fbd34faea0fb06e317f7545f"
            }
          },
          "metadata": {}
        },
        {
          "output_type": "display_data",
          "data": {
            "text/plain": [
              "Loading checkpoint shards:   0%|          | 0/2 [00:00<?, ?it/s]"
            ],
            "application/vnd.jupyter.widget-view+json": {
              "version_major": 2,
              "version_minor": 0,
              "model_id": "52aa3a56f5b7469686900fe20b95892b"
            }
          },
          "metadata": {}
        },
        {
          "output_type": "display_data",
          "data": {
            "text/plain": [
              "generation_config.json:   0%|          | 0.00/116 [00:00<?, ?B/s]"
            ],
            "application/vnd.jupyter.widget-view+json": {
              "version_major": 2,
              "version_minor": 0,
              "model_id": "f03fbabe581f40ad8ac95458621381df"
            }
          },
          "metadata": {}
        }
      ]
    },
    {
      "cell_type": "markdown",
      "source": [
        "##Inference"
      ],
      "metadata": {
        "id": "vXa7iTmyo5F2"
      }
    },
    {
      "cell_type": "code",
      "source": [
        "def generate_answer(prompt, model, device, temp, n_token):\n",
        "    encoded = tokenizer(prompt, return_tensors=\"pt\", add_special_tokens=False)\n",
        "    model_input = encoded\n",
        "    model_input = model_input.to(device)\n",
        "    generated_ids = model.generate(\n",
        "        **model_input, do_sample=True,\n",
        "        max_new_tokens=n_token,\n",
        "        temperature=temp,\n",
        "        num_return_sequences=1,\n",
        "        pad_token_id=tokenizer.eos_token_id\n",
        "        )\n",
        "    decoded = tokenizer.batch_decode(generated_ids)\n",
        "\n",
        "    return decoded"
      ],
      "metadata": {
        "id": "fFhnoZY8wUXl"
      },
      "execution_count": null,
      "outputs": []
    },
    {
      "cell_type": "code",
      "source": [
        "def extract_substring(input_string):\n",
        "    # pattern = r'\\[/INST\\](.*?)</s>'\n",
        "    # match = re.search(pattern, input_string)\n",
        "    # if match:\n",
        "    #     return match.group(1)\n",
        "    # else:\n",
        "    #     return None\n",
        "    index = input_string.find(\"[/INST]\")\n",
        "    if index != -1:\n",
        "        return input_string[index + len(\"[/INST]\"):]\n",
        "    else:\n",
        "        return \"\""
      ],
      "metadata": {
        "id": "jmTdZzbYT7XF"
      },
      "execution_count": null,
      "outputs": []
    },
    {
      "cell_type": "code",
      "source": [
        "def few_shot_pipeline(instruction, sample, model, device='cpu', temp=0.1, n_token=100):\n",
        "    # Construct prompt\n",
        "    # prompt = f\"\"\"[INST] {instruction}\\n\n",
        "    # Text: {sample}\n",
        "    # Topic:[/INST]\"\"\"\n",
        "    prompt = f\"\"\"<s> [INST] {instruction} {sample} [/INST]\"\"\"\n",
        "    # Generate answer\n",
        "    answer = generate_answer(prompt, model, device, temp, n_token)\n",
        "    # Extract the result\n",
        "    result = extract_substring(answer[0])\n",
        "    return result.replace(\"\\n\", \" \")\n"
      ],
      "metadata": {
        "id": "ptf5_oSdO08X"
      },
      "execution_count": null,
      "outputs": []
    },
    {
      "cell_type": "markdown",
      "source": [
        "####Type I"
      ],
      "metadata": {
        "id": "lPYXOZue-rA3"
      }
    },
    {
      "cell_type": "code",
      "source": [
        "prompt = \"\"\"[INST] Name the common topic with one or few words.\n",
        "Text: absolute mission church nasa mars earth truth lunar shuttle doug telescope symbol planetary libxmu launch\n",
        "Topic: space\n",
        "Text: anonymous public private news crime server religion carry pretty bill cview internet paul hold thought\n",
        "Topic: news\n",
        "Text: apple mouse robert fast processor speed move slow clock week pretty microsoft music chicago jason\n",
        "Topic: [/INST]\"\"\"\n",
        "\n",
        "answer = generate_answer(prompt, model, 'cuda', temp=0.2, n_token=100)\n",
        "\n",
        "print(answer[0])\n"
      ],
      "metadata": {
        "colab": {
          "base_uri": "https://localhost:8080/"
        },
        "id": "Zje12K16oRG-",
        "outputId": "6c2cb397-3cc8-4cf8-d336-dbb50ae796e2"
      },
      "execution_count": null,
      "outputs": [
        {
          "output_type": "stream",
          "name": "stdout",
          "text": [
            "[INST] Name the common topic with one or few words.\n",
            "Text: absolute mission church nasa mars earth truth lunar shuttle doug telescope symbol planetary libxmu launch\n",
            "Topic: space\n",
            "Text: anonymous public private news crime server religion carry pretty bill cview internet paul hold thought\n",
            "Topic: news\n",
            "Text: apple mouse robert fast processor speed move slow clock week pretty microsoft music chicago jason\n",
            "Topic: [/INST] Text: absolute mission church nasa mars earth truth lunar shuttle doug telescope symbol planetary libxmu launch\n",
            "Topic: space\n",
            "\n",
            "Text: anonymous public private news crime server religion carry pretty bill cview internet paul hold thought\n",
            "Topic: news\n",
            "\n",
            "Text: apple mouse robert fast processor speed move slow clock week pretty microsoft music chicago jason\n",
            "Topic: technology</s>\n"
          ]
        }
      ]
    },
    {
      "cell_type": "code",
      "source": [
        "prompt = \"\"\"[INST] Name the common topic with one or few words. Please, make sure you to only return the topic and nothing more.\n",
        "Text: absolute mission church nasa mars earth truth lunar shuttle doug telescope symbol planetary libxmu launch\n",
        "Topic: space\n",
        "Text: anonymous public private news crime server religion carry pretty bill cview internet paul hold thought\n",
        "Topic: news\n",
        "Text: apple mouse robert fast processor speed move slow clock week pretty microsoft music chicago jason\n",
        "Topic: [/INST]\"\"\"\n",
        "\n",
        "answer = generate_answer(prompt, model, 'cuda', temp=0.2, n_token=100)\n",
        "\n",
        "print(answer[0])\n"
      ],
      "metadata": {
        "colab": {
          "base_uri": "https://localhost:8080/"
        },
        "id": "yft8FRkl1urx",
        "outputId": "a823a273-2c88-42ee-d24a-e15e8114054b"
      },
      "execution_count": null,
      "outputs": [
        {
          "output_type": "stream",
          "name": "stdout",
          "text": [
            "[INST] Name the common topic with one or few words. Please, make sure you to only return the topic and nothing more.\n",
            "Text: absolute mission church nasa mars earth truth lunar shuttle doug telescope symbol planetary libxmu launch\n",
            "Topic: space\n",
            "Text: anonymous public private news crime server religion carry pretty bill cview internet paul hold thought\n",
            "Topic: news\n",
            "Text: apple mouse robert fast processor speed move slow clock week pretty microsoft music chicago jason\n",
            "Topic: [/INST] 1. space\n",
            "2. news\n",
            "3. [no topic found in the given text]</s>\n"
          ]
        }
      ]
    },
    {
      "cell_type": "code",
      "source": [
        "# type1_1\n",
        "prompt = \"\"\"[INST] Name the common topic with one or few words.\n",
        "Text: absolute mission church nasa mars earth truth lunar shuttle doug telescope symbol planetary libxmu launch\n",
        "Topic:[/INST]\"\"\"\n",
        "\n",
        "answer = generate_answer(prompt, model, 'cuda', temp=0.3, n_token=100)\n",
        "\n",
        "print(answer[0])"
      ],
      "metadata": {
        "colab": {
          "base_uri": "https://localhost:8080/"
        },
        "id": "X-2BIHLUsoBR",
        "outputId": "fd505f53-7e49-46a3-e96f-b21f4b37cc7b"
      },
      "execution_count": null,
      "outputs": [
        {
          "output_type": "stream",
          "name": "stdout",
          "text": [
            "[INST] Name the common topic with one or few words.\n",
            "Text: absolute mission church nasa mars earth truth lunar shuttle doug telescope symbol planetary libxmu launch\n",
            "Topic:[/INST] Space exploration</s>\n"
          ]
        }
      ]
    },
    {
      "cell_type": "code",
      "source": [
        "prompt = \"\"\"[INST] Name the common topic with one or few words. Please, make sure you to only return the topic and nothing more.\n",
        "Text: anonymous public private news crime server religion carry pretty bill cview internet paul hold thought\n",
        "Topic:[/INST]\"\"\"\n",
        "\n",
        "answer = generate_answer(prompt, model, 'cuda', temp=0.3, n_token=100)\n",
        "\n",
        "print(answer[0])"
      ],
      "metadata": {
        "colab": {
          "base_uri": "https://localhost:8080/"
        },
        "id": "VGvm3LYt1-0M",
        "outputId": "637c4ce6-15d4-4ca7-8d77-d0e1f2e1e1c9"
      },
      "execution_count": null,
      "outputs": [
        {
          "output_type": "stream",
          "name": "stdout",
          "text": [
            "[INST] Name the common topic with one or few words. Please, make sure you to only return the topic and nothing more.\n",
            "Text: anonymous public private news crime server religion carry pretty bill cview internet paul hold thought\n",
            "Topic:[/INST] Topic: Anonymous, Public, Private, News, Crime, Server, Religion, Carry, Pretty, Bill, Cview, Internet, Paul, Hold, Thought.</s>\n"
          ]
        }
      ]
    },
    {
      "cell_type": "code",
      "source": [
        "prompt = \"\"\"[INST] Name the common topic with one or few words. Please, make sure you to only return the label and nothing more.\n",
        "Text: absolute mission church nasa mars earth truth lunar shuttle doug telescope symbol planetary libxmu launch\n",
        "Topic:[/INST]\"\"\"\n",
        "\n",
        "answer = generate_answer(prompt, model, 'cuda', temp=0.3, n_token=100)\n",
        "\n",
        "print(answer[0])"
      ],
      "metadata": {
        "colab": {
          "base_uri": "https://localhost:8080/"
        },
        "id": "aWp1lonl2aJf",
        "outputId": "83096d3d-dbc3-4ace-cb93-10509e0cb03a"
      },
      "execution_count": null,
      "outputs": [
        {
          "output_type": "stream",
          "name": "stdout",
          "text": [
            "[INST] Name the common topic with one or few words. Please, make sure you to only return the label and nothing more.\n",
            "Text: absolute mission church nasa mars earth truth lunar shuttle doug telescope symbol planetary libxmu launch\n",
            "Topic:[/INST] space, mission, church, nasa, mars, earth, truth, lunar, shuttle, doug, telescope, planetary, libxmu, launch</s>\n"
          ]
        }
      ]
    },
    {
      "cell_type": "markdown",
      "source": [
        "####Type II"
      ],
      "metadata": {
        "id": "5HEZCwJ8DsGn"
      }
    },
    {
      "cell_type": "code",
      "source": [
        "prompt = \"\"\"[INST] Analyze the list of words and name the common topic with one or few words.\n",
        "\n",
        "Text: absolute mission church nasa mars earth truth lunar shuttle doug telescope symbol planetary libxmu launch\n",
        "Topic: space\n",
        "Text: bar sweet crunchy yummy cinnamon granola yogurt crunch cereal raisin flake snack almond combination blueberry\n",
        "Topic: sweet and sugar drink\n",
        "Text: apple mouse robert fast processor speed move slow clock week pretty microsoft music chicago jason\n",
        "Topic: [/INST]\"\"\"\n",
        "\n",
        "answer = generate_answer(prompt, model, 'cuda', temp=0.2, n_token=100)\n",
        "\n",
        "print(answer[0])"
      ],
      "metadata": {
        "colab": {
          "base_uri": "https://localhost:8080/"
        },
        "id": "PAzklnJmxUFX",
        "outputId": "a28133a8-ebb4-40a9-eb77-34f71f23fc4f"
      },
      "execution_count": null,
      "outputs": [
        {
          "output_type": "stream",
          "name": "stdout",
          "text": [
            "[INST] Analyze the list of words and name the common topic with one or few words.\n",
            "\n",
            "Text: absolute mission church nasa mars earth truth lunar shuttle doug telescope symbol planetary libxmu launch\n",
            "Topic: space\n",
            "Text: bar sweet crunchy yummy cinnamon granola yogurt crunch cereal raisin flake snack almond combination blueberry\n",
            "Topic: sweet and sugar drink\n",
            "Text: apple mouse robert fast processor speed move slow clock week pretty microsoft music chicago jason\n",
            "Topic: [/INST] 1. \"absolute mission church nasa mars earth truth lunar shuttle doug telescope symbol planetary libxmu launch\" - space exploration\n",
            "2. \"bar sweet crunchy yummy cinnamon granola yogurt crunch cereal raisin flake snack almond combination blueberry\" - breakfast cereals\n",
            "3. \"apple mouse robert fast processor speed move slow clock week pretty microsoft music chicago jason\" - technology and computing</s>\n"
          ]
        }
      ]
    },
    {
      "cell_type": "code",
      "source": [
        "prompt = \"\"\"[INST] Analyze the list of words and name the common topic with one or few words. Please, make sure you to only return the topic and nothing more.\n",
        "\n",
        "Text: absolute mission church nasa mars earth truth lunar shuttle doug telescope symbol planetary libxmu launch\n",
        "Topic: space\n",
        "Text: bar sweet crunchy yummy cinnamon granola yogurt crunch cereal raisin flake snack almond combination blueberry\n",
        "Topic: sweet and sugar drink\n",
        "Text: apple mouse robert fast processor speed move slow clock week pretty microsoft music chicago jason\n",
        "Topic: [/INST]\"\"\"\n",
        "\n",
        "answer = generate_answer(prompt, model, 'cuda', temp=0.2, n_token=100)\n",
        "\n",
        "print(answer[0])"
      ],
      "metadata": {
        "colab": {
          "base_uri": "https://localhost:8080/"
        },
        "id": "shY05RFh25ji",
        "outputId": "f85ae933-293f-4ce3-801f-00d6a16b44ac"
      },
      "execution_count": null,
      "outputs": [
        {
          "output_type": "stream",
          "name": "stdout",
          "text": [
            "[INST] Analyze the list of words and name the common topic with one or few words. Please, make sure you to only return the topic and nothing more.\n",
            "\n",
            "Text: absolute mission church nasa mars earth truth lunar shuttle doug telescope symbol planetary libxmu launch\n",
            "Topic: space\n",
            "Text: bar sweet crunchy yummy cinnamon granola yogurt crunch cereal raisin flake snack almond combination blueberry\n",
            "Topic: sweet and sugar drink\n",
            "Text: apple mouse robert fast processor speed move slow clock week pretty microsoft music chicago jason\n",
            "Topic: [/INST] Text: absolute mission church nasa mars earth truth lunar shuttle doug telescope symbol planetary libxmu launch\n",
            "Topic: space\n",
            "\n",
            "Text: bar sweet crunchy yummy cinnamon granola yogurt crunch cereal raisin flake snack almond combination blueberry\n",
            "Topic: sweet and sugar drink\n",
            "\n",
            "Text: apple mouse robert fast processor speed move slow clock week pretty microsoft music chicago jason\n",
            "Topic: computer and technology</s>\n"
          ]
        }
      ]
    },
    {
      "cell_type": "code",
      "source": [
        "prompt = \"\"\"[INST] Analyze the list of words and name the common topic with one or few words.\n",
        "\n",
        "Text: apple mouse robert fast processor speed move slow clock week pretty microsoft music chicago jason\n",
        "Topic:[/INST]\"\"\"\n",
        "\n",
        "answer = generate_answer(prompt, model, 'cuda', temp=0.2, n_token=100)\n",
        "\n",
        "print(answer[0])"
      ],
      "metadata": {
        "colab": {
          "base_uri": "https://localhost:8080/"
        },
        "id": "UPWaPg_JthsH",
        "outputId": "4979c028-229f-4f85-d059-bd047c3b7620"
      },
      "execution_count": null,
      "outputs": [
        {
          "output_type": "stream",
          "name": "stdout",
          "text": [
            "[INST] Analyze the list of words and name the common topic with one or few words.\n",
            "\n",
            "Text: apple mouse robert fast processor speed move slow clock week pretty microsoft music chicago jason\n",
            "Topic:[/INST] Technology, Computers, Software, Music, Microsoft, Processor, Speed, Clock, Chicago, Jason.</s>\n"
          ]
        }
      ]
    },
    {
      "cell_type": "code",
      "source": [
        "# type2_1\n",
        "prompt = \"\"\"[INST] Analyze the list of words and name the common topic with one or few words. Please, make sure you to only return the topic and nothing more.\n",
        "\n",
        "Text: apple mouse robert fast processor speed move slow clock week pretty microsoft music chicago jason\n",
        "Topic:[/INST]\"\"\"\n",
        "\n",
        "answer = generate_answer(prompt, model, 'cuda', temp=0.2, n_token=100)\n",
        "\n",
        "print(answer[0])"
      ],
      "metadata": {
        "colab": {
          "base_uri": "https://localhost:8080/"
        },
        "id": "IlqMPIh-3rp7",
        "outputId": "edbf4a00-1142-41b2-d855-55b310b663f9"
      },
      "execution_count": null,
      "outputs": [
        {
          "output_type": "stream",
          "name": "stdout",
          "text": [
            "[INST] Analyze the list of words and name the common topic with one or few words. Please, make sure you to only return the topic and nothing more.\n",
            "\n",
            "Text: apple mouse robert fast processor speed move slow clock week pretty microsoft music chicago jason\n",
            "Topic:[/INST] Technology</s>\n"
          ]
        }
      ]
    },
    {
      "cell_type": "markdown",
      "source": [
        "####Type III"
      ],
      "metadata": {
        "id": "88SUQmOCD0d8"
      }
    },
    {
      "cell_type": "code",
      "source": [
        "prompt = \"\"\"[INST] You will receive a list of words and you should analyze it and name the common topic with one or few words.\n",
        "Text: absolute mission church nasa mars earth truth lunar shuttle doug telescope symbol planetary libxmu launch\n",
        "Topic: space\n",
        "Text: anonymous public private news crime server religion carry pretty bill cview internet paul hold thought\n",
        "Topic: news\n",
        "Text: apple mouse robert fast processor speed move slow clock week pretty microsoft music chicago jason\n",
        "Topic: [/INST]\"\"\"\n",
        "\n",
        "answer = generate_answer(prompt, model, 'cuda', temp=0.3, n_token=100)\n",
        "\n",
        "print(answer[0])"
      ],
      "metadata": {
        "colab": {
          "base_uri": "https://localhost:8080/"
        },
        "id": "ow3RO4ueyeF_",
        "outputId": "55e8ac6d-8750-4dd0-fecc-31a6217341b5"
      },
      "execution_count": null,
      "outputs": [
        {
          "output_type": "stream",
          "name": "stdout",
          "text": [
            "[INST] You will receive a list of words and you should analyze it and name the common topic with one or few words.\n",
            "Text: absolute mission church nasa mars earth truth lunar shuttle doug telescope symbol planetary libxmu launch\n",
            "Topic: space\n",
            "Text: anonymous public private news crime server religion carry pretty bill cview internet paul hold thought\n",
            "Topic: news\n",
            "Text: apple mouse robert fast processor speed move slow clock week pretty microsoft music chicago jason\n",
            "Topic: [/INST] Technology\n",
            "\n",
            "Text: absolute mission church nasa mars earth truth lunar shuttle doug telescope symbol planetary libxmu launch\n",
            "Topic: space\n",
            "\n",
            "Text: anonymous public private news crime server religion carry pretty bill cview internet paul hold thought\n",
            "Topic: news\n",
            "\n",
            "Text: apple mouse robert fast processor speed move slow clock week pretty microsoft music chicago jason\n",
            "Topic: Technology</s>\n"
          ]
        }
      ]
    },
    {
      "cell_type": "code",
      "source": [
        "prompt = \"\"\"[INST] You will receive a list of words and you should analyze it and name the common topic with one or few words. Please, make sure you to only return the topic and nothing more.\n",
        "Text: absolute mission church nasa mars earth truth lunar shuttle doug telescope symbol planetary libxmu launch\n",
        "Topic: space\n",
        "Text: anonymous public private news crime server religion carry pretty bill cview internet paul hold thought\n",
        "Topic: news\n",
        "Text: apple mouse robert fast processor speed move slow clock week pretty microsoft music chicago jason\n",
        "Topic: [/INST]\"\"\"\n",
        "\n",
        "answer = generate_answer(prompt, model, 'cuda', temp=0.3, n_token=100)\n",
        "\n",
        "print(answer[0])"
      ],
      "metadata": {
        "colab": {
          "base_uri": "https://localhost:8080/"
        },
        "id": "jlKDaRq4uO7K",
        "outputId": "57a626da-737a-420c-d69d-008a69d333f5"
      },
      "execution_count": null,
      "outputs": [
        {
          "output_type": "stream",
          "name": "stdout",
          "text": [
            "[INST] You will receive a list of words and you should analyze it and name the common topic with one or few words. Please, make sure you to only return the topic and nothing more.\n",
            "Text: absolute mission church nasa mars earth truth lunar shuttle doug telescope symbol planetary libxmu launch\n",
            "Topic: space\n",
            "Text: anonymous public private news crime server religion carry pretty bill cview internet paul hold thought\n",
            "Topic: news\n",
            "Text: apple mouse robert fast processor speed move slow clock week pretty microsoft music chicago jason\n",
            "Topic: [/INST] Text: absolute mission church nasa mars earth truth lunar shuttle doug telescope symbol planetary libxmu launch\n",
            "Topic: space\n",
            "\n",
            "Text: anonymous public private news crime server religion carry pretty bill cview internet paul hold thought\n",
            "Topic: news\n",
            "\n",
            "Text: apple mouse robert fast processor speed move slow clock week pretty microsoft music chicago jason\n",
            "Topic: technology</s>\n"
          ]
        }
      ]
    },
    {
      "cell_type": "code",
      "source": [
        "# type 3_1\n",
        "prompt = \"\"\"[INST] You will receive a list of words and you should analyze it and name the common topic with one or few words.\n",
        "Text: anonymous public private news crime server religion carry pretty bill cview internet paul hold thought\n",
        "Topic: [/INST]\"\"\"\n",
        "\n",
        "answer = generate_answer(prompt, model, 'cuda', temp=0.3, n_token=100)\n",
        "\n",
        "print(answer[0])"
      ],
      "metadata": {
        "colab": {
          "base_uri": "https://localhost:8080/"
        },
        "id": "Et_I2wr1t8wE",
        "outputId": "4847476f-20fd-4b81-b349-be2ba8582e83"
      },
      "execution_count": null,
      "outputs": [
        {
          "output_type": "stream",
          "name": "stdout",
          "text": [
            "[INST] You will receive a list of words and you should analyze it and name the common topic with one or few words.\n",
            "Text: anonymous public private news crime server religion carry pretty bill cview internet paul hold thought\n",
            "Topic: [/INST] The common topic in the given list of words is \"news\" and \"crime\".</s>\n"
          ]
        }
      ]
    },
    {
      "cell_type": "code",
      "source": [
        "prompt = \"\"\"[INST] You will receive a list of words and you should analyze it and name the common topic with one or few words. Please, make sure you to only return the topic and nothing more.\n",
        "Text: anonymous public private news crime server religion carry pretty bill cview internet paul hold thought\n",
        "Topic: [/INST]\"\"\"\n",
        "\n",
        "answer = generate_answer(prompt, model, 'cuda', temp=0.3, n_token=100)\n",
        "\n",
        "print(answer[0])"
      ],
      "metadata": {
        "colab": {
          "base_uri": "https://localhost:8080/"
        },
        "id": "CS2ClVq-uFgb",
        "outputId": "8e609e2c-19b8-4715-b8fe-ae418385013a"
      },
      "execution_count": null,
      "outputs": [
        {
          "output_type": "stream",
          "name": "stdout",
          "text": [
            "[INST] You will receive a list of words and you should analyze it and name the common topic with one or few words. Please, make sure you to only return the topic and nothing more.\n",
            "Text: anonymous public private news crime server religion carry pretty bill cview internet paul hold thought\n",
            "Topic: [/INST] Crime, Religion, Internet, News, Politics</s>\n"
          ]
        }
      ]
    },
    {
      "cell_type": "code",
      "source": [
        "prompt = \"\"\"[INST] You will receive a list of words and you should analyze it and name the common topic with one or few words. Please, make sure you to only return the label and nothing more.\n",
        "Text: anonymous public private news crime server religion carry pretty bill cview internet paul hold thought\n",
        "Topic: [/INST]\"\"\"\n",
        "\n",
        "answer = generate_answer(prompt, model, 'cuda', temp=0.3, n_token=100)\n",
        "\n",
        "print(answer[0])"
      ],
      "metadata": {
        "colab": {
          "base_uri": "https://localhost:8080/"
        },
        "id": "qDUJivCH5v5B",
        "outputId": "88bb60cb-92c3-4959-aa8a-75970816b19d"
      },
      "execution_count": null,
      "outputs": [
        {
          "output_type": "stream",
          "name": "stdout",
          "text": [
            "[INST] You will receive a list of words and you should analyze it and name the common topic with one or few words. Please, make sure you to only return the label and nothing more.\n",
            "Text: anonymous public private news crime server religion carry pretty bill cview internet paul hold thought\n",
            "Topic: [/INST] crime, news, religion, internet, bill, cview, paul, hold, thought</s>\n"
          ]
        }
      ]
    },
    {
      "cell_type": "markdown",
      "source": [
        "####Type IV"
      ],
      "metadata": {
        "id": "IKCtghKQD9K1"
      }
    },
    {
      "cell_type": "code",
      "source": [
        "prompt = \"\"\"[INST] You are a helpful, respectful and honest assistant for labeling topics. You will receive a list of words and you should analyze it and label list of words with one or few words.\n",
        "\n",
        "Text: absolute mission church nasa mars earth truth lunar shuttle doug telescope symbol planetary libxmu launch\n",
        "Label: space\n",
        "Text: anonymous public private news crime server religion carry pretty bill cview internet paul hold thought\n",
        "Label: news\n",
        "Text: apple mouse robert fast processor speed move slow clock week pretty microsoft music chicago jason\n",
        "Label: [/INST]\"\"\"\n",
        "\n",
        "answer = generate_answer(prompt, model, 'cuda', temp=0.3, n_token=100)\n",
        "\n",
        "print(answer[0])"
      ],
      "metadata": {
        "colab": {
          "base_uri": "https://localhost:8080/"
        },
        "id": "prOWQMEQzuF1",
        "outputId": "e67d0a16-4201-4683-8d66-7912678c4204"
      },
      "execution_count": null,
      "outputs": [
        {
          "output_type": "stream",
          "name": "stdout",
          "text": [
            "[INST] You are a helpful, respectful and honest assistant for labeling topics. You will receive a list of words and you should analyze it and label list of words with one or few words.\n",
            "\n",
            "Text: absolute mission church nasa mars earth truth lunar shuttle doug telescope symbol planetary libxmu launch\n",
            "Label: space\n",
            "Text: anonymous public private news crime server religion carry pretty bill cview internet paul hold thought\n",
            "Label: news\n",
            "Text: apple mouse robert fast processor speed move slow clock week pretty microsoft music chicago jason\n",
            "Label: [/INST] Text: absolute mission church nasa mars earth truth lunar shuttle doug telescope symbol planetary libxmu launch\n",
            "Label: space\n",
            "\n",
            "Text: anonymous public private news crime server religion carry pretty bill cview internet paul hold thought\n",
            "Label: news\n",
            "\n",
            "Text: apple mouse robert fast processor speed move slow clock week pretty microsoft music chicago jason\n",
            "Label: technology</s>\n"
          ]
        }
      ]
    },
    {
      "cell_type": "code",
      "source": [
        "prompt = \"\"\"[INST] You are a helpful, respectful and honest assistant for labeling topics. You will receive a list of words and you should analyze it and label list of words with one or few words. Please, make sure you to only return the label and nothing more.\n",
        "\n",
        "Text: absolute mission church nasa mars earth truth lunar shuttle doug telescope symbol planetary libxmu launch\n",
        "Label: space\n",
        "Text: anonymous public private news crime server religion carry pretty bill cview internet paul hold thought\n",
        "Label: news\n",
        "Text: apple mouse robert fast processor speed move slow clock week pretty microsoft music chicago jason\n",
        "Label: [/INST]\"\"\"\n",
        "\n",
        "answer = generate_answer(prompt, model, 'cuda', temp=0.3, n_token=100)\n",
        "\n",
        "print(answer[0])"
      ],
      "metadata": {
        "colab": {
          "base_uri": "https://localhost:8080/"
        },
        "id": "wt4iMjwpuqS5",
        "outputId": "66fbf945-5286-4850-a9e8-bd43f2cc2b6b"
      },
      "execution_count": null,
      "outputs": [
        {
          "output_type": "stream",
          "name": "stdout",
          "text": [
            "[INST] You are a helpful, respectful and honest assistant for labeling topics. You will receive a list of words and you should analyze it and label list of words with one or few words. Please, make sure you to only return the label and nothing more.\n",
            "\n",
            "Text: absolute mission church nasa mars earth truth lunar shuttle doug telescope symbol planetary libxmu launch\n",
            "Label: space\n",
            "Text: anonymous public private news crime server religion carry pretty bill cview internet paul hold thought\n",
            "Label: news\n",
            "Text: apple mouse robert fast processor speed move slow clock week pretty microsoft music chicago jason\n",
            "Label: [/INST] Label: technology\n",
            "\n",
            "Text: absolute mission church nasa mars earth truth lunar shuttle doug telescope symbol planetary libxmu launch\n",
            "Label: space\n",
            "\n",
            "Text: anonymous public private news crime server religion carry pretty bill cview internet paul hold thought\n",
            "Label: news\n",
            "\n",
            "Text: apple mouse robert fast processor speed move slow clock week pretty microsoft music chicago jason\n",
            "Label: technology</s>\n"
          ]
        }
      ]
    },
    {
      "cell_type": "code",
      "source": [
        "prompt = \"\"\"[INST] You are a helpful, respectful and honest assistant for labeling topics. You will receive a list of words and you should analyze it and label list of words with one or few words.\n",
        "\n",
        "Text: apple mouse robert fast processor speed move slow clock week pretty microsoft music chicago jason\n",
        "Label: [/INST]\"\"\"\n",
        "\n",
        "answer = generate_answer(prompt, model, 'cuda', temp=0.3, n_token=100)\n",
        "\n",
        "print(answer[0])"
      ],
      "metadata": {
        "colab": {
          "base_uri": "https://localhost:8080/"
        },
        "id": "ZKQ-o1gGugR2",
        "outputId": "f67a1be9-3ceb-475d-867a-2836b74f87ef"
      },
      "execution_count": null,
      "outputs": [
        {
          "output_type": "stream",
          "name": "stdout",
          "text": [
            "[INST] You are a helpful, respectful and honest assistant for labeling topics. You will receive a list of words and you should analyze it and label list of words with one or few words.\n",
            "\n",
            "Text: apple mouse robert fast processor speed move slow clock week pretty microsoft music chicago jason\n",
            "Label: [/INST] * apple: fruit\n",
            "* mouse: computer mouse\n",
            "* robert: name\n",
            "* fast: speed\n",
            "* processor: computer component\n",
            "* speed: computer performance\n",
            "* move: action\n",
            "* slow: speed\n",
            "* clock: timekeeping device\n",
            "* week: time period\n",
            "* pretty: appearance\n",
            "* microsoft: company\n",
            "* music: genre of sound\n",
            "* chicago: city\n",
            "* jason: name</s>\n"
          ]
        }
      ]
    },
    {
      "cell_type": "code",
      "source": [
        "prompt = \"\"\"[INST] You are a helpful, respectful and honest assistant for labeling topics. You will receive a list of words and you should analyze it and label list of words with one or few words.\n",
        "\n",
        "Text: apple mouse robert fast processor speed move slow clock week pretty microsoft music chicago jason\n",
        "Label: [/INST]\"\"\"\n",
        "\n",
        "answer = generate_answer(prompt, model, 'cuda', temp=0.3, n_token=100)\n",
        "\n",
        "print(answer[0])"
      ],
      "metadata": {
        "colab": {
          "base_uri": "https://localhost:8080/"
        },
        "id": "T9fPm3_P6Hw3",
        "outputId": "914f8e5d-e0b6-4fb3-89ae-b16a4ba511f1"
      },
      "execution_count": null,
      "outputs": [
        {
          "output_type": "stream",
          "name": "stdout",
          "text": [
            "[INST] You are a helpful, respectful and honest assistant for labeling topics. You will receive a list of words and you should analyze it and label list of words with one or few words. Please, make sure you to only return the label and nothing more.\n",
            "\n",
            "Text: apple mouse robert fast processor speed move slow clock week pretty microsoft music chicago jason\n",
            "Label: [/INST] apple: fruit\n",
            "mouse: computer mouse\n",
            "robert: name\n",
            "fast: speed\n",
            "processor: computer component\n",
            "speed: performance\n",
            "move: action\n",
            "slow: pace\n",
            "clock: timekeeping device\n",
            "week: time unit\n",
            "pretty: appearance\n",
            "microsoft: company\n",
            "music: genre\n",
            "chicago: city\n",
            "jason: name</s>\n"
          ]
        }
      ]
    },
    {
      "cell_type": "code",
      "source": [
        "prompt = \"\"\"[INST] You are a helpful, respectful and honest assistant for labeling topics. You will receive a list of words and you should analyze it and label list of words with one or few words. Please, make sure you to only return the topic and nothing more.\n",
        "\n",
        "Text: apple mouse robert fast processor speed move slow clock week pretty microsoft music chicago jason\n",
        "Label: [/INST]\"\"\"\n",
        "\n",
        "answer = generate_answer(prompt, model, 'cuda', temp=0.3, n_token=100)\n",
        "\n",
        "print(answer[0])"
      ],
      "metadata": {
        "colab": {
          "base_uri": "https://localhost:8080/"
        },
        "id": "roh5JWDN6QNw",
        "outputId": "fdf40b71-a65e-480c-96b2-48055ec72dac"
      },
      "execution_count": null,
      "outputs": [
        {
          "output_type": "stream",
          "name": "stdout",
          "text": [
            "[INST] You are a helpful, respectful and honest assistant for labeling topics. You will receive a list of words and you should analyze it and label list of words with one or few words. Please, make sure you to only return the topic and nothing more.\n",
            "\n",
            "Text: apple mouse robert fast processor speed move slow clock week pretty microsoft music chicago jason\n",
            "Label: [/INST] apple, mouse, robert, fast, processor, speed, move, slow, clock, week, pretty, microsoft, music, chicago, jason</s>\n"
          ]
        }
      ]
    },
    {
      "cell_type": "code",
      "source": [
        "prompt = \"\"\"[INST] You are the topic modeling assistant. You should extract the main theme that combines all the words from the list. Formulate it with a single word: apple mouse robert fast processor speed move slow clock week pretty microsoft music chicago jason [/INST]\"\"\"\n",
        "\n",
        "answer = generate_answer(prompt, model, 'cuda', temp=0.1, n_token=100)\n",
        "\n",
        "print(answer[0])"
      ],
      "metadata": {
        "colab": {
          "base_uri": "https://localhost:8080/"
        },
        "id": "CW1W-8zTtKv2",
        "outputId": "38fe26fa-0871-4e5b-a089-aebd8dc59bd7"
      },
      "execution_count": null,
      "outputs": [
        {
          "output_type": "stream",
          "name": "stdout",
          "text": [
            "[INST] You are the topic modeling assistant. You should extract the main theme that combines all the words from the list. Formulate it with a single word: apple mouse robert fast processor speed move slow clock week pretty microsoft music chicago jason [/INST] The main theme that combines all the words from the list is \"technology\".</s>\n"
          ]
        }
      ]
    },
    {
      "cell_type": "code",
      "source": [
        "prompt = \"\"\"[INST] You are the topic modeling assistant. You should extract the main theme that combines all the words from the list. Formulate it with a single word: absolute mission church nasa mars earth truth lunar shuttle doug telescope symbol planetary libxmu launch [/INST]\"\"\"\n",
        "\n",
        "answer = generate_answer(prompt, model, 'cuda', temp=0.1, n_token=100)\n",
        "\n",
        "print(answer[0])"
      ],
      "metadata": {
        "colab": {
          "base_uri": "https://localhost:8080/"
        },
        "id": "8L1gENIDtc-g",
        "outputId": "24a6e520-3339-4521-e7f7-03d0996921c1"
      },
      "execution_count": null,
      "outputs": [
        {
          "output_type": "stream",
          "name": "stdout",
          "text": [
            "[INST] You are the topic modeling assistant. You should extract the main theme that combines all the words from the list. Formulate it with a single word: absolute mission church nasa mars earth truth lunar shuttle doug telescope symbol planetary libxmu launch [/INST] The main theme that combines all the words from the list is \"Space\".</s>\n"
          ]
        }
      ]
    },
    {
      "cell_type": "code",
      "source": [
        "prompt = \"\"\"[INST] You are the topic modeling assistant. You should extract the main theme that combines all the words from the list. Formulate it with a single word: anonymous public private news crime server religion carry pretty bill cview internet paul hold thought [/INST]\"\"\"\n",
        "\n",
        "answer = generate_answer(prompt, model, 'cuda', temp=0.1, n_token=100)\n",
        "\n",
        "print(answer[0])"
      ],
      "metadata": {
        "colab": {
          "base_uri": "https://localhost:8080/"
        },
        "id": "ovaBr8BOtlC4",
        "outputId": "83897fd8-e4e2-4762-d66a-a613e09225e5"
      },
      "execution_count": null,
      "outputs": [
        {
          "output_type": "stream",
          "name": "stdout",
          "text": [
            "[INST] You are the topic modeling assistant. You should extract the main theme that combines all the words from the list. Formulate it with a single word: anonymous public private news crime server religion carry pretty bill cview internet paul hold thought [/INST] The main theme that combines all the words from the list is \"Privacy\".</s>\n"
          ]
        }
      ]
    },
    {
      "cell_type": "code",
      "source": [
        "prompt = \"\"\"[INST] You are the topic modeling assistant. You should extract the main theme that combines all the words from the list. Formulate it with a single word: greek turkish turkey cross armenia henrik turk greece plane azeri link cyprus allocation minority conflict [/INST]\"\"\"\n",
        "\n",
        "answer = generate_answer(prompt, model, 'cuda', temp=0.1, n_token=100)\n",
        "\n",
        "print(answer[0])"
      ],
      "metadata": {
        "colab": {
          "base_uri": "https://localhost:8080/"
        },
        "id": "jr7ne-tOttx2",
        "outputId": "8c358544-0cb9-4c0f-f53a-32b07de848e0"
      },
      "execution_count": null,
      "outputs": [
        {
          "output_type": "stream",
          "name": "stdout",
          "text": [
            "[INST] You are the topic modeling assistant. You should extract the main theme that combines all the words from the list. Formulate it with a single word: greek turkish turkey cross armenia henrik turk greece plane azeri link cyprus allocation minority conflict [/INST] The main theme that combines all the words from the list is \"ethnicity.\"</s>\n"
          ]
        }
      ]
    },
    {
      "cell_type": "markdown",
      "source": [
        "##Type I -> All dataset"
      ],
      "metadata": {
        "id": "i34U_cfGGfzK"
      }
    },
    {
      "cell_type": "code",
      "source": [
        "INSTRUCTION = \"\"\"Name the common topic with one or few words.\"\"\"\n",
        "\n",
        "SAMPLE = data_text[0]\n",
        "\n",
        "res = few_shot_pipeline(INSTRUCTION, SAMPLE, model, device=\"cuda\")\n",
        "\n",
        "res"
      ],
      "metadata": {
        "colab": {
          "base_uri": "https://localhost:8080/",
          "height": 36
        },
        "id": "qkJ4l9qi9n2e",
        "outputId": "07dd9c93-3388-41eb-98a9-febead8dfafd"
      },
      "execution_count": null,
      "outputs": [
        {
          "output_type": "execute_result",
          "data": {
            "text/plain": [
              "' Peace Proposal'"
            ],
            "application/vnd.google.colaboratory.intrinsic+json": {
              "type": "string"
            }
          },
          "metadata": {},
          "execution_count": 98
        }
      ]
    },
    {
      "cell_type": "code",
      "source": [
        "random.seed(42)\n",
        "random.shuffle(data_text)"
      ],
      "metadata": {
        "id": "KvmebwKIUZ5P"
      },
      "execution_count": null,
      "outputs": []
    },
    {
      "cell_type": "code",
      "source": [
        "data_text[:10]"
      ],
      "metadata": {
        "colab": {
          "base_uri": "https://localhost:8080/"
        },
        "id": "y0fRpNWA99A1",
        "outputId": "70dc910d-04c7-4835-8df1-c553cd27c2c3"
      },
      "execution_count": null,
      "outputs": [
        {
          "output_type": "execute_result",
          "data": {
            "text/plain": [
              "['policy peace israeli arab israel proposal tyre center research border elia country nmsu conflict subject',\n",
              " 'drinking mild espresso aftertaste brewing latte sip weird enjoy way guest might machine still appeal',\n",
              " 'local piece grocery sell deal carry market glad online break hop surprised unfortunately whole flour',\n",
              " \"value teeth difficult msg pea bone spent rawh jasmine glutamate what's monosodium europe inexpensive potential\",\n",
              " 'bill fire koresh clinton scott child batf compound stratus waco cult tear agent burn today',\n",
              " 'way drinking mild aftertaste espresso weird sip latte either oppose mellow appeal richer overprice wonderfully',\n",
              " 'nasa launch orbit satellite mission moon earth shuttle rocket lunar flight spacecraft probe mars solar',\n",
              " 'price phone bike sell email company offer cost sale send technology internet distribution money looking',\n",
              " 'printer radio signal print design output input quality audio engineering level build circuit digital electronics',\n",
              " 'scsi controller fast interface speed bios transfer card disk jumper feature pope standard mode devices']"
            ]
          },
          "metadata": {},
          "execution_count": 78
        }
      ]
    },
    {
      "cell_type": "code",
      "source": [
        "# Create file\n",
        "RES_FILE_NAME = \"data_topic_name_distrib_mistral_7b_4bit_type1_1.csv\"\n",
        "RES_FILE = DATA_DIR.joinpath(RES_FILE_NAME)\n",
        "# Remove old file\n",
        "if os.path.exists(RES_FILE):\n",
        "    os.remove(RES_FILE)\n",
        "with open(RES_FILE, 'a') as file:\n",
        "    for i in tqdm(range(len(data_text))):\n",
        "    # for i in tqdm(range(10)):\n",
        "        SAMPLE = data_text[i]\n",
        "        res_model = few_shot_pipeline(\n",
        "            INSTRUCTION,\n",
        "            SAMPLE,\n",
        "            model,\n",
        "            device=\"cuda\",\n",
        "            temp=0.2,\n",
        "            n_token=100\n",
        "        )\n",
        "        file.write(f\"{SAMPLE};{res_model}\\n\")\n"
      ],
      "metadata": {
        "colab": {
          "base_uri": "https://localhost:8080/"
        },
        "id": "dC-ogyp4VNei",
        "outputId": "7066c376-dddd-4c8a-d293-da38fc086f40"
      },
      "execution_count": null,
      "outputs": [
        {
          "output_type": "stream",
          "name": "stderr",
          "text": [
            "100%|██████████| 2363/2363 [58:53<00:00,  1.50s/it]\n"
          ]
        }
      ]
    },
    {
      "cell_type": "markdown",
      "source": [
        "##Type II Entire Dataset"
      ],
      "metadata": {
        "id": "jTBq8wOnSoJS"
      }
    },
    {
      "cell_type": "code",
      "source": [
        "INSTRUCTION = \"\"\"Analyze the list of words and name the common topic with one or few words. Please, make sure you to only return the topic and nothing more.\"\"\"\n",
        "\n",
        "SAMPLE = data_text[102]\n",
        "\n",
        "res = few_shot_pipeline(INSTRUCTION, SAMPLE, model, device=\"cuda\")\n",
        "\n",
        "res"
      ],
      "metadata": {
        "id": "YLlBWdgtVO07",
        "colab": {
          "base_uri": "https://localhost:8080/",
          "height": 35
        },
        "outputId": "e73bfc00-8af4-41c4-e7fa-b511b66dc025"
      },
      "execution_count": null,
      "outputs": [
        {
          "output_type": "execute_result",
          "data": {
            "text/plain": [
              "' space'"
            ],
            "application/vnd.google.colaboratory.intrinsic+json": {
              "type": "string"
            }
          },
          "metadata": {},
          "execution_count": 14
        }
      ]
    },
    {
      "cell_type": "code",
      "source": [
        "random.seed(42)\n",
        "random.shuffle(data_text)"
      ],
      "metadata": {
        "id": "6PQFW9DkS0WY"
      },
      "execution_count": null,
      "outputs": []
    },
    {
      "cell_type": "code",
      "source": [
        "data_text[:10]"
      ],
      "metadata": {
        "colab": {
          "base_uri": "https://localhost:8080/"
        },
        "id": "V2JGp5-rtR9x",
        "outputId": "4447f0df-fdb9-4684-daf6-46236e9f7ac7"
      },
      "execution_count": null,
      "outputs": [
        {
          "output_type": "execute_result",
          "data": {
            "text/plain": [
              "['care marriage insurance couple child poor mark public abortion money coverage live free health rent',\n",
              " 'offer copy sale asking condition manual email title sell price excellent brand original shipping send',\n",
              " 'player baseball season period brave league ball smith score hitter pitch pitcher boston pitching dave',\n",
              " 'window display screen color manager server application create pixel visual client colors size colormap pixmap',\n",
              " 'item deal shop anymore supply donut sampler many lavazza buck recieved disappoint cornbread dunkin kill',\n",
              " 'israel israeli palestinian west bank suck joke arab bias medium territory stup palestine report cand',\n",
              " 'mark care couple insurance marriage married coverage rent abortion poor speech wilson marry clinic free',\n",
              " 'oil popcorn spice everything pop season olive chai cooking christmas garlic fish movie worst mustard',\n",
              " 'monitor speed fast card mode cards hardware machine memory upgrade clock processor slow performance cache',\n",
              " 'israel pres israeli encryption public security arab country clipper policy chip drug attack clinton administration']"
            ]
          },
          "metadata": {},
          "execution_count": 16
        }
      ]
    },
    {
      "cell_type": "code",
      "source": [
        "# Create file\n",
        "RES_FILE_NAME = \"data_topic_name_distrib_mistral_7b_4bit_type2_1.csv\"\n",
        "RES_FILE = DATA_DIR.joinpath(RES_FILE_NAME)\n",
        "\n",
        "res_df = pd.read_csv(RES_FILE, names=[1,2], sep=\";\")"
      ],
      "metadata": {
        "id": "YpoyzZLFtUbi"
      },
      "execution_count": null,
      "outputs": []
    },
    {
      "cell_type": "code",
      "source": [
        "res_df"
      ],
      "metadata": {
        "colab": {
          "base_uri": "https://localhost:8080/",
          "height": 424
        },
        "id": "EXXuCT0atlHX",
        "outputId": "9b876718-811d-43c0-944e-57d24dbcd56c"
      },
      "execution_count": null,
      "outputs": [
        {
          "output_type": "execute_result",
          "data": {
            "text/plain": [
              "                                                      1  \\\n",
              "0     player period season baseball boston pittsburg...   \n",
              "1     science theory scientific knowledge process ro...   \n",
              "2     turkish muslim greek turk turkey islam populat...   \n",
              "3     calorie protein low fat coconut diet fiber sod...   \n",
              "4     turkish muslim turk greek turkey armenia genoc...   \n",
              "...                                                 ...   \n",
              "1870  nasa science research earth center anonymous o...   \n",
              "1871  science theory scientific knowledge process ro...   \n",
              "1872  scsi controller interface disk transfer bios f...   \n",
              "1873  quite expect bread wish recipe thing melt bake...   \n",
              "1874  science theory scientific rochester experiment...   \n",
              "\n",
              "                                                      2  \n",
              "0                                              baseball  \n",
              "1      science, theory, knowledge, process, experime...  \n",
              "2      The common topic in the list of words is \"Isl...  \n",
              "3      The common topic in this list of words is \"di...  \n",
              "4      The common topic in the given list of words i...  \n",
              "...                                                 ...  \n",
              "1870   NASA, science, research, earth, center, anony...  \n",
              "1871   science, theory, knowledge, process, experime...  \n",
              "1872   scsi controller, interface, disk transfer, bi...  \n",
              "1873                                             Baking  \n",
              "1874   science, theory, experiment, knowledge, scien...  \n",
              "\n",
              "[1875 rows x 2 columns]"
            ],
            "text/html": [
              "\n",
              "  <div id=\"df-8f2400e8-1c43-4b3f-aea2-b925f13fbf25\" class=\"colab-df-container\">\n",
              "    <div>\n",
              "<style scoped>\n",
              "    .dataframe tbody tr th:only-of-type {\n",
              "        vertical-align: middle;\n",
              "    }\n",
              "\n",
              "    .dataframe tbody tr th {\n",
              "        vertical-align: top;\n",
              "    }\n",
              "\n",
              "    .dataframe thead th {\n",
              "        text-align: right;\n",
              "    }\n",
              "</style>\n",
              "<table border=\"1\" class=\"dataframe\">\n",
              "  <thead>\n",
              "    <tr style=\"text-align: right;\">\n",
              "      <th></th>\n",
              "      <th>1</th>\n",
              "      <th>2</th>\n",
              "    </tr>\n",
              "  </thead>\n",
              "  <tbody>\n",
              "    <tr>\n",
              "      <th>0</th>\n",
              "      <td>player period season baseball boston pittsburg...</td>\n",
              "      <td>baseball</td>\n",
              "    </tr>\n",
              "    <tr>\n",
              "      <th>1</th>\n",
              "      <td>science theory scientific knowledge process ro...</td>\n",
              "      <td>science, theory, knowledge, process, experime...</td>\n",
              "    </tr>\n",
              "    <tr>\n",
              "      <th>2</th>\n",
              "      <td>turkish muslim greek turk turkey islam populat...</td>\n",
              "      <td>The common topic in the list of words is \"Isl...</td>\n",
              "    </tr>\n",
              "    <tr>\n",
              "      <th>3</th>\n",
              "      <td>calorie protein low fat coconut diet fiber sod...</td>\n",
              "      <td>The common topic in this list of words is \"di...</td>\n",
              "    </tr>\n",
              "    <tr>\n",
              "      <th>4</th>\n",
              "      <td>turkish muslim turk greek turkey armenia genoc...</td>\n",
              "      <td>The common topic in the given list of words i...</td>\n",
              "    </tr>\n",
              "    <tr>\n",
              "      <th>...</th>\n",
              "      <td>...</td>\n",
              "      <td>...</td>\n",
              "    </tr>\n",
              "    <tr>\n",
              "      <th>1870</th>\n",
              "      <td>nasa science research earth center anonymous o...</td>\n",
              "      <td>NASA, science, research, earth, center, anony...</td>\n",
              "    </tr>\n",
              "    <tr>\n",
              "      <th>1871</th>\n",
              "      <td>science theory scientific knowledge process ro...</td>\n",
              "      <td>science, theory, knowledge, process, experime...</td>\n",
              "    </tr>\n",
              "    <tr>\n",
              "      <th>1872</th>\n",
              "      <td>scsi controller interface disk transfer bios f...</td>\n",
              "      <td>scsi controller, interface, disk transfer, bi...</td>\n",
              "    </tr>\n",
              "    <tr>\n",
              "      <th>1873</th>\n",
              "      <td>quite expect bread wish recipe thing melt bake...</td>\n",
              "      <td>Baking</td>\n",
              "    </tr>\n",
              "    <tr>\n",
              "      <th>1874</th>\n",
              "      <td>science theory scientific rochester experiment...</td>\n",
              "      <td>science, theory, experiment, knowledge, scien...</td>\n",
              "    </tr>\n",
              "  </tbody>\n",
              "</table>\n",
              "<p>1875 rows × 2 columns</p>\n",
              "</div>\n",
              "    <div class=\"colab-df-buttons\">\n",
              "\n",
              "  <div class=\"colab-df-container\">\n",
              "    <button class=\"colab-df-convert\" onclick=\"convertToInteractive('df-8f2400e8-1c43-4b3f-aea2-b925f13fbf25')\"\n",
              "            title=\"Convert this dataframe to an interactive table.\"\n",
              "            style=\"display:none;\">\n",
              "\n",
              "  <svg xmlns=\"http://www.w3.org/2000/svg\" height=\"24px\" viewBox=\"0 -960 960 960\">\n",
              "    <path d=\"M120-120v-720h720v720H120Zm60-500h600v-160H180v160Zm220 220h160v-160H400v160Zm0 220h160v-160H400v160ZM180-400h160v-160H180v160Zm440 0h160v-160H620v160ZM180-180h160v-160H180v160Zm440 0h160v-160H620v160Z\"/>\n",
              "  </svg>\n",
              "    </button>\n",
              "\n",
              "  <style>\n",
              "    .colab-df-container {\n",
              "      display:flex;\n",
              "      gap: 12px;\n",
              "    }\n",
              "\n",
              "    .colab-df-convert {\n",
              "      background-color: #E8F0FE;\n",
              "      border: none;\n",
              "      border-radius: 50%;\n",
              "      cursor: pointer;\n",
              "      display: none;\n",
              "      fill: #1967D2;\n",
              "      height: 32px;\n",
              "      padding: 0 0 0 0;\n",
              "      width: 32px;\n",
              "    }\n",
              "\n",
              "    .colab-df-convert:hover {\n",
              "      background-color: #E2EBFA;\n",
              "      box-shadow: 0px 1px 2px rgba(60, 64, 67, 0.3), 0px 1px 3px 1px rgba(60, 64, 67, 0.15);\n",
              "      fill: #174EA6;\n",
              "    }\n",
              "\n",
              "    .colab-df-buttons div {\n",
              "      margin-bottom: 4px;\n",
              "    }\n",
              "\n",
              "    [theme=dark] .colab-df-convert {\n",
              "      background-color: #3B4455;\n",
              "      fill: #D2E3FC;\n",
              "    }\n",
              "\n",
              "    [theme=dark] .colab-df-convert:hover {\n",
              "      background-color: #434B5C;\n",
              "      box-shadow: 0px 1px 3px 1px rgba(0, 0, 0, 0.15);\n",
              "      filter: drop-shadow(0px 1px 2px rgba(0, 0, 0, 0.3));\n",
              "      fill: #FFFFFF;\n",
              "    }\n",
              "  </style>\n",
              "\n",
              "    <script>\n",
              "      const buttonEl =\n",
              "        document.querySelector('#df-8f2400e8-1c43-4b3f-aea2-b925f13fbf25 button.colab-df-convert');\n",
              "      buttonEl.style.display =\n",
              "        google.colab.kernel.accessAllowed ? 'block' : 'none';\n",
              "\n",
              "      async function convertToInteractive(key) {\n",
              "        const element = document.querySelector('#df-8f2400e8-1c43-4b3f-aea2-b925f13fbf25');\n",
              "        const dataTable =\n",
              "          await google.colab.kernel.invokeFunction('convertToInteractive',\n",
              "                                                    [key], {});\n",
              "        if (!dataTable) return;\n",
              "\n",
              "        const docLinkHtml = 'Like what you see? Visit the ' +\n",
              "          '<a target=\"_blank\" href=https://colab.research.google.com/notebooks/data_table.ipynb>data table notebook</a>'\n",
              "          + ' to learn more about interactive tables.';\n",
              "        element.innerHTML = '';\n",
              "        dataTable['output_type'] = 'display_data';\n",
              "        await google.colab.output.renderOutput(dataTable, element);\n",
              "        const docLink = document.createElement('div');\n",
              "        docLink.innerHTML = docLinkHtml;\n",
              "        element.appendChild(docLink);\n",
              "      }\n",
              "    </script>\n",
              "  </div>\n",
              "\n",
              "\n",
              "<div id=\"df-81f0643c-90ec-4804-ae43-321a06ecc351\">\n",
              "  <button class=\"colab-df-quickchart\" onclick=\"quickchart('df-81f0643c-90ec-4804-ae43-321a06ecc351')\"\n",
              "            title=\"Suggest charts\"\n",
              "            style=\"display:none;\">\n",
              "\n",
              "<svg xmlns=\"http://www.w3.org/2000/svg\" height=\"24px\"viewBox=\"0 0 24 24\"\n",
              "     width=\"24px\">\n",
              "    <g>\n",
              "        <path d=\"M19 3H5c-1.1 0-2 .9-2 2v14c0 1.1.9 2 2 2h14c1.1 0 2-.9 2-2V5c0-1.1-.9-2-2-2zM9 17H7v-7h2v7zm4 0h-2V7h2v10zm4 0h-2v-4h2v4z\"/>\n",
              "    </g>\n",
              "</svg>\n",
              "  </button>\n",
              "\n",
              "<style>\n",
              "  .colab-df-quickchart {\n",
              "      --bg-color: #E8F0FE;\n",
              "      --fill-color: #1967D2;\n",
              "      --hover-bg-color: #E2EBFA;\n",
              "      --hover-fill-color: #174EA6;\n",
              "      --disabled-fill-color: #AAA;\n",
              "      --disabled-bg-color: #DDD;\n",
              "  }\n",
              "\n",
              "  [theme=dark] .colab-df-quickchart {\n",
              "      --bg-color: #3B4455;\n",
              "      --fill-color: #D2E3FC;\n",
              "      --hover-bg-color: #434B5C;\n",
              "      --hover-fill-color: #FFFFFF;\n",
              "      --disabled-bg-color: #3B4455;\n",
              "      --disabled-fill-color: #666;\n",
              "  }\n",
              "\n",
              "  .colab-df-quickchart {\n",
              "    background-color: var(--bg-color);\n",
              "    border: none;\n",
              "    border-radius: 50%;\n",
              "    cursor: pointer;\n",
              "    display: none;\n",
              "    fill: var(--fill-color);\n",
              "    height: 32px;\n",
              "    padding: 0;\n",
              "    width: 32px;\n",
              "  }\n",
              "\n",
              "  .colab-df-quickchart:hover {\n",
              "    background-color: var(--hover-bg-color);\n",
              "    box-shadow: 0 1px 2px rgba(60, 64, 67, 0.3), 0 1px 3px 1px rgba(60, 64, 67, 0.15);\n",
              "    fill: var(--button-hover-fill-color);\n",
              "  }\n",
              "\n",
              "  .colab-df-quickchart-complete:disabled,\n",
              "  .colab-df-quickchart-complete:disabled:hover {\n",
              "    background-color: var(--disabled-bg-color);\n",
              "    fill: var(--disabled-fill-color);\n",
              "    box-shadow: none;\n",
              "  }\n",
              "\n",
              "  .colab-df-spinner {\n",
              "    border: 2px solid var(--fill-color);\n",
              "    border-color: transparent;\n",
              "    border-bottom-color: var(--fill-color);\n",
              "    animation:\n",
              "      spin 1s steps(1) infinite;\n",
              "  }\n",
              "\n",
              "  @keyframes spin {\n",
              "    0% {\n",
              "      border-color: transparent;\n",
              "      border-bottom-color: var(--fill-color);\n",
              "      border-left-color: var(--fill-color);\n",
              "    }\n",
              "    20% {\n",
              "      border-color: transparent;\n",
              "      border-left-color: var(--fill-color);\n",
              "      border-top-color: var(--fill-color);\n",
              "    }\n",
              "    30% {\n",
              "      border-color: transparent;\n",
              "      border-left-color: var(--fill-color);\n",
              "      border-top-color: var(--fill-color);\n",
              "      border-right-color: var(--fill-color);\n",
              "    }\n",
              "    40% {\n",
              "      border-color: transparent;\n",
              "      border-right-color: var(--fill-color);\n",
              "      border-top-color: var(--fill-color);\n",
              "    }\n",
              "    60% {\n",
              "      border-color: transparent;\n",
              "      border-right-color: var(--fill-color);\n",
              "    }\n",
              "    80% {\n",
              "      border-color: transparent;\n",
              "      border-right-color: var(--fill-color);\n",
              "      border-bottom-color: var(--fill-color);\n",
              "    }\n",
              "    90% {\n",
              "      border-color: transparent;\n",
              "      border-bottom-color: var(--fill-color);\n",
              "    }\n",
              "  }\n",
              "</style>\n",
              "\n",
              "  <script>\n",
              "    async function quickchart(key) {\n",
              "      const quickchartButtonEl =\n",
              "        document.querySelector('#' + key + ' button');\n",
              "      quickchartButtonEl.disabled = true;  // To prevent multiple clicks.\n",
              "      quickchartButtonEl.classList.add('colab-df-spinner');\n",
              "      try {\n",
              "        const charts = await google.colab.kernel.invokeFunction(\n",
              "            'suggestCharts', [key], {});\n",
              "      } catch (error) {\n",
              "        console.error('Error during call to suggestCharts:', error);\n",
              "      }\n",
              "      quickchartButtonEl.classList.remove('colab-df-spinner');\n",
              "      quickchartButtonEl.classList.add('colab-df-quickchart-complete');\n",
              "    }\n",
              "    (() => {\n",
              "      let quickchartButtonEl =\n",
              "        document.querySelector('#df-81f0643c-90ec-4804-ae43-321a06ecc351 button');\n",
              "      quickchartButtonEl.style.display =\n",
              "        google.colab.kernel.accessAllowed ? 'block' : 'none';\n",
              "    })();\n",
              "  </script>\n",
              "</div>\n",
              "    </div>\n",
              "  </div>\n"
            ]
          },
          "metadata": {},
          "execution_count": 19
        }
      ]
    },
    {
      "cell_type": "code",
      "source": [
        "words_lst = res_df[1]"
      ],
      "metadata": {
        "id": "zQcJLlXc2_dd"
      },
      "execution_count": null,
      "outputs": []
    },
    {
      "cell_type": "code",
      "source": [
        "new_words_lst = [words for words in data_text if words not in list(words_lst)]"
      ],
      "metadata": {
        "id": "RkAiIPXQuyIX"
      },
      "execution_count": null,
      "outputs": []
    },
    {
      "cell_type": "code",
      "source": [
        "print(len(data_text))\n",
        "print(len(new_words_lst) + len(words_lst))"
      ],
      "metadata": {
        "colab": {
          "base_uri": "https://localhost:8080/"
        },
        "id": "EzLm52fKvm8H",
        "outputId": "b9f12025-affc-4840-c0e8-231a12887ad2"
      },
      "execution_count": null,
      "outputs": [
        {
          "output_type": "stream",
          "name": "stdout",
          "text": [
            "2363\n",
            "2363\n"
          ]
        }
      ]
    },
    {
      "cell_type": "code",
      "source": [
        "len(new_words_lst)"
      ],
      "metadata": {
        "colab": {
          "base_uri": "https://localhost:8080/"
        },
        "id": "_9ynqR7U3G5Y",
        "outputId": "d230a79b-bbe5-437a-d31c-9f23654b0e67"
      },
      "execution_count": null,
      "outputs": [
        {
          "output_type": "execute_result",
          "data": {
            "text/plain": [
              "488"
            ]
          },
          "metadata": {},
          "execution_count": 23
        }
      ]
    },
    {
      "cell_type": "code",
      "source": [
        "# Create file\n",
        "RES_FILE_NAME = \"data_topic_name_distrib_mistral_7b_4bit_type2_1.csv\"\n",
        "RES_FILE = DATA_DIR.joinpath(RES_FILE_NAME)\n",
        "# # Remove old file\n",
        "# if os.path.exists(RES_FILE):\n",
        "#     os.remove(RES_FILE)\n",
        "for i in tqdm(range(len(new_words_lst))):\n",
        "# for i in tqdm(range(10)):\n",
        "    SAMPLE = data_text[i]\n",
        "    res_model = few_shot_pipeline(\n",
        "        INSTRUCTION,\n",
        "        SAMPLE,\n",
        "        model,\n",
        "        device=\"cuda\",\n",
        "        temp=0.3,\n",
        "        n_token=100\n",
        "    )\n",
        "    with open(RES_FILE, 'a') as file:\n",
        "      file.write(f\"{SAMPLE};{res_model}\\n\")\n"
      ],
      "metadata": {
        "colab": {
          "base_uri": "https://localhost:8080/"
        },
        "id": "7_yjmTXiTggR",
        "outputId": "8c445bd1-69b6-4123-c27a-7512acbf5153"
      },
      "execution_count": null,
      "outputs": [
        {
          "output_type": "stream",
          "name": "stderr",
          "text": [
            "100%|██████████| 488/488 [23:41<00:00,  2.91s/it]\n"
          ]
        }
      ]
    },
    {
      "cell_type": "markdown",
      "source": [
        "##Type III Entire Dataset"
      ],
      "metadata": {
        "id": "hFE8BAkKEwdy"
      }
    },
    {
      "cell_type": "code",
      "source": [
        "INSTRUCTION = \"\"\"You will receive a list of words and you should analyze it and name the common topic with one or few words.\"\"\"\n",
        "\n",
        "SAMPLE = data_text[180]\n",
        "\n",
        "res = few_shot_pipeline(INSTRUCTION, SAMPLE, model, device=\"cuda\")\n",
        "\n",
        "res"
      ],
      "metadata": {
        "id": "7WU0MGIGTr19",
        "colab": {
          "base_uri": "https://localhost:8080/",
          "height": 35
        },
        "outputId": "2e1a97f5-9a29-472c-8148-be559872e489"
      },
      "execution_count": null,
      "outputs": [
        {
          "output_type": "execute_result",
          "data": {
            "text/plain": [
              "' The common topic in the given text is \"diet\" and \"healthy eating.\"'"
            ],
            "application/vnd.google.colaboratory.intrinsic+json": {
              "type": "string"
            }
          },
          "metadata": {},
          "execution_count": 30
        }
      ]
    },
    {
      "cell_type": "code",
      "source": [
        "random.seed(42)\n",
        "random.shuffle(data_text)"
      ],
      "metadata": {
        "id": "f0vMLZg6FJZG"
      },
      "execution_count": null,
      "outputs": []
    },
    {
      "cell_type": "code",
      "source": [
        "# Create file\n",
        "RES_FILE_NAME = \"data_topic_name_distrib_mistral_7b_4bit_type3_1.csv\"\n",
        "RES_FILE = DATA_DIR.joinpath(RES_FILE_NAME)\n",
        "# Remove old file\n",
        "if os.path.exists(RES_FILE):\n",
        "    os.remove(RES_FILE)\n",
        "with open(RES_FILE, 'a') as file:\n",
        "    for i in tqdm(range(len(data_text))):\n",
        "    # for i in tqdm(range(10)):\n",
        "        SAMPLE = data_text[i]\n",
        "        res_model = few_shot_pipeline(\n",
        "            INSTRUCTION,\n",
        "            SAMPLE,\n",
        "            model,\n",
        "            device=\"cuda\",\n",
        "            temp=0.3,\n",
        "            n_token=100\n",
        "        )\n",
        "        file.write(f\"{SAMPLE};{res_model}\\n\")\n"
      ],
      "metadata": {
        "colab": {
          "base_uri": "https://localhost:8080/"
        },
        "id": "cmMoEt49FTAd",
        "outputId": "359e1ecd-5aab-4a6d-ee3a-897617dd3a2e"
      },
      "execution_count": null,
      "outputs": [
        {
          "output_type": "stream",
          "name": "stderr",
          "text": [
            "100%|██████████| 2363/2363 [1:41:28<00:00,  2.58s/it]\n"
          ]
        }
      ]
    },
    {
      "cell_type": "markdown",
      "source": [
        "### NEW"
      ],
      "metadata": {
        "id": "VXIks8JPuDzm"
      }
    },
    {
      "cell_type": "code",
      "source": [
        "INSTRUCTION = \"\"\"You are the topic modeling assistant. You should extract the main theme that combines all the words from the list. Formulate it with a single word:\"\"\"\n",
        "\n",
        "SAMPLE = data_text[180]\n",
        "\n",
        "res = few_shot_pipeline(INSTRUCTION, SAMPLE, model, device=\"cuda\")\n",
        "\n",
        "res"
      ],
      "metadata": {
        "id": "LVs2UHuyFadf",
        "colab": {
          "base_uri": "https://localhost:8080/",
          "height": 73
        },
        "outputId": "5f09e8d1-73e2-4035-e160-7f77d4e2caae"
      },
      "execution_count": null,
      "outputs": [
        {
          "output_type": "stream",
          "name": "stdout",
          "text": [
            "<s> [INST] You are the topic modeling assistant. You should extract the main theme that combines all the words from the list. Formulate it with a single word: health medical national cancer increase among report child research center april newsletter page fnal volume [/INST]\n"
          ]
        },
        {
          "output_type": "execute_result",
          "data": {
            "text/plain": [
              "' The main theme that combines all the words from the list is \"health.\"</s>'"
            ],
            "application/vnd.google.colaboratory.intrinsic+json": {
              "type": "string"
            }
          },
          "metadata": {},
          "execution_count": 28
        }
      ]
    },
    {
      "cell_type": "code",
      "source": [
        "random.seed(42)\n",
        "random.shuffle(data_text)"
      ],
      "metadata": {
        "id": "L8ryGGliuKLw"
      },
      "execution_count": null,
      "outputs": []
    },
    {
      "cell_type": "code",
      "source": [
        "# Create file\n",
        "RES_FILE_NAME = \"data_topic_name_distrib_mistral_7b_4bit_type_new.csv\"\n",
        "RES_FILE = DATA_DIR.joinpath(RES_FILE_NAME)\n",
        "# Remove old file\n",
        "if os.path.exists(RES_FILE):\n",
        "    os.remove(RES_FILE)\n",
        "for i in tqdm(range(len(data_text))):\n",
        "# for i in tqdm(range(20)):\n",
        "    torch.cuda.empty_cache()\n",
        "    SAMPLE = data_text[i]\n",
        "    res_model = few_shot_pipeline(\n",
        "        INSTRUCTION,\n",
        "        SAMPLE,\n",
        "        model,\n",
        "        device=\"cuda\",\n",
        "        temp=0.3,\n",
        "        n_token=100\n",
        "    )\n",
        "    # print(res_model)\n",
        "    with open(RES_FILE, 'a') as file:\n",
        "        file.write(f\"{SAMPLE};{res_model}\\n\")\n"
      ],
      "metadata": {
        "colab": {
          "base_uri": "https://localhost:8080/"
        },
        "id": "sfWgb632ugpX",
        "outputId": "aba11791-26ea-4cdc-aeb0-4e0415b8b6d0"
      },
      "execution_count": null,
      "outputs": [
        {
          "output_type": "stream",
          "name": "stderr",
          "text": [
            "100%|██████████| 2363/2363 [1:23:16<00:00,  2.11s/it]\n"
          ]
        }
      ]
    },
    {
      "cell_type": "code",
      "source": [],
      "metadata": {
        "id": "Vfg-CuPEuylb"
      },
      "execution_count": null,
      "outputs": []
    }
  ]
}